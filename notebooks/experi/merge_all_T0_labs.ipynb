{
 "cells": [
  {
   "cell_type": "code",
   "execution_count": null,
   "id": "0",
   "metadata": {
    "tags": []
   },
   "outputs": [],
   "source": [
    "import os\n",
    "import sys\n",
    "from functools import reduce\n",
    "import pandas as pd\n",
    "import numpy as np\n",
    "import seaborn as sns\n",
    "import matplotlib.pyplot as plt\n",
    "import ipywidgets as widgets\n",
    "\n",
    "sys.path.insert(0, '../../')\n",
    "from brickstudy import foundation"
   ]
  },
  {
   "cell_type": "code",
   "execution_count": null,
   "id": "1",
   "metadata": {
    "tags": []
   },
   "outputs": [],
   "source": [
    "additional_labs = pd.read_csv('Z:/Aida_experiment/Transform_labs/Invuloefening_resterende_labT015082024.csv', sep=\",\")\n",
    "additional_labs.head(4)"
   ]
  },
  {
   "cell_type": "code",
   "execution_count": null,
   "id": "2",
   "metadata": {},
   "outputs": [],
   "source": [
    "# change effective date-time --> dd-mm-yyyy\n",
    "\n",
    "on albumin <0.002, == 0.002"
   ]
  },
  {
   "cell_type": "code",
   "execution_count": null,
   "id": "3",
   "metadata": {
    "tags": []
   },
   "outputs": [],
   "source": [
    "len(additional_labs)"
   ]
  },
  {
   "cell_type": "code",
   "execution_count": null,
   "id": "4",
   "metadata": {
    "tags": []
   },
   "outputs": [],
   "source": [
    "additional_labs.columns"
   ]
  },
  {
   "cell_type": "code",
   "execution_count": null,
   "id": "5",
   "metadata": {
    "tags": []
   },
   "outputs": [],
   "source": [
    "additonal_labs_set = set(additional_labs.columns)"
   ]
  },
  {
   "cell_type": "code",
   "execution_count": null,
   "id": "6",
   "metadata": {
    "tags": []
   },
   "outputs": [],
   "source": [
    "our_done_labs= pd.read_csv('../../secret_data/castor_with_salt_first_measurement_moment_labsvconcaty.csv',index_col=0 )\n",
    "our_done_labs.head(3)"
   ]
  },
  {
   "cell_type": "code",
   "execution_count": null,
   "id": "7",
   "metadata": {
    "tags": []
   },
   "outputs": [],
   "source": [
    "our_labs_done_set = set(our_done_labs.columns)"
   ]
  },
  {
   "cell_type": "code",
   "execution_count": null,
   "id": "8",
   "metadata": {
    "tags": []
   },
   "outputs": [],
   "source": [
    "additonal_labs_set - our_labs_done_set"
   ]
  },
  {
   "cell_type": "code",
   "execution_count": null,
   "id": "9",
   "metadata": {
    "tags": []
   },
   "outputs": [],
   "source": [
    "our_done_labs.columns"
   ]
  },
  {
   "cell_type": "code",
   "execution_count": null,
   "id": "10",
   "metadata": {
    "tags": []
   },
   "outputs": [],
   "source": [
    "additional_labs = additional_labs.rename(columns={'Participant Id':'Participant ID'})"
   ]
  },
  {
   "cell_type": "code",
   "execution_count": null,
   "id": "11",
   "metadata": {
    "tags": []
   },
   "outputs": [],
   "source": [
    "additional_labs"
   ]
  },
  {
   "cell_type": "code",
   "execution_count": null,
   "id": "12",
   "metadata": {
    "tags": []
   },
   "outputs": [],
   "source": [
    "additional_labs.columns"
   ]
  },
  {
   "cell_type": "code",
   "execution_count": null,
   "id": "13",
   "metadata": {
    "tags": []
   },
   "outputs": [],
   "source": [
    "additional_labs = additional_labs.drop(['Participant Creation Date','BRICK_biobank_ID'], axis=1)\n",
    "additional_labs.head(3)"
   ]
  },
  {
   "cell_type": "code",
   "execution_count": null,
   "id": "14",
   "metadata": {
    "tags": []
   },
   "outputs": [],
   "source": [
    "additional_labs.columns"
   ]
  },
  {
   "cell_type": "code",
   "execution_count": null,
   "id": "15",
   "metadata": {
    "tags": []
   },
   "outputs": [],
   "source": [
    "additional_labs= additional_labs[['Participant ID', 'Participant Status', 'Site Abbreviation',\n",
    "       'effectiveDateTime_blood_lab0', 'effectiveDateTime_urine_lab0', 'CRP0',\n",
    "       'FERT0', 'TROMBO0', 'MCV0', 'K00', 'FOLZ0', 'HB0', 'HT0', 'UREU0',\n",
    "       'VITD0', 'GGT0', 'ALB_U0', 'SCHWARTZ_Bedsite0', 'ASAT0', 'ERY0',\n",
    "       'TBIL0', 'DBIL0', 'TE_U0', 'TRAF0', 'AFOS0', 'NA0', 'GRAT0', 'LDH0',\n",
    "       'FE0', 'ALB_U_KR0', 'B120', 'LEU0', 'RETI0', 'TSAT0', 'KREA_U0',\n",
    "       'ALAT0', 'KREA0', 'TE_U_KR0', 'NRCA0', 'RDW0',\n",
    "       'blood_urine_t0_samedate']]"
   ]
  },
  {
   "cell_type": "code",
   "execution_count": null,
   "id": "16",
   "metadata": {
    "tags": []
   },
   "outputs": [],
   "source": [
    "our_done_labs.columns"
   ]
  },
  {
   "cell_type": "code",
   "execution_count": null,
   "id": "17",
   "metadata": {},
   "outputs": [],
   "source": [
    "our_done_labs = our_done_labs.rename(columns={'NRCA':'NRCA0'})"
   ]
  },
  {
   "cell_type": "code",
   "execution_count": null,
   "id": "18",
   "metadata": {
    "tags": []
   },
   "outputs": [],
   "source": [
    "together = pd.concat([our_done_labs,additional_labs])\n",
    "together"
   ]
  },
  {
   "cell_type": "code",
   "execution_count": null,
   "id": "19",
   "metadata": {
    "tags": []
   },
   "outputs": [],
   "source": [
    "#together = together.reset_index()\n",
    "together.head(3) "
   ]
  },
  {
   "cell_type": "code",
   "execution_count": null,
   "id": "20",
   "metadata": {
    "tags": []
   },
   "outputs": [],
   "source": [
    "# together = together.drop(['index'], axis=1)\n",
    "# together"
   ]
  },
  {
   "cell_type": "code",
   "execution_count": null,
   "id": "21",
   "metadata": {
    "tags": []
   },
   "outputs": [],
   "source": [
    "together['blood_urine_t0_samedate'] = together['blood_urine_t0_samedate'].replace('Yes','1')\n",
    "together['blood_urine_t0_samedate'] = together['blood_urine_t0_samedate'].replace('No','0')\n",
    "together['blood_urine_t0_samedate']"
   ]
  },
  {
   "cell_type": "code",
   "execution_count": null,
   "id": "22",
   "metadata": {
    "tags": []
   },
   "outputs": [],
   "source": [
    "together.to_csv('../../secret_data/labdata_complete_T0.csv')"
   ]
  },
  {
   "cell_type": "code",
   "execution_count": null,
   "id": "23",
   "metadata": {
    "tags": []
   },
   "outputs": [],
   "source": []
  },
  {
   "cell_type": "code",
   "execution_count": null,
   "id": "24",
   "metadata": {},
   "outputs": [],
   "source": []
  }
 ],
 "metadata": {
  "kernelspec": {
   "display_name": "Python 3 (ipykernel)",
   "language": "python",
   "name": "python3"
  },
  "language_info": {
   "codemirror_mode": {
    "name": "ipython",
    "version": 3
   },
   "file_extension": ".py",
   "mimetype": "text/x-python",
   "name": "python",
   "nbconvert_exporter": "python",
   "pygments_lexer": "ipython3",
   "version": "3.11.8"
  }
 },
 "nbformat": 4,
 "nbformat_minor": 5
}
