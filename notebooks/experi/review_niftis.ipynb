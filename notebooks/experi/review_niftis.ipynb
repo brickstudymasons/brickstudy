{
 "cells": [
  {
   "cell_type": "markdown",
   "id": "98b0aff5-3d4f-4cd5-af72-539c1f518b4d",
   "metadata": {},
   "source": [
    "# Example Nifti"
   ]
  },
  {
   "cell_type": "code",
   "execution_count": null,
   "id": "6090d269-434c-4f11-9dbb-5af1266921a6",
   "metadata": {
    "tags": []
   },
   "outputs": [],
   "source": [
    "import nibabel as nib\n",
    "import matplotlib.pyplot as plt \n",
    "import sys\n",
    "\n",
    "sys.path.insert(0,'../../')\n",
    "from brickstudy import foundation"
   ]
  },
  {
   "cell_type": "code",
   "execution_count": null,
   "id": "5d87250d-b73d-45fa-8814-5dba6a5d3540",
   "metadata": {
    "tags": []
   },
   "outputs": [],
   "source": [
    "# image_string = \"../../openneurodata/4_t2_tse_cor65slice_2avg.nii.gz\""
   ]
  },
  {
   "cell_type": "code",
   "execution_count": null,
   "id": "3d0952b8-5079-4da0-a05f-066b699e842d",
   "metadata": {},
   "outputs": [],
   "source": []
  },
  {
   "cell_type": "code",
   "execution_count": null,
   "id": "11dbb008-b074-48ab-90e7-0dcba75bde7b",
   "metadata": {
    "tags": []
   },
   "outputs": [],
   "source": [
    "image_string_tof = \"Z:/output/transfer_2217763_files_3b695c8d/BRICK-001/BRICK-001/20220620/MR/3D_TOF_2SLAB/009_3D_TOF_2SLAB_3D_TOF_2SLAB_20220620000000.nii.gz\""
   ]
  },
  {
   "cell_type": "code",
   "execution_count": null,
   "id": "716c132e-7ad0-4d12-bc57-a4891be2fa59",
   "metadata": {
    "tags": []
   },
   "outputs": [],
   "source": [
    "image_string_fse1 = \"Z:/output/transfer_2217763_files_3b695c8d/BRICK-001/BRICK-001/20220620/MR/3pl_loc_SSFSE/001_3pl_loc_SSFSE_3pl_loc_SSFSE_20220620000000_i00001.nii.gz\"\n",
    "image_string_fse8 = \"Z:/output/transfer_2217763_files_3b695c8d/BRICK-001/BRICK-001/20220620/MR/3pl_loc_SSFSE/001_3pl_loc_SSFSE_3pl_loc_SSFSE_20220620000000_i00008.nii.gz\"\n",
    "image_string_fse15 =\"Z:/output/transfer_2217763_files_3b695c8d/BRICK-001/BRICK-001/20220620/MR/3pl_loc_SSFSE/001_3pl_loc_SSFSE_3pl_loc_SSFSE_20220620000000_i00015.nii.gz\"\n"
   ]
  },
  {
   "cell_type": "code",
   "execution_count": null,
   "id": "b98c92f0-6af5-4b60-9931-e1d5d8d3840a",
   "metadata": {
    "tags": []
   },
   "outputs": [],
   "source": [
    "image_string_iso= \"Z:/output/transfer_2217763_files_3b695c8d/BRICK-001/BRICK-001/20220620/MR/Isotropic_image/402_Isotropic_image_Isotropic_image_20220620000000.nii.gz\""
   ]
  },
  {
   "cell_type": "code",
   "execution_count": null,
   "id": "d8e47234-e7db-4a14-a78e-aab0f2e8ea69",
   "metadata": {
    "tags": []
   },
   "outputs": [],
   "source": [
    "image_string_fla= \"Z:/output/transfer_2217763_files_3b695c8d/BRICK-001/BRICK-001/20220620/MR/Sag_CUBE_FLAIR_FS_R1.0x1.2_selRF/006_Sag_CUBE_FLAIR_FS_R1.0x1.2_selRF_Sag_CUBE_FLAIR_FS_R1.0x1.2_selRF_20220620000000.nii.gz\""
   ]
  },
  {
   "cell_type": "code",
   "execution_count": null,
   "id": "6fb84df4-1006-4e42-be27-c9bc13b314e3",
   "metadata": {
    "tags": []
   },
   "outputs": [],
   "source": [
    "image_string_dti= \"Z:/output/transfer_2217763_files_3b695c8d/BRICK-001/BRICK-001/20220620/MR/New_DTI-Ax-35DIR-2.5mm_TR11.5_TE93_b900_PA/004_New_DTI-Ax-35DIR-2.5mm_TR11.5_TE93_b900_PA_New_DTI-Ax-35DIR-2.5mm_TR11.5_TE93_b900_PA_20220620000000.nii.gz\"   "
   ]
  },
  {
   "cell_type": "code",
   "execution_count": null,
   "id": "be1f5e89-acd1-46e9-96cd-6335d3308b4e",
   "metadata": {
    "tags": []
   },
   "outputs": [],
   "source": [
    "image_string_at2=\"Z:/output/transfer_2217763_files_3b695c8d/BRICK-001/BRICK-001/20220620/MR/Ax_T2_PROPELLER_R0.56x2.0/007_Ax_T2_PROPELLER_R0.56x2.0_Ax_T2_PROPELLER_R0.56x2.0_20220620000000_real.nii.gz\""
   ]
  },
  {
   "cell_type": "markdown",
   "id": "f10a22dd-b968-4525-94e1-4156e5d56b12",
   "metadata": {},
   "source": [
    "Warning regular nifti VIEWER does not read  DTI!"
   ]
  },
  {
   "cell_type": "code",
   "execution_count": null,
   "id": "1248cc72-57c3-4078-8ba2-58f341589f23",
   "metadata": {
    "tags": []
   },
   "outputs": [],
   "source": [
    "foundation.NiftiSliceViewer(image_string_fse15)"
   ]
  },
  {
   "cell_type": "code",
   "execution_count": null,
   "id": "e7d88fab-d796-4eb7-b104-4d56a71e14c5",
   "metadata": {
    "tags": []
   },
   "outputs": [],
   "source": [
    "foundation.NiftiSliceViewer(image_string_at2)"
   ]
  },
  {
   "cell_type": "code",
   "execution_count": null,
   "id": "969f936e-230a-4271-b16c-c79253fe4f42",
   "metadata": {
    "tags": []
   },
   "outputs": [],
   "source": [
    "foundation.NiftiSliceViewer(image_string_fla)"
   ]
  },
  {
   "cell_type": "code",
   "execution_count": null,
   "id": "8619c149-0767-4156-a77f-b893937b8ba2",
   "metadata": {
    "tags": []
   },
   "outputs": [],
   "source": [
    "t1002 = \"Z:/output/transfer_2217763_files_3b695c8d/BRICK-002/BRICK-002/20220620/MR/New_T1_weighted_FreeSurfer_BRAVO_IR_ARC2_1mm_Cor/003_New_T1_weighted_FreeSurfer_BRAVO_IR_ARC2_1mm_Cor_New_T1_weighted_FreeSurfer_BRAVO_IR_ARC2_1mm_Cor_20220620000000.nii.gz\""
   ]
  },
  {
   "cell_type": "code",
   "execution_count": null,
   "id": "030ab90c-dda9-459a-9002-ba2dcb99332c",
   "metadata": {
    "tags": []
   },
   "outputs": [],
   "source": [
    "foundation.NiftiSliceViewer(t1002)"
   ]
  },
  {
   "cell_type": "code",
   "execution_count": null,
   "id": "872f1e53-6c94-4762-841b-81b5b0041e8b",
   "metadata": {
    "tags": []
   },
   "outputs": [],
   "source": [
    "t1_img = nib.load(image_string_fla)"
   ]
  },
  {
   "cell_type": "code",
   "execution_count": null,
   "id": "aff757dd-ef35-4247-9de7-d7052e8d120a",
   "metadata": {
    "tags": []
   },
   "outputs": [],
   "source": [
    "t1_img"
   ]
  },
  {
   "cell_type": "code",
   "execution_count": null,
   "id": "2c0525f9-fbe4-4dbd-a461-2966d788b35a",
   "metadata": {
    "tags": []
   },
   "outputs": [],
   "source": [
    "t1_hdr = t1_img.header\n",
    "print(t1_hdr)"
   ]
  },
  {
   "cell_type": "code",
   "execution_count": null,
   "id": "b70d9cef-ced5-4333-a850-d3aca6ddcbe4",
   "metadata": {
    "tags": []
   },
   "outputs": [],
   "source": [
    "#t1_hdr.keys()"
   ]
  },
  {
   "cell_type": "code",
   "execution_count": null,
   "id": "9647d254-3a2f-4b6b-95c2-700b7cc4a92a",
   "metadata": {
    "tags": []
   },
   "outputs": [],
   "source": [
    "#t1_hdr['magic']"
   ]
  },
  {
   "cell_type": "code",
   "execution_count": null,
   "id": "7addfb3b-7081-4b83-a233-0454f0817181",
   "metadata": {
    "tags": []
   },
   "outputs": [],
   "source": [
    "t1_data = t1_img.get_fdata()\n",
    "t1_data"
   ]
  },
  {
   "cell_type": "code",
   "execution_count": null,
   "id": "4286aa3b-a4f2-44d4-bf75-72fef73f9e97",
   "metadata": {
    "tags": []
   },
   "outputs": [],
   "source": [
    "t1_data.shape"
   ]
  },
  {
   "cell_type": "code",
   "execution_count": null,
   "id": "bafcf916-9486-4ae5-bcd4-1f658b02b512",
   "metadata": {
    "tags": []
   },
   "outputs": [],
   "source": [
    "x_slice = t1_data[13, :, :]"
   ]
  },
  {
   "cell_type": "code",
   "execution_count": null,
   "id": "1fa3ec5f-53fe-4371-a231-e92363aa5aae",
   "metadata": {
    "tags": []
   },
   "outputs": [],
   "source": [
    "x_slice"
   ]
  },
  {
   "cell_type": "code",
   "execution_count": null,
   "id": "921c8bcc-0aa3-4ee1-92a1-6afb62e59d5c",
   "metadata": {
    "tags": []
   },
   "outputs": [],
   "source": [
    "z_slice = t1_data[:, :, 2]"
   ]
  },
  {
   "cell_type": "code",
   "execution_count": null,
   "id": "02b4119b-6183-419c-8cdb-32a5efb267e0",
   "metadata": {
    "tags": []
   },
   "outputs": [],
   "source": [
    "y_slice  = t1_data[:, 19, :]"
   ]
  },
  {
   "cell_type": "code",
   "execution_count": null,
   "id": "46ac64d5-0bd2-4c01-ad33-36ce8293bd3e",
   "metadata": {
    "tags": []
   },
   "outputs": [],
   "source": [
    "%matplotlib inline\n",
    "\n",
    "slices = [x_slice, y_slice, z_slice]\n",
    "\n",
    "fig, axes = plt.subplots(1, len(slices))\n",
    "for i, slice in enumerate(slices):\n",
    "    axes[i].imshow(slice.T, cmap=\"gray\", origin=\"lower\")"
   ]
  },
  {
   "cell_type": "code",
   "execution_count": null,
   "id": "fd7b2044-bed0-41f2-aa47-12dc35dea2a9",
   "metadata": {},
   "outputs": [],
   "source": []
  }
 ],
 "metadata": {
  "kernelspec": {
   "display_name": "Python 3 (ipykernel)",
   "language": "python",
   "name": "python3"
  },
  "language_info": {
   "codemirror_mode": {
    "name": "ipython",
    "version": 3
   },
   "file_extension": ".py",
   "mimetype": "text/x-python",
   "name": "python",
   "nbconvert_exporter": "python",
   "pygments_lexer": "ipython3",
   "version": "3.12.3"
  }
 },
 "nbformat": 4,
 "nbformat_minor": 5
}
