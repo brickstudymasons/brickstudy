{
 "cells": [
  {
   "cell_type": "markdown",
   "id": "0",
   "metadata": {},
   "source": [
    "# Example Nifti"
   ]
  },
  {
   "cell_type": "code",
   "execution_count": null,
   "id": "1",
   "metadata": {
    "tags": []
   },
   "outputs": [],
   "source": [
    "import nibabel as nib\n",
    "import matplotlib.pyplot as plt \n",
    "import sys\n",
    "\n",
    "sys.path.insert(0,'../../')\n",
    "from brickstudy import foundation"
   ]
  },
  {
   "cell_type": "code",
   "execution_count": null,
   "id": "2",
   "metadata": {
    "tags": []
   },
   "outputs": [],
   "source": [
    "# image_string = \"../../openneurodata/4_t2_tse_cor65slice_2avg.nii.gz\""
   ]
  },
  {
   "cell_type": "code",
   "execution_count": null,
   "id": "3",
   "metadata": {},
   "outputs": [],
   "source": []
  },
  {
   "cell_type": "code",
   "execution_count": null,
   "id": "4",
   "metadata": {
    "tags": []
   },
   "outputs": [],
   "source": [
    "image_string_tof = \"Z:/output/transfer_2217763_files_3b695c8d/BRICK-001/BRICK-001/20220620/MR/3D_TOF_2SLAB/009_3D_TOF_2SLAB_3D_TOF_2SLAB_20220620000000.nii.gz\""
   ]
  },
  {
   "cell_type": "code",
   "execution_count": null,
   "id": "5",
   "metadata": {
    "tags": []
   },
   "outputs": [],
   "source": [
    "image_string_fse1 = \"Z:/output/transfer_2217763_files_3b695c8d/BRICK-001/BRICK-001/20220620/MR/3pl_loc_SSFSE/001_3pl_loc_SSFSE_3pl_loc_SSFSE_20220620000000_i00001.nii.gz\"\n",
    "image_string_fse8 = \"Z:/output/transfer_2217763_files_3b695c8d/BRICK-001/BRICK-001/20220620/MR/3pl_loc_SSFSE/001_3pl_loc_SSFSE_3pl_loc_SSFSE_20220620000000_i00008.nii.gz\"\n",
    "image_string_fse15 =\"Z:/output/transfer_2217763_files_3b695c8d/BRICK-001/BRICK-001/20220620/MR/3pl_loc_SSFSE/001_3pl_loc_SSFSE_3pl_loc_SSFSE_20220620000000_i00015.nii.gz\"\n"
   ]
  },
  {
   "cell_type": "code",
   "execution_count": null,
   "id": "6",
   "metadata": {
    "tags": []
   },
   "outputs": [],
   "source": [
    "image_string_iso= \"Z:/output/transfer_2217763_files_3b695c8d/BRICK-001/BRICK-001/20220620/MR/Isotropic_image/402_Isotropic_image_Isotropic_image_20220620000000.nii.gz\""
   ]
  },
  {
   "cell_type": "code",
   "execution_count": null,
   "id": "7",
   "metadata": {
    "tags": []
   },
   "outputs": [],
   "source": [
    "image_string_fla= \"Z:/output/transfer_2217763_files_3b695c8d/BRICK-001/BRICK-001/20220620/MR/Sag_CUBE_FLAIR_FS_R1.0x1.2_selRF/006_Sag_CUBE_FLAIR_FS_R1.0x1.2_selRF_Sag_CUBE_FLAIR_FS_R1.0x1.2_selRF_20220620000000.nii.gz\""
   ]
  },
  {
   "cell_type": "code",
   "execution_count": null,
   "id": "8",
   "metadata": {
    "tags": []
   },
   "outputs": [],
   "source": [
    "image_string_dti= \"Z:/output/transfer_2217763_files_3b695c8d/BRICK-001/BRICK-001/20220620/MR/New_DTI-Ax-35DIR-2.5mm_TR11.5_TE93_b900_PA/004_New_DTI-Ax-35DIR-2.5mm_TR11.5_TE93_b900_PA_New_DTI-Ax-35DIR-2.5mm_TR11.5_TE93_b900_PA_20220620000000.nii.gz\"   "
   ]
  },
  {
   "cell_type": "code",
   "execution_count": null,
   "id": "9",
   "metadata": {
    "tags": []
   },
   "outputs": [],
   "source": [
    "image_string_at2=\"Z:/output/transfer_2217763_files_3b695c8d/BRICK-001/BRICK-001/20220620/MR/Ax_T2_PROPELLER_R0.56x2.0/007_Ax_T2_PROPELLER_R0.56x2.0_Ax_T2_PROPELLER_R0.56x2.0_20220620000000_real.nii.gz\""
   ]
  },
  {
   "cell_type": "markdown",
   "id": "10",
   "metadata": {},
   "source": [
    "Warning regular nifti VIEWER does not read  DTI!"
   ]
  },
  {
   "cell_type": "code",
   "execution_count": null,
   "id": "11",
   "metadata": {
    "tags": []
   },
   "outputs": [],
   "source": [
    "foundation.NiftiSliceViewer(image_string_fse15)"
   ]
  },
  {
   "cell_type": "code",
   "execution_count": null,
   "id": "12",
   "metadata": {
    "tags": []
   },
   "outputs": [],
   "source": [
    "foundation.NiftiSliceViewer(image_string_at2)"
   ]
  },
  {
   "cell_type": "code",
   "execution_count": null,
   "id": "13",
   "metadata": {
    "tags": []
   },
   "outputs": [],
   "source": [
    "foundation.NiftiSliceViewer(image_string_fla)"
   ]
  },
  {
   "cell_type": "code",
   "execution_count": null,
   "id": "14",
   "metadata": {
    "tags": []
   },
   "outputs": [],
   "source": [
    "t1002 = \"Z:/output/transfer_2217763_files_3b695c8d/BRICK-002/BRICK-002/20220620/MR/New_T1_weighted_FreeSurfer_BRAVO_IR_ARC2_1mm_Cor/003_New_T1_weighted_FreeSurfer_BRAVO_IR_ARC2_1mm_Cor_New_T1_weighted_FreeSurfer_BRAVO_IR_ARC2_1mm_Cor_20220620000000.nii.gz\""
   ]
  },
  {
   "cell_type": "code",
   "execution_count": null,
   "id": "15",
   "metadata": {
    "tags": []
   },
   "outputs": [],
   "source": [
    "foundation.NiftiSliceViewer(t1002)"
   ]
  },
  {
   "cell_type": "code",
   "execution_count": null,
   "id": "16",
   "metadata": {
    "tags": []
   },
   "outputs": [],
   "source": [
    "t1_img = nib.load(image_string_fla)"
   ]
  },
  {
   "cell_type": "code",
   "execution_count": null,
   "id": "17",
   "metadata": {
    "tags": []
   },
   "outputs": [],
   "source": [
    "t1_img"
   ]
  },
  {
   "cell_type": "code",
   "execution_count": null,
   "id": "18",
   "metadata": {
    "tags": []
   },
   "outputs": [],
   "source": [
    "t1_hdr = t1_img.header\n",
    "print(t1_hdr)"
   ]
  },
  {
   "cell_type": "code",
   "execution_count": null,
   "id": "19",
   "metadata": {
    "tags": []
   },
   "outputs": [],
   "source": [
    "#t1_hdr.keys()"
   ]
  },
  {
   "cell_type": "code",
   "execution_count": null,
   "id": "20",
   "metadata": {
    "tags": []
   },
   "outputs": [],
   "source": [
    "#t1_hdr['magic']"
   ]
  },
  {
   "cell_type": "code",
   "execution_count": null,
   "id": "21",
   "metadata": {
    "tags": []
   },
   "outputs": [],
   "source": [
    "t1_data = t1_img.get_fdata()\n",
    "t1_data"
   ]
  },
  {
   "cell_type": "code",
   "execution_count": null,
   "id": "22",
   "metadata": {
    "tags": []
   },
   "outputs": [],
   "source": [
    "t1_data.shape"
   ]
  },
  {
   "cell_type": "code",
   "execution_count": null,
   "id": "23",
   "metadata": {
    "tags": []
   },
   "outputs": [],
   "source": [
    "x_slice = t1_data[13, :, :]"
   ]
  },
  {
   "cell_type": "code",
   "execution_count": null,
   "id": "24",
   "metadata": {
    "tags": []
   },
   "outputs": [],
   "source": [
    "x_slice"
   ]
  },
  {
   "cell_type": "code",
   "execution_count": null,
   "id": "25",
   "metadata": {
    "tags": []
   },
   "outputs": [],
   "source": [
    "z_slice = t1_data[:, :, 2]"
   ]
  },
  {
   "cell_type": "code",
   "execution_count": null,
   "id": "26",
   "metadata": {
    "tags": []
   },
   "outputs": [],
   "source": [
    "y_slice  = t1_data[:, 19, :]"
   ]
  },
  {
   "cell_type": "code",
   "execution_count": null,
   "id": "27",
   "metadata": {
    "tags": []
   },
   "outputs": [],
   "source": [
    "%matplotlib inline\n",
    "\n",
    "slices = [x_slice, y_slice, z_slice]\n",
    "\n",
    "fig, axes = plt.subplots(1, len(slices))\n",
    "for i, slice in enumerate(slices):\n",
    "    axes[i].imshow(slice.T, cmap=\"gray\", origin=\"lower\")"
   ]
  },
  {
   "cell_type": "code",
   "execution_count": null,
   "id": "28",
   "metadata": {},
   "outputs": [],
   "source": []
  }
 ],
 "metadata": {
  "kernelspec": {
   "display_name": "Python 3 (ipykernel)",
   "language": "python",
   "name": "python3"
  },
  "language_info": {
   "codemirror_mode": {
    "name": "ipython",
    "version": 3
   },
   "file_extension": ".py",
   "mimetype": "text/x-python",
   "name": "python",
   "nbconvert_exporter": "python",
   "pygments_lexer": "ipython3",
   "version": "3.11.8"
  }
 },
 "nbformat": 4,
 "nbformat_minor": 5
}
