{
 "cells": [
  {
   "cell_type": "markdown",
   "id": "0",
   "metadata": {},
   "source": [
    "# First moment up labs organized for Castor upload"
   ]
  },
  {
   "cell_type": "markdown",
   "id": "1",
   "metadata": {},
   "source": [
    "### This lab layout follows the request of scientists and Castor staff  for upload in Castor\n",
    "There is now an additional column to capture true time taken for some labs"
   ]
  },
  {
   "cell_type": "code",
   "execution_count": null,
   "id": "2",
   "metadata": {},
   "outputs": [],
   "source": [
    "#import libraries"
   ]
  },
  {
   "cell_type": "code",
   "execution_count": null,
   "id": "3",
   "metadata": {
    "tags": []
   },
   "outputs": [],
   "source": [
    "import os\n",
    "import sys\n",
    "from functools import reduce\n",
    "import pandas as pd\n",
    "import numpy as np\n",
    "import seaborn as sns\n",
    "import matplotlib.pyplot as plt\n",
    "import ipywidgets as widgets\n",
    "\n",
    "sys.path.insert(0, '../../')\n",
    "from brickstudy import foundation"
   ]
  },
  {
   "cell_type": "code",
   "execution_count": null,
   "id": "4",
   "metadata": {
    "tags": []
   },
   "outputs": [],
   "source": [
    "### import example lab organization from scientst"
   ]
  },
  {
   "cell_type": "code",
   "execution_count": null,
   "id": "5",
   "metadata": {
    "tags": []
   },
   "outputs": [],
   "source": [
    "example = pd.read_csv('../../secret_data/Lab_vb_makeda.csv', sep=\";\")\n",
    "example.head(4)"
   ]
  },
  {
   "cell_type": "code",
   "execution_count": null,
   "id": "6",
   "metadata": {
    "tags": []
   },
   "outputs": [],
   "source": [
    "example.columns"
   ]
  },
  {
   "cell_type": "code",
   "execution_count": null,
   "id": "7",
   "metadata": {},
   "outputs": [],
   "source": [
    "example.shape"
   ]
  },
  {
   "cell_type": "markdown",
   "id": "8",
   "metadata": {
    "tags": []
   },
   "source": [
    "### Discussion with scientists over additional columns to adjust for Castor\n",
    "\n",
    "An additional column will be added"
   ]
  },
  {
   "cell_type": "markdown",
   "id": "9",
   "metadata": {},
   "source": [
    "### import first measurement moment i.e. baseline labs from 2022,2023 and 2024\n",
    "These labs should be named with 1 and uploaded to Castor as repeating data"
   ]
  },
  {
   "cell_type": "markdown",
   "id": "10",
   "metadata": {
    "tags": []
   },
   "source": [
    "# SUPER IMPORTANT\n",
    "\n",
    "This data has been updated but is all the same measurement moment (zero). "
   ]
  },
  {
   "cell_type": "code",
   "execution_count": null,
   "id": "11",
   "metadata": {
    "tags": []
   },
   "outputs": [],
   "source": [
    "lab_data = pd.read_csv('../../secret_data/BRICK_lab_data_update_18_03_2024.csv', sep= ';', encoding='latin1')"
   ]
  },
  {
   "cell_type": "code",
   "execution_count": null,
   "id": "12",
   "metadata": {
    "tags": []
   },
   "outputs": [],
   "source": [
    "lab_data.head(3)"
   ]
  },
  {
   "cell_type": "code",
   "execution_count": null,
   "id": "13",
   "metadata": {
    "tags": []
   },
   "outputs": [],
   "source": [
    "len(lab_data.studieID.unique())"
   ]
  },
  {
   "cell_type": "code",
   "execution_count": null,
   "id": "14",
   "metadata": {
    "tags": []
   },
   "outputs": [],
   "source": [
    "lab_data.studieID.unique()"
   ]
  },
  {
   "cell_type": "code",
   "execution_count": null,
   "id": "15",
   "metadata": {
    "tags": []
   },
   "outputs": [],
   "source": [
    "lab_data['studieID'] = lab_data['studieID'].astype(str)\n",
    "lab_data['studieID'] = lab_data['studieID'].str.replace(\"-\", \"_\")"
   ]
  },
  {
   "cell_type": "code",
   "execution_count": null,
   "id": "16",
   "metadata": {
    "tags": []
   },
   "outputs": [],
   "source": [
    "lab_data.head(3)"
   ]
  },
  {
   "cell_type": "markdown",
   "id": "17",
   "metadata": {},
   "source": [
    "### We want  all the patients on thier own line, but not many lines per patient\n",
    "We will try to accomplish this by splitting the dataset into each code-code-original i.e. each type of lab taken on the assumption we will almost always have one lab"
   ]
  },
  {
   "cell_type": "code",
   "execution_count": null,
   "id": "18",
   "metadata": {
    "tags": []
   },
   "outputs": [],
   "source": [
    "lab_data.code_code_original.unique()"
   ]
  },
  {
   "cell_type": "code",
   "execution_count": null,
   "id": "19",
   "metadata": {
    "tags": []
   },
   "outputs": [],
   "source": [
    "codes = lab_data.code_code_original.unique().astype(str)\n",
    "codes"
   ]
  },
  {
   "cell_type": "code",
   "execution_count": null,
   "id": "20",
   "metadata": {
    "tags": []
   },
   "outputs": [],
   "source": [
    "lab_data[lab_data['code_code_original'].isna()]"
   ]
  },
  {
   "cell_type": "markdown",
   "id": "21",
   "metadata": {},
   "source": [
    "Again we see all the nans are sodiums. We will transform them to NA"
   ]
  },
  {
   "cell_type": "code",
   "execution_count": null,
   "id": "22",
   "metadata": {
    "tags": []
   },
   "outputs": [],
   "source": [
    "lab_data['code_code_original'] = lab_data['code_code_original'].fillna('NA')"
   ]
  },
  {
   "cell_type": "code",
   "execution_count": null,
   "id": "23",
   "metadata": {
    "tags": []
   },
   "outputs": [],
   "source": [
    "codes = lab_data.code_code_original.unique().astype(str)\n",
    "codes"
   ]
  },
  {
   "cell_type": "code",
   "execution_count": null,
   "id": "24",
   "metadata": {
    "tags": []
   },
   "outputs": [],
   "source": [
    "#lab_data[lab_data['code_code_original'] == 'nan']"
   ]
  },
  {
   "cell_type": "code",
   "execution_count": null,
   "id": "25",
   "metadata": {
    "tags": []
   },
   "outputs": [],
   "source": [
    "len(codes)"
   ]
  },
  {
   "cell_type": "code",
   "execution_count": null,
   "id": "26",
   "metadata": {
    "tags": []
   },
   "outputs": [],
   "source": [
    "## Notte there is a code BRICK...let's examine"
   ]
  },
  {
   "cell_type": "code",
   "execution_count": null,
   "id": "27",
   "metadata": {
    "tags": []
   },
   "outputs": [],
   "source": [
    "lab_data[lab_data.code_code_original =='BRICK'].head(5)"
   ]
  },
  {
   "cell_type": "code",
   "execution_count": null,
   "id": "28",
   "metadata": {
    "tags": []
   },
   "outputs": [],
   "source": [
    "len(example.columns)"
   ]
  },
  {
   "cell_type": "markdown",
   "id": "29",
   "metadata": {},
   "source": [
    "Scientists not interested in ICT, LIP, HEM, ORD8, BAF9 or EX_LUMC therefore we will drop these values"
   ]
  },
  {
   "cell_type": "code",
   "execution_count": null,
   "id": "30",
   "metadata": {
    "tags": []
   },
   "outputs": [],
   "source": [
    "lab_data = lab_data.drop(lab_data[lab_data['code_code_original']== 'ICT'].index)\n",
    "lab_data = lab_data.drop(lab_data[lab_data['code_code_original']== 'LIP'].index)\n",
    "lab_data = lab_data.drop(lab_data[lab_data['code_code_original']== 'HEM'].index)\n",
    "lab_data = lab_data.drop(lab_data[lab_data['code_code_original']== 'ORD8'].index)\n",
    "lab_data = lab_data.drop(lab_data[lab_data['code_code_original']== 'BAF9'].index)\n",
    "lab_data = lab_data.drop(lab_data[lab_data['code_code_original']== 'EX_LUMC'].index)"
   ]
  },
  {
   "cell_type": "markdown",
   "id": "31",
   "metadata": {
    "tags": []
   },
   "source": [
    "Also according to example there are about 50 other codes they do ont care for. We will drop these here too: "
   ]
  },
  {
   "cell_type": "code",
   "execution_count": null,
   "id": "32",
   "metadata": {
    "tags": []
   },
   "outputs": [],
   "source": [
    "codes0 = [code + \"0\" for code in codes]\n",
    "codes0_set = set(codes0)\n",
    "expected_set = set(example.columns)\n",
    "expected_set"
   ]
  },
  {
   "cell_type": "code",
   "execution_count": null,
   "id": "33",
   "metadata": {
    "tags": []
   },
   "outputs": [],
   "source": [
    "# here we will show columsn we were essentially asked to get rid of\n",
    "droppable = codes0_set - expected_set\n",
    "list_droppable = list(droppable)\n",
    "list_droppable = [code[:-1] for code in list_droppable]\n",
    "#list_droppable"
   ]
  },
  {
   "cell_type": "code",
   "execution_count": null,
   "id": "34",
   "metadata": {
    "tags": []
   },
   "outputs": [],
   "source": [
    "# here we can show what we will keep\n",
    "list_keepable = expected_set\n",
    "list_keepable =  [code[:-1] for code in list_keepable]\n",
    "list_keepable"
   ]
  },
  {
   "cell_type": "code",
   "execution_count": null,
   "id": "35",
   "metadata": {
    "tags": []
   },
   "outputs": [],
   "source": [
    "list_keepable_amended = ['CRP',\n",
    "                         'FERT',\n",
    "                         'TROMBO',\n",
    "                         'MCV',\n",
    "                         'K',\n",
    "                         'FOLZ',\n",
    "                         'HB',\n",
    "                         'HT',\n",
    "                         'UREU',\n",
    "                         'VITD',\n",
    "                         'GGT',\n",
    "                         'ALB_U',\n",
    "                         'SCHWARTZ-Bedsite',\n",
    "                         'ASAT',\n",
    "                         'ERY',\n",
    "                         'TBIL',\n",
    "                         'DBIL',\n",
    "                         'TE_U',\n",
    "                         'TRAF',\n",
    "                         'AFOS',\n",
    "                         'NA',\n",
    "                         'GRAT',\n",
    "                         'LDH',\n",
    "                         'FE',\n",
    "                         'ALB_U_KR',\n",
    "                         'B12',\n",
    "                         'LEU',\n",
    "                         'RETI',\n",
    "                         'TSAT',\n",
    "                         'KREA_U',\n",
    "                         'ALAT',\n",
    "                         'KREA',\n",
    "                         'TE_U_KR',\n",
    "                         'NRCA',\n",
    "                         'RDW',]"
   ]
  },
  {
   "cell_type": "code",
   "execution_count": null,
   "id": "36",
   "metadata": {
    "tags": []
   },
   "outputs": [],
   "source": [
    "# lab_data_baseline = lab_data_baseline[~lab_data_baseline[lab_data_baseline['code_code_original'].isin(list_droppable)]]\n",
    "# lab_data_baseline\n",
    "lab_data = lab_data[lab_data['code_code_original'].isin(list_keepable_amended)]"
   ]
  },
  {
   "cell_type": "code",
   "execution_count": null,
   "id": "37",
   "metadata": {
    "tags": []
   },
   "outputs": [],
   "source": [
    "lab_data['code_code_original'].unique()"
   ]
  },
  {
   "cell_type": "code",
   "execution_count": null,
   "id": "38",
   "metadata": {
    "tags": []
   },
   "outputs": [],
   "source": [
    "new_codes = list(lab_data['code_code_original'].unique())"
   ]
  },
  {
   "cell_type": "markdown",
   "id": "39",
   "metadata": {},
   "source": [
    "Scientist wants to get rid of doubles, i.e. #####brick 08, 12, 21 and 25. There are doubles because labs were not taken at precisely the same time. But we also do not want to upload duplicate data from the first measurement point to the second...therefore we can simply get rid of labs which are actually duplicates. "
   ]
  },
  {
   "cell_type": "code",
   "execution_count": null,
   "id": "40",
   "metadata": {
    "tags": []
   },
   "outputs": [],
   "source": [
    "#example\n",
    "lab_data[lab_data['studieID'] == 'BRICK_008']['effectiveDateTime'].unique()"
   ]
  },
  {
   "cell_type": "code",
   "execution_count": null,
   "id": "41",
   "metadata": {},
   "outputs": [],
   "source": []
  },
  {
   "cell_type": "code",
   "execution_count": null,
   "id": "42",
   "metadata": {
    "tags": []
   },
   "outputs": [],
   "source": [
    "#get the brick8 we want by resetting all the times to be the same\n",
    "brick_8_wanted = lab_data[lab_data['studieID'] == 'BRICK_008']#[lab_data['effectiveDateTime'] == '2022-08-29 10:05:12.0000000']\n",
    "brick_8_wanted['effectiveDateTime'] = '2022-08-29 10:05:12.0000000'\n",
    "brick_8_wanted.head(2)"
   ]
  },
  {
   "cell_type": "markdown",
   "id": "43",
   "metadata": {},
   "source": [
    "It did not work the way we wanted because there were repeats. Let's use only one date:"
   ]
  },
  {
   "cell_type": "code",
   "execution_count": null,
   "id": "44",
   "metadata": {
    "tags": []
   },
   "outputs": [],
   "source": [
    "brick_8_wanted = lab_data[lab_data['studieID'] == 'BRICK_008'][lab_data['effectiveDateTime'] == '2022-08-29 10:05:12.0000000']\n",
    "#brick_8_wanted "
   ]
  },
  {
   "cell_type": "code",
   "execution_count": null,
   "id": "45",
   "metadata": {
    "tags": []
   },
   "outputs": [],
   "source": [
    "#12\n",
    "lab_data[lab_data['studieID'] == 'BRICK_012']['effectiveDateTime'].unique()"
   ]
  },
  {
   "cell_type": "code",
   "execution_count": null,
   "id": "46",
   "metadata": {
    "tags": []
   },
   "outputs": [],
   "source": [
    "#lab_data[lab_data['studieID'] == 'BRICK_012']"
   ]
  },
  {
   "cell_type": "code",
   "execution_count": null,
   "id": "47",
   "metadata": {
    "tags": []
   },
   "outputs": [],
   "source": [
    "# Here we will assume scientist wants the lab values 4 months later dropped, as not a baseline value\n",
    "brick_12_updated = lab_data[lab_data['studieID'] == 'BRICK_012']#[lab_data['effectiveDateTime'].isin(['2022-03-16 15:43:08', '2022-03-16 16:07:41'])]\n",
    "# we will reset to all the same date\n",
    "#brick_12_wanted \n",
    "brick_12_updated['effectiveDateTime'] = '2022-03-16 15:43:08'"
   ]
  },
  {
   "cell_type": "code",
   "execution_count": null,
   "id": "48",
   "metadata": {},
   "outputs": [],
   "source": [
    "#brick_12_urine = lab_data[lab_data['studieID'] == 'BRICK_012'][lab_data['effectiveDateTime'].isin(['2022-07-18 10:02:25'])]"
   ]
  },
  {
   "cell_type": "code",
   "execution_count": null,
   "id": "49",
   "metadata": {
    "tags": []
   },
   "outputs": [],
   "source": [
    "brick_12_updated.head(2)"
   ]
  },
  {
   "cell_type": "code",
   "execution_count": null,
   "id": "50",
   "metadata": {
    "tags": []
   },
   "outputs": [],
   "source": [
    "lab_data[lab_data['studieID'] == 'BRICK_021']#['effectiveDateTime'].unique()"
   ]
  },
  {
   "cell_type": "code",
   "execution_count": null,
   "id": "51",
   "metadata": {
    "tags": []
   },
   "outputs": [],
   "source": [
    "#brick_21_wanted[brick_21_wanted['effectiveDateTime'] =='2023-06-29 08:47:57']"
   ]
  },
  {
   "cell_type": "markdown",
   "id": "52",
   "metadata": {},
   "source": [
    "# Brick 21 is MISSING!"
   ]
  },
  {
   "cell_type": "code",
   "execution_count": null,
   "id": "53",
   "metadata": {
    "tags": []
   },
   "outputs": [],
   "source": [
    "## brick_21_wanted = lab_data[lab_data['studieID'] == 'BRICK_021']\n",
    "#brick_21_wanted[brick_21_wanted['effectiveDateTime'] =='2023-06-29 08:46:36']\n",
    "#brick_21_wanted[brick_21_wanted['effectiveDateTime'] =='2023-06-29 08:47:57']\n",
    "#brick_21_wanted[brick_21_wanted['effectiveDateTime'] =='2023-06-29 12:41:15']"
   ]
  },
  {
   "cell_type": "code",
   "execution_count": null,
   "id": "54",
   "metadata": {
    "tags": []
   },
   "outputs": [],
   "source": [
    "#brick_21_urine = brick_21_wanted[brick_21_wanted['effectiveDateTime'] =='2023-06-29 12:41:15']"
   ]
  },
  {
   "cell_type": "code",
   "execution_count": null,
   "id": "55",
   "metadata": {
    "tags": []
   },
   "outputs": [],
   "source": [
    "#brick_21_main = brick_21_wanted[brick_21_wanted['effectiveDateTime'] =='2023-06-29 08:47:57']"
   ]
  },
  {
   "cell_type": "code",
   "execution_count": null,
   "id": "56",
   "metadata": {
    "tags": []
   },
   "outputs": [],
   "source": [
    "#brick_21_wanted = pd.concat([brick_21_urine, brick_21_main])\n",
    "#brick_21_wanted"
   ]
  },
  {
   "cell_type": "code",
   "execution_count": null,
   "id": "57",
   "metadata": {},
   "outputs": [],
   "source": []
  },
  {
   "cell_type": "code",
   "execution_count": null,
   "id": "58",
   "metadata": {
    "tags": []
   },
   "outputs": [],
   "source": [
    "## here we will \"redate\" them all to match\n",
    "####brick_21_wanted = lab_data_baseline[lab_data_baseline['studieID'] == 'BRICK_021']\n",
    "#brick_21_wanted['effectiveDateTime'] = '2023-06-29 08:46:36'\n",
    "#brick_12_wanted"
   ]
  },
  {
   "cell_type": "code",
   "execution_count": null,
   "id": "59",
   "metadata": {
    "tags": []
   },
   "outputs": [],
   "source": [
    "lab_data[lab_data['studieID'] == 'BRICK_025']['effectiveDateTime'].unique()"
   ]
  },
  {
   "cell_type": "code",
   "execution_count": null,
   "id": "60",
   "metadata": {
    "tags": []
   },
   "outputs": [],
   "source": [
    "brick_25_mcv_wanted = lab_data[lab_data['studieID'] == 'BRICK_025'][lab_data['effectiveDateTime'] == '2022-09-12 15:52:42.0000000']\n",
    "#brick_25_mcv_wanted"
   ]
  },
  {
   "cell_type": "code",
   "execution_count": null,
   "id": "61",
   "metadata": {
    "tags": []
   },
   "outputs": [],
   "source": [
    "brick_25_urine_wanted = lab_data[lab_data['studieID'] == 'BRICK_025'][lab_data['effectiveDateTime'] == '2022-09-12 15:44:02.0000000']\n",
    "print(brick_25_urine_wanted.shape)\n",
    "#brick_25_urine_wanted."
   ]
  },
  {
   "cell_type": "code",
   "execution_count": null,
   "id": "62",
   "metadata": {
    "tags": []
   },
   "outputs": [],
   "source": [
    "#get the brick25 we want by concatenating and  resetting all the times to be the same\n",
    "brick_25_wanted = pd.concat([brick_25_mcv_wanted ,brick_25_urine_wanted ])\n",
    "print(brick_25_wanted.shape)\n",
    "brick_25_wanted['effectiveDateTime'] = '2022-09-12 15:52:42'\n",
    "brick_25_wanted.effectiveDateTime.unique()"
   ]
  },
  {
   "cell_type": "code",
   "execution_count": null,
   "id": "63",
   "metadata": {
    "tags": []
   },
   "outputs": [],
   "source": [
    "## There is anotehr brick -12 in the other dataset!"
   ]
  },
  {
   "cell_type": "code",
   "execution_count": null,
   "id": "64",
   "metadata": {},
   "outputs": [],
   "source": []
  },
  {
   "cell_type": "code",
   "execution_count": null,
   "id": "65",
   "metadata": {},
   "outputs": [],
   "source": []
  },
  {
   "cell_type": "code",
   "execution_count": null,
   "id": "66",
   "metadata": {},
   "outputs": [],
   "source": []
  },
  {
   "cell_type": "markdown",
   "id": "67",
   "metadata": {},
   "source": [
    "These labs are effectively the same date, so we will make them so"
   ]
  },
  {
   "cell_type": "code",
   "execution_count": null,
   "id": "68",
   "metadata": {
    "tags": []
   },
   "outputs": [],
   "source": [
    "brick_23_wanted = lab_data[lab_data['studieID'] == 'BRICK_023']\n",
    "# brick_23 seems to have a lot of botched labs they redid\n",
    "brick_23_wanted = brick_23_wanted[brick_23_wanted['valueQuantity_value'].notna()]\n",
    "brick_23_wanted"
   ]
  },
  {
   "cell_type": "code",
   "execution_count": null,
   "id": "69",
   "metadata": {
    "tags": []
   },
   "outputs": [],
   "source": [
    "lab_data[lab_data['studieID'] == 'BRICK_055']['effectiveDateTime'].unique()"
   ]
  },
  {
   "cell_type": "markdown",
   "id": "70",
   "metadata": {},
   "source": [
    "These labs are effectively the same date, so we will make them so"
   ]
  },
  {
   "cell_type": "code",
   "execution_count": null,
   "id": "71",
   "metadata": {
    "tags": []
   },
   "outputs": [],
   "source": [
    "lab_data[lab_data['studieID'] == 'BRICK_055']"
   ]
  },
  {
   "cell_type": "markdown",
   "id": "72",
   "metadata": {},
   "source": [
    "We must choose as the same labs were ralen more than once."
   ]
  },
  {
   "cell_type": "code",
   "execution_count": null,
   "id": "73",
   "metadata": {
    "tags": []
   },
   "outputs": [],
   "source": [
    "brick_55_wanted = lab_data[lab_data['studieID'] == 'BRICK_055']\n",
    "brick_55_wanted = brick_55_wanted[brick_55_wanted['effectiveDateTime'].isin(['2023-11-17 11:35:12.0000000', '2023-11-17 12:20:40.0000000'])]\n",
    "# we also have different issue times, we will get rid of that\n",
    "brick_55_wanted['issued'] = '2023-11-17 13:09:00.0000000'"
   ]
  },
  {
   "cell_type": "code",
   "execution_count": null,
   "id": "74",
   "metadata": {},
   "outputs": [],
   "source": [
    "brick_55_wanted.tail(2)"
   ]
  },
  {
   "cell_type": "code",
   "execution_count": null,
   "id": "75",
   "metadata": {
    "tags": []
   },
   "outputs": [],
   "source": [
    "lab_data[lab_data['studieID'] == 'BRICK_052']['effectiveDateTime'].unique()"
   ]
  },
  {
   "cell_type": "code",
   "execution_count": null,
   "id": "76",
   "metadata": {
    "tags": []
   },
   "outputs": [],
   "source": [
    "brick_52_wanted = lab_data[lab_data['studieID'] == 'BRICK_052']\n",
    "# brick_52_wanted['effectiveDateTime'] = '2023-04-04 14:03:22.0000000'\n",
    "# brick_52_wanted['issued'] = '2023-04-04 14:42:56.0000000'\n",
    "for column in brick_52_wanted.columns:\n",
    "    print(brick_52_wanted[column].unique())"
   ]
  },
  {
   "cell_type": "code",
   "execution_count": null,
   "id": "77",
   "metadata": {
    "tags": []
   },
   "outputs": [],
   "source": [
    "#now let's drop all of them, then append back on what we want\n",
    "lab_data_no_ = lab_data.drop(lab_data[lab_data['studieID'] == 'BRICK_012'].index)\n",
    "lab_data_no_ = lab_data_no_.drop(lab_data_no_[lab_data_no_['studieID'] == 'BRICK_008'].index)\n",
    "lab_data_no_ = lab_data_no_.drop(lab_data_no_[lab_data_no_['studieID'] == 'BRICK_021'].index)\n",
    "lab_data_no_ = lab_data_no_.drop(lab_data_no_[lab_data_no_['studieID'] == 'BRICK_025'].index)\n",
    "lab_data_no_ = lab_data_no_.drop(lab_data_no_[lab_data_no_['studieID'] == 'BRICK_023'].index)\n",
    "lab_data_no_ = lab_data_no_.drop(lab_data_no_[lab_data_no_['studieID'] == 'BRICK_055'].index)\n",
    "lab_data_no_ = lab_data_no_.drop(lab_data_no_[lab_data_no_['studieID'] == 'BRICK_052'].index)\n",
    "lab_data_no_ = lab_data_no_.drop(lab_data_no_[lab_data_no_['studieID'] == 'BRICK_058'].index)\n",
    "#lab_data_no_ = lab_data_no_.drop(lab_data_no_[lab_data_no_['studieID'] == 'BRICK_012'].index)\n",
    "\n"
   ]
  },
  {
   "cell_type": "code",
   "execution_count": null,
   "id": "78",
   "metadata": {},
   "outputs": [],
   "source": []
  },
  {
   "cell_type": "code",
   "execution_count": null,
   "id": "79",
   "metadata": {
    "tags": []
   },
   "outputs": [],
   "source": [
    "lab_data_no_.studieID.unique()"
   ]
  },
  {
   "cell_type": "code",
   "execution_count": null,
   "id": "80",
   "metadata": {},
   "outputs": [],
   "source": []
  },
  {
   "cell_type": "code",
   "execution_count": null,
   "id": "81",
   "metadata": {},
   "outputs": [],
   "source": []
  },
  {
   "cell_type": "code",
   "execution_count": null,
   "id": "82",
   "metadata": {
    "tags": []
   },
   "outputs": [],
   "source": [
    "lab_data_no_.studieID.unique()"
   ]
  },
  {
   "cell_type": "code",
   "execution_count": null,
   "id": "83",
   "metadata": {
    "tags": []
   },
   "outputs": [],
   "source": [
    "lab_data_no_.effectiveDateTime.unique()"
   ]
  },
  {
   "cell_type": "code",
   "execution_count": null,
   "id": "84",
   "metadata": {
    "tags": []
   },
   "outputs": [],
   "source": [
    "brick_58_wanted = lab_data_no_[lab_data_no_['studieID'] == 'BRICK_058']\n",
    "brick_58_wanted['effectiveDateTime']= '2023-05-10 09:45:08.0000000'\n",
    "brick_58_wanted['issued']= '2023-05-10 10:41:43.0000000'"
   ]
  },
  {
   "cell_type": "code",
   "execution_count": null,
   "id": "85",
   "metadata": {
    "tags": []
   },
   "outputs": [],
   "source": [
    "#lab_data_no_[lab_data_no_['effectiveDateTime'] == '2023-05-10 09:45:08.0000000']"
   ]
  },
  {
   "cell_type": "markdown",
   "id": "86",
   "metadata": {
    "tags": []
   },
   "source": []
  },
  {
   "cell_type": "code",
   "execution_count": null,
   "id": "87",
   "metadata": {
    "tags": []
   },
   "outputs": [],
   "source": [
    "#lab_data_no_"
   ]
  },
  {
   "cell_type": "code",
   "execution_count": null,
   "id": "88",
   "metadata": {
    "tags": []
   },
   "outputs": [],
   "source": [
    "lab_data = pd.concat([lab_data_no_, brick_8_wanted,  brick_12_updated, brick_25_wanted, brick_52_wanted, brick_55_wanted, brick_23_wanted, brick_58_wanted])\n",
    "lab_data.shape"
   ]
  },
  {
   "cell_type": "code",
   "execution_count": null,
   "id": "89",
   "metadata": {
    "tags": []
   },
   "outputs": [],
   "source": [
    "#brick_55_wanted"
   ]
  },
  {
   "cell_type": "code",
   "execution_count": null,
   "id": "90",
   "metadata": {
    "tags": []
   },
   "outputs": [],
   "source": [
    "list_of_data_frames = []\n",
    "for code in new_codes:\n",
    "    prenames = [\"code_code_original\", code]\n",
    "    frame_name = \"_\".join(prenames)\n",
    "    #print(frame_name)\n",
    "    frame_name = lab_data[lab_data['code_code_original'] == code]\n",
    "    frame_name = frame_name.add_suffix(code)\n",
    "    frame_name = frame_name.rename(columns= {frame_name.columns[0]:'studieID'})\n",
    "    list_of_data_frames.append(frame_name)\n",
    "    "
   ]
  },
  {
   "cell_type": "code",
   "execution_count": null,
   "id": "91",
   "metadata": {
    "tags": []
   },
   "outputs": [],
   "source": [
    "len(list_of_data_frames)"
   ]
  },
  {
   "cell_type": "code",
   "execution_count": null,
   "id": "92",
   "metadata": {
    "tags": []
   },
   "outputs": [],
   "source": [
    "len(new_codes)"
   ]
  },
  {
   "cell_type": "markdown",
   "id": "93",
   "metadata": {},
   "source": [
    "Let's look at an example:"
   ]
  },
  {
   "cell_type": "code",
   "execution_count": null,
   "id": "94",
   "metadata": {
    "tags": []
   },
   "outputs": [],
   "source": [
    "list_of_data_frames[0].head(3) "
   ]
  },
  {
   "cell_type": "code",
   "execution_count": null,
   "id": "95",
   "metadata": {
    "tags": []
   },
   "outputs": [],
   "source": [
    "list_of_data_frames[1].head(3) "
   ]
  },
  {
   "cell_type": "code",
   "execution_count": null,
   "id": "96",
   "metadata": {
    "tags": []
   },
   "outputs": [],
   "source": [
    "list_of_data_frames[1].shape"
   ]
  },
  {
   "cell_type": "markdown",
   "id": "97",
   "metadata": {},
   "source": [
    "So far so good, we have a frame with in the example above the DBIL. We then tried to do a big reduction; but it produced repeaters"
   ]
  },
  {
   "cell_type": "code",
   "execution_count": null,
   "id": "98",
   "metadata": {
    "tags": []
   },
   "outputs": [],
   "source": [
    "semi_final_df = reduce(lambda left,right: pd.merge(left,right, on=['studieID'], how='outer'), list_of_data_frames)"
   ]
  },
  {
   "cell_type": "code",
   "execution_count": null,
   "id": "99",
   "metadata": {
    "tags": []
   },
   "outputs": [],
   "source": [
    "semi_final_df.shape"
   ]
  },
  {
   "cell_type": "code",
   "execution_count": null,
   "id": "100",
   "metadata": {
    "tags": []
   },
   "outputs": [],
   "source": [
    "semi_final_df.head(5)"
   ]
  },
  {
   "cell_type": "code",
   "execution_count": null,
   "id": "101",
   "metadata": {
    "tags": []
   },
   "outputs": [],
   "source": [
    "for studieID in semi_final_df.studieID:\n",
    "    print(studieID)"
   ]
  },
  {
   "cell_type": "code",
   "execution_count": null,
   "id": "102",
   "metadata": {
    "tags": []
   },
   "outputs": [],
   "source": [
    "# now we need to change the columns names to those expoected by scientist\n",
    "for  f in semi_final_df.columns:\n",
    "    print(f)"
   ]
  },
  {
   "cell_type": "code",
   "execution_count": null,
   "id": "103",
   "metadata": {
    "tags": []
   },
   "outputs": [],
   "source": [
    "list_keepable_amended_with_id = [\"valueQuantity_value\" + code for code in list_keepable_amended]\n",
    "# [code + \"0\" for code in codes]\n",
    "list_keepable_amended_with_id = list_keepable_amended_with_id + ['studieID'] + ['effectiveDateTimeCRP']\n",
    "list_keepable_amended_with_id"
   ]
  },
  {
   "cell_type": "code",
   "execution_count": null,
   "id": "104",
   "metadata": {
    "tags": []
   },
   "outputs": [],
   "source": [
    "final_amend = ['studieID',\n",
    "               'effectiveDateTimeCRP',\n",
    "               'valueQuantity_valueCRP',\n",
    "                 'valueQuantity_valueFERT',\n",
    "                 'valueQuantity_valueTROMBO',\n",
    "                 'valueQuantity_valueMCV',\n",
    "                 'valueQuantity_valueK',\n",
    "                 'valueQuantity_valueFOLZ',\n",
    "                 'valueQuantity_valueHB',\n",
    "                 'valueQuantity_valueHT',\n",
    "                 'valueQuantity_valueUREU',\n",
    "                 'valueQuantity_valueVITD',\n",
    "                 'valueQuantity_valueGGT',\n",
    "                 'valueQuantity_valueALB_U',\n",
    "                 'valueQuantity_valueSCHWARTZ-Bedsite',\n",
    "                 'valueQuantity_valueASAT',\n",
    "                 'valueQuantity_valueERY',\n",
    "                 'valueQuantity_valueTBIL',\n",
    "                 'valueQuantity_valueDBIL',\n",
    "                 'valueQuantity_valueTE_U',\n",
    "                 'valueQuantity_valueTRAF',\n",
    "                 'valueQuantity_valueAFOS',\n",
    "                 'valueQuantity_valueNA',\n",
    "                 'valueQuantity_valueGRAT',\n",
    "                 'valueQuantity_valueLDH',\n",
    "                 'valueQuantity_valueFE',\n",
    "                 'valueQuantity_valueALB_U_KR',\n",
    "                 'valueQuantity_valueB12',\n",
    "                 'valueQuantity_valueLEU',\n",
    "                 'valueQuantity_valueRETI',\n",
    "                 'valueQuantity_valueTSAT',\n",
    "                 'valueQuantity_valueKREA_U',\n",
    "                 'valueQuantity_valueALAT',\n",
    "                 'valueQuantity_valueKREA',\n",
    "                 'valueQuantity_valueTE_U_KR',\n",
    "                 'valueQuantity_valueNRCA',\n",
    "                 'valueQuantity_valueRDW', ]"
   ]
  },
  {
   "cell_type": "code",
   "execution_count": null,
   "id": "105",
   "metadata": {
    "tags": []
   },
   "outputs": [],
   "source": [
    "filtered = semi_final_df[final_amend]\n",
    "filtered.columns"
   ]
  },
  {
   "cell_type": "code",
   "execution_count": null,
   "id": "106",
   "metadata": {
    "tags": []
   },
   "outputs": [],
   "source": [
    "columns_dictionary = {'studieID':'Participant ID',\n",
    "                      'effectiveDateTimeCRP': 'blood_date_time',\n",
    "                      'valueQuantity_valueCRP':'CRP0',  \n",
    "                      'valueQuantity_valueFERT':'FERT0',\n",
    "                      'valueQuantity_valueTROMBO':'TROMBO0',\n",
    "                      'valueQuantity_valueMCV':'MCV0',\n",
    "                      'valueQuantity_valueK':'K0',\n",
    "                      'valueQuantity_valueFOLZ':'FOLZ0',\n",
    "                      'valueQuantity_valueHB':'HB0',  \n",
    "                      'valueQuantity_valueHT':'HT0',\n",
    "                      'valueQuantity_valueUREU':'UREU0',  \n",
    "                      'valueQuantity_valueVITD':'VITD0',\n",
    "                      'valueQuantity_valueGGT':'GGT0',  \n",
    "                      'valueQuantity_valueALB_U':'ALB_U0',\n",
    "                      'valueQuantity_valueSCHWARTZ-Bedsite':'SCHWARTZ-Bedsite0',  \n",
    "                      'valueQuantity_valueASAT':'ASAT0',\n",
    "                      'valueQuantity_valueERY':'ERY0',  \n",
    "                      'valueQuantity_valueTBIL':'TBIL0',\n",
    "                      'valueQuantity_valueDBIL':'DBIL0',  \n",
    "                      'valueQuantity_valueTE_U':'TE_U0',\n",
    "                      'valueQuantity_valueTRAF':'TRAF0',  \n",
    "                      'valueQuantity_valueNA':'NA0',\n",
    "                      'valueQuantity_valueAFOS':'AFOS0',\n",
    "                      'valueQuantity_valueGRAT':'GRAT0',  \n",
    "                      'valueQuantity_valueLDH':'LDH0',\n",
    "                      'valueQuantity_valueFE':'FE0',  \n",
    "                      'valueQuantity_valueALB_U_KR':'ALB_U_KR0',\n",
    "                      'valueQuantity_valueB12':'B120',  \n",
    "                      'valueQuantity_valueLEU':'LEU0',\n",
    "                      'valueQuantity_valueRETI':'RETI0',  \n",
    "                      'valueQuantity_valueTSAT':'TSAT0',\n",
    "                      'valueQuantity_valueKREA_U':'KREA_U0',  \n",
    "                      'valueQuantity_valueALAT':'ALAT0',\n",
    "                      'valueQuantity_valueKREA':'KREA0',  \n",
    "                      'valueQuantity_valueTE_U_KR':'TE_U_KR0',\n",
    "                      'valueQuantity_valueNRCA':'NRCA0',  \n",
    "                      'valueQuantity_valueRDW':'RDW0'}\n",
    "filtered = filtered.rename(columns = columns_dictionary)\n",
    "filtered"
   ]
  },
  {
   "cell_type": "code",
   "execution_count": null,
   "id": "107",
   "metadata": {
    "tags": []
   },
   "outputs": [],
   "source": [
    "filtered = filtered.rename(columns={'K0':'K00'})\n",
    "filtered.columns"
   ]
  },
  {
   "cell_type": "code",
   "execution_count": null,
   "id": "108",
   "metadata": {
    "tags": []
   },
   "outputs": [],
   "source": [
    "filtered['Participant Status']= 'Enrolled'"
   ]
  },
  {
   "cell_type": "code",
   "execution_count": null,
   "id": "109",
   "metadata": {
    "tags": []
   },
   "outputs": [],
   "source": [
    "filtered['Site Abbreviation'] = 'ERA'"
   ]
  },
  {
   "cell_type": "markdown",
   "id": "110",
   "metadata": {
    "tags": []
   },
   "source": [
    "No idea where to get Participant Creation Date from ...it isn'tteh same as lab date, so let's leave it out."
   ]
  },
  {
   "cell_type": "code",
   "execution_count": null,
   "id": "111",
   "metadata": {},
   "outputs": [],
   "source": []
  },
  {
   "cell_type": "code",
   "execution_count": null,
   "id": "112",
   "metadata": {
    "tags": []
   },
   "outputs": [],
   "source": [
    "filtered.shape"
   ]
  },
  {
   "cell_type": "code",
   "execution_count": null,
   "id": "113",
   "metadata": {
    "tags": []
   },
   "outputs": [],
   "source": [
    "## Now we need to get 21 an the other 12 from the labs we filtered in the other notebook\n",
    "twelve_and_21 =pd.read_csv('../../secret_data/castor_with_salt_baseline_labs.csv', index_col=0)"
   ]
  },
  {
   "cell_type": "code",
   "execution_count": null,
   "id": "114",
   "metadata": {
    "tags": []
   },
   "outputs": [],
   "source": [
    "twelve_and_21_relevant = twelve_and_21[twelve_and_21['Participant ID'].isin(['BRICK_012','BRICK_021'])]\n",
    "twelve_and_21_relevant = twelve_and_21_relevant[1:]\n",
    "twelve_and_21_relevant\n",
    "twenty_relevant = twelve_and_21_relevant[twelve_and_21_relevant['Participant ID'].isin(['BRICK_021'])]\n",
    "twelve_relevant = twelve_and_21_relevant[twelve_and_21_relevant['Participant ID'].isin(['BRICK_012'])]\n",
    "twenty_relevant['blood_date_time'] = '2023-06-29 08:47:57' \n",
    "twelve_relevant['blood_date_time'] = '2022-07-18 10:02:25'"
   ]
  },
  {
   "cell_type": "code",
   "execution_count": null,
   "id": "115",
   "metadata": {
    "tags": []
   },
   "outputs": [],
   "source": [
    "twelve_relevant"
   ]
  },
  {
   "cell_type": "code",
   "execution_count": null,
   "id": "116",
   "metadata": {
    "tags": []
   },
   "outputs": [],
   "source": [
    "final = pd.concat([filtered, twelve_relevant, twenty_relevant])\n",
    "final"
   ]
  },
  {
   "cell_type": "code",
   "execution_count": null,
   "id": "117",
   "metadata": {
    "tags": []
   },
   "outputs": [],
   "source": [
    "final.to_csv('../../secret_data/castor_with_salt_first_measurement_moment_labsv1.csv')"
   ]
  },
  {
   "cell_type": "code",
   "execution_count": null,
   "id": "118",
   "metadata": {},
   "outputs": [],
   "source": []
  },
  {
   "cell_type": "code",
   "execution_count": null,
   "id": "119",
   "metadata": {
    "tags": []
   },
   "outputs": [],
   "source": []
  },
  {
   "cell_type": "markdown",
   "id": "120",
   "metadata": {},
   "source": []
  }
 ],
 "metadata": {
  "kernelspec": {
   "display_name": "Python 3 (ipykernel)",
   "language": "python",
   "name": "python3"
  },
  "language_info": {
   "codemirror_mode": {
    "name": "ipython",
    "version": 3
   },
   "file_extension": ".py",
   "mimetype": "text/x-python",
   "name": "python",
   "nbconvert_exporter": "python",
   "pygments_lexer": "ipython3",
   "version": "3.11.8"
  }
 },
 "nbformat": 4,
 "nbformat_minor": 5
}
