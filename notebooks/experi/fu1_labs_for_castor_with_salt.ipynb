{
 "cells": [
  {
   "cell_type": "markdown",
   "id": "330b2dfe-3ed3-486d-b994-8a1752ff1df8",
   "metadata": {},
   "source": [
    "# Follow up labs organized for Castor upload"
   ]
  },
  {
   "cell_type": "markdown",
   "id": "f6740626-4a36-41e8-b5a2-5f14a9168b4b",
   "metadata": {},
   "source": [
    "### This lab layout follows the request of scientists and Castor staff  for upload in Castor"
   ]
  },
  {
   "cell_type": "code",
   "execution_count": null,
   "id": "16e6d136-6229-41ac-b94d-994a3a5d2289",
   "metadata": {},
   "outputs": [],
   "source": [
    "#import libraries"
   ]
  },
  {
   "cell_type": "code",
   "execution_count": null,
   "id": "cceaee83-7afb-4cef-ac12-259d936b78c2",
   "metadata": {
    "tags": []
   },
   "outputs": [],
   "source": [
    "import os\n",
    "import sys\n",
    "from functools import reduce\n",
    "import pandas as pd\n",
    "import numpy as np\n",
    "import seaborn as sns\n",
    "import matplotlib.pyplot as plt\n",
    "import ipywidgets as widgets\n",
    "\n",
    "sys.path.insert(0, '../../')\n",
    "from brickstudy import foundation"
   ]
  },
  {
   "cell_type": "code",
   "execution_count": null,
   "id": "d61332c2-21dd-4355-8c23-3c1395b5454d",
   "metadata": {
    "tags": []
   },
   "outputs": [],
   "source": [
    "### import example lab organization from scientst"
   ]
  },
  {
   "cell_type": "code",
   "execution_count": null,
   "id": "1ef815c5-a623-4dd7-8ed7-cdb4a4d4893a",
   "metadata": {
    "tags": []
   },
   "outputs": [],
   "source": [
    "example = pd.read_csv('../../secret_data/Lab_vb_makeda.csv', sep=\";\")\n",
    "example.head(4)"
   ]
  },
  {
   "cell_type": "code",
   "execution_count": null,
   "id": "6b3a0a28-b6af-4114-b5ee-81c06290dc26",
   "metadata": {
    "tags": []
   },
   "outputs": [],
   "source": [
    "example.columns"
   ]
  },
  {
   "cell_type": "code",
   "execution_count": null,
   "id": "2cf524c2-4aae-4585-a53f-ba0cd1fe737a",
   "metadata": {},
   "outputs": [],
   "source": [
    "example.shape"
   ]
  },
  {
   "cell_type": "code",
   "execution_count": null,
   "id": "a13ad3b6-1b93-42ac-8bbd-b1f83ba4efd7",
   "metadata": {
    "tags": []
   },
   "outputs": [],
   "source": [
    "# I reccomend turning K00 into K0, and NRCA to NRC0"
   ]
  },
  {
   "cell_type": "markdown",
   "id": "1ac045c0-7b65-42dd-a419-2e3917b0bd3e",
   "metadata": {},
   "source": [
    "### import first measurement moment after baseline labs from 2023 and 2024\n",
    "These labs should be named with 1 and uploaded to Castor as repeating data"
   ]
  },
  {
   "cell_type": "markdown",
   "id": "bfa939e3-842f-4b88-96c4-dbaaeb426bd2",
   "metadata": {
    "tags": []
   },
   "source": [
    "# SUPER IMPORTANT\n",
    "\n",
    "This data has been mixed between multiple measurement moments. It needs filtering to get rid of baseline data. "
   ]
  },
  {
   "cell_type": "code",
   "execution_count": null,
   "id": "5e42059e-c5c1-4005-92cc-dfb1e1de0720",
   "metadata": {
    "tags": []
   },
   "outputs": [],
   "source": [
    "#lab_data_baseline = pd.read_excel('../../secret_data/Brick_lab_20230914.xlsx')\n",
    "lab_data = pd.read_csv('../../secret_data/BRICK_lab_data_update_18_03_2024.csv', sep= ';', encoding='latin1')"
   ]
  },
  {
   "cell_type": "code",
   "execution_count": null,
   "id": "858462aa-fe14-4eb4-87f8-d95b5d55a718",
   "metadata": {
    "tags": []
   },
   "outputs": [],
   "source": [
    "lab_data.head(3)"
   ]
  },
  {
   "cell_type": "code",
   "execution_count": null,
   "id": "ab4f0aeb-a9ef-442f-9913-abdf2a9f114c",
   "metadata": {
    "tags": []
   },
   "outputs": [],
   "source": [
    "len(lab_data.studieID.unique())"
   ]
  },
  {
   "cell_type": "code",
   "execution_count": null,
   "id": "484a9845-898f-4dba-b3ce-a866df25a6ad",
   "metadata": {
    "tags": []
   },
   "outputs": [],
   "source": [
    "lab_data['studieID'] = lab_data['studieID'].astype(str)\n",
    "lab_data['studieID'] = lab_data['studieID'].str.replace(\"-\", \"_\")"
   ]
  },
  {
   "cell_type": "code",
   "execution_count": null,
   "id": "e2e5a555-109d-4b43-ac23-44e67c61cf28",
   "metadata": {
    "tags": []
   },
   "outputs": [],
   "source": [
    "lab_data.head(3)"
   ]
  },
  {
   "cell_type": "markdown",
   "id": "82bfbb15-1503-4e3f-ad3c-46a7058ff6c6",
   "metadata": {},
   "source": [
    "### We want  all the patients on thier own line, but not many lines per patient\n",
    "We will try to accomplish this by splitting the dataset into each code-code-original i.e. each type of lab taken on the assumption we will almost always have one lab"
   ]
  },
  {
   "cell_type": "code",
   "execution_count": null,
   "id": "b2432d65-eaca-4353-aca2-9ea5cd5518b6",
   "metadata": {
    "tags": []
   },
   "outputs": [],
   "source": [
    "lab_data.code_code_original.unique()"
   ]
  },
  {
   "cell_type": "code",
   "execution_count": null,
   "id": "457095eb-45e9-4bd6-a487-9132e5e16f1c",
   "metadata": {
    "tags": []
   },
   "outputs": [],
   "source": [
    "codes = lab_data.code_code_original.unique().astype(str)\n",
    "codes"
   ]
  },
  {
   "cell_type": "code",
   "execution_count": null,
   "id": "30657f66-65b6-44aa-b3f3-9b48de2643cd",
   "metadata": {
    "tags": []
   },
   "outputs": [],
   "source": [
    "lab_data[lab_data['code_code_original'].isna()]"
   ]
  },
  {
   "cell_type": "markdown",
   "id": "5aa6f11c-dd5a-40fd-b14c-c59653a1c0c7",
   "metadata": {},
   "source": [
    "Again we see all the nans are sodiums. We will transform them to NA"
   ]
  },
  {
   "cell_type": "code",
   "execution_count": null,
   "id": "f007a85a-b280-424d-a1d4-d4592d5f3f17",
   "metadata": {
    "tags": []
   },
   "outputs": [],
   "source": [
    "lab_data['code_code_original'] = lab_data['code_code_original'].fillna('NA')"
   ]
  },
  {
   "cell_type": "code",
   "execution_count": null,
   "id": "f9728e47-64e1-4c42-aa6c-9802c7e3898d",
   "metadata": {
    "tags": []
   },
   "outputs": [],
   "source": [
    "codes = lab_data.code_code_original.unique().astype(str)\n",
    "codes"
   ]
  },
  {
   "cell_type": "code",
   "execution_count": null,
   "id": "aa001d38-d721-4d51-8868-d69926507cff",
   "metadata": {
    "tags": []
   },
   "outputs": [],
   "source": [
    "#lab_data[lab_data['code_code_original'] == 'nan']"
   ]
  },
  {
   "cell_type": "code",
   "execution_count": null,
   "id": "1bdd41ae-8d5d-4c71-8ab4-f132fa633138",
   "metadata": {
    "tags": []
   },
   "outputs": [],
   "source": [
    "len(codes)"
   ]
  },
  {
   "cell_type": "code",
   "execution_count": null,
   "id": "9b7113e2-66af-4adb-ac7e-1c9190de6fd6",
   "metadata": {
    "tags": []
   },
   "outputs": [],
   "source": [
    "## Notte there is a code BRICK...let's examine"
   ]
  },
  {
   "cell_type": "code",
   "execution_count": null,
   "id": "198531cb-1514-42ee-a208-2e37da27ad91",
   "metadata": {
    "tags": []
   },
   "outputs": [],
   "source": [
    "lab_data[lab_data.code_code_original =='BRICK'].head(5)"
   ]
  },
  {
   "cell_type": "code",
   "execution_count": null,
   "id": "77eef289-41e4-4883-98b6-e215739f3b27",
   "metadata": {
    "tags": []
   },
   "outputs": [],
   "source": [
    "len(example.columns)"
   ]
  },
  {
   "cell_type": "markdown",
   "id": "f7960918-5645-494d-a2ec-66129d94ea66",
   "metadata": {},
   "source": [
    "Scientists not interested in ICT, LIP, HEM, ORD8, BAF9 or EX_LUMC therefore we will drop these values"
   ]
  },
  {
   "cell_type": "code",
   "execution_count": null,
   "id": "32d390d5-731c-4971-8fb4-1a51ffd44878",
   "metadata": {
    "tags": []
   },
   "outputs": [],
   "source": [
    "lab_data = lab_data.drop(lab_data[lab_data['code_code_original']== 'ICT'].index)\n",
    "lab_data = lab_data.drop(lab_data[lab_data['code_code_original']== 'LIP'].index)\n",
    "lab_data = lab_data.drop(lab_data[lab_data['code_code_original']== 'HEM'].index)\n",
    "lab_data = lab_data.drop(lab_data[lab_data['code_code_original']== 'ORD8'].index)\n",
    "lab_data = lab_data.drop(lab_data[lab_data['code_code_original']== 'BAF9'].index)\n",
    "lab_data = lab_data.drop(lab_data[lab_data['code_code_original']== 'EX_LUMC'].index)"
   ]
  },
  {
   "cell_type": "markdown",
   "id": "8647deb0-4894-48c8-9217-5f02857ff61f",
   "metadata": {
    "tags": []
   },
   "source": [
    "Also according to example there are about 50 other codes they do ont care for. We will drop these here too: "
   ]
  },
  {
   "cell_type": "code",
   "execution_count": null,
   "id": "c331248c-d38e-4f29-9c70-16d75245ada9",
   "metadata": {
    "tags": []
   },
   "outputs": [],
   "source": [
    "codes0 = [code + \"0\" for code in codes]\n",
    "codes0_set = set(codes0)\n",
    "expected_set = set(example.columns)\n",
    "expected_set"
   ]
  },
  {
   "cell_type": "code",
   "execution_count": null,
   "id": "e0a83345-2b11-4f45-90ab-c4da0d247ac4",
   "metadata": {
    "tags": []
   },
   "outputs": [],
   "source": [
    "# here we will show columsn we were essentially asked to get rid of\n",
    "droppable = codes0_set - expected_set\n",
    "list_droppable = list(droppable)\n",
    "list_droppable = [code[:-1] for code in list_droppable]\n",
    "#list_droppable"
   ]
  },
  {
   "cell_type": "code",
   "execution_count": null,
   "id": "8260e470-1bb6-44a8-ae2f-d6f3977888f5",
   "metadata": {
    "tags": []
   },
   "outputs": [],
   "source": [
    "# here we can show what we will keep\n",
    "list_keepable = expected_set\n",
    "list_keepable =  [code[:-1] for code in list_keepable]\n",
    "list_keepable"
   ]
  },
  {
   "cell_type": "code",
   "execution_count": null,
   "id": "e6faaa02-c8f7-4ee8-bf0c-24443fad7802",
   "metadata": {
    "tags": []
   },
   "outputs": [],
   "source": [
    "list_keepable_amended = ['CRP',\n",
    "                         'FERT',\n",
    "                         'TROMBO',\n",
    "                         'MCV',\n",
    "                         'K',\n",
    "                         'FOLZ',\n",
    "                         'HB',\n",
    "                         'HT',\n",
    "                         'UREU',\n",
    "                         'VITD',\n",
    "                         'GGT',\n",
    "                         'ALB_U',\n",
    "                         'SCHWARTZ-Bedsite',\n",
    "                         'ASAT',\n",
    "                         'ERY',\n",
    "                         'TBIL',\n",
    "                         'DBIL',\n",
    "                         'TE_U',\n",
    "                         'TRAF',\n",
    "                         'AFOS',\n",
    "                         'NA',\n",
    "                         'GRAT',\n",
    "                         'LDH',\n",
    "                         'FE',\n",
    "                         'ALB_U_KR',\n",
    "                         'B12',\n",
    "                         'LEU',\n",
    "                         'RETI',\n",
    "                         'TSAT',\n",
    "                         'KREA_U',\n",
    "                         'ALAT',\n",
    "                         'KREA',\n",
    "                         'TE_U_KR',\n",
    "                         'NRCA',\n",
    "                         'RDW',]"
   ]
  },
  {
   "cell_type": "code",
   "execution_count": null,
   "id": "e0ace4d8-8a44-4b6f-bf87-f6401e756d5b",
   "metadata": {
    "tags": []
   },
   "outputs": [],
   "source": [
    "# lab_data_baseline = lab_data_baseline[~lab_data_baseline[lab_data_baseline['code_code_original'].isin(list_droppable)]]\n",
    "# lab_data_baseline\n",
    "lab_data = lab_data[lab_data['code_code_original'].isin(list_keepable_amended)]"
   ]
  },
  {
   "cell_type": "code",
   "execution_count": null,
   "id": "caa96053-c574-4a6e-a9c3-87c94df888e8",
   "metadata": {
    "tags": []
   },
   "outputs": [],
   "source": [
    "lab_data['code_code_original'].unique()"
   ]
  },
  {
   "cell_type": "code",
   "execution_count": null,
   "id": "eb4d442b-3bb9-46de-bf5c-cf21bead2b80",
   "metadata": {
    "tags": []
   },
   "outputs": [],
   "source": [
    "new_codes = list(lab_data['code_code_original'].unique())"
   ]
  },
  {
   "cell_type": "markdown",
   "id": "7bb74c22-41de-4569-aa0f-776a750d5c91",
   "metadata": {},
   "source": [
    "Scientist wants to get rid of doubles, i.e. #####brick 08, 12, 21 and 25. There are doubles because labs were not taken at precisely the same time. But we also do not want to upload duplicate data from the first measurement point to the second...therefore we can simply get rid of labs which are actually duplicates. "
   ]
  },
  {
   "cell_type": "code",
   "execution_count": null,
   "id": "f43495a7-ee29-4d39-8b7b-e24d24089915",
   "metadata": {
    "tags": []
   },
   "outputs": [],
   "source": [
    "#example\n",
    "lab_data[lab_data['studieID'] == 'BRICK_008']['effectiveDateTime'].unique()"
   ]
  },
  {
   "cell_type": "markdown",
   "id": "d25275d5-ec2d-4baf-b140-0b560dd43607",
   "metadata": {},
   "source": [
    "All Brick 8 labs are duplicated from the first measurement moment. We can discard. "
   ]
  },
  {
   "cell_type": "code",
   "execution_count": null,
   "id": "3d5ab95b-951b-4b92-a134-fe97a9106063",
   "metadata": {},
   "outputs": [],
   "source": []
  },
  {
   "cell_type": "code",
   "execution_count": null,
   "id": "3ac9fa82-5b22-4041-93f9-381c9f280908",
   "metadata": {
    "tags": []
   },
   "outputs": [],
   "source": [
    "#12\n",
    "lab_data[lab_data['studieID'] == 'BRICK_012']['effectiveDateTime'].unique()"
   ]
  },
  {
   "cell_type": "markdown",
   "id": "5bac2013-b854-4a89-8d0d-57113b0c3a25",
   "metadata": {
    "tags": []
   },
   "source": [
    "All brick-12 measurements are duplicated from first baseline measurement moment, we can discard"
   ]
  },
  {
   "cell_type": "code",
   "execution_count": null,
   "id": "e71dc5a6-3ee5-4f13-a59e-9ea97b3f7a5f",
   "metadata": {
    "tags": []
   },
   "outputs": [],
   "source": [
    "lab_data[lab_data['studieID'] == 'BRICK_021']['effectiveDateTime'].unique()"
   ]
  },
  {
   "cell_type": "code",
   "execution_count": null,
   "id": "ce20d3d9-5f91-45bb-8e85-27441983b5cd",
   "metadata": {
    "tags": []
   },
   "outputs": [],
   "source": [
    "lab_data[lab_data['studieID'] == 'BRICK_025']['effectiveDateTime'].unique()"
   ]
  },
  {
   "cell_type": "markdown",
   "id": "ac37055b-0792-44d3-a3b5-b8777d794d65",
   "metadata": {
    "tags": []
   },
   "source": [
    "All Brick 25 are duuplicates of first measurement moment. We can discard."
   ]
  },
  {
   "cell_type": "markdown",
   "id": "cba8b481-b6ca-4604-9741-fdb719a39307",
   "metadata": {
    "tags": []
   },
   "source": [
    "There are also additional duplicates in labs for 23 and 55"
   ]
  },
  {
   "cell_type": "code",
   "execution_count": null,
   "id": "d677f15b-6c98-4d45-98b0-0a34ea4028d5",
   "metadata": {
    "tags": []
   },
   "outputs": [],
   "source": [
    "lab_data[lab_data['studieID'] == 'BRICK_023']['effectiveDateTime'].unique()"
   ]
  },
  {
   "cell_type": "markdown",
   "id": "5e742dc6-9fc7-4d3f-affa-2a30f4df53ef",
   "metadata": {},
   "source": [
    "These labs are effectively the same date, so we will make them so"
   ]
  },
  {
   "cell_type": "code",
   "execution_count": null,
   "id": "e4253442-9493-4548-b5dc-de040f6e4546",
   "metadata": {
    "tags": []
   },
   "outputs": [],
   "source": [
    "brick_23_wanted = lab_data[lab_data['studieID'] == 'BRICK_023']\n",
    "# brick_23 seems to have a lot of botched labs they redid\n",
    "brick_23_wanted = brick_23_wanted[brick_23_wanted['valueQuantity_value'].notna()]\n",
    "brick_23_wanted"
   ]
  },
  {
   "cell_type": "code",
   "execution_count": null,
   "id": "fa785b45-e7eb-4d2c-896c-006df805fec5",
   "metadata": {
    "tags": []
   },
   "outputs": [],
   "source": [
    "lab_data[lab_data['studieID'] == 'BRICK_055']['effectiveDateTime'].unique()"
   ]
  },
  {
   "cell_type": "markdown",
   "id": "e931e766-2e80-4966-9cae-8c8941e3b679",
   "metadata": {},
   "source": [
    "These labs are effectively the same date, so we will make them so"
   ]
  },
  {
   "cell_type": "code",
   "execution_count": null,
   "id": "7fcb2e08-15a1-4e87-9cab-91ca209dc3a4",
   "metadata": {
    "tags": []
   },
   "outputs": [],
   "source": [
    "lab_data[lab_data['studieID'] == 'BRICK_055']"
   ]
  },
  {
   "cell_type": "markdown",
   "id": "f6f60036-fab2-4473-91ef-84b8c8e177b7",
   "metadata": {},
   "source": [
    "We must choose as the same labs were ralen more than once."
   ]
  },
  {
   "cell_type": "code",
   "execution_count": null,
   "id": "66c478c5-212f-4c62-96e1-5142b0fdcfdd",
   "metadata": {
    "tags": []
   },
   "outputs": [],
   "source": [
    "brick_55_wanted = lab_data[lab_data['studieID'] == 'BRICK_055']\n",
    "brick_55_wanted = brick_55_wanted[brick_55_wanted['effectiveDateTime'].isin(['2023-11-17 11:35:12.0000000', '2023-11-17 12:20:40.0000000'])]\n",
    "# we also have different issue times, we will get rid of that\n",
    "brick_55_wanted['issued'] = '2023-11-17 13:09:00.0000000'"
   ]
  },
  {
   "cell_type": "code",
   "execution_count": null,
   "id": "c75374ba-19e0-4873-828b-83a14ed73c25",
   "metadata": {},
   "outputs": [],
   "source": [
    "brick_55_wanted"
   ]
  },
  {
   "cell_type": "code",
   "execution_count": null,
   "id": "bfd06029-481b-4f0b-8d7b-ab325350588f",
   "metadata": {
    "tags": []
   },
   "outputs": [],
   "source": [
    "STOP #brick_55_wanted STOP"
   ]
  },
  {
   "cell_type": "code",
   "execution_count": null,
   "id": "c80a4784-7e3d-4842-8732-c6d7edabe7a0",
   "metadata": {
    "tags": []
   },
   "outputs": [],
   "source": [
    "lab_data[lab_data['studieID'] == 'BRICK_052']['effectiveDateTime'].unique()"
   ]
  },
  {
   "cell_type": "code",
   "execution_count": null,
   "id": "b817b4dc-011a-4d14-98b1-363337a90e67",
   "metadata": {
    "tags": []
   },
   "outputs": [],
   "source": [
    "brick_52_wanted = lab_data[lab_data['studieID'] == 'BRICK_052']\n",
    "# brick_52_wanted['effectiveDateTime'] = '2023-04-04 14:03:22.0000000'\n",
    "# brick_52_wanted['issued'] = '2023-04-04 14:42:56.0000000'\n",
    "for column in brick_52_wanted.columns:\n",
    "    print(brick_52_wanted[column].unique())"
   ]
  },
  {
   "cell_type": "code",
   "execution_count": null,
   "id": "b30df9bf-b94a-45ff-a23f-f44c1d157825",
   "metadata": {
    "tags": []
   },
   "outputs": [],
   "source": [
    "#now let's drop all of them, then append back on what we want\n",
    "lab_data_no_ = lab_data.drop(lab_data[lab_data['studieID'] == 'BRICK_012'].index)\n",
    "lab_data_no_ = lab_data_no_.drop(lab_data_no_[lab_data_no_['studieID'] == 'BRICK_008'].index)\n",
    "lab_data_no_ = lab_data_no_.drop(lab_data_no_[lab_data_no_['studieID'] == 'BRICK_021'].index)\n",
    "lab_data_no_ = lab_data_no_.drop(lab_data_no_[lab_data_no_['studieID'] == 'BRICK_025'].index)\n",
    "lab_data_no_ = lab_data_no_.drop(lab_data_no_[lab_data_no_['studieID'] == 'BRICK_023'].index)\n",
    "lab_data_no_ = lab_data_no_.drop(lab_data_no_[lab_data_no_['studieID'] == 'BRICK_055'].index)\n",
    "lab_data_no_ = lab_data_no_.drop(lab_data_no_[lab_data_no_['studieID'] == 'BRICK_052'].index)\n",
    "lab_data_no_ = lab_data_no_.drop(lab_data_no_[lab_data_no_['studieID'] == 'BRICK_058'].index)"
   ]
  },
  {
   "cell_type": "code",
   "execution_count": null,
   "id": "0de3206b-7dba-41fb-ba27-af34d977de62",
   "metadata": {
    "tags": []
   },
   "outputs": [],
   "source": [
    "lab_data_no_.studieID.unique()"
   ]
  },
  {
   "cell_type": "code",
   "execution_count": null,
   "id": "ed237995-20cf-4fdc-84e8-31d4ce133273",
   "metadata": {
    "tags": []
   },
   "outputs": [],
   "source": [
    "lab_data_no_.effectiveDateTime.unique()"
   ]
  },
  {
   "cell_type": "code",
   "execution_count": null,
   "id": "20b121ad-b4f8-4553-8792-630bd0de2379",
   "metadata": {
    "tags": []
   },
   "outputs": [],
   "source": [
    "brick_58_wanted = lab_data_no_[lab_data_no_['studieID'] == 'BRICK_058']\n",
    "brick_58_wanted['effectiveDateTime']= '2023-05-10 09:45:08.0000000'\n",
    "brick_58_wanted['issued']= '2023-05-10 10:41:43.0000000'"
   ]
  },
  {
   "cell_type": "code",
   "execution_count": null,
   "id": "b927b4e0-ec2a-4b4d-af3a-dfa5d0d4129e",
   "metadata": {
    "tags": []
   },
   "outputs": [],
   "source": [
    "#lab_data_no_[lab_data_no_['effectiveDateTime'] == '2023-05-10 09:45:08.0000000']"
   ]
  },
  {
   "cell_type": "markdown",
   "id": "f2522196-eb61-40d0-8537-48ee329ca743",
   "metadata": {
    "tags": []
   },
   "source": [
    "# We see we still have lots of labs that are original, we will need to get rid off them by either a date cut-off or a filter\n",
    "\n",
    "We also see some suspicoiusly close labs"
   ]
  },
  {
   "cell_type": "code",
   "execution_count": null,
   "id": "856a6299-3651-4f9b-93a3-e4a2c2ba33fa",
   "metadata": {
    "tags": []
   },
   "outputs": [],
   "source": [
    "lab_data_no_"
   ]
  },
  {
   "cell_type": "code",
   "execution_count": null,
   "id": "338fe48a-aeca-4818-999f-4ffce9bc18b2",
   "metadata": {
    "tags": []
   },
   "outputs": [],
   "source": [
    "lab_data = pd.concat([lab_data_no_, brick_52_wanted, brick_55_wanted, brick_23_wanted, brick_58_wanted])\n",
    "lab_data.shape"
   ]
  },
  {
   "cell_type": "code",
   "execution_count": null,
   "id": "7e1d6acc-8417-4656-bc01-70789009e797",
   "metadata": {
    "tags": []
   },
   "outputs": [],
   "source": [
    "brick_55_wanted"
   ]
  },
  {
   "cell_type": "code",
   "execution_count": null,
   "id": "8dfc45c3-02a7-433c-9f0d-98e6ab353a19",
   "metadata": {
    "tags": []
   },
   "outputs": [],
   "source": [
    "list_of_data_frames = []\n",
    "for code in new_codes:\n",
    "    prenames = [\"code_code_original\", code]\n",
    "    frame_name = \"_\".join(prenames)\n",
    "    #print(frame_name)\n",
    "    frame_name = lab_data[lab_data['code_code_original'] == code]\n",
    "    frame_name = frame_name.add_suffix(code)\n",
    "    frame_name = frame_name.rename(columns= {frame_name.columns[0]:'studieID'})\n",
    "    list_of_data_frames.append(frame_name)\n",
    "    "
   ]
  },
  {
   "cell_type": "code",
   "execution_count": null,
   "id": "1617a066-743d-4113-8488-42f4f112f021",
   "metadata": {
    "tags": []
   },
   "outputs": [],
   "source": [
    "len(list_of_data_frames)"
   ]
  },
  {
   "cell_type": "code",
   "execution_count": null,
   "id": "55f5c675-e61f-4481-a5d1-4363371df7d3",
   "metadata": {
    "tags": []
   },
   "outputs": [],
   "source": [
    "len(new_codes)"
   ]
  },
  {
   "cell_type": "markdown",
   "id": "06f285e5-f7d5-4678-ac3d-7d8a09ac8dce",
   "metadata": {},
   "source": [
    "Let's look at an example:"
   ]
  },
  {
   "cell_type": "code",
   "execution_count": null,
   "id": "cd5ae36d-613c-4628-a9b4-c29f4ed8afb6",
   "metadata": {
    "tags": []
   },
   "outputs": [],
   "source": [
    "list_of_data_frames[0].head(3) "
   ]
  },
  {
   "cell_type": "code",
   "execution_count": null,
   "id": "f398f13a-3505-407e-a2b6-1ebfe32dd69b",
   "metadata": {
    "tags": []
   },
   "outputs": [],
   "source": [
    "list_of_data_frames[1].head(3) "
   ]
  },
  {
   "cell_type": "code",
   "execution_count": null,
   "id": "0ddb63ec-04b4-4b27-9406-c8ecbf3fbf88",
   "metadata": {
    "tags": []
   },
   "outputs": [],
   "source": [
    "list_of_data_frames[1].shape"
   ]
  },
  {
   "cell_type": "markdown",
   "id": "e0965d75-f330-4431-9b51-edff0f810a87",
   "metadata": {},
   "source": [
    "So far so good, we have a frame with in the example above the DBIL. We then tried to do a big reduction; but it produced repeaters"
   ]
  },
  {
   "cell_type": "code",
   "execution_count": null,
   "id": "233daf4a-57aa-4ad2-9b95-91cb0125d7eb",
   "metadata": {
    "tags": []
   },
   "outputs": [],
   "source": [
    "semi_final_df = reduce(lambda left,right: pd.merge(left,right, on=['studieID'], how='outer'), list_of_data_frames)"
   ]
  },
  {
   "cell_type": "code",
   "execution_count": null,
   "id": "40b58f8f-40f2-44d5-b80f-7fc910bb467c",
   "metadata": {
    "tags": []
   },
   "outputs": [],
   "source": [
    "semi_final_df.shape"
   ]
  },
  {
   "cell_type": "code",
   "execution_count": null,
   "id": "efa5264d-7ae5-4fca-99e8-20c2e2cfd1ef",
   "metadata": {
    "tags": []
   },
   "outputs": [],
   "source": [
    "semi_final_df.head(5)"
   ]
  },
  {
   "cell_type": "code",
   "execution_count": null,
   "id": "fe569a49-de2c-4b83-9b48-469ae6a85f44",
   "metadata": {
    "tags": []
   },
   "outputs": [],
   "source": [
    "for studieID in semi_final_df.studieID:\n",
    "    print(studieID)"
   ]
  },
  {
   "cell_type": "code",
   "execution_count": null,
   "id": "b7880280-c62a-4d3f-af19-8247ad6d08c6",
   "metadata": {
    "tags": []
   },
   "outputs": [],
   "source": [
    "# now we need to change the columns names to those expoected by scientist\n",
    "for  f in semi_final_df.columns:\n",
    "    print(f)"
   ]
  },
  {
   "cell_type": "code",
   "execution_count": null,
   "id": "5f003094-86a3-4815-8c3b-00ac76d283ec",
   "metadata": {
    "tags": []
   },
   "outputs": [],
   "source": [
    "list_keepable_amended_with_id = [\"valueQuantity_value\" + code for code in list_keepable_amended]\n",
    "# [code + \"0\" for code in codes]\n",
    "list_keepable_amended_with_id = list_keepable_amended_with_id + ['studieID']\n",
    "list_keepable_amended_with_id"
   ]
  },
  {
   "cell_type": "code",
   "execution_count": null,
   "id": "597c535e-4aa1-4eb5-af12-39cea867bf8a",
   "metadata": {
    "tags": []
   },
   "outputs": [],
   "source": [
    "final_amend = ['studieID',\n",
    "               'valueQuantity_valueCRP',\n",
    "                 'valueQuantity_valueFERT',\n",
    "                 'valueQuantity_valueTROMBO',\n",
    "                 'valueQuantity_valueMCV',\n",
    "                 'valueQuantity_valueK',\n",
    "                 'valueQuantity_valueFOLZ',\n",
    "                 'valueQuantity_valueHB',\n",
    "                 'valueQuantity_valueHT',\n",
    "                 'valueQuantity_valueUREU',\n",
    "                 'valueQuantity_valueVITD',\n",
    "                 'valueQuantity_valueGGT',\n",
    "                 'valueQuantity_valueALB_U',\n",
    "                 'valueQuantity_valueSCHWARTZ-Bedsite',\n",
    "                 'valueQuantity_valueASAT',\n",
    "                 'valueQuantity_valueERY',\n",
    "                 'valueQuantity_valueTBIL',\n",
    "                 'valueQuantity_valueDBIL',\n",
    "                 'valueQuantity_valueTE_U',\n",
    "                 'valueQuantity_valueTRAF',\n",
    "                 'valueQuantity_valueAFOS',\n",
    "                 'valueQuantity_valueNA',\n",
    "                 'valueQuantity_valueGRAT',\n",
    "                 'valueQuantity_valueLDH',\n",
    "                 'valueQuantity_valueFE',\n",
    "                 'valueQuantity_valueALB_U_KR',\n",
    "                 'valueQuantity_valueB12',\n",
    "                 'valueQuantity_valueLEU',\n",
    "                 'valueQuantity_valueRETI',\n",
    "                 'valueQuantity_valueTSAT',\n",
    "                 'valueQuantity_valueKREA_U',\n",
    "                 'valueQuantity_valueALAT',\n",
    "                 'valueQuantity_valueKREA',\n",
    "                 'valueQuantity_valueTE_U_KR',\n",
    "                 'valueQuantity_valueNRCA',\n",
    "                 'valueQuantity_valueRDW', ]"
   ]
  },
  {
   "cell_type": "code",
   "execution_count": null,
   "id": "38107b3a-0751-42fb-9459-8386dab2a2bd",
   "metadata": {
    "tags": []
   },
   "outputs": [],
   "source": [
    "filtered = semi_final_df[final_amend]\n",
    "filtered"
   ]
  },
  {
   "cell_type": "code",
   "execution_count": null,
   "id": "5fe7f4c9-1697-4a40-a62a-9e42af318329",
   "metadata": {
    "tags": []
   },
   "outputs": [],
   "source": [
    "columns_dictionary = {'studieID':'Participant ID',\n",
    "                      'valueQuantity_valueCRP':'CRP1',  \n",
    "                      'valueQuantity_valueFERT':'FERT1',\n",
    "                      'valueQuantity_valueTROMBO':'TROMBO1',\n",
    "                      'valueQuantity_valueMCV':'MCV1',\n",
    "                      'valueQuantity_valueK':'K1',\n",
    "                      'valueQuantity_valueFOLZ':'FOLZ1',\n",
    "                      'valueQuantity_valueHB':'HB1',  \n",
    "                      'valueQuantity_valueHT':'HT1',\n",
    "                      'valueQuantity_valueUREU':'UREU1',  \n",
    "                      'valueQuantity_valueVITD':'VITD1',\n",
    "                      'valueQuantity_valueGGT':'GGT1',  \n",
    "                      'valueQuantity_valueALB_U':'ALB_U1',\n",
    "                      'valueQuantity_valueSCHWARTZ-Bedsite':'SCHWARTZ-Bedsite1',  \n",
    "                      'valueQuantity_valueASAT':'ASAT1',\n",
    "                      'valueQuantity_valueERY':'ERY1',  \n",
    "                      'valueQuantity_valueTBIL':'TBIL1',\n",
    "                      'valueQuantity_valueDBIL':'DBIL1',  \n",
    "                      'valueQuantity_valueTE_U':'TE_U1',\n",
    "                      'valueQuantity_valueTRAF':'TRAF1',  \n",
    "                      'valueQuantity_valueNA':'NA1',\n",
    "                      'valueQuantity_valueAFOS':'AFOS1',\n",
    "                      'valueQuantity_valueGRAT':'GRAT1',  \n",
    "                      'valueQuantity_valueLDH':'LDH1',\n",
    "                      'valueQuantity_valueFE':'FE1',  \n",
    "                      'valueQuantity_valueALB_U_KR':'ALB_U_KR1',\n",
    "                      'valueQuantity_valueB12':'B121',  \n",
    "                      'valueQuantity_valueLEU':'LEU1',\n",
    "                      'valueQuantity_valueRETI':'RETI1',  \n",
    "                      'valueQuantity_valueTSAT':'TSAT1',\n",
    "                      'valueQuantity_valueKREA_U':'KREA_U1',  \n",
    "                      'valueQuantity_valueALAT':'ALAT1',\n",
    "                      'valueQuantity_valueKREA':'KREA1',  \n",
    "                      'valueQuantity_valueTE_U_KR':'TE_U_KR1',\n",
    "                      'valueQuantity_valueNRCA':'NRCA1',  \n",
    "                      'valueQuantity_valueRDW':'RDW1'}\n",
    "filtered = filtered.rename(columns = columns_dictionary)\n",
    "filtered"
   ]
  },
  {
   "cell_type": "code",
   "execution_count": null,
   "id": "12a0e725-07f5-4f87-932f-5a98b617249b",
   "metadata": {
    "tags": []
   },
   "outputs": [],
   "source": [
    "filtered.columns"
   ]
  },
  {
   "cell_type": "code",
   "execution_count": null,
   "id": "92f8bdc0-f7b6-471d-ac0e-7c43aee74cd7",
   "metadata": {
    "tags": []
   },
   "outputs": [],
   "source": [
    "filtered['Participant Status']= 'Enrolled'"
   ]
  },
  {
   "cell_type": "code",
   "execution_count": null,
   "id": "40655a18-e6c3-404e-afcd-00070f475571",
   "metadata": {
    "tags": []
   },
   "outputs": [],
   "source": [
    "filtered['Site Abbreviation'] = 'ERA'"
   ]
  },
  {
   "cell_type": "markdown",
   "id": "41964960-144d-4e65-85df-bad8530219c0",
   "metadata": {
    "tags": []
   },
   "source": [
    "No idea where to get Participant Creation Date from ...it isn'tteh same as lab date, so let's leave it out."
   ]
  },
  {
   "cell_type": "code",
   "execution_count": null,
   "id": "30f07d05-58ac-47b2-a6cd-7b49514e5a99",
   "metadata": {
    "tags": []
   },
   "outputs": [],
   "source": [
    "filtered.shape"
   ]
  },
  {
   "cell_type": "code",
   "execution_count": null,
   "id": "839d095b-3e29-42e2-9135-e4ecc5560ce4",
   "metadata": {
    "tags": []
   },
   "outputs": [],
   "source": [
    "#filtered.to_csv('../../secret_data/castor_with_salt_second_measurement_moment_labs.csv')"
   ]
  },
  {
   "cell_type": "code",
   "execution_count": null,
   "id": "441efc7c-968e-483e-9af4-23edb8582bb6",
   "metadata": {},
   "outputs": [],
   "source": [
    "filtered"
   ]
  },
  {
   "cell_type": "code",
   "execution_count": null,
   "id": "4053663f-2316-4dd1-9023-368c40ea237a",
   "metadata": {
    "tags": []
   },
   "outputs": [],
   "source": []
  },
  {
   "cell_type": "markdown",
   "id": "428ae42b-78af-431f-91df-7a904e616d5c",
   "metadata": {},
   "source": [
    "# We also need to filter away the baseline LABS!"
   ]
  }
 ],
 "metadata": {
  "kernelspec": {
   "display_name": "Python 3 (ipykernel)",
   "language": "python",
   "name": "python3"
  },
  "language_info": {
   "codemirror_mode": {
    "name": "ipython",
    "version": 3
   },
   "file_extension": ".py",
   "mimetype": "text/x-python",
   "name": "python",
   "nbconvert_exporter": "python",
   "pygments_lexer": "ipython3",
   "version": "3.11.8"
  }
 },
 "nbformat": 4,
 "nbformat_minor": 5
}
