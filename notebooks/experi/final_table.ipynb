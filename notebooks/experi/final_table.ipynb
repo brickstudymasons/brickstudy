{
 "cells": [
  {
   "cell_type": "markdown",
   "id": "0",
   "metadata": {},
   "source": [
    "# final castor proof"
   ]
  },
  {
   "cell_type": "markdown",
   "id": "1",
   "metadata": {},
   "source": [
    "uses 1. WAISI (WAISIV_gemstracker_poging_makeda.csv) + WISC_V + (transformed 'Participant Id') \n",
    "\n",
    "--> IQ_sheet"
   ]
  },
  {
   "cell_type": "markdown",
   "id": "2",
   "metadata": {},
   "source": [
    "link to brick_score_key_26_4_2024 with key of 'Participant Id'"
   ]
  },
  {
   "cell_type": "markdown",
   "id": "3",
   "metadata": {},
   "source": [
    "tranformed lab- link by studieID is 'Participant Id'"
   ]
  },
  {
   "cell_type": "code",
   "execution_count": null,
   "id": "4",
   "metadata": {
    "tags": []
   },
   "outputs": [],
   "source": [
    "import os\n",
    "import sys\n",
    "from functools import reduce\n",
    "import pandas as pd\n",
    "import numpy as np\n",
    "import seaborn as sns\n",
    "import matplotlib.pyplot as plt\n",
    "\n",
    "sys.path.insert(0, '../../')\n",
    "from brickstudy import foundation"
   ]
  },
  {
   "cell_type": "code",
   "execution_count": null,
   "id": "5",
   "metadata": {
    "tags": []
   },
   "outputs": [],
   "source": [
    "WAISIV_BRICK_T0dd08042024 = pd.read_csv(\"../../secret_data/WAISIV_gemstracker_poging_makeda.csv\", sep=\",\", encoding='latin1' )\n",
    "WAISIV_BRICK_T0dd08042024.head(2)"
   ]
  },
  {
   "cell_type": "code",
   "execution_count": null,
   "id": "6",
   "metadata": {},
   "outputs": [],
   "source": [
    "WAISIV_BRICK_T0dd08042024.shape"
   ]
  },
  {
   "cell_type": "code",
   "execution_count": null,
   "id": "7",
   "metadata": {},
   "outputs": [],
   "source": [
    "WAISIV_BRICK_T0dd08042024.loc[0,'Participant Id'] = 'BRICK_057'"
   ]
  },
  {
   "cell_type": "code",
   "execution_count": null,
   "id": "8",
   "metadata": {},
   "outputs": [],
   "source": [
    "set_of_wais = set( WAISIV_BRICK_T0dd08042024['Participant Id'])\n",
    "set_of_wais"
   ]
  },
  {
   "cell_type": "code",
   "execution_count": null,
   "id": "9",
   "metadata": {
    "tags": []
   },
   "outputs": [],
   "source": [
    "WISC_V_BRICK_T0dd08042024 = pd.read_csv(\"../../secret_data/WISCV_gemstracker_poging_makeda_csv.csv\", sep=\",\")\n",
    "WISC_V_BRICK_T0dd08042024.head(2) "
   ]
  },
  {
   "cell_type": "code",
   "execution_count": null,
   "id": "10",
   "metadata": {},
   "outputs": [],
   "source": [
    "set_of_wisk = set( WISC_V_BRICK_T0dd08042024['Participant Id'])\n",
    "set_of_wisk"
   ]
  },
  {
   "cell_type": "code",
   "execution_count": null,
   "id": "11",
   "metadata": {},
   "outputs": [],
   "source": [
    "set_of_wais.intersection(set_of_wisk)"
   ]
  },
  {
   "cell_type": "code",
   "execution_count": null,
   "id": "12",
   "metadata": {},
   "outputs": [],
   "source": []
  },
  {
   "cell_type": "code",
   "execution_count": null,
   "id": "13",
   "metadata": {
    "tags": []
   },
   "outputs": [],
   "source": [
    "#pd.read_csv?"
   ]
  },
  {
   "cell_type": "code",
   "execution_count": null,
   "id": "14",
   "metadata": {},
   "outputs": [],
   "source": [
    "transformed_lab = pd.read_csv(\"../../secret_data/full_labs_together.csv\", sep=\",\", index_col=0)\n",
    "transformed_lab = transformed_lab.rename(columns = {'studieID':'Participant Id'}) \n",
    "transformed_lab.head(3) "
   ]
  },
  {
   "cell_type": "code",
   "execution_count": null,
   "id": "15",
   "metadata": {
    "tags": []
   },
   "outputs": [],
   "source": [
    "# read in score key and replace psuedo-imputed values\n",
    "score_key = pd.read_csv('../../secret_data/brick_score_key_21_6_2024.csv', index_col=0)\n",
    "score_key.head(3)"
   ]
  },
  {
   "cell_type": "raw",
   "id": "16",
   "metadata": {},
   "source": []
  },
  {
   "cell_type": "code",
   "execution_count": null,
   "id": "17",
   "metadata": {
    "tags": []
   },
   "outputs": [],
   "source": [
    "score_key.describe()"
   ]
  },
  {
   "cell_type": "markdown",
   "id": "18",
   "metadata": {},
   "source": [
    "## Discovery psuedo-imputed values missing. Must redo start_corr to deal with dropped_nans !"
   ]
  },
  {
   "cell_type": "code",
   "execution_count": null,
   "id": "19",
   "metadata": {
    "tags": []
   },
   "outputs": [],
   "source": [
    "#score_key[['lenght','weight',]]"
   ]
  },
  {
   "cell_type": "code",
   "execution_count": null,
   "id": "20",
   "metadata": {
    "tags": []
   },
   "outputs": [],
   "source": [
    "# score_key = score_key.replace(-99, 'NaN')\n",
    "# score_key = score_key.replace(-98, 'NaN')\n",
    "# score_key = score_key.replace(-97, 'NaN')\n",
    "# score_key = score_key.replace(-96, 'NaN')\n",
    "# score_key = score_key.replace(-95, 'NaN')\n",
    "# score_key.head(3)"
   ]
  },
  {
   "cell_type": "code",
   "execution_count": null,
   "id": "21",
   "metadata": {
    "tags": []
   },
   "outputs": [],
   "source": [
    "score_key['Participant Id'].unique()"
   ]
  },
  {
   "cell_type": "code",
   "execution_count": null,
   "id": "22",
   "metadata": {
    "tags": []
   },
   "outputs": [],
   "source": [
    "score_key.shape"
   ]
  },
  {
   "cell_type": "code",
   "execution_count": null,
   "id": "23",
   "metadata": {
    "tags": []
   },
   "outputs": [],
   "source": [
    "transformed_lab.shape"
   ]
  },
  {
   "cell_type": "code",
   "execution_count": null,
   "id": "24",
   "metadata": {
    "tags": []
   },
   "outputs": [],
   "source": [
    "score_and_lab = score_key.merge(transformed_lab, on='Participant Id')"
   ]
  },
  {
   "cell_type": "code",
   "execution_count": null,
   "id": "25",
   "metadata": {
    "tags": []
   },
   "outputs": [],
   "source": [
    "expanded_of_wais = WAISIV_BRICK_T0dd08042024.merge(score_and_lab, on='Participant Id')"
   ]
  },
  {
   "cell_type": "code",
   "execution_count": null,
   "id": "26",
   "metadata": {
    "tags": []
   },
   "outputs": [],
   "source": [
    "expanded_of_wais.shape"
   ]
  },
  {
   "cell_type": "code",
   "execution_count": null,
   "id": "27",
   "metadata": {
    "tags": []
   },
   "outputs": [],
   "source": [
    "WAISIV_BRICK_T0dd08042024.shape"
   ]
  },
  {
   "cell_type": "code",
   "execution_count": null,
   "id": "28",
   "metadata": {
    "tags": []
   },
   "outputs": [],
   "source": [
    "set_of_wais"
   ]
  },
  {
   "cell_type": "code",
   "execution_count": null,
   "id": "29",
   "metadata": {
    "tags": []
   },
   "outputs": [],
   "source": [
    "set_expanded = set(expanded_of_wais['Participant Id'])"
   ]
  },
  {
   "cell_type": "code",
   "execution_count": null,
   "id": "30",
   "metadata": {
    "tags": []
   },
   "outputs": [],
   "source": [
    "set_expanded"
   ]
  },
  {
   "cell_type": "markdown",
   "id": "31",
   "metadata": {},
   "source": [
    "## So for our total WAIS set right now we have 8 people\n",
    "\n",
    "let's expand WISK"
   ]
  },
  {
   "cell_type": "code",
   "execution_count": null,
   "id": "32",
   "metadata": {
    "tags": []
   },
   "outputs": [],
   "source": [
    "expanded_of_wisk = WISC_V_BRICK_T0dd08042024.merge(score_and_lab, on='Participant Id')\n",
    "\n",
    "expanded_of_wisk.shape"
   ]
  },
  {
   "cell_type": "code",
   "execution_count": null,
   "id": "33",
   "metadata": {},
   "outputs": [],
   "source": [
    "expanded_of_wisk"
   ]
  },
  {
   "cell_type": "code",
   "execution_count": null,
   "id": "34",
   "metadata": {
    "tags": []
   },
   "outputs": [],
   "source": [
    "expanded_of_wais"
   ]
  },
  {
   "cell_type": "code",
   "execution_count": null,
   "id": "35",
   "metadata": {
    "tags": []
   },
   "outputs": [],
   "source": [
    "# For Wisk we have 25! let's save them off!\n",
    "\n",
    "expanded_of_wisk.to_csv('expanded_wisk_25_05_2024.csv')\n",
    "expanded_of_wais.to_csv('expanded_wais_25_05_2024.csv')"
   ]
  },
  {
   "cell_type": "code",
   "execution_count": null,
   "id": "36",
   "metadata": {},
   "outputs": [],
   "source": []
  }
 ],
 "metadata": {
  "kernelspec": {
   "display_name": "Python 3 (ipykernel)",
   "language": "python",
   "name": "python3"
  },
  "language_info": {
   "codemirror_mode": {
    "name": "ipython",
    "version": 3
   },
   "file_extension": ".py",
   "mimetype": "text/x-python",
   "name": "python",
   "nbconvert_exporter": "python",
   "pygments_lexer": "ipython3",
   "version": "3.11.8"
  }
 },
 "nbformat": 4,
 "nbformat_minor": 5
}
