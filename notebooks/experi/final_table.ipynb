{
 "cells": [
  {
   "cell_type": "markdown",
   "id": "17e6f0ef-004a-439c-affd-66fc06ac1804",
   "metadata": {},
   "source": [
    "# final castor proof"
   ]
  },
  {
   "cell_type": "markdown",
   "id": "11460246-7eab-434a-9c9c-bcb70e9f21f1",
   "metadata": {},
   "source": [
    "uses 1. WAISI (WAISIV_gemstracker_poging_makeda.csv) + WISC_V + (transformed 'Participant Id') \n",
    "\n",
    "--> IQ_sheet"
   ]
  },
  {
   "cell_type": "markdown",
   "id": "48b2f5ad-9ea5-41b0-b774-d87aec356175",
   "metadata": {},
   "source": [
    "link to brick_score_key_26_4_2024 with key of 'Participant Id'"
   ]
  },
  {
   "cell_type": "markdown",
   "id": "48194ef1-922b-45ed-88ce-f86283d0698c",
   "metadata": {},
   "source": [
    "tranformed lab- link by studieID is 'Participant Id'"
   ]
  },
  {
   "cell_type": "code",
   "execution_count": null,
   "id": "d0f27360-e6c9-4a90-9e9c-d9705cf8fca7",
   "metadata": {},
   "outputs": [],
   "source": [
    "import os\n",
    "import sys\n",
    "from functools import reduce\n",
    "import pandas as pd\n",
    "import numpy as np\n",
    "import seaborn as sns\n",
    "import matplotlib.pyplot as plt\n",
    "\n",
    "sys.path.insert(0, '../../')\n",
    "from brickstudy import foundation"
   ]
  },
  {
   "cell_type": "code",
   "execution_count": null,
   "id": "1843f049-1b61-4fca-a92b-a57bcccf53e8",
   "metadata": {
    "tags": []
   },
   "outputs": [],
   "source": [
    "WAISIV_BRICK_T0dd08042024 = pd.read_csv(\"../../secret_data/WAISIV_gemstracker_poging_makeda.csv\", sep=\",\", encoding='latin1' )\n",
    "WAISIV_BRICK_T0dd08042024.head(2)"
   ]
  },
  {
   "cell_type": "code",
   "execution_count": null,
   "id": "3e04ca85-c7b1-4ba7-8cf3-7d9ebeb788f4",
   "metadata": {},
   "outputs": [],
   "source": [
    "WAISIV_BRICK_T0dd08042024.shape"
   ]
  },
  {
   "cell_type": "code",
   "execution_count": null,
   "id": "6cff71c4-b798-4922-ba10-9a7a9e5e681f",
   "metadata": {},
   "outputs": [],
   "source": [
    "WAISIV_BRICK_T0dd08042024.loc[0,'Participant Id'] = 'BRICK_057'"
   ]
  },
  {
   "cell_type": "code",
   "execution_count": null,
   "id": "a5eeb383-29eb-4c51-bcc2-4e8054d61487",
   "metadata": {},
   "outputs": [],
   "source": [
    "set_of_wais = set( WAISIV_BRICK_T0dd08042024['Participant Id'])\n",
    "set_of_wais"
   ]
  },
  {
   "cell_type": "code",
   "execution_count": null,
   "id": "ecce598a-3c87-4114-9a3e-8334fb91d010",
   "metadata": {
    "tags": []
   },
   "outputs": [],
   "source": [
    "WISC_V_BRICK_T0dd08042024 = pd.read_csv(\"../../secret_data/WISCV_gemstracker_poging_makeda_csv.csv\", sep=\",\")\n",
    "WISC_V_BRICK_T0dd08042024.head(2) "
   ]
  },
  {
   "cell_type": "code",
   "execution_count": null,
   "id": "0e890917-0d8e-4eac-b365-faeb27174d4b",
   "metadata": {},
   "outputs": [],
   "source": [
    "set_of_wisk = set( WISC_V_BRICK_T0dd08042024['Participant Id'])\n",
    "set_of_wisk"
   ]
  },
  {
   "cell_type": "code",
   "execution_count": null,
   "id": "a315ab48-3116-4b80-afca-162ac2c7299c",
   "metadata": {},
   "outputs": [],
   "source": [
    "set_of_wais.intersection(set_of_wisk)"
   ]
  },
  {
   "cell_type": "code",
   "execution_count": null,
   "id": "91551bb7-8e41-4a71-b955-b7b3e252d2fa",
   "metadata": {},
   "outputs": [],
   "source": []
  },
  {
   "cell_type": "code",
   "execution_count": null,
   "id": "dad5065e-56ce-4ee6-a47b-931b55998fd6",
   "metadata": {
    "tags": []
   },
   "outputs": [],
   "source": [
    "#pd.read_csv?"
   ]
  },
  {
   "cell_type": "code",
   "execution_count": null,
   "id": "0adc4439-fe92-4532-848a-c0d08d663c0e",
   "metadata": {},
   "outputs": [],
   "source": [
    "transformed_lab = pd.read_csv(\"../../secret_data/full_labs_together.csv\", sep=\",\", index_col=0)\n",
    "transformed_lab = transformed_lab.rename(columns = {'studieID':'Participant Id'}) \n",
    "transformed_lab.head(3) "
   ]
  },
  {
   "cell_type": "code",
   "execution_count": null,
   "id": "b40faa46-c9a1-4ce5-b0a1-78b5cb77f8fc",
   "metadata": {
    "tags": []
   },
   "outputs": [],
   "source": [
    "# read in score key and replace psuedo-imputed values\n",
    "score_key = pd.read_csv('../../secret_data/brick_score_key_17_5_2024.csv', index_col=0)\n",
    "score_key.head(3)"
   ]
  },
  {
   "cell_type": "code",
   "execution_count": null,
   "id": "3e6a1bac-b12f-4c2d-ba83-35523d094cb5",
   "metadata": {
    "tags": []
   },
   "outputs": [],
   "source": [
    "score_key.describe()"
   ]
  },
  {
   "cell_type": "markdown",
   "id": "1f9574ab-8327-46d2-982c-bf6f803ce3fa",
   "metadata": {},
   "source": [
    "## Discovery psuedo-imputed values missing. Must redo start_corr to deal with dropped_nans !"
   ]
  },
  {
   "cell_type": "code",
   "execution_count": null,
   "id": "96cd3e6b-a140-4f01-b269-e936cc737bf6",
   "metadata": {
    "tags": []
   },
   "outputs": [],
   "source": [
    "#score_key[['lenght','weight',]]"
   ]
  },
  {
   "cell_type": "code",
   "execution_count": null,
   "id": "018c9dc0-ece3-402e-b405-0e77a4150c62",
   "metadata": {
    "tags": []
   },
   "outputs": [],
   "source": [
    "score_key = score_key.replace(-99, 'NaN')\n",
    "score_key = score_key.replace(-98, 'NaN')\n",
    "score_key = score_key.replace(-97, 'NaN')\n",
    "score_key = score_key.replace(-96, 'NaN')\n",
    "score_key = score_key.replace(-95, 'NaN')\n",
    "score_key.head(3)"
   ]
  },
  {
   "cell_type": "code",
   "execution_count": null,
   "id": "72fcad2c-67a5-4384-9085-ae4243893569",
   "metadata": {
    "tags": []
   },
   "outputs": [],
   "source": [
    "score_key['Participant Id'].unique()"
   ]
  },
  {
   "cell_type": "code",
   "execution_count": null,
   "id": "86f1db37-6c9a-4c1b-8aa5-8f585af5bd63",
   "metadata": {
    "tags": []
   },
   "outputs": [],
   "source": [
    "score_key.shape"
   ]
  },
  {
   "cell_type": "code",
   "execution_count": null,
   "id": "52389380-eed0-4783-8f22-c8bc6b949988",
   "metadata": {
    "tags": []
   },
   "outputs": [],
   "source": [
    "transformed_lab.shape"
   ]
  },
  {
   "cell_type": "code",
   "execution_count": null,
   "id": "93e1fe80-800e-4f9e-a3f3-4435fc00c6d9",
   "metadata": {
    "tags": []
   },
   "outputs": [],
   "source": [
    "score_and_lab = score_key.merge(transformed_lab, on='Participant Id')"
   ]
  },
  {
   "cell_type": "code",
   "execution_count": null,
   "id": "45c459d5-03b8-4728-ad18-ed23b98c1c7a",
   "metadata": {
    "tags": []
   },
   "outputs": [],
   "source": [
    "expanded_of_wais = WAISIV_BRICK_T0dd08042024.merge(score_and_lab, on='Participant Id')"
   ]
  },
  {
   "cell_type": "code",
   "execution_count": null,
   "id": "989b1f96-7627-4ba5-979f-adf41bbe834d",
   "metadata": {
    "tags": []
   },
   "outputs": [],
   "source": [
    "expanded_of_wais.shape"
   ]
  },
  {
   "cell_type": "code",
   "execution_count": null,
   "id": "0e76a49e-f57d-44c2-a98e-fad0a229cc9c",
   "metadata": {
    "tags": []
   },
   "outputs": [],
   "source": [
    "WAISIV_BRICK_T0dd08042024.shape"
   ]
  },
  {
   "cell_type": "code",
   "execution_count": null,
   "id": "861ba9a9-71d5-423d-9a2f-64e32a73879a",
   "metadata": {
    "tags": []
   },
   "outputs": [],
   "source": [
    "set_of_wais"
   ]
  },
  {
   "cell_type": "code",
   "execution_count": null,
   "id": "c913e498-a9c0-4add-a6bf-849cd4969de6",
   "metadata": {
    "tags": []
   },
   "outputs": [],
   "source": [
    "set_expanded = set(expanded_of_wais['Participant Id'])"
   ]
  },
  {
   "cell_type": "code",
   "execution_count": null,
   "id": "09bd8dae-83a4-4de5-83a3-ba95f748a659",
   "metadata": {
    "tags": []
   },
   "outputs": [],
   "source": [
    "set_expanded"
   ]
  },
  {
   "cell_type": "markdown",
   "id": "c863a257-fc1c-4eab-8164-d41bd0291684",
   "metadata": {},
   "source": [
    "## So for our total WAIS set right now we have 8 people\n",
    "\n",
    "let's expand WISK"
   ]
  },
  {
   "cell_type": "code",
   "execution_count": null,
   "id": "19b0feb7-6e7d-4c15-8c25-f9dee6b42172",
   "metadata": {
    "tags": []
   },
   "outputs": [],
   "source": [
    "expanded_of_wisk = WISC_V_BRICK_T0dd08042024.merge(score_and_lab, on='Participant Id')\n",
    "\n",
    "expanded_of_wisk.shape"
   ]
  },
  {
   "cell_type": "code",
   "execution_count": null,
   "id": "86798e5d-3f07-4f70-aaea-3c7a37d816e8",
   "metadata": {},
   "outputs": [],
   "source": [
    "expanded_of_wisk"
   ]
  },
  {
   "cell_type": "code",
   "execution_count": null,
   "id": "060c9f9b-6216-4774-a72c-9decda9a69b9",
   "metadata": {
    "tags": []
   },
   "outputs": [],
   "source": [
    "expanded_of_wais"
   ]
  },
  {
   "cell_type": "code",
   "execution_count": null,
   "id": "f89e3802-77db-4910-8c1d-f6cb8374090e",
   "metadata": {
    "tags": []
   },
   "outputs": [],
   "source": [
    "# For Wisk we have 25! let's save them off!\n",
    "\n",
    "expanded_of_wisk.to_csv('expanded_wisk_25_05_2024.csv')\n",
    "expanded_of_wais.to_csv('expanded_wais_25_05_2024.csv')"
   ]
  },
  {
   "cell_type": "code",
   "execution_count": null,
   "id": "139d195e-9559-41bc-9380-4d9523f45d2f",
   "metadata": {},
   "outputs": [],
   "source": []
  }
 ],
 "metadata": {
  "kernelspec": {
   "display_name": "Python 3 (ipykernel)",
   "language": "python",
   "name": "python3"
  },
  "language_info": {
   "codemirror_mode": {
    "name": "ipython",
    "version": 3
   },
   "file_extension": ".py",
   "mimetype": "text/x-python",
   "name": "python",
   "nbconvert_exporter": "python",
   "pygments_lexer": "ipython3",
   "version": "3.11.8"
  }
 },
 "nbformat": 4,
 "nbformat_minor": 5
}
