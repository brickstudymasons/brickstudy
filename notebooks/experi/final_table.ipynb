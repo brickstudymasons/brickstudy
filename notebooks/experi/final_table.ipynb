{
 "cells": [
  {
   "cell_type": "markdown",
   "id": "17e6f0ef-004a-439c-affd-66fc06ac1804",
   "metadata": {},
   "source": [
    "# final castor proof"
   ]
  },
  {
   "cell_type": "markdown",
   "id": "11460246-7eab-434a-9c9c-bcb70e9f21f1",
   "metadata": {},
   "source": [
    "uses 1. WAISI (WAISIV_gemstracker_poging_makeda.csv) + WISC_V + (transformed 'Participant Id') \n",
    "\n",
    "--> IQ_sheet"
   ]
  },
  {
   "cell_type": "markdown",
   "id": "48b2f5ad-9ea5-41b0-b774-d87aec356175",
   "metadata": {},
   "source": [
    "link to brick_score_key_26_4_2024 with key of 'Participant Id'"
   ]
  },
  {
   "cell_type": "markdown",
   "id": "48194ef1-922b-45ed-88ce-f86283d0698c",
   "metadata": {},
   "source": [
    "tranformed lab- link by studieID is 'Participant Id'"
   ]
  },
  {
   "cell_type": "code",
   "execution_count": null,
   "id": "d0f27360-e6c9-4a90-9e9c-d9705cf8fca7",
   "metadata": {},
   "outputs": [],
   "source": [
    "import os\n",
    "import sys\n",
    "from functools import reduce\n",
    "import pandas as pd\n",
    "import numpy as np\n",
    "import seaborn as sns\n",
    "import matplotlib.pyplot as plt\n",
    "\n",
    "sys.path.insert(0, '../../')\n",
    "from brickstudy import foundation"
   ]
  },
  {
   "cell_type": "code",
   "execution_count": null,
   "id": "1843f049-1b61-4fca-a92b-a57bcccf53e8",
   "metadata": {
    "tags": []
   },
   "outputs": [],
   "source": [
    "WAISIV_BRICK_T0dd08042024 = pd.read_csv(\"../../secret_data/WAISIV_gemstracker_poging_makeda.csv\", sep=\",\", encoding='latin1' )\n",
    "WAISIV_BRICK_T0dd08042024.head(2)"
   ]
  },
  {
   "cell_type": "code",
   "execution_count": null,
   "id": "3e04ca85-c7b1-4ba7-8cf3-7d9ebeb788f4",
   "metadata": {},
   "outputs": [],
   "source": [
    "WAISIV_BRICK_T0dd08042024.shape"
   ]
  },
  {
   "cell_type": "code",
   "execution_count": null,
   "id": "6cff71c4-b798-4922-ba10-9a7a9e5e681f",
   "metadata": {},
   "outputs": [],
   "source": [
    "WAISIV_BRICK_T0dd08042024.loc[0,'Participant Id'] = 'BRICK_057'"
   ]
  },
  {
   "cell_type": "code",
   "execution_count": null,
   "id": "a5eeb383-29eb-4c51-bcc2-4e8054d61487",
   "metadata": {},
   "outputs": [],
   "source": [
    "set_of_wais = set( WAISIV_BRICK_T0dd08042024['Participant Id'])\n",
    "set_of_wais"
   ]
  },
  {
   "cell_type": "code",
   "execution_count": null,
   "id": "ecce598a-3c87-4114-9a3e-8334fb91d010",
   "metadata": {
    "tags": []
   },
   "outputs": [],
   "source": [
    "WISC_V_BRICK_T0dd08042024 = pd.read_csv(\"../../secret_data/WISCV_gemstracker_poging_makeda_csv.csv\", sep=\",\")\n",
    "WISC_V_BRICK_T0dd08042024.head(2) "
   ]
  },
  {
   "cell_type": "code",
   "execution_count": null,
   "id": "0e890917-0d8e-4eac-b365-faeb27174d4b",
   "metadata": {},
   "outputs": [],
   "source": [
    "set_of_wisk = set( WISC_V_BRICK_T0dd08042024['Participant Id'])\n",
    "set_of_wisk"
   ]
  },
  {
   "cell_type": "code",
   "execution_count": null,
   "id": "a315ab48-3116-4b80-afca-162ac2c7299c",
   "metadata": {},
   "outputs": [],
   "source": [
    "set_of_wais.intersection(set_of_wisk)"
   ]
  },
  {
   "cell_type": "code",
   "execution_count": null,
   "id": "91551bb7-8e41-4a71-b955-b7b3e252d2fa",
   "metadata": {},
   "outputs": [],
   "source": [
    "neuropsychological_data = WAISIV_BRICK_T0dd08042024.merge(WISC_V_BRICK_T0dd08042024, on='Participant Id')\n",
    "neuropsychological_data.head(3)"
   ]
  },
  {
   "cell_type": "code",
   "execution_count": null,
   "id": "0adc4439-fe92-4532-848a-c0d08d663c0e",
   "metadata": {},
   "outputs": [],
   "source": []
  }
 ],
 "metadata": {
  "kernelspec": {
   "display_name": "Python 3 (ipykernel)",
   "language": "python",
   "name": "python3"
  },
  "language_info": {
   "codemirror_mode": {
    "name": "ipython",
    "version": 3
   },
   "file_extension": ".py",
   "mimetype": "text/x-python",
   "name": "python",
   "nbconvert_exporter": "python",
   "pygments_lexer": "ipython3",
   "version": "3.11.8"
  }
 },
 "nbformat": 4,
 "nbformat_minor": 5
}
