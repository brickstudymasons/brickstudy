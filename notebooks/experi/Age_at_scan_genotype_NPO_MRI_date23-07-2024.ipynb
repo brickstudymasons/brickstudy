{
 "cells": [
  {
   "cell_type": "markdown",
   "id": "046a194c-1222-4309-8d19-ce1483106c94",
   "metadata": {},
   "source": [
    "# Preparing ASH abstract 2024\n",
    "The point of this notebook is to concacatenate volumetric data with demographic data"
   ]
  },
  {
   "cell_type": "markdown",
   "id": "2c92abd8-93e9-4a4f-849c-e2081d567010",
   "metadata": {},
   "source": [
    "Import libraries"
   ]
  },
  {
   "cell_type": "code",
   "execution_count": null,
   "id": "77401500",
   "metadata": {
    "tags": []
   },
   "outputs": [],
   "source": [
    "import pandas as pd\n",
    "import numpy as np"
   ]
  },
  {
   "cell_type": "code",
   "execution_count": null,
   "id": "6606302f",
   "metadata": {
    "tags": []
   },
   "outputs": [],
   "source": [
    "age_at_scan = pd.ExcelFile(\"../../secret_data/BRICK_datums_scans_clean_17072024_versie_2.xlsx\", engine = \"openpyxl\")\n",
    "age_at_scan"
   ]
  },
  {
   "cell_type": "code",
   "execution_count": null,
   "id": "7fb46e91",
   "metadata": {
    "tags": []
   },
   "outputs": [],
   "source": [
    "sheet_names = age_at_scan.sheet_names"
   ]
  },
  {
   "cell_type": "code",
   "execution_count": null,
   "id": "777c4608",
   "metadata": {
    "tags": []
   },
   "outputs": [],
   "source": [
    "print(\"Sheet names:\", sheet_names)"
   ]
  },
  {
   "cell_type": "code",
   "execution_count": null,
   "id": "53fb4b17",
   "metadata": {
    "tags": []
   },
   "outputs": [],
   "source": [
    "age_at_scan_2 = pd.read_excel(\"../../secret_data/BRICK_datums_scans_clean_17072024_versie_2.xlsx\", sheet_name = \"Dag van MRI+NPO overzicht \", engine = \"openpyxl\")\n",
    "brick_gender = pd.read_excel(\"../../secret_data/Gender_BRICKers23072024.xlsx\", sheet_name = \"Sheet1\", engine = \"openpyxl\")\n",
    "print(age_at_scan_2.head())"
   ]
  },
  {
   "cell_type": "code",
   "execution_count": null,
   "id": "a8a9a930",
   "metadata": {
    "tags": []
   },
   "outputs": [],
   "source": [
    "#just to be sure, trim whitespace in the column names and the column \"BRICK-nummer\"\n",
    "age_at_scan_2.columns = age_at_scan_2.columns.str.strip()\n",
    "\n",
    "age_at_scan_2[\"BRICK-nummer\"] = age_at_scan_2[\"BRICK-nummer\"].str.strip()\n",
    "print(age_at_scan_2.head())"
   ]
  },
  {
   "cell_type": "code",
   "execution_count": null,
   "id": "2f8dc7db",
   "metadata": {
    "tags": []
   },
   "outputs": [],
   "source": [
    "#remove the \"00:00:00\" by removing characters in \"Datum_NPO_T0\"\n",
    "age_at_scan_2[\"Datum_NPO_T0\"] = age_at_scan_2[\"Datum_NPO_T0\"].astype(str)\n",
    "age_at_scan_2[\"Datum_NPO_T0\"] = age_at_scan_2[\"Datum_NPO_T0\"].str.strip()\n",
    "age_at_scan_2[\"Datum_NPO_T0\"] = age_at_scan_2[\"Datum_NPO_T0\"].str[:-9]\n",
    "\n",
    "print(age_at_scan_2.head())"
   ]
  },
  {
   "cell_type": "code",
   "execution_count": null,
   "id": "e416e42a",
   "metadata": {
    "tags": []
   },
   "outputs": [],
   "source": [
    "#rename second column to gender\n",
    "brick_gender.rename(columns={brick_gender.columns[1]: \"Gender\"}, inplace=True)\n",
    "print(brick_gender.head())"
   ]
  },
  {
   "cell_type": "code",
   "execution_count": null,
   "id": "2358245e",
   "metadata": {
    "tags": []
   },
   "outputs": [],
   "source": [
    "#now make the hyphen a underscore up age at scan csv with this table\n",
    "brick_gender[\"Participant ID\"] = brick_gender[\"Participant ID\"].str.replace('-',\"_\")\n",
    "print(brick_gender.head())"
   ]
  },
  {
   "cell_type": "code",
   "execution_count": null,
   "id": "69fb2cd2",
   "metadata": {
    "tags": []
   },
   "outputs": [],
   "source": [
    "#prepare merging, first rename Participant ID columns without spaces\n",
    "age_at_scan_2.rename(columns={\"BRICK-nummer\" : \"Participant_ID\"}, inplace=True)\n",
    "brick_gender.rename(columns={\"Participant ID\" : \"Participant_ID\"}, inplace=True)"
   ]
  },
  {
   "cell_type": "code",
   "execution_count": null,
   "id": "2fa20bf0",
   "metadata": {
    "tags": []
   },
   "outputs": [],
   "source": [
    "BRICK_volumetric_dems = pd.merge(age_at_scan_2, brick_gender, on=\"Participant_ID\", how=\"left\")\n",
    "#print(BRICK_volumetric_dems.head())\n",
    "BRICK_volumetric_dems.head(3)"
   ]
  },
  {
   "cell_type": "code",
   "execution_count": null,
   "id": "af64683d",
   "metadata": {
    "tags": []
   },
   "outputs": [],
   "source": [
    "#now merge this one with the volumetric data csv, drop first index column\n",
    "brick_volumetric = pd.read_csv(\"../../secret_data/brain_volumes_from_freesurfer_no_qc.csv\", index_col=0)"
   ]
  },
  {
   "cell_type": "code",
   "execution_count": null,
   "id": "4fdddf4f-9ccb-4418-abeb-cd18eca8b391",
   "metadata": {
    "tags": []
   },
   "outputs": [],
   "source": [
    "#brick_volumetric"
   ]
  },
  {
   "cell_type": "code",
   "execution_count": null,
   "id": "194a42de-fb76-475b-9684-321d4e2807c4",
   "metadata": {
    "tags": []
   },
   "outputs": [],
   "source": [
    "len(BRICK_volumetric_dems.Participant_ID.unique()) #.Particpant_ID.unique()"
   ]
  },
  {
   "cell_type": "code",
   "execution_count": null,
   "id": "9230c8ef-5188-4427-ba46-6707c1cef19e",
   "metadata": {
    "tags": []
   },
   "outputs": [],
   "source": []
  },
  {
   "cell_type": "code",
   "execution_count": null,
   "id": "1ac03ed2-2796-47a7-bd5f-7543d459329c",
   "metadata": {
    "tags": []
   },
   "outputs": [],
   "source": [
    "BRICK_volumetric_dems = BRICK_volumetric_dems.drop([36])#index=[34], axis=1)\n",
    "# the first brack 34 had an exclusion criteria and was excluded after performing a scan, so dropped from table\n",
    "BRICK_volumetric_dems"
   ]
  },
  {
   "cell_type": "code",
   "execution_count": null,
   "id": "2fb6ab75",
   "metadata": {
    "tags": []
   },
   "outputs": [],
   "source": [
    "#rename first column and change hyphens into underscores\n",
    "brick_volumetric.rename(columns={\"Participant ID\" : \"Participant_ID\"}, inplace=True)\n",
    "brick_volumetric[\"Participant_ID\"] = brick_volumetric[\"Participant_ID\"].str.replace('-',\"_\")"
   ]
  },
  {
   "cell_type": "code",
   "execution_count": null,
   "id": "02b88364-a57a-41df-a119-d4db88c71515",
   "metadata": {
    "tags": []
   },
   "outputs": [],
   "source": [
    "len(brick_volumetric.Participant_ID.unique())"
   ]
  },
  {
   "cell_type": "code",
   "execution_count": null,
   "id": "c96b2785-4398-4b42-bffd-42fa68c1c61e",
   "metadata": {
    "tags": []
   },
   "outputs": [],
   "source": [
    "len(BRICK_volumetric_dems['Participant_ID'].unique())"
   ]
  },
  {
   "cell_type": "code",
   "execution_count": null,
   "id": "7412376d-14c6-4e67-b043-ac719e15aba2",
   "metadata": {
    "tags": []
   },
   "outputs": [],
   "source": [
    "#BRICK_volumetric_dems[['Participant_ID']].duplicated()"
   ]
  },
  {
   "cell_type": "code",
   "execution_count": null,
   "id": "9c9e0e7f",
   "metadata": {
    "tags": []
   },
   "outputs": [],
   "source": [
    "#merge the demographic data and demographic data\n",
    "\n",
    "brick_volumetric_dems_00 = pd.merge(brick_volumetric,BRICK_volumetric_dems, on=\"Participant_ID\", how=\"left\")\n",
    "\n",
    "#print(brick_volumetric_dems_00.head())\n",
    "brick_volumetric_dems_00.head(3)"
   ]
  },
  {
   "cell_type": "code",
   "execution_count": null,
   "id": "50a44829-d117-4e3c-aa99-731fbf520e5f",
   "metadata": {
    "tags": []
   },
   "outputs": [],
   "source": [
    "len(brick_volumetric_dems_00.Participant_ID.unique())"
   ]
  },
  {
   "cell_type": "code",
   "execution_count": null,
   "id": "59851d4a-2441-4411-8d28-c29f27761148",
   "metadata": {
    "tags": []
   },
   "outputs": [],
   "source": [
    "len(brick_volumetric_dems_00)"
   ]
  },
  {
   "cell_type": "code",
   "execution_count": null,
   "id": "4f15df21-f031-42e3-9aa0-d82e993b1ee1",
   "metadata": {
    "tags": []
   },
   "outputs": [],
   "source": [
    "brick_volumetric_dems_00.tail(10)\n"
   ]
  },
  {
   "cell_type": "code",
   "execution_count": null,
   "id": "4587a1dc-7bb8-4600-a6c6-9a646add0082",
   "metadata": {
    "tags": []
   },
   "outputs": [],
   "source": [
    "#brick_volumetric_dems_00.describe()"
   ]
  },
  {
   "cell_type": "code",
   "execution_count": null,
   "id": "45091ba1",
   "metadata": {
    "tags": []
   },
   "outputs": [],
   "source": [
    "file_path = \"../../secret_data/brick_volumetric_dems_01_clean.csv\"\n",
    "brick_volumetric_dems_00.to_csv(file_path, index=False)"
   ]
  },
  {
   "cell_type": "code",
   "execution_count": null,
   "id": "94c5d4ef",
   "metadata": {},
   "outputs": [],
   "source": []
  }
 ],
 "metadata": {
  "kernelspec": {
   "display_name": "Python 3 (ipykernel)",
   "language": "python",
   "name": "python3"
  },
  "language_info": {
   "codemirror_mode": {
    "name": "ipython",
    "version": 3
   },
   "file_extension": ".py",
   "mimetype": "text/x-python",
   "name": "python",
   "nbconvert_exporter": "python",
   "pygments_lexer": "ipython3",
   "version": "3.11.8"
  }
 },
 "nbformat": 4,
 "nbformat_minor": 5
}
