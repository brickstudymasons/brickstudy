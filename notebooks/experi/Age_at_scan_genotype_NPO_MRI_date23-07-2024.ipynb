{
 "cells": [
  {
   "cell_type": "code",
   "execution_count": null,
   "id": "0",
   "metadata": {},
   "outputs": [],
   "source": [
    "import pandas as pd\n",
    "import numpy as np"
   ]
  },
  {
   "cell_type": "code",
   "execution_count": null,
   "id": "1",
   "metadata": {},
   "outputs": [],
   "source": [
    "age_at_scan = pd.ExcelFile(\"/home/a.kidane@mydre.org/brickstudy/secret_data/BRICK_datums_scans_clean_17072024 _versie_2.xlsx\", engine = \"openpyxl\")\n"
   ]
  },
  {
   "cell_type": "code",
   "execution_count": null,
   "id": "2",
   "metadata": {},
   "outputs": [],
   "source": [
    "sheet_names = age_at_scan.sheet_names"
   ]
  },
  {
   "cell_type": "code",
   "execution_count": null,
   "id": "3",
   "metadata": {},
   "outputs": [],
   "source": [
    "print(\"Sheet names:\", sheet_names)"
   ]
  },
  {
   "cell_type": "code",
   "execution_count": null,
   "id": "4",
   "metadata": {},
   "outputs": [],
   "source": [
    "age_at_scan_2 = pd.read_excel(\"/home/a.kidane@mydre.org/brickstudy/secret_data/BRICK_datums_scans_clean_17072024 _versie_2.xlsx\", sheet_name = \"Dag van MRI+NPO overzicht \", engine = \"openpyxl\")\n",
    "brick_gender = pd.read_excel(\"/home/a.kidane@mydre.org/brickstudy/secret_data/Gender_BRICKers23072024.xlsx\", sheet_name = \"Sheet1\", engine = \"openpyxl\")\n",
    "print(age_at_scan_2.head())"
   ]
  },
  {
   "cell_type": "code",
   "execution_count": null,
   "id": "5",
   "metadata": {},
   "outputs": [],
   "source": [
    "#just to be sure, trim whitespace in the column names and the column \"BRICK-nummer\"\n",
    "age_at_scan_2.columns = age_at_scan_2.columns.str.strip()\n",
    "\n",
    "age_at_scan_2[\"BRICK-nummer\"] = age_at_scan_2[\"BRICK-nummer\"].str.strip()\n",
    "print(age_at_scan_2.head())"
   ]
  },
  {
   "cell_type": "code",
   "execution_count": null,
   "id": "6",
   "metadata": {},
   "outputs": [],
   "source": [
    "#remove the \"00:00:00\" by removing characters in \"Datum_NPO_T0\"\n",
    "age_at_scan_2[\"Datum_NPO_T0\"] = age_at_scan_2[\"Datum_NPO_T0\"].astype(str)\n",
    "age_at_scan_2[\"Datum_NPO_T0\"] = age_at_scan_2[\"Datum_NPO_T0\"].str.strip()\n",
    "age_at_scan_2[\"Datum_NPO_T0\"] = age_at_scan_2[\"Datum_NPO_T0\"].str[:-9]\n",
    "\n",
    "print(age_at_scan_2.head())"
   ]
  },
  {
   "cell_type": "code",
   "execution_count": null,
   "id": "7",
   "metadata": {},
   "outputs": [],
   "source": [
    "#rename second column to gender\n",
    "brick_gender.rename(columns={brick_gender.columns[1]: \"Gender\"}, inplace=True)\n",
    "print(brick_gender.head())"
   ]
  },
  {
   "cell_type": "code",
   "execution_count": null,
   "id": "8",
   "metadata": {},
   "outputs": [],
   "source": [
    "#now make the hyphen a underscore up age at scan csv with this table\n",
    "brick_gender[\"Participant ID\"] = brick_gender[\"Participant ID\"].str.replace('-',\"_\")\n",
    "print(brick_gender.head())"
   ]
  },
  {
   "cell_type": "code",
   "execution_count": null,
   "id": "9",
   "metadata": {},
   "outputs": [],
   "source": [
    "#prepare merging, first rename Participant ID columns without spaces\n",
    "age_at_scan_2.rename(columns={\"BRICK-nummer\" : \"Participant_ID\"}, inplace=True)\n",
    "brick_gender.rename(columns={\"Participant ID\" : \"Participant_ID\"}, inplace=True)"
   ]
  },
  {
   "cell_type": "code",
   "execution_count": null,
   "id": "10",
   "metadata": {},
   "outputs": [],
   "source": [
    "BRICK_volumetric_dems = pd.merge(age_at_scan_2, brick_gender, on=\"Participant_ID\", how=\"left\")\n",
    "print(BRICK_volumetric_dems.head())"
   ]
  },
  {
   "cell_type": "code",
   "execution_count": null,
   "id": "11",
   "metadata": {},
   "outputs": [],
   "source": [
    "#now merge this one with the volumetric data csv, drop first index column\n",
    "brick_volumetric = pd.read_csv(\"/home/a.kidane@mydre.org/brickstudy/secret_data/brain_volumes_from_freesurfer_no_qc.csv\", index_col=0)"
   ]
  },
  {
   "cell_type": "code",
   "execution_count": null,
   "id": "12",
   "metadata": {},
   "outputs": [],
   "source": [
    "#rename first column and change hyphens into underscores\n",
    "brick_volumetric.rename(columns={\"Participant ID\" : \"Participant_ID\"}, inplace=True)\n",
    "brick_volumetric[\"Participant_ID\"] = brick_gender[\"Participant_ID\"].str.replace('-',\"_\")"
   ]
  },
  {
   "cell_type": "code",
   "execution_count": null,
   "id": "13",
   "metadata": {},
   "outputs": [],
   "source": [
    "#merge the demographic data and demographic data\n",
    "\n",
    "brick_volumetric_dems_00 = pd.merge(brick_volumetric,BRICK_volumetric_dems, on=\"Participant_ID\", how=\"left\")\n",
    "\n",
    "print(brick_volumetric_dems_00.head())"
   ]
  },
  {
   "cell_type": "code",
   "execution_count": null,
   "id": "14",
   "metadata": {},
   "outputs": [],
   "source": [
    "file_path = \"/home/a.kidane@mydre.org/brickstudy/secret_data/brick_volumetric_dems_01.csv\"\n",
    "brick_volumetric_dems_00.to_csv(file_path, index=False)"
   ]
  },
  {
   "cell_type": "code",
   "execution_count": null,
   "id": "15",
   "metadata": {},
   "outputs": [],
   "source": []
  }
 ],
 "metadata": {
  "kernelspec": {
   "display_name": "Python 3 (ipykernel)",
   "language": "python",
   "name": "python3"
  },
  "language_info": {
   "codemirror_mode": {
    "name": "ipython",
    "version": 3
   },
   "file_extension": ".py",
   "mimetype": "text/x-python",
   "name": "python",
   "nbconvert_exporter": "python",
   "pygments_lexer": "ipython3",
   "version": "3.11.9"
  }
 },
 "nbformat": 4,
 "nbformat_minor": 5
}
