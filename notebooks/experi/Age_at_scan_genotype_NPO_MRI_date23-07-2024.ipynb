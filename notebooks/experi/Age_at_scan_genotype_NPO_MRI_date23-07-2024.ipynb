{
 "cells": [
  {
   "cell_type": "markdown",
   "id": "0",
   "metadata": {},
   "source": [
    "# Preparing ASH abstract 2024\n",
    "The point of this notebook is to concacatenate volumetric data with demographic data"
   ]
  },
  {
   "cell_type": "markdown",
   "id": "1",
   "metadata": {},
   "source": [
    "Import libraries"
   ]
  },
  {
   "cell_type": "code",
   "execution_count": null,
   "id": "2",
   "metadata": {
    "tags": []
   },
   "outputs": [],
   "source": [
    "import pandas as pd\n",
    "import numpy as np"
   ]
  },
  {
   "cell_type": "code",
   "execution_count": null,
   "id": "3",
   "metadata": {
    "tags": []
   },
   "outputs": [],
   "source": [
    "age_at_scan = pd.ExcelFile(\"../../secret_data/BRICK_datums_scans_clean_17072024_versie_2.xlsx\", engine = \"openpyxl\")\n",
    "age_at_scan"
   ]
  },
  {
   "cell_type": "code",
   "execution_count": null,
   "id": "4",
   "metadata": {
    "tags": []
   },
   "outputs": [],
   "source": [
    "sheet_names = age_at_scan.sheet_names"
   ]
  },
  {
   "cell_type": "code",
   "execution_count": null,
   "id": "5",
   "metadata": {
    "tags": []
   },
   "outputs": [],
   "source": [
    "print(\"Sheet names:\", sheet_names)"
   ]
  },
  {
   "cell_type": "code",
   "execution_count": null,
   "id": "6",
   "metadata": {
    "tags": []
   },
   "outputs": [],
   "source": [
    "age_at_scan_2 = pd.read_excel(\"../../secret_data/BRICK_datums_scans_clean_17072024_versie_2.xlsx\", sheet_name = \"Dag van MRI+NPO overzicht \", engine = \"openpyxl\")\n",
    "brick_gender = pd.read_excel(\"../../secret_data/Gender_BRICKers23072024.xlsx\", sheet_name = \"Sheet1\", engine = \"openpyxl\")\n",
    "print(age_at_scan_2.head())"
   ]
  },
  {
   "cell_type": "code",
   "execution_count": null,
   "id": "7",
   "metadata": {
    "tags": []
   },
   "outputs": [],
   "source": [
    "#just to be sure, trim whitespace in the column names and the column \"BRICK-nummer\"\n",
    "age_at_scan_2.columns = age_at_scan_2.columns.str.strip()\n",
    "\n",
    "age_at_scan_2[\"BRICK-nummer\"] = age_at_scan_2[\"BRICK-nummer\"].str.strip()\n",
    "print(age_at_scan_2.head())"
   ]
  },
  {
   "cell_type": "code",
   "execution_count": null,
   "id": "8",
   "metadata": {
    "tags": []
   },
   "outputs": [],
   "source": [
    "#remove the \"00:00:00\" by removing characters in \"Datum_NPO_T0\"\n",
    "age_at_scan_2[\"Datum_NPO_T0\"] = age_at_scan_2[\"Datum_NPO_T0\"].astype(str)\n",
    "age_at_scan_2[\"Datum_NPO_T0\"] = age_at_scan_2[\"Datum_NPO_T0\"].str.strip()\n",
    "age_at_scan_2[\"Datum_NPO_T0\"] = age_at_scan_2[\"Datum_NPO_T0\"].str[:-9]\n",
    "\n",
    "print(age_at_scan_2.head())"
   ]
  },
  {
   "cell_type": "code",
   "execution_count": null,
   "id": "9",
   "metadata": {
    "tags": []
   },
   "outputs": [],
   "source": [
    "#rename second column to gender\n",
    "brick_gender.rename(columns={brick_gender.columns[1]: \"Gender\"}, inplace=True)\n",
    "print(brick_gender.head())"
   ]
  },
  {
   "cell_type": "code",
   "execution_count": null,
   "id": "10",
   "metadata": {
    "tags": []
   },
   "outputs": [],
   "source": [
    "#now make the hyphen a underscore up age at scan csv with this table\n",
    "brick_gender[\"Participant ID\"] = brick_gender[\"Participant ID\"].str.replace('-',\"_\")\n",
    "print(brick_gender.head())"
   ]
  },
  {
   "cell_type": "code",
   "execution_count": null,
   "id": "11",
   "metadata": {
    "tags": []
   },
   "outputs": [],
   "source": [
    "#prepare merging, first rename Participant ID columns without spaces\n",
    "age_at_scan_2.rename(columns={\"BRICK-nummer\" : \"Participant_ID\"}, inplace=True)\n",
    "brick_gender.rename(columns={\"Participant ID\" : \"Participant_ID\"}, inplace=True)"
   ]
  },
  {
   "cell_type": "code",
   "execution_count": null,
   "id": "12",
   "metadata": {
    "tags": []
   },
   "outputs": [],
   "source": [
    "BRICK_volumetric_dems = pd.merge(age_at_scan_2, brick_gender, on=\"Participant_ID\", how=\"left\")\n",
    "#print(BRICK_volumetric_dems.head())\n",
    "BRICK_volumetric_dems.head(3)"
   ]
  },
  {
   "cell_type": "code",
   "execution_count": null,
   "id": "13",
   "metadata": {
    "tags": []
   },
   "outputs": [],
   "source": [
    "#now merge this one with the volumetric data csv, drop first index column\n",
    "brick_volumetric = pd.read_csv(\"../../secret_data/brain_volumes_from_freesurfer_no_qc.csv\", index_col=0)"
   ]
  },
  {
   "cell_type": "code",
   "execution_count": null,
   "id": "14",
   "metadata": {
    "tags": []
   },
   "outputs": [],
   "source": [
    "#brick_volumetric"
   ]
  },
  {
   "cell_type": "code",
   "execution_count": null,
   "id": "15",
   "metadata": {
    "tags": []
   },
   "outputs": [],
   "source": [
    "len(BRICK_volumetric_dems.Participant_ID.unique()) #.Particpant_ID.unique()"
   ]
  },
  {
   "cell_type": "code",
   "execution_count": null,
   "id": "16",
   "metadata": {
    "tags": []
   },
   "outputs": [],
   "source": []
  },
  {
   "cell_type": "code",
   "execution_count": null,
   "id": "17",
   "metadata": {
    "tags": []
   },
   "outputs": [],
   "source": [
    "BRICK_volumetric_dems = BRICK_volumetric_dems.drop([36])#index=[34], axis=1)\n",
    "# the first brack 34 had an exclusion criteria and was excluded after performing a scan, so dropped from table\n",
    "BRICK_volumetric_dems"
   ]
  },
  {
   "cell_type": "code",
   "execution_count": null,
   "id": "18",
   "metadata": {
    "tags": []
   },
   "outputs": [],
   "source": [
    "#rename first column and change hyphens into underscores\n",
    "brick_volumetric.rename(columns={\"Participant ID\" : \"Participant_ID\"}, inplace=True)\n",
    "brick_volumetric[\"Participant_ID\"] = brick_volumetric[\"Participant_ID\"].str.replace('-',\"_\")"
   ]
  },
  {
   "cell_type": "code",
   "execution_count": null,
   "id": "19",
   "metadata": {
    "tags": []
   },
   "outputs": [],
   "source": [
    "len(brick_volumetric.Participant_ID.unique())"
   ]
  },
  {
   "cell_type": "code",
   "execution_count": null,
   "id": "20",
   "metadata": {
    "tags": []
   },
   "outputs": [],
   "source": [
    "len(BRICK_volumetric_dems['Participant_ID'].unique())"
   ]
  },
  {
   "cell_type": "code",
   "execution_count": null,
   "id": "21",
   "metadata": {
    "tags": []
   },
   "outputs": [],
   "source": [
    "#BRICK_volumetric_dems[['Participant_ID']].duplicated()"
   ]
  },
  {
   "cell_type": "code",
   "execution_count": null,
   "id": "22",
   "metadata": {
    "tags": []
   },
   "outputs": [],
   "source": [
    "#merge the demographic data and demographic data\n",
    "\n",
    "brick_volumetric_dems_00 = pd.merge(brick_volumetric,BRICK_volumetric_dems, on=\"Participant_ID\", how=\"left\")\n",
    "\n",
    "#print(brick_volumetric_dems_00.head())\n",
    "brick_volumetric_dems_00.head(3)"
   ]
  },
  {
   "cell_type": "code",
   "execution_count": null,
   "id": "23",
   "metadata": {
    "tags": []
   },
   "outputs": [],
   "source": [
    "len(brick_volumetric_dems_00.Participant_ID.unique())"
   ]
  },
  {
   "cell_type": "code",
   "execution_count": null,
   "id": "24",
   "metadata": {
    "tags": []
   },
   "outputs": [],
   "source": [
    "len(brick_volumetric_dems_00)"
   ]
  },
  {
   "cell_type": "code",
   "execution_count": null,
   "id": "25",
   "metadata": {
    "tags": []
   },
   "outputs": [],
   "source": [
    "brick_volumetric_dems_00.tail(10)\n"
   ]
  },
  {
   "cell_type": "code",
   "execution_count": null,
   "id": "26",
   "metadata": {
    "tags": []
   },
   "outputs": [],
   "source": [
    "#brick_volumetric_dems_00.describe()"
   ]
  },
  {
   "cell_type": "code",
   "execution_count": null,
   "id": "27",
   "metadata": {
    "tags": []
   },
   "outputs": [],
   "source": [
    "file_path = \"../../secret_data/brick_volumetric_dems_01_clean.csv\"\n",
    "brick_volumetric_dems_00.to_csv(file_path, index=False)"
   ]
  },
  {
   "cell_type": "code",
   "execution_count": null,
   "id": "28",
   "metadata": {},
   "outputs": [],
   "source": []
  }
 ],
 "metadata": {
  "kernelspec": {
   "display_name": "Python 3 (ipykernel)",
   "language": "python",
   "name": "python3"
  },
  "language_info": {
   "codemirror_mode": {
    "name": "ipython",
    "version": 3
   },
   "file_extension": ".py",
   "mimetype": "text/x-python",
   "name": "python",
   "nbconvert_exporter": "python",
   "pygments_lexer": "ipython3",
   "version": "3.11.8"
  }
 },
 "nbformat": 4,
 "nbformat_minor": 5
}
