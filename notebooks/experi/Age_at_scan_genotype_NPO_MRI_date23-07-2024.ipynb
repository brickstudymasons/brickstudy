{
 "cells": [
  {
   "cell_type": "code",
   "execution_count": 1,
   "id": "77401500",
   "metadata": {},
   "outputs": [],
   "source": [
    "import pandas as pd\n",
    "import numpy as np"
   ]
  },
  {
   "cell_type": "code",
   "execution_count": 2,
   "id": "6606302f",
   "metadata": {},
   "outputs": [],
   "source": [
    "age_at_scan = pd.ExcelFile(\"/home/a.kidane@mydre.org/brickstudy/secret_data/BRICK_datums_scans_clean_17072024 _versie_2.xlsx\", engine = \"openpyxl\")\n"
   ]
  },
  {
   "cell_type": "code",
   "execution_count": 3,
   "id": "7fb46e91",
   "metadata": {},
   "outputs": [],
   "source": [
    "sheet_names = age_at_scan.sheet_names"
   ]
  },
  {
   "cell_type": "code",
   "execution_count": 4,
   "id": "777c4608",
   "metadata": {},
   "outputs": [
    {
     "name": "stdout",
     "output_type": "stream",
     "text": [
      "Sheet names: ['Planbestand', 'Intekenlijst BRICK', 'MRI scan planning overzicht', 'NPO planning overzicht', 'Dag van MRI+NPO overzicht ']\n"
     ]
    }
   ],
   "source": [
    "print(\"Sheet names:\", sheet_names)"
   ]
  },
  {
   "cell_type": "code",
   "execution_count": 5,
   "id": "53fb4b17",
   "metadata": {},
   "outputs": [
    {
     "name": "stdout",
     "output_type": "stream",
     "text": [
      "  BRICK-nummer Genotype  Leeftijd_bij_scan Datum_MRI_T0         Datum_NPO_T0\n",
      "0   BRICK_001      HbSS                 16   2022-06-20  2022-07-28 00:00:00\n",
      "1   BRICK_002      HbSC                 15   2022-06-20  2022-07-29 00:00:00\n",
      "2    BRICK_003     HbSS                 13   2022-06-20  2022-07-08 00:00:00\n",
      "3    BRICK_004     HbSS                  9   2022-07-04  2022-08-10 00:00:00\n",
      "4    BRICK_005     HbSC                  9   2022-12-14  2023-02-09 00:00:00\n"
     ]
    }
   ],
   "source": [
    "age_at_scan_2 = pd.read_excel(\"/home/a.kidane@mydre.org/brickstudy/secret_data/BRICK_datums_scans_clean_17072024 _versie_2.xlsx\", sheet_name = \"Dag van MRI+NPO overzicht \", engine = \"openpyxl\")\n",
    "brick_gender = pd.read_excel(\"/home/a.kidane@mydre.org/brickstudy/secret_data/Gender_BRICKers23072024.xlsx\", sheet_name = \"Sheet1\", engine = \"openpyxl\")\n",
    "print(age_at_scan_2.head())"
   ]
  },
  {
   "cell_type": "code",
   "execution_count": 6,
   "id": "a8a9a930",
   "metadata": {},
   "outputs": [
    {
     "name": "stdout",
     "output_type": "stream",
     "text": [
      "  BRICK-nummer Genotype  Leeftijd_bij_scan Datum_MRI_T0         Datum_NPO_T0\n",
      "0    BRICK_001     HbSS                 16   2022-06-20  2022-07-28 00:00:00\n",
      "1    BRICK_002     HbSC                 15   2022-06-20  2022-07-29 00:00:00\n",
      "2    BRICK_003     HbSS                 13   2022-06-20  2022-07-08 00:00:00\n",
      "3    BRICK_004     HbSS                  9   2022-07-04  2022-08-10 00:00:00\n",
      "4    BRICK_005     HbSC                  9   2022-12-14  2023-02-09 00:00:00\n"
     ]
    }
   ],
   "source": [
    "#just to be sure, trim whitespace in the column names and the column \"BRICK-nummer\"\n",
    "age_at_scan_2.columns = age_at_scan_2.columns.str.strip()\n",
    "\n",
    "age_at_scan_2[\"BRICK-nummer\"] = age_at_scan_2[\"BRICK-nummer\"].str.strip()\n",
    "print(age_at_scan_2.head())"
   ]
  },
  {
   "cell_type": "code",
   "execution_count": 7,
   "id": "2f8dc7db",
   "metadata": {},
   "outputs": [
    {
     "name": "stdout",
     "output_type": "stream",
     "text": [
      "  BRICK-nummer Genotype  Leeftijd_bij_scan Datum_MRI_T0 Datum_NPO_T0\n",
      "0    BRICK_001     HbSS                 16   2022-06-20   2022-07-28\n",
      "1    BRICK_002     HbSC                 15   2022-06-20   2022-07-29\n",
      "2    BRICK_003     HbSS                 13   2022-06-20   2022-07-08\n",
      "3    BRICK_004     HbSS                  9   2022-07-04   2022-08-10\n",
      "4    BRICK_005     HbSC                  9   2022-12-14   2023-02-09\n"
     ]
    }
   ],
   "source": [
    "#remove the \"00:00:00\" by removing characters in \"Datum_NPO_T0\"\n",
    "age_at_scan_2[\"Datum_NPO_T0\"] = age_at_scan_2[\"Datum_NPO_T0\"].astype(str)\n",
    "age_at_scan_2[\"Datum_NPO_T0\"] = age_at_scan_2[\"Datum_NPO_T0\"].str.strip()\n",
    "age_at_scan_2[\"Datum_NPO_T0\"] = age_at_scan_2[\"Datum_NPO_T0\"].str[:-9]\n",
    "\n",
    "print(age_at_scan_2.head())"
   ]
  },
  {
   "cell_type": "code",
   "execution_count": 8,
   "id": "e416e42a",
   "metadata": {},
   "outputs": [
    {
     "name": "stdout",
     "output_type": "stream",
     "text": [
      "  Participant ID Gender\n",
      "0      BRICK-001      V\n",
      "1      BRICK-002      M\n",
      "2      BRICK-003      V\n",
      "3      BRICK-004      M\n",
      "4      BRICK-005      M\n"
     ]
    }
   ],
   "source": [
    "#rename second column to gender\n",
    "brick_gender.rename(columns={brick_gender.columns[1]: \"Gender\"}, inplace=True)\n",
    "print(brick_gender.head())"
   ]
  },
  {
   "cell_type": "code",
   "execution_count": 9,
   "id": "2358245e",
   "metadata": {},
   "outputs": [
    {
     "name": "stdout",
     "output_type": "stream",
     "text": [
      "  Participant ID Gender\n",
      "0      BRICK_001      V\n",
      "1      BRICK_002      M\n",
      "2      BRICK_003      V\n",
      "3      BRICK_004      M\n",
      "4      BRICK_005      M\n"
     ]
    }
   ],
   "source": [
    "#now make the hyphen a underscore up age at scan csv with this table\n",
    "brick_gender[\"Participant ID\"] = brick_gender[\"Participant ID\"].str.replace('-',\"_\")\n",
    "print(brick_gender.head())"
   ]
  },
  {
   "cell_type": "code",
   "execution_count": 10,
   "id": "69fb2cd2",
   "metadata": {},
   "outputs": [],
   "source": [
    "#prepare merging, first rename Participant ID columns without spaces\n",
    "age_at_scan_2.rename(columns={\"BRICK-nummer\" : \"Participant_ID\"}, inplace=True)\n",
    "brick_gender.rename(columns={\"Participant ID\" : \"Participant_ID\"}, inplace=True)"
   ]
  },
  {
   "cell_type": "code",
   "execution_count": 11,
   "id": "2fa20bf0",
   "metadata": {},
   "outputs": [
    {
     "name": "stdout",
     "output_type": "stream",
     "text": [
      "  Participant_ID Genotype  Leeftijd_bij_scan Datum_MRI_T0 Datum_NPO_T0 Gender\n",
      "0      BRICK_001     HbSS                 16   2022-06-20   2022-07-28      V\n",
      "1      BRICK_002     HbSC                 15   2022-06-20   2022-07-29      M\n",
      "2      BRICK_003     HbSS                 13   2022-06-20   2022-07-08      V\n",
      "3      BRICK_004     HbSS                  9   2022-07-04   2022-08-10      M\n",
      "4      BRICK_005     HbSC                  9   2022-12-14   2023-02-09      M\n"
     ]
    }
   ],
   "source": [
    "BRICK_volumetric_dems = pd.merge(age_at_scan_2, brick_gender, on=\"Participant_ID\", how=\"left\")\n",
    "print(BRICK_volumetric_dems.head())"
   ]
  },
  {
   "cell_type": "code",
   "execution_count": 21,
   "id": "af64683d",
   "metadata": {},
   "outputs": [],
   "source": [
    "#now merge this one with the volumetric data csv, drop first index column\n",
    "brick_volumetric = pd.read_csv(\"/home/a.kidane@mydre.org/brickstudy/secret_data/brain_volumes_from_freesurfer_no_qc.csv\", index_col=0)"
   ]
  },
  {
   "cell_type": "code",
   "execution_count": 22,
   "id": "2fb6ab75",
   "metadata": {},
   "outputs": [],
   "source": [
    "#rename first column and change hyphens into underscores\n",
    "brick_volumetric.rename(columns={\"Participant ID\" : \"Participant_ID\"}, inplace=True)\n",
    "brick_volumetric[\"Participant_ID\"] = brick_gender[\"Participant_ID\"].str.replace('-',\"_\")"
   ]
  },
  {
   "cell_type": "code",
   "execution_count": 23,
   "id": "9c9e0e7f",
   "metadata": {},
   "outputs": [
    {
     "name": "stdout",
     "output_type": "stream",
     "text": [
      "  Participant_ID  Left-Lateral-Ventricle  Left-Inf-Lat-Vent  \\\n",
      "0      BRICK_001                  3003.6              236.3   \n",
      "1      BRICK_002                  3423.4              203.2   \n",
      "2      BRICK_003                  4516.6             1085.6   \n",
      "3      BRICK_004                  6298.0              438.4   \n",
      "4      BRICK_005                 12589.6              352.9   \n",
      "\n",
      "   Left-Cerebellum-White-Matter  Left-Cerebellum-Cortex  Left-Thalamus-Proper  \\\n",
      "0                       13804.5                 56622.6                6919.7   \n",
      "1                       12140.0                 50067.4                6404.7   \n",
      "2                       12862.1                 51962.8                7410.2   \n",
      "3                       13439.1                 60803.3                8451.7   \n",
      "4                       13078.8                 58877.9                7250.1   \n",
      "\n",
      "   Left-Caudate  Left-Putamen  Left-Pallidum  3rd-Ventricle  ...  \\\n",
      "0        2986.4        4495.1         1846.9          560.1  ...   \n",
      "1        3365.1        4887.1         1745.3          549.3  ...   \n",
      "2        3852.2        5760.3         2096.7          678.6  ...   \n",
      "3        3750.7        4966.7         2139.3          849.8  ...   \n",
      "4        3168.0        5603.4         1890.5          792.5  ...   \n",
      "\n",
      "   MaskVol-to-eTIV  lhSurfaceHoles  rhSurfaceHoles  SurfaceHoles  \\\n",
      "0         1.017757            67.0           101.0         168.0   \n",
      "1         0.984858            68.0            53.0         121.0   \n",
      "2         1.038266           214.0           166.0         380.0   \n",
      "3         1.021585           125.0           103.0         228.0   \n",
      "4         1.014721            75.0            58.0         133.0   \n",
      "\n",
      "   EstimatedTotalIntraCranialVol  Genotype  Leeftijd_bij_scan  Datum_MRI_T0  \\\n",
      "0                   1.466329e+06      HbSS               16.0    2022-06-20   \n",
      "1                   1.340601e+06      HbSC               15.0    2022-06-20   \n",
      "2                   1.538257e+06      HbSS               13.0    2022-06-20   \n",
      "3                   1.509018e+06      HbSS                9.0    2022-07-04   \n",
      "4                   1.438289e+06      HbSC                9.0    2022-12-14   \n",
      "\n",
      "   Datum_NPO_T0  Gender  \n",
      "0    2022-07-28       V  \n",
      "1    2022-07-29       M  \n",
      "2    2022-07-08       V  \n",
      "3    2022-08-10       M  \n",
      "4    2023-02-09       M  \n",
      "\n",
      "[5 rows x 72 columns]\n"
     ]
    }
   ],
   "source": [
    "#merge the demographic data and demographic data\n",
    "\n",
    "brick_volumetric_dems_00 = pd.merge(brick_volumetric,BRICK_volumetric_dems, on=\"Participant_ID\", how=\"left\")\n",
    "\n",
    "print(brick_volumetric_dems_00.head())"
   ]
  },
  {
   "cell_type": "code",
   "execution_count": 24,
   "id": "45091ba1",
   "metadata": {},
   "outputs": [],
   "source": [
    "file_path = \"/home/a.kidane@mydre.org/brickstudy/secret_data/brick_volumetric_dems_01.csv\"\n",
    "brick_volumetric_dems_00.to_csv(file_path, index=False)"
   ]
  },
  {
   "cell_type": "code",
   "execution_count": null,
   "id": "94c5d4ef",
   "metadata": {},
   "outputs": [],
   "source": []
  }
 ],
 "metadata": {
  "kernelspec": {
   "display_name": "Python 3 (ipykernel)",
   "language": "python",
   "name": "python3"
  },
  "language_info": {
   "codemirror_mode": {
    "name": "ipython",
    "version": 3
   },
   "file_extension": ".py",
   "mimetype": "text/x-python",
   "name": "python",
   "nbconvert_exporter": "python",
   "pygments_lexer": "ipython3",
   "version": "3.11.9"
  }
 },
 "nbformat": 4,
 "nbformat_minor": 5
}
