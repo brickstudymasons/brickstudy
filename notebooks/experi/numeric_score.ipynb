{
 "cells": [
  {
   "cell_type": "markdown",
   "id": "0",
   "metadata": {},
   "source": [
    "# Numerical SCORE data"
   ]
  },
  {
   "cell_type": "markdown",
   "id": "1",
   "metadata": {},
   "source": [
    "This creates a merged file with BrickSTUDY IDS from the score_data"
   ]
  },
  {
   "cell_type": "code",
   "execution_count": null,
   "id": "2",
   "metadata": {
    "tags": []
   },
   "outputs": [],
   "source": [
    "import os\n",
    "import sys\n",
    "from functools import reduce\n",
    "import pandas as pd\n",
    "import numpy as np\n",
    "import seaborn as sns\n",
    "import matplotlib.pyplot as plt\n",
    "import ipywidgets as widgets\n",
    "\n",
    "sys.path.insert(0, '../../')\n",
    "from brickstudy import foundation"
   ]
  },
  {
   "cell_type": "code",
   "execution_count": null,
   "id": "3",
   "metadata": {
    "tags": []
   },
   "outputs": [],
   "source": [
    "key_table1 = pd.read_excel(\"../../secret_data/Sleutelbestand_participation_other_studies_08-04-2024_update..xlsx\", sheet_name=0)\n",
    "key_table1.head(3)"
   ]
  },
  {
   "cell_type": "code",
   "execution_count": null,
   "id": "4",
   "metadata": {
    "tags": []
   },
   "outputs": [],
   "source": [
    "key_table_clean = key_table1[key_table1['Participant Id'].notna()]\n",
    "key_table_clean.tail(3) "
   ]
  },
  {
   "cell_type": "code",
   "execution_count": null,
   "id": "5",
   "metadata": {
    "tags": []
   },
   "outputs": [],
   "source": [
    "key_table_clean = key_table_clean[['Participant Id','RADeep_id', 'SCORE_data_local_id', 'SCS_id', 'SCS_inclusion_y_n', 'SCORE_biobank_y_n', 'SCORE_biobank_local_id']]\n",
    "key_table_clean.head(3)"
   ]
  },
  {
   "cell_type": "code",
   "execution_count": null,
   "id": "6",
   "metadata": {
    "tags": []
   },
   "outputs": [],
   "source": [
    "our_new_data = pd.read_csv(\"../../secret_data/SCORE_RADeep-registry__export_20240717.csv\", sep=';')\n",
    "our_new_data = our_new_data.rename(columns={'Participant Id': 'RADeep_id'})\n",
    "our_new_data.head(2)"
   ]
  },
  {
   "cell_type": "code",
   "execution_count": null,
   "id": "7",
   "metadata": {
    "tags": []
   },
   "outputs": [],
   "source": [
    "key_table_clean.columns"
   ]
  },
  {
   "cell_type": "code",
   "execution_count": null,
   "id": "8",
   "metadata": {
    "tags": []
   },
   "outputs": [],
   "source": [
    "our_new_data_score_and_key = our_new_data.merge(key_table_clean, on='RADeep_id')\n",
    "#our_new_data_score_and_key = our_new_data_score_and_key.pop('Participant Id')\n",
    "our_new_data_score_and_key.columns"
   ]
  },
  {
   "cell_type": "code",
   "execution_count": null,
   "id": "9",
   "metadata": {
    "tags": []
   },
   "outputs": [],
   "source": [
    "column_to_move = our_new_data_score_and_key.pop('Participant Id')\n",
    "#column_to_move"
   ]
  },
  {
   "cell_type": "code",
   "execution_count": null,
   "id": "10",
   "metadata": {
    "tags": []
   },
   "outputs": [],
   "source": [
    "our_new_data_score_and_key.insert(0, 'Participant Id', column_to_move)\n"
   ]
  },
  {
   "cell_type": "code",
   "execution_count": null,
   "id": "11",
   "metadata": {
    "tags": []
   },
   "outputs": [],
   "source": [
    "our_new_data_score_and_key"
   ]
  },
  {
   "cell_type": "code",
   "execution_count": null,
   "id": "12",
   "metadata": {
    "tags": []
   },
   "outputs": [],
   "source": [
    "our_new_data_score_and_key = our_new_data_score_and_key.replace(-99.00, 'NaN')\n",
    "our_new_data_score_and_key = our_new_data_score_and_key.replace(-98.00, 'NaN')\n",
    "our_new_data_score_and_key = our_new_data_score_and_key.replace(-97.00, 'NaN')\n",
    "our_new_data_score_and_key = our_new_data_score_and_key.replace(-96.00, 'NaN')\n",
    "our_new_data_score_and_key = our_new_data_score_and_key.replace(-95.00, 'NaN')\n",
    "our_new_data_score_and_key = our_new_data_score_and_key.replace('-99', 'NaN')\n",
    "our_new_data_score_and_key = our_new_data_score_and_key.replace('-98', 'NaN')\n",
    "our_new_data_score_and_key = our_new_data_score_and_key.replace('-97', 'NaN')\n",
    "our_new_data_score_and_key = our_new_data_score_and_key.replace('-96', 'NaN')\n",
    "our_new_data_score_and_key = our_new_data_score_and_key.replace('-95', 'NaN')\n",
    "our_new_data_score_and_key"
   ]
  },
  {
   "cell_type": "code",
   "execution_count": null,
   "id": "13",
   "metadata": {},
   "outputs": [],
   "source": [
    "our_new_data_score_and_key['beta_thalassemia_spec'] = np.nan"
   ]
  },
  {
   "cell_type": "code",
   "execution_count": null,
   "id": "14",
   "metadata": {
    "tags": []
   },
   "outputs": [],
   "source": [
    "our_new_data_score_and_key.to_csv('../../secret_data/holy_numeric_score_data_August9th2024.csv')"
   ]
  },
  {
   "cell_type": "code",
   "execution_count": null,
   "id": "15",
   "metadata": {
    "tags": []
   },
   "outputs": [],
   "source": [
    "our_new_data_score_and_key[['Participant Id','beta_thalassemia_spec']]"
   ]
  },
  {
   "cell_type": "code",
   "execution_count": null,
   "id": "16",
   "metadata": {
    "tags": []
   },
   "outputs": [],
   "source": [
    "for f in our_new_data_score_and_key.columns:\n",
    "    print(f)"
   ]
  },
  {
   "cell_type": "code",
   "execution_count": null,
   "id": "17",
   "metadata": {},
   "outputs": [],
   "source": [
    "STOP"
   ]
  },
  {
   "cell_type": "code",
   "execution_count": null,
   "id": "18",
   "metadata": {
    "tags": []
   },
   "outputs": [],
   "source": [
    "holy = our_new_data_score_and_key.insert(\n",
    "    0,\n",
    "    'Participant Id', \n",
    "    our_new_data_score_and_key.pop('Participant Id'),\n",
    ")\n",
    "holy.head(3)"
   ]
  },
  {
   "cell_type": "code",
   "execution_count": null,
   "id": "19",
   "metadata": {
    "tags": []
   },
   "outputs": [],
   "source": [
    "# version 6.0.7.6\n",
    "\n",
    "fsl_installation file"
   ]
  }
 ],
 "metadata": {
  "kernelspec": {
   "display_name": "Python 3 (ipykernel)",
   "language": "python",
   "name": "python3"
  },
  "language_info": {
   "codemirror_mode": {
    "name": "ipython",
    "version": 3
   },
   "file_extension": ".py",
   "mimetype": "text/x-python",
   "name": "python",
   "nbconvert_exporter": "python",
   "pygments_lexer": "ipython3",
   "version": "3.11.8"
  }
 },
 "nbformat": 4,
 "nbformat_minor": 5
}
