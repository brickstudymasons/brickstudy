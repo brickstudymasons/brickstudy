{
 "cells": [
  {
   "cell_type": "markdown",
   "id": "fbe1969c-00de-4c13-a268-9df248c3ea5e",
   "metadata": {},
   "source": [
    "# Numerical SCORE data"
   ]
  },
  {
   "cell_type": "markdown",
   "id": "c2895ea1-c932-4835-bf04-7ed8744131fe",
   "metadata": {},
   "source": [
    "This creates a merged file with BrickSTUDY IDS from the score_data"
   ]
  },
  {
   "cell_type": "code",
   "execution_count": null,
   "id": "f99fc269-5190-4114-88c9-952f7c51e003",
   "metadata": {
    "tags": []
   },
   "outputs": [],
   "source": [
    "import os\n",
    "import sys\n",
    "from functools import reduce\n",
    "import pandas as pd\n",
    "import numpy as np\n",
    "import seaborn as sns\n",
    "import matplotlib.pyplot as plt\n",
    "import ipywidgets as widgets\n",
    "\n",
    "sys.path.insert(0, '../../')\n",
    "from brickstudy import foundation"
   ]
  },
  {
   "cell_type": "code",
   "execution_count": null,
   "id": "ed9cda28-82ec-460c-ab02-28e9f35d0e2e",
   "metadata": {
    "tags": []
   },
   "outputs": [],
   "source": [
    "key_table1 = pd.read_excel(\"../../secret_data/Sleutelbestand_participation_other_studies_08-04-2024_update..xlsx\", sheet_name=0)\n",
    "key_table1.head(3)"
   ]
  },
  {
   "cell_type": "code",
   "execution_count": null,
   "id": "81f7936b-c57a-4ffc-8281-4eac1229617f",
   "metadata": {
    "tags": []
   },
   "outputs": [],
   "source": [
    "key_table_clean = key_table1[key_table1['Participant Id'].notna()]\n",
    "key_table_clean.tail(3) "
   ]
  },
  {
   "cell_type": "code",
   "execution_count": null,
   "id": "73e7f4b1-1c04-46f6-a54c-d77315dd16f3",
   "metadata": {
    "tags": []
   },
   "outputs": [],
   "source": [
    "key_table_clean = key_table_clean[['Participant Id','RADeep_id', 'SCORE_data_local_id', 'SCS_id', 'SCS_inclusion_y_n', 'SCORE_biobank_y_n', 'SCORE_biobank_local_id']]\n",
    "key_table_clean.head(3)"
   ]
  },
  {
   "cell_type": "code",
   "execution_count": null,
   "id": "36421ef8-9fac-448c-8ffb-fa1d7a76c82d",
   "metadata": {
    "tags": []
   },
   "outputs": [],
   "source": [
    "our_new_data = pd.read_csv(\"../../secret_data/SCORE_RADeep-registry__export_20240717.csv\", sep=';')\n",
    "our_new_data = our_new_data.rename(columns={'Participant Id': 'RADeep_id'})\n",
    "our_new_data.head(2)"
   ]
  },
  {
   "cell_type": "code",
   "execution_count": null,
   "id": "e361a87d-93a6-4360-af90-8eac8b47fb84",
   "metadata": {
    "tags": []
   },
   "outputs": [],
   "source": [
    "key_table_clean.columns"
   ]
  },
  {
   "cell_type": "code",
   "execution_count": null,
   "id": "136d4f99-3755-4bdb-8740-a899b5ca724e",
   "metadata": {
    "tags": []
   },
   "outputs": [],
   "source": [
    "our_new_data_score_and_key = our_new_data.merge(key_table_clean, on='RADeep_id')\n",
    "#our_new_data_score_and_key = our_new_data_score_and_key.pop('Participant Id')\n",
    "our_new_data_score_and_key.columns"
   ]
  },
  {
   "cell_type": "code",
   "execution_count": null,
   "id": "294f3c70-8f9d-4738-aa6f-1988359a9d6e",
   "metadata": {
    "tags": []
   },
   "outputs": [],
   "source": [
    "column_to_move = our_new_data_score_and_key.pop('Participant Id')\n",
    "#column_to_move"
   ]
  },
  {
   "cell_type": "code",
   "execution_count": null,
   "id": "9d71cf06-2c18-41dd-9838-f99dbf73582a",
   "metadata": {
    "tags": []
   },
   "outputs": [],
   "source": [
    "our_new_data_score_and_key.insert(0, 'Participant Id', column_to_move)\n"
   ]
  },
  {
   "cell_type": "code",
   "execution_count": null,
   "id": "cd3dcbaa-725f-4aa9-95a6-6e727827622e",
   "metadata": {
    "tags": []
   },
   "outputs": [],
   "source": [
    "our_new_data_score_and_key"
   ]
  },
  {
   "cell_type": "code",
   "execution_count": null,
   "id": "5c6dddc7-0a8a-4f4a-ba59-fc00d5195bd6",
   "metadata": {
    "tags": []
   },
   "outputs": [],
   "source": [
    "our_new_data_score_and_key = our_new_data_score_and_key.replace(-99.00, 'NaN')\n",
    "our_new_data_score_and_key = our_new_data_score_and_key.replace(-98.00, 'NaN')\n",
    "our_new_data_score_and_key = our_new_data_score_and_key.replace(-97.00, 'NaN')\n",
    "our_new_data_score_and_key = our_new_data_score_and_key.replace(-96.00, 'NaN')\n",
    "our_new_data_score_and_key = our_new_data_score_and_key.replace(-95.00, 'NaN')\n",
    "our_new_data_score_and_key = our_new_data_score_and_key.replace('-99', 'NaN')\n",
    "our_new_data_score_and_key = our_new_data_score_and_key.replace('-98', 'NaN')\n",
    "our_new_data_score_and_key = our_new_data_score_and_key.replace('-97', 'NaN')\n",
    "our_new_data_score_and_key = our_new_data_score_and_key.replace('-96', 'NaN')\n",
    "our_new_data_score_and_key = our_new_data_score_and_key.replace('-95', 'NaN')\n",
    "our_new_data_score_and_key"
   ]
  },
  {
   "cell_type": "code",
   "execution_count": null,
   "id": "d72bbe07-d60c-4ce3-adbe-941140ec81d6",
   "metadata": {},
   "outputs": [],
   "source": [
    "our_new_data_score_and_key['beta_thalassemia_spec'] = np.nan"
   ]
  },
  {
   "cell_type": "code",
   "execution_count": null,
   "id": "d9396eb5-2caf-4e01-9402-3b801b2973e8",
   "metadata": {
    "tags": []
   },
   "outputs": [],
   "source": [
    "our_new_data_score_and_key.to_csv('../../secret_data/holy_numeric_score_data_August9th2024.csv')"
   ]
  },
  {
   "cell_type": "code",
   "execution_count": null,
   "id": "fd47d057-2ff1-4794-9796-642db0dce87c",
   "metadata": {
    "tags": []
   },
   "outputs": [],
   "source": [
    "our_new_data_score_and_key[['Participant Id','beta_thalassemia_spec']]"
   ]
  },
  {
   "cell_type": "code",
   "execution_count": null,
   "id": "cfc41013-b33d-4482-b8cd-88721910c740",
   "metadata": {
    "tags": []
   },
   "outputs": [],
   "source": [
    "for f in our_new_data_score_and_key.columns:\n",
    "    print(f)"
   ]
  },
  {
   "cell_type": "code",
   "execution_count": null,
   "id": "76d2b542-1ac7-4a15-ada6-3c5904e0c244",
   "metadata": {},
   "outputs": [],
   "source": [
    "STOP"
   ]
  },
  {
   "cell_type": "code",
   "execution_count": null,
   "id": "1ef63874-4f4f-4894-ad60-e4fdf04c457a",
   "metadata": {
    "tags": []
   },
   "outputs": [],
   "source": [
    "holy = our_new_data_score_and_key.insert(\n",
    "    0,\n",
    "    'Participant Id', \n",
    "    our_new_data_score_and_key.pop('Participant Id'),\n",
    ")\n",
    "holy.head(3)"
   ]
  },
  {
   "cell_type": "code",
   "execution_count": null,
   "id": "40eaa50c-1230-4b9a-925d-8efdb2863220",
   "metadata": {
    "tags": []
   },
   "outputs": [],
   "source": [
    "# version 6.0.7.6\n",
    "\n",
    "fsl_installation file"
   ]
  }
 ],
 "metadata": {
  "kernelspec": {
   "display_name": "Python 3 (ipykernel)",
   "language": "python",
   "name": "python3"
  },
  "language_info": {
   "codemirror_mode": {
    "name": "ipython",
    "version": 3
   },
   "file_extension": ".py",
   "mimetype": "text/x-python",
   "name": "python",
   "nbconvert_exporter": "python",
   "pygments_lexer": "ipython3",
   "version": "3.11.8"
  }
 },
 "nbformat": 4,
 "nbformat_minor": 5
}
