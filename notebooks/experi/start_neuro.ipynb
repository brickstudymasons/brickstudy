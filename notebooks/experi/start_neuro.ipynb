{
 "cells": [
  {
   "cell_type": "markdown",
   "id": "e3ddd9f7-045b-4cb2-bbf8-70beffb54b1f",
   "metadata": {},
   "source": [
    "# Neuropsychological data"
   ]
  },
  {
   "cell_type": "code",
   "execution_count": null,
   "id": "7dcd09ab-051d-4e6a-9f1a-c84a470cac9f",
   "metadata": {
    "tags": []
   },
   "outputs": [],
   "source": [
    "#"
   ]
  },
  {
   "cell_type": "code",
   "execution_count": null,
   "id": "2c155d58-6da3-4e29-875d-f85c26b048de",
   "metadata": {
    "tags": []
   },
   "outputs": [],
   "source": [
    "import os\n",
    "import sys\n",
    "from functools import reduce\n",
    "import pandas as pd\n",
    "import numpy as np\n",
    "import seaborn as sns\n",
    "import matplotlib.pyplot as plt\n",
    "\n",
    "sys.path.insert(0, '../../')\n",
    "from brickstudy import foundation"
   ]
  },
  {
   "cell_type": "code",
   "execution_count": null,
   "id": "6042c295-b82f-41c8-9b5a-2c1f22900084",
   "metadata": {
    "tags": []
   },
   "outputs": [],
   "source": [
    "WAISIV_BRICK_T0dd08042024 = pd.read_csv(\"../../secret_data/WAISIV_BRICK_T0dd08042024.csv\", sep=\";\", encoding='latin1' )\n",
    "WAISIV_BRICK_T0dd08042024"
   ]
  },
  {
   "cell_type": "code",
   "execution_count": null,
   "id": "50d933a5-956d-475b-8926-2b6bb8b5ec88",
   "metadata": {},
   "outputs": [],
   "source": []
  },
  {
   "cell_type": "code",
   "execution_count": null,
   "id": "e6b7a814-9f9c-45ac-8f62-449b14cf842a",
   "metadata": {
    "tags": []
   },
   "outputs": [],
   "source": [
    "WISC_V_BRICK_T0dd08042024 = pd.read_csv(\"../../secret_data/WISC_V_BRICK_T0dd08042024.csv\", sep=\";\")"
   ]
  },
  {
   "cell_type": "code",
   "execution_count": null,
   "id": "b56cb579-1e37-4bfe-83c0-f55fea83f417",
   "metadata": {
    "tags": []
   },
   "outputs": [],
   "source": [
    "WISC_V_BRICK_T0dd08042024.head()"
   ]
  },
  {
   "cell_type": "code",
   "execution_count": null,
   "id": "c93fc480-1d3f-4f6e-ab58-f0c38c671bcf",
   "metadata": {
    "tags": []
   },
   "outputs": [],
   "source": [
    "WISC_V_BRICK_T0dd08042024_for_castor = WISC_V_BRICK_T0dd08042024.rename(\n",
    "    columns={\"gr2o_patient_nr\": \"Participant Id\",\n",
    "             \"DatumWISCV\": \"Datum_WISC_V\",\n",
    "            \"StartWISCV\": \"Start_WISC_V\",\n",
    "            \"StopWISCV\": \"Stop_WISC_V\",\n",
    "            \"WISCVVolt\": \"WISC_V_voltooid\",\n",
    "            \"VolgordeWISC\":\"Volgorde_NPO_3\",\n",
    "            \"AfnemerWISCV\":\"Afnemer_WISC_V\",\n",
    "            \"WISCVOpm\": \"Opmerkingen_WISC_V\",\n",
    "            \"WISCVOpmUit\":\"Uitleg_Opmerkingen_WISC_V\",} )\n",
    "\n",
    "\n",
    " # colnames(WISCV_gemstracker)[colnames(WISCV_gemstracker) == \"gr2o_patient_nr\"] <- \"Participant Id\"\n",
    " # colnames(WISCV_gemstracker)[colnames(WISCV_gemstracker) == \"DatumWISCV\"] <- \"Datum_WISC_V\"\n",
    " # colnames(WISCV_gemstracker)[colnames(WISCV_gemstracker) == \"StartWISCV\"] <- \"Start_WISC_V\"\n",
    " # colnames(WISCV_gemstracker)[colnames(WISCV_gemstracker) == \"StopWISCV\"] <- \"Stop_WISC_V\"\n",
    " # colnames(WISCV_gemstracker)[colnames(WISCV_gemstracker) == \"WISCVVolt\"] <- \"WISC_V_voltooid\"\n",
    " # colnames(WISCV_gemstracker)[colnames(WISCV_gemstracker) == \"VolgordeWISC\"] <- \"Volgorde_NPO_3\"\n",
    " # colnames(WISCV_gemstracker)[colnames(WISCV_gemstracker) == \"AfnemerWISCV\"] <- \"Afnemer_WISC_V\"\n",
    " # colnames(WISCV_gemstracker)[colnames(WISCV_gemstracker) == \"WISCVOpm\"] <- \"Opmerkingen_WISC_V\"\n",
    " # colnames(WISCV_gemstracker)[colnames(WISCV_gemstracker) == \"WISCVOpmUit\"] <- \"Uitleg_Opmerkingen_WISC_V\""
   ]
  },
  {
   "cell_type": "code",
   "execution_count": null,
   "id": "5a7ad113-dff2-4dad-8008-ae112c3ced08",
   "metadata": {
    "tags": []
   },
   "outputs": [],
   "source": [
    "WISC_V_BRICK_T0dd08042024_for_castor['BRICK_of_uitgebreid'] = 1\n",
    "WISC_V_BRICK_T0dd08042024_for_castor.head(3)"
   ]
  },
  {
   "cell_type": "code",
   "execution_count": null,
   "id": "08e4671a-621a-45ed-b92f-1d2d2c943c03",
   "metadata": {
    "tags": []
   },
   "outputs": [],
   "source": []
  },
  {
   "cell_type": "code",
   "execution_count": null,
   "id": "47bf9546-1325-4b0c-ab66-3813e1cd8f5c",
   "metadata": {
    "tags": []
   },
   "outputs": [],
   "source": [
    "WISC_V_BRICK_T0dd08042024_for_castor['Datum_WISC_V'] = pd.to_datetime(WISC_V_BRICK_T0dd08042024_for_castor['Datum_WISC_V'], format='%d-%m-%Y')\n",
    "\n",
    "#dt.strftime('%d-%m-%Y')\n",
    " #9-2-2023"
   ]
  },
  {
   "cell_type": "code",
   "execution_count": null,
   "id": "08c9544d-ea03-432d-8a67-60b85255ae74",
   "metadata": {
    "tags": []
   },
   "outputs": [],
   "source": [
    "WISC_V_BRICK_T0dd08042024_for_castor['Datum_WISC_V'] = WISC_V_BRICK_T0dd08042024_for_castor['Datum_WISC_V'].dt.strftime('%d-%m-%Y')\n",
    "#WISC_V_BRICK_T0dd08042024_for_castor['Datum_WISC_V']"
   ]
  },
  {
   "cell_type": "code",
   "execution_count": null,
   "id": "755da5a6-3026-4112-8322-38921deffb4e",
   "metadata": {},
   "outputs": [],
   "source": [
    "WISC_V_BRICK_T0dd08042024_for_castor['AfnemerWISCV_SQ001']"
   ]
  },
  {
   "cell_type": "code",
   "execution_count": null,
   "id": "04a447b7-3fbd-4a3a-9f4e-bf276d8feafb",
   "metadata": {
    "tags": []
   },
   "outputs": [],
   "source": [
    "WISC_V_BRICK_T0dd08042024_for_castor['Datum_WISC_V'] "
   ]
  },
  {
   "cell_type": "code",
   "execution_count": null,
   "id": "c46a5b4c-0354-40ba-afc2-ec92f55a517a",
   "metadata": {
    "tags": []
   },
   "outputs": [],
   "source": [
    "print(type(WISC_V_BRICK_T0dd08042024_for_castor['Datum_WISC_V'][1]))"
   ]
  },
  {
   "cell_type": "code",
   "execution_count": null,
   "id": "b3b15496-4266-47bf-a970-ddba6364e398",
   "metadata": {
    "tags": []
   },
   "outputs": [],
   "source": [
    "describe_table = WISC_V_BRICK_T0dd08042024.describe()"
   ]
  },
  {
   "cell_type": "code",
   "execution_count": null,
   "id": "67759cfd-b052-4a95-87e4-0386031c803a",
   "metadata": {
    "tags": []
   },
   "outputs": [],
   "source": [
    "describe_table[[\n",
    " 'WgITot',\n",
    "    'VsITot',\n",
    "    'KRITot',\n",
    "    'AWITot',\n",
    "    'NVITot',\n",
    "    'AVITot',\n",
    "    'CCITot',\n",
    "    'Tot',]]"
   ]
  },
  {
   "cell_type": "code",
   "execution_count": null,
   "id": "7a14db7d-3d83-4f65-97e0-76cb036a99b5",
   "metadata": {
    "tags": []
   },
   "outputs": [],
   "source": [
    "for f in WISC_V_BRICK_T0dd08042024.columns:\n",
    "    print(f)"
   ]
  },
  {
   "cell_type": "code",
   "execution_count": null,
   "id": "699f7b7b-befa-4bd9-8fd8-3e3ada5b59a4",
   "metadata": {
    "tags": []
   },
   "outputs": [],
   "source": [
    "totals = WISC_V_BRICK_T0dd08042024[[\n",
    "    'WgITot',\n",
    "    'VsITot',\n",
    "    'KRITot',\n",
    "    'AWITot',\n",
    "    'NVITot',\n",
    "    'AVITot',\n",
    "    'CCITot',\n",
    "    'Tot',]]\n",
    "\n",
    "\n"
   ]
  },
  {
   "cell_type": "code",
   "execution_count": null,
   "id": "57c25178-7847-45bd-9949-7b697927e6bf",
   "metadata": {
    "tags": []
   },
   "outputs": [],
   "source": [
    "totals.corr()"
   ]
  },
  {
   "cell_type": "code",
   "execution_count": null,
   "id": "d6ebd761-2da2-4771-a414-810d0e578a47",
   "metadata": {},
   "outputs": [],
   "source": []
  }
 ],
 "metadata": {
  "kernelspec": {
   "display_name": "Python 3 (ipykernel)",
   "language": "python",
   "name": "python3"
  },
  "language_info": {
   "codemirror_mode": {
    "name": "ipython",
    "version": 3
   },
   "file_extension": ".py",
   "mimetype": "text/x-python",
   "name": "python",
   "nbconvert_exporter": "python",
   "pygments_lexer": "ipython3",
   "version": "3.11.8"
  }
 },
 "nbformat": 4,
 "nbformat_minor": 5
}
