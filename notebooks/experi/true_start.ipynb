{
 "cells": [
  {
   "cell_type": "code",
   "execution_count": null,
   "id": "781c2fc1-7acc-4612-9507-f01473a28093",
   "metadata": {
    "tags": []
   },
   "outputs": [],
   "source": [
    "import os\n",
    "import sys\n",
    "from functools import reduce\n",
    "import pandas as pd\n",
    "import numpy as np\n",
    "\n",
    "sys.path.insert(0, '../../')\n",
    "from brickstudy import foundation"
   ]
  },
  {
   "cell_type": "code",
   "execution_count": null,
   "id": "85406836-57bb-4d4c-b23f-2fafa1698cbb",
   "metadata": {
    "tags": []
   },
   "outputs": [],
   "source": [
    "# import data and pull out incorrect lines"
   ]
  },
  {
   "cell_type": "code",
   "execution_count": null,
   "id": "866c1a45-43f5-4d42-9abe-7d35d30f8f4d",
   "metadata": {
    "tags": []
   },
   "outputs": [],
   "source": [
    "key_table = pd.read_excel(\"../../secret_data/Sleutelbestand_participation_other_studies_04-08-2023.xlsx\")\n",
    "key_table.head(3)"
   ]
  },
  {
   "cell_type": "code",
   "execution_count": null,
   "id": "8e8e04d0-9a9e-4c86-a186-15cf317e7592",
   "metadata": {
    "tags": []
   },
   "outputs": [],
   "source": [
    "len(key_table)"
   ]
  },
  {
   "cell_type": "code",
   "execution_count": null,
   "id": "b732a103-bb25-4d00-8745-f85a26f564b1",
   "metadata": {
    "tags": []
   },
   "outputs": [],
   "source": [
    "key_table.tail(10)"
   ]
  },
  {
   "cell_type": "code",
   "execution_count": null,
   "id": "80efcb49-8009-4c61-ac95-f515854466d6",
   "metadata": {
    "tags": []
   },
   "outputs": [],
   "source": [
    "key_table_clean = key_table[key_table['Participant Id'].notna()]\n",
    "key_table_clean "
   ]
  },
  {
   "cell_type": "code",
   "execution_count": null,
   "id": "362d8278-1190-42fd-a683-ceedf524775e",
   "metadata": {
    "tags": []
   },
   "outputs": [],
   "source": [
    "len(key_table_clean)"
   ]
  },
  {
   "cell_type": "code",
   "execution_count": null,
   "id": "3b600348-2d97-46ba-839e-146b6b5785ec",
   "metadata": {
    "tags": []
   },
   "outputs": [],
   "source": [
    "key_table.columns"
   ]
  },
  {
   "cell_type": "code",
   "execution_count": null,
   "id": "6682a185-ecd3-488a-b1a2-595768b91d22",
   "metadata": {
    "tags": []
   },
   "outputs": [],
   "source": [
    "key_table = key_table[['Participant Id','RADeep_id', 'SCORE_data_local_id', 'SCS_id', 'SCS_inclusion_y_n', 'SCORE_biobank_y_n', 'SCORE_biobank_local_id']]\n",
    "key_table.head(3)"
   ]
  },
  {
   "cell_type": "code",
   "execution_count": null,
   "id": "052480b6-1460-4ed1-b89a-ae4c7d8b2759",
   "metadata": {
    "tags": []
   },
   "outputs": [],
   "source": [
    "key_table.columns"
   ]
  },
  {
   "cell_type": "code",
   "execution_count": null,
   "id": "ff6eafe5-1365-41a3-a461-3becb937ee3d",
   "metadata": {
    "tags": []
   },
   "outputs": [],
   "source": [
    "# Brick_excel_export_20240319031602 = pd.ExcelFile(\"../../secret_data/Brick_excel_export_20240319031602.xlsx\")\n",
    "# Get the list of sheet names"
   ]
  },
  {
   "cell_type": "code",
   "execution_count": null,
   "id": "560896c9-5b26-40f2-84ca-9c6d7334d20d",
   "metadata": {
    "tags": []
   },
   "outputs": [],
   "source": [
    "Brick_excel_export_20240319031602 = pd.read_excel(\"../../secret_data/Brick_excel_export_20240319031602.xlsx\")"
   ]
  },
  {
   "cell_type": "code",
   "execution_count": null,
   "id": "8ab252ad-ba6c-49bd-8b06-8b7e33a77c64",
   "metadata": {
    "tags": []
   },
   "outputs": [],
   "source": [
    "len(Brick_excel_export_20240319031602)"
   ]
  },
  {
   "cell_type": "code",
   "execution_count": null,
   "id": "df208c36-09fd-436f-bb10-d15bdfa316a0",
   "metadata": {
    "tags": []
   },
   "outputs": [],
   "source": [
    "Brick_excel_export_20240319031602.head() "
   ]
  },
  {
   "cell_type": "code",
   "execution_count": null,
   "id": "6c2736e4-32fe-45a2-9d0e-86c5b89ede82",
   "metadata": {
    "tags": []
   },
   "outputs": [],
   "source": [
    "Brick_excel_export_20240319031602['RADeep_id'] = Brick_excel_export_20240319031602['SCORE_data_local_id']\n",
    "Brick_excel_export_20240319031602.head(3)"
   ]
  },
  {
   "cell_type": "code",
   "execution_count": null,
   "id": "f50b3cae-7559-46e9-99d7-16604bd3c141",
   "metadata": {
    "tags": []
   },
   "outputs": [],
   "source": []
  },
  {
   "cell_type": "code",
   "execution_count": null,
   "id": "1d027e55-f7e5-4779-a739-8bc48f8e9c0e",
   "metadata": {
    "tags": []
   },
   "outputs": [],
   "source": [
    "Brick_excel_export_20240319031602 = Brick_excel_export_20240319031602[['SCORE_data', 'Site Abbreviation','RADeep_id']]\n",
    "\n",
    "Brick_excel_export_20240319031602.head(3)"
   ]
  },
  {
   "cell_type": "code",
   "execution_count": null,
   "id": "e7e7aa51-0ad2-4382-a798-4a184ca490eb",
   "metadata": {
    "tags": []
   },
   "outputs": [],
   "source": [
    "key_table.columns"
   ]
  },
  {
   "cell_type": "code",
   "execution_count": null,
   "id": "9b649fb2-6ad3-4001-8e9d-aceac96db46b",
   "metadata": {
    "tags": []
   },
   "outputs": [],
   "source": [
    "new_brick = Brick_excel_export_20240319031602.merge(key_table, on= \"RADeep_id\")\n",
    "new_brick.head(3)"
   ]
  },
  {
   "cell_type": "code",
   "execution_count": null,
   "id": "cb84bcea-1b39-4af5-945c-a37ee2067e05",
   "metadata": {
    "tags": []
   },
   "outputs": [],
   "source": [
    "len(new_brick.columns)"
   ]
  },
  {
   "cell_type": "code",
   "execution_count": null,
   "id": "7ccc3efd-3b15-4867-b5d2-0022757c5e64",
   "metadata": {
    "tags": []
   },
   "outputs": [],
   "source": [
    "# change particpant ID to be first column, SCS_inclusion_y_N,SCS_id\n",
    "\n",
    "new_brick = new_brick[['Participant Id',\n",
    "                       'Site Abbreviation',\n",
    "                       'SCORE_data',\n",
    "                       'RADeep_id',\n",
    "                       'SCS_inclusion_y_n',\n",
    "                       'SCS_id',\n",
    "                       'SCORE_data_local_id',\n",
    "                       'SCORE_biobank_y_n',\n",
    "                       'SCORE_biobank_local_id'\n",
    "                      ]]\n",
    "new_brick.head(4)"
   ]
  },
  {
   "cell_type": "code",
   "execution_count": null,
   "id": "53d701af-ec07-499a-a053-b5264a2749f9",
   "metadata": {
    "tags": []
   },
   "outputs": [],
   "source": [
    "len(new_brick.columns)"
   ]
  },
  {
   "cell_type": "code",
   "execution_count": null,
   "id": "f0a76f74-37ac-449d-bab6-312af25c76d2",
   "metadata": {
    "tags": []
   },
   "outputs": [],
   "source": [
    "SCORE_RADeep_registry__excel_export_20240313120746 = pd.read_excel(\"../../secret_data/SCORE_RADeep-registry__excel_export_20240313120746.xlsx\")\n",
    "# # Get the list of sheet names"
   ]
  },
  {
   "cell_type": "code",
   "execution_count": null,
   "id": "f4b9cf58-0943-4b1a-a801-8c4d3cd0a47a",
   "metadata": {
    "tags": []
   },
   "outputs": [],
   "source": [
    "SCORE_RADeep_registry__excel_export_20240313120746.head(2)"
   ]
  },
  {
   "cell_type": "code",
   "execution_count": null,
   "id": "4d48d8e6-3a25-4e11-a9fa-40fb9f63e058",
   "metadata": {
    "tags": []
   },
   "outputs": [],
   "source": [
    "# merge based on SCore.ParticipantID = RADeep_ID in new_brick\n",
    "# so first transform score.partipcantID to RADeepID\n",
    "SCORE_RADeep_registry__excel_export_20240313120746 = SCORE_RADeep_registry__excel_export_20240313120746.rename(columns={'Participant Id':'RADeep_id'})\n",
    "SCORE_RADeep_registry__excel_export_20240313120746.head(3)"
   ]
  },
  {
   "cell_type": "code",
   "execution_count": null,
   "id": "375513d1-c950-40cc-80d9-904fec69b2c4",
   "metadata": {
    "tags": []
   },
   "outputs": [],
   "source": [
    "new_three = new_brick.merge(SCORE_RADeep_registry__excel_export_20240313120746, on= 'RADeep_id')\n",
    "new_three.head(3)"
   ]
  },
  {
   "cell_type": "code",
   "execution_count": null,
   "id": "7f551d0c-0c71-4381-bf92-52186952f16b",
   "metadata": {
    "tags": []
   },
   "outputs": [],
   "source": [
    "new_three= new_three.drop(['Site Abbreviation_x'], axis=1)\n",
    "new_three= new_three.rename(columns={'Site Abbreviation_y':'Site Abbreviation'} )\n",
    "new_three.head(3)"
   ]
  },
  {
   "cell_type": "code",
   "execution_count": null,
   "id": "2090e1ff-66b1-4883-9666-8159c25e681d",
   "metadata": {
    "tags": []
   },
   "outputs": [],
   "source": [
    "len(new_three)"
   ]
  },
  {
   "cell_type": "code",
   "execution_count": null,
   "id": "3ccb597c-d4bb-493b-86e3-3ac44599474d",
   "metadata": {},
   "outputs": [],
   "source": []
  }
 ],
 "metadata": {
  "kernelspec": {
   "display_name": "Python 3 (ipykernel)",
   "language": "python",
   "name": "python3"
  },
  "language_info": {
   "codemirror_mode": {
    "name": "ipython",
    "version": 3
   },
   "file_extension": ".py",
   "mimetype": "text/x-python",
   "name": "python",
   "nbconvert_exporter": "python",
   "pygments_lexer": "ipython3",
   "version": "3.11.8"
  }
 },
 "nbformat": 4,
 "nbformat_minor": 5
}
