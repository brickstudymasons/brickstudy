{
 "cells": [
  {
   "cell_type": "markdown",
   "id": "a42edbd8-1ec2-41ba-8631-244b26a0bebd",
   "metadata": {},
   "source": [
    "# Checking and organizing original lab data"
   ]
  },
  {
   "cell_type": "code",
   "execution_count": null,
   "id": "0d080047-ed12-4417-8247-4c6f1b83e8d2",
   "metadata": {
    "tags": []
   },
   "outputs": [],
   "source": [
    "import os\n",
    "import sys\n",
    "from functools import reduce\n",
    "import pandas as pd\n",
    "import numpy as np\n",
    "import seaborn as sns\n",
    "import matplotlib.pyplot as plt\n",
    "import ipywidgets as widgets\n",
    "\n",
    "sys.path.insert(0, '../../')\n",
    "from brickstudy import foundation"
   ]
  },
  {
   "cell_type": "code",
   "execution_count": null,
   "id": "cda503aa-eca7-4cfe-b18a-2af7eb0b0ee9",
   "metadata": {
    "tags": []
   },
   "outputs": [],
   "source": [
    "lab_data2 = pd.read_excel('../../secret_data/Brick_lab_20230914.xlsx')"
   ]
  },
  {
   "cell_type": "code",
   "execution_count": null,
   "id": "a05c0148-0f65-4c72-ac5d-685023c3ab20",
   "metadata": {
    "tags": []
   },
   "outputs": [],
   "source": [
    "lab_data2 "
   ]
  },
  {
   "cell_type": "code",
   "execution_count": null,
   "id": "fe90f758-4236-42d8-b70e-f801d30f5faa",
   "metadata": {
    "tags": []
   },
   "outputs": [],
   "source": [
    "lab_data2['studieID'].unique()"
   ]
  },
  {
   "cell_type": "markdown",
   "id": "3c74a53b-b26c-4d86-aab9-171cadeaf7d4",
   "metadata": {},
   "source": [
    "In other lab data (updated lab data)\n",
    "\n",
    "'BRICK-052', 'BRICK-053', 'BRICK-058', 'BRICK-056', 'BRICK-055',\n",
    "       'BRICK-054', 'BRICK-027', 'BRICK-031', 'BRICK-028', 'BRICK-024',\n",
    "       'BRICK-037', 'BRICK-025', 'BRICK-029', 'BRICK-019', 'BRICK-011',\n",
    "       'BRICK-050', 'BRICK-026', 'BRICK-003', 'BRICK-030', 'BRICK-040',\n",
    "       'BRICK-002', 'BRICK-014', 'BRICK-004', 'BRICK-042', 'BRICK-047',\n",
    "       'BRICK-012', 'BRICK-051', 'BRICK-041', 'BRICK-010', 'BRICK-044',\n",
    "       'BRICK-017', 'BRICK-001', 'BRICK-006', 'BRICK-018', 'BRICK-035',\n",
    "       'BRICK-049', 'BRICK-016', 'BRICK-015', 'BRICK-048', 'BRICK-023',\n",
    "       'BRICK-043', 'BRICK-005', 'BRICK-033', 'BRICK-008', 'BRICK-013',\n",
    "       'BRICK-038', 'BRICK-039"
   ]
  },
  {
   "cell_type": "code",
   "execution_count": null,
   "id": "07a14530-e7d8-4582-b0d0-56017b04761f",
   "metadata": {
    "tags": []
   },
   "outputs": [],
   "source": [
    "lab_data2.head(2)"
   ]
  },
  {
   "cell_type": "code",
   "execution_count": null,
   "id": "aa020d51-58c3-42e7-bd79-7741ec3d61f0",
   "metadata": {
    "tags": []
   },
   "outputs": [],
   "source": [
    "lab_data2['code_code_original'].unique() "
   ]
  },
  {
   "cell_type": "code",
   "execution_count": null,
   "id": "ef0e71f6-6bc0-4879-8140-c0ba8a7678aa",
   "metadata": {
    "tags": []
   },
   "outputs": [],
   "source": [
    "lab_data2.columns"
   ]
  },
  {
   "cell_type": "code",
   "execution_count": null,
   "id": "c9b5b229-1839-4cb6-a5fd-3ac161b58458",
   "metadata": {
    "tags": []
   },
   "outputs": [],
   "source": [
    "lab_data2.head(3)"
   ]
  },
  {
   "cell_type": "code",
   "execution_count": null,
   "id": "c6e0c667-37a6-4a1b-9654-c51a47a02761",
   "metadata": {},
   "outputs": [],
   "source": []
  },
  {
   "cell_type": "code",
   "execution_count": null,
   "id": "50c71a47-a766-4da4-99db-dc6e42442473",
   "metadata": {
    "tags": []
   },
   "outputs": [],
   "source": [
    "lab_data2['studieID'] = lab_data2['studieID'].astype(str)\n",
    "lab_data2['studieID'] = lab_data2['studieID'].str.replace(\"-\", \"_\")"
   ]
  },
  {
   "cell_type": "code",
   "execution_count": null,
   "id": "8c9f8bed-fc37-48bc-a02e-5ca170432975",
   "metadata": {
    "tags": []
   },
   "outputs": [],
   "source": [
    "lab_data2.head(3)"
   ]
  },
  {
   "cell_type": "markdown",
   "id": "e0812366-03e7-44b5-8d94-488254f69bcd",
   "metadata": {},
   "source": [
    "## We want in theory all the patients on thier own line, but not many lines per patient\n",
    "We will try to accomplish this by splitting the dataset into each code-code-original i.e. each type of lab taken on the assumption we will almost always have one ;ab"
   ]
  },
  {
   "cell_type": "code",
   "execution_count": null,
   "id": "4a1f3fac-fea1-4175-9737-90207828adea",
   "metadata": {
    "tags": []
   },
   "outputs": [],
   "source": [
    "lab_data2.code_code_original.unique()"
   ]
  },
  {
   "cell_type": "markdown",
   "id": "ce5eed31-9ccc-4a31-93bf-68e0886dd786",
   "metadata": {},
   "source": [
    "Notice there is a nan code. This will not work out well for us. It turns out it is in this dataset always the case with Natrium. We will make the code, a string"
   ]
  },
  {
   "cell_type": "code",
   "execution_count": null,
   "id": "5a559d43-4e85-4563-8abc-5482b1c0c788",
   "metadata": {
    "tags": []
   },
   "outputs": [],
   "source": [
    "codes = lab_data2.code_code_original.unique().astype(str)\n",
    "codes"
   ]
  },
  {
   "cell_type": "code",
   "execution_count": null,
   "id": "91355e79-2e52-4ed6-be21-8a13450edd86",
   "metadata": {
    "tags": []
   },
   "outputs": [],
   "source": [
    "len(codes)"
   ]
  },
  {
   "cell_type": "markdown",
   "id": "0a97ea03-1505-4098-bb12-977b5fff81e0",
   "metadata": {},
   "source": [
    "Scientists not interested in ICT, LIP, HEM, ORD8, BAF9 or EX_LUMC therefore we will drop these values"
   ]
  },
  {
   "cell_type": "code",
   "execution_count": null,
   "id": "73372480-bb62-408a-a19f-44582ba0d10a",
   "metadata": {
    "tags": []
   },
   "outputs": [],
   "source": [
    "lab_data2 = lab_data2.drop(lab_data2[lab_data2['code_code_original']== 'ICT'].index)\n",
    "lab_data2 = lab_data2.drop(lab_data2[lab_data2['code_code_original']== 'LIP'].index)\n",
    "lab_data2 = lab_data2.drop(lab_data2[lab_data2['code_code_original']== 'HEM'].index)\n",
    "lab_data2 = lab_data2.drop(lab_data2[lab_data2['code_code_original']== 'ORD8'].index)\n",
    "lab_data2 = lab_data2.drop(lab_data2[lab_data2['code_code_original']== 'BAF9'].index)\n",
    "lab_data2 = lab_data2.drop(lab_data2[lab_data2['code_code_original']== 'EX_LUMC'].index)"
   ]
  },
  {
   "cell_type": "code",
   "execution_count": null,
   "id": "3f4a0672-b161-44e2-82af-452f0b18f144",
   "metadata": {
    "tags": []
   },
   "outputs": [],
   "source": [
    "lab_data2.tail(3)"
   ]
  },
  {
   "cell_type": "markdown",
   "id": "217f3a8f-dcac-4716-94ac-a1d5627df63a",
   "metadata": {},
   "source": [
    "Scientist wants to get rid of doubles, i.e. brick 25,12, 08 and 21"
   ]
  },
  {
   "cell_type": "markdown",
   "id": "92a0af82-4471-4cdd-a63e-82e749ae7a0a",
   "metadata": {},
   "source": [
    "Scientist claims all of these are simply doubles. This does not really hold up, let's seperate and let the scientist decide. We have several time points..."
   ]
  },
  {
   "cell_type": "code",
   "execution_count": null,
   "id": "6c2b9098-d5d4-4a78-9d44-e376ed5c160b",
   "metadata": {
    "tags": []
   },
   "outputs": [],
   "source": [
    "#lab_data2[lab_data2['studieID'] == 'BRICK_008']\n",
    "lab_data2[lab_data2['studieID'] == 'BRICK_008']['effectiveDateTime'].unique()"
   ]
  },
  {
   "cell_type": "code",
   "execution_count": null,
   "id": "8c1385a1-6965-4d76-9761-e579b328fb95",
   "metadata": {
    "tags": []
   },
   "outputs": [],
   "source": [
    "#lab_data2[lab_data2['studieID'] == 'BRICK_012']\n",
    "lab_data2[lab_data2['studieID'] == 'BRICK_025']['effectiveDateTime'].unique()"
   ]
  },
  {
   "cell_type": "code",
   "execution_count": null,
   "id": "75719ef5-2cca-403a-bd88-c47713a455b3",
   "metadata": {
    "tags": []
   },
   "outputs": [],
   "source": [
    "#lab_data2[lab_data2['studieID'] == 'BRICK_021']\n",
    "lab_data2[lab_data2['studieID'] == 'BRICK_021']['effectiveDateTime'].unique()"
   ]
  },
  {
   "cell_type": "code",
   "execution_count": null,
   "id": "8355ee79-01f9-48d4-9327-a3aa71eb5b8f",
   "metadata": {
    "tags": []
   },
   "outputs": [],
   "source": [
    "lab_data2[lab_data2['studieID'] == 'BRICK_025']['effectiveDateTime'].unique()"
   ]
  },
  {
   "cell_type": "markdown",
   "id": "be5c1579-2159-4f72-8ec1-6df63f590e10",
   "metadata": {},
   "source": [
    "For speed we will assume the scientst wanted the labs in the lab data update, and drop these  out of the data "
   ]
  },
  {
   "cell_type": "code",
   "execution_count": null,
   "id": "c53cc577-e23f-45ec-9a91-827ef1ef6bb9",
   "metadata": {
    "tags": []
   },
   "outputs": [],
   "source": [
    "lab_data2_no_ = lab_data2.drop(lab_data2[lab_data2['studieID'] == 'BRICK_008'].index)\n",
    "lab_data2_no_ = lab_data2_no_.drop(lab_data2[lab_data2['studieID'] == 'BRICK_012'].index)\n",
    "lab_data2_no_ = lab_data2_no_.drop(lab_data2[lab_data2['studieID'] == 'BRICK_021'].index)\n",
    "lab_data2_no_ = lab_data2_no_.drop(lab_data2[lab_data2['studieID'] == 'BRICK_025'].index)"
   ]
  },
  {
   "cell_type": "code",
   "execution_count": null,
   "id": "3c8af58a-fe22-4376-8a6c-3c901ab2b4b7",
   "metadata": {
    "tags": []
   },
   "outputs": [],
   "source": [
    "lab_data2_no_.shape"
   ]
  },
  {
   "cell_type": "code",
   "execution_count": null,
   "id": "99a8bb2e-3eba-4083-8cf3-09ac1e22dee4",
   "metadata": {
    "tags": []
   },
   "outputs": [],
   "source": [
    "## Notice we are missing a column compared to the lab data updates? Let's check what it is."
   ]
  },
  {
   "cell_type": "code",
   "execution_count": null,
   "id": "88a98a69-7b24-4e51-84f5-d41f21095c64",
   "metadata": {
    "tags": []
   },
   "outputs": [],
   "source": [
    "lab_data2_columns_set = set(lab_data2_no_.columns)"
   ]
  },
  {
   "cell_type": "code",
   "execution_count": null,
   "id": "9e4219d2-d521-44d8-8484-710018882384",
   "metadata": {
    "tags": []
   },
   "outputs": [],
   "source": [
    "update_lab_data_columns_set = set(['studieID', 'labdatum_studieID', 'effectiveDateTime', 'issued',\n",
    "       'code_code_original', 'code_display_original', 'hix_code',\n",
    "       'valueQuantity_comparator', 'valueQuantity_value', 'valueQuantity_unit',\n",
    "       'valueString', 'comment', 'interpretation_display',\n",
    "       'referenceRange_text', 'specimen_type', 'specimen_type_text',\n",
    "       'container_type', 'sample_note'])\n",
    "      "
   ]
  },
  {
   "cell_type": "code",
   "execution_count": null,
   "id": "b9225cb3-7e59-4995-8c40-94f74939106d",
   "metadata": {
    "tags": []
   },
   "outputs": [],
   "source": [
    "intersection = lab_data2_columns_set.intersection(update_lab_data_columns_set)\n",
    "intersection"
   ]
  },
  {
   "cell_type": "markdown",
   "id": "8d452b05-fb74-4b0d-aff8-dd2668a64540",
   "metadata": {},
   "source": [
    "Well, those are the columns we can make the labs into if they should be one merged table.. Keep this in mind for later."
   ]
  },
  {
   "cell_type": "code",
   "execution_count": null,
   "id": "67ee8d40-3886-4eee-a985-0d2278e2acd0",
   "metadata": {
    "tags": []
   },
   "outputs": [],
   "source": [
    "lab_data2 = lab_data2_no_.reset_index(drop=True)\n",
    "lab_data2"
   ]
  },
  {
   "cell_type": "markdown",
   "id": "f39fece2-2fff-456f-9b4f-22a93a5de771",
   "metadata": {},
   "source": [
    "We will split off the dataframes, then check to make sure we get something for every code"
   ]
  },
  {
   "cell_type": "code",
   "execution_count": null,
   "id": "2557fe6e-ab96-4acd-b9b0-98b9aeca29f9",
   "metadata": {
    "tags": []
   },
   "outputs": [],
   "source": [
    "list_of_data_frames = []\n",
    "for code in codes:\n",
    "    prenames = [\"code_code_original\", code]\n",
    "    frame_name = \"_\".join(prenames)\n",
    "    #print(frame_name)\n",
    "    frame_name = lab_data2[lab_data2['code_code_original'] == code]\n",
    "    frame_name = frame_name.add_suffix(code)\n",
    "    frame_name = frame_name.rename(columns= {frame_name.columns[0]:'studieID'})\n",
    "    list_of_data_frames.append(frame_name)\n",
    "    "
   ]
  },
  {
   "cell_type": "code",
   "execution_count": null,
   "id": "9e78e6a0-76f0-414c-8f38-8f43a8198c57",
   "metadata": {
    "tags": []
   },
   "outputs": [],
   "source": [
    "len(list_of_data_frames)"
   ]
  },
  {
   "cell_type": "code",
   "execution_count": null,
   "id": "f8a8debb-fc7f-4777-a767-fae563ae8d51",
   "metadata": {
    "tags": []
   },
   "outputs": [],
   "source": [
    "len(codes)"
   ]
  },
  {
   "cell_type": "markdown",
   "id": "ab83efdd-a166-47c4-97e4-af43871b746b",
   "metadata": {},
   "source": [
    "Let's look at an example:"
   ]
  },
  {
   "cell_type": "code",
   "execution_count": null,
   "id": "318a15f1-42a0-4136-8453-20a5ec0fa7ea",
   "metadata": {
    "tags": []
   },
   "outputs": [],
   "source": [
    "list_of_data_frames[1].head(3) "
   ]
  },
  {
   "cell_type": "code",
   "execution_count": null,
   "id": "967b9cd8-5a3b-42a3-87da-171c42d0b623",
   "metadata": {
    "tags": []
   },
   "outputs": [],
   "source": [
    "list_of_data_frames[2].head(3) "
   ]
  },
  {
   "cell_type": "code",
   "execution_count": null,
   "id": "1c6c2493-c9db-4e5a-9603-f642d14d77d9",
   "metadata": {
    "tags": []
   },
   "outputs": [],
   "source": [
    "list_of_data_frames[2].shape"
   ]
  },
  {
   "cell_type": "markdown",
   "id": "104f7f1a-6a57-44b6-8e62-2492767dd543",
   "metadata": {},
   "source": [
    "So far so good, we have a frame with in the example above the DBIL. We then tried to do a big reduction; but it produced repeaters"
   ]
  },
  {
   "cell_type": "code",
   "execution_count": null,
   "id": "df5afc86-90fc-4684-a0e3-8b65dd48d725",
   "metadata": {
    "tags": []
   },
   "outputs": [],
   "source": [
    "final_df = reduce(lambda left,right: pd.merge(left,right, on=['studieID'], how='outer'), list_of_data_frames)"
   ]
  },
  {
   "cell_type": "code",
   "execution_count": null,
   "id": "9f22fecc-12a1-4092-bf5d-8a343e9dd9a4",
   "metadata": {
    "tags": []
   },
   "outputs": [],
   "source": [
    "final_df.shape"
   ]
  },
  {
   "cell_type": "code",
   "execution_count": null,
   "id": "da5a159e-5de3-41a1-a3c2-942bb0e6e9c7",
   "metadata": {
    "tags": []
   },
   "outputs": [],
   "source": [
    "#final_df.studieID"
   ]
  },
  {
   "cell_type": "code",
   "execution_count": null,
   "id": "9eb0f721-6eb7-4ba8-964e-46110c475189",
   "metadata": {
    "tags": []
   },
   "outputs": [],
   "source": [
    "# for number,frame in enumerate(list_of_data_frames):\n",
    "#     if frame['studieID'].is_unique:\n",
    "#         print( \"Good\")\n",
    "#     else:\n",
    "#         print(number, \"repeaters\")"
   ]
  },
  {
   "cell_type": "code",
   "execution_count": null,
   "id": "43a51b18-453c-4de1-b965-37fea01fb468",
   "metadata": {},
   "outputs": [],
   "source": [
    "#final_df"
   ]
  },
  {
   "cell_type": "code",
   "execution_count": null,
   "id": "1ae5b623-61f9-4825-9f0c-ead110555173",
   "metadata": {
    "tags": []
   },
   "outputs": [],
   "source": [
    "final_df.head(3)"
   ]
  },
  {
   "cell_type": "code",
   "execution_count": null,
   "id": "b736e836-d03e-40cb-851e-427a8e740894",
   "metadata": {
    "tags": []
   },
   "outputs": [],
   "source": [
    "final_df.to_csv('../../secret_data/full_labs_EARLIER.csv')"
   ]
  },
  {
   "cell_type": "markdown",
   "id": "a7b6ed4e-ebee-4fdd-97aa-2669f0677146",
   "metadata": {},
   "source": [
    "We NO LONGER needed to examine why this happened so we took a look by hand:"
   ]
  },
  {
   "cell_type": "markdown",
   "id": "f532541a-95f3-4736-b414-d777cfe24c83",
   "metadata": {
    "tags": []
   },
   "source": [
    "Now we want to merge all the lab data into one happy lab dataset.\n"
   ]
  },
  {
   "cell_type": "code",
   "execution_count": null,
   "id": "a5c487cf-c305-4672-93f4-45e92eee6441",
   "metadata": {
    "tags": []
   },
   "outputs": [],
   "source": [
    "updates = pd.read_csv('../../secret_data/full_labs_UPDATES.csv', index_col=0)"
   ]
  },
  {
   "cell_type": "code",
   "execution_count": null,
   "id": "4c53f74f-dc2f-4407-8155-31d1d89f2a91",
   "metadata": {},
   "outputs": [],
   "source": [
    "updates.columns"
   ]
  },
  {
   "cell_type": "code",
   "execution_count": null,
   "id": "9a63d466-3ae3-4008-bfa2-483dff86b533",
   "metadata": {
    "tags": []
   },
   "outputs": [],
   "source": [
    "updates.studieID.unique()"
   ]
  },
  {
   "cell_type": "code",
   "execution_count": null,
   "id": "0fb7dd6c-1fd5-4787-824c-3619fdd2a78a",
   "metadata": {
    "tags": []
   },
   "outputs": [],
   "source": [
    "final_df.studieID.unique()"
   ]
  },
  {
   "cell_type": "markdown",
   "id": "91e082d5-5cf2-48e3-99ca-13c30f00cf47",
   "metadata": {},
   "source": [
    "# There is lots of overlap. Therefore we can make a dataframe of only the updates, and the originals where there is no update"
   ]
  },
  {
   "cell_type": "code",
   "execution_count": null,
   "id": "0512aa4b-de68-4204-9984-ffab53902dcf",
   "metadata": {
    "tags": []
   },
   "outputs": [],
   "source": [
    "set_updates = set(updates.studieID.unique())\n",
    "set_originals = set(final_df.studieID.unique())\n",
    "overlap = set_originals.intersection(set_updates)\n",
    "list_overlapers = list(overlap)\n",
    "#list_overlapers"
   ]
  },
  {
   "cell_type": "code",
   "execution_count": null,
   "id": "594315ca-0c00-4beb-8a80-fc3b2ddd31ec",
   "metadata": {
    "tags": []
   },
   "outputs": [],
   "source": [
    "set_originals - overlap"
   ]
  },
  {
   "cell_type": "code",
   "execution_count": null,
   "id": "c9e9e1cd-f0f1-4867-b855-dffe8d6d4667",
   "metadata": {
    "tags": []
   },
   "outputs": [],
   "source": [
    "### So we will take only 7, 9 and 32 from the old labs, and add them to the updated labs"
   ]
  },
  {
   "cell_type": "code",
   "execution_count": null,
   "id": "a8e4f3f4-08dd-4aa5-8b05-3fa7461c6e02",
   "metadata": {
    "tags": []
   },
   "outputs": [],
   "source": [
    "old_labs1 = final_df[final_df['studieID'] == 'BRICK_007' ] \n",
    "old_labs2 = final_df[final_df['studieID'] == 'BRICK_009'] \n",
    "old_labs3 = final_df[final_df['studieID'] ==  'BRICK_032'] \n",
    "old_labs = pd.concat([old_labs1, old_labs2, old_labs3])"
   ]
  },
  {
   "cell_type": "code",
   "execution_count": null,
   "id": "47c03839-26c9-4e24-a5d0-49c9ad1abecd",
   "metadata": {
    "tags": []
   },
   "outputs": [],
   "source": [
    "set_old_lab_columns = set(old_labs.columns)"
   ]
  },
  {
   "cell_type": "code",
   "execution_count": null,
   "id": "1df63d7f-d492-4870-89f0-be48495af6b5",
   "metadata": {
    "tags": []
   },
   "outputs": [],
   "source": [
    "set_updates_lab_columns = set(updates.columns)\n",
    "intersectionH = set_old_lab_columns.intersection(set_updates_lab_columns)\n",
    "columns_here = list(intersectionH)"
   ]
  },
  {
   "cell_type": "code",
   "execution_count": null,
   "id": "3bc3ae2d-a430-44ef-87e3-763cc11ca534",
   "metadata": {
    "tags": []
   },
   "outputs": [],
   "source": [
    "## Now we filter these and the others on columsn that intersect between the two\n",
    "old_labs = old_labs[columns_here]\n",
    "updated = updates[columns_here]\n",
    "final_final = pd.concat([old_labs, updated])\n",
    "final_final['studieID']"
   ]
  },
  {
   "cell_type": "code",
   "execution_count": null,
   "id": "bf6acabf-7a9f-44c1-8d43-db8c19be39d2",
   "metadata": {
    "tags": []
   },
   "outputs": [],
   "source": [
    "final_final.to_csv('../../secret_data/full_labs_together.csv')"
   ]
  },
  {
   "cell_type": "code",
   "execution_count": null,
   "id": "0f884a54-1dcc-44eb-8657-7ebe4aa0e92c",
   "metadata": {},
   "outputs": [],
   "source": []
  }
 ],
 "metadata": {
  "kernelspec": {
   "display_name": "Python 3 (ipykernel)",
   "language": "python",
   "name": "python3"
  },
  "language_info": {
   "codemirror_mode": {
    "name": "ipython",
    "version": 3
   },
   "file_extension": ".py",
   "mimetype": "text/x-python",
   "name": "python",
   "nbconvert_exporter": "python",
   "pygments_lexer": "ipython3",
   "version": "3.11.8"
  }
 },
 "nbformat": 4,
 "nbformat_minor": 5
}
