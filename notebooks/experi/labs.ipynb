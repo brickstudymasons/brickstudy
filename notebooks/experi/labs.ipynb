{
 "cells": [
  {
   "cell_type": "markdown",
   "id": "a42edbd8-1ec2-41ba-8631-244b26a0bebd",
   "metadata": {},
   "source": [
    "# Checking lab data"
   ]
  },
  {
   "cell_type": "code",
   "execution_count": null,
   "id": "0d080047-ed12-4417-8247-4c6f1b83e8d2",
   "metadata": {
    "tags": []
   },
   "outputs": [],
   "source": [
    "import os\n",
    "import sys\n",
    "from functools import reduce\n",
    "import pandas as pd\n",
    "import numpy as np\n",
    "import seaborn as sns\n",
    "import matplotlib.pyplot as plt\n",
    "import ipywidgets as widgets\n",
    "\n",
    "sys.path.insert(0, '../../')\n",
    "from brickstudy import foundation"
   ]
  },
  {
   "cell_type": "code",
   "execution_count": null,
   "id": "618922a4-c262-4307-955e-67129b8e1b7d",
   "metadata": {
    "tags": []
   },
   "outputs": [],
   "source": [
    "lab_data = pd.read_csv('../../secret_data/BRICK_lab_data_update_18_03_2024_2.csv', sep= ';', encoding='latin1')\n"
   ]
  },
  {
   "cell_type": "code",
   "execution_count": null,
   "id": "2c59a22a-c02b-48e0-8e27-ea08c6735b12",
   "metadata": {
    "tags": []
   },
   "outputs": [],
   "source": [
    "\n",
    "lab_data"
   ]
  },
  {
   "cell_type": "code",
   "execution_count": null,
   "id": "4cd09d98-c64b-45a9-beb9-21661a8163ce",
   "metadata": {
    "tags": []
   },
   "outputs": [],
   "source": [
    "#pd.read_csv?"
   ]
  },
  {
   "cell_type": "code",
   "execution_count": null,
   "id": "cda503aa-eca7-4cfe-b18a-2af7eb0b0ee9",
   "metadata": {
    "tags": []
   },
   "outputs": [],
   "source": [
    "lab_data2 = pd.read_excel('../../secret_data/Brick_lab_20230914.xlsx')"
   ]
  },
  {
   "cell_type": "code",
   "execution_count": null,
   "id": "07a14530-e7d8-4582-b0d0-56017b04761f",
   "metadata": {
    "tags": []
   },
   "outputs": [],
   "source": [
    "lab_data2"
   ]
  },
  {
   "cell_type": "code",
   "execution_count": null,
   "id": "ffe4c704-a84e-4508-921b-1fe8468a92c2",
   "metadata": {
    "tags": []
   },
   "outputs": [],
   "source": [
    "lab_data2.groupby('studieID').code_code_original"
   ]
  },
  {
   "cell_type": "code",
   "execution_count": null,
   "id": "88175ae8-7c16-48e9-835f-ef8c61c7157c",
   "metadata": {
    "tags": []
   },
   "outputs": [],
   "source": [
    "lab_data2.groupby?"
   ]
  },
  {
   "cell_type": "code",
   "execution_count": null,
   "id": "4c53f74f-dc2f-4407-8155-31d1d89f2a91",
   "metadata": {},
   "outputs": [],
   "source": []
  }
 ],
 "metadata": {
  "kernelspec": {
   "display_name": "Python 3 (ipykernel)",
   "language": "python",
   "name": "python3"
  },
  "language_info": {
   "codemirror_mode": {
    "name": "ipython",
    "version": 3
   },
   "file_extension": ".py",
   "mimetype": "text/x-python",
   "name": "python",
   "nbconvert_exporter": "python",
   "pygments_lexer": "ipython3",
   "version": "3.11.8"
  }
 },
 "nbformat": 4,
 "nbformat_minor": 5
}
