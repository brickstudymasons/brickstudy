{
 "cells": [
  {
   "cell_type": "markdown",
   "id": "a42edbd8-1ec2-41ba-8631-244b26a0bebd",
   "metadata": {},
   "source": [
    "# Checking lab data"
   ]
  },
  {
   "cell_type": "code",
   "execution_count": null,
   "id": "0d080047-ed12-4417-8247-4c6f1b83e8d2",
   "metadata": {
    "tags": []
   },
   "outputs": [],
   "source": [
    "import os\n",
    "import sys\n",
    "from functools import reduce\n",
    "import pandas as pd\n",
    "import numpy as np\n",
    "import seaborn as sns\n",
    "import matplotlib.pyplot as plt\n",
    "import ipywidgets as widgets\n",
    "\n",
    "sys.path.insert(0, '../../')\n",
    "from brickstudy import foundation"
   ]
  },
  {
   "cell_type": "code",
   "execution_count": null,
   "id": "618922a4-c262-4307-955e-67129b8e1b7d",
   "metadata": {
    "tags": []
   },
   "outputs": [],
   "source": [
    "lab_data = pd.read_csv('../../secret_data/BRICK_lab_data_update_18_03_2024.csv', sep= ';', encoding='latin1')"
   ]
  },
  {
   "cell_type": "code",
   "execution_count": null,
   "id": "2c59a22a-c02b-48e0-8e27-ea08c6735b12",
   "metadata": {
    "tags": []
   },
   "outputs": [],
   "source": [
    "lab_data"
   ]
  },
  {
   "cell_type": "code",
   "execution_count": null,
   "id": "f3474410-f8a2-485e-97f6-de676cd16f42",
   "metadata": {
    "tags": []
   },
   "outputs": [],
   "source": [
    "lab_data['code_code_original'] = lab_data['code_code_original'] + '0'"
   ]
  },
  {
   "cell_type": "code",
   "execution_count": null,
   "id": "c478e4e3-a0fb-4a27-85ba-e740d08700c0",
   "metadata": {
    "tags": []
   },
   "outputs": [],
   "source": [
    "lab_data.loc[lab_data['code_code_original'] == 'K0', 'code_code_original'] = 'K00'"
   ]
  },
  {
   "cell_type": "code",
   "execution_count": null,
   "id": "97d904f5-bebf-4300-81d8-95ba1c0e9a28",
   "metadata": {
    "tags": []
   },
   "outputs": [],
   "source": [
    "lab_data.loc[lab_data['code_code_original'] == 'SCHWARTZ-Bedsite0', 'code_code_original'] = 'SCHWARTZ_Bedsite0'"
   ]
  },
  {
   "cell_type": "code",
   "execution_count": null,
   "id": "40a2bdca-ecd2-44bd-84b9-d896fca4e0ae",
   "metadata": {
    "tags": []
   },
   "outputs": [],
   "source": [
    "lab_data = lab_data.rename(columns= {'effectiveDateTime': 'effectiveDateTime_lab0'})"
   ]
  },
  {
   "cell_type": "code",
   "execution_count": null,
   "id": "0ec071f0-b042-44b3-b50b-0e2bb360af8f",
   "metadata": {
    "tags": []
   },
   "outputs": [],
   "source": [
    "lab_data.to_csv('../../secret_data/castor_proof_t0_lab_update1_brick.csv')"
   ]
  },
  {
   "cell_type": "code",
   "execution_count": null,
   "id": "4cd09d98-c64b-45a9-beb9-21661a8163ce",
   "metadata": {
    "tags": []
   },
   "outputs": [],
   "source": [
    "#var = foundation.show_neg_value_patients(lab_data, cutoff_number=0)"
   ]
  },
  {
   "cell_type": "code",
   "execution_count": null,
   "id": "2b6449f7-4746-4827-9d2e-711e01126ea1",
   "metadata": {
    "tags": []
   },
   "outputs": [],
   "source": [
    "#var[1]"
   ]
  },
  {
   "cell_type": "code",
   "execution_count": null,
   "id": "cda503aa-eca7-4cfe-b18a-2af7eb0b0ee9",
   "metadata": {
    "tags": []
   },
   "outputs": [],
   "source": [
    "lab_data2 = pd.read_excel('../../secret_data/Brick_lab_20230914.xlsx')"
   ]
  },
  {
   "cell_type": "code",
   "execution_count": null,
   "id": "07a14530-e7d8-4582-b0d0-56017b04761f",
   "metadata": {
    "tags": []
   },
   "outputs": [],
   "source": [
    "lab_data2"
   ]
  },
  {
   "cell_type": "code",
   "execution_count": null,
   "id": "3de898df-cdd8-4d04-b694-7ac518771f47",
   "metadata": {
    "tags": []
   },
   "outputs": [],
   "source": [
    "lab_data2['code_code_original'] =lab_data2['code_code_original'] +  '0'"
   ]
  },
  {
   "cell_type": "code",
   "execution_count": null,
   "id": "6a3066dd-1342-4b6a-9a62-a4782480c7fc",
   "metadata": {
    "tags": []
   },
   "outputs": [],
   "source": [
    "lab_data2['code_code_original']"
   ]
  },
  {
   "cell_type": "code",
   "execution_count": null,
   "id": "84015d2f-5740-4b25-a1b7-93d734cc0f69",
   "metadata": {
    "tags": []
   },
   "outputs": [],
   "source": [
    "lab_data2.loc[lab_data2['code_code_original'] == 'K0', 'code_code_original'] = 'K00'"
   ]
  },
  {
   "cell_type": "code",
   "execution_count": null,
   "id": "dd0a231b-a7ea-465c-ae7f-77bf0dc4015d",
   "metadata": {
    "tags": []
   },
   "outputs": [],
   "source": [
    "lab_data2.loc[lab_data2['code_code_original'] == 'SCHWARTZ-Bedsite0', 'code_code_original'] = 'SCHWARTZ_Bedsite0'"
   ]
  },
  {
   "cell_type": "code",
   "execution_count": null,
   "id": "aa020d51-58c3-42e7-bd79-7741ec3d61f0",
   "metadata": {
    "tags": []
   },
   "outputs": [],
   "source": [
    "lab_data2['code_code_original'].unique() "
   ]
  },
  {
   "cell_type": "code",
   "execution_count": null,
   "id": "ef0e71f6-6bc0-4879-8140-c0ba8a7678aa",
   "metadata": {
    "tags": []
   },
   "outputs": [],
   "source": [
    "lab_data2.columns"
   ]
  },
  {
   "cell_type": "code",
   "execution_count": null,
   "id": "0af29319-39e7-4d04-bdc6-f09b9d90e7d4",
   "metadata": {
    "tags": []
   },
   "outputs": [],
   "source": [
    "lab_data2 = lab_data2.rename(columns= {'effectiveDateTime': 'effectiveDateTime_lab0'})"
   ]
  },
  {
   "cell_type": "code",
   "execution_count": null,
   "id": "b6f2e1d7-25cd-41ee-b10c-f3a3ae67aaf4",
   "metadata": {
    "tags": []
   },
   "outputs": [],
   "source": [
    "lab_data2.columns"
   ]
  },
  {
   "cell_type": "code",
   "execution_count": null,
   "id": "971f49b8-87e9-4278-bc9a-6907d3f44be4",
   "metadata": {
    "tags": []
   },
   "outputs": [],
   "source": [
    "lab_data2"
   ]
  },
  {
   "cell_type": "code",
   "execution_count": null,
   "id": "ad4dd923-8f6a-4e34-b2c0-ffa71a1252e9",
   "metadata": {
    "tags": []
   },
   "outputs": [],
   "source": [
    "lab_data2.groupby(by='studieID')"
   ]
  },
  {
   "cell_type": "code",
   "execution_count": null,
   "id": "c63603da-3985-4d0c-afbc-f61524eeb652",
   "metadata": {
    "tags": []
   },
   "outputs": [],
   "source": [
    "template = '../../secret_data/template_lab_format.csv'\n",
    "template_1 = pd.read_csv(template)\n",
    "template_1.head(2)"
   ]
  },
  {
   "cell_type": "code",
   "execution_count": null,
   "id": "a5c487cf-c305-4672-93f4-45e92eee6441",
   "metadata": {
    "tags": []
   },
   "outputs": [],
   "source": [
    "lab_data2.to_csv('../../secret_data/lab_data_castor_proof1.csv')"
   ]
  },
  {
   "cell_type": "code",
   "execution_count": null,
   "id": "ffe4c704-a84e-4508-921b-1fe8468a92c2",
   "metadata": {
    "tags": []
   },
   "outputs": [],
   "source": [
    "lab_data2.groupby('studieID').code_code_original"
   ]
  },
  {
   "cell_type": "code",
   "execution_count": null,
   "id": "88175ae8-7c16-48e9-835f-ef8c61c7157c",
   "metadata": {
    "tags": []
   },
   "outputs": [],
   "source": [
    "lab_data2.groupby?"
   ]
  },
  {
   "cell_type": "code",
   "execution_count": null,
   "id": "4c53f74f-dc2f-4407-8155-31d1d89f2a91",
   "metadata": {},
   "outputs": [],
   "source": []
  }
 ],
 "metadata": {
  "kernelspec": {
   "display_name": "Python 3 (ipykernel)",
   "language": "python",
   "name": "python3"
  },
  "language_info": {
   "codemirror_mode": {
    "name": "ipython",
    "version": 3
   },
   "file_extension": ".py",
   "mimetype": "text/x-python",
   "name": "python",
   "nbconvert_exporter": "python",
   "pygments_lexer": "ipython3",
   "version": "3.11.8"
  }
 },
 "nbformat": 4,
 "nbformat_minor": 5
}
