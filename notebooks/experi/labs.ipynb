{
 "cells": [
  {
   "cell_type": "markdown",
   "id": "0",
   "metadata": {},
   "source": [
    "# Checking and organizing original lab data"
   ]
  },
  {
   "cell_type": "code",
   "execution_count": null,
   "id": "1",
   "metadata": {
    "tags": []
   },
   "outputs": [],
   "source": [
    "import os\n",
    "import sys\n",
    "from functools import reduce\n",
    "import pandas as pd\n",
    "import numpy as np\n",
    "import seaborn as sns\n",
    "import matplotlib.pyplot as plt\n",
    "import ipywidgets as widgets\n",
    "\n",
    "sys.path.insert(0, '../../')\n",
    "from brickstudy import foundation"
   ]
  },
  {
   "cell_type": "code",
   "execution_count": null,
   "id": "2",
   "metadata": {
    "tags": []
   },
   "outputs": [],
   "source": [
    "lab_data2 = pd.read_excel('../../secret_data/Brick_lab_20230914.xlsx')"
   ]
  },
  {
   "cell_type": "code",
   "execution_count": null,
   "id": "3",
   "metadata": {
    "tags": []
   },
   "outputs": [],
   "source": [
    "lab_data2 "
   ]
  },
  {
   "cell_type": "code",
   "execution_count": null,
   "id": "4",
   "metadata": {
    "tags": []
   },
   "outputs": [],
   "source": [
    "lab_data2['studieID'].unique()"
   ]
  },
  {
   "cell_type": "code",
   "execution_count": null,
   "id": "5",
   "metadata": {
    "tags": []
   },
   "outputs": [],
   "source": [
    "set_2023 = set(['BRICK-001', 'BRICK-002', 'BRICK-003', 'BRICK-004', 'BRICK-005',\n",
    "       'BRICK-006', 'BRICK-007', 'BRICK-008', 'BRICK-009', 'BRICK-010',\n",
    "       'BRICK-011', 'BRICK-012', 'BRICK-013', 'BRICK-014', 'BRICK-015',\n",
    "       'BRICK-016', 'BRICK-017', 'BRICK-018', 'BRICK-019', 'BRICK-021',\n",
    "       'BRICK-024', 'BRICK-025', 'BRICK-026', 'BRICK-027', 'BRICK-028',\n",
    "       'BRICK-029', 'BRICK-030', 'BRICK-031', 'BRICK-032', 'BRICK-033',\n",
    "       'BRICK-035', 'BRICK-037', 'BRICK-038', 'BRICK-039', 'BRICK-040',\n",
    "       'BRICK-041', 'BRICK-042', 'BRICK-044', 'BRICK-047', 'BRICK-048',\n",
    "       'BRICK-049', 'BRICK-050', 'BRICK-051', 'BRICK-052', 'BRICK-053',\n",
    "       'BRICK-054', 'BRICK-056', 'BRICK-058'])"
   ]
  },
  {
   "cell_type": "code",
   "execution_count": null,
   "id": "6",
   "metadata": {
    "tags": []
   },
   "outputs": [],
   "source": [
    "set_2024 = set(['BRICK-052', 'BRICK-053', 'BRICK-058', 'BRICK-056', 'BRICK-055',\n",
    "       'BRICK-054', 'BRICK-027', 'BRICK-031', 'BRICK-028', 'BRICK-024',\n",
    "       'BRICK-037', 'BRICK-025', 'BRICK-029', 'BRICK-019', 'BRICK-011',\n",
    "       'BRICK-050', 'BRICK-026', 'BRICK-003', 'BRICK-030', 'BRICK-040',\n",
    "       'BRICK-002', 'BRICK-014', 'BRICK-004', 'BRICK-042', 'BRICK-047',\n",
    "       'BRICK-012', 'BRICK-051', 'BRICK-041', 'BRICK-010', 'BRICK-044',\n",
    "       'BRICK-017', 'BRICK-001', 'BRICK-006', 'BRICK-018', 'BRICK-035',\n",
    "       'BRICK-049', 'BRICK-016', 'BRICK-015', 'BRICK-048', 'BRICK-023',\n",
    "       'BRICK-043', 'BRICK-005', 'BRICK-033', 'BRICK-008', 'BRICK-013',\n",
    "       'BRICK-038', 'BRICK-039'])"
   ]
  },
  {
   "cell_type": "code",
   "execution_count": null,
   "id": "7",
   "metadata": {
    "tags": []
   },
   "outputs": [],
   "source": [
    "len(set_2023)"
   ]
  },
  {
   "cell_type": "code",
   "execution_count": null,
   "id": "8",
   "metadata": {
    "tags": []
   },
   "outputs": [],
   "source": [
    "intersection = set_2023.intersection(set_2024)\n",
    "print(intersection)"
   ]
  },
  {
   "cell_type": "markdown",
   "id": "9",
   "metadata": {},
   "source": [
    "In other lab data (updated lab data)\n",
    "\n",
    "'BRICK-052', 'BRICK-053', 'BRICK-058', 'BRICK-056', 'BRICK-055',\n",
    "       'BRICK-054', 'BRICK-027', 'BRICK-031', 'BRICK-028', 'BRICK-024',\n",
    "       'BRICK-037', 'BRICK-025', 'BRICK-029', 'BRICK-019', 'BRICK-011',\n",
    "       'BRICK-050', 'BRICK-026', 'BRICK-003', 'BRICK-030', 'BRICK-040',\n",
    "       'BRICK-002', 'BRICK-014', 'BRICK-004', 'BRICK-042', 'BRICK-047',\n",
    "       'BRICK-012', 'BRICK-051', 'BRICK-041', 'BRICK-010', 'BRICK-044',\n",
    "       'BRICK-017', 'BRICK-001', 'BRICK-006', 'BRICK-018', 'BRICK-035',\n",
    "       'BRICK-049', 'BRICK-016', 'BRICK-015', 'BRICK-048', 'BRICK-023',\n",
    "       'BRICK-043', 'BRICK-005', 'BRICK-033', 'BRICK-008', 'BRICK-013',\n",
    "       'BRICK-038', 'BRICK-039"
   ]
  },
  {
   "cell_type": "code",
   "execution_count": null,
   "id": "10",
   "metadata": {
    "tags": []
   },
   "outputs": [],
   "source": [
    "lab_data2.head(2)"
   ]
  },
  {
   "cell_type": "code",
   "execution_count": null,
   "id": "11",
   "metadata": {
    "tags": []
   },
   "outputs": [],
   "source": [
    "lab_data2['code_code_original'].unique() "
   ]
  },
  {
   "cell_type": "code",
   "execution_count": null,
   "id": "12",
   "metadata": {
    "tags": []
   },
   "outputs": [],
   "source": [
    "lab_data2.columns"
   ]
  },
  {
   "cell_type": "code",
   "execution_count": null,
   "id": "13",
   "metadata": {
    "tags": []
   },
   "outputs": [],
   "source": [
    "lab_data2.head(3)"
   ]
  },
  {
   "cell_type": "code",
   "execution_count": null,
   "id": "14",
   "metadata": {},
   "outputs": [],
   "source": []
  },
  {
   "cell_type": "code",
   "execution_count": null,
   "id": "15",
   "metadata": {
    "tags": []
   },
   "outputs": [],
   "source": [
    "lab_data2['studieID'] = lab_data2['studieID'].astype(str)\n",
    "lab_data2['studieID'] = lab_data2['studieID'].str.replace(\"-\", \"_\")"
   ]
  },
  {
   "cell_type": "code",
   "execution_count": null,
   "id": "16",
   "metadata": {
    "tags": []
   },
   "outputs": [],
   "source": [
    "lab_data2.head(3)"
   ]
  },
  {
   "cell_type": "markdown",
   "id": "17",
   "metadata": {},
   "source": [
    "## We want in theory all the patients on thier own line, but not many lines per patient\n",
    "We will try to accomplish this by splitting the dataset into each code-code-original i.e. each type of lab taken on the assumption we will almost always have one ;ab"
   ]
  },
  {
   "cell_type": "code",
   "execution_count": null,
   "id": "18",
   "metadata": {
    "tags": []
   },
   "outputs": [],
   "source": [
    "lab_data2.code_code_original.unique()"
   ]
  },
  {
   "cell_type": "markdown",
   "id": "19",
   "metadata": {},
   "source": [
    "Notice there is a nan code. This will not work out well for us. It turns out it is in this dataset always the case with Natrium. We will make the code, a string"
   ]
  },
  {
   "cell_type": "code",
   "execution_count": null,
   "id": "20",
   "metadata": {
    "tags": []
   },
   "outputs": [],
   "source": [
    "codes = lab_data2.code_code_original.unique().astype(str)\n",
    "codes"
   ]
  },
  {
   "cell_type": "code",
   "execution_count": null,
   "id": "21",
   "metadata": {
    "tags": []
   },
   "outputs": [],
   "source": [
    "len(codes)"
   ]
  },
  {
   "cell_type": "markdown",
   "id": "22",
   "metadata": {},
   "source": [
    "Scientists not interested in ICT, LIP, HEM, ORD8, BAF9 or EX_LUMC therefore we will drop these values"
   ]
  },
  {
   "cell_type": "code",
   "execution_count": null,
   "id": "23",
   "metadata": {
    "tags": []
   },
   "outputs": [],
   "source": [
    "lab_data2 = lab_data2.drop(lab_data2[lab_data2['code_code_original']== 'ICT'].index)\n",
    "lab_data2 = lab_data2.drop(lab_data2[lab_data2['code_code_original']== 'LIP'].index)\n",
    "lab_data2 = lab_data2.drop(lab_data2[lab_data2['code_code_original']== 'HEM'].index)\n",
    "lab_data2 = lab_data2.drop(lab_data2[lab_data2['code_code_original']== 'ORD8'].index)\n",
    "lab_data2 = lab_data2.drop(lab_data2[lab_data2['code_code_original']== 'BAF9'].index)\n",
    "lab_data2 = lab_data2.drop(lab_data2[lab_data2['code_code_original']== 'EX_LUMC'].index)"
   ]
  },
  {
   "cell_type": "code",
   "execution_count": null,
   "id": "24",
   "metadata": {
    "tags": []
   },
   "outputs": [],
   "source": [
    "lab_data2.tail(3)"
   ]
  },
  {
   "cell_type": "markdown",
   "id": "25",
   "metadata": {},
   "source": [
    "Scientist wants to get rid of doubles, i.e. brick 25,12, 08 and 21"
   ]
  },
  {
   "cell_type": "markdown",
   "id": "26",
   "metadata": {},
   "source": [
    "Scientist claims all of these are simply doubles. This does not really hold up, let's seperate and let the scientist decide. We have several time points..."
   ]
  },
  {
   "cell_type": "code",
   "execution_count": null,
   "id": "27",
   "metadata": {
    "tags": []
   },
   "outputs": [],
   "source": [
    "#lab_data2[lab_data2['studieID'] == 'BRICK_008']\n",
    "lab_data2[lab_data2['studieID'] == 'BRICK_008']['effectiveDateTime'].unique()"
   ]
  },
  {
   "cell_type": "code",
   "execution_count": null,
   "id": "28",
   "metadata": {
    "tags": []
   },
   "outputs": [],
   "source": [
    "#lab_data2[lab_data2['studieID'] == 'BRICK_012']\n",
    "lab_data2[lab_data2['studieID'] == 'BRICK_025']['effectiveDateTime'].unique()"
   ]
  },
  {
   "cell_type": "code",
   "execution_count": null,
   "id": "29",
   "metadata": {
    "tags": []
   },
   "outputs": [],
   "source": [
    "#lab_data2[lab_data2['studieID'] == 'BRICK_021']\n",
    "lab_data2[lab_data2['studieID'] == 'BRICK_021']['effectiveDateTime'].unique()"
   ]
  },
  {
   "cell_type": "code",
   "execution_count": null,
   "id": "30",
   "metadata": {
    "tags": []
   },
   "outputs": [],
   "source": [
    "lab_data2[lab_data2['studieID'] == 'BRICK_025']['effectiveDateTime'].unique()"
   ]
  },
  {
   "cell_type": "markdown",
   "id": "31",
   "metadata": {},
   "source": [
    "For speed we will assume the scientst wanted the labs in the lab data update, and drop these  out of the data "
   ]
  },
  {
   "cell_type": "code",
   "execution_count": null,
   "id": "32",
   "metadata": {
    "tags": []
   },
   "outputs": [],
   "source": [
    "lab_data2_no_ = lab_data2.drop(lab_data2[lab_data2['studieID'] == 'BRICK_008'].index)\n",
    "lab_data2_no_ = lab_data2_no_.drop(lab_data2[lab_data2['studieID'] == 'BRICK_012'].index)\n",
    "lab_data2_no_ = lab_data2_no_.drop(lab_data2[lab_data2['studieID'] == 'BRICK_021'].index)\n",
    "lab_data2_no_ = lab_data2_no_.drop(lab_data2[lab_data2['studieID'] == 'BRICK_025'].index)"
   ]
  },
  {
   "cell_type": "code",
   "execution_count": null,
   "id": "33",
   "metadata": {
    "tags": []
   },
   "outputs": [],
   "source": [
    "lab_data2_no_.shape"
   ]
  },
  {
   "cell_type": "code",
   "execution_count": null,
   "id": "34",
   "metadata": {
    "tags": []
   },
   "outputs": [],
   "source": [
    "## Notice we are missing a column compared to the lab data updates? Let's check what it is."
   ]
  },
  {
   "cell_type": "code",
   "execution_count": null,
   "id": "35",
   "metadata": {
    "tags": []
   },
   "outputs": [],
   "source": [
    "lab_data2_columns_set = set(lab_data2_no_.columns)"
   ]
  },
  {
   "cell_type": "code",
   "execution_count": null,
   "id": "36",
   "metadata": {
    "tags": []
   },
   "outputs": [],
   "source": [
    "update_lab_data_columns_set = set(['studieID', 'labdatum_studieID', 'effectiveDateTime', 'issued',\n",
    "       'code_code_original', 'code_display_original', 'hix_code',\n",
    "       'valueQuantity_comparator', 'valueQuantity_value', 'valueQuantity_unit',\n",
    "       'valueString', 'comment', 'interpretation_display',\n",
    "       'referenceRange_text', 'specimen_type', 'specimen_type_text',\n",
    "       'container_type', 'sample_note'])\n",
    "      "
   ]
  },
  {
   "cell_type": "code",
   "execution_count": null,
   "id": "37",
   "metadata": {
    "tags": []
   },
   "outputs": [],
   "source": [
    "intersection = lab_data2_columns_set.intersection(update_lab_data_columns_set)\n",
    "intersection"
   ]
  },
  {
   "cell_type": "markdown",
   "id": "38",
   "metadata": {},
   "source": [
    "Well, those are the columns we can make the labs into if they should be one merged table.. Keep this in mind for later."
   ]
  },
  {
   "cell_type": "code",
   "execution_count": null,
   "id": "39",
   "metadata": {
    "tags": []
   },
   "outputs": [],
   "source": [
    "lab_data2 = lab_data2_no_.reset_index(drop=True)\n",
    "lab_data2"
   ]
  },
  {
   "cell_type": "markdown",
   "id": "40",
   "metadata": {},
   "source": [
    "We will split off the dataframes, then check to make sure we get something for every code"
   ]
  },
  {
   "cell_type": "code",
   "execution_count": null,
   "id": "41",
   "metadata": {
    "tags": []
   },
   "outputs": [],
   "source": [
    "list_of_data_frames = []\n",
    "for code in codes:\n",
    "    prenames = [\"code_code_original\", code]\n",
    "    frame_name = \"_\".join(prenames)\n",
    "    #print(frame_name)\n",
    "    frame_name = lab_data2[lab_data2['code_code_original'] == code]\n",
    "    frame_name = frame_name.add_suffix(code)\n",
    "    frame_name = frame_name.rename(columns= {frame_name.columns[0]:'studieID'})\n",
    "    list_of_data_frames.append(frame_name)\n",
    "    "
   ]
  },
  {
   "cell_type": "code",
   "execution_count": null,
   "id": "42",
   "metadata": {
    "tags": []
   },
   "outputs": [],
   "source": [
    "len(list_of_data_frames)"
   ]
  },
  {
   "cell_type": "code",
   "execution_count": null,
   "id": "43",
   "metadata": {
    "tags": []
   },
   "outputs": [],
   "source": [
    "len(codes)"
   ]
  },
  {
   "cell_type": "markdown",
   "id": "44",
   "metadata": {},
   "source": [
    "Let's look at an example:"
   ]
  },
  {
   "cell_type": "code",
   "execution_count": null,
   "id": "45",
   "metadata": {
    "tags": []
   },
   "outputs": [],
   "source": [
    "list_of_data_frames[1].head(3) "
   ]
  },
  {
   "cell_type": "code",
   "execution_count": null,
   "id": "46",
   "metadata": {
    "tags": []
   },
   "outputs": [],
   "source": [
    "list_of_data_frames[2].head(3) "
   ]
  },
  {
   "cell_type": "code",
   "execution_count": null,
   "id": "47",
   "metadata": {
    "tags": []
   },
   "outputs": [],
   "source": [
    "list_of_data_frames[2].shape"
   ]
  },
  {
   "cell_type": "markdown",
   "id": "48",
   "metadata": {},
   "source": [
    "So far so good, we have a frame with in the example above the DBIL. We then tried to do a big reduction; but it produced repeaters"
   ]
  },
  {
   "cell_type": "code",
   "execution_count": null,
   "id": "49",
   "metadata": {
    "tags": []
   },
   "outputs": [],
   "source": [
    "final_df = reduce(lambda left,right: pd.merge(left,right, on=['studieID'], how='outer'), list_of_data_frames)"
   ]
  },
  {
   "cell_type": "code",
   "execution_count": null,
   "id": "50",
   "metadata": {
    "tags": []
   },
   "outputs": [],
   "source": [
    "final_df.shape"
   ]
  },
  {
   "cell_type": "code",
   "execution_count": null,
   "id": "51",
   "metadata": {
    "tags": []
   },
   "outputs": [],
   "source": [
    "#final_df.studieID"
   ]
  },
  {
   "cell_type": "code",
   "execution_count": null,
   "id": "52",
   "metadata": {
    "tags": []
   },
   "outputs": [],
   "source": [
    "# for number,frame in enumerate(list_of_data_frames):\n",
    "#     if frame['studieID'].is_unique:\n",
    "#         print( \"Good\")\n",
    "#     else:\n",
    "#         print(number, \"repeaters\")"
   ]
  },
  {
   "cell_type": "code",
   "execution_count": null,
   "id": "53",
   "metadata": {
    "tags": []
   },
   "outputs": [],
   "source": [
    "#final_df"
   ]
  },
  {
   "cell_type": "code",
   "execution_count": null,
   "id": "54",
   "metadata": {
    "tags": []
   },
   "outputs": [],
   "source": [
    "final_df.head(3)"
   ]
  },
  {
   "cell_type": "code",
   "execution_count": null,
   "id": "55",
   "metadata": {
    "tags": []
   },
   "outputs": [],
   "source": [
    "final_df"
   ]
  },
  {
   "cell_type": "code",
   "execution_count": null,
   "id": "56",
   "metadata": {
    "tags": []
   },
   "outputs": [],
   "source": [
    "final_df.to_csv('../../secret_data/full_labs_EARLIER.csv')"
   ]
  },
  {
   "cell_type": "markdown",
   "id": "57",
   "metadata": {},
   "source": [
    "We NO LONGER needed to examine why this happened so we took a look by hand:"
   ]
  },
  {
   "cell_type": "markdown",
   "id": "58",
   "metadata": {
    "tags": []
   },
   "source": [
    "Now we want to merge all the lab data into one happy lab dataset.\n"
   ]
  },
  {
   "cell_type": "code",
   "execution_count": null,
   "id": "59",
   "metadata": {
    "tags": []
   },
   "outputs": [],
   "source": [
    "updates = pd.read_csv('../../secret_data/full_labs_UPDATES.csv', index_col=0)"
   ]
  },
  {
   "cell_type": "code",
   "execution_count": null,
   "id": "60",
   "metadata": {
    "tags": []
   },
   "outputs": [],
   "source": [
    "updates.columns"
   ]
  },
  {
   "cell_type": "code",
   "execution_count": null,
   "id": "61",
   "metadata": {
    "tags": []
   },
   "outputs": [],
   "source": [
    "updates.studieID.unique()"
   ]
  },
  {
   "cell_type": "code",
   "execution_count": null,
   "id": "62",
   "metadata": {
    "tags": []
   },
   "outputs": [],
   "source": [
    "final_df.studieID.unique()"
   ]
  },
  {
   "cell_type": "markdown",
   "id": "63",
   "metadata": {},
   "source": [
    "# There is lots of overlap. Therefore we can make a dataframe of only the updates, and the originals where there is no update"
   ]
  },
  {
   "cell_type": "code",
   "execution_count": null,
   "id": "64",
   "metadata": {
    "tags": []
   },
   "outputs": [],
   "source": [
    "set_updates = set(updates.studieID.unique())\n",
    "set_originals = set(final_df.studieID.unique())\n",
    "overlap = set_originals.intersection(set_updates)\n",
    "list_overlapers = list(overlap)\n",
    "#list_overlapers"
   ]
  },
  {
   "cell_type": "code",
   "execution_count": null,
   "id": "65",
   "metadata": {
    "tags": []
   },
   "outputs": [],
   "source": [
    "set_originals - overlap"
   ]
  },
  {
   "cell_type": "code",
   "execution_count": null,
   "id": "66",
   "metadata": {
    "tags": []
   },
   "outputs": [],
   "source": [
    "### So we will take only 7, 9 and 32 from the old labs, and add them to the updated labs"
   ]
  },
  {
   "cell_type": "code",
   "execution_count": null,
   "id": "67",
   "metadata": {
    "tags": []
   },
   "outputs": [],
   "source": [
    "old_labs1 = final_df[final_df['studieID'] == 'BRICK_007' ] \n",
    "old_labs2 = final_df[final_df['studieID'] == 'BRICK_009'] \n",
    "old_labs3 = final_df[final_df['studieID'] ==  'BRICK_032'] \n",
    "old_labs = pd.concat([old_labs1, old_labs2, old_labs3])"
   ]
  },
  {
   "cell_type": "code",
   "execution_count": null,
   "id": "68",
   "metadata": {
    "tags": []
   },
   "outputs": [],
   "source": [
    "set_old_lab_columns = set(old_labs.columns)"
   ]
  },
  {
   "cell_type": "code",
   "execution_count": null,
   "id": "69",
   "metadata": {
    "tags": []
   },
   "outputs": [],
   "source": [
    "set_updates_lab_columns = set(updates.columns)\n",
    "intersectionH = set_old_lab_columns.intersection(set_updates_lab_columns)\n",
    "columns_here = list(intersectionH)"
   ]
  },
  {
   "cell_type": "code",
   "execution_count": null,
   "id": "70",
   "metadata": {
    "tags": []
   },
   "outputs": [],
   "source": [
    "## Now we filter these and the others on columsn that intersect between the two\n",
    "old_labs = old_labs[columns_here]\n",
    "updated = updates[columns_here]\n",
    "final_final = pd.concat([old_labs, updated])\n",
    "final_final['studieID']"
   ]
  },
  {
   "cell_type": "code",
   "execution_count": null,
   "id": "71",
   "metadata": {
    "tags": []
   },
   "outputs": [],
   "source": [
    "final_final.to_csv('../../secret_data/full_labs_together.csv')"
   ]
  },
  {
   "cell_type": "code",
   "execution_count": null,
   "id": "72",
   "metadata": {},
   "outputs": [],
   "source": []
  }
 ],
 "metadata": {
  "kernelspec": {
   "display_name": "Python 3 (ipykernel)",
   "language": "python",
   "name": "python3"
  },
  "language_info": {
   "codemirror_mode": {
    "name": "ipython",
    "version": 3
   },
   "file_extension": ".py",
   "mimetype": "text/x-python",
   "name": "python",
   "nbconvert_exporter": "python",
   "pygments_lexer": "ipython3",
   "version": "3.11.8"
  }
 },
 "nbformat": 4,
 "nbformat_minor": 5
}
