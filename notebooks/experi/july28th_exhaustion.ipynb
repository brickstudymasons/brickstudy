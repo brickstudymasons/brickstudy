{
 "cells": [
  {
   "cell_type": "markdown",
   "id": "365042a7-e466-4908-bf0c-0d377aecb836",
   "metadata": {},
   "source": [
    "# Examining new data sent in numeric style"
   ]
  },
  {
   "cell_type": "markdown",
   "id": "3c29c04c-0971-440d-b7e8-66424bc2849e",
   "metadata": {
    "tags": []
   },
   "source": [
    "## libraries"
   ]
  },
  {
   "cell_type": "code",
   "execution_count": null,
   "id": "dd83a90e-dd9b-4bb1-8b83-0c79ce4eb44a",
   "metadata": {
    "tags": []
   },
   "outputs": [],
   "source": [
    "import os\n",
    "import sys\n",
    "from functools import reduce\n",
    "import pandas as pd\n",
    "import numpy as np\n",
    "import seaborn as sns\n",
    "import matplotlib.pyplot as plt\n",
    "import ipywidgets as widgets\n",
    "\n",
    "sys.path.insert(0, '../../')\n",
    "from brickstudy import foundation"
   ]
  },
  {
   "cell_type": "code",
   "execution_count": null,
   "id": "f99a4153-b1e7-46ce-a085-5443f94ddb9c",
   "metadata": {
    "tags": []
   },
   "outputs": [],
   "source": [
    "# import data and pull out incorrect lines\n",
    "\n",
    "#Sleutelbestand_participation_other_studies_08-04-2024_update..xlsx"
   ]
  },
  {
   "cell_type": "code",
   "execution_count": null,
   "id": "0aa5b42f-281b-4263-a340-d3e146e2e6ea",
   "metadata": {
    "tags": []
   },
   "outputs": [],
   "source": [
    "key_table_shape = pd.ExcelFile(\"../../secret_data/Sleutelbestand_participation_other_studies_08-04-2024_update..xlsx\")\n",
    "sheet_names = key_table_shape.sheet_names\n",
    "print(sheet_names)\n",
    "print(len(sheet_names))"
   ]
  },
  {
   "cell_type": "code",
   "execution_count": null,
   "id": "ebf9338e-7631-413a-a067-ffcda29f5a91",
   "metadata": {
    "tags": []
   },
   "outputs": [],
   "source": [
    "key_table1 = pd.read_excel(\"../../secret_data/Sleutelbestand_participation_other_studies_08-04-2024_update..xlsx\", sheet_name=0)\n",
    "key_table1.head(3)"
   ]
  },
  {
   "cell_type": "code",
   "execution_count": null,
   "id": "0ff8a172-44ef-4538-a52a-7bef830bb83f",
   "metadata": {
    "tags": []
   },
   "outputs": [],
   "source": [
    "key_table1.columns"
   ]
  },
  {
   "cell_type": "code",
   "execution_count": null,
   "id": "dbcf9c77-2240-4a8e-aa86-ad8a2cb6f139",
   "metadata": {
    "tags": []
   },
   "outputs": [],
   "source": [
    "key_table1[key_table1['RADeep_id'] == 'SCORE_ERA_0059']"
   ]
  },
  {
   "cell_type": "code",
   "execution_count": null,
   "id": "57593259-c239-46c5-9b20-9ccf19fcec2a",
   "metadata": {
    "tags": []
   },
   "outputs": [],
   "source": [
    "key_table1['RADeep_id']"
   ]
  },
  {
   "cell_type": "code",
   "execution_count": null,
   "id": "8f75cc0f-f197-48f2-b565-ab49183c53bc",
   "metadata": {
    "tags": []
   },
   "outputs": [],
   "source": [
    "# looking at what was sent"
   ]
  },
  {
   "cell_type": "code",
   "execution_count": null,
   "id": "e14d65da-851b-42e4-b7b3-ba842e85ba34",
   "metadata": {
    "tags": []
   },
   "outputs": [],
   "source": [
    "import os\n",
    "path = '../../secret_data/holder/'\n",
    "dir_list = os.listdir(path)\n",
    "\n",
    "#print(dir_list)\n",
    "for file in dir_list:\n",
    "    print(file)"
   ]
  },
  {
   "cell_type": "code",
   "execution_count": null,
   "id": "4688c179-3037-4e23-a2de-0df1a91f4e3c",
   "metadata": {},
   "outputs": [],
   "source": []
  }
 ],
 "metadata": {
  "kernelspec": {
   "display_name": "Python 3 (ipykernel)",
   "language": "python",
   "name": "python3"
  },
  "language_info": {
   "codemirror_mode": {
    "name": "ipython",
    "version": 3
   },
   "file_extension": ".py",
   "mimetype": "text/x-python",
   "name": "python",
   "nbconvert_exporter": "python",
   "pygments_lexer": "ipython3",
   "version": "3.11.9"
  }
 },
 "nbformat": 4,
 "nbformat_minor": 5
}
