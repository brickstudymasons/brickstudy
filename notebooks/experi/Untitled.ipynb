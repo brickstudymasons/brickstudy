{
 "cells": [
  {
   "cell_type": "markdown",
   "id": "17e6f0ef-004a-439c-affd-66fc06ac1804",
   "metadata": {},
   "source": [
    "# final castor proof"
   ]
  },
  {
   "cell_type": "markdown",
   "id": "11460246-7eab-434a-9c9c-bcb70e9f21f1",
   "metadata": {},
   "source": [
    "uses 1. WAISIV + WISC_V + (transformed 'Participant Id') \n",
    "\n",
    "--> IQ_sheet"
   ]
  },
  {
   "cell_type": "markdown",
   "id": "48b2f5ad-9ea5-41b0-b774-d87aec356175",
   "metadata": {},
   "source": [
    "link to brick_score_key_26_4_2024 with key of 'Participant Id'"
   ]
  },
  {
   "cell_type": "code",
   "execution_count": null,
   "id": "661c3776-4126-4bcb-8a53-6ad57f3e9179",
   "metadata": {},
   "outputs": [],
   "source": [
    "tranformed lab- link by studieID is 'Participant Id'"
   ]
  }
 ],
 "metadata": {
  "kernelspec": {
   "display_name": "Python 3 (ipykernel)",
   "language": "python",
   "name": "python3"
  },
  "language_info": {
   "codemirror_mode": {
    "name": "ipython",
    "version": 3
   },
   "file_extension": ".py",
   "mimetype": "text/x-python",
   "name": "python",
   "nbconvert_exporter": "python",
   "pygments_lexer": "ipython3",
   "version": "3.11.8"
  }
 },
 "nbformat": 4,
 "nbformat_minor": 5
}
