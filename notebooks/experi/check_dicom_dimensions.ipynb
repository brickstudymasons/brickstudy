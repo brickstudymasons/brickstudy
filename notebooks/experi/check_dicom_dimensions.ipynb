{
 "cells": [
  {
   "cell_type": "markdown",
   "id": "0",
   "metadata": {},
   "source": [
    "# Check DICOM dimensions"
   ]
  },
  {
   "cell_type": "code",
   "execution_count": null,
   "id": "1",
   "metadata": {
    "tags": []
   },
   "outputs": [],
   "source": [
    "import sys\n",
    "import pydicom as pydicom\n",
    "sys.path.insert(0, '../../')\n",
    "from brickstudy import foundation"
   ]
  },
  {
   "cell_type": "code",
   "execution_count": null,
   "id": "2",
   "metadata": {
    "tags": []
   },
   "outputs": [],
   "source": [
    "def check_dimensions_of_voxel(image_string):\n",
    "    \"\"\"\n",
    "    This function if given a dicom string will return the dimensions as a tuple,\n",
    "    and print a message about them\n",
    "    \n",
    "    \"\"\"\n",
    "    dcm_read = pydicom.dcmread(image_string)\n",
    "    voxel_width = dcm_read.PixelSpacing[0] \n",
    "    voxel_height = dcm_read.PixelSpacing[1]\n",
    "    slice_thickness = dcm_read.SliceThickness\n",
    "    print(\"Voxel dimensions are:\",  voxel_width, voxel_height, slice_thickness)\n",
    "    return (voxel_width, voxel_height, slice_thickness)"
   ]
  },
  {
   "cell_type": "code",
   "execution_count": null,
   "id": "3",
   "metadata": {
    "tags": []
   },
   "outputs": [],
   "source": [
    "foundation.check_dimensions_of_voxel('Z:/MRIs/transfer_2217763_files_3b695c8d/BRICK-001/BRICK-001/20220620/MR/New_T1_weighted_FreeSurfer_BRAVO_IR_ARC2_1mm_Cor/1.2.826.0.1.3680043.10.104.1026040094852855246330253749255118212')"
   ]
  },
  {
   "cell_type": "code",
   "execution_count": null,
   "id": "4",
   "metadata": {},
   "outputs": [],
   "source": []
  }
 ],
 "metadata": {
  "kernelspec": {
   "display_name": "Python 3 (ipykernel)",
   "language": "python",
   "name": "python3"
  },
  "language_info": {
   "codemirror_mode": {
    "name": "ipython",
    "version": 3
   },
   "file_extension": ".py",
   "mimetype": "text/x-python",
   "name": "python",
   "nbconvert_exporter": "python",
   "pygments_lexer": "ipython3",
   "version": "3.11.8"
  }
 },
 "nbformat": 4,
 "nbformat_minor": 5
}
