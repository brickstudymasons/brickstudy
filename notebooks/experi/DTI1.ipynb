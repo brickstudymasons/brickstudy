{
 "cells": [
  {
   "cell_type": "markdown",
   "id": "efedc364-e22e-4e02-b957-33431ef52b76",
   "metadata": {},
   "source": [
    "# Diffusion and tendor notebook\n",
    "\n",
    "Must be run in dwit environment"
   ]
  },
  {
   "cell_type": "code",
   "execution_count": null,
   "id": "081054b2-f422-434e-a90a-5108bbf34f2b",
   "metadata": {},
   "outputs": [],
   "source": [
    "from bids.layout import BIDSLayout\n",
    "import numpy as np\n",
    "import matplotlib.pyplot as plt\n",
    "from mpl_toolkits.mplot3d import Axes3D\n",
    "import nibabel as nib"
   ]
  },
  {
   "cell_type": "code",
   "execution_count": null,
   "id": "c241880a-cfcb-455b-b603-0f8aa493f54d",
   "metadata": {},
   "outputs": [],
   "source": [
    "import os\n",
    "from dipy.io.gradients import read_bvals_bvecs\n",
    "from dipy.core.gradients import gradient_table"
   ]
  },
  {
   "cell_type": "code",
   "execution_count": null,
   "id": "1af129ac-7889-416b-919a-08ef6b8b8758",
   "metadata": {},
   "outputs": [],
   "source": [
    "#?BIDSLayout"
   ]
  },
  {
   "cell_type": "code",
   "execution_count": null,
   "id": "f66b6aad-75a8-4ae5-8641-a4fd12d48fbd",
   "metadata": {},
   "outputs": [],
   "source": [
    "data_directory = \"Z:/output/transfer_2217763_files_3b695c8d/BRICK-001/BRICK-001/20220620/MR/New_DTI-Ax-35DIR-2.5mm_TR11.5_TE93_b900_PA\""
   ]
  },
  {
   "cell_type": "code",
   "execution_count": null,
   "id": "a8a11a48-e975-4a23-893b-25c4251a0855",
   "metadata": {},
   "outputs": [],
   "source": [
    "layout=BIDSLayout(data_directory, validate=False)"
   ]
  },
  {
   "cell_type": "code",
   "execution_count": null,
   "id": "936b4340-8c36-4430-b606-2352bdf46983",
   "metadata": {},
   "outputs": [],
   "source": [
    "dwi = layout.get()"
   ]
  },
  {
   "cell_type": "code",
   "execution_count": null,
   "id": "efdb3d7a-1ec7-49dd-8135-baee98c1e91b",
   "metadata": {},
   "outputs": [],
   "source": [
    "layout.get_metadata(dwi)"
   ]
  },
  {
   "cell_type": "code",
   "execution_count": null,
   "id": "eccb7273-8abd-4ad9-b497-73d0d4e1d5a0",
   "metadata": {},
   "outputs": [],
   "source": [
    "file_nii = os.path.join(data_directory, '004_New_DTI-Ax-35DIR-2.5mm_TR11.5_TE93_b900_PA_New_DTI-Ax-35DIR-2.5mm_TR11.5_TE93_b900_PA_20220620000000.nii.gz' )"
   ]
  },
  {
   "cell_type": "code",
   "execution_count": null,
   "id": "b17f3b26-3ddc-407c-8402-586f26b6e6c3",
   "metadata": {},
   "outputs": [],
   "source": [
    "data= nib.load(file_nii)"
   ]
  },
  {
   "cell_type": "code",
   "execution_count": null,
   "id": "e5d881c7-206a-4bfc-a1fc-c87fddf8b4fc",
   "metadata": {},
   "outputs": [],
   "source": [
    "data.shape"
   ]
  },
  {
   "cell_type": "code",
   "execution_count": null,
   "id": "3f122d1d-040f-483e-8bf6-a592fe436374",
   "metadata": {},
   "outputs": [],
   "source": [
    "dat = data.get_fdata()"
   ]
  },
  {
   "cell_type": "code",
   "execution_count": null,
   "id": "72f7191c-1e39-4117-ae93-0e8900ebd622",
   "metadata": {},
   "outputs": [],
   "source": [
    "x_slice  = dat[19, :, :,0]\n",
    "y_slice  = dat[:, 19, :,0]\n",
    "z_slice  = dat[:, :, 19,0]"
   ]
  },
  {
   "cell_type": "code",
   "execution_count": null,
   "id": "73292b2a-4fa1-4085-a09f-f57b4f2f323e",
   "metadata": {},
   "outputs": [],
   "source": [
    "%matplotlib inline\n",
    "\n",
    "slices = [x_slice, y_slice, z_slice]\n",
    "\n",
    "fig, axes = plt.subplots(1, len(slices))\n",
    "for i, slice in enumerate(slices):\n",
    "    axes[i].imshow(slice.T, cmap=\"gray\", origin=\"lower\")"
   ]
  },
  {
   "cell_type": "code",
   "execution_count": null,
   "id": "9b9a16b3-09b5-4859-ba60-d17b0daa1355",
   "metadata": {},
   "outputs": [],
   "source": [
    "bval= os.path.join(data_directory, '004_New_DTI-Ax-35DIR-2.5mm_TR11.5_TE93_b900_PA_New_DTI-Ax-35DIR-2.5mm_TR11.5_TE93_b900_PA_20220620000000.bval' )\n",
    "bvec= os.path.join(data_directory, '004_New_DTI-Ax-35DIR-2.5mm_TR11.5_TE93_b900_PA_New_DTI-Ax-35DIR-2.5mm_TR11.5_TE93_b900_PA_20220620000000.bvec' )\n",
    "gt_bvals, gt_bvec = read_bvals_bvecs(bval, bvec)\n",
    "gtab = gradient_table(gt_bvals, gt_bvec)"
   ]
  },
  {
   "cell_type": "code",
   "execution_count": null,
   "id": "abdfa461-63f7-4801-bbf0-bfde7dd08410",
   "metadata": {},
   "outputs": [],
   "source": [
    "gt_bvals"
   ]
  },
  {
   "cell_type": "code",
   "execution_count": null,
   "id": "d5641da0-8f58-48c7-ab1f-633a0a2e5709",
   "metadata": {},
   "outputs": [],
   "source": [
    "gtab.b0s_mask"
   ]
  },
  {
   "cell_type": "code",
   "execution_count": null,
   "id": "ddc76634-0697-4ba9-802c-414c58993c6b",
   "metadata": {},
   "outputs": [],
   "source": [
    "gtab.bvecs[~gtab.b0s_mask]"
   ]
  },
  {
   "cell_type": "code",
   "execution_count": null,
   "id": "d22224fa-943d-4704-8790-85cddc07e8e1",
   "metadata": {},
   "outputs": [],
   "source": [
    "layout.get?"
   ]
  },
  {
   "cell_type": "code",
   "execution_count": null,
   "id": "63ab0db5-21fd-4081-ab9d-6183f187066b",
   "metadata": {},
   "outputs": [],
   "source": []
  }
 ],
 "metadata": {
  "kernelspec": {
   "display_name": "Python 3 (ipykernel)",
   "language": "python",
   "name": "python3"
  },
  "language_info": {
   "codemirror_mode": {
    "name": "ipython",
    "version": 3
   },
   "file_extension": ".py",
   "mimetype": "text/x-python",
   "name": "python",
   "nbconvert_exporter": "python",
   "pygments_lexer": "ipython3",
   "version": "3.11.8"
  }
 },
 "nbformat": 4,
 "nbformat_minor": 5
}
