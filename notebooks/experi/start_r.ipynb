{
 "cells": [
  {
   "cell_type": "markdown",
   "id": "eaadaddf-1714-4868-9e8f-bad77895b641",
   "metadata": {},
   "source": [
    "# Read in R files"
   ]
  },
  {
   "cell_type": "code",
   "execution_count": null,
   "id": "731223bf-bb05-4a52-873e-1346bd5cc02e",
   "metadata": {},
   "outputs": [],
   "source": [
    "library(readxl)             # Load the package into your R session\n",
    "library(writexl)\n",
    "library(dplyr)"
   ]
  },
  {
   "cell_type": "code",
   "execution_count": null,
   "id": "7e50159c-2955-4f81-aca3-99b40500f442",
   "metadata": {},
   "outputs": [],
   "source": [
    "WISCV_gemstracker <- read_excel(\"../../secret_data/R_data/BRICK_Scoreformulier_WISC-V-NL.xlsx\")"
   ]
  },
  {
   "cell_type": "code",
   "execution_count": null,
   "id": "7197738f-00f8-4bd9-89f0-207d2ad6eff1",
   "metadata": {},
   "outputs": [],
   "source": [
    "head(WISCV_gemstracker)\n"
   ]
  },
  {
   "cell_type": "code",
   "execution_count": null,
   "id": "483125b2-b1ed-44f1-977e-fff4f7f63796",
   "metadata": {},
   "outputs": [],
   "source": [
    "WISCIV_gemstracker <- read_excel(\"../../secret_data/R_data/BRICK_Scoreformulier_WAIS-IV-NL.xlsx\")"
   ]
  },
  {
   "cell_type": "code",
   "execution_count": null,
   "id": "a76efb1e-0dcf-4ed3-94e1-5a82a0761c33",
   "metadata": {},
   "outputs": [],
   "source": [
    "head(WISCIV_gemstracker)"
   ]
  },
  {
   "cell_type": "code",
   "execution_count": null,
   "id": "7bcff12e-4cfd-499b-8bac-d1915164955a",
   "metadata": {},
   "outputs": [],
   "source": [
    "# combine on Patiënt nummer should be Participant Id   in three column"
   ]
  }
 ],
 "metadata": {
  "kernelspec": {
   "display_name": "R",
   "language": "R",
   "name": "ir"
  },
  "language_info": {
   "codemirror_mode": "r",
   "file_extension": ".r",
   "mimetype": "text/x-r-source",
   "name": "R",
   "pygments_lexer": "r",
   "version": "4.1.3"
  }
 },
 "nbformat": 4,
 "nbformat_minor": 5
}
