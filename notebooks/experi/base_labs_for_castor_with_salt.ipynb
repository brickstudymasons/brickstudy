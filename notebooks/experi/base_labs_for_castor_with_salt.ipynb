{
 "cells": [
  {
   "cell_type": "markdown",
   "id": "330b2dfe-3ed3-486d-b994-8a1752ff1df8",
   "metadata": {},
   "source": [
    "# Labs organized for Castor upload"
   ]
  },
  {
   "cell_type": "markdown",
   "id": "f6740626-4a36-41e8-b5a2-5f14a9168b4b",
   "metadata": {},
   "source": [
    "### This lab layout follows the request of scientists and Castor staff  for upload in Castor"
   ]
  },
  {
   "cell_type": "code",
   "execution_count": null,
   "id": "16e6d136-6229-41ac-b94d-994a3a5d2289",
   "metadata": {},
   "outputs": [],
   "source": [
    "#import libraries"
   ]
  },
  {
   "cell_type": "code",
   "execution_count": null,
   "id": "cceaee83-7afb-4cef-ac12-259d936b78c2",
   "metadata": {
    "tags": []
   },
   "outputs": [],
   "source": [
    "import os\n",
    "import sys\n",
    "from functools import reduce\n",
    "import pandas as pd\n",
    "import numpy as np\n",
    "import seaborn as sns\n",
    "import matplotlib.pyplot as plt\n",
    "import ipywidgets as widgets\n",
    "\n",
    "sys.path.insert(0, '../../')\n",
    "from brickstudy import foundation"
   ]
  },
  {
   "cell_type": "code",
   "execution_count": null,
   "id": "d61332c2-21dd-4355-8c23-3c1395b5454d",
   "metadata": {
    "tags": []
   },
   "outputs": [],
   "source": [
    "### import example lab organization from scientst"
   ]
  },
  {
   "cell_type": "code",
   "execution_count": null,
   "id": "1ef815c5-a623-4dd7-8ed7-cdb4a4d4893a",
   "metadata": {
    "tags": []
   },
   "outputs": [],
   "source": [
    "example = pd.read_csv('../../secret_data/Lab_vb_makeda.csv', sep=\";\")\n",
    "example.head(4)"
   ]
  },
  {
   "cell_type": "code",
   "execution_count": null,
   "id": "6b3a0a28-b6af-4114-b5ee-81c06290dc26",
   "metadata": {
    "tags": []
   },
   "outputs": [],
   "source": [
    "example.columns"
   ]
  },
  {
   "cell_type": "code",
   "execution_count": null,
   "id": "2cf524c2-4aae-4585-a53f-ba0cd1fe737a",
   "metadata": {},
   "outputs": [],
   "source": [
    "example.shape"
   ]
  },
  {
   "cell_type": "code",
   "execution_count": null,
   "id": "a13ad3b6-1b93-42ac-8bbd-b1f83ba4efd7",
   "metadata": {
    "tags": []
   },
   "outputs": [],
   "source": [
    "# I reccomend turning K00 into K0, and NRCA to NRC0"
   ]
  },
  {
   "cell_type": "markdown",
   "id": "1ac045c0-7b65-42dd-a419-2e3917b0bd3e",
   "metadata": {},
   "source": [
    "### import baseline labs from 2022 and 2023\n",
    "These labs should be named with _01 and uploaded to Castor as repeating data"
   ]
  },
  {
   "cell_type": "code",
   "execution_count": null,
   "id": "5e42059e-c5c1-4005-92cc-dfb1e1de0720",
   "metadata": {
    "tags": []
   },
   "outputs": [],
   "source": [
    "lab_data_baseline = pd.read_excel('../../secret_data/Brick_lab_20230914.xlsx')"
   ]
  },
  {
   "cell_type": "code",
   "execution_count": null,
   "id": "128de97d-9094-4657-bb7f-0b1e19a3ad5c",
   "metadata": {
    "tags": []
   },
   "outputs": [],
   "source": [
    "lab_data_baseline.columns"
   ]
  },
  {
   "cell_type": "markdown",
   "id": "f3d5b6c0-8438-4ebe-ab6e-2187a00db483",
   "metadata": {
    "tags": []
   },
   "source": [
    "There is no particpant creation date!\n",
    "You need to get it elsewhere\n"
   ]
  },
  {
   "cell_type": "code",
   "execution_count": null,
   "id": "858462aa-fe14-4eb4-87f8-d95b5d55a718",
   "metadata": {
    "tags": []
   },
   "outputs": [],
   "source": [
    "lab_data_baseline.head(3)"
   ]
  },
  {
   "cell_type": "code",
   "execution_count": null,
   "id": "ab4f0aeb-a9ef-442f-9913-abdf2a9f114c",
   "metadata": {
    "tags": []
   },
   "outputs": [],
   "source": [
    "len(lab_data_baseline.studieID.unique())"
   ]
  },
  {
   "cell_type": "code",
   "execution_count": null,
   "id": "484a9845-898f-4dba-b3ce-a866df25a6ad",
   "metadata": {
    "tags": []
   },
   "outputs": [],
   "source": [
    "lab_data_baseline['studieID'] = lab_data_baseline['studieID'].astype(str)\n",
    "lab_data_baseline['studieID'] = lab_data_baseline['studieID'].str.replace(\"-\", \"_\")"
   ]
  },
  {
   "cell_type": "code",
   "execution_count": null,
   "id": "e2e5a555-109d-4b43-ac23-44e67c61cf28",
   "metadata": {
    "tags": []
   },
   "outputs": [],
   "source": [
    "lab_data_baseline.head(3)"
   ]
  },
  {
   "cell_type": "markdown",
   "id": "82bfbb15-1503-4e3f-ad3c-46a7058ff6c6",
   "metadata": {},
   "source": [
    "### We want  all the patients on thier own line, but not many lines per patient\n",
    "We will try to accomplish this by splitting the dataset into each code-code-original i.e. each type of lab taken on the assumption we will almost always have one lab"
   ]
  },
  {
   "cell_type": "code",
   "execution_count": null,
   "id": "b2432d65-eaca-4353-aca2-9ea5cd5518b6",
   "metadata": {
    "tags": []
   },
   "outputs": [],
   "source": [
    "lab_data_baseline.code_code_original.unique()"
   ]
  },
  {
   "cell_type": "code",
   "execution_count": null,
   "id": "457095eb-45e9-4bd6-a487-9132e5e16f1c",
   "metadata": {
    "tags": []
   },
   "outputs": [],
   "source": [
    "codes = lab_data_baseline.code_code_original.unique().astype(str)\n",
    "codes"
   ]
  },
  {
   "cell_type": "code",
   "execution_count": null,
   "id": "a2a0e0d7-80a4-4832-8904-a0e56c04fdde",
   "metadata": {},
   "outputs": [],
   "source": [
    "#Here we must decide wif we want to switch nan to NA, or we will have no NA0 value in the end"
   ]
  },
  {
   "cell_type": "code",
   "execution_count": null,
   "id": "55aff4f5-0471-4d20-bfd2-25031511c478",
   "metadata": {
    "tags": []
   },
   "outputs": [],
   "source": []
  },
  {
   "cell_type": "code",
   "execution_count": null,
   "id": "30657f66-65b6-44aa-b3f3-9b48de2643cd",
   "metadata": {
    "tags": []
   },
   "outputs": [],
   "source": [
    "lab_data_baseline[lab_data_baseline['code_code_original'].isna()]"
   ]
  },
  {
   "cell_type": "code",
   "execution_count": null,
   "id": "f007a85a-b280-424d-a1d4-d4592d5f3f17",
   "metadata": {
    "tags": []
   },
   "outputs": [],
   "source": [
    "lab_data_baseline['code_code_original'] = lab_data_baseline['code_code_original'].fillna('NA')"
   ]
  },
  {
   "cell_type": "code",
   "execution_count": null,
   "id": "f9728e47-64e1-4c42-aa6c-9802c7e3898d",
   "metadata": {
    "tags": []
   },
   "outputs": [],
   "source": [
    "codes = lab_data_baseline.code_code_original.unique().astype(str)\n",
    "codes"
   ]
  },
  {
   "cell_type": "code",
   "execution_count": null,
   "id": "aa001d38-d721-4d51-8868-d69926507cff",
   "metadata": {
    "tags": []
   },
   "outputs": [],
   "source": [
    "lab_data_baseline[lab_data_baseline['code_code_original'] == 'nan']"
   ]
  },
  {
   "cell_type": "code",
   "execution_count": null,
   "id": "1bdd41ae-8d5d-4c71-8ab4-f132fa633138",
   "metadata": {
    "tags": []
   },
   "outputs": [],
   "source": [
    "len(codes)"
   ]
  },
  {
   "cell_type": "code",
   "execution_count": null,
   "id": "9b7113e2-66af-4adb-ac7e-1c9190de6fd6",
   "metadata": {
    "tags": []
   },
   "outputs": [],
   "source": [
    "## Notte there is a code BRICK...let's examine"
   ]
  },
  {
   "cell_type": "code",
   "execution_count": null,
   "id": "198531cb-1514-42ee-a208-2e37da27ad91",
   "metadata": {
    "tags": []
   },
   "outputs": [],
   "source": [
    "lab_data_baseline[lab_data_baseline.code_code_original =='BRICK'].head(5)"
   ]
  },
  {
   "cell_type": "code",
   "execution_count": null,
   "id": "77eef289-41e4-4883-98b6-e215739f3b27",
   "metadata": {
    "tags": []
   },
   "outputs": [],
   "source": [
    "len(example.columns)"
   ]
  },
  {
   "cell_type": "markdown",
   "id": "f7960918-5645-494d-a2ec-66129d94ea66",
   "metadata": {},
   "source": [
    "Scientists not interested in ICT, LIP, HEM, ORD8, BAF9 or EX_LUMC therefore we will drop these values"
   ]
  },
  {
   "cell_type": "code",
   "execution_count": null,
   "id": "32d390d5-731c-4971-8fb4-1a51ffd44878",
   "metadata": {
    "tags": []
   },
   "outputs": [],
   "source": [
    "lab_data_baseline = lab_data_baseline.drop(lab_data_baseline[lab_data_baseline['code_code_original']== 'ICT'].index)\n",
    "lab_data_baseline = lab_data_baseline.drop(lab_data_baseline[lab_data_baseline['code_code_original']== 'LIP'].index)\n",
    "lab_data_baseline = lab_data_baseline.drop(lab_data_baseline[lab_data_baseline['code_code_original']== 'HEM'].index)\n",
    "lab_data_baseline = lab_data_baseline.drop(lab_data_baseline[lab_data_baseline['code_code_original']== 'ORD8'].index)\n",
    "lab_data_baseline = lab_data_baseline.drop(lab_data_baseline[lab_data_baseline['code_code_original']== 'BAF9'].index)\n",
    "lab_data_baseline = lab_data_baseline.drop(lab_data_baseline[lab_data_baseline['code_code_original']== 'EX_LUMC'].index)"
   ]
  },
  {
   "cell_type": "markdown",
   "id": "8647deb0-4894-48c8-9217-5f02857ff61f",
   "metadata": {
    "tags": []
   },
   "source": [
    "Also according to example there are about 50 other codes they do ont care for. We will drop these here too: "
   ]
  },
  {
   "cell_type": "code",
   "execution_count": null,
   "id": "c331248c-d38e-4f29-9c70-16d75245ada9",
   "metadata": {
    "tags": []
   },
   "outputs": [],
   "source": [
    "codes0 = [code + \"0\" for code in codes]\n",
    "codes0_set = set(codes0)\n",
    "expected_set = set(example.columns)\n",
    "expected_set"
   ]
  },
  {
   "cell_type": "code",
   "execution_count": null,
   "id": "e0a83345-2b11-4f45-90ab-c4da0d247ac4",
   "metadata": {
    "tags": []
   },
   "outputs": [],
   "source": [
    "# here we will show columsn we were essentially asked to get rid of\n",
    "droppable = codes0_set - expected_set\n",
    "list_droppable = list(droppable)\n",
    "list_droppable = [code[:-1] for code in list_droppable]\n",
    "#list_droppable"
   ]
  },
  {
   "cell_type": "code",
   "execution_count": null,
   "id": "8260e470-1bb6-44a8-ae2f-d6f3977888f5",
   "metadata": {
    "tags": []
   },
   "outputs": [],
   "source": [
    "# here we can show what we will keep\n",
    "list_keepable = expected_set\n",
    "list_keepable =  [code[:-1] for code in list_keepable]\n",
    "list_keepable"
   ]
  },
  {
   "cell_type": "code",
   "execution_count": null,
   "id": "e6faaa02-c8f7-4ee8-bf0c-24443fad7802",
   "metadata": {
    "tags": []
   },
   "outputs": [],
   "source": [
    "list_keepable_amended = ['CRP',\n",
    "                         'FERT',\n",
    "                         'TROMBO',\n",
    "                         'MCV',\n",
    "                         'K',\n",
    "                         'FOLZ',\n",
    "                         'HB',\n",
    "                         'HT',\n",
    "                         'UREU',\n",
    "                         'VITD',\n",
    "                         'GGT',\n",
    "                         'ALB_U',\n",
    "                         'SCHWARTZ-Bedsite',\n",
    "                         'Participant Creation Date',\n",
    "                         'ASAT',\n",
    "                         'ERY',\n",
    "                         'TBIL',\n",
    "                         'DBIL',\n",
    "                         'TE_U',\n",
    "                         'TRAF',\n",
    "                         'AFOS',\n",
    "                         'NA',\n",
    "                         'GRAT',\n",
    "                         'LDH',\n",
    "                         'FE',\n",
    "                         'ALB_U_KR',\n",
    "                         'B12',\n",
    "                         'LEU',\n",
    "                         'RETI',\n",
    "                         'TSAT',\n",
    "                         'KREA_U',\n",
    "                         'ALAT',\n",
    "                         'KREA',\n",
    "                         'TE_U_KR',\n",
    "                         'NRCA',\n",
    "                         'RDW',]"
   ]
  },
  {
   "cell_type": "code",
   "execution_count": null,
   "id": "e0ace4d8-8a44-4b6f-bf87-f6401e756d5b",
   "metadata": {
    "tags": []
   },
   "outputs": [],
   "source": [
    "# lab_data_baseline = lab_data_baseline[~lab_data_baseline[lab_data_baseline['code_code_original'].isin(list_droppable)]]\n",
    "# lab_data_baseline\n",
    "lab_data_baseline = lab_data_baseline[lab_data_baseline['code_code_original'].isin(list_keepable_amended)]"
   ]
  },
  {
   "cell_type": "code",
   "execution_count": null,
   "id": "caa96053-c574-4a6e-a9c3-87c94df888e8",
   "metadata": {
    "tags": []
   },
   "outputs": [],
   "source": [
    "lab_data_baseline['code_code_original'].unique()"
   ]
  },
  {
   "cell_type": "code",
   "execution_count": null,
   "id": "eb4d442b-3bb9-46de-bf5c-cf21bead2b80",
   "metadata": {
    "tags": []
   },
   "outputs": [],
   "source": [
    "new_codes = list(lab_data_baseline['code_code_original'].unique())"
   ]
  },
  {
   "cell_type": "markdown",
   "id": "7bb74c22-41de-4569-aa0f-776a750d5c91",
   "metadata": {},
   "source": [
    "Scientist wants to get rid of doubles, i.e. brick 08, 12, 21 and 25. There are doubles because labs were not taken at precisely the same time "
   ]
  },
  {
   "cell_type": "code",
   "execution_count": null,
   "id": "f43495a7-ee29-4d39-8b7b-e24d24089915",
   "metadata": {
    "tags": []
   },
   "outputs": [],
   "source": [
    "#example\n",
    "lab_data_baseline[lab_data_baseline['studieID'] == 'BRICK_008']['effectiveDateTime'].unique()"
   ]
  },
  {
   "cell_type": "code",
   "execution_count": null,
   "id": "8baa1015-ec81-4e38-a0f0-4f8accccaa68",
   "metadata": {
    "tags": []
   },
   "outputs": [],
   "source": [
    "#get the brick8 we want by resetting all the times to be the same\n",
    "brick_8_wanted = lab_data_baseline[lab_data_baseline['studieID'] == 'BRICK_008']#[lab_data['effectiveDateTime'] == '2022-08-29 10:05:12.0000000']\n",
    "brick_8_wanted['effectiveDateTime'] = '2022-08-29 10:05:12.0000000'\n",
    "#brick_8_wanted"
   ]
  },
  {
   "cell_type": "code",
   "execution_count": null,
   "id": "36921508-0f82-46a8-a550-36ac056c283c",
   "metadata": {
    "tags": []
   },
   "outputs": [],
   "source": [
    "#len(brick_8_wanted)"
   ]
  },
  {
   "cell_type": "code",
   "execution_count": null,
   "id": "633ba6dc-e5fb-4d39-ada5-4e6acbae3b4f",
   "metadata": {
    "tags": []
   },
   "outputs": [],
   "source": [
    "#len(brick_8_wanted.code_code_original.unique())"
   ]
  },
  {
   "cell_type": "markdown",
   "id": "c1bfc3ec-a3ca-4503-b957-93c0853a5eff",
   "metadata": {},
   "source": [
    "It did not work the way we wanted because there were repeats. Let's use only one date:"
   ]
  },
  {
   "cell_type": "code",
   "execution_count": null,
   "id": "9f3b6d68-3806-4f81-a7e8-b0792a3febd3",
   "metadata": {
    "tags": []
   },
   "outputs": [],
   "source": [
    "brick_8_wanted = lab_data_baseline[lab_data_baseline['studieID'] == 'BRICK_008'][lab_data_baseline['effectiveDateTime'] == '2022-08-29 10:05:12.0000000']\n",
    "#brick_8_wanted "
   ]
  },
  {
   "cell_type": "code",
   "execution_count": null,
   "id": "3d5ab95b-951b-4b92-a134-fe97a9106063",
   "metadata": {},
   "outputs": [],
   "source": []
  },
  {
   "cell_type": "code",
   "execution_count": null,
   "id": "3ac9fa82-5b22-4041-93f9-381c9f280908",
   "metadata": {
    "tags": []
   },
   "outputs": [],
   "source": [
    "#12\n",
    "lab_data_baseline[lab_data_baseline['studieID'] == 'BRICK_012']['effectiveDateTime'].unique()"
   ]
  },
  {
   "cell_type": "code",
   "execution_count": null,
   "id": "baf3b482-a9da-4e80-9f59-3a423d901c59",
   "metadata": {
    "tags": []
   },
   "outputs": [],
   "source": [
    "#lab_data_baseline[lab_data_baseline['studieID'] == 'BRICK_012']"
   ]
  },
  {
   "cell_type": "code",
   "execution_count": null,
   "id": "e6c2bd5f-022e-43d3-a487-16249069c4f2",
   "metadata": {
    "tags": []
   },
   "outputs": [],
   "source": [
    "# Here we will assume scientist wants the lab values 4 months later dropped, as not a baseline value\n",
    "brick_12_wanted = lab_data_baseline[lab_data_baseline['studieID'] == 'BRICK_012'][lab_data_baseline['effectiveDateTime'].isin(['2022-03-16 15:43:08', '2022-03-16 16:07:41'])]\n",
    "# we will reset to all the same date\n",
    "#brick_12_wanted \n",
    "brick_12_wanted['effectiveDateTime'] = '2022-03-16 15:43:08'"
   ]
  },
  {
   "cell_type": "code",
   "execution_count": null,
   "id": "84e18244-d230-4259-9ae2-1948f5b5cad4",
   "metadata": {},
   "outputs": [],
   "source": [
    "brick_12_urine = lab_data_baseline[lab_data_baseline['studieID'] == 'BRICK_012'][lab_data_baseline['effectiveDateTime'].isin(['2022-07-18 10:02:25'])]"
   ]
  },
  {
   "cell_type": "code",
   "execution_count": null,
   "id": "e71dc5a6-3ee5-4f13-a59e-9ea97b3f7a5f",
   "metadata": {
    "tags": []
   },
   "outputs": [],
   "source": [
    "lab_data_baseline[lab_data_baseline['studieID'] == 'BRICK_021']['effectiveDateTime'].unique()"
   ]
  },
  {
   "cell_type": "code",
   "execution_count": null,
   "id": "ad88a5e2-f841-4cbe-9155-722ae0adc2a6",
   "metadata": {
    "tags": []
   },
   "outputs": [],
   "source": [
    "#brick_21_wanted[brick_21_wanted['effectiveDateTime'] =='2023-06-29 08:47:57']"
   ]
  },
  {
   "cell_type": "code",
   "execution_count": null,
   "id": "5e8697b6-d9c9-44c0-b8d6-81ebb1446157",
   "metadata": {
    "tags": []
   },
   "outputs": [],
   "source": [
    "brick_21_wanted = lab_data_baseline[lab_data_baseline['studieID'] == 'BRICK_021']\n",
    "#brick_21_wanted[brick_21_wanted['effectiveDateTime'] =='2023-06-29 08:46:36']\n",
    "#brick_21_wanted[brick_21_wanted['effectiveDateTime'] =='2023-06-29 08:47:57']\n",
    "#brick_21_wanted[brick_21_wanted['effectiveDateTime'] =='2023-06-29 12:41:15']"
   ]
  },
  {
   "cell_type": "code",
   "execution_count": null,
   "id": "5ef3d45c-c004-47ae-bc5c-f73565318277",
   "metadata": {
    "tags": []
   },
   "outputs": [],
   "source": [
    "brick_21_urine = brick_21_wanted[brick_21_wanted['effectiveDateTime'] =='2023-06-29 12:41:15']"
   ]
  },
  {
   "cell_type": "code",
   "execution_count": null,
   "id": "11c836ef-f392-429d-ac9b-f27d6ee4596d",
   "metadata": {
    "tags": []
   },
   "outputs": [],
   "source": [
    "brick_21_main = brick_21_wanted[brick_21_wanted['effectiveDateTime'] =='2023-06-29 08:47:57']"
   ]
  },
  {
   "cell_type": "code",
   "execution_count": null,
   "id": "24a9c72d-c7b8-4952-9967-30e2bfd67a9b",
   "metadata": {
    "tags": []
   },
   "outputs": [],
   "source": [
    "brick_21_wanted = pd.concat([brick_21_urine, brick_21_main])\n",
    "#brick_21_wanted"
   ]
  },
  {
   "cell_type": "code",
   "execution_count": null,
   "id": "f1436a3e-11c8-4efc-b773-159600c3e0d4",
   "metadata": {},
   "outputs": [],
   "source": []
  },
  {
   "cell_type": "code",
   "execution_count": null,
   "id": "2cd762cb-cb16-4ff2-a62f-b14a4fae6ebd",
   "metadata": {
    "tags": []
   },
   "outputs": [],
   "source": [
    "## here we will \"redate\" them all to match\n",
    "####brick_21_wanted = lab_data_baseline[lab_data_baseline['studieID'] == 'BRICK_021']\n",
    "brick_21_wanted['effectiveDateTime'] = '2023-06-29 08:46:36'\n",
    "#brick_12_wanted"
   ]
  },
  {
   "cell_type": "code",
   "execution_count": null,
   "id": "ce20d3d9-5f91-45bb-8e85-27441983b5cd",
   "metadata": {
    "tags": []
   },
   "outputs": [],
   "source": [
    "lab_data_baseline[lab_data_baseline['studieID'] == 'BRICK_025']['effectiveDateTime'].unique()"
   ]
  },
  {
   "cell_type": "code",
   "execution_count": null,
   "id": "81fb1d56-a36e-4f88-93b3-162148acedbd",
   "metadata": {
    "tags": []
   },
   "outputs": [],
   "source": [
    "#brick_25_wanted \n",
    "brick_25_mcv_wanted = lab_data_baseline[lab_data_baseline['studieID'] == 'BRICK_025'][lab_data_baseline['effectiveDateTime'] == '2022-09-12 15:52:42.0000000']\n",
    "#brick_25_mcv_wanted"
   ]
  },
  {
   "cell_type": "code",
   "execution_count": null,
   "id": "81945d13-f27d-492b-a309-a8277f024051",
   "metadata": {
    "tags": []
   },
   "outputs": [],
   "source": [
    "brick_25_urine_wanted = lab_data_baseline[lab_data_baseline['studieID'] == 'BRICK_025'][lab_data_baseline['effectiveDateTime'] == '2022-09-12 15:44:02.0000000']\n",
    "print(brick_25_urine_wanted.shape)\n",
    "#brick_25_urine_wanted."
   ]
  },
  {
   "cell_type": "code",
   "execution_count": null,
   "id": "19335524-584c-408c-acba-85072a60e43b",
   "metadata": {
    "tags": []
   },
   "outputs": [],
   "source": [
    "#get the brick25 we want by concatenating and  resetting all the times to be the same\n",
    "brick_25_wanted = pd.concat([brick_25_mcv_wanted ,brick_25_urine_wanted ])\n",
    "print(brick_25_wanted.shape)\n",
    "brick_25_wanted['effectiveDateTime'] = '2022-09-12 15:52:42'\n",
    "brick_25_wanted.effectiveDateTime.unique()"
   ]
  },
  {
   "cell_type": "code",
   "execution_count": null,
   "id": "4b8fb26d-bbf7-4af6-a693-010df9a0ae4f",
   "metadata": {
    "tags": []
   },
   "outputs": [],
   "source": [
    "#12\n",
    "lab_data_baseline[lab_data_baseline['studieID'] == 'BRICK_012']['effectiveDateTime'].unique()"
   ]
  },
  {
   "cell_type": "code",
   "execution_count": null,
   "id": "44dd1376-ea67-4b55-8427-b36a8c5d5c62",
   "metadata": {
    "tags": []
   },
   "outputs": [],
   "source": [
    "# # Here we will assume scientist wants the lab values 4 months later dropped, as not a baseline value\n",
    "# brick_12_wanted = lab_data_baseline[lab_data_baseline['studieID'] == 'BRICK_012'][lab_data_baseline['effectiveDateTime'].isin(['2022-03-16 15:43:08', '2022-03-16 16:07:41'])]\n",
    "# # we will reset to all the same date\n",
    "# #brick_12_wanted \n",
    "# brick_12_wanted['effectiveDateTime'] = '2022-03-16 15:43:08'"
   ]
  },
  {
   "cell_type": "code",
   "execution_count": null,
   "id": "111b2b4c-3b32-47b6-8db0-e5bafda7d117",
   "metadata": {
    "tags": []
   },
   "outputs": [],
   "source": []
  },
  {
   "cell_type": "code",
   "execution_count": null,
   "id": "b30df9bf-b94a-45ff-a23f-f44c1d157825",
   "metadata": {
    "tags": []
   },
   "outputs": [],
   "source": [
    "\n",
    "\n",
    "#now let's drop all of them, then append back on what we want\n",
    "lab_data_no_ = lab_data_baseline.drop(lab_data_baseline[lab_data_baseline['studieID'] == 'BRICK_012'].index)\n",
    "lab_data_no_ = lab_data_no_.drop(lab_data_no_[lab_data_no_['studieID'] == 'BRICK_008'].index)\n",
    "lab_data_no_ = lab_data_no_.drop(lab_data_no_[lab_data_no_['studieID'] == 'BRICK_021'].index)\n",
    "lab_data_no_ = lab_data_no_.drop(lab_data_no_[lab_data_no_['studieID'] == 'BRICK_025'].index)\n",
    "#lab_data = "
   ]
  },
  {
   "cell_type": "code",
   "execution_count": null,
   "id": "0de3206b-7dba-41fb-ba27-af34d977de62",
   "metadata": {
    "tags": []
   },
   "outputs": [],
   "source": [
    "lab_data_no_.studieID.unique()"
   ]
  },
  {
   "cell_type": "code",
   "execution_count": null,
   "id": "ed237995-20cf-4fdc-84e8-31d4ce133273",
   "metadata": {
    "tags": []
   },
   "outputs": [],
   "source": [
    "#lab_data_baseline"
   ]
  },
  {
   "cell_type": "code",
   "execution_count": null,
   "id": "fbb79a0c-37e4-44b2-bc4a-9798bc40e75c",
   "metadata": {
    "tags": []
   },
   "outputs": [],
   "source": [
    "# lab_data2_no_ = lab_data_baseline.drop(lab_data_baseline[lab_data_baseline['studieID'] == 'BRICK_008'].index)\n",
    "# lab_data2_no_ = lab_data2_no_.drop(lab_data2_no[lab_data2_no_['studieID'] == 'BRICK_012'].index)\n",
    "# lab_data2_no_ = lab_data2_no_.drop(lab_data2_no[lab_data2_no_['studieID'] == 'BRICK_021'].index)\n",
    "# lab_data2_no_ = lab_data2_no_.drop(lab_data2_no[lab_data2_no_['studieID'] == 'BRICK_025'].index)"
   ]
  },
  {
   "cell_type": "code",
   "execution_count": null,
   "id": "9c745ce7-809b-4ab4-abb1-29e90cfe74bc",
   "metadata": {
    "tags": []
   },
   "outputs": [],
   "source": [
    "brick_12_urine.shape"
   ]
  },
  {
   "cell_type": "code",
   "execution_count": null,
   "id": "2ae58e02-e364-4e35-84d4-f8d7e38f482b",
   "metadata": {
    "tags": []
   },
   "outputs": [],
   "source": [
    "brick_12_wanted.shape"
   ]
  },
  {
   "cell_type": "code",
   "execution_count": null,
   "id": "338fe48a-aeca-4818-999f-4ffce9bc18b2",
   "metadata": {
    "tags": []
   },
   "outputs": [],
   "source": [
    "lab_data = pd.concat([lab_data_no_, brick_8_wanted,  brick_12_wanted, brick_25_wanted, brick_21_wanted])\n",
    "lab_data.shape"
   ]
  },
  {
   "cell_type": "code",
   "execution_count": null,
   "id": "8dfc45c3-02a7-433c-9f0d-98e6ab353a19",
   "metadata": {
    "tags": []
   },
   "outputs": [],
   "source": [
    "list_of_data_frames = []\n",
    "for code in new_codes:\n",
    "    prenames = [\"code_code_original\", code]\n",
    "    frame_name = \"_\".join(prenames)\n",
    "    #print(frame_name)\n",
    "    frame_name = lab_data[lab_data['code_code_original'] == code]\n",
    "    frame_name = frame_name.add_suffix(code)\n",
    "    frame_name = frame_name.rename(columns= {frame_name.columns[0]:'studieID'})\n",
    "    list_of_data_frames.append(frame_name)\n",
    "    "
   ]
  },
  {
   "cell_type": "code",
   "execution_count": null,
   "id": "1617a066-743d-4113-8488-42f4f112f021",
   "metadata": {
    "tags": []
   },
   "outputs": [],
   "source": [
    "len(list_of_data_frames)"
   ]
  },
  {
   "cell_type": "code",
   "execution_count": null,
   "id": "55f5c675-e61f-4481-a5d1-4363371df7d3",
   "metadata": {
    "tags": []
   },
   "outputs": [],
   "source": [
    "len(new_codes)"
   ]
  },
  {
   "cell_type": "markdown",
   "id": "06f285e5-f7d5-4678-ac3d-7d8a09ac8dce",
   "metadata": {},
   "source": [
    "Let's look at an example:"
   ]
  },
  {
   "cell_type": "code",
   "execution_count": null,
   "id": "cd5ae36d-613c-4628-a9b4-c29f4ed8afb6",
   "metadata": {
    "tags": []
   },
   "outputs": [],
   "source": [
    "list_of_data_frames[0].head(3) "
   ]
  },
  {
   "cell_type": "code",
   "execution_count": null,
   "id": "f398f13a-3505-407e-a2b6-1ebfe32dd69b",
   "metadata": {
    "tags": []
   },
   "outputs": [],
   "source": [
    "list_of_data_frames[1].head(3) "
   ]
  },
  {
   "cell_type": "code",
   "execution_count": null,
   "id": "0ddb63ec-04b4-4b27-9406-c8ecbf3fbf88",
   "metadata": {
    "tags": []
   },
   "outputs": [],
   "source": [
    "list_of_data_frames[1].shape"
   ]
  },
  {
   "cell_type": "markdown",
   "id": "e0965d75-f330-4431-9b51-edff0f810a87",
   "metadata": {},
   "source": [
    "So far so good, we have a frame with in the example above the DBIL. We then tried to do a big reduction; but it produced repeaters"
   ]
  },
  {
   "cell_type": "code",
   "execution_count": null,
   "id": "233daf4a-57aa-4ad2-9b95-91cb0125d7eb",
   "metadata": {
    "tags": []
   },
   "outputs": [],
   "source": [
    "semi_final_df = reduce(lambda left,right: pd.merge(left,right, on=['studieID'], how='outer'), list_of_data_frames)"
   ]
  },
  {
   "cell_type": "code",
   "execution_count": null,
   "id": "40b58f8f-40f2-44d5-b80f-7fc910bb467c",
   "metadata": {
    "tags": []
   },
   "outputs": [],
   "source": [
    "semi_final_df.shape"
   ]
  },
  {
   "cell_type": "code",
   "execution_count": null,
   "id": "efa5264d-7ae5-4fca-99e8-20c2e2cfd1ef",
   "metadata": {
    "tags": []
   },
   "outputs": [],
   "source": [
    "semi_final_df.head(5)"
   ]
  },
  {
   "cell_type": "code",
   "execution_count": null,
   "id": "fe569a49-de2c-4b83-9b48-469ae6a85f44",
   "metadata": {
    "tags": []
   },
   "outputs": [],
   "source": [
    "for studieID in semi_final_df.studieID:\n",
    "    print(studieID)"
   ]
  },
  {
   "cell_type": "code",
   "execution_count": null,
   "id": "b7880280-c62a-4d3f-af19-8247ad6d08c6",
   "metadata": {
    "tags": []
   },
   "outputs": [],
   "source": [
    "# now we need to change the columns names to those expoected by scientist\n",
    "# for  f in semi_final_df.columns:\n",
    "#     print(f)"
   ]
  },
  {
   "cell_type": "code",
   "execution_count": null,
   "id": "5f003094-86a3-4815-8c3b-00ac76d283ec",
   "metadata": {
    "tags": []
   },
   "outputs": [],
   "source": [
    "list_keepable_amended_with_id = [\"valueQuantity_value\" + code for code in list_keepable_amended]\n",
    "# [code + \"0\" for code in codes]\n",
    "list_keepable_amended_with_id = list_keepable_amended_with_id + ['studieID'] + ['Participant Creation Date']\n",
    "#list_keepable_amended_with_id"
   ]
  },
  {
   "cell_type": "code",
   "execution_count": null,
   "id": "597c535e-4aa1-4eb5-af12-39cea867bf8a",
   "metadata": {
    "tags": []
   },
   "outputs": [],
   "source": [
    "final_amend = ['studieID',\n",
    "               #'Participant Creation Date',\n",
    "               'valueQuantity_valueCRP',\n",
    "                 'valueQuantity_valueFERT',\n",
    "                 'valueQuantity_valueTROMBO',\n",
    "                 'valueQuantity_valueMCV',\n",
    "                 'valueQuantity_valueK',\n",
    "                 'valueQuantity_valueFOLZ',\n",
    "                 'valueQuantity_valueHB',\n",
    "                 'valueQuantity_valueHT',\n",
    "                 'valueQuantity_valueUREU',\n",
    "                 'valueQuantity_valueVITD',\n",
    "                 'valueQuantity_valueGGT',\n",
    "                 'valueQuantity_valueALB_U',\n",
    "                 'valueQuantity_valueSCHWARTZ-Bedsite',\n",
    "                 'valueQuantity_valueASAT',\n",
    "                 'valueQuantity_valueERY',\n",
    "                 'valueQuantity_valueTBIL',\n",
    "                 'valueQuantity_valueDBIL',\n",
    "                 'valueQuantity_valueTE_U',\n",
    "                 'valueQuantity_valueTRAF',\n",
    "                 'valueQuantity_valueAFOS',\n",
    "                 'valueQuantity_valueNA',\n",
    "                 'valueQuantity_valueGRAT',\n",
    "                 'valueQuantity_valueLDH',\n",
    "                 'valueQuantity_valueFE',\n",
    "                 'valueQuantity_valueALB_U_KR',\n",
    "                 'valueQuantity_valueB12',\n",
    "                 'valueQuantity_valueLEU',\n",
    "                 'valueQuantity_valueRETI',\n",
    "                 'valueQuantity_valueTSAT',\n",
    "                 'valueQuantity_valueKREA_U',\n",
    "                 'valueQuantity_valueALAT',\n",
    "                 'valueQuantity_valueKREA',\n",
    "                 'valueQuantity_valueTE_U_KR',\n",
    "                 'valueQuantity_valueNRCA',\n",
    "                 'valueQuantity_valueRDW',]"
   ]
  },
  {
   "cell_type": "code",
   "execution_count": null,
   "id": "38107b3a-0751-42fb-9459-8386dab2a2bd",
   "metadata": {
    "tags": []
   },
   "outputs": [],
   "source": [
    "filtered = semi_final_df[final_amend]\n",
    "filtered"
   ]
  },
  {
   "cell_type": "code",
   "execution_count": null,
   "id": "5fe7f4c9-1697-4a40-a62a-9e42af318329",
   "metadata": {
    "tags": []
   },
   "outputs": [],
   "source": [
    "columns_dictionary = {'studieID':'Participant ID',\n",
    "                      'valueQuantity_valueCRP':'CRP0',  \n",
    "                      'valueQuantity_valueFERT':'FERT0',\n",
    "                      'valueQuantity_valueTROMBO':'TROMBO0',\n",
    "                      'valueQuantity_valueMCV':'MCV0',\n",
    "                      'valueQuantity_valueK':'K0',\n",
    "                      'valueQuantity_valueFOLZ':'FOLZ0',\n",
    "                      'valueQuantity_valueHB':'HB0',  \n",
    "                      'valueQuantity_valueHT':'HT0',\n",
    "                      'valueQuantity_valueUREU':'UREU0',  \n",
    "                      'valueQuantity_valueVITD':'VITD0',\n",
    "                      'valueQuantity_valueGGT':'GGT0',  \n",
    "                      'valueQuantity_valueALB_U':'ALB_U0',\n",
    "                      'valueQuantity_valueSCHWARTZ-Bedsite':'SCHWARTZ-Bedsite0',  \n",
    "                      'valueQuantity_valueASAT':'ASAT0',\n",
    "                      'valueQuantity_valueERY':'ERY0',  \n",
    "                      'valueQuantity_valueTBIL':'TBIL0',\n",
    "                      'valueQuantity_valueDBIL':'DBIL0',  \n",
    "                      'valueQuantity_valueTE_U':'TE_U0',\n",
    "                      'valueQuantity_valueTRAF':'TRAF0',  \n",
    "                      'valueQuantity_valueNA':'NA0',\n",
    "                      'valueQuantity_valueAFOS':'AFOS0',\n",
    "                      'valueQuantity_valueGRAT':'GRAT0',  \n",
    "                      'valueQuantity_valueLDH':'LDH0',\n",
    "                      'valueQuantity_valueFE':'FE0',  \n",
    "                      'valueQuantity_valueALB_U_KR':'ALB_U_KR0',\n",
    "                      'valueQuantity_valueB12':'B120',  \n",
    "                      'valueQuantity_valueLEU':'LEU0',\n",
    "                      'valueQuantity_valueRETI':'RETI0',  \n",
    "                      'valueQuantity_valueTSAT':'TSAT0',\n",
    "                      'valueQuantity_valueKREA_U':'KREA_U0',  \n",
    "                      'valueQuantity_valueALAT':'ALAT0',\n",
    "                      'valueQuantity_valueKREA':'KREA0',  \n",
    "                      'valueQuantity_valueTE_U_KR':'TE_U_KR0',\n",
    "                      'valueQuantity_valueNRCA':'NRCA0',  \n",
    "                      'valueQuantity_valueRDW':'RDW0'}\n",
    "filtered = filtered.rename(columns = columns_dictionary)\n",
    "filtered"
   ]
  },
  {
   "cell_type": "code",
   "execution_count": null,
   "id": "b9697cf7-a3c9-4804-9d87-8083141665b6",
   "metadata": {
    "tags": []
   },
   "outputs": [],
   "source": [
    "# Now we will do a remap + reduction on brick_12_urine\n",
    "twelve_list_of_data_frames = []\n",
    "for code in new_codes:\n",
    "    prenames = [\"code_code_original\", code]\n",
    "    frame_name = \"_\".join(prenames)\n",
    "    #print(frame_name)\n",
    "    frame_name = brick_12_urine[brick_12_urine['code_code_original'] == code]\n",
    "    frame_name = frame_name.add_suffix(code)\n",
    "    frame_name = frame_name.rename(columns= {frame_name.columns[0]:'studieID'})\n",
    "    twelve_list_of_data_frames.append(frame_name)\n",
    "    "
   ]
  },
  {
   "cell_type": "code",
   "execution_count": null,
   "id": "934e216f-2900-4e07-a312-0efa798f00c7",
   "metadata": {
    "tags": []
   },
   "outputs": [],
   "source": [
    "semi_final_twelve = reduce(lambda left,right: pd.merge(left,right, on=['studieID'], how='outer'), twelve_list_of_data_frames)\n",
    "semi_final_twelve = semi_final_twelve[final_amend]\n",
    "# semi_final_twelve_filtered = semi_final_twelve.rename(columns = columns_dictionary)\n",
    "# semi_final_twelve_filtered['ALB_U0']"
   ]
  },
  {
   "cell_type": "code",
   "execution_count": null,
   "id": "491829e6-89cd-4260-8380-0cda11c6ce25",
   "metadata": {
    "tags": []
   },
   "outputs": [],
   "source": [
    "semi_final_twelve = semi_final_twelve.rename(columns = columns_dictionary)\n",
    "semi_final_twelve.columns"
   ]
  },
  {
   "cell_type": "code",
   "execution_count": null,
   "id": "056e9b73-b87e-43bf-9730-184882b9399b",
   "metadata": {
    "tags": []
   },
   "outputs": [],
   "source": [
    "semi_final_twelve"
   ]
  },
  {
   "cell_type": "code",
   "execution_count": null,
   "id": "12a0e725-07f5-4f87-932f-5a98b617249b",
   "metadata": {
    "tags": []
   },
   "outputs": [],
   "source": [
    "filtered.columns"
   ]
  },
  {
   "cell_type": "code",
   "execution_count": null,
   "id": "92f8bdc0-f7b6-471d-ac0e-7c43aee74cd7",
   "metadata": {
    "tags": []
   },
   "outputs": [],
   "source": [
    "filtered['Participant Status']= 'Enrolled'"
   ]
  },
  {
   "cell_type": "code",
   "execution_count": null,
   "id": "40655a18-e6c3-404e-afcd-00070f475571",
   "metadata": {
    "tags": []
   },
   "outputs": [],
   "source": [
    "filtered['Site Abbreviation'] = 'ERA'"
   ]
  },
  {
   "cell_type": "markdown",
   "id": "41964960-144d-4e65-85df-bad8530219c0",
   "metadata": {
    "tags": []
   },
   "source": [
    "No idea where to get Participant Creation Date from ...it isn'tteh same as lab date, so let's leave it out."
   ]
  },
  {
   "cell_type": "code",
   "execution_count": null,
   "id": "30f07d05-58ac-47b2-a6cd-7b49514e5a99",
   "metadata": {
    "tags": []
   },
   "outputs": [],
   "source": [
    "filtered.shape"
   ]
  },
  {
   "cell_type": "code",
   "execution_count": null,
   "id": "62d47fba-daa2-4bbe-a6c8-cfc45be247d6",
   "metadata": {
    "tags": []
   },
   "outputs": [],
   "source": [
    "filtered_plus = pd.concat([filtered,semi_final_twelve])\n",
    "filtered_plus"
   ]
  },
  {
   "cell_type": "code",
   "execution_count": null,
   "id": "839d095b-3e29-42e2-9135-e4ecc5560ce4",
   "metadata": {
    "tags": []
   },
   "outputs": [],
   "source": [
    "filtered_plus.to_csv('../../secret_data/castor_with_salt_baseline_labs.csv')"
   ]
  },
  {
   "cell_type": "code",
   "execution_count": null,
   "id": "441efc7c-968e-483e-9af4-23edb8582bb6",
   "metadata": {},
   "outputs": [],
   "source": []
  },
  {
   "cell_type": "code",
   "execution_count": null,
   "id": "2b76f004-4c5c-4615-a67e-1a78fa5587f4",
   "metadata": {},
   "outputs": [],
   "source": []
  }
 ],
 "metadata": {
  "kernelspec": {
   "display_name": "Python 3 (ipykernel)",
   "language": "python",
   "name": "python3"
  },
  "language_info": {
   "codemirror_mode": {
    "name": "ipython",
    "version": 3
   },
   "file_extension": ".py",
   "mimetype": "text/x-python",
   "name": "python",
   "nbconvert_exporter": "python",
   "pygments_lexer": "ipython3",
   "version": "3.11.8"
  }
 },
 "nbformat": 4,
 "nbformat_minor": 5
}
