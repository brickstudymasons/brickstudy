{
 "cells": [
  {
   "cell_type": "markdown",
   "id": "dee3dba5-ae6f-4308-811f-3537433de8cb",
   "metadata": {},
   "source": [
    "# Join labs and score key"
   ]
  },
  {
   "cell_type": "code",
   "execution_count": null,
   "id": "04c5598b-d395-4ff0-9dbb-02005185bf05",
   "metadata": {
    "tags": []
   },
   "outputs": [],
   "source": [
    "import os\n",
    "import sys\n",
    "from functools import reduce\n",
    "import pandas as pd\n",
    "import numpy as np\n",
    "import seaborn as sns\n",
    "import matplotlib.pyplot as plt\n",
    "\n",
    "sys.path.insert(0, '../../')\n",
    "from brickstudy import foundation"
   ]
  },
  {
   "cell_type": "code",
   "execution_count": null,
   "id": "bd048c80-72dc-4ebe-be52-6a3e29054678",
   "metadata": {
    "tags": []
   },
   "outputs": [],
   "source": [
    "transformed_lab = pd.read_csv(\"../../secret_data/full_labs_together.csv\", sep=\",\", index_col=0)\n",
    "transformed_lab = transformed_lab.rename(columns = {'studieID':'Participant Id'}) \n",
    "transformed_lab.head(3) "
   ]
  },
  {
   "cell_type": "code",
   "execution_count": null,
   "id": "76898523-f6f5-4fbb-bd05-a49fec4eff2b",
   "metadata": {
    "tags": []
   },
   "outputs": [],
   "source": [
    "transformed_lab.shape"
   ]
  },
  {
   "cell_type": "code",
   "execution_count": null,
   "id": "c6550c7a-652d-441f-9037-2c0aa7c37204",
   "metadata": {
    "tags": []
   },
   "outputs": [],
   "source": [
    "transformed_lab.shape[0]*transformed_lab.shape[1]"
   ]
  },
  {
   "cell_type": "code",
   "execution_count": null,
   "id": "8a6fd1c5-f8b7-4e29-b056-a042e22992fb",
   "metadata": {
    "tags": []
   },
   "outputs": [],
   "source": [
    "# read in score key and replace psuedo-imputed values\n",
    "score_key = pd.read_csv('../../secret_data/brick_score_key_21_6_2024.csv', index_col=0)\n",
    "score_key.head(3)"
   ]
  },
  {
   "cell_type": "code",
   "execution_count": null,
   "id": "84d777a4-3148-49af-acc4-fe1fc9537cb1",
   "metadata": {
    "tags": []
   },
   "outputs": [],
   "source": [
    "score_key['Site Abbreviation_y']"
   ]
  },
  {
   "cell_type": "code",
   "execution_count": null,
   "id": "09b2706a-6284-4e6a-bf62-40a5b5d1f3f1",
   "metadata": {
    "tags": []
   },
   "outputs": [],
   "source": [
    "score_key.columns"
   ]
  },
  {
   "cell_type": "code",
   "execution_count": null,
   "id": "6b84466f-24aa-4d60-ae8b-608e428a71aa",
   "metadata": {
    "tags": []
   },
   "outputs": [],
   "source": [
    "score_key['orpha_code_id'][6]"
   ]
  },
  {
   "cell_type": "code",
   "execution_count": null,
   "id": "a788fe68-8593-40d8-9bff-0ff3fac632f1",
   "metadata": {},
   "outputs": [],
   "source": [
    "'Sickle cell disease and related diseases (SCDeep) ( ORPHA 275752 )'"
   ]
  },
  {
   "cell_type": "code",
   "execution_count": null,
   "id": "48eb0632-b022-4412-a7c0-bf1b79368d76",
   "metadata": {
    "tags": []
   },
   "outputs": [],
   "source": [
    "score_key.shape"
   ]
  },
  {
   "cell_type": "code",
   "execution_count": null,
   "id": "349a2ba8-36df-4585-8576-46429393656a",
   "metadata": {
    "tags": []
   },
   "outputs": [],
   "source": [
    "len(score_key['Participant Id'].unique())"
   ]
  },
  {
   "cell_type": "code",
   "execution_count": null,
   "id": "f1598591-2c01-4be3-805f-a071b126abe1",
   "metadata": {
    "tags": []
   },
   "outputs": [],
   "source": [
    "score_key = score_key.rename(columns={'Participant Id': 'Participant ID'})"
   ]
  },
  {
   "cell_type": "code",
   "execution_count": null,
   "id": "cd521e03-8910-4513-ac1b-36232a790a36",
   "metadata": {
    "tags": []
   },
   "outputs": [],
   "source": [
    "#score_key.drop?"
   ]
  },
  {
   "cell_type": "code",
   "execution_count": null,
   "id": "d54a0b4e-764b-49fa-9322-823f5cfd3099",
   "metadata": {
    "tags": []
   },
   "outputs": [],
   "source": [
    "score_key = score_key.drop('Site Abbreviation_y', axis=1)\n",
    "score_key.shape"
   ]
  },
  {
   "cell_type": "code",
   "execution_count": null,
   "id": "b93ee95a-87d3-4359-93a7-cd22bf6a1158",
   "metadata": {
    "tags": []
   },
   "outputs": [],
   "source": [
    "score_key.to_csv('../../secret_data/brick_score_upload_castor3.csv')"
   ]
  },
  {
   "cell_type": "code",
   "execution_count": null,
   "id": "fdc0799e-458f-41d2-a6ce-a044500651ab",
   "metadata": {
    "tags": []
   },
   "outputs": [],
   "source": [
    "score_key.columns"
   ]
  },
  {
   "cell_type": "code",
   "execution_count": null,
   "id": "e526e3ad-2d98-4884-8af6-2cee026461c9",
   "metadata": {
    "tags": []
   },
   "outputs": [],
   "source": [
    "score_key"
   ]
  },
  {
   "cell_type": "code",
   "execution_count": null,
   "id": "cfb4e092-9578-45f6-88ea-9f962920d50e",
   "metadata": {
    "tags": []
   },
   "outputs": [],
   "source": [
    "score_key.describe()"
   ]
  },
  {
   "cell_type": "code",
   "execution_count": null,
   "id": "910ab827-2e3d-4a7f-abd9-931823b2f364",
   "metadata": {
    "tags": []
   },
   "outputs": [],
   "source": [
    "score_and_lab = score_key.merge(transformed_lab, on='Participant Id')"
   ]
  },
  {
   "cell_type": "code",
   "execution_count": null,
   "id": "8acd81d7-265b-4796-8849-86430c7bcf59",
   "metadata": {
    "tags": []
   },
   "outputs": [],
   "source": [
    "score_and_lab.shape"
   ]
  },
  {
   "cell_type": "code",
   "execution_count": null,
   "id": "c2bd473d-2e17-4ccc-a20f-0e50410f4383",
   "metadata": {
    "tags": []
   },
   "outputs": [],
   "source": [
    "score_and_lab.to_csv('../../secret_data/brick_score_lab_upload_castor.csv')"
   ]
  },
  {
   "cell_type": "code",
   "execution_count": null,
   "id": "8eaca22d-af69-4fd9-b8a3-a8a5221a4c69",
   "metadata": {},
   "outputs": [],
   "source": []
  }
 ],
 "metadata": {
  "kernelspec": {
   "display_name": "Python 3 (ipykernel)",
   "language": "python",
   "name": "python3"
  },
  "language_info": {
   "codemirror_mode": {
    "name": "ipython",
    "version": 3
   },
   "file_extension": ".py",
   "mimetype": "text/x-python",
   "name": "python",
   "nbconvert_exporter": "python",
   "pygments_lexer": "ipython3",
   "version": "3.11.8"
  }
 },
 "nbformat": 4,
 "nbformat_minor": 5
}
