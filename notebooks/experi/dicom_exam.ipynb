{
 "cells": [
  {
   "cell_type": "code",
   "execution_count": null,
   "id": "64e66537-f706-4e70-a0a3-1803537f5b6a",
   "metadata": {
    "tags": []
   },
   "outputs": [],
   "source": [
    "import os\n",
    "import sys\n",
    "from functools import reduce\n",
    "import pandas as pd\n",
    "import numpy as np\n",
    "import seaborn as sns\n",
    "import matplotlib.pyplot as plt\n",
    "import imageio.v3 as iio\n",
    "\n",
    "sys.path.insert(0, '../../')\n",
    "from brickstudy import foundation\n",
    "\n"
   ]
  },
  {
   "cell_type": "code",
   "execution_count": null,
   "id": "0332a30b-fe17-4782-b0f6-9e409601b710",
   "metadata": {
    "tags": []
   },
   "outputs": [],
   "source": [
    "folder2 = 'Z:/MRIs/transfer_2217763_files_3b695c8d/BRICK-002/BRICK-002/20220620/MR/3D_TOF_2SLAB'"
   ]
  },
  {
   "cell_type": "code",
   "execution_count": null,
   "id": "34aa4798-31bd-430b-a3a5-38b0c9f3b49a",
   "metadata": {
    "tags": []
   },
   "outputs": [],
   "source": [
    "file_in_2 = '1.2.826.0.1.3680043.10.104.1014251955040146932565843067087084033'"
   ]
  },
  {
   "cell_type": "code",
   "execution_count": null,
   "id": "f8197dd3-92fc-454f-ad6f-f037fd205be5",
   "metadata": {
    "tags": []
   },
   "outputs": [],
   "source": [
    "folder = 'Z:/MRIs/transfer_2217763_files_3b695c8d/BRICK-002'"
   ]
  },
  {
   "cell_type": "code",
   "execution_count": null,
   "id": "409f01dd-635b-4562-8b55-0d9d411f2da0",
   "metadata": {
    "tags": []
   },
   "outputs": [],
   "source": [
    "file = os.path.join(folder2, file_in_2)\n",
    "im = iio.imread(file)"
   ]
  },
  {
   "cell_type": "code",
   "execution_count": null,
   "id": "9b86cfa1-6f50-4afb-8410-acfcc46e244e",
   "metadata": {
    "tags": []
   },
   "outputs": [],
   "source": [
    "print(type(im))"
   ]
  },
  {
   "cell_type": "code",
   "execution_count": null,
   "id": "d5151e24-d5c8-46e0-8cf9-15b9eea2c5c6",
   "metadata": {
    "tags": []
   },
   "outputs": [],
   "source": [
    "for entry in os.scandir(folder2):\n",
    "    print(entry)"
   ]
  },
  {
   "cell_type": "code",
   "execution_count": null,
   "id": "ff991350-a03f-4327-83f3-17dc2afcac4c",
   "metadata": {
    "tags": []
   },
   "outputs": [],
   "source": [
    "os.scandir?"
   ]
  },
  {
   "cell_type": "code",
   "execution_count": null,
   "id": "c5e8981f-df53-4d91-bea0-704fb75bf527",
   "metadata": {
    "tags": []
   },
   "outputs": [],
   "source": [
    "os.listdir?"
   ]
  },
  {
   "cell_type": "code",
   "execution_count": null,
   "id": "b80e4e30-8de5-41f3-9350-e4a92316077b",
   "metadata": {},
   "outputs": [],
   "source": []
  }
 ],
 "metadata": {
  "kernelspec": {
   "display_name": "Python 3 (ipykernel)",
   "language": "python",
   "name": "python3"
  },
  "language_info": {
   "codemirror_mode": {
    "name": "ipython",
    "version": 3
   },
   "file_extension": ".py",
   "mimetype": "text/x-python",
   "name": "python",
   "nbconvert_exporter": "python",
   "pygments_lexer": "ipython3",
   "version": "3.12.3"
  }
 },
 "nbformat": 4,
 "nbformat_minor": 5
}
