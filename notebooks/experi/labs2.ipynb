{
 "cells": [
  {
   "cell_type": "markdown",
   "id": "0",
   "metadata": {},
   "source": [
    "# Checking lab data"
   ]
  },
  {
   "cell_type": "code",
   "execution_count": null,
   "id": "1",
   "metadata": {
    "tags": []
   },
   "outputs": [],
   "source": [
    "import os\n",
    "import sys\n",
    "from functools import reduce\n",
    "import pandas as pd\n",
    "import numpy as np\n",
    "import seaborn as sns\n",
    "import matplotlib.pyplot as plt\n",
    "import ipywidgets as widgets\n",
    "from functools import reduce\n",
    "\n",
    "sys.path.insert(0, '../../')\n",
    "from brickstudy import foundation"
   ]
  },
  {
   "cell_type": "code",
   "execution_count": null,
   "id": "2",
   "metadata": {
    "tags": []
   },
   "outputs": [],
   "source": [
    "lab_data = pd.read_csv('../../secret_data/BRICK_lab_data_update_18_03_2024.csv', sep= ';', encoding='latin1')\n",
    "                         "
   ]
  },
  {
   "cell_type": "code",
   "execution_count": null,
   "id": "3",
   "metadata": {
    "tags": []
   },
   "outputs": [],
   "source": [
    "lab_data.head(3)"
   ]
  },
  {
   "cell_type": "code",
   "execution_count": null,
   "id": "4",
   "metadata": {
    "tags": []
   },
   "outputs": [],
   "source": [
    "lab_data.shape"
   ]
  },
  {
   "cell_type": "code",
   "execution_count": null,
   "id": "5",
   "metadata": {
    "tags": []
   },
   "outputs": [],
   "source": [
    "lab_data['studieID'].unique()"
   ]
  },
  {
   "cell_type": "code",
   "execution_count": null,
   "id": "6",
   "metadata": {
    "tags": []
   },
   "outputs": [],
   "source": [
    "len(lab_data['studieID'].unique())"
   ]
  },
  {
   "cell_type": "code",
   "execution_count": null,
   "id": "598f35f7-8df1-435b-b159-cd4730f80930",
   "metadata": {
    "tags": []
   },
   "outputs": [],
   "source": [
    "#set(lab_data['studieID'].unique())"
   ]
  },
  {
   "cell_type": "markdown",
   "id": "7",
   "metadata": {},
   "source": [
    "## So we have 47 patients, this will be extremely important later!\n",
    "Below we will reformat the studieID to be in the same format as patient ID, i.e. with a _ instead of a -"
   ]
  },
  {
   "cell_type": "code",
   "execution_count": null,
   "id": "8",
   "metadata": {
    "tags": []
   },
   "outputs": [],
   "source": [
    "lab_data['studieID'] = lab_data['studieID'].astype(str)\n",
    "lab_data['studieID'] = lab_data['studieID'].str.replace(\"-\", \"_\")"
   ]
  },
  {
   "cell_type": "code",
   "execution_count": null,
   "id": "9",
   "metadata": {
    "tags": []
   },
   "outputs": [],
   "source": [
    "lab_data.head(3)"
   ]
  },
  {
   "cell_type": "markdown",
   "id": "10",
   "metadata": {},
   "source": [
    "## We want in theory all the patients on thier own line, but not many lines per patient\n",
    "We will try to accomplish this by splitting the dataset into each code-code-original i.e. each type of lab taken on the assumption we will almost always have one ;ab"
   ]
  },
  {
   "cell_type": "code",
   "execution_count": null,
   "id": "11",
   "metadata": {
    "tags": []
   },
   "outputs": [],
   "source": [
    "lab_data.code_code_original.unique()"
   ]
  },
  {
   "cell_type": "markdown",
   "id": "12",
   "metadata": {},
   "source": [
    "Notice there is a nan code. This will not work out well for us. It turns out it is in this dataset always teh case with Natrium. We will make the code, a string"
   ]
  },
  {
   "cell_type": "code",
   "execution_count": null,
   "id": "13",
   "metadata": {
    "tags": []
   },
   "outputs": [],
   "source": [
    "codes = lab_data.code_code_original.unique().astype(str)\n",
    "codes"
   ]
  },
  {
   "cell_type": "code",
   "execution_count": null,
   "id": "14",
   "metadata": {
    "tags": []
   },
   "outputs": [],
   "source": [
    "len(codes)"
   ]
  },
  {
   "cell_type": "markdown",
   "id": "15",
   "metadata": {},
   "source": [
    "Scientists not interested in ICT, LIP, HEM, ORD8, BAF9 or EX_LUMC therefore we will drop these values"
   ]
  },
  {
   "cell_type": "code",
   "execution_count": null,
   "id": "16",
   "metadata": {
    "tags": []
   },
   "outputs": [],
   "source": [
    "lab_data = lab_data.drop(lab_data[lab_data['code_code_original']== 'ICT'].index)\n",
    "lab_data = lab_data.drop(lab_data[lab_data['code_code_original']== 'LIP'].index)\n",
    "lab_data = lab_data.drop(lab_data[lab_data['code_code_original']== 'HEM'].index)\n",
    "lab_data = lab_data.drop(lab_data[lab_data['code_code_original']== 'ORD8'].index)\n",
    "lab_data = lab_data.drop(lab_data[lab_data['code_code_original']== 'BAF9'].index)\n",
    "lab_data = lab_data.drop(lab_data[lab_data['code_code_original']== 'EX_LUMC'].index)"
   ]
  },
  {
   "cell_type": "code",
   "execution_count": null,
   "id": "17",
   "metadata": {
    "tags": []
   },
   "outputs": [],
   "source": [
    "lab_data"
   ]
  },
  {
   "cell_type": "markdown",
   "id": "18",
   "metadata": {},
   "source": [
    "Scientist wants Brick-55 only on 17-11-23 11:53, BRICK_23 only on 15-06-2023, BRICK-008 oly on 10:05:15,\n",
    "and special treatment for brick-25/ We can't find date on brick23 and fix 25 yet"
   ]
  },
  {
   "cell_type": "code",
   "execution_count": null,
   "id": "19",
   "metadata": {},
   "outputs": [],
   "source": []
  },
  {
   "cell_type": "code",
   "execution_count": null,
   "id": "20",
   "metadata": {
    "tags": []
   },
   "outputs": [],
   "source": [
    "lab_data[lab_data['studieID'] == 'BRICK_025']"
   ]
  },
  {
   "cell_type": "code",
   "execution_count": null,
   "id": "21",
   "metadata": {
    "tags": []
   },
   "outputs": [],
   "source": [
    "#brick_25_wanted \n",
    "brick_25_mcv_wanted = lab_data[lab_data['studieID'] == 'BRICK_025'][lab_data['effectiveDateTime'] == '2022-09-12 15:52:42.0000000']\n",
    "\n",
    "brick_25_mcv_wanted"
   ]
  },
  {
   "cell_type": "markdown",
   "id": "22",
   "metadata": {},
   "source": [
    "The urine was not done at 14:44 rather 15:44"
   ]
  },
  {
   "cell_type": "code",
   "execution_count": null,
   "id": "23",
   "metadata": {
    "tags": []
   },
   "outputs": [],
   "source": [
    "brick_25_urine_wanted = lab_data[lab_data['studieID'] == 'BRICK_025'][lab_data['effectiveDateTime'] == '2022-09-12 15:44:02.0000000']\n",
    "brick_25_urine_wanted"
   ]
  },
  {
   "cell_type": "code",
   "execution_count": null,
   "id": "24",
   "metadata": {
    "tags": []
   },
   "outputs": [],
   "source": [
    "# cut brick 23 to requested\n",
    "brick_23_wanted = lab_data[lab_data['studieID'] == 'BRICK_023'][lab_data['effectiveDateTime'] == '2023-07-17 12:34:47.0000000']"
   ]
  },
  {
   "cell_type": "code",
   "execution_count": null,
   "id": "25",
   "metadata": {
    "tags": []
   },
   "outputs": [],
   "source": [
    "#get the brick8 we want\n",
    "brick_8_wanted = lab_data[lab_data['studieID'] == 'BRICK_008'][lab_data['effectiveDateTime'] == '2022-08-29 10:05:12.0000000']\n"
   ]
  },
  {
   "cell_type": "code",
   "execution_count": null,
   "id": "26",
   "metadata": {
    "tags": []
   },
   "outputs": [],
   "source": [
    "# here are the brick 55 we want\n",
    "\n",
    "brick_55_wanted = lab_data[lab_data['studieID'] == 'BRICK_055'][lab_data['effectiveDateTime'] == '2023-11-17 11:35:12.0000000']\n",
    "\n",
    "#now let's drop all of them, then append back on what we want\n",
    "lab_data_no_ = lab_data.drop(lab_data[lab_data['studieID'] == 'BRICK_055'].index)\n",
    "lab_data_no_ = lab_data_no_.drop(lab_data[lab_data['studieID'] == 'BRICK_008'].index)\n",
    "lab_data_no_ = lab_data_no_.drop(lab_data[lab_data['studieID'] == 'BRICK_023'].index)\n",
    "lab_data_no_ = lab_data_no_.drop(lab_data[lab_data['studieID'] == 'BRICK_025'].index)\n",
    "#lab_data = "
   ]
  },
  {
   "cell_type": "code",
   "execution_count": null,
   "id": "27",
   "metadata": {
    "tags": []
   },
   "outputs": [],
   "source": [
    "lab_data_no_.columns"
   ]
  },
  {
   "cell_type": "code",
   "execution_count": null,
   "id": "28",
   "metadata": {
    "tags": []
   },
   "outputs": [],
   "source": [
    "brick_25_mcv_wanted.shape"
   ]
  },
  {
   "cell_type": "code",
   "execution_count": null,
   "id": "29",
   "metadata": {
    "tags": []
   },
   "outputs": [],
   "source": [
    "brick_25_urine_wanted.shape"
   ]
  },
  {
   "cell_type": "code",
   "execution_count": null,
   "id": "30",
   "metadata": {
    "tags": []
   },
   "outputs": [],
   "source": [
    "brick_25_mcv_wanted.head(3)"
   ]
  },
  {
   "cell_type": "markdown",
   "id": "31",
   "metadata": {},
   "source": [
    "# now to merge we will need to replace the effectiveDateTime in one (the urine) columns with a placeholder"
   ]
  },
  {
   "cell_type": "code",
   "execution_count": null,
   "id": "32",
   "metadata": {
    "tags": []
   },
   "outputs": [],
   "source": [
    "brick_25_urine_wanted['effectiveDateTime'] = '2022-09-12 15:52:42.0000000'\n",
    "brick_25_urine_wanted"
   ]
  },
  {
   "cell_type": "code",
   "execution_count": null,
   "id": "33",
   "metadata": {
    "tags": []
   },
   "outputs": [],
   "source": [
    "brick_25_wanted = pd.concat([brick_25_urine_wanted, brick_25_mcv_wanted])\n",
    "brick_25_wanted = brick_25_wanted.reset_index(drop=True)\n",
    "brick_25_wanted.head(3)"
   ]
  },
  {
   "cell_type": "code",
   "execution_count": null,
   "id": "34",
   "metadata": {
    "tags": []
   },
   "outputs": [],
   "source": [
    "brick_25_wanted.shape"
   ]
  },
  {
   "cell_type": "code",
   "execution_count": null,
   "id": "35",
   "metadata": {
    "tags": []
   },
   "outputs": [],
   "source": [
    "brick_55_wanted.shape"
   ]
  },
  {
   "cell_type": "code",
   "execution_count": null,
   "id": "36",
   "metadata": {
    "tags": []
   },
   "outputs": [],
   "source": [
    "brick_8_wanted.shape"
   ]
  },
  {
   "cell_type": "code",
   "execution_count": null,
   "id": "37",
   "metadata": {
    "tags": []
   },
   "outputs": [],
   "source": [
    "lab_data_no_.shape"
   ]
  },
  {
   "cell_type": "code",
   "execution_count": null,
   "id": "38",
   "metadata": {
    "tags": []
   },
   "outputs": [],
   "source": [
    "lab_data = pd.concat([lab_data_no_,brick_55_wanted, brick_8_wanted,  brick_23_wanted, brick_25_wanted])\n",
    "lab_data.shape"
   ]
  },
  {
   "cell_type": "code",
   "execution_count": null,
   "id": "39",
   "metadata": {
    "tags": []
   },
   "outputs": [],
   "source": [
    "lab_data = lab_data.reset_index(drop=True)\n",
    "lab_data"
   ]
  },
  {
   "cell_type": "code",
   "execution_count": null,
   "id": "40",
   "metadata": {
    "tags": []
   },
   "outputs": [],
   "source": []
  },
  {
   "cell_type": "markdown",
   "id": "41",
   "metadata": {},
   "source": [
    "We will split off the dataframes, then check to make sure we get something for every code"
   ]
  },
  {
   "cell_type": "code",
   "execution_count": null,
   "id": "42",
   "metadata": {
    "tags": []
   },
   "outputs": [],
   "source": [
    "list_of_data_frames = []\n",
    "for code in codes:\n",
    "    prenames = [\"code_code_original\", code]\n",
    "    frame_name = \"_\".join(prenames)\n",
    "    #print(frame_name)\n",
    "    frame_name = lab_data[lab_data['code_code_original'] == code]\n",
    "    frame_name = frame_name.add_suffix(code)\n",
    "    frame_name = frame_name.rename(columns= {frame_name.columns[0]:'studieID'})\n",
    "    list_of_data_frames.append(frame_name)\n",
    "    "
   ]
  },
  {
   "cell_type": "code",
   "execution_count": null,
   "id": "43",
   "metadata": {
    "tags": []
   },
   "outputs": [],
   "source": [
    "len(list_of_data_frames)"
   ]
  },
  {
   "cell_type": "code",
   "execution_count": null,
   "id": "44",
   "metadata": {
    "tags": []
   },
   "outputs": [],
   "source": [
    "len(codes)"
   ]
  },
  {
   "cell_type": "markdown",
   "id": "45",
   "metadata": {},
   "source": [
    "Let's look at an example:"
   ]
  },
  {
   "cell_type": "code",
   "execution_count": null,
   "id": "46",
   "metadata": {
    "tags": []
   },
   "outputs": [],
   "source": [
    "list_of_data_frames[0].head(3) "
   ]
  },
  {
   "cell_type": "code",
   "execution_count": null,
   "id": "47",
   "metadata": {
    "tags": []
   },
   "outputs": [],
   "source": [
    "list_of_data_frames[1].head(3) "
   ]
  },
  {
   "cell_type": "code",
   "execution_count": null,
   "id": "48",
   "metadata": {
    "tags": []
   },
   "outputs": [],
   "source": [
    "list_of_data_frames[1].shape"
   ]
  },
  {
   "cell_type": "markdown",
   "id": "49",
   "metadata": {},
   "source": [
    "So far so good, we have a frame with in the example above the DBIL. We then tried to do a big reduction; but it produced repeaters"
   ]
  },
  {
   "cell_type": "code",
   "execution_count": null,
   "id": "50",
   "metadata": {
    "tags": []
   },
   "outputs": [],
   "source": [
    "final_df = reduce(lambda left,right: pd.merge(left,right, on=['studieID'], how='outer'), list_of_data_frames)"
   ]
  },
  {
   "cell_type": "code",
   "execution_count": null,
   "id": "51",
   "metadata": {
    "tags": []
   },
   "outputs": [],
   "source": [
    "final_df.shape"
   ]
  },
  {
   "cell_type": "code",
   "execution_count": null,
   "id": "e7b3070e-247a-4cb3-ad5d-dfa262c0e1f7",
   "metadata": {
    "tags": []
   },
   "outputs": [],
   "source": [
    "final_df"
   ]
  },
  {
   "cell_type": "code",
   "execution_count": null,
   "id": "35b5d282-c355-4d24-a037-fea21c323a8d",
   "metadata": {},
   "outputs": [],
   "source": []
  },
  {
   "cell_type": "code",
   "execution_count": null,
   "id": "52",
   "metadata": {
    "tags": []
   },
   "outputs": [],
   "source": [
    "final_df.head(30)"
   ]
  },
  {
   "cell_type": "code",
   "execution_count": null,
   "id": "36b55f97-e328-4226-87c5-1956838007b8",
   "metadata": {
    "tags": []
   },
   "outputs": [],
   "source": [
    "30*1582"
   ]
  },
  {
   "cell_type": "code",
   "execution_count": null,
   "id": "53",
   "metadata": {
    "tags": []
   },
   "outputs": [],
   "source": [
    "final_df.to_csv('../../secret_data/full_labs_UPDATES_assembled_22_6_2024.csv')"
   ]
  },
  {
   "cell_type": "code",
   "execution_count": null,
   "id": "316dd391-35aa-4882-ab5b-3c724e198612",
   "metadata": {
    "tags": []
   },
   "outputs": [],
   "source": [
    "final_df.head(3)"
   ]
  },
  {
   "cell_type": "code",
   "execution_count": null,
   "id": "bd74bd62-3f8c-4c95-a59b-9b88e39c1498",
   "metadata": {
    "tags": []
   },
   "outputs": [],
   "source": [
    "df =  pd.read_csv('../../secret_data/full_labs_UPDATES_assembled_22_6_2024.csv', index_col=1)\n",
    "df"
   ]
  },
  {
   "cell_type": "code",
   "execution_count": null,
   "id": "5a41d76e-2af2-41a6-9e88-81f307a7d2d6",
   "metadata": {
    "tags": []
   },
   "outputs": [],
   "source": [
    "df = df.drop('Unnamed: 0', axis=1)\n",
    "df"
   ]
  },
  {
   "cell_type": "code",
   "execution_count": null,
   "id": "cf2c3b14-9f8e-4293-a7bd-826b98b89315",
   "metadata": {
    "tags": []
   },
   "outputs": [],
   "source": [
    "df.columns"
   ]
  },
  {
   "cell_type": "code",
   "execution_count": null,
   "id": "4d94d7e6-9fe0-4bcb-a5c1-1d3fe7d2e80f",
   "metadata": {
    "tags": []
   },
   "outputs": [],
   "source": [
    "df.to_csv('../../secret_data/castor_ready_labs_from_2023_made_22_6_2024.csv')"
   ]
  },
  {
   "cell_type": "code",
   "execution_count": null,
   "id": "f3cf5d0d-6ada-4ad5-bd29-9100e17cac84",
   "metadata": {
    "tags": []
   },
   "outputs": [],
   "source": [
    "df_top = df[:15]\n",
    "df_top"
   ]
  },
  {
   "cell_type": "code",
   "execution_count": null,
   "id": "e4d686ba-1a40-438f-9d0e-6f6425853262",
   "metadata": {
    "tags": []
   },
   "outputs": [],
   "source": [
    "df_top.to_csv('../../secret_data/castor_ready_labs_first_third_from_2023_made_22_6_2024.csv')"
   ]
  },
  {
   "cell_type": "markdown",
   "id": "54",
   "metadata": {},
   "source": [
    "We NO LONGER needed to examine why this happened so we took a look by hand:"
   ]
  },
  {
   "cell_type": "code",
   "execution_count": null,
   "id": "55",
   "metadata": {
    "tags": []
   },
   "outputs": [],
   "source": [
    "stop"
   ]
  },
  {
   "cell_type": "code",
   "execution_count": null,
   "id": "56",
   "metadata": {
    "tags": []
   },
   "outputs": [],
   "source": [
    "final_df2 = list_of_data_frames[0].merge(list_of_data_frames[1], on=['studieID'], how='outer')"
   ]
  },
  {
   "cell_type": "code",
   "execution_count": null,
   "id": "57",
   "metadata": {
    "tags": []
   },
   "outputs": [],
   "source": [
    "final_df2 = final_df2.merge(list_of_data_frames[3], on=['studieID'], how='outer').merge(list_of_data_frames[4], on=['studieID'], how='outer')"
   ]
  },
  {
   "cell_type": "code",
   "execution_count": null,
   "id": "58",
   "metadata": {
    "tags": []
   },
   "outputs": [],
   "source": [
    "final_df2"
   ]
  },
  {
   "cell_type": "code",
   "execution_count": null,
   "id": "59",
   "metadata": {
    "tags": []
   },
   "outputs": [],
   "source": [
    "final_df2 = final_df2.merge(list_of_data_frames[5], on=['studieID'], how='outer').merge(list_of_data_frames[6], on=['studieID'], how='outer')"
   ]
  },
  {
   "cell_type": "code",
   "execution_count": null,
   "id": "60",
   "metadata": {
    "tags": []
   },
   "outputs": [],
   "source": [
    "len(final_df2)"
   ]
  },
  {
   "cell_type": "code",
   "execution_count": null,
   "id": "61",
   "metadata": {
    "tags": []
   },
   "outputs": [],
   "source": [
    "final_df2 = final_df2.merge(\n",
    "    list_of_data_frames[7], on=['studieID'], how='outer'\n",
    ").merge(list_of_data_frames[8], on=['studieID'], how='outer'\n",
    ").merge(list_of_data_frames[9], on=['studieID'], how='outer'\n",
    ").merge(list_of_data_frames[10], on=['studieID'], how='outer'\n",
    ").merge(list_of_data_frames[11], on=['studieID'], how='outer'\n",
    ").merge(list_of_data_frames[12], on=['studieID'], how='outer'\n",
    ").merge(list_of_data_frames[13], on=['studieID'], how='outer'\n",
    ").merge(list_of_data_frames[14], on=['studieID'], how='outer'\n",
    ").merge(list_of_data_frames[15], on=['studieID'], how='outer'\n",
    ").merge(list_of_data_frames[16], on=['studieID'], how='outer'\n",
    ").merge(list_of_data_frames[17], on=['studieID'], how='outer'\n",
    ").merge(list_of_data_frames[18], on=['studieID'], how='outer'\n",
    ").merge(list_of_data_frames[19], on=['studieID'], how='outer'\n",
    ").merge(list_of_data_frames[20], on=['studieID'], how='outer'\n",
    ").merge(list_of_data_frames[21], on=['studieID'], how='outer'\n",
    ").merge(list_of_data_frames[22], on=['studieID'], how='outer'\n",
    ").merge(list_of_data_frames[23], on=['studieID'], how='outer'\n",
    "# ).merge(list_of_data_frames[24], on=['studieID'], how='outer'\n",
    "# ).merge(list_of_data_frames[25], on=['studieID'], how='outer'\n",
    "# ).merge(list_of_data_frames[26], on=['studieID'], how='outer'\n",
    "# ).merge(list_of_data_frames[27], on=['studieID'], how='outer'\n",
    "# ).merge(list_of_data_frames[28], on=['studieID'], how='outer'\n",
    "# ).merge(list_of_data_frames[29], on=['studieID'], how='outer'\n",
    "# ).merge(list_of_data_frames[30], on=['studieID'], how='outer'\n",
    "# ).merge(list_of_data_frames[31], on=['studieID'], how='outer'\n",
    "# ).merge(list_of_data_frames[32], on=['studieID'], how='outer'\n",
    "# ).merge(list_of_data_frames[33], on=['studieID'], how='outer'\n",
    "# ).merge(list_of_data_frames[34], on=['studieID'], how='outer'\n",
    "# ).merge(list_of_data_frames[35], on=['studieID'], how='outer'\n",
    "# ).merge(list_of_data_frames[36], on=['studieID'], how='outer'\n",
    "# ).merge(list_of_data_frames[37], on=['studieID'], how='outer'\n",
    "# ).merge(list_of_data_frames[38], on=['studieID'], how='outer'\n",
    "# ).merge(list_of_data_frames[39], on=['studieID'], how='outer'\n",
    "       )"
   ]
  },
  {
   "cell_type": "markdown",
   "id": "62",
   "metadata": {
    "tags": []
   },
   "source": [
    "After some thought and examination we realized there are repeaters, because on some codes, there are multiple examples.\n",
    "There is really no other way to organize ALL the data without repeaters.\n"
   ]
  },
  {
   "cell_type": "code",
   "execution_count": null,
   "id": "63",
   "metadata": {
    "tags": []
   },
   "outputs": [],
   "source": [
    "final_df2.tail(7)"
   ]
  },
  {
   "cell_type": "markdown",
   "id": "64",
   "metadata": {
    "tags": []
   },
   "source": [
    "Let's look at a repeater example:"
   ]
  },
  {
   "cell_type": "code",
   "execution_count": null,
   "id": "65",
   "metadata": {
    "tags": []
   },
   "outputs": [],
   "source": [
    "final_df2[final_df2['studieID'] == 'BRICK_055']"
   ]
  },
  {
   "cell_type": "markdown",
   "id": "66",
   "metadata": {},
   "source": [
    "In this case we got lucky and we can just scroll right, and see the problem. The RDW is repeated, one venous one capillary. There is\n",
    "another repeater or differing value as well, and we can tell because this is doubled"
   ]
  },
  {
   "cell_type": "markdown",
   "id": "67",
   "metadata": {},
   "source": [
    "So we could at least detect the repeaters...remember it wasn't every lab with this problem, then the scientists must decide what to do about all this"
   ]
  },
  {
   "cell_type": "code",
   "execution_count": null,
   "id": "68",
   "metadata": {
    "tags": []
   },
   "outputs": [],
   "source": [
    "list_of_data_frames[0]['studieID'].is_unique\n",
    "#list_of_data_frames[0]"
   ]
  },
  {
   "cell_type": "code",
   "execution_count": null,
   "id": "69",
   "metadata": {
    "tags": []
   },
   "outputs": [],
   "source": [
    "# let's do our original frame maker with an artifact\n",
    "list_of_data_frames = []\n",
    "dupe_q = []\n",
    "for code in codes:\n",
    "    prenames = [\"code_code_original\", code]\n",
    "    frame_name = \"_\".join(prenames)\n",
    "    #print(frame_name)\n",
    "    frame_name = lab_data[lab_data['code_code_original'] == code]\n",
    "    frame_name = frame_name.add_suffix(code)\n",
    "    frame_name = frame_name.rename(columns= {frame_name.columns[0]:'studieID'})\n",
    "    codes_dupe_list = code, frame_name['studieID'].is_unique\n",
    "    print(codes_dupe_list)\n",
    "    dupe_q.append(codes_dupe_list)\n",
    "    list_of_data_frames.append(frame_name)"
   ]
  },
  {
   "cell_type": "markdown",
   "id": "70",
   "metadata": {
    "tags": []
   },
   "source": [
    "OK, but now we want to just get an actionable list of where it is wrong"
   ]
  },
  {
   "cell_type": "code",
   "execution_count": null,
   "id": "71",
   "metadata": {
    "tags": []
   },
   "outputs": [],
   "source": [
    "\n",
    "dupies = pd.DataFrame(dupe_q, columns =['Value', 'Doubled'])\n",
    "dupies[dupies['Doubled'] == False] "
   ]
  },
  {
   "cell_type": "markdown",
   "id": "72",
   "metadata": {
    "tags": []
   },
   "source": [
    "## This is not a short list! We will need to examine each of these and discuss with scientists!"
   ]
  },
  {
   "cell_type": "markdown",
   "id": "73",
   "metadata": {},
   "source": [
    "Let's look at an example, use the index number to know how to pull up examples i.e, pull 5,9,10,13..."
   ]
  },
  {
   "cell_type": "code",
   "execution_count": null,
   "id": "74",
   "metadata": {
    "tags": []
   },
   "outputs": [],
   "source": [
    "len(list_of_data_frames[9])"
   ]
  },
  {
   "cell_type": "code",
   "execution_count": null,
   "id": "75",
   "metadata": {},
   "outputs": [],
   "source": [
    " How can we find how many repeaters?"
   ]
  },
  {
   "cell_type": "code",
   "execution_count": null,
   "id": "76",
   "metadata": {
    "tags": []
   },
   "outputs": [],
   "source": [
    "len(list_of_data_frames[9]) - len(list_of_data_frames[9].studieID.unique())"
   ]
  },
  {
   "cell_type": "markdown",
   "id": "77",
   "metadata": {},
   "source": [
    "Unfortunately simple set math willl not help us here because the set of pandas column collapses to the unique values\n",
    "As demonstrated below:"
   ]
  },
  {
   "cell_type": "code",
   "execution_count": null,
   "id": "78",
   "metadata": {
    "tags": []
   },
   "outputs": [],
   "source": [
    "len(list_of_data_frames[9].studieID) - len(set(list_of_data_frames[9].studieID))"
   ]
  },
  {
   "cell_type": "markdown",
   "id": "79",
   "metadata": {},
   "source": [
    "So we will use filtering to find the duplicatd if we want it...demonstrated below:"
   ]
  },
  {
   "cell_type": "code",
   "execution_count": null,
   "id": "80",
   "metadata": {
    "tags": []
   },
   "outputs": [],
   "source": [
    "list_of_data_frames[9].studieID[list_of_data_frames[9].studieID.duplicated()]"
   ]
  },
  {
   "cell_type": "markdown",
   "id": "81",
   "metadata": {
    "tags": []
   },
   "source": [
    "## OK, on to seeing how many dupes there were per frame"
   ]
  },
  {
   "cell_type": "code",
   "execution_count": null,
   "id": "82",
   "metadata": {
    "tags": []
   },
   "outputs": [],
   "source": [
    "# # write a function\n",
    "\n",
    "\n",
    "# list:\n",
    "    \n",
    "#     patient ID#, value duplicated\n",
    "    \n",
    "#     BRICK_025, ALB-U duplicated\n",
    "    \n",
    "#     & sarah email or contact"
   ]
  },
  {
   "cell_type": "code",
   "execution_count": null,
   "id": "83",
   "metadata": {
    "tags": []
   },
   "outputs": [],
   "source": [
    "#dupies[dupies['Doubled'] == False] "
   ]
  },
  {
   "cell_type": "code",
   "execution_count": null,
   "id": "84",
   "metadata": {
    "tags": []
   },
   "outputs": [],
   "source": [
    "list_dupie_frames = [list_of_data_frames[5],\n",
    "                     list_of_data_frames[9],\n",
    "                     list_of_data_frames[10],\n",
    "                     list_of_data_frames[13],\n",
    "                     list_of_data_frames[22],\n",
    "                     list_of_data_frames[23],\n",
    "                     list_of_data_frames[24],\n",
    "                     list_of_data_frames[25],\n",
    "                     list_of_data_frames[26],\n",
    "                     list_of_data_frames[27],\n",
    "                     list_of_data_frames[28],\n",
    "                     list_of_data_frames[29],\n",
    "                     list_of_data_frames[30],\n",
    "                     list_of_data_frames[31],\n",
    "                     list_of_data_frames[32],\n",
    "                     list_of_data_frames[33],\n",
    "                     list_of_data_frames[34],\n",
    "                     list_of_data_frames[36],\n",
    "                     list_of_data_frames[37],\n",
    "                     list_of_data_frames[61],\n",
    "                     list_of_data_frames[62],\n",
    "                     list_of_data_frames[84],]\n",
    "#"
   ]
  },
  {
   "cell_type": "code",
   "execution_count": null,
   "id": "85",
   "metadata": {
    "tags": []
   },
   "outputs": [],
   "source": [
    "for frame in list_dupie_frames:\n",
    "    print(frame.columns[1].replace(\"labdatum_studieID\", \"\"))\n",
    "    print(frame.studieID[frame.studieID.duplicated()])"
   ]
  },
  {
   "cell_type": "code",
   "execution_count": null,
   "id": "86",
   "metadata": {},
   "outputs": [],
   "source": []
  },
  {
   "cell_type": "code",
   "execution_count": null,
   "id": "87",
   "metadata": {},
   "outputs": [],
   "source": []
  },
  {
   "cell_type": "code",
   "execution_count": null,
   "id": "88",
   "metadata": {},
   "outputs": [],
   "source": []
  },
  {
   "cell_type": "code",
   "execution_count": null,
   "id": "89",
   "metadata": {},
   "outputs": [],
   "source": []
  },
  {
   "cell_type": "code",
   "execution_count": null,
   "id": "90",
   "metadata": {
    "tags": []
   },
   "outputs": [],
   "source": [
    "len(list_of_data_frames[5]) - len(list_of_data_frames[5].studieID.unique())"
   ]
  },
  {
   "cell_type": "code",
   "execution_count": null,
   "id": "91",
   "metadata": {
    "tags": []
   },
   "outputs": [],
   "source": [
    "len(list_of_data_frames[13]) - len(list_of_data_frames[13].studieID.unique())"
   ]
  },
  {
   "cell_type": "code",
   "execution_count": null,
   "id": "92",
   "metadata": {
    "tags": []
   },
   "outputs": [],
   "source": [
    "len(list_of_data_frames[22]) - len(list_of_data_frames[22].studieID.unique())"
   ]
  },
  {
   "cell_type": "code",
   "execution_count": null,
   "id": "93",
   "metadata": {
    "tags": []
   },
   "outputs": [],
   "source": [
    "len(list_of_data_frames[23]) - len(list_of_data_frames[23].studieID.unique())"
   ]
  },
  {
   "cell_type": "code",
   "execution_count": null,
   "id": "94",
   "metadata": {
    "tags": []
   },
   "outputs": [],
   "source": [
    "len(list_of_data_frames[24]) - len(list_of_data_frames[24].studieID.unique())"
   ]
  },
  {
   "cell_type": "code",
   "execution_count": null,
   "id": "95",
   "metadata": {
    "tags": []
   },
   "outputs": [],
   "source": [
    "len(list_of_data_frames[25]) - len(list_of_data_frames[25].studieID.unique())"
   ]
  },
  {
   "cell_type": "code",
   "execution_count": null,
   "id": "96",
   "metadata": {
    "tags": []
   },
   "outputs": [],
   "source": [
    "len(list_of_data_frames[26]) - len(list_of_data_frames[26].studieID.unique())"
   ]
  },
  {
   "cell_type": "code",
   "execution_count": null,
   "id": "97",
   "metadata": {
    "tags": []
   },
   "outputs": [],
   "source": [
    "len(list_of_data_frames[27]) - len(list_of_data_frames[27].studieID.unique())"
   ]
  },
  {
   "cell_type": "markdown",
   "id": "98",
   "metadata": {},
   "source": [
    "## Scientists can do this by hand because the list is short...."
   ]
  },
  {
   "cell_type": "markdown",
   "id": "99",
   "metadata": {
    "tags": []
   },
   "source": [
    "# I suggest data engineers take over multiple possble transformations of data"
   ]
  },
  {
   "cell_type": "code",
   "execution_count": null,
   "id": "100",
   "metadata": {
    "tags": []
   },
   "outputs": [],
   "source": []
  },
  {
   "cell_type": "code",
   "execution_count": null,
   "id": "101",
   "metadata": {},
   "outputs": [],
   "source": []
  },
  {
   "cell_type": "code",
   "execution_count": null,
   "id": "102",
   "metadata": {},
   "outputs": [],
   "source": [
    "STOP"
   ]
  },
  {
   "cell_type": "code",
   "execution_count": null,
   "id": "103",
   "metadata": {},
   "outputs": [],
   "source": []
  },
  {
   "cell_type": "code",
   "execution_count": null,
   "id": "104",
   "metadata": {
    "tags": []
   },
   "outputs": [],
   "source": [
    "final_df2.columns"
   ]
  },
  {
   "cell_type": "code",
   "execution_count": null,
   "id": "105",
   "metadata": {
    "tags": []
   },
   "outputs": [],
   "source": []
  },
  {
   "cell_type": "code",
   "execution_count": null,
   "id": "106",
   "metadata": {
    "tags": []
   },
   "outputs": [],
   "source": [
    "#final_df = reduce(lambda left,right: pd.merge(left,right, on=['studieID'], how='outer'), list_of_data_frames)"
   ]
  },
  {
   "cell_type": "code",
   "execution_count": null,
   "id": "107",
   "metadata": {
    "tags": []
   },
   "outputs": [],
   "source": [
    "final_df"
   ]
  },
  {
   "cell_type": "code",
   "execution_count": null,
   "id": "108",
   "metadata": {
    "tags": []
   },
   "outputs": [],
   "source": [
    "final_df[final_df['studieID'] =='BRICK_001']"
   ]
  },
  {
   "cell_type": "code",
   "execution_count": null,
   "id": "109",
   "metadata": {
    "tags": []
   },
   "outputs": [],
   "source": [
    "for f in final_df.columns:\n",
    "    print(f)"
   ]
  },
  {
   "cell_type": "code",
   "execution_count": null,
   "id": "110",
   "metadata": {
    "tags": []
   },
   "outputs": [],
   "source": [
    "final_df.to_csv('long_lab_data.csv')"
   ]
  },
  {
   "cell_type": "code",
   "execution_count": null,
   "id": "111",
   "metadata": {
    "tags": []
   },
   "outputs": [],
   "source": [
    "final_df.shape"
   ]
  },
  {
   "cell_type": "code",
   "execution_count": null,
   "id": "112",
   "metadata": {},
   "outputs": [],
   "source": []
  },
  {
   "cell_type": "code",
   "execution_count": null,
   "id": "113",
   "metadata": {},
   "outputs": [],
   "source": []
  }
 ],
 "metadata": {
  "kernelspec": {
   "display_name": "Python 3 (ipykernel)",
   "language": "python",
   "name": "python3"
  },
  "language_info": {
   "codemirror_mode": {
    "name": "ipython",
    "version": 3
   },
   "file_extension": ".py",
   "mimetype": "text/x-python",
   "name": "python",
   "nbconvert_exporter": "python",
   "pygments_lexer": "ipython3",
   "version": "3.11.8"
  }
 },
 "nbformat": 4,
 "nbformat_minor": 5
}
