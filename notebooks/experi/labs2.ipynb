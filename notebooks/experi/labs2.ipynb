{
 "cells": [
  {
   "cell_type": "markdown",
   "id": "0",
   "metadata": {},
   "source": [
    "# Checking lab data"
   ]
  },
  {
   "cell_type": "code",
   "execution_count": null,
   "id": "1",
   "metadata": {
    "tags": []
   },
   "outputs": [],
   "source": [
    "import os\n",
    "import sys\n",
    "from functools import reduce\n",
    "import pandas as pd\n",
    "import numpy as np\n",
    "import seaborn as sns\n",
    "import matplotlib.pyplot as plt\n",
    "import ipywidgets as widgets\n",
    "\n",
    "sys.path.insert(0, '../../')\n",
    "from brickstudy import foundation"
   ]
  },
  {
   "cell_type": "code",
   "execution_count": null,
   "id": "2",
   "metadata": {
    "tags": []
   },
   "outputs": [],
   "source": [
    "lab_data = pd.read_csv('BRICK_lab_data_update_18_03_2024.csv', sep= ';', encoding='latin1')\n"
   ]
  },
  {
   "cell_type": "code",
   "execution_count": null,
   "id": "3",
   "metadata": {
    "tags": []
   },
   "outputs": [],
   "source": [
    "lab_data.head(3)"
   ]
  },
  {
   "cell_type": "code",
   "execution_count": null,
   "id": "4",
   "metadata": {
    "tags": []
   },
   "outputs": [],
   "source": [
    "lab_data['studieID'].unique()"
   ]
  },
  {
   "cell_type": "code",
   "execution_count": null,
   "id": "5",
   "metadata": {
    "tags": []
   },
   "outputs": [],
   "source": [
    "len(lab_data['studieID'].unique())"
   ]
  },
  {
   "cell_type": "markdown",
   "id": "6",
   "metadata": {},
   "source": [
    "## So we have 47 patients, this will be extremely important later!\n",
    "Below we will reformat the studieID to be in the same format as patient ID, i.e. with a _ instead of a -"
   ]
  },
  {
   "cell_type": "code",
   "execution_count": null,
   "id": "7",
   "metadata": {
    "tags": []
   },
   "outputs": [],
   "source": [
    "lab_data['studieID'] = lab_data['studieID'].astype(str)\n",
    "lab_data['studieID'] = lab_data['studieID'].str.replace(\"-\", \"_\")"
   ]
  },
  {
   "cell_type": "code",
   "execution_count": null,
   "id": "8",
   "metadata": {
    "tags": []
   },
   "outputs": [],
   "source": [
    "lab_data.head(3)"
   ]
  },
  {
   "cell_type": "markdown",
   "id": "9",
   "metadata": {},
   "source": [
    "## We want in theory all the patients on thier own line, but not many lines per patient\n",
    "We will try to accomplish this by splitting the dataset into each code-code-original i.e. each type of lab taken on the assumption we will almost always have one ;ab"
   ]
  },
  {
   "cell_type": "code",
   "execution_count": null,
   "id": "10",
   "metadata": {
    "tags": []
   },
   "outputs": [],
   "source": [
    "lab_data.code_code_original.unique()"
   ]
  },
  {
   "cell_type": "markdown",
   "id": "11",
   "metadata": {},
   "source": [
    "Notice there is a nan code. This will not work out well for us. It turns out it is in this dataset always teh case with Natrium. We will make the code, a string"
   ]
  },
  {
   "cell_type": "code",
   "execution_count": null,
   "id": "12",
   "metadata": {
    "tags": []
   },
   "outputs": [],
   "source": [
    "codes = lab_data.code_code_original.unique().astype(str)\n",
    "codes"
   ]
  },
  {
   "cell_type": "markdown",
   "id": "13",
   "metadata": {},
   "source": [
    "We will split off the dataframes, then check to make sure we get something for every code"
   ]
  },
  {
   "cell_type": "code",
   "execution_count": null,
   "id": "14",
   "metadata": {
    "tags": []
   },
   "outputs": [],
   "source": [
    "list_of_data_frames = []\n",
    "for code in codes:\n",
    "    prenames = [\"code_code_original\", code]\n",
    "    frame_name = \"_\".join(prenames)\n",
    "    #print(frame_name)\n",
    "    frame_name = lab_data[lab_data['code_code_original'] == code]\n",
    "    frame_name = frame_name.add_suffix(code)\n",
    "    frame_name = frame_name.rename(columns= {frame_name.columns[0]:'studieID'})\n",
    "    list_of_data_frames.append(frame_name)\n",
    "    "
   ]
  },
  {
   "cell_type": "code",
   "execution_count": null,
   "id": "15",
   "metadata": {
    "tags": []
   },
   "outputs": [],
   "source": [
    "len(list_of_data_frames)"
   ]
  },
  {
   "cell_type": "code",
   "execution_count": null,
   "id": "16",
   "metadata": {
    "tags": []
   },
   "outputs": [],
   "source": [
    "len(codes)"
   ]
  },
  {
   "cell_type": "markdown",
   "id": "17",
   "metadata": {},
   "source": [
    "Let's look at an example:"
   ]
  },
  {
   "cell_type": "code",
   "execution_count": null,
   "id": "18",
   "metadata": {
    "tags": []
   },
   "outputs": [],
   "source": [
    "list_of_data_frames[1].head(3) "
   ]
  },
  {
   "cell_type": "code",
   "execution_count": null,
   "id": "19",
   "metadata": {
    "tags": []
   },
   "outputs": [],
   "source": [
    "list_of_data_frames[1].shape"
   ]
  },
  {
   "cell_type": "markdown",
   "id": "20",
   "metadata": {},
   "source": [
    "So far so good, we have a frame with in the example above the DBIL. We then tried to do a big reduction; but it produced repeaters"
   ]
  },
  {
   "cell_type": "code",
   "execution_count": null,
   "id": "21",
   "metadata": {
    "tags": []
   },
   "outputs": [],
   "source": [
    "#final_df = reduce(lambda left,right: pd.merge(left,right, on=['studieID'], how='outer'), list_of_data_frames)"
   ]
  },
  {
   "cell_type": "markdown",
   "id": "22",
   "metadata": {},
   "source": [
    "We needed to examine why this happened so we took a look by hand:"
   ]
  },
  {
   "cell_type": "code",
   "execution_count": null,
   "id": "23",
   "metadata": {
    "tags": []
   },
   "outputs": [],
   "source": []
  },
  {
   "cell_type": "code",
   "execution_count": null,
   "id": "24",
   "metadata": {
    "tags": []
   },
   "outputs": [],
   "source": [
    "final_df2 = list_of_data_frames[0].merge(list_of_data_frames[1], on=['studieID'], how='outer')"
   ]
  },
  {
   "cell_type": "code",
   "execution_count": null,
   "id": "25",
   "metadata": {
    "tags": []
   },
   "outputs": [],
   "source": [
    "final_df2 = final_df2.merge(list_of_data_frames[3], on=['studieID'], how='outer').merge(list_of_data_frames[4], on=['studieID'], how='outer')"
   ]
  },
  {
   "cell_type": "code",
   "execution_count": null,
   "id": "26",
   "metadata": {},
   "outputs": [],
   "source": []
  },
  {
   "cell_type": "code",
   "execution_count": null,
   "id": "27",
   "metadata": {
    "tags": []
   },
   "outputs": [],
   "source": [
    "final_df2 = final_df2.merge(list_of_data_frames[5], on=['studieID'], how='outer').merge(list_of_data_frames[6], on=['studieID'], how='outer')"
   ]
  },
  {
   "cell_type": "code",
   "execution_count": null,
   "id": "28",
   "metadata": {
    "tags": []
   },
   "outputs": [],
   "source": [
    "final_df2 = final_df2.merge(\n",
    "    list_of_data_frames[7], on=['studieID'], how='outer'\n",
    ").merge(list_of_data_frames[8], on=['studieID'], how='outer'\n",
    ").merge(list_of_data_frames[9], on=['studieID'], how='outer'\n",
    ").merge(list_of_data_frames[10], on=['studieID'], how='outer'\n",
    ").merge(list_of_data_frames[11], on=['studieID'], how='outer'\n",
    ").merge(list_of_data_frames[12], on=['studieID'], how='outer'\n",
    ").merge(list_of_data_frames[13], on=['studieID'], how='outer'\n",
    ").merge(list_of_data_frames[14], on=['studieID'], how='outer'\n",
    ").merge(list_of_data_frames[15], on=['studieID'], how='outer'\n",
    ").merge(list_of_data_frames[16], on=['studieID'], how='outer'\n",
    ").merge(list_of_data_frames[17], on=['studieID'], how='outer'\n",
    ").merge(list_of_data_frames[18], on=['studieID'], how='outer'\n",
    ").merge(list_of_data_frames[19], on=['studieID'], how='outer'\n",
    ").merge(list_of_data_frames[20], on=['studieID'], how='outer'\n",
    ").merge(list_of_data_frames[21], on=['studieID'], how='outer'\n",
    ").merge(list_of_data_frames[22], on=['studieID'], how='outer'\n",
    ").merge(list_of_data_frames[23], on=['studieID'], how='outer'\n",
    "# ).merge(list_of_data_frames[24], on=['studieID'], how='outer'\n",
    "# ).merge(list_of_data_frames[25], on=['studieID'], how='outer'\n",
    "# ).merge(list_of_data_frames[26], on=['studieID'], how='outer'\n",
    "# ).merge(list_of_data_frames[27], on=['studieID'], how='outer'\n",
    "# ).merge(list_of_data_frames[28], on=['studieID'], how='outer'\n",
    "# ).merge(list_of_data_frames[29], on=['studieID'], how='outer'\n",
    "# ).merge(list_of_data_frames[30], on=['studieID'], how='outer'\n",
    "# ).merge(list_of_data_frames[31], on=['studieID'], how='outer'\n",
    "# ).merge(list_of_data_frames[32], on=['studieID'], how='outer'\n",
    "# ).merge(list_of_data_frames[33], on=['studieID'], how='outer'\n",
    "# ).merge(list_of_data_frames[34], on=['studieID'], how='outer'\n",
    "# ).merge(list_of_data_frames[35], on=['studieID'], how='outer'\n",
    "# ).merge(list_of_data_frames[36], on=['studieID'], how='outer'\n",
    "# ).merge(list_of_data_frames[37], on=['studieID'], how='outer'\n",
    "# ).merge(list_of_data_frames[38], on=['studieID'], how='outer'\n",
    "# ).merge(list_of_data_frames[39], on=['studieID'], how='outer'\n",
    "       )"
   ]
  },
  {
   "cell_type": "markdown",
   "id": "29",
   "metadata": {
    "tags": []
   },
   "source": [
    "After some thought and examination we realized there are repeaters, because on some codes, there are multiple examples.\n",
    "There is really no other way to organize ALL the data without repeaters.\n"
   ]
  },
  {
   "cell_type": "code",
   "execution_count": null,
   "id": "30",
   "metadata": {
    "tags": []
   },
   "outputs": [],
   "source": [
    "final_df2.tail(7)"
   ]
  },
  {
   "cell_type": "markdown",
   "id": "31",
   "metadata": {
    "tags": []
   },
   "source": [
    "Let's look at a repeater example:"
   ]
  },
  {
   "cell_type": "code",
   "execution_count": null,
   "id": "32",
   "metadata": {
    "tags": []
   },
   "outputs": [],
   "source": [
    "final_df2[final_df2['studieID'] == 'BRICK_055']"
   ]
  },
  {
   "cell_type": "markdown",
   "id": "33",
   "metadata": {},
   "source": [
    "In this case we got lucky and we can just scroll right, and see the problem. The RDW is repeated, one venous one capillary. There is\n",
    "another repeater or differing value as well, and we can tell because this is doubled"
   ]
  },
  {
   "cell_type": "markdown",
   "id": "34",
   "metadata": {},
   "source": [
    "So we could at least detect the repeaters...remember it wasn't every lab with this problem, then the scientists must decide what to do about all this"
   ]
  },
  {
   "cell_type": "code",
   "execution_count": null,
   "id": "35",
   "metadata": {
    "tags": []
   },
   "outputs": [],
   "source": [
    "list_of_data_frames[0]['studieID'].is_unique\n",
    "#list_of_data_frames[0]"
   ]
  },
  {
   "cell_type": "code",
   "execution_count": null,
   "id": "36",
   "metadata": {
    "tags": []
   },
   "outputs": [],
   "source": [
    "# let's do our original frame maker with an artifact\n",
    "list_of_data_frames = []\n",
    "dupe_q = []\n",
    "for code in codes:\n",
    "    prenames = [\"code_code_original\", code]\n",
    "    frame_name = \"_\".join(prenames)\n",
    "    #print(frame_name)\n",
    "    frame_name = lab_data[lab_data['code_code_original'] == code]\n",
    "    frame_name = frame_name.add_suffix(code)\n",
    "    frame_name = frame_name.rename(columns= {frame_name.columns[0]:'studieID'})\n",
    "    codes_dupe_list = code, frame_name['studieID'].is_unique\n",
    "    print(codes_dupe_list)\n",
    "    dupe_q.append(codes_dupe_list)\n",
    "    list_of_data_frames.append(frame_name)"
   ]
  },
  {
   "cell_type": "markdown",
   "id": "37",
   "metadata": {
    "tags": []
   },
   "source": [
    "OK, but now we want to just get an actionable list of where it is wrong"
   ]
  },
  {
   "cell_type": "code",
   "execution_count": null,
   "id": "38",
   "metadata": {
    "tags": []
   },
   "outputs": [],
   "source": [
    "\n",
    "dupies = pd.DataFrame(dupe_q, columns =['Value', 'Doubled'])\n",
    "dupies[dupies['Doubled'] == False] "
   ]
  },
  {
   "cell_type": "markdown",
   "id": "39",
   "metadata": {
    "tags": []
   },
   "source": [
    "## This is not a short list! We will need to examine each of these and discuss with scientists!"
   ]
  },
  {
   "cell_type": "markdown",
   "id": "40",
   "metadata": {},
   "source": [
    "Let's look at an example, use the index number to know how to pull up examples i.e, pull 5,9,10,13..."
   ]
  },
  {
   "cell_type": "code",
   "execution_count": null,
   "id": "41",
   "metadata": {
    "tags": []
   },
   "outputs": [],
   "source": [
    "len(list_of_data_frames[9])"
   ]
  },
  {
   "cell_type": "code",
   "execution_count": null,
   "id": "42",
   "metadata": {},
   "outputs": [],
   "source": [
    " How can we find how many repeaters?"
   ]
  },
  {
   "cell_type": "code",
   "execution_count": null,
   "id": "43",
   "metadata": {
    "tags": []
   },
   "outputs": [],
   "source": [
    "len(list_of_data_frames[9]) - len(list_of_data_frames[9].studieID.unique())"
   ]
  },
  {
   "cell_type": "markdown",
   "id": "44",
   "metadata": {},
   "source": [
    "Unfortunately simple set math willl not help us here because the set of pandas column collapses to the unique values\n",
    "As demonstrated below:"
   ]
  },
  {
   "cell_type": "code",
   "execution_count": null,
   "id": "45",
   "metadata": {
    "tags": []
   },
   "outputs": [],
   "source": [
    "len(list_of_data_frames[9].studieID) - len(set(list_of_data_frames[9].studieID))"
   ]
  },
  {
   "cell_type": "markdown",
   "id": "46",
   "metadata": {},
   "source": [
    "So we will use filtering to find the duplicatd if we want it...demonstrated below:"
   ]
  },
  {
   "cell_type": "code",
   "execution_count": null,
   "id": "47",
   "metadata": {
    "tags": []
   },
   "outputs": [],
   "source": [
    "list_of_data_frames[9].studieID[list_of_data_frames[9].studieID.duplicated()]"
   ]
  },
  {
   "cell_type": "markdown",
   "id": "48",
   "metadata": {
    "tags": []
   },
   "source": [
    "## OK, on to seeing how many dupes there were per frame"
   ]
  },
  {
   "cell_type": "code",
   "execution_count": null,
   "id": "49",
   "metadata": {
    "tags": []
   },
   "outputs": [],
   "source": []
  },
  {
   "cell_type": "code",
   "execution_count": null,
   "id": "50",
   "metadata": {
    "tags": []
   },
   "outputs": [],
   "source": [
    "len(list_of_data_frames[5]) - len(list_of_data_frames[5].studieID.unique())"
   ]
  },
  {
   "cell_type": "code",
   "execution_count": null,
   "id": "51",
   "metadata": {
    "tags": []
   },
   "outputs": [],
   "source": [
    "len(list_of_data_frames[13]) - len(list_of_data_frames[13].studieID.unique())"
   ]
  },
  {
   "cell_type": "code",
   "execution_count": null,
   "id": "52",
   "metadata": {
    "tags": []
   },
   "outputs": [],
   "source": [
    "len(list_of_data_frames[22]) - len(list_of_data_frames[22].studieID.unique())"
   ]
  },
  {
   "cell_type": "code",
   "execution_count": null,
   "id": "53",
   "metadata": {
    "tags": []
   },
   "outputs": [],
   "source": [
    "len(list_of_data_frames[23]) - len(list_of_data_frames[23].studieID.unique())"
   ]
  },
  {
   "cell_type": "code",
   "execution_count": null,
   "id": "54",
   "metadata": {
    "tags": []
   },
   "outputs": [],
   "source": [
    "len(list_of_data_frames[24]) - len(list_of_data_frames[24].studieID.unique())"
   ]
  },
  {
   "cell_type": "code",
   "execution_count": null,
   "id": "55",
   "metadata": {
    "tags": []
   },
   "outputs": [],
   "source": [
    "len(list_of_data_frames[25]) - len(list_of_data_frames[25].studieID.unique())"
   ]
  },
  {
   "cell_type": "code",
   "execution_count": null,
   "id": "56",
   "metadata": {
    "tags": []
   },
   "outputs": [],
   "source": [
    "len(list_of_data_frames[26]) - len(list_of_data_frames[26].studieID.unique())"
   ]
  },
  {
   "cell_type": "code",
   "execution_count": null,
   "id": "57",
   "metadata": {
    "tags": []
   },
   "outputs": [],
   "source": [
    "len(list_of_data_frames[27]) - len(list_of_data_frames[27].studieID.unique())"
   ]
  },
  {
   "cell_type": "markdown",
   "id": "58",
   "metadata": {},
   "source": [
    "## Scientists can do this by hand because the list is short...."
   ]
  },
  {
   "cell_type": "markdown",
   "id": "59",
   "metadata": {
    "tags": []
   },
   "source": [
    "# I suggest data engineers take over multiple possble transformations of data"
   ]
  },
  {
   "cell_type": "code",
   "execution_count": null,
   "id": "60",
   "metadata": {
    "tags": []
   },
   "outputs": [],
   "source": []
  },
  {
   "cell_type": "code",
   "execution_count": null,
   "id": "61",
   "metadata": {},
   "outputs": [],
   "source": []
  },
  {
   "cell_type": "code",
   "execution_count": null,
   "id": "62",
   "metadata": {},
   "outputs": [],
   "source": [
    "STOP"
   ]
  },
  {
   "cell_type": "code",
   "execution_count": null,
   "id": "63",
   "metadata": {},
   "outputs": [],
   "source": []
  },
  {
   "cell_type": "code",
   "execution_count": null,
   "id": "64",
   "metadata": {
    "tags": []
   },
   "outputs": [],
   "source": [
    "final_df2.columns"
   ]
  },
  {
   "cell_type": "code",
   "execution_count": null,
   "id": "65",
   "metadata": {
    "tags": []
   },
   "outputs": [],
   "source": [
    "from functools import reduce"
   ]
  },
  {
   "cell_type": "code",
   "execution_count": null,
   "id": "66",
   "metadata": {
    "tags": []
   },
   "outputs": [],
   "source": [
    "#final_df = reduce(lambda left,right: pd.merge(left,right, on=['studieID'], how='outer'), list_of_data_frames)"
   ]
  },
  {
   "cell_type": "code",
   "execution_count": null,
   "id": "67",
   "metadata": {
    "tags": []
   },
   "outputs": [],
   "source": [
    "final_df"
   ]
  },
  {
   "cell_type": "code",
   "execution_count": null,
   "id": "68",
   "metadata": {
    "tags": []
   },
   "outputs": [],
   "source": [
    "final_df[final_df['studieID'] =='BRICK_001']"
   ]
  },
  {
   "cell_type": "code",
   "execution_count": null,
   "id": "69",
   "metadata": {
    "tags": []
   },
   "outputs": [],
   "source": [
    "for f in final_df.columns:\n",
    "    print(f)"
   ]
  },
  {
   "cell_type": "code",
   "execution_count": null,
   "id": "70",
   "metadata": {
    "tags": []
   },
   "outputs": [],
   "source": [
    "final_df.to_csv('long_lab_data.csv')"
   ]
  },
  {
   "cell_type": "code",
   "execution_count": null,
   "id": "71",
   "metadata": {
    "tags": []
   },
   "outputs": [],
   "source": [
    "final_df.shape"
   ]
  },
  {
   "cell_type": "code",
   "execution_count": null,
   "id": "72",
   "metadata": {},
   "outputs": [],
   "source": []
  },
  {
   "cell_type": "code",
   "execution_count": null,
   "id": "73",
   "metadata": {},
   "outputs": [],
   "source": []
  }
 ],
 "metadata": {
  "kernelspec": {
   "display_name": "Python 3 (ipykernel)",
   "language": "python",
   "name": "python3"
  },
  "language_info": {
   "codemirror_mode": {
    "name": "ipython",
    "version": 3
   },
   "file_extension": ".py",
   "mimetype": "text/x-python",
   "name": "python",
   "nbconvert_exporter": "python",
   "pygments_lexer": "ipython3",
   "version": "3.11.8"
  }
 },
 "nbformat": 4,
 "nbformat_minor": 5
}
