{
 "cells": [
  {
   "cell_type": "markdown",
   "id": "0",
   "metadata": {},
   "source": [
    "# Checking lab data"
   ]
  },
  {
   "cell_type": "code",
   "execution_count": null,
   "id": "1",
   "metadata": {
    "tags": []
   },
   "outputs": [],
   "source": [
    "import os\n",
    "import sys\n",
    "from functools import reduce\n",
    "import pandas as pd\n",
    "import numpy as np\n",
    "import seaborn as sns\n",
    "import matplotlib.pyplot as plt\n",
    "import ipywidgets as widgets\n",
    "\n",
    "sys.path.insert(0, '../../')\n",
    "from brickstudy import foundation"
   ]
  },
  {
   "cell_type": "code",
   "execution_count": null,
   "id": "2",
   "metadata": {
    "tags": []
   },
   "outputs": [],
   "source": [
    "lab_data = pd.read_csv('../../secret_data/BRICK_lab_data_update_18_03_2024.csv', sep= ';', encoding='latin1')\n"
   ]
  },
  {
   "cell_type": "code",
   "execution_count": null,
   "id": "3",
   "metadata": {
    "tags": []
   },
   "outputs": [],
   "source": [
    "lab_data.head(3)"
   ]
  },
  {
   "cell_type": "code",
   "execution_count": null,
   "id": "4",
   "metadata": {},
   "outputs": [],
   "source": [
    "lab_data['studieID'].unique()"
   ]
  },
  {
   "cell_type": "code",
   "execution_count": null,
   "id": "5",
   "metadata": {},
   "outputs": [],
   "source": [
    "len(lab_data['studieID'].unique())"
   ]
  },
  {
   "cell_type": "code",
   "execution_count": null,
   "id": "6",
   "metadata": {
    "tags": []
   },
   "outputs": [],
   "source": [
    "lab_data['studieID'] = lab_data['studieID'].astype(str)\n",
    "lab_data['studieID'] = lab_data['studieID'].str.replace(\"-\", \"_\")"
   ]
  },
  {
   "cell_type": "code",
   "execution_count": null,
   "id": "7",
   "metadata": {
    "tags": []
   },
   "outputs": [],
   "source": [
    "lab_data.head(3)"
   ]
  },
  {
   "cell_type": "code",
   "execution_count": null,
   "id": "8",
   "metadata": {
    "tags": []
   },
   "outputs": [],
   "source": [
    "lab_data.code_code_original.unique()"
   ]
  },
  {
   "cell_type": "code",
   "execution_count": null,
   "id": "9",
   "metadata": {
    "tags": []
   },
   "outputs": [],
   "source": [
    "codes = lab_data.code_code_original.unique().astype(str)\n",
    "codes"
   ]
  },
  {
   "cell_type": "code",
   "execution_count": null,
   "id": "10",
   "metadata": {
    "tags": []
   },
   "outputs": [],
   "source": [
    "list_of_data_frames = []\n",
    "for code in codes:\n",
    "    prenames = [\"code_code_original\", code]\n",
    "    frame_name = \"_\".join(prenames)\n",
    "    #print(frame_name)\n",
    "    frame_name = lab_data[lab_data['code_code_original'] == code]\n",
    "    frame_name = frame_name.add_suffix(code)\n",
    "    frame_name = frame_name.rename(columns= {frame_name.columns[0]:'studieID'})\n",
    "    list_of_data_frames.append(frame_name)\n",
    "    "
   ]
  },
  {
   "cell_type": "code",
   "execution_count": null,
   "id": "11",
   "metadata": {
    "tags": []
   },
   "outputs": [],
   "source": [
    "list_of_data_frames[1].head(3) "
   ]
  },
  {
   "cell_type": "code",
   "execution_count": null,
   "id": "12",
   "metadata": {
    "tags": []
   },
   "outputs": [],
   "source": [
    "list_of_data_frames[1].shape"
   ]
  },
  {
   "cell_type": "code",
   "execution_count": null,
   "id": "13",
   "metadata": {
    "tags": []
   },
   "outputs": [],
   "source": [
    "# dumped = []\n",
    "# for frame, next_frame in zip(list_of_data_frames, list_of_data_frames[1:]):\n",
    "#     lovi = frame.merge(next_frame,on=['studieID'], how='outer')\n",
    "#     print(lovi.shape)"
   ]
  },
  {
   "cell_type": "code",
   "execution_count": null,
   "id": "14",
   "metadata": {
    "tags": []
   },
   "outputs": [],
   "source": [
    "len(list_of_data_frames)"
   ]
  },
  {
   "cell_type": "code",
   "execution_count": null,
   "id": "15",
   "metadata": {
    "tags": []
   },
   "outputs": [],
   "source": [
    "final_df2 = list_of_data_frames[0].merge(list_of_data_frames[1], on=['studieID'], how='outer')"
   ]
  },
  {
   "cell_type": "code",
   "execution_count": null,
   "id": "16",
   "metadata": {
    "tags": []
   },
   "outputs": [],
   "source": [
    "final_df2 = final_df2.merge(list_of_data_frames[3], on=['studieID'], how='outer').merge(list_of_data_frames[4], on=['studieID'], how='outer')"
   ]
  },
  {
   "cell_type": "code",
   "execution_count": null,
   "id": "17",
   "metadata": {},
   "outputs": [],
   "source": []
  },
  {
   "cell_type": "code",
   "execution_count": null,
   "id": "18",
   "metadata": {
    "tags": []
   },
   "outputs": [],
   "source": [
    "final_df2 = final_df2.merge(list_of_data_frames[5], on=['studieID'], how='outer').merge(list_of_data_frames[6], on=['studieID'], how='outer')"
   ]
  },
  {
   "cell_type": "code",
   "execution_count": null,
   "id": "19",
   "metadata": {
    "tags": []
   },
   "outputs": [],
   "source": [
    "final_df2 = final_df2.merge(\n",
    "    list_of_data_frames[7], on=['studieID'], how='outer'\n",
    ").merge(list_of_data_frames[8], on=['studieID'], how='outer'\n",
    ").merge(list_of_data_frames[9], on=['studieID'], how='outer'\n",
    ").merge(list_of_data_frames[10], on=['studieID'], how='outer'\n",
    ").merge(list_of_data_frames[11], on=['studieID'], how='outer'\n",
    ").merge(list_of_data_frames[12], on=['studieID'], how='outer'\n",
    ").merge(list_of_data_frames[13], on=['studieID'], how='outer'\n",
    ").merge(list_of_data_frames[14], on=['studieID'], how='outer'\n",
    ").merge(list_of_data_frames[15], on=['studieID'], how='outer'\n",
    ").merge(list_of_data_frames[16], on=['studieID'], how='outer'\n",
    ").merge(list_of_data_frames[17], on=['studieID'], how='outer'\n",
    ").merge(list_of_data_frames[18], on=['studieID'], how='outer'\n",
    ").merge(list_of_data_frames[19], on=['studieID'], how='outer'\n",
    ").merge(list_of_data_frames[20], on=['studieID'], how='outer'\n",
    ").merge(list_of_data_frames[21], on=['studieID'], how='outer'\n",
    ").merge(list_of_data_frames[22], on=['studieID'], how='outer'\n",
    ").merge(list_of_data_frames[23], on=['studieID'], how='outer'\n",
    "# ).merge(list_of_data_frames[24], on=['studieID'], how='outer'\n",
    "# ).merge(list_of_data_frames[25], on=['studieID'], how='outer'\n",
    "# ).merge(list_of_data_frames[26], on=['studieID'], how='outer'\n",
    "# ).merge(list_of_data_frames[27], on=['studieID'], how='outer'\n",
    "# ).merge(list_of_data_frames[28], on=['studieID'], how='outer'\n",
    "# ).merge(list_of_data_frames[29], on=['studieID'], how='outer'\n",
    "# ).merge(list_of_data_frames[30], on=['studieID'], how='outer'\n",
    "# ).merge(list_of_data_frames[31], on=['studieID'], how='outer'\n",
    "# ).merge(list_of_data_frames[32], on=['studieID'], how='outer'\n",
    "# ).merge(list_of_data_frames[33], on=['studieID'], how='outer'\n",
    "# ).merge(list_of_data_frames[34], on=['studieID'], how='outer'\n",
    "# ).merge(list_of_data_frames[35], on=['studieID'], how='outer'\n",
    "# ).merge(list_of_data_frames[36], on=['studieID'], how='outer'\n",
    "# ).merge(list_of_data_frames[37], on=['studieID'], how='outer'\n",
    "# ).merge(list_of_data_frames[38], on=['studieID'], how='outer'\n",
    "# ).merge(list_of_data_frames[39], on=['studieID'], how='outer'\n",
    "       )"
   ]
  },
  {
   "cell_type": "code",
   "execution_count": null,
   "id": "20",
   "metadata": {
    "tags": []
   },
   "outputs": [],
   "source": [
    "final_df2"
   ]
  },
  {
   "cell_type": "code",
   "execution_count": null,
   "id": "21",
   "metadata": {
    "tags": []
   },
   "outputs": [],
   "source": [
    "for f in final_df2['studieID']:\n",
    "    print(f)"
   ]
  },
  {
   "cell_type": "code",
   "execution_count": null,
   "id": "22",
   "metadata": {
    "tags": []
   },
   "outputs": [],
   "source": [
    "final_df2[final_df2['studieID'] == 'BRICK_055']"
   ]
  },
  {
   "cell_type": "code",
   "execution_count": null,
   "id": "23",
   "metadata": {},
   "outputs": [],
   "source": [
    "STOP"
   ]
  },
  {
   "cell_type": "code",
   "execution_count": null,
   "id": "24",
   "metadata": {},
   "outputs": [],
   "source": []
  },
  {
   "cell_type": "code",
   "execution_count": null,
   "id": "25",
   "metadata": {
    "tags": []
   },
   "outputs": [],
   "source": [
    "final_df2.columns"
   ]
  },
  {
   "cell_type": "code",
   "execution_count": null,
   "id": "26",
   "metadata": {
    "tags": []
   },
   "outputs": [],
   "source": [
    "from functools import reduce"
   ]
  },
  {
   "cell_type": "code",
   "execution_count": null,
   "id": "27",
   "metadata": {
    "tags": []
   },
   "outputs": [],
   "source": [
    "final_df = reduce(lambda left,right: pd.merge(left,right, on=['studieID'], how='outer'), list_of_data_frames)"
   ]
  },
  {
   "cell_type": "code",
   "execution_count": null,
   "id": "28",
   "metadata": {
    "tags": []
   },
   "outputs": [],
   "source": [
    "final_df"
   ]
  },
  {
   "cell_type": "code",
   "execution_count": null,
   "id": "29",
   "metadata": {
    "tags": []
   },
   "outputs": [],
   "source": [
    "final_df[final_df['studieID'] =='BRICK_001']"
   ]
  },
  {
   "cell_type": "code",
   "execution_count": null,
   "id": "30",
   "metadata": {
    "tags": []
   },
   "outputs": [],
   "source": [
    "for f in final_df.columns:\n",
    "    print(f)"
   ]
  },
  {
   "cell_type": "code",
   "execution_count": null,
   "id": "31",
   "metadata": {
    "tags": []
   },
   "outputs": [],
   "source": [
    "final_df.to_csv('long_lab_data.csv')"
   ]
  },
  {
   "cell_type": "code",
   "execution_count": null,
   "id": "32",
   "metadata": {
    "tags": []
   },
   "outputs": [],
   "source": [
    "final_df.shape"
   ]
  },
  {
   "cell_type": "code",
   "execution_count": null,
   "id": "33",
   "metadata": {},
   "outputs": [],
   "source": []
  },
  {
   "cell_type": "code",
   "execution_count": null,
   "id": "34",
   "metadata": {},
   "outputs": [],
   "source": []
  }
 ],
 "metadata": {
  "kernelspec": {
   "display_name": "Python 3 (ipykernel)",
   "language": "python",
   "name": "python3"
  },
  "language_info": {
   "codemirror_mode": {
    "name": "ipython",
    "version": 3
   },
   "file_extension": ".py",
   "mimetype": "text/x-python",
   "name": "python",
   "nbconvert_exporter": "python",
   "pygments_lexer": "ipython3",
   "version": "3.11.8"
  }
 },
 "nbformat": 4,
 "nbformat_minor": 5
}
