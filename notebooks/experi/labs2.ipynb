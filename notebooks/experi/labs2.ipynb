{
 "cells": [
  {
   "cell_type": "markdown",
   "id": "a42edbd8-1ec2-41ba-8631-244b26a0bebd",
   "metadata": {},
   "source": [
    "# Checking lab data"
   ]
  },
  {
   "cell_type": "code",
   "execution_count": null,
   "id": "0d080047-ed12-4417-8247-4c6f1b83e8d2",
   "metadata": {
    "tags": []
   },
   "outputs": [],
   "source": [
    "import os\n",
    "import sys\n",
    "from functools import reduce\n",
    "import pandas as pd\n",
    "import numpy as np\n",
    "import seaborn as sns\n",
    "import matplotlib.pyplot as plt\n",
    "import ipywidgets as widgets\n",
    "from functools import reduce\n",
    "\n",
    "sys.path.insert(0, '../../')\n",
    "from brickstudy import foundation"
   ]
  },
  {
   "cell_type": "code",
   "execution_count": null,
   "id": "618922a4-c262-4307-955e-67129b8e1b7d",
   "metadata": {
    "tags": []
   },
   "outputs": [],
   "source": [
    "lab_data = pd.read_csv('../../secret_data/BRICK_lab_data_update_18_03_2024.csv', sep= ';', encoding='latin1')\n",
    "                         "
   ]
  },
  {
   "cell_type": "code",
   "execution_count": null,
   "id": "2c59a22a-c02b-48e0-8e27-ea08c6735b12",
   "metadata": {
    "tags": []
   },
   "outputs": [],
   "source": [
    "lab_data.head(3)"
   ]
  },
  {
   "cell_type": "code",
   "execution_count": null,
   "id": "07a585ac-52bb-472d-99b0-439827602985",
   "metadata": {
    "tags": []
   },
   "outputs": [],
   "source": [
    "lab_data.shape"
   ]
  },
  {
   "cell_type": "code",
   "execution_count": null,
   "id": "a2af28a2-2efb-45f2-9cb8-36832ee5ad0e",
   "metadata": {
    "tags": []
   },
   "outputs": [],
   "source": [
    "lab_data['studieID'].unique()"
   ]
  },
  {
   "cell_type": "code",
   "execution_count": null,
   "id": "b59a9047-5e60-4f89-8f30-8385ec321a64",
   "metadata": {
    "tags": []
   },
   "outputs": [],
   "source": [
    "len(lab_data['studieID'].unique())"
   ]
  },
  {
   "cell_type": "markdown",
   "id": "b489fcad-fdf2-4c85-b9ae-9cde5249b9d2",
   "metadata": {},
   "source": [
    "## So we have 47 patients, this will be extremely important later!\n",
    "Below we will reformat the studieID to be in the same format as patient ID, i.e. with a _ instead of a -"
   ]
  },
  {
   "cell_type": "code",
   "execution_count": null,
   "id": "9d39ef13-2293-49d5-a81a-32d88a4efeca",
   "metadata": {
    "tags": []
   },
   "outputs": [],
   "source": [
    "lab_data['studieID'] = lab_data['studieID'].astype(str)\n",
    "lab_data['studieID'] = lab_data['studieID'].str.replace(\"-\", \"_\")"
   ]
  },
  {
   "cell_type": "code",
   "execution_count": null,
   "id": "f401f8a8-bfeb-4f23-acce-9b723ea2fead",
   "metadata": {
    "tags": []
   },
   "outputs": [],
   "source": [
    "lab_data.head(3)"
   ]
  },
  {
   "cell_type": "markdown",
   "id": "3940640e-a919-4764-a287-b924da7a632e",
   "metadata": {},
   "source": [
    "## We want in theory all the patients on thier own line, but not many lines per patient\n",
    "We will try to accomplish this by splitting the dataset into each code-code-original i.e. each type of lab taken on the assumption we will almost always have one ;ab"
   ]
  },
  {
   "cell_type": "code",
   "execution_count": null,
   "id": "4cd09d98-c64b-45a9-beb9-21661a8163ce",
   "metadata": {
    "tags": []
   },
   "outputs": [],
   "source": [
    "lab_data.code_code_original.unique()"
   ]
  },
  {
   "cell_type": "markdown",
   "id": "a6e231ac-b809-481f-8184-a5a1f2a887c5",
   "metadata": {},
   "source": [
    "Notice there is a nan code. This will not work out well for us. It turns out it is in this dataset always teh case with Natrium. We will make the code, a string"
   ]
  },
  {
   "cell_type": "code",
   "execution_count": null,
   "id": "d7dfa902-c4ed-4d33-84df-e122b654ac8c",
   "metadata": {
    "tags": []
   },
   "outputs": [],
   "source": [
    "codes = lab_data.code_code_original.unique().astype(str)\n",
    "codes"
   ]
  },
  {
   "cell_type": "code",
   "execution_count": null,
   "id": "f6788268-02c1-430e-8cf2-b9b95b90deec",
   "metadata": {
    "tags": []
   },
   "outputs": [],
   "source": [
    "len(codes)"
   ]
  },
  {
   "cell_type": "markdown",
   "id": "de9e8d04-bb75-42a9-9e4b-109b67ea8177",
   "metadata": {},
   "source": [
    "Scientists not interested in ICT, LIP, HEM, ORD8, BAF9 or EX_LUMC therefore we will drop these values"
   ]
  },
  {
   "cell_type": "code",
   "execution_count": null,
   "id": "d3f3174f-2cec-40ff-b275-9c000f086a08",
   "metadata": {
    "tags": []
   },
   "outputs": [],
   "source": [
    "lab_data = lab_data.drop(lab_data[lab_data['code_code_original']== 'ICT'].index)\n",
    "lab_data = lab_data.drop(lab_data[lab_data['code_code_original']== 'LIP'].index)\n",
    "lab_data = lab_data.drop(lab_data[lab_data['code_code_original']== 'HEM'].index)\n",
    "lab_data = lab_data.drop(lab_data[lab_data['code_code_original']== 'ORD8'].index)\n",
    "lab_data = lab_data.drop(lab_data[lab_data['code_code_original']== 'BAF9'].index)\n",
    "lab_data = lab_data.drop(lab_data[lab_data['code_code_original']== 'EX_LUMC'].index)"
   ]
  },
  {
   "cell_type": "code",
   "execution_count": null,
   "id": "e7d20aa2-e401-42ab-8b7b-f1d440507dfb",
   "metadata": {
    "tags": []
   },
   "outputs": [],
   "source": [
    "lab_data"
   ]
  },
  {
   "cell_type": "markdown",
   "id": "73e0bd8f-3fda-4377-8098-973a2f071d12",
   "metadata": {},
   "source": [
    "Scientist wants Brick-55 only on 17-11-23 11:53, BRICK_23 only on 15-06-2023, BRICK-008 oly on 10:05:15,\n",
    "and special treatment for brick-25/ We can't find date on brick23 and fix 25 yet"
   ]
  },
  {
   "cell_type": "code",
   "execution_count": null,
   "id": "5c081fd6-e611-4f7b-9740-dfef8e414051",
   "metadata": {},
   "outputs": [],
   "source": []
  },
  {
   "cell_type": "code",
   "execution_count": null,
   "id": "cb75c20a-51fe-4046-a7f9-96dfec548ec1",
   "metadata": {
    "tags": []
   },
   "outputs": [],
   "source": [
    "lab_data[lab_data['studieID'] == 'BRICK_025']"
   ]
  },
  {
   "cell_type": "code",
   "execution_count": null,
   "id": "706bb8a0-81c1-4db0-b557-8f06a9c1a9ea",
   "metadata": {
    "tags": []
   },
   "outputs": [],
   "source": [
    "#brick_25_wanted \n",
    "brick_25_mcv_wanted = lab_data[lab_data['studieID'] == 'BRICK_025'][lab_data['effectiveDateTime'] == '2022-09-12 15:52:42.0000000']\n",
    "\n",
    "brick_25_mcv_wanted"
   ]
  },
  {
   "cell_type": "markdown",
   "id": "0afd8a60-d569-4cfa-89a9-c9c12827fd6d",
   "metadata": {},
   "source": [
    "The urine was not done at 14:44 rather 15:44"
   ]
  },
  {
   "cell_type": "code",
   "execution_count": null,
   "id": "b8271418-6288-450b-a8d9-fb2ec461fe49",
   "metadata": {
    "tags": []
   },
   "outputs": [],
   "source": [
    "brick_25_urine_wanted = lab_data[lab_data['studieID'] == 'BRICK_025'][lab_data['effectiveDateTime'] == '2022-09-12 15:44:02.0000000']\n",
    "brick_25_urine_wanted"
   ]
  },
  {
   "cell_type": "code",
   "execution_count": null,
   "id": "6fb526d6-9ffa-4497-ab8b-544819751d65",
   "metadata": {
    "tags": []
   },
   "outputs": [],
   "source": [
    "# cut brick 23 to requested\n",
    "brick_23_wanted = lab_data[lab_data['studieID'] == 'BRICK_023'][lab_data['effectiveDateTime'] == '2023-07-17 12:34:47.0000000']"
   ]
  },
  {
   "cell_type": "code",
   "execution_count": null,
   "id": "c3810427-d191-4638-9ed0-0acc30210809",
   "metadata": {
    "tags": []
   },
   "outputs": [],
   "source": [
    "#get the brick8 we want\n",
    "brick_8_wanted = lab_data[lab_data['studieID'] == 'BRICK_008'][lab_data['effectiveDateTime'] == '2022-08-29 10:05:12.0000000']\n"
   ]
  },
  {
   "cell_type": "code",
   "execution_count": null,
   "id": "0d74c7ce-7107-48fc-94c5-a6b1aadbda92",
   "metadata": {
    "tags": []
   },
   "outputs": [],
   "source": [
    "# here are the brick 55 we want\n",
    "\n",
    "brick_55_wanted = lab_data[lab_data['studieID'] == 'BRICK_055'][lab_data['effectiveDateTime'] == '2023-11-17 11:35:12.0000000']\n",
    "\n",
    "#now let's drop all of them, then append back on what we want\n",
    "lab_data_no_ = lab_data.drop(lab_data[lab_data['studieID'] == 'BRICK_055'].index)\n",
    "lab_data_no_ = lab_data_no_.drop(lab_data[lab_data['studieID'] == 'BRICK_008'].index)\n",
    "lab_data_no_ = lab_data_no_.drop(lab_data[lab_data['studieID'] == 'BRICK_023'].index)\n",
    "lab_data_no_ = lab_data_no_.drop(lab_data[lab_data['studieID'] == 'BRICK_025'].index)\n",
    "#lab_data = "
   ]
  },
  {
   "cell_type": "code",
   "execution_count": null,
   "id": "f66e1191-34f3-4731-9c8a-1a8e14a333c3",
   "metadata": {
    "tags": []
   },
   "outputs": [],
   "source": [
    "lab_data_no_.columns"
   ]
  },
  {
   "cell_type": "code",
   "execution_count": null,
   "id": "f0703320-3b4d-4b53-b5cb-434dd46ed085",
   "metadata": {
    "tags": []
   },
   "outputs": [],
   "source": [
    "brick_25_mcv_wanted.shape"
   ]
  },
  {
   "cell_type": "code",
   "execution_count": null,
   "id": "36b8e2c6-8f3b-48f9-ac04-f3dd63039baa",
   "metadata": {
    "tags": []
   },
   "outputs": [],
   "source": [
    "brick_25_urine_wanted.shape"
   ]
  },
  {
   "cell_type": "code",
   "execution_count": null,
   "id": "03501811-9c7e-4f8a-a0b1-48cb76e323be",
   "metadata": {
    "tags": []
   },
   "outputs": [],
   "source": [
    "brick_25_mcv_wanted.head(3)"
   ]
  },
  {
   "cell_type": "markdown",
   "id": "71d8d034-a5f4-48da-9fbd-9d6bfe9e9fbc",
   "metadata": {},
   "source": [
    "# now to merge we will need to replace the effectiveDateTime in one (the urine) columns with a placeholder"
   ]
  },
  {
   "cell_type": "code",
   "execution_count": null,
   "id": "0e4e29d2-3feb-42f7-94e9-56c805f5c9e1",
   "metadata": {
    "tags": []
   },
   "outputs": [],
   "source": [
    "brick_25_urine_wanted['effectiveDateTime'] = '2022-09-12 15:52:42.0000000'\n",
    "brick_25_urine_wanted"
   ]
  },
  {
   "cell_type": "code",
   "execution_count": null,
   "id": "9a88d404-5335-4437-a4bd-d5aba8a3f9de",
   "metadata": {
    "tags": []
   },
   "outputs": [],
   "source": [
    "brick_25_wanted = pd.concat([brick_25_urine_wanted, brick_25_mcv_wanted])\n",
    "brick_25_wanted = brick_25_wanted.reset_index(drop=True)\n",
    "brick_25_wanted.head(3)"
   ]
  },
  {
   "cell_type": "code",
   "execution_count": null,
   "id": "6205f391-95a0-4222-a206-1f49d4e09ecf",
   "metadata": {
    "tags": []
   },
   "outputs": [],
   "source": [
    "brick_25_wanted.shape"
   ]
  },
  {
   "cell_type": "code",
   "execution_count": null,
   "id": "0fb4d026-37d0-42b6-bfde-3b37d2635fbd",
   "metadata": {
    "tags": []
   },
   "outputs": [],
   "source": [
    "brick_55_wanted.shape"
   ]
  },
  {
   "cell_type": "code",
   "execution_count": null,
   "id": "ee67f9ac-ae28-4f3a-8f93-e7f979f69f85",
   "metadata": {
    "tags": []
   },
   "outputs": [],
   "source": [
    "brick_8_wanted.shape"
   ]
  },
  {
   "cell_type": "code",
   "execution_count": null,
   "id": "92ba24a3-e18f-4063-80c9-ff89e522e2cd",
   "metadata": {
    "tags": []
   },
   "outputs": [],
   "source": [
    "lab_data_no_.shape"
   ]
  },
  {
   "cell_type": "code",
   "execution_count": null,
   "id": "d7e19beb-c3cf-46e5-9454-17b34e49e913",
   "metadata": {
    "tags": []
   },
   "outputs": [],
   "source": [
    "lab_data = pd.concat([lab_data_no_,brick_55_wanted, brick_8_wanted,  brick_23_wanted, brick_25_wanted])\n",
    "lab_data.shape"
   ]
  },
  {
   "cell_type": "code",
   "execution_count": null,
   "id": "2a3b4cc3-5454-4329-bf89-5bb6e8e2475f",
   "metadata": {
    "tags": []
   },
   "outputs": [],
   "source": [
    "lab_data = lab_data.reset_index(drop=True)\n",
    "lab_data"
   ]
  },
  {
   "cell_type": "code",
   "execution_count": null,
   "id": "c1594444-f6fe-4ef5-9989-a1a8b1f1bc62",
   "metadata": {
    "tags": []
   },
   "outputs": [],
   "source": []
  },
  {
   "cell_type": "markdown",
   "id": "976539bc-d01c-4c89-80f9-f152134b9474",
   "metadata": {},
   "source": [
    "We will split off the dataframes, then check to make sure we get something for every code"
   ]
  },
  {
   "cell_type": "code",
   "execution_count": null,
   "id": "d59c5b49-4dbc-4fa8-9151-c7fbbb5909f1",
   "metadata": {
    "tags": []
   },
   "outputs": [],
   "source": [
    "list_of_data_frames = []\n",
    "for code in codes:\n",
    "    prenames = [\"code_code_original\", code]\n",
    "    frame_name = \"_\".join(prenames)\n",
    "    #print(frame_name)\n",
    "    frame_name = lab_data[lab_data['code_code_original'] == code]\n",
    "    frame_name = frame_name.add_suffix(code)\n",
    "    frame_name = frame_name.rename(columns= {frame_name.columns[0]:'studieID'})\n",
    "    list_of_data_frames.append(frame_name)\n",
    "    "
   ]
  },
  {
   "cell_type": "code",
   "execution_count": null,
   "id": "e7b19d39-e15a-46f3-a019-6ad997d4738c",
   "metadata": {
    "tags": []
   },
   "outputs": [],
   "source": [
    "len(list_of_data_frames)"
   ]
  },
  {
   "cell_type": "code",
   "execution_count": null,
   "id": "568b091f-4ac8-41bb-b62d-427335e6cebb",
   "metadata": {
    "tags": []
   },
   "outputs": [],
   "source": [
    "len(codes)"
   ]
  },
  {
   "cell_type": "markdown",
   "id": "8f24aa00-13f0-42eb-996b-0e2d476d08e7",
   "metadata": {},
   "source": [
    "Let's look at an example:"
   ]
  },
  {
   "cell_type": "code",
   "execution_count": null,
   "id": "62afc4a7-8f9a-4bce-bd06-370d2ff47609",
   "metadata": {
    "tags": []
   },
   "outputs": [],
   "source": [
    "list_of_data_frames[0].head(3) "
   ]
  },
  {
   "cell_type": "code",
   "execution_count": null,
   "id": "3555fa10-0cb0-4ce6-9405-8e0237cdc77e",
   "metadata": {
    "tags": []
   },
   "outputs": [],
   "source": [
    "list_of_data_frames[1].head(3) "
   ]
  },
  {
   "cell_type": "code",
   "execution_count": null,
   "id": "ac2ee5be-4da5-4391-b4e2-509495388562",
   "metadata": {
    "tags": []
   },
   "outputs": [],
   "source": [
    "list_of_data_frames[1].shape"
   ]
  },
  {
   "cell_type": "markdown",
   "id": "532b92c3-6c75-4f29-86c8-b2400257a1fd",
   "metadata": {},
   "source": [
    "So far so good, we have a frame with in the example above the DBIL. We then tried to do a big reduction; but it produced repeaters"
   ]
  },
  {
   "cell_type": "code",
   "execution_count": null,
   "id": "b5dbd001-3d4b-445f-bdae-9c2a71a88240",
   "metadata": {
    "tags": []
   },
   "outputs": [],
   "source": [
    "final_df = reduce(lambda left,right: pd.merge(left,right, on=['studieID'], how='outer'), list_of_data_frames)"
   ]
  },
  {
   "cell_type": "code",
   "execution_count": null,
   "id": "84e6c2c4-d52b-4614-9b67-d3c542769ff5",
   "metadata": {
    "tags": []
   },
   "outputs": [],
   "source": [
    "final_df.shape"
   ]
  },
  {
   "cell_type": "code",
   "execution_count": null,
   "id": "2b42facd-9d36-4bf1-8b75-fa02a3ff36d4",
   "metadata": {
    "tags": []
   },
   "outputs": [],
   "source": [
    "final_df.head(30)"
   ]
  },
  {
   "cell_type": "code",
   "execution_count": null,
   "id": "0e62e803-c63e-46e9-b201-141a89eb06af",
   "metadata": {
    "tags": []
   },
   "outputs": [],
   "source": [
    "final_df.to_csv('full_labs_UPDATES.csv')"
   ]
  },
  {
   "cell_type": "markdown",
   "id": "c9ca9689-fde3-49bf-8f3c-a10bc3e269eb",
   "metadata": {},
   "source": [
    "We NO LONGER needed to examine why this happened so we took a look by hand:"
   ]
  },
  {
   "cell_type": "code",
   "execution_count": null,
   "id": "73908695-80f4-482b-b636-4eeac02f88e5",
   "metadata": {
    "tags": []
   },
   "outputs": [],
   "source": [
    "stop"
   ]
  },
  {
   "cell_type": "code",
   "execution_count": null,
   "id": "af6e01f4-2878-4605-8d93-d6ff50035efd",
   "metadata": {
    "tags": []
   },
   "outputs": [],
   "source": [
    "final_df2 = list_of_data_frames[0].merge(list_of_data_frames[1], on=['studieID'], how='outer')"
   ]
  },
  {
   "cell_type": "code",
   "execution_count": null,
   "id": "bfa227d1-f240-4112-bf87-1e5c776b53af",
   "metadata": {
    "tags": []
   },
   "outputs": [],
   "source": [
    "final_df2 = final_df2.merge(list_of_data_frames[3], on=['studieID'], how='outer').merge(list_of_data_frames[4], on=['studieID'], how='outer')"
   ]
  },
  {
   "cell_type": "code",
   "execution_count": null,
   "id": "593d7c81-5fa7-4435-a9da-e5b65b0be090",
   "metadata": {
    "tags": []
   },
   "outputs": [],
   "source": [
    "final_df2"
   ]
  },
  {
   "cell_type": "code",
   "execution_count": null,
   "id": "7e3f3890-4f9b-494d-82c8-da8f73c609d2",
   "metadata": {
    "tags": []
   },
   "outputs": [],
   "source": [
    "final_df2 = final_df2.merge(list_of_data_frames[5], on=['studieID'], how='outer').merge(list_of_data_frames[6], on=['studieID'], how='outer')"
   ]
  },
  {
   "cell_type": "code",
   "execution_count": null,
   "id": "ad6d434a-99b4-47c3-9955-90fa69db944b",
   "metadata": {
    "tags": []
   },
   "outputs": [],
   "source": [
    "len(final_df2)"
   ]
  },
  {
   "cell_type": "code",
   "execution_count": null,
   "id": "1144027e-e5f5-4726-98af-a99e63ee2e61",
   "metadata": {
    "tags": []
   },
   "outputs": [],
   "source": [
    "final_df2 = final_df2.merge(\n",
    "    list_of_data_frames[7], on=['studieID'], how='outer'\n",
    ").merge(list_of_data_frames[8], on=['studieID'], how='outer'\n",
    ").merge(list_of_data_frames[9], on=['studieID'], how='outer'\n",
    ").merge(list_of_data_frames[10], on=['studieID'], how='outer'\n",
    ").merge(list_of_data_frames[11], on=['studieID'], how='outer'\n",
    ").merge(list_of_data_frames[12], on=['studieID'], how='outer'\n",
    ").merge(list_of_data_frames[13], on=['studieID'], how='outer'\n",
    ").merge(list_of_data_frames[14], on=['studieID'], how='outer'\n",
    ").merge(list_of_data_frames[15], on=['studieID'], how='outer'\n",
    ").merge(list_of_data_frames[16], on=['studieID'], how='outer'\n",
    ").merge(list_of_data_frames[17], on=['studieID'], how='outer'\n",
    ").merge(list_of_data_frames[18], on=['studieID'], how='outer'\n",
    ").merge(list_of_data_frames[19], on=['studieID'], how='outer'\n",
    ").merge(list_of_data_frames[20], on=['studieID'], how='outer'\n",
    ").merge(list_of_data_frames[21], on=['studieID'], how='outer'\n",
    ").merge(list_of_data_frames[22], on=['studieID'], how='outer'\n",
    ").merge(list_of_data_frames[23], on=['studieID'], how='outer'\n",
    "# ).merge(list_of_data_frames[24], on=['studieID'], how='outer'\n",
    "# ).merge(list_of_data_frames[25], on=['studieID'], how='outer'\n",
    "# ).merge(list_of_data_frames[26], on=['studieID'], how='outer'\n",
    "# ).merge(list_of_data_frames[27], on=['studieID'], how='outer'\n",
    "# ).merge(list_of_data_frames[28], on=['studieID'], how='outer'\n",
    "# ).merge(list_of_data_frames[29], on=['studieID'], how='outer'\n",
    "# ).merge(list_of_data_frames[30], on=['studieID'], how='outer'\n",
    "# ).merge(list_of_data_frames[31], on=['studieID'], how='outer'\n",
    "# ).merge(list_of_data_frames[32], on=['studieID'], how='outer'\n",
    "# ).merge(list_of_data_frames[33], on=['studieID'], how='outer'\n",
    "# ).merge(list_of_data_frames[34], on=['studieID'], how='outer'\n",
    "# ).merge(list_of_data_frames[35], on=['studieID'], how='outer'\n",
    "# ).merge(list_of_data_frames[36], on=['studieID'], how='outer'\n",
    "# ).merge(list_of_data_frames[37], on=['studieID'], how='outer'\n",
    "# ).merge(list_of_data_frames[38], on=['studieID'], how='outer'\n",
    "# ).merge(list_of_data_frames[39], on=['studieID'], how='outer'\n",
    "       )"
   ]
  },
  {
   "cell_type": "markdown",
   "id": "6c9da7c7-e289-4d7f-a689-21857955013f",
   "metadata": {
    "tags": []
   },
   "source": [
    "After some thought and examination we realized there are repeaters, because on some codes, there are multiple examples.\n",
    "There is really no other way to organize ALL the data without repeaters.\n"
   ]
  },
  {
   "cell_type": "code",
   "execution_count": null,
   "id": "83d5f1be-1f9e-4607-bd3c-5488c8749a99",
   "metadata": {
    "tags": []
   },
   "outputs": [],
   "source": [
    "final_df2.tail(7)"
   ]
  },
  {
   "cell_type": "markdown",
   "id": "0ba2b195-757c-4b2b-92bb-0474ce5588e2",
   "metadata": {
    "tags": []
   },
   "source": [
    "Let's look at a repeater example:"
   ]
  },
  {
   "cell_type": "code",
   "execution_count": null,
   "id": "521d9cbe-d705-4bf5-8dc3-39ac1280f7ab",
   "metadata": {
    "tags": []
   },
   "outputs": [],
   "source": [
    "final_df2[final_df2['studieID'] == 'BRICK_055']"
   ]
  },
  {
   "cell_type": "markdown",
   "id": "e6401c3f-82eb-4ca8-8683-7402198876f4",
   "metadata": {},
   "source": [
    "In this case we got lucky and we can just scroll right, and see the problem. The RDW is repeated, one venous one capillary. There is\n",
    "another repeater or differing value as well, and we can tell because this is doubled"
   ]
  },
  {
   "cell_type": "markdown",
   "id": "d571d148-a118-4d32-b93c-4394465a6b65",
   "metadata": {},
   "source": [
    "So we could at least detect the repeaters...remember it wasn't every lab with this problem, then the scientists must decide what to do about all this"
   ]
  },
  {
   "cell_type": "code",
   "execution_count": null,
   "id": "9b761919-52d3-4c1d-a0f3-c05687adf879",
   "metadata": {
    "tags": []
   },
   "outputs": [],
   "source": [
    "list_of_data_frames[0]['studieID'].is_unique\n",
    "#list_of_data_frames[0]"
   ]
  },
  {
   "cell_type": "code",
   "execution_count": null,
   "id": "77f3ff38-9a47-455c-acc9-2fe6e4d34583",
   "metadata": {
    "tags": []
   },
   "outputs": [],
   "source": [
    "# let's do our original frame maker with an artifact\n",
    "list_of_data_frames = []\n",
    "dupe_q = []\n",
    "for code in codes:\n",
    "    prenames = [\"code_code_original\", code]\n",
    "    frame_name = \"_\".join(prenames)\n",
    "    #print(frame_name)\n",
    "    frame_name = lab_data[lab_data['code_code_original'] == code]\n",
    "    frame_name = frame_name.add_suffix(code)\n",
    "    frame_name = frame_name.rename(columns= {frame_name.columns[0]:'studieID'})\n",
    "    codes_dupe_list = code, frame_name['studieID'].is_unique\n",
    "    print(codes_dupe_list)\n",
    "    dupe_q.append(codes_dupe_list)\n",
    "    list_of_data_frames.append(frame_name)"
   ]
  },
  {
   "cell_type": "markdown",
   "id": "96caf26b-6e2c-48d2-b457-9fb27ecbab89",
   "metadata": {
    "tags": []
   },
   "source": [
    "OK, but now we want to just get an actionable list of where it is wrong"
   ]
  },
  {
   "cell_type": "code",
   "execution_count": null,
   "id": "df87a62c-c1ae-4e4f-9be3-01bffda06ad8",
   "metadata": {
    "tags": []
   },
   "outputs": [],
   "source": [
    "\n",
    "dupies = pd.DataFrame(dupe_q, columns =['Value', 'Doubled'])\n",
    "dupies[dupies['Doubled'] == False] "
   ]
  },
  {
   "cell_type": "markdown",
   "id": "9f3c72f2-33c9-4e13-b3ab-af4cc0c63ee1",
   "metadata": {
    "tags": []
   },
   "source": [
    "## This is not a short list! We will need to examine each of these and discuss with scientists!"
   ]
  },
  {
   "cell_type": "markdown",
   "id": "918f54f1-c8d2-447c-a586-b9bf211b5a40",
   "metadata": {},
   "source": [
    "Let's look at an example, use the index number to know how to pull up examples i.e, pull 5,9,10,13..."
   ]
  },
  {
   "cell_type": "code",
   "execution_count": null,
   "id": "877f423e-0c67-4d08-8a35-cc7affe932a7",
   "metadata": {
    "tags": []
   },
   "outputs": [],
   "source": [
    "len(list_of_data_frames[9])"
   ]
  },
  {
   "cell_type": "code",
   "execution_count": null,
   "id": "03b95d1a-28fc-47e0-bfdc-1993386c55b5",
   "metadata": {},
   "outputs": [],
   "source": [
    " How can we find how many repeaters?"
   ]
  },
  {
   "cell_type": "code",
   "execution_count": null,
   "id": "0f308223-01e5-46f2-bb1c-388cb42d6288",
   "metadata": {
    "tags": []
   },
   "outputs": [],
   "source": [
    "len(list_of_data_frames[9]) - len(list_of_data_frames[9].studieID.unique())"
   ]
  },
  {
   "cell_type": "markdown",
   "id": "32fc859e-0ac6-4ed8-b5a2-5816da9323ba",
   "metadata": {},
   "source": [
    "Unfortunately simple set math willl not help us here because the set of pandas column collapses to the unique values\n",
    "As demonstrated below:"
   ]
  },
  {
   "cell_type": "code",
   "execution_count": null,
   "id": "e116b345-8a09-49aa-94f3-cf463ed802b3",
   "metadata": {
    "tags": []
   },
   "outputs": [],
   "source": [
    "len(list_of_data_frames[9].studieID) - len(set(list_of_data_frames[9].studieID))"
   ]
  },
  {
   "cell_type": "markdown",
   "id": "f8934ec5-9dad-458a-84fe-b954909a0a2b",
   "metadata": {},
   "source": [
    "So we will use filtering to find the duplicatd if we want it...demonstrated below:"
   ]
  },
  {
   "cell_type": "code",
   "execution_count": null,
   "id": "d3b66a8e-2e0b-4205-9852-02f156b9537a",
   "metadata": {
    "tags": []
   },
   "outputs": [],
   "source": [
    "list_of_data_frames[9].studieID[list_of_data_frames[9].studieID.duplicated()]"
   ]
  },
  {
   "cell_type": "markdown",
   "id": "7b76a385-6df1-4492-91fb-05cb6f778040",
   "metadata": {
    "tags": []
   },
   "source": [
    "## OK, on to seeing how many dupes there were per frame"
   ]
  },
  {
   "cell_type": "code",
   "execution_count": null,
   "id": "95ea8883-c9cd-4b76-a6a4-46776a6a2876",
   "metadata": {
    "tags": []
   },
   "outputs": [],
   "source": [
    "# # write a function\n",
    "\n",
    "\n",
    "# list:\n",
    "    \n",
    "#     patient ID#, value duplicated\n",
    "    \n",
    "#     BRICK_025, ALB-U duplicated\n",
    "    \n",
    "#     & sarah email or contact"
   ]
  },
  {
   "cell_type": "code",
   "execution_count": null,
   "id": "89c0ee52-5467-41d5-addf-7c189f306f5d",
   "metadata": {
    "tags": []
   },
   "outputs": [],
   "source": [
    "#dupies[dupies['Doubled'] == False] "
   ]
  },
  {
   "cell_type": "code",
   "execution_count": null,
   "id": "27a57110-515a-4772-bdc9-756251ace01e",
   "metadata": {
    "tags": []
   },
   "outputs": [],
   "source": [
    "list_dupie_frames = [list_of_data_frames[5],\n",
    "                     list_of_data_frames[9],\n",
    "                     list_of_data_frames[10],\n",
    "                     list_of_data_frames[13],\n",
    "                     list_of_data_frames[22],\n",
    "                     list_of_data_frames[23],\n",
    "                     list_of_data_frames[24],\n",
    "                     list_of_data_frames[25],\n",
    "                     list_of_data_frames[26],\n",
    "                     list_of_data_frames[27],\n",
    "                     list_of_data_frames[28],\n",
    "                     list_of_data_frames[29],\n",
    "                     list_of_data_frames[30],\n",
    "                     list_of_data_frames[31],\n",
    "                     list_of_data_frames[32],\n",
    "                     list_of_data_frames[33],\n",
    "                     list_of_data_frames[34],\n",
    "                     list_of_data_frames[36],\n",
    "                     list_of_data_frames[37],\n",
    "                     list_of_data_frames[61],\n",
    "                     list_of_data_frames[62],\n",
    "                     list_of_data_frames[84],]\n",
    "#"
   ]
  },
  {
   "cell_type": "code",
   "execution_count": null,
   "id": "aeff67a3-467e-4bfe-a36e-ef441ab4e421",
   "metadata": {
    "tags": []
   },
   "outputs": [],
   "source": [
    "for frame in list_dupie_frames:\n",
    "    print(frame.columns[1].replace(\"labdatum_studieID\", \"\"))\n",
    "    print(frame.studieID[frame.studieID.duplicated()])"
   ]
  },
  {
   "cell_type": "code",
   "execution_count": null,
   "id": "c1775717-2a74-44ce-a56e-bca7b308e866",
   "metadata": {},
   "outputs": [],
   "source": []
  },
  {
   "cell_type": "code",
   "execution_count": null,
   "id": "326d8ebb-b271-47a2-a9c3-6db0d9c7e52f",
   "metadata": {},
   "outputs": [],
   "source": []
  },
  {
   "cell_type": "code",
   "execution_count": null,
   "id": "edcc67cd-0941-4187-a52a-e3f13565711f",
   "metadata": {},
   "outputs": [],
   "source": []
  },
  {
   "cell_type": "code",
   "execution_count": null,
   "id": "f5181fcd-848d-4fcd-8de7-5682fd56fe17",
   "metadata": {},
   "outputs": [],
   "source": []
  },
  {
   "cell_type": "code",
   "execution_count": null,
   "id": "173d7270-d7dd-4e77-95c2-adfea57cab1a",
   "metadata": {
    "tags": []
   },
   "outputs": [],
   "source": [
    "len(list_of_data_frames[5]) - len(list_of_data_frames[5].studieID.unique())"
   ]
  },
  {
   "cell_type": "code",
   "execution_count": null,
   "id": "83333bac-0dfe-4a65-9931-10b982678640",
   "metadata": {
    "tags": []
   },
   "outputs": [],
   "source": [
    "len(list_of_data_frames[13]) - len(list_of_data_frames[13].studieID.unique())"
   ]
  },
  {
   "cell_type": "code",
   "execution_count": null,
   "id": "86c2b51c-0e17-47fe-b81b-348a15ee6639",
   "metadata": {
    "tags": []
   },
   "outputs": [],
   "source": [
    "len(list_of_data_frames[22]) - len(list_of_data_frames[22].studieID.unique())"
   ]
  },
  {
   "cell_type": "code",
   "execution_count": null,
   "id": "2a90cd3a-827f-4115-b480-122b01e85f78",
   "metadata": {
    "tags": []
   },
   "outputs": [],
   "source": [
    "len(list_of_data_frames[23]) - len(list_of_data_frames[23].studieID.unique())"
   ]
  },
  {
   "cell_type": "code",
   "execution_count": null,
   "id": "766bc934-b396-4ec7-90f7-9174aabf052d",
   "metadata": {
    "tags": []
   },
   "outputs": [],
   "source": [
    "len(list_of_data_frames[24]) - len(list_of_data_frames[24].studieID.unique())"
   ]
  },
  {
   "cell_type": "code",
   "execution_count": null,
   "id": "ade3d9c3-944c-478e-b965-3a6a124ccff0",
   "metadata": {
    "tags": []
   },
   "outputs": [],
   "source": [
    "len(list_of_data_frames[25]) - len(list_of_data_frames[25].studieID.unique())"
   ]
  },
  {
   "cell_type": "code",
   "execution_count": null,
   "id": "305687bf-5888-435f-8594-e1d13b65d5d3",
   "metadata": {
    "tags": []
   },
   "outputs": [],
   "source": [
    "len(list_of_data_frames[26]) - len(list_of_data_frames[26].studieID.unique())"
   ]
  },
  {
   "cell_type": "code",
   "execution_count": null,
   "id": "a733bb4d-5038-4f6c-b951-8d21eccd8cbf",
   "metadata": {
    "tags": []
   },
   "outputs": [],
   "source": [
    "len(list_of_data_frames[27]) - len(list_of_data_frames[27].studieID.unique())"
   ]
  },
  {
   "cell_type": "markdown",
   "id": "74d2ef3a-242c-40a0-842d-f748ce43fee9",
   "metadata": {},
   "source": [
    "## Scientists can do this by hand because the list is short...."
   ]
  },
  {
   "cell_type": "markdown",
   "id": "4a96f9b8-9a89-44e5-9f2e-90af54e46779",
   "metadata": {
    "tags": []
   },
   "source": [
    "# I suggest data engineers take over multiple possble transformations of data"
   ]
  },
  {
   "cell_type": "code",
   "execution_count": null,
   "id": "b7c89676-9c9d-4062-869d-365cabae9588",
   "metadata": {
    "tags": []
   },
   "outputs": [],
   "source": []
  },
  {
   "cell_type": "code",
   "execution_count": null,
   "id": "5fb08888-8a42-4608-b661-555cd71efb63",
   "metadata": {},
   "outputs": [],
   "source": []
  },
  {
   "cell_type": "code",
   "execution_count": null,
   "id": "76c51301-2f61-46d0-9dbb-d42cfff6555b",
   "metadata": {},
   "outputs": [],
   "source": [
    "STOP"
   ]
  },
  {
   "cell_type": "code",
   "execution_count": null,
   "id": "14929975-feb8-42d8-b9e6-c44d4dba62e6",
   "metadata": {},
   "outputs": [],
   "source": []
  },
  {
   "cell_type": "code",
   "execution_count": null,
   "id": "53915656-8f73-4d3b-894d-e3d269657db3",
   "metadata": {
    "tags": []
   },
   "outputs": [],
   "source": [
    "final_df2.columns"
   ]
  },
  {
   "cell_type": "code",
   "execution_count": null,
   "id": "00f5dbbe-bb48-4149-b829-77e089742128",
   "metadata": {
    "tags": []
   },
   "outputs": [],
   "source": []
  },
  {
   "cell_type": "code",
   "execution_count": null,
   "id": "7b26891a-8604-47ec-996c-de2c65f2a10a",
   "metadata": {
    "tags": []
   },
   "outputs": [],
   "source": [
    "#final_df = reduce(lambda left,right: pd.merge(left,right, on=['studieID'], how='outer'), list_of_data_frames)"
   ]
  },
  {
   "cell_type": "code",
   "execution_count": null,
   "id": "fe96eb0c-f89e-4b3e-9019-18377c65adaa",
   "metadata": {
    "tags": []
   },
   "outputs": [],
   "source": [
    "final_df"
   ]
  },
  {
   "cell_type": "code",
   "execution_count": null,
   "id": "3fa9ea82-b5f2-4d6e-be20-21d6b658ae14",
   "metadata": {
    "tags": []
   },
   "outputs": [],
   "source": [
    "final_df[final_df['studieID'] =='BRICK_001']"
   ]
  },
  {
   "cell_type": "code",
   "execution_count": null,
   "id": "88175ae8-7c16-48e9-835f-ef8c61c7157c",
   "metadata": {
    "tags": []
   },
   "outputs": [],
   "source": [
    "for f in final_df.columns:\n",
    "    print(f)"
   ]
  },
  {
   "cell_type": "code",
   "execution_count": null,
   "id": "4c53f74f-dc2f-4407-8155-31d1d89f2a91",
   "metadata": {
    "tags": []
   },
   "outputs": [],
   "source": [
    "final_df.to_csv('long_lab_data.csv')"
   ]
  },
  {
   "cell_type": "code",
   "execution_count": null,
   "id": "697c2a45-3988-4568-bda0-77696afd3400",
   "metadata": {
    "tags": []
   },
   "outputs": [],
   "source": [
    "final_df.shape"
   ]
  },
  {
   "cell_type": "code",
   "execution_count": null,
   "id": "cca01d71-2163-45fb-ab62-e7c826a6c37d",
   "metadata": {},
   "outputs": [],
   "source": []
  },
  {
   "cell_type": "code",
   "execution_count": null,
   "id": "c8c18776-6d5d-4101-bf00-4cdd35593356",
   "metadata": {},
   "outputs": [],
   "source": []
  }
 ],
 "metadata": {
  "kernelspec": {
   "display_name": "Python 3 (ipykernel)",
   "language": "python",
   "name": "python3"
  },
  "language_info": {
   "codemirror_mode": {
    "name": "ipython",
    "version": 3
   },
   "file_extension": ".py",
   "mimetype": "text/x-python",
   "name": "python",
   "nbconvert_exporter": "python",
   "pygments_lexer": "ipython3",
   "version": "3.11.8"
  }
 },
 "nbformat": 4,
 "nbformat_minor": 5
}
