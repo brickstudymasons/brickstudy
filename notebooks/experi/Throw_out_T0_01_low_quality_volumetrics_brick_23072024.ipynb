{
 "cells": [
  {
   "cell_type": "markdown",
   "id": "0",
   "metadata": {},
   "source": [
    "# Quality check preparation abstract ASH 2024 (continued)\n",
    "throwing out freesurfer garbled MRIs, run after running Age_at_scan_genotype_NPO_MRI notebook"
   ]
  },
  {
   "cell_type": "code",
   "execution_count": null,
   "id": "1",
   "metadata": {
    "tags": []
   },
   "outputs": [],
   "source": [
    "import pandas as pd\n",
    "import numpy as np"
   ]
  },
  {
   "cell_type": "code",
   "execution_count": null,
   "id": "2",
   "metadata": {
    "tags": []
   },
   "outputs": [],
   "source": [
    "#read in the csv file that recon-alld all available MRIs\n",
    "brick_t0_01_noqc = pd.read_csv('../../secret_data/brick_volumetric_dems_01_clean.csv')"
   ]
  },
  {
   "cell_type": "code",
   "execution_count": null,
   "id": "3",
   "metadata": {
    "tags": []
   },
   "outputs": [],
   "source": [
    "brick_t0_01_noqc.head(3)"
   ]
  },
  {
   "cell_type": "code",
   "execution_count": null,
   "id": "4",
   "metadata": {
    "tags": []
   },
   "outputs": [],
   "source": [
    "#brick_t0_01_noqc.co"
   ]
  },
  {
   "cell_type": "code",
   "execution_count": null,
   "id": "5",
   "metadata": {
    "tags": []
   },
   "outputs": [],
   "source": [
    "#remove the IDs which didn't pass the visual quality check\n",
    "#ratings>8 in the quality check file\n",
    "ids_to_remove = [\"BRICK_003\", \"BRICK_009\", \"BRICK_024\", \"BRICK_025\", \"BRICK_034\", \"BRICK_036\", \"BRICK_040\"]\n",
    "\n",
    "#pull them out of the dataset\n",
    "brick_t0_01_qcd = brick_t0_01_noqc[~brick_t0_01_noqc[\"Participant_ID\"].isin(ids_to_remove)]\n",
    "\n",
    "brick_t0_01_qcd.head(7)"
   ]
  },
  {
   "cell_type": "code",
   "execution_count": null,
   "id": "6",
   "metadata": {
    "tags": []
   },
   "outputs": [],
   "source": [
    "brick_t0_01_qcd['Gender'] = brick_t0_01_qcd['Gender'].str.replace('V','F')"
   ]
  },
  {
   "cell_type": "code",
   "execution_count": null,
   "id": "7",
   "metadata": {
    "tags": []
   },
   "outputs": [],
   "source": [
    "brick_t0_01_qcd.head(4)"
   ]
  },
  {
   "cell_type": "code",
   "execution_count": null,
   "id": "8",
   "metadata": {
    "tags": []
   },
   "outputs": [],
   "source": [
    "#now save the new qcd dataframe as csv\n",
    "brick_t0_01_qcd.to_csv(\"../../secret_data/dataframe_for_ash_2024.csv\")"
   ]
  },
  {
   "cell_type": "code",
   "execution_count": null,
   "id": "9",
   "metadata": {},
   "outputs": [],
   "source": []
  }
 ],
 "metadata": {
  "kernelspec": {
   "display_name": "Python 3 (ipykernel)",
   "language": "python",
   "name": "python3"
  },
  "language_info": {
   "codemirror_mode": {
    "name": "ipython",
    "version": 3
   },
   "file_extension": ".py",
   "mimetype": "text/x-python",
   "name": "python",
   "nbconvert_exporter": "python",
   "pygments_lexer": "ipython3",
   "version": "3.11.8"
  }
 },
 "nbformat": 4,
 "nbformat_minor": 5
}
