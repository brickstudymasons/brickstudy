{
 "cells": [
  {
   "cell_type": "code",
   "execution_count": 1,
   "id": "70dccb00",
   "metadata": {},
   "outputs": [],
   "source": [
    "import pandas as pd\n",
    "import numpy as np"
   ]
  },
  {
   "cell_type": "code",
   "execution_count": 2,
   "id": "831f3be2",
   "metadata": {},
   "outputs": [],
   "source": [
    "#read in the csv file that recon-alld all available MRIs\n",
    "brick_t0_01_noqc = pd.read_csv('/mnt/data/freesurfer_stats/brain_volumes_from_freesurfer_no_qc.csv')"
   ]
  },
  {
   "cell_type": "code",
   "execution_count": 3,
   "id": "4e2dc0ae",
   "metadata": {},
   "outputs": [
    {
     "name": "stdout",
     "output_type": "stream",
     "text": [
      "   Unnamed: 0 Participant ID  Left-Lateral-Ventricle  Left-Inf-Lat-Vent  \\\n",
      "0           0      BRICK-001                  3003.6              236.3   \n",
      "1           1      BRICK-002                  3423.4              203.2   \n",
      "2           2      BRICK-003                  4516.6             1085.6   \n",
      "3           3      BRICK-004                  6298.0              438.4   \n",
      "4           4      BRICK-005                 12589.6              352.9   \n",
      "\n",
      "   Left-Cerebellum-White-Matter  Left-Cerebellum-Cortex  Left-Thalamus-Proper  \\\n",
      "0                       13804.5                 56622.6                6919.7   \n",
      "1                       12140.0                 50067.4                6404.7   \n",
      "2                       12862.1                 51962.8                7410.2   \n",
      "3                       13439.1                 60803.3                8451.7   \n",
      "4                       13078.8                 58877.9                7250.1   \n",
      "\n",
      "   Left-Caudate  Left-Putamen  Left-Pallidum  ...  SupraTentorialVol  \\\n",
      "0        2986.4        4495.1         1846.9  ...       9.730689e+05   \n",
      "1        3365.1        4887.1         1745.3  ...       9.024442e+05   \n",
      "2        3852.2        5760.3         2096.7  ...       9.749292e+05   \n",
      "3        3750.7        4966.7         2139.3  ...       1.047707e+06   \n",
      "4        3168.0        5603.4         1890.5  ...       9.634470e+05   \n",
      "\n",
      "   SupraTentorialVolNotVent  SupraTentorialVolNotVentVox    MaskVol  \\\n",
      "0              9.667439e+05                     965106.0  1492366.0   \n",
      "1              8.957402e+05                     893925.0  1320302.0   \n",
      "2              9.641572e+05                     962589.0  1597120.0   \n",
      "3              1.036198e+06                    1034290.0  1541590.0   \n",
      "4              9.391100e+05                     937606.0  1459462.0   \n",
      "\n",
      "   BrainSegVol-to-eTIV  MaskVol-to-eTIV  lhSurfaceHoles  rhSurfaceHoles  \\\n",
      "0             0.759430         1.017757            67.0           101.0   \n",
      "1             0.765122         0.984858            68.0            53.0   \n",
      "2             0.720286         1.038266           214.0           166.0   \n",
      "3             0.794228         1.021585           125.0           103.0   \n",
      "4             0.769821         1.014721            75.0            58.0   \n",
      "\n",
      "   SurfaceHoles  EstimatedTotalIntraCranialVol  \n",
      "0         168.0                   1.466329e+06  \n",
      "1         121.0                   1.340601e+06  \n",
      "2         380.0                   1.538257e+06  \n",
      "3         228.0                   1.509018e+06  \n",
      "4         133.0                   1.438289e+06  \n",
      "\n",
      "[5 rows x 68 columns]\n"
     ]
    }
   ],
   "source": [
    "print(brick_t0_01_noqc.head())"
   ]
  },
  {
   "cell_type": "code",
   "execution_count": 4,
   "id": "e3f0d92a",
   "metadata": {},
   "outputs": [],
   "source": [
    "#remove the IDs which didn't pass the visual quality check\n",
    "#ratings>8 in the quality check file\n",
    "ids_to_remove = [\"BRICK-003\", \"BRICK-009\", \"BRICK-024\", \"BRICK-025\", \"BRICK-034\", \"BRICK-036\", \"BRICK-040\"]\n",
    "\n",
    "#pull them out of the dataset\n",
    "brick_t0_01_qcd = brick_t0_01_noqc[~brick_t0_01_noqc[\"Participant ID\"].isin(ids_to_remove)]\n",
    "\n"
   ]
  },
  {
   "cell_type": "code",
   "execution_count": 6,
   "id": "986ad718",
   "metadata": {},
   "outputs": [
    {
     "name": "stdout",
     "output_type": "stream",
     "text": [
      "   Unnamed: 0 Participant ID  Left-Lateral-Ventricle  Left-Inf-Lat-Vent  \\\n",
      "0           0      BRICK-001                  3003.6              236.3   \n",
      "1           1      BRICK-002                  3423.4              203.2   \n",
      "3           3      BRICK-004                  6298.0              438.4   \n",
      "4           4      BRICK-005                 12589.6              352.9   \n",
      "5           5      BRICK-006                  4691.7              316.1   \n",
      "\n",
      "   Left-Cerebellum-White-Matter  Left-Cerebellum-Cortex  Left-Thalamus-Proper  \\\n",
      "0                       13804.5                 56622.6                6919.7   \n",
      "1                       12140.0                 50067.4                6404.7   \n",
      "3                       13439.1                 60803.3                8451.7   \n",
      "4                       13078.8                 58877.9                7250.1   \n",
      "5                       13657.4                 59122.4                6753.1   \n",
      "\n",
      "   Left-Caudate  Left-Putamen  Left-Pallidum  ...  SupraTentorialVol  \\\n",
      "0        2986.4        4495.1         1846.9  ...       9.730689e+05   \n",
      "1        3365.1        4887.1         1745.3  ...       9.024442e+05   \n",
      "3        3750.7        4966.7         2139.3  ...       1.047707e+06   \n",
      "4        3168.0        5603.4         1890.5  ...       9.634470e+05   \n",
      "5        3349.9        5575.4         2009.6  ...       1.000973e+06   \n",
      "\n",
      "   SupraTentorialVolNotVent  SupraTentorialVolNotVentVox    MaskVol  \\\n",
      "0              9.667439e+05                     965106.0  1492366.0   \n",
      "1              8.957402e+05                     893925.0  1320302.0   \n",
      "3              1.036198e+06                    1034290.0  1541590.0   \n",
      "4              9.391100e+05                     937606.0  1459462.0   \n",
      "5              9.914675e+05                     989657.0  1505503.0   \n",
      "\n",
      "   BrainSegVol-to-eTIV  MaskVol-to-eTIV  lhSurfaceHoles  rhSurfaceHoles  \\\n",
      "0             0.759430         1.017757            67.0           101.0   \n",
      "1             0.765122         0.984858            68.0            53.0   \n",
      "3             0.794228         1.021585           125.0           103.0   \n",
      "4             0.769821         1.014721            75.0            58.0   \n",
      "5             0.805694         1.056189            36.0            47.0   \n",
      "\n",
      "   SurfaceHoles  EstimatedTotalIntraCranialVol  \n",
      "0         168.0                   1.466329e+06  \n",
      "1         121.0                   1.340601e+06  \n",
      "3         228.0                   1.509018e+06  \n",
      "4         133.0                   1.438289e+06  \n",
      "5          83.0                   1.425410e+06  \n",
      "\n",
      "[5 rows x 68 columns]\n"
     ]
    }
   ],
   "source": [
    "print (brick_t0_01_qcd.head())"
   ]
  },
  {
   "cell_type": "code",
   "execution_count": 9,
   "id": "d1102ed5",
   "metadata": {},
   "outputs": [],
   "source": [
    "#now save the new qcd dataframe as csv\n",
    "brick_t0_01_qcd.to_csv(\"/mnt/data/freesurfer_stats/brain_volumes_from_freesurfer_qc_01.csv, index=False\")"
   ]
  },
  {
   "cell_type": "code",
   "execution_count": null,
   "id": "1f79fdb3",
   "metadata": {},
   "outputs": [],
   "source": []
  }
 ],
 "metadata": {
  "kernelspec": {
   "display_name": "Python 3 (ipykernel)",
   "language": "python",
   "name": "python3"
  },
  "language_info": {
   "codemirror_mode": {
    "name": "ipython",
    "version": 3
   },
   "file_extension": ".py",
   "mimetype": "text/x-python",
   "name": "python",
   "nbconvert_exporter": "python",
   "pygments_lexer": "ipython3",
   "version": "3.11.9"
  }
 },
 "nbformat": 4,
 "nbformat_minor": 5
}
