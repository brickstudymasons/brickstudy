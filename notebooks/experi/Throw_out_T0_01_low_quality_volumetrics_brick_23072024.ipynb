{
 "cells": [
  {
   "cell_type": "code",
   "execution_count": null,
   "id": "0",
   "metadata": {},
   "outputs": [],
   "source": [
    "import pandas as pd\n",
    "import numpy as np"
   ]
  },
  {
   "cell_type": "code",
   "execution_count": null,
   "id": "1",
   "metadata": {},
   "outputs": [],
   "source": [
    "#read in the csv file that recon-alld all available MRIs\n",
    "brick_t0_01_noqc = pd.read_csv('/mnt/data/freesurfer_stats/brain_volumes_from_freesurfer_no_qc.csv')"
   ]
  },
  {
   "cell_type": "code",
   "execution_count": null,
   "id": "2",
   "metadata": {},
   "outputs": [],
   "source": [
    "print(brick_t0_01_noqc.head())"
   ]
  },
  {
   "cell_type": "code",
   "execution_count": null,
   "id": "3",
   "metadata": {},
   "outputs": [],
   "source": [
    "#remove the IDs which didn't pass the visual quality check\n",
    "#ratings>8 in the quality check file\n",
    "ids_to_remove = [\"BRICK-003\", \"BRICK-009\", \"BRICK-024\", \"BRICK-025\", \"BRICK-034\", \"BRICK-036\", \"BRICK-040\"]\n",
    "\n",
    "#pull them out of the dataset\n",
    "brick_t0_01_qcd = brick_t0_01_noqc[~brick_t0_01_noqc[\"Participant ID\"].isin(ids_to_remove)]\n",
    "\n"
   ]
  },
  {
   "cell_type": "code",
   "execution_count": null,
   "id": "4",
   "metadata": {},
   "outputs": [],
   "source": [
    "print (brick_t0_01_qcd.head())"
   ]
  },
  {
   "cell_type": "code",
   "execution_count": null,
   "id": "5",
   "metadata": {},
   "outputs": [],
   "source": [
    "#now save the new qcd dataframe as csv\n",
    "brick_t0_01_qcd.to_csv(\"/mnt/data/freesurfer_stats/brain_volumes_from_freesurfer_qc_01.csv, index=False\")"
   ]
  },
  {
   "cell_type": "code",
   "execution_count": null,
   "id": "6",
   "metadata": {},
   "outputs": [],
   "source": []
  }
 ],
 "metadata": {
  "kernelspec": {
   "display_name": "Python 3 (ipykernel)",
   "language": "python",
   "name": "python3"
  },
  "language_info": {
   "codemirror_mode": {
    "name": "ipython",
    "version": 3
   },
   "file_extension": ".py",
   "mimetype": "text/x-python",
   "name": "python",
   "nbconvert_exporter": "python",
   "pygments_lexer": "ipython3",
   "version": "3.11.9"
  }
 },
 "nbformat": 4,
 "nbformat_minor": 5
}
