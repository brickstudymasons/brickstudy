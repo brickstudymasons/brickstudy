{
 "cells": [
  {
   "cell_type": "markdown",
   "id": "0",
   "metadata": {},
   "source": [
    "# This is a the start of tabuolar data assembly for brick study"
   ]
  },
  {
   "cell_type": "markdown",
   "id": "1",
   "metadata": {},
   "source": [
    "## read in libraries"
   ]
  },
  {
   "cell_type": "code",
   "execution_count": null,
   "id": "2",
   "metadata": {
    "tags": []
   },
   "outputs": [],
   "source": [
    "import os\n",
    "import sys\n",
    "from functools import reduce\n",
    "import pandas as pd\n",
    "import numpy as np\n",
    "\n",
    "sys.path.insert(0, '../../')\n",
    "from brickstudy import foundation"
   ]
  },
  {
   "cell_type": "markdown",
   "id": "3",
   "metadata": {},
   "source": [
    "## read in data"
   ]
  },
  {
   "cell_type": "code",
   "execution_count": null,
   "id": "4",
   "metadata": {
    "tags": []
   },
   "outputs": [],
   "source": [
    "Brick_Data_20230509 = pd.read_csv(\"../../secret_data/Brick_Data_20230509.csv\", sep=\";\")\n",
    "# show head\n",
    "Brick_Data_20230509.head(5) "
   ]
  },
  {
   "cell_type": "code",
   "execution_count": null,
   "id": "5",
   "metadata": {
    "tags": []
   },
   "outputs": [],
   "source": [
    "# Read Excel file with multiple sheets\n",
    "Brick_excel_export_20240319031602 = pd.ExcelFile(\"../../secret_data/Brick_excel_export_20240319031602.xlsx\")\n",
    "# Get the list of sheet names\n",
    "Brick_excel_export_20240319031602_sheet_names = Brick_excel_export_20240319031602.sheet_names\n",
    "# Print the sheet names\n",
    "print(Brick_excel_export_20240319031602_sheet_names)\n"
   ]
  },
  {
   "cell_type": "code",
   "execution_count": null,
   "id": "6",
   "metadata": {
    "tags": []
   },
   "outputs": [],
   "source": [
    "for f in Brick_excel_export_20240319031602_sheet_names:\n",
    "    print(f)"
   ]
  },
  {
   "cell_type": "code",
   "execution_count": null,
   "id": "7",
   "metadata": {
    "tags": []
   },
   "outputs": [],
   "source": [
    "SCORE_RADeep_registry__excel_export_20240313120746 = pd.ExcelFile(\"../../secret_data/SCORE_RADeep-registry__excel_export_20240313120746.xlsx\")\n",
    "# # Get the list of sheet names\n",
    "SCORE_RADeep_registry__excel_export_20240313120746_sheet_names = SCORE_RADeep_registry__excel_export_20240313120746.sheet_names\n",
    "# # Print the sheet names\n",
    "print(SCORE_RADeep_registry__excel_export_20240313120746_sheet_names)\n"
   ]
  },
  {
   "cell_type": "code",
   "execution_count": null,
   "id": "8",
   "metadata": {
    "tags": []
   },
   "outputs": [],
   "source": [
    "for f in SCORE_RADeep_registry__excel_export_20240313120746_sheet_names:\n",
    "    print(f)"
   ]
  },
  {
   "cell_type": "markdown",
   "id": "9",
   "metadata": {},
   "source": [
    "# NOTE: We should note the data needs to be renamed to something without spaces, without hypterns and logical. This MUST be the duty of PhD candidates and medical staff, not the assembler , for maximum efficiency. This is a hint that you guys name and organize everything in the way with manimum inefficiency for a coder/programmer or engineer.\n",
    "\n",
    "If nothing else please learn how to not make engineers waste time renaming and fiddling with names of files"
   ]
  },
  {
   "cell_type": "markdown",
   "id": "10",
   "metadata": {},
   "source": [
    "## Moving on"
   ]
  },
  {
   "cell_type": "code",
   "execution_count": null,
   "id": "11",
   "metadata": {
    "tags": []
   },
   "outputs": [],
   "source": [
    "SCORE_RADeep_registry__excel_export_20240313120746_participants_tab = pd.read_csv(\"../../secret_data/SCORE_RADeep-registry__excel_export_20240313120746_participants_tab.csv\", sep=\";\")\n",
    "SCORE_RADeep_registry__excel_export_20240313120746_participants_tab.head() "
   ]
  },
  {
   "cell_type": "markdown",
   "id": "12",
   "metadata": {
    "tags": []
   },
   "source": [
    "# NOTE: who names this stuff? Apparently someoonw who never touches code,  columns must be named without speaces, or they in some circumstances read as multiple vairables...we have our work cut out for us..."
   ]
  },
  {
   "cell_type": "markdown",
   "id": "13",
   "metadata": {
    "tags": []
   },
   "source": [
    "# SUPER IMPORTANT: there is no common column to nerge on for SCORE_RADeep_registry__excel_export_20240313120746 and SCORE_RADeep_registry__excel_export_20240313120746_participants_tab\n",
    "\n",
    "that makes sense to me...like a participant D. I have to stop here and wait for converstion with scientists and data gatherers."
   ]
  },
  {
   "cell_type": "markdown",
   "id": "14",
   "metadata": {},
   "source": [
    "let's call it from our  budding lirbary just for the hell of it anyways"
   ]
  },
  {
   "cell_type": "code",
   "execution_count": null,
   "id": "15",
   "metadata": {},
   "outputs": [],
   "source": [
    "# we must first write a function to find key-column i.e. row_key"
   ]
  },
  {
   "cell_type": "code",
   "execution_count": null,
   "id": "16",
   "metadata": {
    "tags": []
   },
   "outputs": [],
   "source": [
    "foundation.csv_my_excel(\"../../secret_data/Brick_excel_export_20240319031602.xlsx\"\", \"row_key\")"
   ]
  },
  {
   "cell_type": "code",
   "execution_count": null,
   "id": "17",
   "metadata": {},
   "outputs": [],
   "source": []
  },
  {
   "cell_type": "code",
   "execution_count": null,
   "id": "18",
   "metadata": {},
   "outputs": [],
   "source": []
  }
 ],
 "metadata": {
  "kernelspec": {
   "display_name": "Python 3 (ipykernel)",
   "language": "python",
   "name": "python3"
  },
  "language_info": {
   "codemirror_mode": {
    "name": "ipython",
    "version": 3
   },
   "file_extension": ".py",
   "mimetype": "text/x-python",
   "name": "python",
   "nbconvert_exporter": "python",
   "pygments_lexer": "ipython3",
   "version": "3.11.8"
  }
 },
 "nbformat": 4,
 "nbformat_minor": 5
}
