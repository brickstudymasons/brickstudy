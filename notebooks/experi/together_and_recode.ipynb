{
 "cells": [
  {
   "cell_type": "markdown",
   "id": "dcd0442f-4e67-4fa3-b8a6-acfcd222a2af",
   "metadata": {},
   "source": [
    "# Recode values for castor upload"
   ]
  },
  {
   "cell_type": "markdown",
   "id": "26f3837e-1c00-4802-85f0-215e6b5508c4",
   "metadata": {
    "tags": []
   },
   "source": [
    "## libraries"
   ]
  },
  {
   "cell_type": "code",
   "execution_count": null,
   "id": "00f624b4-5dd5-4130-ac9b-70e727782169",
   "metadata": {
    "tags": []
   },
   "outputs": [],
   "source": [
    "import os\n",
    "import sys\n",
    "from functools import reduce\n",
    "import pandas as pd\n",
    "import numpy as np\n",
    "import seaborn as sns\n",
    "import matplotlib.pyplot as plt\n",
    "import ipywidgets as widgets\n",
    "\n",
    "sys.path.insert(0, '../../')\n",
    "from brickstudy import foundation"
   ]
  },
  {
   "cell_type": "code",
   "execution_count": null,
   "id": "dfaa93f5-ed63-4411-9c09-88a8449c7d06",
   "metadata": {
    "tags": []
   },
   "outputs": [],
   "source": [
    "# import data and pull out incorrect lines\n",
    "\n",
    "#Sleutelbestand_participation_other_studies_08-04-2024_update..xlsx"
   ]
  },
  {
   "cell_type": "code",
   "execution_count": null,
   "id": "e2359c5a-1763-40f7-a8e0-5c8dd1252869",
   "metadata": {
    "tags": []
   },
   "outputs": [],
   "source": [
    "key_table_shape = pd.ExcelFile(\"../../secret_data/Sleutelbestand_participation_other_studies_08-04-2024_update..xlsx\")\n",
    "sheet_names = key_table_shape.sheet_names\n",
    "print(sheet_names)\n",
    "print(len(sheet_names))"
   ]
  },
  {
   "cell_type": "code",
   "execution_count": null,
   "id": "a4a7462e-fe44-47b2-87c0-b9d36cd6d987",
   "metadata": {
    "tags": []
   },
   "outputs": [],
   "source": [
    "key_table1 = pd.read_excel(\"../../secret_data/Sleutelbestand_participation_other_studies_08-04-2024_update..xlsx\", sheet_name=0)\n",
    "key_table1.head(3)"
   ]
  },
  {
   "cell_type": "code",
   "execution_count": null,
   "id": "fc006050-7fbc-4a3f-807a-926221488298",
   "metadata": {
    "tags": []
   },
   "outputs": [],
   "source": [
    "#key_table1[key_table1['RADeep_id'] == 'SCORE_ERA_0059']"
   ]
  },
  {
   "cell_type": "code",
   "execution_count": null,
   "id": "ee3f0c0d-c178-4435-bf31-3fbee8c8871a",
   "metadata": {
    "tags": []
   },
   "outputs": [],
   "source": [
    "#key_table1['RADeep_id']"
   ]
  },
  {
   "cell_type": "code",
   "execution_count": null,
   "id": "aa473db5-c47e-43a5-8bbc-1e29dc86f7d8",
   "metadata": {
    "tags": []
   },
   "outputs": [],
   "source": [
    "key_table_clean = key_table1[key_table1['Participant Id'].notna()]\n",
    "key_table_clean.tail(3) "
   ]
  },
  {
   "cell_type": "code",
   "execution_count": null,
   "id": "7143ddb0-5b30-48d5-a1ed-bf286ab394b2",
   "metadata": {
    "tags": []
   },
   "outputs": [],
   "source": [
    "#len(key_table_clean)"
   ]
  },
  {
   "cell_type": "code",
   "execution_count": null,
   "id": "4a927ec2-c2ab-4947-9c6a-dd51fa3103b1",
   "metadata": {
    "tags": []
   },
   "outputs": [],
   "source": [
    "#key_table_clean.columns"
   ]
  },
  {
   "cell_type": "code",
   "execution_count": null,
   "id": "1212ef25-8cc1-4305-9964-8d9b2e39e7af",
   "metadata": {
    "tags": []
   },
   "outputs": [],
   "source": [
    "#key_table_clean.describe()"
   ]
  },
  {
   "cell_type": "code",
   "execution_count": null,
   "id": "a177a960-750d-4207-877c-67a1293a03a7",
   "metadata": {
    "tags": []
   },
   "outputs": [],
   "source": [
    "key_table_clean = key_table_clean[['Participant Id','RADeep_id', 'SCORE_data_local_id', 'SCS_id', 'SCS_inclusion_y_n', 'SCORE_biobank_y_n', 'SCORE_biobank_local_id']]\n",
    "key_table_clean.head(3)"
   ]
  },
  {
   "cell_type": "code",
   "execution_count": null,
   "id": "0c152e25-7629-4f60-8cb6-e5dccc04bd11",
   "metadata": {
    "tags": []
   },
   "outputs": [],
   "source": [
    "Brick_excel_export_20240319031602_1 = pd.read_csv('../../secret_data/Castor_BRICK_export_NEPSYII_26042024.csv', sep= ';')"
   ]
  },
  {
   "cell_type": "code",
   "execution_count": null,
   "id": "73597ed1-3900-4ea5-aa5f-034009ed7703",
   "metadata": {
    "tags": []
   },
   "outputs": [],
   "source": [
    "Brick_excel_export_20240319031602_1.head(3)"
   ]
  },
  {
   "cell_type": "code",
   "execution_count": null,
   "id": "00dfc406-4713-4820-bdec-bd62aa5db339",
   "metadata": {
    "tags": []
   },
   "outputs": [],
   "source": [
    "#key_table_clean['RADeep_id']"
   ]
  },
  {
   "cell_type": "code",
   "execution_count": null,
   "id": "b51757d3-a08a-4d9e-a632-0b56a057ebc7",
   "metadata": {
    "tags": []
   },
   "outputs": [],
   "source": [
    "Brick_excel_export_20240319031602_1.head(3)"
   ]
  },
  {
   "cell_type": "markdown",
   "id": "87af46ae-1f71-400e-8789-4514dc5f45ae",
   "metadata": {},
   "source": [
    "Other sheets examined, but blank (for now?)"
   ]
  },
  {
   "cell_type": "code",
   "execution_count": null,
   "id": "cab944d1-333c-4454-9dfe-f3ce573fe48a",
   "metadata": {
    "tags": []
   },
   "outputs": [],
   "source": [
    "#Brick_excel_export_20240319031602_1.describe()"
   ]
  },
  {
   "cell_type": "code",
   "execution_count": null,
   "id": "e7cc3f07-37e1-49ca-8905-d044125bdcda",
   "metadata": {
    "tags": []
   },
   "outputs": [],
   "source": [
    "pre_drop = Brick_excel_export_20240319031602_1.columns"
   ]
  },
  {
   "cell_type": "code",
   "execution_count": null,
   "id": "68205e0a-7066-4d4e-8367-580ed89d7aba",
   "metadata": {
    "tags": []
   },
   "outputs": [],
   "source": [
    "set_pre_drop = set(pre_drop)"
   ]
  },
  {
   "cell_type": "code",
   "execution_count": null,
   "id": "5e7e0915-5038-4717-bc0c-a8222219bf82",
   "metadata": {
    "tags": []
   },
   "outputs": [],
   "source": [
    "#Brick_excel_export_20240319031602_1.dropna?\n"
   ]
  },
  {
   "cell_type": "code",
   "execution_count": null,
   "id": "88c5a04d-8a87-46dd-92f4-ee832bea31ad",
   "metadata": {
    "tags": []
   },
   "outputs": [],
   "source": [
    "all_nan_free_brick = Brick_excel_export_20240319031602_1.dropna(axis=1, how='all')\n",
    "len(all_nan_free_brick.columns)"
   ]
  },
  {
   "cell_type": "code",
   "execution_count": null,
   "id": "b3375a36-f1cc-4e05-a6f0-5a1ebc5ccfa0",
   "metadata": {
    "tags": []
   },
   "outputs": [],
   "source": [
    "nan_free_brick = all_nan_free_brick "
   ]
  },
  {
   "cell_type": "code",
   "execution_count": null,
   "id": "8272c66c-c7f9-4c92-bfde-d1f2374ec362",
   "metadata": {
    "tags": []
   },
   "outputs": [],
   "source": [
    "#nan_free_brick.columns"
   ]
  },
  {
   "cell_type": "code",
   "execution_count": null,
   "id": "704cf956-d1f8-4453-ada9-ddb065176e95",
   "metadata": {
    "tags": []
   },
   "outputs": [],
   "source": [
    "nan_free_brick.head(3)"
   ]
  },
  {
   "cell_type": "code",
   "execution_count": null,
   "id": "3fcb741d-8c87-4ddc-93c7-c8b5639d42a1",
   "metadata": {
    "tags": []
   },
   "outputs": [],
   "source": [
    "# write a function to check that all columns have 1 as a mx"
   ]
  },
  {
   "cell_type": "code",
   "execution_count": null,
   "id": "0787119b-0a21-4f52-bdc3-6ba9695674a3",
   "metadata": {
    "tags": []
   },
   "outputs": [],
   "source": [
    "len(Brick_excel_export_20240319031602_1)"
   ]
  },
  {
   "cell_type": "code",
   "execution_count": null,
   "id": "f3f5805b-e70d-4bfc-8b8c-8559fa44cb73",
   "metadata": {
    "tags": []
   },
   "outputs": [],
   "source": [
    "#len(key_table_clean) - len(Brick_excel_export_20240319031602_1)"
   ]
  },
  {
   "cell_type": "markdown",
   "id": "2fde22c5-03fe-4e52-9061-489a57a1b7ff",
   "metadata": {},
   "source": [
    "Here we see there is a difference of 6 participants betweeen the two (key_table has more)"
   ]
  },
  {
   "cell_type": "code",
   "execution_count": null,
   "id": "e1679044-b9a5-4c9f-bada-23178050fcf4",
   "metadata": {
    "tags": []
   },
   "outputs": [],
   "source": [
    "# Brick_excel_export_20240319031602 = pd.ExcelFile(\"../../secret_data/Brick_excel_export_20240319031602.xlsx\")\n",
    "# Get the list of sheet names"
   ]
  },
  {
   "cell_type": "code",
   "execution_count": null,
   "id": "7ea1a448-1e2e-4ddf-a668-61a9684d8f39",
   "metadata": {
    "tags": []
   },
   "outputs": [],
   "source": [
    "#len(Brick_excel_export_20240319031602_1)"
   ]
  },
  {
   "cell_type": "code",
   "execution_count": null,
   "id": "af92e857-b6ec-4815-b156-b1d76184ac80",
   "metadata": {
    "tags": []
   },
   "outputs": [],
   "source": [
    "#Brick_excel_export_20240319031602_1.head() "
   ]
  },
  {
   "cell_type": "code",
   "execution_count": null,
   "id": "504df7a4-3901-4310-b00f-17b152e1efe8",
   "metadata": {
    "tags": []
   },
   "outputs": [],
   "source": [
    "#Brick_excel_export_20240319031602_1['SCORE_data_local_id']"
   ]
  },
  {
   "cell_type": "code",
   "execution_count": null,
   "id": "191efdb8-d3ae-46bc-afda-d57ac45d9354",
   "metadata": {},
   "outputs": [],
   "source": []
  },
  {
   "cell_type": "code",
   "execution_count": null,
   "id": "d5d6759a-73ab-4c18-99eb-b63739a3bd93",
   "metadata": {
    "tags": []
   },
   "outputs": [],
   "source": [
    "Brick_excel_export_20240319031602_1['RADeep_id'] = Brick_excel_export_20240319031602_1['SCORE_data_local_id']\n",
    "Brick_excel_export_20240319031602_1.head(3)"
   ]
  },
  {
   "cell_type": "code",
   "execution_count": null,
   "id": "f73785dc-b4cb-41dc-a256-0121bd7e6d89",
   "metadata": {
    "tags": []
   },
   "outputs": [],
   "source": [
    "# for f in Brick_excel_export_20240319031602_1.columns:\n",
    "#     print(f)"
   ]
  },
  {
   "cell_type": "code",
   "execution_count": null,
   "id": "1cc8f8e0-18c9-4206-87f5-caf8f9b3f9f2",
   "metadata": {
    "tags": []
   },
   "outputs": [],
   "source": [
    "#this is (above the brick to transfor to)"
   ]
  },
  {
   "cell_type": "code",
   "execution_count": null,
   "id": "d3d24068-03ff-4ac2-b2d8-53cdde5303c3",
   "metadata": {
    "tags": []
   },
   "outputs": [],
   "source": [
    "Brick_excel_export_20240319031602_1.to_csv('../../secret_data/template_lab_format.csv')"
   ]
  },
  {
   "cell_type": "code",
   "execution_count": null,
   "id": "b6f40946-6714-4ffb-acad-e791e8d80d17",
   "metadata": {
    "tags": []
   },
   "outputs": [],
   "source": [
    "Brick_excel_export_20240319031602_1 = Brick_excel_export_20240319031602_1[['SCORE_data', 'Site Abbreviation','Participant Id']]\n",
    "Brick_excel_export_20240319031602_1.head(3)"
   ]
  },
  {
   "cell_type": "code",
   "execution_count": null,
   "id": "de358918-b867-43ef-9c9e-42ad47fea394",
   "metadata": {
    "tags": []
   },
   "outputs": [],
   "source": [
    "new_brick = Brick_excel_export_20240319031602_1.merge(key_table_clean, on= \"Participant Id\")\n",
    "new_brick.head(3)"
   ]
  },
  {
   "cell_type": "code",
   "execution_count": null,
   "id": "56fac0cb-9e57-4c48-8173-c09c6ac1b2d8",
   "metadata": {
    "tags": []
   },
   "outputs": [],
   "source": [
    "# change particpant ID to be first column, SCS_inclusion_y_N,SCS_id\n",
    "\n",
    "new_brick = new_brick[['Participant Id',\n",
    "                       'Site Abbreviation',\n",
    "                       'SCORE_data',\n",
    "                       'RADeep_id',\n",
    "                       'SCS_inclusion_y_n',\n",
    "                       'SCS_id',\n",
    "                       'SCORE_data_local_id',\n",
    "                       'SCORE_biobank_y_n',\n",
    "                       'SCORE_biobank_local_id'\n",
    "                      ]]\n",
    "new_brick.head(4)"
   ]
  },
  {
   "cell_type": "code",
   "execution_count": null,
   "id": "01967d4c-a2de-48d1-a451-6e4e2fe3cca0",
   "metadata": {},
   "outputs": [],
   "source": []
  },
  {
   "cell_type": "code",
   "execution_count": null,
   "id": "c8f34b61-e880-44ff-83ea-bb853c96468c",
   "metadata": {
    "tags": []
   },
   "outputs": [],
   "source": [
    "SCORE_RADeep_registry__excel_export_20240313120746 = pd.read_excel(\"../../secret_data/C_SCORE_RADeep-registry__excel_export_20240415042425.xlsx\")\n"
   ]
  },
  {
   "cell_type": "code",
   "execution_count": null,
   "id": "bfd27658-af00-4051-af9d-b9ee84e99929",
   "metadata": {
    "tags": []
   },
   "outputs": [],
   "source": [
    "#SCORE_RADeep_registry__excel_export_20240313120746.columns"
   ]
  },
  {
   "cell_type": "code",
   "execution_count": null,
   "id": "9e4f5315-bcf6-4885-9dae-14d59e8b33f2",
   "metadata": {
    "tags": []
   },
   "outputs": [],
   "source": [
    "sheets_SCORE = pd.ExcelFile(\"../../secret_data/C_SCORE_RADeep-registry__excel_export_20240415042425.xlsx\")\n",
    "\n",
    "sheet_names = sheets_SCORE.sheet_names\n",
    "print(sheet_names)\n",
    "print(len(sheet_names))"
   ]
  },
  {
   "cell_type": "code",
   "execution_count": null,
   "id": "9954a020-fbee-4ecf-9b59-2928adfa9707",
   "metadata": {
    "tags": []
   },
   "outputs": [],
   "source": [
    "SCORE_RADeep_registry__excel_export_20240313120746_visit = pd.read_excel(\"../../secret_data/SCORE_RADeep-registry__excel_export_20240313120746.xlsx\", sheet_name='Visit')\n",
    "SCORE_RADeep_registry__excel_export_20240313120746_visit.head(3)"
   ]
  },
  {
   "cell_type": "code",
   "execution_count": null,
   "id": "cee181c6-8832-40d1-801a-931e6360f4b7",
   "metadata": {
    "tags": []
   },
   "outputs": [],
   "source": [
    "SCORE_RADeep_registry__excel_export_20240313120746_visit[['lenght','weight', 'diastolic_blood_pressue','systolic_blood_pressure', 'heart_rate',  'Participant Id', 'oxygen_saturation_rate']][SCORE_RADeep_registry__excel_export_20240313120746_visit['lenght'] < 0] "
   ]
  },
  {
   "cell_type": "code",
   "execution_count": null,
   "id": "f48f2926-4b1f-4a56-b9b7-4e1d9c82c22c",
   "metadata": {},
   "outputs": [],
   "source": []
  },
  {
   "cell_type": "code",
   "execution_count": null,
   "id": "7d1c9e36-2a82-4afa-8d5b-f75b78b7b4e5",
   "metadata": {
    "tags": []
   },
   "outputs": [],
   "source": [
    "# merge based on SCore.ParticipantID = RADeep_ID in new_brick\n",
    "# so first transform score.partipcantID to RADeepID\n",
    "SCORE_RADeep_registry__excel_export_20240313120746 = SCORE_RADeep_registry__excel_export_20240313120746.rename(columns={'Participant Id':'RADeep_id'})\n",
    "SCORE_RADeep_registry__excel_export_20240313120746.head(3)"
   ]
  },
  {
   "cell_type": "code",
   "execution_count": null,
   "id": "d6bbd2b9-b48d-44df-a451-7b38dbd6639a",
   "metadata": {
    "tags": []
   },
   "outputs": [],
   "source": [
    "no_na_score_radeep = SCORE_RADeep_registry__excel_export_20240313120746.dropna(axis=1, how='any' )\n",
    "#no_na_score_radeep.columns\n",
    "len(no_na_score_radeep)"
   ]
  },
  {
   "cell_type": "code",
   "execution_count": null,
   "id": "d24712d9-ad99-4d4a-a2a1-b0e2949d11d5",
   "metadata": {
    "tags": []
   },
   "outputs": [],
   "source": [
    "no_na_score_radeep.describe()"
   ]
  },
  {
   "cell_type": "code",
   "execution_count": null,
   "id": "a009acb1-9068-449d-a8c3-1403cc6768da",
   "metadata": {
    "tags": []
   },
   "outputs": [],
   "source": [
    "no_na_score_radeep['countrybirth'].unique()"
   ]
  },
  {
   "cell_type": "code",
   "execution_count": null,
   "id": "c3995986-e10f-44fc-a5ff-6943151996f1",
   "metadata": {
    "tags": []
   },
   "outputs": [],
   "source": [
    "no_na_score_radeep['gender'].unique()"
   ]
  },
  {
   "cell_type": "code",
   "execution_count": null,
   "id": "6c04a75a-8be3-456a-9b58-ddd2fd85d207",
   "metadata": {
    "tags": []
   },
   "outputs": [],
   "source": [
    "no_na_score_radeep[['age_onset','month_of_birth', 'year_of_birth','age_date_at_diagnosis','clin_diag_date']].describe()"
   ]
  },
  {
   "cell_type": "code",
   "execution_count": null,
   "id": "436cdf81-5b4c-45f0-a50b-fe1bad84feff",
   "metadata": {
    "tags": []
   },
   "outputs": [],
   "source": [
    "new_three = new_brick.merge(no_na_score_radeep, on= 'RADeep_id')\n",
    "new_three.head(3)"
   ]
  },
  {
   "cell_type": "code",
   "execution_count": null,
   "id": "5b63e457-ef28-4d95-9755-05ab27c31471",
   "metadata": {
    "tags": []
   },
   "outputs": [],
   "source": [
    "#new_three"
   ]
  },
  {
   "cell_type": "code",
   "execution_count": null,
   "id": "3ebaebfd-eb4f-4631-907b-9767d1c697ba",
   "metadata": {
    "tags": []
   },
   "outputs": [],
   "source": [
    "#new_three= SCORE_RADeep_registry__excel_export_20240313120746 + Brick_excel_export_20240319031602_1 + key_table\n",
    "new_three= new_three.rename(columns={'Site Abbreviation_x':'Site Abbreviation'} )\n",
    "new_three.head(3)"
   ]
  },
  {
   "cell_type": "code",
   "execution_count": null,
   "id": "2235f2ac-3ba4-42a6-ae28-5f0e409d6bda",
   "metadata": {
    "tags": []
   },
   "outputs": [],
   "source": [
    "# new_three is a fusion of Brick , key_table and SCORE_RADeep_registry__excel_export_20240313120746 \n",
    "new_three.tail(3)"
   ]
  },
  {
   "cell_type": "code",
   "execution_count": null,
   "id": "4e444fa2-3d96-48d0-95b7-28134661d833",
   "metadata": {
    "tags": []
   },
   "outputs": [],
   "source": [
    "new_three.describe()"
   ]
  },
  {
   "cell_type": "code",
   "execution_count": null,
   "id": "dfedea2a-0af5-4012-8dd8-d0000f0b16fb",
   "metadata": {
    "tags": []
   },
   "outputs": [],
   "source": [
    "#new_three['clin_diag_date']"
   ]
  },
  {
   "cell_type": "code",
   "execution_count": null,
   "id": "c8fb543c-06b8-42ee-8ab2-d46a1667aa96",
   "metadata": {
    "tags": []
   },
   "outputs": [],
   "source": [
    "new_three = new_three.replace(-99.00, 'NaN')\n",
    "new_three = new_three.replace(-98.00, 'NaN')\n",
    "new_three = new_three.replace(-97.00, 'NaN')\n",
    "new_three = new_three.replace(-96.00, 'NaN')\n",
    "new_three = new_three.replace(-95.00, 'NaN')\n",
    "new_three = new_three.replace('-99', 'NaN')\n",
    "new_three = new_three.replace('-98', 'NaN')\n",
    "new_three = new_three.replace('-97', 'NaN')\n",
    "new_three = new_three.replace('-96', 'NaN')\n",
    "new_three = new_three.replace('-95', 'NaN')\n",
    "new_three"
   ]
  },
  {
   "cell_type": "code",
   "execution_count": null,
   "id": "3786c0f9-b03c-4a6b-9787-bcdc4576e850",
   "metadata": {},
   "outputs": [],
   "source": []
  },
  {
   "cell_type": "code",
   "execution_count": null,
   "id": "7479879a-5c86-4ee6-a72b-06dc462ea220",
   "metadata": {
    "tags": []
   },
   "outputs": [],
   "source": [
    "new_three_shaped_for_castor = new_three.set_index('Participant Id')\n",
    "new_three_shaped_for_castor.head(5)"
   ]
  },
  {
   "cell_type": "code",
   "execution_count": null,
   "id": "3fc97980-a8dd-4dfc-b6ee-f5b051f97a83",
   "metadata": {
    "tags": []
   },
   "outputs": [],
   "source": [
    "new_three_shaped_for_castor = new_three_shaped_for_castor.drop('Site Abbreviation_y', axis=1) \n",
    "#new_three_shaped_for_castor.columns"
   ]
  },
  {
   "cell_type": "code",
   "execution_count": null,
   "id": "725904ff-7171-46b5-89d4-9d9505e02d11",
   "metadata": {
    "tags": []
   },
   "outputs": [],
   "source": [
    "new_three_shaped_for_castor_no_nan = new_three_shaped_for_castor.drop('clin_diag_date', axis=1) "
   ]
  },
  {
   "cell_type": "code",
   "execution_count": null,
   "id": "edba6443-717e-4520-805e-f1cb5aad1433",
   "metadata": {
    "tags": []
   },
   "outputs": [],
   "source": [
    "# we only have live patients right now, so let's shortcut that for now\n",
    "new_three_shaped_for_castor_no_nan.patient_status = 1"
   ]
  },
  {
   "cell_type": "code",
   "execution_count": null,
   "id": "ee166b80-e007-4079-806e-23b3e94fc83e",
   "metadata": {
    "tags": []
   },
   "outputs": [],
   "source": [
    "# we only have male and female for now, so another shortcut\n",
    "new_three_shaped_for_castor_no_nan = new_three_shaped_for_castor_no_nan.replace({'Male':1, 'Female':2})\n",
    "#new_three_shaped_for_castor_no_nan.columns"
   ]
  },
  {
   "cell_type": "code",
   "execution_count": null,
   "id": "36a57050-bcdd-4a5f-91b7-2d8212d9577f",
   "metadata": {
    "tags": []
   },
   "outputs": [],
   "source": [
    "# we assume months always coded same, so shortcute\n",
    "new_three_shaped_for_castor_no_nan = new_three_shaped_for_castor_no_nan.replace({'January':1, 'February':2, 'March':3,'April':4,'May':5,'June':6,'July':7,'August':8,'September':9,'October':10, 'November':11, 'December':12})"
   ]
  },
  {
   "cell_type": "code",
   "execution_count": null,
   "id": "0d4dbce9-0f15-4abe-b20e-bdb5ef13c56c",
   "metadata": {
    "tags": []
   },
   "outputs": [],
   "source": [
    "# recode all labels to numbers below the right way\n",
    "key = pd.read_excel('../../secret_data/List_with_variable_options_SCORE.xlsx')\n",
    "key.columns"
   ]
  },
  {
   "cell_type": "code",
   "execution_count": null,
   "id": "88f4586f-f776-44ae-b48d-d2dd1c65148d",
   "metadata": {
    "tags": []
   },
   "outputs": [],
   "source": [
    "key['Option group name'].unique()"
   ]
  },
  {
   "cell_type": "code",
   "execution_count": null,
   "id": "6a15b05e-c382-47da-bff3-8e4d189cdf43",
   "metadata": {
    "tags": []
   },
   "outputs": [],
   "source": [
    "#list(key['Option group name'].unique())"
   ]
  },
  {
   "cell_type": "code",
   "execution_count": null,
   "id": "4271d8d4-a33a-4427-896e-2bd37aab739e",
   "metadata": {
    "tags": []
   },
   "outputs": [],
   "source": [
    "# example\n",
    "filtered_key = key[key['Option group name'].str.contains('age_date_at_diagnosis')]\n",
    "filtered_key"
   ]
  },
  {
   "cell_type": "code",
   "execution_count": null,
   "id": "3fdff7ef-61a4-40cf-b02f-107a38a72c10",
   "metadata": {
    "tags": []
   },
   "outputs": [],
   "source": [
    "alpha_thal_mapping= {'Not tested/Unknown':0,\n",
    "                     'αα/αα (Wildtype = normal)':1,\n",
    "                     'αα/α-':2,\n",
    "                     'αα/--':3,\n",
    "                     'α-/α-':4,\n",
    "                     'α-/--':5,}\n",
    "def replace_alpha_thal(status):\n",
    "    return alpha_thal_mapping.get(status, status)\n",
    "novo1 = new_three_shaped_for_castor_no_nan.copy()\n",
    "novo1['alpha_thalassemie_status'] = novo1['alpha_thalassemie_status'].apply(replace_alpha_thal)\n",
    "\n",
    "age_at_diag_mapping = {'Antenatal':1,\n",
    "                       'At birth':2,\n",
    "                       'Unknown':3,\n",
    "                       'Date is known':4,}\n",
    "def replace_diag_date(status):\n",
    "    return age_at_diag_mapping.get(status, status)\n",
    "novo2 = novo1.copy()\n",
    "novo2['age_date_at_diagnosis'] = novo2['age_date_at_diagnosis'].apply(replace_diag_date)\n",
    "novo2[['alpha_thalassemie_status','age_date_at_diagnosis']]"
   ]
  },
  {
   "cell_type": "code",
   "execution_count": null,
   "id": "baf9a315-e7eb-4c52-92da-e785fb729b02",
   "metadata": {
    "tags": []
   },
   "outputs": [],
   "source": [
    "novo2.to_csv('../../secret_data/intermediate_upload.csv')"
   ]
  },
  {
   "cell_type": "code",
   "execution_count": null,
   "id": "1a931ed3-98d8-4db3-8faf-b8e1acb6f3c6",
   "metadata": {},
   "outputs": [],
   "source": []
  }
 ],
 "metadata": {
  "kernelspec": {
   "display_name": "Python 3 (ipykernel)",
   "language": "python",
   "name": "python3"
  },
  "language_info": {
   "codemirror_mode": {
    "name": "ipython",
    "version": 3
   },
   "file_extension": ".py",
   "mimetype": "text/x-python",
   "name": "python",
   "nbconvert_exporter": "python",
   "pygments_lexer": "ipython3",
   "version": "3.11.8"
  }
 },
 "nbformat": 4,
 "nbformat_minor": 5
}
