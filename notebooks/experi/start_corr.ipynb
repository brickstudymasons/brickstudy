{
 "cells": [
  {
   "cell_type": "code",
   "execution_count": null,
   "id": "0",
   "metadata": {
    "tags": []
   },
   "outputs": [],
   "source": [
    "import os\n",
    "import sys\n",
    "from functools import reduce\n",
    "import pandas as pd\n",
    "import numpy as np\n",
    "import seaborn as sns\n",
    "import matplotlib.pyplot as plt\n",
    "\n",
    "sys.path.insert(0, '../../')\n",
    "from brickstudy import foundation"
   ]
  },
  {
   "cell_type": "code",
   "execution_count": null,
   "id": "1",
   "metadata": {
    "tags": []
   },
   "outputs": [],
   "source": [
    "# import data and pull out incorrect lines"
   ]
  },
  {
   "cell_type": "code",
   "execution_count": null,
   "id": "d04120ac-4568-4a34-ab24-eda64a7f0b1b",
   "metadata": {
    "tags": []
   },
   "outputs": [],
   "source": [
    "key_table_shape = pd.ExcelFile(\"../../secret_data/Sleutelbestand_participation_other_studies_04-08-2023.xlsx\")\n",
    "sheet_names = key_table_shape.sheet_names\n",
    "print(sheet_names)\n",
    "print(len(sheet_names))"
   ]
  },
  {
   "cell_type": "code",
   "execution_count": null,
   "id": "2",
   "metadata": {
    "tags": []
   },
   "outputs": [],
   "source": [
    "key_table1 = pd.read_excel(\"../../secret_data/Sleutelbestand_participation_other_studies_04-08-2023.xlsx\", sheet_name=0)\n",
    "key_table1.head(3)"
   ]
  },
  {
   "cell_type": "code",
   "execution_count": null,
   "id": "96c94a09-a74f-420b-978e-e94d6f10b463",
   "metadata": {
    "tags": []
   },
   "outputs": [],
   "source": [
    "key_table2 = pd.read_excel(\"../../secret_data/Sleutelbestand_participation_other_studies_04-08-2023.xlsx\", sheet_name=1)\n",
    "key_table2"
   ]
  },
  {
   "cell_type": "code",
   "execution_count": null,
   "id": "749ef153-d3b7-4a0a-ae46-3e067147a9c1",
   "metadata": {
    "tags": []
   },
   "outputs": [],
   "source": [
    "# We seee second sheet is blank, we try the thiurd\n",
    "key_table3 = pd.read_excel(\"../../secret_data/Sleutelbestand_participation_other_studies_04-08-2023.xlsx\", sheet_name=2)\n",
    "key_table3.head(3)"
   ]
  },
  {
   "cell_type": "markdown",
   "id": "5f7a11c2-fadd-47bc-a292-84c1f0627adb",
   "metadata": {
    "tags": []
   },
   "source": [
    "For now we assume only the top sheet matters"
   ]
  },
  {
   "cell_type": "code",
   "execution_count": null,
   "id": "4",
   "metadata": {
    "tags": []
   },
   "outputs": [],
   "source": [
    "len(key_table1)"
   ]
  },
  {
   "cell_type": "code",
   "execution_count": null,
   "id": "5",
   "metadata": {
    "tags": []
   },
   "outputs": [],
   "source": [
    "key_table1.tail(10)"
   ]
  },
  {
   "cell_type": "code",
   "execution_count": null,
   "id": "6",
   "metadata": {
    "tags": []
   },
   "outputs": [],
   "source": [
    "key_table_clean = key_table1[key_table1['Participant Id'].notna()]\n",
    "key_table_clean.tail(3) "
   ]
  },
  {
   "cell_type": "code",
   "execution_count": null,
   "id": "7",
   "metadata": {
    "tags": []
   },
   "outputs": [],
   "source": [
    "len(key_table_clean)"
   ]
  },
  {
   "cell_type": "code",
   "execution_count": null,
   "id": "8",
   "metadata": {
    "tags": []
   },
   "outputs": [],
   "source": [
    "key_table_clean.columns"
   ]
  },
  {
   "cell_type": "code",
   "execution_count": null,
   "id": "9",
   "metadata": {
    "tags": []
   },
   "outputs": [],
   "source": [
    "key_table_clean = key_table_clean[['Participant Id','RADeep_id', 'SCORE_data_local_id', 'SCS_id', 'SCS_inclusion_y_n', 'SCORE_biobank_y_n', 'SCORE_biobank_local_id']]\n",
    "key_table_clean.head(3)"
   ]
  },
  {
   "cell_type": "code",
   "execution_count": null,
   "id": "10",
   "metadata": {
    "tags": []
   },
   "outputs": [],
   "source": [
    "key_table_clean.columns"
   ]
  },
  {
   "cell_type": "code",
   "execution_count": null,
   "id": "11",
   "metadata": {
    "tags": []
   },
   "outputs": [],
   "source": [
    "key_table_clean.isna().sum()"
   ]
  },
  {
   "cell_type": "code",
   "execution_count": null,
   "id": "aa41a9a4-7fb8-4fac-9f27-1d0cbd2211c0",
   "metadata": {
    "tags": []
   },
   "outputs": [],
   "source": [
    "Brick_excel_export_20240319031602_shape = pd.ExcelFile(\"../../secret_data/Brick_excel_export_20240319031602.xlsx\")\n",
    "brick_sheet_names = Brick_excel_export_20240319031602_shape.sheet_names\n",
    "print(brick_sheet_names)\n",
    "print(len(brick_sheet_names))"
   ]
  },
  {
   "cell_type": "markdown",
   "id": "219756fc-fb23-4d1d-bb06-429ecf8b6da0",
   "metadata": {},
   "source": [
    "The brick excel report has a lot of sheets to examine"
   ]
  },
  {
   "cell_type": "code",
   "execution_count": null,
   "id": "14",
   "metadata": {
    "tags": []
   },
   "outputs": [],
   "source": [
    "Brick_excel_export_20240319031602_1 = pd.read_excel(\"../../secret_data/Brick_excel_export_20240319031602.xlsx\", sheet_name=0)\n",
    "Brick_excel_export_20240319031602_2 = pd.read_excel(\"../../secret_data/Brick_excel_export_20240319031602.xlsx\", sheet_name=1)\n",
    "Brick_excel_export_20240319031602_3 = pd.read_excel(\"../../secret_data/Brick_excel_export_20240319031602.xlsx\", sheet_name=2)\n",
    "Brick_excel_export_20240319031602_4 = pd.read_excel(\"../../secret_data/Brick_excel_export_20240319031602.xlsx\", sheet_name=3)\n",
    "Brick_excel_export_20240319031602_5 = pd.read_excel(\"../../secret_data/Brick_excel_export_20240319031602.xlsx\", sheet_name=4)\n",
    "Brick_excel_export_20240319031602_6 = pd.read_excel(\"../../secret_data/Brick_excel_export_20240319031602.xlsx\", sheet_name=5)\n",
    "Brick_excel_export_20240319031602_7 = pd.read_excel(\"../../secret_data/Brick_excel_export_20240319031602.xlsx\", sheet_name=6)\n",
    "Brick_excel_export_20240319031602_8 = pd.read_excel(\"../../secret_data/Brick_excel_export_20240319031602.xlsx\", sheet_name=7)"
   ]
  },
  {
   "cell_type": "code",
   "execution_count": null,
   "id": "5faf37e2-3588-4d25-80cf-1dfea9f293ba",
   "metadata": {
    "tags": []
   },
   "outputs": [],
   "source": [
    "Brick_excel_export_20240319031602_1.head(3)"
   ]
  },
  {
   "cell_type": "markdown",
   "id": "559f06a8-69a6-4842-8576-e9efed3d7059",
   "metadata": {},
   "source": [
    "Other sheets examined, but blank (for now?)"
   ]
  },
  {
   "cell_type": "code",
   "execution_count": null,
   "id": "12",
   "metadata": {
    "tags": []
   },
   "outputs": [],
   "source": [
    "len(key_table_clean) - len(Brick_excel_export_20240319031602_1)"
   ]
  },
  {
   "cell_type": "markdown",
   "id": "77c84465-c08e-4abf-a5b7-900f05eb588d",
   "metadata": {},
   "source": [
    "Here we see there is a difference of 6 participants betweeen the two (key_table has more)"
   ]
  },
  {
   "cell_type": "code",
   "execution_count": null,
   "id": "13",
   "metadata": {
    "tags": []
   },
   "outputs": [],
   "source": [
    "# Brick_excel_export_20240319031602 = pd.ExcelFile(\"../../secret_data/Brick_excel_export_20240319031602.xlsx\")\n",
    "# Get the list of sheet names"
   ]
  },
  {
   "cell_type": "code",
   "execution_count": null,
   "id": "15",
   "metadata": {
    "tags": []
   },
   "outputs": [],
   "source": [
    "len(Brick_excel_export_20240319031602_1)"
   ]
  },
  {
   "cell_type": "code",
   "execution_count": null,
   "id": "16",
   "metadata": {
    "tags": []
   },
   "outputs": [],
   "source": [
    "Brick_excel_export_20240319031602_1.head() "
   ]
  },
  {
   "cell_type": "code",
   "execution_count": null,
   "id": "17",
   "metadata": {
    "tags": []
   },
   "outputs": [],
   "source": [
    "Brick_excel_export_20240319031602_1['RADeep_id'] = Brick_excel_export_20240319031602_1['SCORE_data_local_id']\n",
    "Brick_excel_export_20240319031602_1.head(3)"
   ]
  },
  {
   "cell_type": "code",
   "execution_count": null,
   "id": "18",
   "metadata": {
    "tags": []
   },
   "outputs": [],
   "source": []
  },
  {
   "cell_type": "code",
   "execution_count": null,
   "id": "19",
   "metadata": {
    "tags": []
   },
   "outputs": [],
   "source": [
    "Brick_excel_export_20240319031602_1 = Brick_excel_export_20240319031602_1[['SCORE_data', 'Site Abbreviation','RADeep_id']]\n",
    "Brick_excel_export_20240319031602_1.head(3)"
   ]
  },
  {
   "cell_type": "code",
   "execution_count": null,
   "id": "20",
   "metadata": {
    "tags": []
   },
   "outputs": [],
   "source": [
    "set_of_brick = set(Brick_excel_export_20240319031602_1['RADeep_id'])\n",
    "len(set_of_brick)"
   ]
  },
  {
   "cell_type": "code",
   "execution_count": null,
   "id": "21",
   "metadata": {
    "tags": []
   },
   "outputs": [],
   "source": [
    "set_of_key_table_clean = set(key_table_clean['RADeep_id'])\n",
    "len(set_of_key_table_clean)"
   ]
  },
  {
   "cell_type": "code",
   "execution_count": null,
   "id": "22",
   "metadata": {
    "tags": []
   },
   "outputs": [],
   "source": [
    "intersection = set_of_key_table_clean.intersection(set_of_brick)\n",
    "len(intersection)"
   ]
  },
  {
   "cell_type": "code",
   "execution_count": null,
   "id": "23",
   "metadata": {
    "tags": []
   },
   "outputs": [],
   "source": [
    "only_in_set_table_key = set_of_key_table_clean - intersection\n",
    "only_in_set_table_key"
   ]
  },
  {
   "cell_type": "markdown",
   "id": "ba4c1e18-f022-482a-ad0c-680b201abb16",
   "metadata": {},
   "source": [
    "# check above RADipIDS that are present in key table but not in BRICK table !!\n",
    "\n",
    "Also check the below"
   ]
  },
  {
   "cell_type": "code",
   "execution_count": null,
   "id": "664239d8-f395-4a5e-a1cf-8f725734c5ca",
   "metadata": {
    "tags": []
   },
   "outputs": [],
   "source": [
    "only_in_set_brick = set_of_brick - intersection\n",
    "only_in_set_brick"
   ]
  },
  {
   "cell_type": "code",
   "execution_count": null,
   "id": "25",
   "metadata": {
    "tags": []
   },
   "outputs": [],
   "source": [
    "key_table_clean.columns"
   ]
  },
  {
   "cell_type": "code",
   "execution_count": null,
   "id": "26",
   "metadata": {
    "tags": []
   },
   "outputs": [],
   "source": [
    "new_brick = Brick_excel_export_20240319031602_1.merge(key_table_clean, on= \"RADeep_id\")\n",
    "new_brick.head(3)"
   ]
  },
  {
   "cell_type": "code",
   "execution_count": null,
   "id": "27",
   "metadata": {
    "tags": []
   },
   "outputs": [],
   "source": [
    "len(new_brick)"
   ]
  },
  {
   "cell_type": "code",
   "execution_count": null,
   "id": "28",
   "metadata": {
    "tags": []
   },
   "outputs": [],
   "source": [
    "len(new_brick.columns)"
   ]
  },
  {
   "cell_type": "code",
   "execution_count": null,
   "id": "29",
   "metadata": {},
   "outputs": [],
   "source": []
  },
  {
   "cell_type": "code",
   "execution_count": null,
   "id": "30",
   "metadata": {
    "tags": []
   },
   "outputs": [],
   "source": [
    "# change particpant ID to be first column, SCS_inclusion_y_N,SCS_id\n",
    "\n",
    "new_brick = new_brick[['Participant Id',\n",
    "                       'Site Abbreviation',\n",
    "                       'SCORE_data',\n",
    "                       'RADeep_id',\n",
    "                       'SCS_inclusion_y_n',\n",
    "                       'SCS_id',\n",
    "                       'SCORE_data_local_id',\n",
    "                       'SCORE_biobank_y_n',\n",
    "                       'SCORE_biobank_local_id'\n",
    "                      ]]\n",
    "new_brick.head(4)"
   ]
  },
  {
   "cell_type": "code",
   "execution_count": null,
   "id": "31",
   "metadata": {
    "tags": []
   },
   "outputs": [],
   "source": [
    "len(new_brick.columns)"
   ]
  },
  {
   "cell_type": "code",
   "execution_count": null,
   "id": "32",
   "metadata": {
    "tags": []
   },
   "outputs": [],
   "source": [
    "SCORE_RADeep_registry__excel_export_20240313120746 = pd.read_excel(\"../../secret_data/SCORE_RADeep-registry__excel_export_20240313120746.xlsx\")\n",
    "# # Get the list of sheet names"
   ]
  },
  {
   "cell_type": "code",
   "execution_count": null,
   "id": "33",
   "metadata": {
    "tags": []
   },
   "outputs": [],
   "source": [
    "SCORE_RADeep_registry__excel_export_20240313120746.head(2)"
   ]
  },
  {
   "cell_type": "code",
   "execution_count": null,
   "id": "34",
   "metadata": {
    "tags": []
   },
   "outputs": [],
   "source": [
    "# merge based on SCore.ParticipantID = RADeep_ID in new_brick\n",
    "# so first transform score.partipcantID to RADeepID\n",
    "SCORE_RADeep_registry__excel_export_20240313120746 = SCORE_RADeep_registry__excel_export_20240313120746.rename(columns={'Participant Id':'RADeep_id'})\n",
    "SCORE_RADeep_registry__excel_export_20240313120746.head(3)"
   ]
  },
  {
   "cell_type": "code",
   "execution_count": null,
   "id": "35",
   "metadata": {
    "tags": []
   },
   "outputs": [],
   "source": [
    "new_three = new_brick.merge(SCORE_RADeep_registry__excel_export_20240313120746, on= 'RADeep_id')\n",
    "new_three.head(3)"
   ]
  },
  {
   "cell_type": "code",
   "execution_count": null,
   "id": "36",
   "metadata": {
    "tags": []
   },
   "outputs": [],
   "source": [
    "# for f in new_three.columns:\n",
    "#     print(f)"
   ]
  },
  {
   "cell_type": "code",
   "execution_count": null,
   "id": "37",
   "metadata": {
    "tags": []
   },
   "outputs": [],
   "source": [
    "#new_three= new_three.drop(['Site Abbreviation_x'], axis=1)\n",
    "new_three= new_three.rename(columns={'Site Abbreviation_x':'Site Abbreviation'} )\n",
    "new_three.head(3)"
   ]
  },
  {
   "cell_type": "code",
   "execution_count": null,
   "id": "38",
   "metadata": {
    "tags": []
   },
   "outputs": [],
   "source": [
    "# new_three is a fusion of Brick , key_table and SCORE_RADeep_registry__excel_export_20240313120746 \n",
    "new_three.head(3)"
   ]
  },
  {
   "cell_type": "markdown",
   "id": "5b59c9cb-c060-4317-8c8b-3a5802ed40d5",
   "metadata": {},
   "source": [
    "# Now let's go for some correlations!"
   ]
  },
  {
   "cell_type": "code",
   "execution_count": null,
   "id": "40",
   "metadata": {},
   "outputs": [],
   "source": [
    "numeric_new_three = new_three.select_dtypes(include=np.number)"
   ]
  },
  {
   "cell_type": "code",
   "execution_count": null,
   "id": "41",
   "metadata": {},
   "outputs": [],
   "source": [
    "nona_numeric_new_three = numeric_new_three.dropna(axis=1) "
   ]
  },
  {
   "cell_type": "code",
   "execution_count": null,
   "id": "e7404fa6-a4e0-482a-8e8f-426ccf4e9115",
   "metadata": {
    "tags": []
   },
   "outputs": [],
   "source": [
    "len(nona_numeric_new_three.SCORE_data.unique())"
   ]
  },
  {
   "cell_type": "code",
   "execution_count": null,
   "id": "61554ecf-eb22-4605-bfd8-488a622e9e7a",
   "metadata": {
    "tags": []
   },
   "outputs": [],
   "source": [
    "list_non_varying = []\n",
    "for column in nona_numeric_new_three.columns:\n",
    "    if len(nona_numeric_new_three[column].unique()) == 1:\n",
    "        print(column)\n",
    "        list_non_varying.append(column)\n",
    "        "
   ]
  },
  {
   "cell_type": "code",
   "execution_count": null,
   "id": "da35112e-8fa0-41b2-a2c4-0211536a0f1c",
   "metadata": {
    "tags": []
   },
   "outputs": [],
   "source": [
    "set_of_variers = set(list(nona_numeric_new_three.columns)) - set(list_non_varying)\n",
    "list(set_of_variers)"
   ]
  },
  {
   "cell_type": "code",
   "execution_count": null,
   "id": "71a764a4-d987-4c73-ad70-7755aca7fe58",
   "metadata": {
    "tags": []
   },
   "outputs": [],
   "source": [
    "vary_numeric_new_three = nona_numeric_new_three[list(set_of_variers)]"
   ]
  },
  {
   "cell_type": "code",
   "execution_count": null,
   "id": "42",
   "metadata": {},
   "outputs": [],
   "source": [
    "vary_numeric_new_three.corr(method='spearman', numeric_only=False)"
   ]
  },
  {
   "cell_type": "code",
   "execution_count": null,
   "id": "43",
   "metadata": {},
   "outputs": [],
   "source": [
    "sns.heatmap(vary_numeric_new_three.corr(method='spearman', numeric_only=False))"
   ]
  },
  {
   "cell_type": "markdown",
   "id": "8fd8683d-8c81-40ea-abbe-ab99080acc62",
   "metadata": {},
   "source": [
    "From the above table we can see some stronger correlations, and weaker ones in our dataset. Forexample ab_id test#S is very enatively correlated with method of diagnosis clinical symptoms. But there is even more data to be added. This is where the research questions need to come in. What do we want to show the correlation between. "
   ]
  },
  {
   "cell_type": "code",
   "execution_count": null,
   "id": "45",
   "metadata": {},
   "outputs": [],
   "source": [
    "plt.figure(figsize=(16,6))\n",
    "heatmap = sns.heatmap(vary_numeric_new_three.corr(method='spearman', numeric_only=False), vmin=-1, vmax=1, annot=True)\n",
    "heatmap.set_title(\"Brick Study Correlation Heatmap I\")"
   ]
  },
  {
   "cell_type": "code",
   "execution_count": null,
   "id": "46",
   "metadata": {},
   "outputs": [],
   "source": [
    "addit_data = pd.read_csv(\"../../secret_data/BRICK_Data_20230509.csv\", sep=\";\")\n",
    "addit_data"
   ]
  },
  {
   "cell_type": "code",
   "execution_count": null,
   "id": "47",
   "metadata": {},
   "outputs": [],
   "source": [
    "addmisions_frame = addit_data.groupby('StudieID').count()"
   ]
  },
  {
   "cell_type": "code",
   "execution_count": null,
   "id": "73f9aabe-d98f-49fc-83f4-ae08f1bb783b",
   "metadata": {
    "tags": []
   },
   "outputs": [],
   "source": [
    "addmisions_frame.columns"
   ]
  },
  {
   "cell_type": "code",
   "execution_count": null,
   "id": "48",
   "metadata": {},
   "outputs": [],
   "source": [
    "addmisions_frame['number_of_addmisions'] = addmisions_frame['ziekenhuisopname_start']"
   ]
  },
  {
   "cell_type": "code",
   "execution_count": null,
   "id": "49",
   "metadata": {},
   "outputs": [],
   "source": [
    "addmisions_count = addmisions_frame['number_of_addmisions'] \n",
    "addmisions_count = addmisions_count.reset_index()"
   ]
  },
  {
   "cell_type": "code",
   "execution_count": null,
   "id": "1d037a85-005c-40c0-89c0-3eec13165ed9",
   "metadata": {
    "tags": []
   },
   "outputs": [],
   "source": [
    "addmisions_count"
   ]
  },
  {
   "cell_type": "code",
   "execution_count": null,
   "id": "55d1d74b-c643-4399-8f6d-d9d8d1438c0f",
   "metadata": {
    "tags": []
   },
   "outputs": [],
   "source": [
    "addmisions_count.info()"
   ]
  },
  {
   "cell_type": "code",
   "execution_count": null,
   "id": "e7684aa3-66fb-4a15-96d8-d97cb881252d",
   "metadata": {
    "tags": []
   },
   "outputs": [],
   "source": [
    "new_three.head(3)"
   ]
  },
  {
   "cell_type": "code",
   "execution_count": null,
   "id": "524c8c3f-ee4c-406e-8dde-8e1057d77ff5",
   "metadata": {
    "tags": []
   },
   "outputs": [],
   "source": [
    "addmisions_count[\"Participant Id\"] = addmisions_count[\"StudieID\"]\n",
    "addmisions_count[\"Participant Id\"] =addmisions_count[\"Participant Id\"].str.replace(\"-\",\"_\")\n",
    "latest = addmisions_count.merge(new_three, on=\"Participant Id\") \n",
    "latest.head(3)"
   ]
  },
  {
   "cell_type": "code",
   "execution_count": null,
   "id": "07f18d61-007b-429a-a6f6-2a3dce70236e",
   "metadata": {
    "tags": []
   },
   "outputs": [],
   "source": [
    "latest =latest.select_dtypes(include=np.number)"
   ]
  },
  {
   "cell_type": "code",
   "execution_count": null,
   "id": "d7e85ee2-6c73-4d6c-9cb3-060be7c86c34",
   "metadata": {
    "tags": []
   },
   "outputs": [],
   "source": [
    "new_interesting_columns = list(set_of_variers) + list(['number_of_addmisions'])"
   ]
  },
  {
   "cell_type": "code",
   "execution_count": null,
   "id": "48480e35-4bfb-4381-b649-f1305bcb1bee",
   "metadata": {
    "tags": []
   },
   "outputs": [],
   "source": [
    "new_interesting_columns "
   ]
  },
  {
   "cell_type": "code",
   "execution_count": null,
   "id": "6df59681-936a-420f-adb9-178e2faf87fa",
   "metadata": {
    "tags": []
   },
   "outputs": [],
   "source": [
    "for_corr_latest = latest[latest.notna()]\n",
    "#for_corr_latest = for_corr_latest[[new_interesting_columns]]"
   ]
  },
  {
   "cell_type": "code",
   "execution_count": null,
   "id": "50",
   "metadata": {},
   "outputs": [],
   "source": [
    "for_corr_latest[new_interesting_columns ].corr()"
   ]
  },
  {
   "cell_type": "code",
   "execution_count": null,
   "id": "51",
   "metadata": {
    "tags": []
   },
   "outputs": [],
   "source": []
  },
  {
   "cell_type": "code",
   "execution_count": null,
   "id": "52",
   "metadata": {
    "tags": []
   },
   "outputs": [],
   "source": []
  },
  {
   "cell_type": "code",
   "execution_count": null,
   "id": "53",
   "metadata": {
    "tags": []
   },
   "outputs": [],
   "source": []
  },
  {
   "cell_type": "code",
   "execution_count": null,
   "id": "54",
   "metadata": {},
   "outputs": [],
   "source": []
  }
 ],
 "metadata": {
  "kernelspec": {
   "display_name": "Python 3 (ipykernel)",
   "language": "python",
   "name": "python3"
  },
  "language_info": {
   "codemirror_mode": {
    "name": "ipython",
    "version": 3
   },
   "file_extension": ".py",
   "mimetype": "text/x-python",
   "name": "python",
   "nbconvert_exporter": "python",
   "pygments_lexer": "ipython3",
   "version": "3.11.8"
  }
 },
 "nbformat": 4,
 "nbformat_minor": 5
}
