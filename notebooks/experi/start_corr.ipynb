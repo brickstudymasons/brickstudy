{
 "cells": [
  {
   "cell_type": "markdown",
   "id": "0",
   "metadata": {},
   "source": [
    "# Correlations on Brick tabular data"
   ]
  },
  {
   "cell_type": "code",
   "execution_count": null,
   "id": "1",
   "metadata": {
    "tags": []
   },
   "outputs": [],
   "source": [
    "# libraries"
   ]
  },
  {
   "cell_type": "code",
   "execution_count": null,
   "id": "2",
   "metadata": {
    "tags": []
   },
   "outputs": [],
   "source": [
    "import os\n",
    "import sys\n",
    "from functools import reduce\n",
    "import pandas as pd\n",
    "import numpy as np\n",
    "import seaborn as sns\n",
    "import matplotlib.pyplot as plt\n",
    "\n",
    "sys.path.insert(0, '../../')\n",
    "from brickstudy import foundation"
   ]
  },
  {
   "cell_type": "code",
   "execution_count": null,
   "id": "3",
   "metadata": {
    "tags": []
   },
   "outputs": [],
   "source": [
    "# import data and pull out incorrect lines"
   ]
  },
  {
   "cell_type": "code",
   "execution_count": null,
   "id": "4",
   "metadata": {
    "tags": []
   },
   "outputs": [],
   "source": [
    "key_table_shape = pd.ExcelFile(\"../../secret_data/Sleutelbestand_participation_other_studies_04-08-2023.xlsx\")\n",
    "sheet_names = key_table_shape.sheet_names\n",
    "print(sheet_names)\n",
    "print(len(sheet_names))"
   ]
  },
  {
   "cell_type": "code",
   "execution_count": null,
   "id": "5",
   "metadata": {
    "tags": []
   },
   "outputs": [],
   "source": [
    "key_table1 = pd.read_excel(\"../../secret_data/Sleutelbestand_participation_other_studies_04-08-2023.xlsx\", sheet_name=0)\n",
    "key_table1.head(3)"
   ]
  },
  {
   "cell_type": "code",
   "execution_count": null,
   "id": "6",
   "metadata": {
    "tags": []
   },
   "outputs": [],
   "source": [
    "key_table2 = pd.read_excel(\"../../secret_data/Sleutelbestand_participation_other_studies_04-08-2023.xlsx\", sheet_name=1)\n",
    "key_table2"
   ]
  },
  {
   "cell_type": "code",
   "execution_count": null,
   "id": "7",
   "metadata": {
    "tags": []
   },
   "outputs": [],
   "source": [
    "# We seee second sheet is blank, we try the thiurd\n",
    "key_table3 = pd.read_excel(\"../../secret_data/Sleutelbestand_participation_other_studies_04-08-2023.xlsx\", sheet_name=2)\n",
    "key_table3.head(3)"
   ]
  },
  {
   "cell_type": "markdown",
   "id": "8",
   "metadata": {
    "tags": []
   },
   "source": [
    "For now we assume only the top sheet matters"
   ]
  },
  {
   "cell_type": "code",
   "execution_count": null,
   "id": "9",
   "metadata": {
    "tags": []
   },
   "outputs": [],
   "source": [
    "len(key_table1)"
   ]
  },
  {
   "cell_type": "code",
   "execution_count": null,
   "id": "10",
   "metadata": {
    "tags": []
   },
   "outputs": [],
   "source": [
    "key_table1.tail(10)"
   ]
  },
  {
   "cell_type": "code",
   "execution_count": null,
   "id": "11",
   "metadata": {
    "tags": []
   },
   "outputs": [],
   "source": [
    "key_table_clean = key_table1[key_table1['Participant Id'].notna()]\n",
    "key_table_clean.tail(3) "
   ]
  },
  {
   "cell_type": "code",
   "execution_count": null,
   "id": "12",
   "metadata": {
    "tags": []
   },
   "outputs": [],
   "source": [
    "len(key_table_clean)"
   ]
  },
  {
   "cell_type": "code",
   "execution_count": null,
   "id": "13",
   "metadata": {
    "tags": []
   },
   "outputs": [],
   "source": [
    "key_table_clean.columns"
   ]
  },
  {
   "cell_type": "code",
   "execution_count": null,
   "id": "14",
   "metadata": {
    "tags": []
   },
   "outputs": [],
   "source": [
    "key_table_clean = key_table_clean[['Participant Id','RADeep_id', 'SCORE_data_local_id', 'SCS_id', 'SCS_inclusion_y_n', 'SCORE_biobank_y_n', 'SCORE_biobank_local_id']]\n",
    "key_table_clean.head(3)"
   ]
  },
  {
   "cell_type": "code",
   "execution_count": null,
   "id": "15",
   "metadata": {
    "tags": []
   },
   "outputs": [],
   "source": [
    "key_table_clean.columns"
   ]
  },
  {
   "cell_type": "code",
   "execution_count": null,
   "id": "16",
   "metadata": {
    "tags": []
   },
   "outputs": [],
   "source": [
    "key_table_clean.isna().sum()"
   ]
  },
  {
   "cell_type": "code",
   "execution_count": null,
   "id": "17",
   "metadata": {
    "tags": []
   },
   "outputs": [],
   "source": [
    "Brick_excel_export_20240319031602_shape = pd.ExcelFile(\"../../secret_data/Brick_excel_export_20240319031602.xlsx\")\n",
    "brick_sheet_names = Brick_excel_export_20240319031602_shape.sheet_names\n",
    "print(brick_sheet_names)\n",
    "print(len(brick_sheet_names))"
   ]
  },
  {
   "cell_type": "markdown",
   "id": "18",
   "metadata": {},
   "source": [
    "The brick excel report has a lot of sheets to examine"
   ]
  },
  {
   "cell_type": "code",
   "execution_count": null,
   "id": "19",
   "metadata": {
    "tags": []
   },
   "outputs": [],
   "source": [
    "Brick_excel_export_20240319031602_1 = pd.read_excel(\"../../secret_data/Brick_excel_export_20240319031602.xlsx\", sheet_name=0)\n",
    "Brick_excel_export_20240319031602_2 = pd.read_excel(\"../../secret_data/Brick_excel_export_20240319031602.xlsx\", sheet_name=1)\n",
    "Brick_excel_export_20240319031602_3 = pd.read_excel(\"../../secret_data/Brick_excel_export_20240319031602.xlsx\", sheet_name=2)\n",
    "Brick_excel_export_20240319031602_4 = pd.read_excel(\"../../secret_data/Brick_excel_export_20240319031602.xlsx\", sheet_name=3)\n",
    "Brick_excel_export_20240319031602_5 = pd.read_excel(\"../../secret_data/Brick_excel_export_20240319031602.xlsx\", sheet_name=4)\n",
    "Brick_excel_export_20240319031602_6 = pd.read_excel(\"../../secret_data/Brick_excel_export_20240319031602.xlsx\", sheet_name=5)\n",
    "Brick_excel_export_20240319031602_7 = pd.read_excel(\"../../secret_data/Brick_excel_export_20240319031602.xlsx\", sheet_name=6)\n",
    "Brick_excel_export_20240319031602_8 = pd.read_excel(\"../../secret_data/Brick_excel_export_20240319031602.xlsx\", sheet_name=7)"
   ]
  },
  {
   "cell_type": "code",
   "execution_count": null,
   "id": "20",
   "metadata": {
    "tags": []
   },
   "outputs": [],
   "source": [
    "Brick_excel_export_20240319031602_4.head(3)"
   ]
  },
  {
   "cell_type": "markdown",
   "id": "21",
   "metadata": {},
   "source": [
    "Other sheets examined, but blank (for now?)"
   ]
  },
  {
   "cell_type": "code",
   "execution_count": null,
   "id": "22",
   "metadata": {
    "tags": []
   },
   "outputs": [],
   "source": [
    "len(key_table_clean) - len(Brick_excel_export_20240319031602_1)"
   ]
  },
  {
   "cell_type": "markdown",
   "id": "23",
   "metadata": {},
   "source": [
    "Here we see there is a difference of 6 participants betweeen the two (key_table has more)"
   ]
  },
  {
   "cell_type": "code",
   "execution_count": null,
   "id": "24",
   "metadata": {
    "tags": []
   },
   "outputs": [],
   "source": [
    "# Brick_excel_export_20240319031602 = pd.ExcelFile(\"../../secret_data/Brick_excel_export_20240319031602.xlsx\")\n",
    "# Get the list of sheet names"
   ]
  },
  {
   "cell_type": "code",
   "execution_count": null,
   "id": "25",
   "metadata": {
    "tags": []
   },
   "outputs": [],
   "source": [
    "len(Brick_excel_export_20240319031602_1)"
   ]
  },
  {
   "cell_type": "code",
   "execution_count": null,
   "id": "26",
   "metadata": {
    "tags": []
   },
   "outputs": [],
   "source": [
    "Brick_excel_export_20240319031602_1.head() "
   ]
  },
  {
   "cell_type": "code",
   "execution_count": null,
   "id": "27",
   "metadata": {
    "tags": []
   },
   "outputs": [],
   "source": [
    "Brick_excel_export_20240319031602_1['RADeep_id'] = Brick_excel_export_20240319031602_1['SCORE_data_local_id']\n",
    "Brick_excel_export_20240319031602_1.head(3)"
   ]
  },
  {
   "cell_type": "code",
   "execution_count": null,
   "id": "28",
   "metadata": {
    "tags": []
   },
   "outputs": [],
   "source": []
  },
  {
   "cell_type": "code",
   "execution_count": null,
   "id": "29",
   "metadata": {
    "tags": []
   },
   "outputs": [],
   "source": [
    "Brick_excel_export_20240319031602_1 = Brick_excel_export_20240319031602_1[['SCORE_data', 'Site Abbreviation','RADeep_id']]\n",
    "Brick_excel_export_20240319031602_1.head(3)"
   ]
  },
  {
   "cell_type": "code",
   "execution_count": null,
   "id": "30",
   "metadata": {
    "tags": []
   },
   "outputs": [],
   "source": [
    "set_of_brick = set(Brick_excel_export_20240319031602_1['RADeep_id'])\n",
    "len(set_of_brick)"
   ]
  },
  {
   "cell_type": "code",
   "execution_count": null,
   "id": "31",
   "metadata": {
    "tags": []
   },
   "outputs": [],
   "source": [
    "set_of_key_table_clean = set(key_table_clean['RADeep_id'])\n",
    "len(set_of_key_table_clean)"
   ]
  },
  {
   "cell_type": "code",
   "execution_count": null,
   "id": "32",
   "metadata": {
    "tags": []
   },
   "outputs": [],
   "source": [
    "intersection = set_of_key_table_clean.intersection(set_of_brick)\n",
    "len(intersection)"
   ]
  },
  {
   "cell_type": "code",
   "execution_count": null,
   "id": "33",
   "metadata": {
    "tags": []
   },
   "outputs": [],
   "source": [
    "only_in_set_table_key = set_of_key_table_clean - intersection\n",
    "only_in_set_table_key"
   ]
  },
  {
   "cell_type": "markdown",
   "id": "34",
   "metadata": {},
   "source": [
    "# check above RADipIDS that are present in key table but not in BRICK table !!\n",
    "\n",
    "Also check the below"
   ]
  },
  {
   "cell_type": "code",
   "execution_count": null,
   "id": "35",
   "metadata": {
    "tags": []
   },
   "outputs": [],
   "source": [
    "only_in_set_brick = set_of_brick - intersection\n",
    "only_in_set_brick"
   ]
  },
  {
   "cell_type": "code",
   "execution_count": null,
   "id": "36",
   "metadata": {
    "tags": []
   },
   "outputs": [],
   "source": [
    "key_table_clean.columns"
   ]
  },
  {
   "cell_type": "code",
   "execution_count": null,
   "id": "37",
   "metadata": {
    "tags": []
   },
   "outputs": [],
   "source": [
    "new_brick = Brick_excel_export_20240319031602_1.merge(key_table_clean, on= \"RADeep_id\")\n",
    "new_brick.head(3)"
   ]
  },
  {
   "cell_type": "code",
   "execution_count": null,
   "id": "38",
   "metadata": {
    "tags": []
   },
   "outputs": [],
   "source": [
    "len(new_brick)"
   ]
  },
  {
   "cell_type": "code",
   "execution_count": null,
   "id": "39",
   "metadata": {
    "tags": []
   },
   "outputs": [],
   "source": [
    "len(new_brick.columns)"
   ]
  },
  {
   "cell_type": "code",
   "execution_count": null,
   "id": "40",
   "metadata": {},
   "outputs": [],
   "source": []
  },
  {
   "cell_type": "code",
   "execution_count": null,
   "id": "41",
   "metadata": {
    "tags": []
   },
   "outputs": [],
   "source": [
    "# change particpant ID to be first column, SCS_inclusion_y_N,SCS_id\n",
    "\n",
    "new_brick = new_brick[['Participant Id',\n",
    "                       'Site Abbreviation',\n",
    "                       'SCORE_data',\n",
    "                       'RADeep_id',\n",
    "                       'SCS_inclusion_y_n',\n",
    "                       'SCS_id',\n",
    "                       'SCORE_data_local_id',\n",
    "                       'SCORE_biobank_y_n',\n",
    "                       'SCORE_biobank_local_id'\n",
    "                      ]]\n",
    "new_brick.head(4)"
   ]
  },
  {
   "cell_type": "code",
   "execution_count": null,
   "id": "42",
   "metadata": {
    "tags": []
   },
   "outputs": [],
   "source": [
    "len(new_brick.columns)"
   ]
  },
  {
   "cell_type": "code",
   "execution_count": null,
   "id": "43",
   "metadata": {
    "tags": []
   },
   "outputs": [],
   "source": [
    "SCORE_RADeep_registry__excel_export_20240313120746 = pd.read_excel(\"../../secret_data/SCORE_RADeep-registry__excel_export_20240313120746.xlsx\")\n",
    "# # Get the list of sheet names"
   ]
  },
  {
   "cell_type": "code",
   "execution_count": null,
   "id": "44",
   "metadata": {
    "tags": []
   },
   "outputs": [],
   "source": [
    "SCORE_RADeep_registry__excel_export_20240313120746.head(2)"
   ]
  },
  {
   "cell_type": "code",
   "execution_count": null,
   "id": "45",
   "metadata": {
    "tags": []
   },
   "outputs": [],
   "source": [
    "# merge based on SCore.ParticipantID = RADeep_ID in new_brick\n",
    "# so first transform score.partipcantID to RADeepID\n",
    "SCORE_RADeep_registry__excel_export_20240313120746 = SCORE_RADeep_registry__excel_export_20240313120746.rename(columns={'Participant Id':'RADeep_id'})\n",
    "SCORE_RADeep_registry__excel_export_20240313120746.head(3)"
   ]
  },
  {
   "cell_type": "code",
   "execution_count": null,
   "id": "46",
   "metadata": {
    "tags": []
   },
   "outputs": [],
   "source": [
    "new_three = new_brick.merge(SCORE_RADeep_registry__excel_export_20240313120746, on= 'RADeep_id')\n",
    "new_three.head(3)"
   ]
  },
  {
   "cell_type": "code",
   "execution_count": null,
   "id": "47",
   "metadata": {
    "tags": []
   },
   "outputs": [],
   "source": [
    "# for f in new_three.columns:\n",
    "#     print(f)"
   ]
  },
  {
   "cell_type": "code",
   "execution_count": null,
   "id": "48",
   "metadata": {
    "tags": []
   },
   "outputs": [],
   "source": [
    "#new_three= new_three.drop(['Site Abbreviation_x'], axis=1)\n",
    "new_three= new_three.rename(columns={'Site Abbreviation_x':'Site Abbreviation'} )\n",
    "new_three.head(3)"
   ]
  },
  {
   "cell_type": "code",
   "execution_count": null,
   "id": "49",
   "metadata": {
    "tags": []
   },
   "outputs": [],
   "source": [
    "# new_three is a fusion of Brick , key_table and SCORE_RADeep_registry__excel_export_20240313120746 \n",
    "new_three.head(3)"
   ]
  },
  {
   "cell_type": "markdown",
   "id": "50",
   "metadata": {},
   "source": [
    "# Now let's go for some correlations!"
   ]
  },
  {
   "cell_type": "code",
   "execution_count": null,
   "id": "51",
   "metadata": {},
   "outputs": [],
   "source": [
    "numeric_new_three = new_three.select_dtypes(include=np.number)"
   ]
  },
  {
   "cell_type": "code",
   "execution_count": null,
   "id": "52",
   "metadata": {},
   "outputs": [],
   "source": [
    "nona_numeric_new_three = numeric_new_three.dropna(axis=1) "
   ]
  },
  {
   "cell_type": "code",
   "execution_count": null,
   "id": "53",
   "metadata": {
    "tags": []
   },
   "outputs": [],
   "source": [
    "len(nona_numeric_new_three.SCORE_data.unique())"
   ]
  },
  {
   "cell_type": "code",
   "execution_count": null,
   "id": "54",
   "metadata": {
    "tags": []
   },
   "outputs": [],
   "source": [
    "list_non_varying = []\n",
    "for column in nona_numeric_new_three.columns:\n",
    "    if len(nona_numeric_new_three[column].unique()) == 1:\n",
    "        print(column)\n",
    "        list_non_varying.append(column)\n",
    "        "
   ]
  },
  {
   "cell_type": "code",
   "execution_count": null,
   "id": "55",
   "metadata": {
    "tags": []
   },
   "outputs": [],
   "source": [
    "set_of_variers = set(list(nona_numeric_new_three.columns)) - set(list_non_varying)\n",
    "list(set_of_variers)"
   ]
  },
  {
   "cell_type": "code",
   "execution_count": null,
   "id": "56",
   "metadata": {
    "tags": []
   },
   "outputs": [],
   "source": [
    "vary_numeric_new_three = nona_numeric_new_three[list(set_of_variers)]"
   ]
  },
  {
   "cell_type": "code",
   "execution_count": null,
   "id": "57",
   "metadata": {},
   "outputs": [],
   "source": [
    "vary_numeric_new_three.corr(method='spearman', numeric_only=False)"
   ]
  },
  {
   "cell_type": "code",
   "execution_count": null,
   "id": "58",
   "metadata": {},
   "outputs": [],
   "source": [
    "sns.heatmap(vary_numeric_new_three.corr(method='spearman', numeric_only=False))"
   ]
  },
  {
   "cell_type": "markdown",
   "id": "59",
   "metadata": {},
   "source": [
    "From the above table we can see some stronger correlations, and weaker ones in our dataset. Forexample ab_id test#S is very enatively correlated with method of diagnosis clinical symptoms. But there is even more data to be added. This is where the research questions need to come in. What do we want to show the correlation between. "
   ]
  },
  {
   "cell_type": "code",
   "execution_count": null,
   "id": "60",
   "metadata": {},
   "outputs": [],
   "source": [
    "plt.figure(figsize=(16,6))\n",
    "heatmap = sns.heatmap(vary_numeric_new_three.corr(method='spearman', numeric_only=False), vmin=-1, vmax=1, annot=True)\n",
    "heatmap.set_title(\"Brick Study Correlation Heatmap I\")"
   ]
  },
  {
   "cell_type": "code",
   "execution_count": null,
   "id": "61",
   "metadata": {},
   "outputs": [],
   "source": [
    "addit_data = pd.read_csv(\"../../secret_data/BRICK_Data_20230509.csv\", sep=\";\")\n",
    "addit_data"
   ]
  },
  {
   "cell_type": "code",
   "execution_count": null,
   "id": "62",
   "metadata": {},
   "outputs": [],
   "source": [
    "addmisions_frame = addit_data.groupby('StudieID').count()"
   ]
  },
  {
   "cell_type": "code",
   "execution_count": null,
   "id": "63",
   "metadata": {
    "tags": []
   },
   "outputs": [],
   "source": [
    "addmisions_frame.columns"
   ]
  },
  {
   "cell_type": "code",
   "execution_count": null,
   "id": "64",
   "metadata": {},
   "outputs": [],
   "source": [
    "addmisions_frame['number_of_addmisions'] = addmisions_frame['ziekenhuisopname_start']"
   ]
  },
  {
   "cell_type": "code",
   "execution_count": null,
   "id": "65",
   "metadata": {},
   "outputs": [],
   "source": [
    "addmisions_count = addmisions_frame['number_of_addmisions'] \n",
    "addmisions_count = addmisions_count.reset_index()"
   ]
  },
  {
   "cell_type": "code",
   "execution_count": null,
   "id": "66",
   "metadata": {
    "tags": []
   },
   "outputs": [],
   "source": [
    "addmisions_count"
   ]
  },
  {
   "cell_type": "code",
   "execution_count": null,
   "id": "67",
   "metadata": {
    "tags": []
   },
   "outputs": [],
   "source": [
    "addmisions_count.info()"
   ]
  },
  {
   "cell_type": "code",
   "execution_count": null,
   "id": "68",
   "metadata": {
    "tags": []
   },
   "outputs": [],
   "source": [
    "new_three.head(3)"
   ]
  },
  {
   "cell_type": "code",
   "execution_count": null,
   "id": "69",
   "metadata": {
    "tags": []
   },
   "outputs": [],
   "source": [
    "addmisions_count[\"Participant Id\"] = addmisions_count[\"StudieID\"]\n",
    "addmisions_count[\"Participant Id\"] =addmisions_count[\"Participant Id\"].str.replace(\"-\",\"_\")\n",
    "latest = addmisions_count.merge(new_three, on=\"Participant Id\") \n",
    "latest.head(3)"
   ]
  },
  {
   "cell_type": "code",
   "execution_count": null,
   "id": "70",
   "metadata": {
    "tags": []
   },
   "outputs": [],
   "source": [
    "latest =latest.select_dtypes(include=np.number)"
   ]
  },
  {
   "cell_type": "code",
   "execution_count": null,
   "id": "71",
   "metadata": {
    "tags": []
   },
   "outputs": [],
   "source": [
    "new_interesting_columns = list(set_of_variers) + list(['number_of_addmisions'])"
   ]
  },
  {
   "cell_type": "code",
   "execution_count": null,
   "id": "72",
   "metadata": {
    "tags": []
   },
   "outputs": [],
   "source": [
    "new_interesting_columns "
   ]
  },
  {
   "cell_type": "code",
   "execution_count": null,
   "id": "73",
   "metadata": {
    "tags": []
   },
   "outputs": [],
   "source": [
    "for_corr_latest = latest[latest.notna()]\n",
    "#for_corr_latest = for_corr_latest[[new_interesting_columns]]"
   ]
  },
  {
   "cell_type": "code",
   "execution_count": null,
   "id": "74",
   "metadata": {
    "tags": []
   },
   "outputs": [],
   "source": [
    "bext = for_corr_latest.dropna(axis=1)"
   ]
  },
  {
   "cell_type": "code",
   "execution_count": null,
   "id": "75",
   "metadata": {
    "tags": []
   },
   "outputs": [],
   "source": [
    "list_non_varying = []\n",
    "for column in bext.columns:\n",
    "    if len(bext[column].unique()) == 1:\n",
    "        print(column)\n",
    "        list_non_varying.append(column)"
   ]
  },
  {
   "cell_type": "code",
   "execution_count": null,
   "id": "76",
   "metadata": {
    "tags": []
   },
   "outputs": [],
   "source": [
    "set_of_variers = set(list(bext.columns)) - set(list_non_varying)\n",
    "list(set_of_variers)"
   ]
  },
  {
   "cell_type": "code",
   "execution_count": null,
   "id": "77",
   "metadata": {},
   "outputs": [],
   "source": [
    "bext[list(set_of_variers)].corr()"
   ]
  },
  {
   "cell_type": "code",
   "execution_count": null,
   "id": "78",
   "metadata": {
    "tags": []
   },
   "outputs": [],
   "source": [
    "sns.heatmap(bext[list(set_of_variers)].corr(method='spearman', numeric_only=False))"
   ]
  },
  {
   "cell_type": "code",
   "execution_count": null,
   "id": "79",
   "metadata": {
    "tags": []
   },
   "outputs": [],
   "source": [
    "plt.figure(figsize=(16,6))\n",
    "heatmap = sns.heatmap(bext[list(set_of_variers)].corr(method='spearman', numeric_only=False), vmin=-1, vmax=1, annot=True)\n",
    "heatmap.set_title(\"Brick Study Correlation Heatmap II\")\n",
    "plt.savefig('finalhead.png')"
   ]
  },
  {
   "cell_type": "code",
   "execution_count": null,
   "id": "80",
   "metadata": {
    "tags": []
   },
   "outputs": [],
   "source": []
  },
  {
   "cell_type": "code",
   "execution_count": null,
   "id": "81",
   "metadata": {},
   "outputs": [],
   "source": []
  }
 ],
 "metadata": {
  "kernelspec": {
   "display_name": "Python 3 (ipykernel)",
   "language": "python",
   "name": "python3"
  },
  "language_info": {
   "codemirror_mode": {
    "name": "ipython",
    "version": 3
   },
   "file_extension": ".py",
   "mimetype": "text/x-python",
   "name": "python",
   "nbconvert_exporter": "python",
   "pygments_lexer": "ipython3",
   "version": "3.11.8"
  }
 },
 "nbformat": 4,
 "nbformat_minor": 5
}
