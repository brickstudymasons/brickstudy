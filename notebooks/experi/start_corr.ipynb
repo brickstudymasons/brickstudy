{
 "cells": [
  {
   "cell_type": "markdown",
   "id": "196ad02f-1c18-4271-9f96-4c096fb38e30",
   "metadata": {},
   "source": [
    "# Correlations on Brick tabular data"
   ]
  },
  {
   "cell_type": "code",
   "execution_count": null,
   "id": "fd0743e4-90c8-4d9b-b5a1-28d5c9c76bf7",
   "metadata": {
    "tags": []
   },
   "outputs": [],
   "source": [
    "# libraries"
   ]
  },
  {
   "cell_type": "code",
   "execution_count": null,
   "id": "0",
   "metadata": {
    "tags": []
   },
   "outputs": [],
   "source": [
    "import os\n",
    "import sys\n",
    "from functools import reduce\n",
    "import pandas as pd\n",
    "import numpy as np\n",
    "import seaborn as sns\n",
    "import matplotlib.pyplot as plt\n",
    "import ipywidgets as widgets\n",
    "\n",
    "sys.path.insert(0, '../../')\n",
    "from brickstudy import foundation"
   ]
  },
  {
   "cell_type": "code",
   "execution_count": null,
   "id": "1",
   "metadata": {
    "tags": []
   },
   "outputs": [],
   "source": [
    "# import data and pull out incorrect lines\n",
    "\n",
    "#Sleutelbestand_participation_other_studies_08-04-2024_update..xlsx"
   ]
  },
  {
   "cell_type": "code",
   "execution_count": null,
   "id": "d04120ac-4568-4a34-ab24-eda64a7f0b1b",
   "metadata": {
    "tags": []
   },
   "outputs": [],
   "source": [
    "key_table_shape = pd.ExcelFile(\"../../secret_data/Sleutelbestand_participation_other_studies_08-04-2024_update..xlsx\")\n",
    "sheet_names = key_table_shape.sheet_names\n",
    "print(sheet_names)\n",
    "print(len(sheet_names))"
   ]
  },
  {
   "cell_type": "code",
   "execution_count": null,
   "id": "2",
   "metadata": {
    "tags": []
   },
   "outputs": [],
   "source": [
    "key_table1 = pd.read_excel(\"../../secret_data/Sleutelbestand_participation_other_studies_08-04-2024_update..xlsx\", sheet_name=0)\n",
    "key_table1.head(3)"
   ]
  },
  {
   "cell_type": "code",
   "execution_count": null,
   "id": "f450167e-86e9-480f-9af1-b54b37146ff5",
   "metadata": {
    "tags": []
   },
   "outputs": [],
   "source": [
    "key_table1[key_table1['RADeep_id'] == 'SCORE_ERA_0059']"
   ]
  },
  {
   "cell_type": "code",
   "execution_count": null,
   "id": "986ea628-2c6f-44c6-9bfc-7d9cddd6c96d",
   "metadata": {
    "tags": []
   },
   "outputs": [],
   "source": [
    "key_table1['RADeep_id']"
   ]
  },
  {
   "cell_type": "code",
   "execution_count": null,
   "id": "677c318f-63ae-4a15-9cbb-1a5a3b50524e",
   "metadata": {},
   "outputs": [],
   "source": [
    "# score_ERA_0059 is (also old Brick_034 (now new))is screen failure"
   ]
  },
  {
   "cell_type": "code",
   "execution_count": null,
   "id": "a9659b45-d8aa-4c0e-ad7d-376afe9f227c",
   "metadata": {
    "tags": []
   },
   "outputs": [],
   "source": [
    "#SCORE_RADeep_registry__excel_export_20240313120746.head(65).tail(4)"
   ]
  },
  {
   "cell_type": "code",
   "execution_count": null,
   "id": "9f9af2cd-54dd-4a5b-867d-f9aca95e3a73",
   "metadata": {},
   "outputs": [],
   "source": [
    "#STOP"
   ]
  },
  {
   "cell_type": "code",
   "execution_count": null,
   "id": "3ccc674d-880b-4a23-8162-277ed732bbf9",
   "metadata": {},
   "outputs": [],
   "source": []
  },
  {
   "cell_type": "code",
   "execution_count": null,
   "id": "ffa80549-9283-49c9-8efa-d4b76ef713cb",
   "metadata": {},
   "outputs": [],
   "source": []
  },
  {
   "cell_type": "code",
   "execution_count": null,
   "id": "96c94a09-a74f-420b-978e-e94d6f10b463",
   "metadata": {
    "tags": []
   },
   "outputs": [],
   "source": [
    "key_table2 = pd.read_excel(\"../../secret_data/Sleutelbestand_participation_other_studies_08-04-2024_update..xlsx\", sheet_name=1)\n",
    "key_table2"
   ]
  },
  {
   "cell_type": "code",
   "execution_count": null,
   "id": "b635c85b-f28e-4dce-b918-54fab2c9d9d8",
   "metadata": {},
   "outputs": [],
   "source": []
  },
  {
   "cell_type": "code",
   "execution_count": null,
   "id": "749ef153-d3b7-4a0a-ae46-3e067147a9c1",
   "metadata": {
    "tags": []
   },
   "outputs": [],
   "source": [
    "# We seee second sheet is blank, we try the thiurd\n",
    "key_table3 = pd.read_excel(\"../../secret_data/Sleutelbestand_participation_other_studies_08-04-2024_update..xlsx\", sheet_name=2)\n",
    "key_table3.head(3)"
   ]
  },
  {
   "cell_type": "markdown",
   "id": "5f7a11c2-fadd-47bc-a292-84c1f0627adb",
   "metadata": {
    "tags": []
   },
   "source": [
    "For now we assume only the top sheet matters"
   ]
  },
  {
   "cell_type": "code",
   "execution_count": null,
   "id": "9135b3c8-7e8e-41d7-84e1-54aed9f713fc",
   "metadata": {
    "tags": []
   },
   "outputs": [],
   "source": [
    "key_table3.shape"
   ]
  },
  {
   "cell_type": "code",
   "execution_count": null,
   "id": "4e5fdded-e7db-46ae-acb7-4121651cbe1a",
   "metadata": {
    "tags": []
   },
   "outputs": [],
   "source": [
    "#var = foundation.show_neg_value_patients(key_table3, cutoff_number=-1)"
   ]
  },
  {
   "cell_type": "code",
   "execution_count": null,
   "id": "dca947d5-b9db-4d3a-b79c-2ed839bfdaac",
   "metadata": {
    "tags": []
   },
   "outputs": [],
   "source": [
    "#var[1]"
   ]
  },
  {
   "cell_type": "code",
   "execution_count": null,
   "id": "4",
   "metadata": {
    "tags": []
   },
   "outputs": [],
   "source": [
    "len(key_table1)"
   ]
  },
  {
   "cell_type": "code",
   "execution_count": null,
   "id": "5",
   "metadata": {
    "tags": []
   },
   "outputs": [],
   "source": [
    "key_table1.tail(10)"
   ]
  },
  {
   "cell_type": "code",
   "execution_count": null,
   "id": "6",
   "metadata": {
    "tags": []
   },
   "outputs": [],
   "source": [
    "key_table_clean = key_table1[key_table1['Participant Id'].notna()]\n",
    "key_table_clean.tail(3) "
   ]
  },
  {
   "cell_type": "code",
   "execution_count": null,
   "id": "7",
   "metadata": {
    "tags": []
   },
   "outputs": [],
   "source": [
    "len(key_table_clean)"
   ]
  },
  {
   "cell_type": "code",
   "execution_count": null,
   "id": "8",
   "metadata": {
    "tags": []
   },
   "outputs": [],
   "source": [
    "key_table_clean.columns"
   ]
  },
  {
   "cell_type": "code",
   "execution_count": null,
   "id": "d5758c9e-4b02-4732-b858-d92b9b3917a9",
   "metadata": {
    "tags": []
   },
   "outputs": [],
   "source": [
    "key_table_clean.describe()"
   ]
  },
  {
   "cell_type": "code",
   "execution_count": null,
   "id": "9",
   "metadata": {
    "tags": []
   },
   "outputs": [],
   "source": [
    "key_table_clean = key_table_clean[['Participant Id','RADeep_id', 'SCORE_data_local_id', 'SCS_id', 'SCS_inclusion_y_n', 'SCORE_biobank_y_n', 'SCORE_biobank_local_id']]\n",
    "key_table_clean.head(3)"
   ]
  },
  {
   "cell_type": "code",
   "execution_count": null,
   "id": "10",
   "metadata": {
    "tags": []
   },
   "outputs": [],
   "source": [
    "key_table_clean.columns"
   ]
  },
  {
   "cell_type": "code",
   "execution_count": null,
   "id": "11",
   "metadata": {
    "tags": []
   },
   "outputs": [],
   "source": [
    "key_table_clean.isna().sum()"
   ]
  },
  {
   "cell_type": "code",
   "execution_count": null,
   "id": "d05d4366-755a-451f-9ed8-b75abb8603e9",
   "metadata": {},
   "outputs": [],
   "source": [
    "# \"../../secret_data/Brick_excel_export_20240319031602.xlsx\" will be replaced with new file"
   ]
  },
  {
   "cell_type": "code",
   "execution_count": null,
   "id": "800ad6d7-b930-4ad8-b10d-c04482ba3db7",
   "metadata": {
    "tags": []
   },
   "outputs": [],
   "source": [
    "Brick_excel_export_20240319031602_1 = pd.read_csv('../../secret_data/Castor_BRICK_export_NEPSYII_26042024.csv', sep= ';')"
   ]
  },
  {
   "cell_type": "code",
   "execution_count": null,
   "id": "904cbb6a-f80c-4299-a593-0c9dca60bfca",
   "metadata": {
    "tags": []
   },
   "outputs": [],
   "source": [
    "Brick_excel_export_20240319031602_1.head(3)"
   ]
  },
  {
   "cell_type": "code",
   "execution_count": null,
   "id": "04f3f79d-60a8-4494-b355-c7df8b02e671",
   "metadata": {},
   "outputs": [],
   "source": []
  },
  {
   "cell_type": "code",
   "execution_count": null,
   "id": "5034b657-7f56-4112-9555-ed8076dac51a",
   "metadata": {
    "tags": []
   },
   "outputs": [],
   "source": [
    "key_table_clean['RADeep_id']"
   ]
  },
  {
   "cell_type": "code",
   "execution_count": null,
   "id": "aa41a9a4-7fb8-4fac-9f27-1d0cbd2211c0",
   "metadata": {
    "tags": []
   },
   "outputs": [],
   "source": [
    "# Brick_excel_export_20240319031602_shape = pd.ExcelFile(\"../../secret_data/Brick_excel_export_20240319031602.xlsx\")\n",
    "# brick_sheet_names = Brick_excel_export_20240319031602_shape.sheet_names\n",
    "# print(brick_sheet_names)\n",
    "# print(len(brick_sheet_names))"
   ]
  },
  {
   "cell_type": "markdown",
   "id": "219756fc-fb23-4d1d-bb06-429ecf8b6da0",
   "metadata": {},
   "source": [
    "The brick excel report has a lot of sheets to examine"
   ]
  },
  {
   "cell_type": "code",
   "execution_count": null,
   "id": "14",
   "metadata": {
    "tags": []
   },
   "outputs": [],
   "source": [
    "# Brick_excel_export_20240319031602_1 = pd.read_excel(\"../../secret_data/Brick_excel_export_20240319031602.xlsx\", sheet_name=0)\n",
    "# Brick_excel_export_20240319031602_2 = pd.read_excel(\"../../secret_data/Brick_excel_export_20240319031602.xlsx\", sheet_name=1)\n",
    "# Brick_excel_export_20240319031602_3 = pd.read_excel(\"../../secret_data/Brick_excel_export_20240319031602.xlsx\", sheet_name=2)\n",
    "# Brick_excel_export_20240319031602_4 = pd.read_excel(\"../../secret_data/Brick_excel_export_20240319031602.xlsx\", sheet_name=3)\n",
    "# Brick_excel_export_20240319031602_5 = pd.read_excel(\"../../secret_data/Brick_excel_export_20240319031602.xlsx\", sheet_name=4)\n",
    "# Brick_excel_export_20240319031602_6 = pd.read_excel(\"../../secret_data/Brick_excel_export_20240319031602.xlsx\", sheet_name=5)\n",
    "# Brick_excel_export_20240319031602_7 = pd.read_excel(\"../../secret_data/Brick_excel_export_20240319031602.xlsx\", sheet_name=6)\n",
    "# Brick_excel_export_20240319031602_8 = pd.read_excel(\"../../secret_data/Brick_excel_export_20240319031602.xlsx\", sheet_name=7)"
   ]
  },
  {
   "cell_type": "code",
   "execution_count": null,
   "id": "5faf37e2-3588-4d25-80cf-1dfea9f293ba",
   "metadata": {
    "tags": []
   },
   "outputs": [],
   "source": [
    "Brick_excel_export_20240319031602_1.head(3)"
   ]
  },
  {
   "cell_type": "markdown",
   "id": "559f06a8-69a6-4842-8576-e9efed3d7059",
   "metadata": {},
   "source": [
    "Other sheets examined, but blank (for now?)"
   ]
  },
  {
   "cell_type": "code",
   "execution_count": null,
   "id": "96626c7e-b44e-4d38-9301-3ec85fac0a4a",
   "metadata": {
    "tags": []
   },
   "outputs": [],
   "source": [
    "Brick_excel_export_20240319031602_1.describe()"
   ]
  },
  {
   "cell_type": "code",
   "execution_count": null,
   "id": "c21ea963-f00e-424b-9767-e7552ca297b0",
   "metadata": {
    "tags": []
   },
   "outputs": [],
   "source": [
    "#Brick_excel_export_20240319031602_1.dropna?\n"
   ]
  },
  {
   "cell_type": "code",
   "execution_count": null,
   "id": "42792378-4a04-49f9-8b3c-a55731c332af",
   "metadata": {
    "tags": []
   },
   "outputs": [],
   "source": [
    "nan_free_brick = Brick_excel_export_20240319031602_1.dropna(axis=1, how='any')\n",
    "len(nan_free_brick.columns)"
   ]
  },
  {
   "cell_type": "code",
   "execution_count": null,
   "id": "0a89fd03-a57b-40eb-b8e4-7f111e75431e",
   "metadata": {
    "tags": []
   },
   "outputs": [],
   "source": [
    "nan_free_brick.columns"
   ]
  },
  {
   "cell_type": "code",
   "execution_count": null,
   "id": "9ec689da-f87d-4a13-844d-44b58b0c0bdd",
   "metadata": {
    "tags": []
   },
   "outputs": [],
   "source": [
    "nan_free_brick.head(3)"
   ]
  },
  {
   "cell_type": "code",
   "execution_count": null,
   "id": "239c55f7-4f82-406e-a11b-0205054864f8",
   "metadata": {
    "tags": []
   },
   "outputs": [],
   "source": [
    "# write a function to check that all columns have 1 as a mx"
   ]
  },
  {
   "cell_type": "code",
   "execution_count": null,
   "id": "87963c36-3376-4e2d-b5fc-504cac4d63ab",
   "metadata": {},
   "outputs": [],
   "source": [
    "len(Brick_excel_export_20240319031602_1)"
   ]
  },
  {
   "cell_type": "code",
   "execution_count": null,
   "id": "12",
   "metadata": {
    "tags": []
   },
   "outputs": [],
   "source": [
    "len(key_table_clean) - len(Brick_excel_export_20240319031602_1)"
   ]
  },
  {
   "cell_type": "markdown",
   "id": "77c84465-c08e-4abf-a5b7-900f05eb588d",
   "metadata": {},
   "source": [
    "Here we see there is a difference of 6 participants betweeen the two (key_table has more)"
   ]
  },
  {
   "cell_type": "code",
   "execution_count": null,
   "id": "13",
   "metadata": {
    "tags": []
   },
   "outputs": [],
   "source": [
    "# Brick_excel_export_20240319031602 = pd.ExcelFile(\"../../secret_data/Brick_excel_export_20240319031602.xlsx\")\n",
    "# Get the list of sheet names"
   ]
  },
  {
   "cell_type": "code",
   "execution_count": null,
   "id": "15",
   "metadata": {
    "tags": []
   },
   "outputs": [],
   "source": [
    "len(Brick_excel_export_20240319031602_1)"
   ]
  },
  {
   "cell_type": "code",
   "execution_count": null,
   "id": "16",
   "metadata": {
    "tags": []
   },
   "outputs": [],
   "source": [
    "Brick_excel_export_20240319031602_1.head() "
   ]
  },
  {
   "cell_type": "code",
   "execution_count": null,
   "id": "a8c676af-78e7-4a3b-a50f-1d09b29ead7e",
   "metadata": {
    "tags": []
   },
   "outputs": [],
   "source": [
    "#Brick_excel_export_20240319031602_1['SCORE_data_local_id']"
   ]
  },
  {
   "cell_type": "code",
   "execution_count": null,
   "id": "17",
   "metadata": {
    "tags": []
   },
   "outputs": [],
   "source": [
    "Brick_excel_export_20240319031602_1['RADeep_id'] = Brick_excel_export_20240319031602_1['SCORE_data_local_id']\n",
    "Brick_excel_export_20240319031602_1.head(3)"
   ]
  },
  {
   "cell_type": "code",
   "execution_count": null,
   "id": "9e7697d1-bfae-414f-9a66-b02f73afdea5",
   "metadata": {
    "tags": []
   },
   "outputs": [],
   "source": [
    "for f in Brick_excel_export_20240319031602_1.columns:\n",
    "    print(f)"
   ]
  },
  {
   "cell_type": "code",
   "execution_count": null,
   "id": "cca4850d-c9b7-4a31-a631-fb134e57965b",
   "metadata": {},
   "outputs": [],
   "source": [
    "#this is (above the brick to transfor to)"
   ]
  },
  {
   "cell_type": "code",
   "execution_count": null,
   "id": "18",
   "metadata": {
    "tags": []
   },
   "outputs": [],
   "source": [
    "Brick_excel_export_20240319031602_1.to_csv('../../secret_data/template_lab_format.csv')"
   ]
  },
  {
   "cell_type": "code",
   "execution_count": null,
   "id": "19",
   "metadata": {
    "tags": []
   },
   "outputs": [],
   "source": [
    "Brick_excel_export_20240319031602_1 = Brick_excel_export_20240319031602_1[['SCORE_data', 'Site Abbreviation','Participant Id']]\n",
    "Brick_excel_export_20240319031602_1.head(3)"
   ]
  },
  {
   "cell_type": "code",
   "execution_count": null,
   "id": "20",
   "metadata": {
    "tags": []
   },
   "outputs": [],
   "source": [
    "set_of_brick = set(Brick_excel_export_20240319031602_1['Participant Id'])\n",
    "len(set_of_brick)"
   ]
  },
  {
   "cell_type": "code",
   "execution_count": null,
   "id": "21",
   "metadata": {
    "tags": []
   },
   "outputs": [],
   "source": [
    "set_of_key_table_clean = set(key_table_clean['Participant Id'])\n",
    "len(set_of_key_table_clean)"
   ]
  },
  {
   "cell_type": "code",
   "execution_count": null,
   "id": "22",
   "metadata": {
    "tags": []
   },
   "outputs": [],
   "source": [
    "intersection = set_of_key_table_clean.intersection(set_of_brick)\n",
    "len(intersection)"
   ]
  },
  {
   "cell_type": "code",
   "execution_count": null,
   "id": "23",
   "metadata": {
    "tags": []
   },
   "outputs": [],
   "source": [
    "only_in_set_table_key = set_of_key_table_clean - intersection\n",
    "only_in_set_table_key"
   ]
  },
  {
   "cell_type": "code",
   "execution_count": null,
   "id": "b249b0bc-5b0a-435f-94da-7b13073ec239",
   "metadata": {
    "tags": []
   },
   "outputs": [],
   "source": [
    "# change  SCORE-ERA-0049 to SCORE_ERA_0049"
   ]
  },
  {
   "cell_type": "markdown",
   "id": "ba4c1e18-f022-482a-ad0c-680b201abb16",
   "metadata": {},
   "source": [
    "# check above RADipIDS that are present in key table but not in BRICK table !!\n",
    "\n",
    "Also check the below"
   ]
  },
  {
   "cell_type": "code",
   "execution_count": null,
   "id": "664239d8-f395-4a5e-a1cf-8f725734c5ca",
   "metadata": {
    "tags": []
   },
   "outputs": [],
   "source": [
    "only_in_set_brick = set_of_brick - intersection\n",
    "only_in_set_brick"
   ]
  },
  {
   "cell_type": "code",
   "execution_count": null,
   "id": "25",
   "metadata": {
    "tags": []
   },
   "outputs": [],
   "source": [
    "key_table_clean.columns"
   ]
  },
  {
   "cell_type": "code",
   "execution_count": null,
   "id": "29a2cb59-a1b3-4f92-94f3-0d745d0a7416",
   "metadata": {
    "tags": []
   },
   "outputs": [],
   "source": [
    "Brick_excel_export_20240319031602_1.columns"
   ]
  },
  {
   "cell_type": "code",
   "execution_count": null,
   "id": "26",
   "metadata": {
    "tags": []
   },
   "outputs": [],
   "source": [
    "new_brick = Brick_excel_export_20240319031602_1.merge(key_table_clean, on= \"Participant Id\")\n",
    "new_brick.head(3)"
   ]
  },
  {
   "cell_type": "code",
   "execution_count": null,
   "id": "27",
   "metadata": {
    "tags": []
   },
   "outputs": [],
   "source": [
    "len(new_brick)"
   ]
  },
  {
   "cell_type": "code",
   "execution_count": null,
   "id": "28",
   "metadata": {
    "tags": []
   },
   "outputs": [],
   "source": [
    "len(new_brick.columns)"
   ]
  },
  {
   "cell_type": "code",
   "execution_count": null,
   "id": "29",
   "metadata": {},
   "outputs": [],
   "source": []
  },
  {
   "cell_type": "code",
   "execution_count": null,
   "id": "30",
   "metadata": {
    "tags": []
   },
   "outputs": [],
   "source": [
    "# change particpant ID to be first column, SCS_inclusion_y_N,SCS_id\n",
    "\n",
    "new_brick = new_brick[['Participant Id',\n",
    "                       'Site Abbreviation',\n",
    "                       'SCORE_data',\n",
    "                       'RADeep_id',\n",
    "                       'SCS_inclusion_y_n',\n",
    "                       'SCS_id',\n",
    "                       'SCORE_data_local_id',\n",
    "                       'SCORE_biobank_y_n',\n",
    "                       'SCORE_biobank_local_id'\n",
    "                      ]]\n",
    "new_brick.head(4)"
   ]
  },
  {
   "cell_type": "code",
   "execution_count": null,
   "id": "31",
   "metadata": {
    "tags": []
   },
   "outputs": [],
   "source": [
    "len(new_brick.columns)"
   ]
  },
  {
   "cell_type": "code",
   "execution_count": null,
   "id": "32",
   "metadata": {
    "tags": []
   },
   "outputs": [],
   "source": [
    "SCORE_RADeep_registry__excel_export_20240313120746 = pd.read_excel(\"../../secret_data/C_SCORE_RADeep-registry__excel_export_20240415042425.xlsx\")\n"
   ]
  },
  {
   "cell_type": "code",
   "execution_count": null,
   "id": "88ede1e1-da78-4c4a-919b-d359f279c43c",
   "metadata": {
    "tags": []
   },
   "outputs": [],
   "source": [
    "SCORE_RADeep_registry__excel_export_20240313120746.columns"
   ]
  },
  {
   "cell_type": "code",
   "execution_count": null,
   "id": "07ce7ae1-258f-4f0d-b047-1cd546dcc2d3",
   "metadata": {
    "tags": []
   },
   "outputs": [],
   "source": [
    "sheets_SCORE = pd.ExcelFile(\"../../secret_data/C_SCORE_RADeep-registry__excel_export_20240415042425.xlsx\")\n",
    "\n",
    "sheet_names = sheets_SCORE.sheet_names\n",
    "print(sheet_names)\n",
    "print(len(sheet_names))"
   ]
  },
  {
   "cell_type": "code",
   "execution_count": null,
   "id": "b6f094eb-eabd-4d19-8561-1fe1642ac8bf",
   "metadata": {
    "tags": []
   },
   "outputs": [],
   "source": [
    "SCORE_RADeep_registry__excel_export_20240313120746_visit = pd.read_excel(\"../../secret_data/SCORE_RADeep-registry__excel_export_20240313120746.xlsx\", sheet_name='Visit')\n",
    "SCORE_RADeep_registry__excel_export_20240313120746_visit.head(3)"
   ]
  },
  {
   "cell_type": "code",
   "execution_count": null,
   "id": "bcc9bf09-5376-483f-a893-70b102c76714",
   "metadata": {
    "tags": []
   },
   "outputs": [],
   "source": [
    "SCORE_RADeep_registry__excel_export_20240313120746_visit[['lenght','weight', 'diastolic_blood_pressue','systolic_blood_pressure', 'heart_rate',  'Participant Id', 'oxygen_saturation_rate']][SCORE_RADeep_registry__excel_export_20240313120746_visit['lenght'] < 0] "
   ]
  },
  {
   "cell_type": "code",
   "execution_count": null,
   "id": "5d63ec16-7232-4e8e-ac04-5f160fa9d979",
   "metadata": {
    "tags": []
   },
   "outputs": [],
   "source": [
    "SCORE_RADeep_registry__excel_export_20240313120746_visit.columns"
   ]
  },
  {
   "cell_type": "code",
   "execution_count": null,
   "id": "15180936-f47c-4b21-8c8c-5c655821f22b",
   "metadata": {
    "tags": []
   },
   "outputs": [],
   "source": [
    "#v = SCORE_RADeep_registry__excel_export_20240313120746_visit[['lenght']]\n"
   ]
  },
  {
   "cell_type": "code",
   "execution_count": null,
   "id": "bb42d189-f9b3-4035-8337-a5701b236710",
   "metadata": {
    "tags": []
   },
   "outputs": [],
   "source": [
    "#var = foundation.show_neg_value_patients(SCORE_RADeep_registry__excel_export_20240313120746_visit)"
   ]
  },
  {
   "cell_type": "code",
   "execution_count": null,
   "id": "a44667e2-cbf2-48a5-b9db-a8c8e3b0ce96",
   "metadata": {
    "tags": []
   },
   "outputs": [],
   "source": [
    "#SCORE_RADeep_registry__excel_export_20240313120746_visit.describe()"
   ]
  },
  {
   "cell_type": "code",
   "execution_count": null,
   "id": "4f5675a2-b22b-4f86-98e8-5f342c65796d",
   "metadata": {
    "tags": []
   },
   "outputs": [],
   "source": [
    "#SCORE_RADeep_registry__excel_export_20240313120746_visit['l']"
   ]
  },
  {
   "cell_type": "code",
   "execution_count": null,
   "id": "76cfbcef-d846-41ff-a9b6-dce334c24777",
   "metadata": {
    "tags": []
   },
   "outputs": [],
   "source": [
    "#SCORE_RADeep_registry__excel_export_20240313120746_visit[~(SCORE_RADeep_registry__excel_export_20240313120746_visit.select_dtypes(np.number) >= 0).all(1)]"
   ]
  },
  {
   "cell_type": "code",
   "execution_count": null,
   "id": "e438d26d-dad7-497a-b878-4b7d9a6f0bda",
   "metadata": {
    "tags": []
   },
   "outputs": [],
   "source": [
    "SCORE_RADeep_registry__excel_export_20240313120746_visit.columns"
   ]
  },
  {
   "cell_type": "code",
   "execution_count": null,
   "id": "46b58646-d778-41bf-94ab-5b3bf563f1bb",
   "metadata": {
    "tags": []
   },
   "outputs": [],
   "source": [
    "SCORE_RADeep_registry__excel_export_20240313120746_visit[['weight', 'Participant Id']][SCORE_RADeep_registry__excel_export_20240313120746_visit['weight'] < 0] "
   ]
  },
  {
   "cell_type": "code",
   "execution_count": null,
   "id": "6e924620-a33f-4c71-9f5a-6cf5c8e16ac4",
   "metadata": {
    "tags": []
   },
   "outputs": [],
   "source": [
    "SCORE_RADeep_registry__excel_export_20240313120746_visit[['diastolic_blood_pressue', 'Participant Id']][SCORE_RADeep_registry__excel_export_20240313120746_visit['diastolic_blood_pressue'] < 0] "
   ]
  },
  {
   "cell_type": "code",
   "execution_count": null,
   "id": "97a8c8c7-6c17-428c-b7be-ed7c35e85e7c",
   "metadata": {
    "tags": []
   },
   "outputs": [],
   "source": [
    "SCORE_RADeep_registry__excel_export_20240313120746_visit[['systolic_blood_pressure', 'Participant Id']][SCORE_RADeep_registry__excel_export_20240313120746_visit['systolic_blood_pressure'] < 0] \n",
    "#systolic_blood_pressure"
   ]
  },
  {
   "cell_type": "code",
   "execution_count": null,
   "id": "185b5f62-c22f-46a1-a325-e12bbd5b8ddb",
   "metadata": {
    "tags": []
   },
   "outputs": [],
   "source": [
    "# for f in SCORE_RADeep_registry__excel_export_20240313120746.columns:\n",
    "#     print(f)\n",
    "SCORE_RADeep_registry__excel_export_20240313120746[['month_of_birth', 'year_of_birth','Participant Id']][SCORE_RADeep_registry__excel_export_20240313120746['Participant Id'] == 'SCORE_ERA_0059']"
   ]
  },
  {
   "cell_type": "code",
   "execution_count": null,
   "id": "95520aed-8b73-4cfc-86bb-3583d26c7b06",
   "metadata": {},
   "outputs": [],
   "source": [
    "# need to filter out"
   ]
  },
  {
   "cell_type": "code",
   "execution_count": null,
   "id": "3a196078-540b-4016-8f3c-456521d5bccc",
   "metadata": {
    "tags": []
   },
   "outputs": [],
   "source": [
    "SCORE_RADeep_registry__excel_export_20240313120746_visit[['systolic_blood_pressure', 'Participant Id']][SCORE_RADeep_registry__excel_export_20240313120746_visit['systolic_blood_pressure'] < 0] \n",
    "#systolic_blood_pressure"
   ]
  },
  {
   "cell_type": "code",
   "execution_count": null,
   "id": "986b21c4-0b3f-4e8c-ad4b-e47de40a7d2d",
   "metadata": {
    "tags": []
   },
   "outputs": [],
   "source": [
    "for f in SCORE_RADeep_registry__excel_export_20240313120746_visit.columns:\n",
    "    print(f)"
   ]
  },
  {
   "cell_type": "code",
   "execution_count": null,
   "id": "81f80584-fc77-4d0a-824d-e99b0f1095a7",
   "metadata": {
    "tags": []
   },
   "outputs": [],
   "source": [
    "SCORE_RADeep_registry__excel_export_20240313120746_visit.describe()"
   ]
  },
  {
   "cell_type": "code",
   "execution_count": null,
   "id": "5a9c939e-3f02-405a-a49f-8861dc736155",
   "metadata": {
    "tags": []
   },
   "outputs": [],
   "source": [
    "for sheet in sheet_names:\n",
    "    print(sheet)"
   ]
  },
  {
   "cell_type": "code",
   "execution_count": null,
   "id": "33",
   "metadata": {
    "tags": []
   },
   "outputs": [],
   "source": [
    "SCORE_RADeep_registry__excel_export_20240313120746.head(2)"
   ]
  },
  {
   "cell_type": "code",
   "execution_count": null,
   "id": "e01e71f7-20b9-420d-932a-5eb3e761c12e",
   "metadata": {
    "tags": []
   },
   "outputs": [],
   "source": [
    "\n",
    "# for f in SCORE_RADeep_registry__excel_export_20240313120746.columns:\n",
    "#     print(f)"
   ]
  },
  {
   "cell_type": "code",
   "execution_count": null,
   "id": "34",
   "metadata": {
    "tags": []
   },
   "outputs": [],
   "source": [
    "# merge based on SCore.ParticipantID = RADeep_ID in new_brick\n",
    "# so first transform score.partipcantID to RADeepID\n",
    "SCORE_RADeep_registry__excel_export_20240313120746 = SCORE_RADeep_registry__excel_export_20240313120746.rename(columns={'Participant Id':'RADeep_id'})\n",
    "SCORE_RADeep_registry__excel_export_20240313120746.head(3)"
   ]
  },
  {
   "cell_type": "code",
   "execution_count": null,
   "id": "6b14bbbe-2d29-4bf0-a333-0ceb4129b15e",
   "metadata": {
    "tags": []
   },
   "outputs": [],
   "source": [
    "for f in SCORE_RADeep_registry__excel_export_20240313120746.columns:\n",
    "    print(f)"
   ]
  },
  {
   "cell_type": "code",
   "execution_count": null,
   "id": "c501e8b2-3a1f-4c66-b76f-fc3b956d110c",
   "metadata": {
    "tags": []
   },
   "outputs": [],
   "source": [
    "no_na_score_radeep = SCORE_RADeep_registry__excel_export_20240313120746.dropna(axis=1)\n",
    "no_na_score_radeep.columns"
   ]
  },
  {
   "cell_type": "code",
   "execution_count": null,
   "id": "0dced928-d35a-4cb4-820b-05df9a8afbf0",
   "metadata": {
    "tags": []
   },
   "outputs": [],
   "source": [
    "no_na_score_radeep['countrybirth'].unique()"
   ]
  },
  {
   "cell_type": "code",
   "execution_count": null,
   "id": "72c57d5d-27e4-4264-8166-c9646917746a",
   "metadata": {
    "tags": []
   },
   "outputs": [],
   "source": [
    "no_na_score_radeep['gender'].unique()"
   ]
  },
  {
   "cell_type": "code",
   "execution_count": null,
   "id": "a241636a-0125-4b37-92cf-5ebdb283e083",
   "metadata": {
    "tags": []
   },
   "outputs": [],
   "source": [
    "no_na_score_radeep[['age_onset','month_of_birth', 'year_of_birth','age_date_at_diagnosis','clin_diag_date']].describe()"
   ]
  },
  {
   "cell_type": "code",
   "execution_count": null,
   "id": "35",
   "metadata": {
    "tags": []
   },
   "outputs": [],
   "source": [
    "new_three = new_brick.merge(SCORE_RADeep_registry__excel_export_20240313120746, on= 'RADeep_id')\n",
    "new_three.head(3)"
   ]
  },
  {
   "cell_type": "code",
   "execution_count": null,
   "id": "edbaea28-c3f6-4c81-b2a9-1bd177782b0e",
   "metadata": {
    "tags": []
   },
   "outputs": [],
   "source": [
    "new_three.shape"
   ]
  },
  {
   "cell_type": "code",
   "execution_count": null,
   "id": "342b377b-413a-4440-a4a2-51cafc680d38",
   "metadata": {
    "tags": []
   },
   "outputs": [],
   "source": [
    "new_three.columns"
   ]
  },
  {
   "cell_type": "code",
   "execution_count": null,
   "id": "8c3afbfa-80c7-4a69-8cad-5726b71774ec",
   "metadata": {
    "tags": []
   },
   "outputs": [],
   "source": [
    "#var = foundation.show_neg_value_patients(new_three, cutoff_number=0)"
   ]
  },
  {
   "cell_type": "code",
   "execution_count": null,
   "id": "cbf5bb93-d38d-4583-b58d-8abd74b03ceb",
   "metadata": {
    "tags": []
   },
   "outputs": [],
   "source": [
    "#var[1]"
   ]
  },
  {
   "cell_type": "code",
   "execution_count": null,
   "id": "36",
   "metadata": {
    "tags": []
   },
   "outputs": [],
   "source": [
    "# for f in new_three.columns:\n",
    "#     print(f)"
   ]
  },
  {
   "cell_type": "code",
   "execution_count": null,
   "id": "51a104ac-e1e2-4903-b954-f4530654d73e",
   "metadata": {
    "tags": []
   },
   "outputs": [],
   "source": [
    "new_three"
   ]
  },
  {
   "cell_type": "code",
   "execution_count": null,
   "id": "37",
   "metadata": {
    "tags": []
   },
   "outputs": [],
   "source": [
    "#new_three= SCORE_RADeep_registry__excel_export_20240313120746 + Brick_excel_export_20240319031602_1 + key_table\n",
    "new_three= new_three.rename(columns={'Site Abbreviation_x':'Site Abbreviation'} )\n",
    "new_three.head(3)"
   ]
  },
  {
   "cell_type": "code",
   "execution_count": null,
   "id": "38",
   "metadata": {
    "tags": []
   },
   "outputs": [],
   "source": [
    "# new_three is a fusion of Brick , key_table and SCORE_RADeep_registry__excel_export_20240313120746 \n",
    "new_three.tail(3)"
   ]
  },
  {
   "cell_type": "code",
   "execution_count": null,
   "id": "b18a4b1e-ee69-4223-ab3f-8ba4e146a8f8",
   "metadata": {
    "tags": []
   },
   "outputs": [],
   "source": [
    "new_three.to_csv('../../secret_data/brick_score_key_26_4_2024.csv')"
   ]
  },
  {
   "cell_type": "markdown",
   "id": "5b59c9cb-c060-4317-8c8b-3a5802ed40d5",
   "metadata": {},
   "source": [
    "# Now let's go for some correlations!"
   ]
  },
  {
   "cell_type": "code",
   "execution_count": null,
   "id": "40",
   "metadata": {},
   "outputs": [],
   "source": [
    "numeric_new_three = new_three.select_dtypes(include=np.number)"
   ]
  },
  {
   "cell_type": "code",
   "execution_count": null,
   "id": "41",
   "metadata": {},
   "outputs": [],
   "source": [
    "nona_numeric_new_three = numeric_new_three.dropna(axis=1) "
   ]
  },
  {
   "cell_type": "code",
   "execution_count": null,
   "id": "e7404fa6-a4e0-482a-8e8f-426ccf4e9115",
   "metadata": {
    "tags": []
   },
   "outputs": [],
   "source": [
    "len(nona_numeric_new_three.SCORE_data.unique())"
   ]
  },
  {
   "cell_type": "code",
   "execution_count": null,
   "id": "61554ecf-eb22-4605-bfd8-488a622e9e7a",
   "metadata": {
    "tags": []
   },
   "outputs": [],
   "source": [
    "list_non_varying = []\n",
    "for column in nona_numeric_new_three.columns:\n",
    "    if len(nona_numeric_new_three[column].unique()) == 1:\n",
    "        print(column)\n",
    "        list_non_varying.append(column)\n",
    "        "
   ]
  },
  {
   "cell_type": "code",
   "execution_count": null,
   "id": "da35112e-8fa0-41b2-a2c4-0211536a0f1c",
   "metadata": {
    "tags": []
   },
   "outputs": [],
   "source": [
    "set_of_variers = set(list(nona_numeric_new_three.columns)) - set(list_non_varying)\n",
    "list(set_of_variers)"
   ]
  },
  {
   "cell_type": "code",
   "execution_count": null,
   "id": "71a764a4-d987-4c73-ad70-7755aca7fe58",
   "metadata": {
    "tags": []
   },
   "outputs": [],
   "source": [
    "vary_numeric_new_three = nona_numeric_new_three[list(set_of_variers)]"
   ]
  },
  {
   "cell_type": "code",
   "execution_count": null,
   "id": "42",
   "metadata": {},
   "outputs": [],
   "source": [
    "vary_numeric_new_three.corr(method='spearman', numeric_only=False)"
   ]
  },
  {
   "cell_type": "code",
   "execution_count": null,
   "id": "43",
   "metadata": {},
   "outputs": [],
   "source": [
    "sns.heatmap(vary_numeric_new_three.corr(method='spearman', numeric_only=False))"
   ]
  },
  {
   "cell_type": "markdown",
   "id": "8fd8683d-8c81-40ea-abbe-ab99080acc62",
   "metadata": {},
   "source": [
    "From the above table we can see some stronger correlations, and weaker ones in our dataset. Forexample ab_id test#S is very enatively correlated with method of diagnosis clinical symptoms. But there is even more data to be added. This is where the research questions need to come in. What do we want to show the correlation between. "
   ]
  },
  {
   "cell_type": "code",
   "execution_count": null,
   "id": "45",
   "metadata": {},
   "outputs": [],
   "source": [
    "plt.figure(figsize=(16,6))\n",
    "heatmap = sns.heatmap(vary_numeric_new_three.corr(method='spearman', numeric_only=False), vmin=-1, vmax=1, annot=True)\n",
    "heatmap.set_title(\"Brick Study Correlation Heatmap I\")"
   ]
  },
  {
   "cell_type": "code",
   "execution_count": null,
   "id": "46",
   "metadata": {},
   "outputs": [],
   "source": [
    "addit_data = pd.read_csv(\"../../secret_data/BRICK_Data_20230509.csv\", sep=\";\")\n",
    "addit_data"
   ]
  },
  {
   "cell_type": "code",
   "execution_count": null,
   "id": "47",
   "metadata": {},
   "outputs": [],
   "source": [
    "addmisions_frame = addit_data.groupby('StudieID').count()"
   ]
  },
  {
   "cell_type": "code",
   "execution_count": null,
   "id": "73f9aabe-d98f-49fc-83f4-ae08f1bb783b",
   "metadata": {
    "tags": []
   },
   "outputs": [],
   "source": [
    "addmisions_frame.columns"
   ]
  },
  {
   "cell_type": "code",
   "execution_count": null,
   "id": "48",
   "metadata": {},
   "outputs": [],
   "source": [
    "addmisions_frame['number_of_addmisions'] = addmisions_frame['ziekenhuisopname_start']"
   ]
  },
  {
   "cell_type": "code",
   "execution_count": null,
   "id": "49",
   "metadata": {},
   "outputs": [],
   "source": [
    "addmisions_count = addmisions_frame['number_of_addmisions'] \n",
    "addmisions_count = addmisions_count.reset_index()"
   ]
  },
  {
   "cell_type": "code",
   "execution_count": null,
   "id": "1d037a85-005c-40c0-89c0-3eec13165ed9",
   "metadata": {
    "tags": []
   },
   "outputs": [],
   "source": [
    "addmisions_count"
   ]
  },
  {
   "cell_type": "code",
   "execution_count": null,
   "id": "55d1d74b-c643-4399-8f6d-d9d8d1438c0f",
   "metadata": {
    "tags": []
   },
   "outputs": [],
   "source": [
    "addmisions_count.info()"
   ]
  },
  {
   "cell_type": "code",
   "execution_count": null,
   "id": "e7684aa3-66fb-4a15-96d8-d97cb881252d",
   "metadata": {
    "tags": []
   },
   "outputs": [],
   "source": [
    "new_three.head(3)"
   ]
  },
  {
   "cell_type": "code",
   "execution_count": null,
   "id": "524c8c3f-ee4c-406e-8dde-8e1057d77ff5",
   "metadata": {
    "tags": []
   },
   "outputs": [],
   "source": [
    "addmisions_count[\"Participant Id\"] = addmisions_count[\"StudieID\"]\n",
    "addmisions_count[\"Participant Id\"] =addmisions_count[\"Participant Id\"].str.replace(\"-\",\"_\")\n",
    "latest = addmisions_count.merge(new_three, on=\"Participant Id\") \n",
    "latest.head(3)"
   ]
  },
  {
   "cell_type": "markdown",
   "id": "1f24d445-554c-42a4-8f65-d24396f78a87",
   "metadata": {
    "tags": []
   },
   "source": [
    "## descriptive statistics"
   ]
  },
  {
   "cell_type": "code",
   "execution_count": null,
   "id": "d633dc73-a29b-4219-bc1c-c83abed39907",
   "metadata": {},
   "outputs": [],
   "source": [
    "latest.describe()"
   ]
  },
  {
   "cell_type": "code",
   "execution_count": null,
   "id": "bac8d60c-b860-4a61-ab68-075bf8979b98",
   "metadata": {
    "tags": []
   },
   "outputs": [],
   "source": [
    "list_of_columns = []\n",
    "for f in latest.columns:\n",
    "    list_of_columns.append(f)"
   ]
  },
  {
   "cell_type": "code",
   "execution_count": null,
   "id": "7af1c9cb-a6b6-4016-8693-728787922e6c",
   "metadata": {
    "tags": []
   },
   "outputs": [],
   "source": [
    "latest[picked_columns].describe()"
   ]
  },
  {
   "cell_type": "code",
   "execution_count": null,
   "id": "5dce518e-9d11-405e-a65a-f11c9f997558",
   "metadata": {
    "tags": []
   },
   "outputs": [],
   "source": [
    "latest.describe()[11:22]"
   ]
  },
  {
   "cell_type": "code",
   "execution_count": null,
   "id": "07f18d61-007b-429a-a6f6-2a3dce70236e",
   "metadata": {
    "tags": []
   },
   "outputs": [],
   "source": [
    "latest =latest.select_dtypes(include=np.number)"
   ]
  },
  {
   "cell_type": "code",
   "execution_count": null,
   "id": "d7e85ee2-6c73-4d6c-9cb3-060be7c86c34",
   "metadata": {
    "tags": []
   },
   "outputs": [],
   "source": [
    "new_interesting_columns = list(set_of_variers) + list(['number_of_addmisions'])"
   ]
  },
  {
   "cell_type": "code",
   "execution_count": null,
   "id": "48480e35-4bfb-4381-b649-f1305bcb1bee",
   "metadata": {
    "tags": []
   },
   "outputs": [],
   "source": [
    "new_interesting_columns "
   ]
  },
  {
   "cell_type": "code",
   "execution_count": null,
   "id": "6df59681-936a-420f-adb9-178e2faf87fa",
   "metadata": {
    "tags": []
   },
   "outputs": [],
   "source": [
    "for_corr_latest = latest[latest.notna()]\n",
    "#for_corr_latest = for_corr_latest[[new_interesting_columns]]"
   ]
  },
  {
   "cell_type": "code",
   "execution_count": null,
   "id": "aa368a6b-2b86-4d37-a236-f12cfd462722",
   "metadata": {
    "tags": []
   },
   "outputs": [],
   "source": [
    "bext = for_corr_latest.dropna(axis=1)"
   ]
  },
  {
   "cell_type": "code",
   "execution_count": null,
   "id": "72883096-053f-48c5-8645-77956f7af7ed",
   "metadata": {},
   "outputs": [],
   "source": []
  },
  {
   "cell_type": "code",
   "execution_count": null,
   "id": "6eb75ecf-c1b4-4cf0-9bfc-16462622be67",
   "metadata": {
    "tags": []
   },
   "outputs": [],
   "source": [
    "list_non_varying = []\n",
    "for column in bext.columns:\n",
    "    if len(bext[column].unique()) == 1:\n",
    "        print(column)\n",
    "        list_non_varying.append(column)"
   ]
  },
  {
   "cell_type": "code",
   "execution_count": null,
   "id": "1b3f05d3-8fa0-4590-b9f8-69d39dd24579",
   "metadata": {
    "tags": []
   },
   "outputs": [],
   "source": [
    "set_of_variers = set(list(bext.columns)) - set(list_non_varying)\n",
    "list(set_of_variers)"
   ]
  },
  {
   "cell_type": "code",
   "execution_count": null,
   "id": "50",
   "metadata": {},
   "outputs": [],
   "source": [
    "bext[list(set_of_variers)].corr()"
   ]
  },
  {
   "cell_type": "code",
   "execution_count": null,
   "id": "51",
   "metadata": {
    "tags": []
   },
   "outputs": [],
   "source": [
    "sns.heatmap(bext[list(set_of_variers)].corr(method='spearman', numeric_only=False))"
   ]
  },
  {
   "cell_type": "code",
   "execution_count": null,
   "id": "52",
   "metadata": {
    "tags": []
   },
   "outputs": [],
   "source": [
    "plt.figure(figsize=(16,6))\n",
    "heatmap = sns.heatmap(bext[list(set_of_variers)].corr(method='spearman', numeric_only=False), vmin=-1, vmax=1, annot=True)\n",
    "heatmap.set_title(\"Brick Study Correlation Heatmap II\")\n",
    "plt.savefig('finalhead.png')"
   ]
  },
  {
   "cell_type": "code",
   "execution_count": null,
   "id": "53",
   "metadata": {
    "tags": []
   },
   "outputs": [],
   "source": [
    "# we observe the best correlation for admission with clin_diag_date"
   ]
  },
  {
   "cell_type": "code",
   "execution_count": null,
   "id": "0b75d5d5-b160-4a89-894a-27d238baa2e8",
   "metadata": {
    "tags": []
   },
   "outputs": [],
   "source": [
    "bext.columns"
   ]
  },
  {
   "cell_type": "code",
   "execution_count": null,
   "id": "54",
   "metadata": {},
   "outputs": [],
   "source": [
    "to_graph = bext[['number_of_addmisions','clin_diag_date']]"
   ]
  },
  {
   "cell_type": "markdown",
   "id": "70364b37-0fae-439a-a8bd-fe2bb0d76e33",
   "metadata": {},
   "source": [
    "# Excel sheet really does have these mysterious values, needs checking with clinicians on meaning"
   ]
  },
  {
   "cell_type": "code",
   "execution_count": null,
   "id": "134701e9-8f0b-4d10-b4d0-7e0c38206086",
   "metadata": {
    "tags": []
   },
   "outputs": [],
   "source": [
    "to_graph = to_graph.sort_values(by='number_of_addmisions')"
   ]
  },
  {
   "cell_type": "code",
   "execution_count": null,
   "id": "def21b16-c8c9-4aa6-b054-626d638c1444",
   "metadata": {
    "tags": []
   },
   "outputs": [],
   "source": [
    "to_graph = to_graph.reset_index()"
   ]
  },
  {
   "cell_type": "code",
   "execution_count": null,
   "id": "b223bd85-a4e7-431c-a270-40c59bd8ff6a",
   "metadata": {
    "tags": []
   },
   "outputs": [],
   "source": [
    "to_graph = to_graph.rename(columns = {'index':'old_index',})\n",
    "to_graph"
   ]
  },
  {
   "cell_type": "code",
   "execution_count": null,
   "id": "a96df5d5-1dce-48e2-881f-22d1f2fc2223",
   "metadata": {
    "tags": []
   },
   "outputs": [],
   "source": [
    "plt.scatter(to_graph['number_of_addmisions'], to_graph['clin_diag_date'])\n",
    "#plt.scatter(to_graph['clin_diag_date'])"
   ]
  },
  {
   "cell_type": "markdown",
   "id": "f9fc7b93-5857-4e3d-9885-5d74be21e533",
   "metadata": {},
   "source": [
    "# Not really a convincing relationship....out outlier happened to make the correlation slightly match"
   ]
  },
  {
   "cell_type": "code",
   "execution_count": null,
   "id": "cd5b7e8e-848c-4270-b5ae-d72b3c4dd61b",
   "metadata": {},
   "outputs": [],
   "source": []
  }
 ],
 "metadata": {
  "kernelspec": {
   "display_name": "Python 3 (ipykernel)",
   "language": "python",
   "name": "python3"
  },
  "language_info": {
   "codemirror_mode": {
    "name": "ipython",
    "version": 3
   },
   "file_extension": ".py",
   "mimetype": "text/x-python",
   "name": "python",
   "nbconvert_exporter": "python",
   "pygments_lexer": "ipython3",
   "version": "3.11.8"
  }
 },
 "nbformat": 4,
 "nbformat_minor": 5
}
