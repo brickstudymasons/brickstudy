{
 "cells": [
  {
   "cell_type": "markdown",
   "id": "0",
   "metadata": {
    "tags": []
   },
   "source": [
    "# This is the final preparation of WAIS and WISC for upload\n",
    "September 2024"
   ]
  },
  {
   "cell_type": "markdown",
   "id": "1",
   "metadata": {
    "tags": []
   },
   "source": [
    "## import libraries"
   ]
  },
  {
   "cell_type": "code",
   "execution_count": null,
   "id": "2",
   "metadata": {},
   "outputs": [],
   "source": [
    "import pandas as pd \n",
    "import numpy as np"
   ]
  },
  {
   "cell_type": "markdown",
   "id": "3",
   "metadata": {},
   "source": [
    "### WISC additional fix"
   ]
  },
  {
   "cell_type": "code",
   "execution_count": null,
   "id": "4",
   "metadata": {},
   "outputs": [],
   "source": [
    "file = pd.read_csv(\"../../secret_data/WISC_V_BRICK_T0dd08042024.csv\", sep=\";\")\n",
    "our_file = file[[\n",
    "    'gr2o_patient_nr',\n",
    "    'DatumWISCV',\n",
    "    'AfnemerWISCV_SQ000',\n",
    "    'AfnemerWISCV_SQ001',\n",
    "    'AfnemerWISCV_SQ002',\n",
    "    'AfnemerWISCV_SQ003',\n",
    "    'AfnemerWISCV_SQ004',\n",
    "    'AfnemerWISCV_SQ005',\n",
    "    'AfnemerWISCV_SQ006',]]"
   ]
  },
  {
   "cell_type": "code",
   "execution_count": null,
   "id": "5",
   "metadata": {},
   "outputs": [],
   "source": [
    "our_file = our_file.rename(columns={'gr2o_patient_nr':'Participant Id'})"
   ]
  },
  {
   "cell_type": "code",
   "execution_count": null,
   "id": "6",
   "metadata": {},
   "outputs": [],
   "source": [
    "our_file = our_file.rename(columns={'DatumWISCV':'Datum_WISC_V_1'})"
   ]
  },
  {
   "cell_type": "code",
   "execution_count": null,
   "id": "7",
   "metadata": {},
   "outputs": [],
   "source": [
    "our_file"
   ]
  },
  {
   "cell_type": "code",
   "execution_count": null,
   "id": "8",
   "metadata": {
    "tags": []
   },
   "outputs": [],
   "source": [
    "def get_nemer(row):\n",
    "    return ', '.join([col for col in our_file.columns if row[col]=='Aangevinkt'])"
   ]
  },
  {
   "cell_type": "code",
   "execution_count": null,
   "id": "9",
   "metadata": {},
   "outputs": [],
   "source": []
  },
  {
   "cell_type": "code",
   "execution_count": null,
   "id": "10",
   "metadata": {
    "tags": []
   },
   "outputs": [],
   "source": [
    "our_file['Afnemer_WISC_V_1'] = our_file.apply(get_nemer, axis=1)"
   ]
  },
  {
   "cell_type": "code",
   "execution_count": null,
   "id": "11",
   "metadata": {
    "tags": []
   },
   "outputs": [],
   "source": [
    "our_file[['Participant Id','Afnemer_WISC_V_1']]"
   ]
  },
  {
   "cell_type": "code",
   "execution_count": null,
   "id": "12",
   "metadata": {
    "tags": []
   },
   "outputs": [],
   "source": [
    "# Note brick-48,43,40and brick-27 are multiple so we will make tehm zero\n",
    "our_file['Afnemer_WISC_V_1'] = our_file['Afnemer_WISC_V_1'].str[-1]\n",
    "our_file['Afnemer_WISC_V_1'][3] = 0\n",
    "our_file['Afnemer_WISC_V_1'][12] = 0\n",
    "our_file['Afnemer_WISC_V_1'][15] = 0\n",
    "our_file['Afnemer_WISC_V_1'][26] = 0\n",
    "our_file.head(3)"
   ]
  },
  {
   "cell_type": "code",
   "execution_count": null,
   "id": "13",
   "metadata": {
    "tags": []
   },
   "outputs": [],
   "source": [
    "our_file = our_file[['Participant Id','Datum_WISC_V_1','Afnemer_WISC_V_1']]\n",
    "our_file"
   ]
  },
  {
   "cell_type": "code",
   "execution_count": null,
   "id": "14",
   "metadata": {},
   "outputs": [],
   "source": [
    "\n",
    "our_file.to_csv('test_upload_dates.csv')"
   ]
  },
  {
   "cell_type": "markdown",
   "id": "15",
   "metadata": {},
   "source": [
    "# Now we want to look at a model WAIS file"
   ]
  },
  {
   "cell_type": "code",
   "execution_count": null,
   "id": "16",
   "metadata": {
    "tags": []
   },
   "outputs": [],
   "source": [
    "WAIS_model = pd.read_csv(\"../../secret_data/WAIS_BRICK.csv\", sep=\";\",)\n",
    "WAIS_model"
   ]
  },
  {
   "cell_type": "code",
   "execution_count": null,
   "id": "17",
   "metadata": {
    "tags": []
   },
   "outputs": [],
   "source": [
    "#third_set = actual_set = set(sorted(list(fast_wais.columns)))"
   ]
  },
  {
   "cell_type": "code",
   "execution_count": null,
   "id": "18",
   "metadata": {
    "tags": []
   },
   "outputs": [],
   "source": [
    "# Question #1,  let's look at the columns and realize if we need all of them, or even had them\n",
    "WAISIV_gemstracker = pd.read_csv(\"../../secret_data/WAISIV_BRICK_T0dd08042024.csv\", sep=\";\", encoding='latin1')\n",
    "print(\"Our actual data has\", len(WAISIV_gemstracker.columns), \"columns\")\n",
    "print(\"Our model data has\", len(WAIS_model.columns), \"columns\")\n",
    "print(\"Let's look at our model columns\")\n",
    "print(\"\")\n",
    "# for p in WAIS_model.columns:\n",
    "#     print(p)"
   ]
  },
  {
   "cell_type": "code",
   "execution_count": null,
   "id": "19",
   "metadata": {
    "tags": []
   },
   "outputs": [],
   "source": [
    "#WAISIV_gemstracker"
   ]
  },
  {
   "cell_type": "code",
   "execution_count": null,
   "id": "20",
   "metadata": {
    "tags": []
   },
   "outputs": [],
   "source": [
    "names = WAISIV_gemstracker[['gr2o_patient_nr',\n",
    "                    'AfnemerWAISIV_SQ000',\n",
    "                     'AfnemerWAISIV_SQ001',\n",
    "                     'AfnemerWAISIV_SQ002',\n",
    "                     'AfnemerWAISIV_SQ003',\n",
    "                     'AfnemerWAISIV_SQ004',\n",
    "                     'AfnemerWAISIV_SQ005',\n",
    "                     'AfnemerWAISIV_SQ006',]]\n",
    "names = names.rename(columns={\"gr2o_patient_nr\":\"Participant Id\"})\n",
    "names['Participant Id'] = names['Participant Id'].str.replace('-', \"_\")\n",
    "#names['Afnemer_WAIS_IV_1'] ="
   ]
  },
  {
   "cell_type": "code",
   "execution_count": null,
   "id": "21",
   "metadata": {
    "tags": []
   },
   "outputs": [],
   "source": [
    "def get_nemer(row):\n",
    "    return ', '.join([col for col in names.columns if row[col]=='Aangevinkt'])"
   ]
  },
  {
   "cell_type": "code",
   "execution_count": null,
   "id": "22",
   "metadata": {
    "tags": []
   },
   "outputs": [],
   "source": [
    "names['Afnemer_WAIS_IV_1'] = names.apply(get_nemer, axis=1)"
   ]
  },
  {
   "cell_type": "code",
   "execution_count": null,
   "id": "23",
   "metadata": {
    "tags": []
   },
   "outputs": [],
   "source": [
    "names_to_add = names[['Afnemer_WAIS_IV_1', 'Participant Id']]\n",
    "#names_to_add['Afnemer_WAIS_IV_1'] = names_to_add['Afnemer_WAIS_IV_1'].str[-1]\n",
    "names_to_add"
   ]
  },
  {
   "cell_type": "code",
   "execution_count": null,
   "id": "24",
   "metadata": {
    "tags": []
   },
   "outputs": [],
   "source": [
    "# Note birck-50 and brick-47 are multiple so we will make tehm zero\n",
    "names_to_add['Afnemer_WAIS_IV_1'] = names_to_add['Afnemer_WAIS_IV_1'].str[-1]\n",
    "names_to_add['Afnemer_WAIS_IV_1'][5] = 0\n",
    "names_to_add['Afnemer_WAIS_IV_1'][6] = 0\n",
    "names_to_add"
   ]
  },
  {
   "cell_type": "code",
   "execution_count": null,
   "id": "25",
   "metadata": {
    "tags": []
   },
   "outputs": [],
   "source": [
    "sorted(list(WAISIV_gemstracker.columns))"
   ]
  },
  {
   "cell_type": "code",
   "execution_count": null,
   "id": "26",
   "metadata": {
    "tags": []
   },
   "outputs": [],
   "source": [
    "# Now of course the question is how to they compare to the columns we have\n",
    "actual_set = set(sorted(list(WAISIV_gemstracker.columns)))\n",
    "model_set = set(sorted(list(WAIS_model.columns)))\n",
    "#u = set.intersection(model_set, third_set)\n",
    "# u = real_set & actual_set\n",
    "#len(u)\n",
    "#third_set\n"
   ]
  },
  {
   "cell_type": "code",
   "execution_count": null,
   "id": "27",
   "metadata": {
    "tags": []
   },
   "outputs": [],
   "source": [
    "for p in actual_set:\n",
    "    print(p),\n",
    "    if p in model_set:\n",
    "        print(\"Yes\")\n",
    "    else:\n",
    "        print(\"No\")"
   ]
  },
  {
   "cell_type": "code",
   "execution_count": null,
   "id": "28",
   "metadata": {
    "tags": []
   },
   "outputs": [],
   "source": [
    "# OH no...lets look at what we have by hand, maybe it's about capitalization or something\n",
    "# for p in WAISIV_gemstracker.columns:\n",
    "#     print(p)"
   ]
  },
  {
   "cell_type": "code",
   "execution_count": null,
   "id": "29",
   "metadata": {
    "tags": []
   },
   "outputs": [],
   "source": [
    "# let's go through this by alphabet and see if we can understand\n",
    "\n",
    "WAISIV_gemstracker_columns_list = list(WAISIV_gemstracker.columns)\n",
    "print(sorted(WAISIV_gemstracker_columns_list)[:10])"
   ]
  },
  {
   "cell_type": "code",
   "execution_count": null,
   "id": "30",
   "metadata": {
    "tags": []
   },
   "outputs": [],
   "source": [
    "WAIS_model.columns\n",
    "WAIS_model_columns_list = list(WAIS_model.columns)\n",
    "print(sorted(WAIS_model_columns_list)[:10])"
   ]
  },
  {
   "cell_type": "markdown",
   "id": "31",
   "metadata": {},
   "source": [
    "### OK, the next question is whether the R code would have transformed things to something with more agreement\n"
   ]
  },
  {
   "cell_type": "code",
   "execution_count": null,
   "id": "32",
   "metadata": {},
   "outputs": [],
   "source": [
    "WAISIV_gemstracker = pd.read_csv(\"../../secret_data/WAISIV_BRICK_T0dd08042024.csv\", sep=\";\", encoding='latin1')\n",
    "WAISIV_gemstracker"
   ]
  },
  {
   "cell_type": "code",
   "execution_count": null,
   "id": "33",
   "metadata": {},
   "outputs": [],
   "source": [
    "WAISIV_gemstracker = WAISIV_gemstracker.rename(\n",
    "    columns={\n",
    "        \"gr2o_patient_nr\":\"Participant Id\",\n",
    "        \"DatumWAISIV\": \"Datum_WAIS_IV\",\n",
    "        \"StartWAISIV\":\"Start_WAIS_IV\",\n",
    "        \"StopWAISIV\": \"Stop_WAIS_IV\",\n",
    "        \"WAISIVVolt\": \"WAIS_IV_voltooid\",\n",
    "        \"VolgordeWAISIV\" : \"Volgorde_NPO_5\",\n",
    "        \"AfnemerWAISIV\" :\"Afnemer_WAIS_IV\", \n",
    "        \"WAISIVOpm\" : \"Opmerkingen_WAIS_IV\",\n",
    "        \"WAISIVOpmUit\":\"Uitleg_Opmerkingen_WAIS_IV\",}\n",
    "                                              )"
   ]
  },
  {
   "cell_type": "code",
   "execution_count": null,
   "id": "34",
   "metadata": {
    "tags": []
   },
   "outputs": [],
   "source": [
    "#Let's try making sets again\n",
    "actual_set = set(sorted(list(WAISIV_gemstracker.columns)))\n",
    "real_set = set(sorted(list(WAIS_model.columns)))\n",
    "u = set.intersection(real_set, actual_set)\n",
    "# u = real_set & actual_set\n",
    "u\n",
    "#real_set"
   ]
  },
  {
   "cell_type": "code",
   "execution_count": null,
   "id": "35",
   "metadata": {
    "tags": []
   },
   "outputs": [],
   "source": [
    "# example of a drop:\n",
    "\n",
    "WAISIV_gemstracker = WAISIV_gemstracker.drop('organizationid', axis=1)\n",
    "WAISIV_gemstracker = WAISIV_gemstracker.drop('gr2t_track_info', axis=1)\n",
    "WAISIV_gemstracker"
   ]
  },
  {
   "cell_type": "code",
   "execution_count": null,
   "id": "36",
   "metadata": {},
   "outputs": [],
   "source": [
    "WAISIV_gemstracker['Datum_WAIS_IV'] = pd.to_datetime(WAISIV_gemstracker['Datum_WAIS_IV'],format='mixed')\n",
    "WAISIV_gemstracker['Datum_WAIS_IV'] = WAISIV_gemstracker['Datum_WAIS_IV'].dt.strftime('%d-%m-%Y')\n",
    "date_wais = WAISIV_gemstracker[['Datum_WAIS_IV','Participant Id']] \n",
    "date_wais"
   ]
  },
  {
   "cell_type": "code",
   "execution_count": null,
   "id": "37",
   "metadata": {
    "tags": []
   },
   "outputs": [],
   "source": [
    "date_wais['Participant Id']  = date_wais['Participant Id'].str.replace('-','_')\n",
    "date_wais"
   ]
  },
  {
   "cell_type": "code",
   "execution_count": null,
   "id": "38",
   "metadata": {},
   "outputs": [],
   "source": [
    "WAISIV_gemstracker[['AfnemerWAISIV_SQ000','AfnemerWAISIV_SQ001','AfnemerWAISIV_SQ002','AfnemerWAISIV_SQ003','AfnemerWAISIV_SQ004']]"
   ]
  },
  {
   "cell_type": "code",
   "execution_count": null,
   "id": "39",
   "metadata": {},
   "outputs": [],
   "source": [
    "fast_wais = pd.read_csv('WAISIV_gemstracker_poging_makeda.csv', encoding='latin1')\n",
    "fast_wais = fast_wais.drop('Datum_WAIS_IV_1', axis=1)\n",
    "fast_wais[\"Particpant Id\"] = fast_wais['Participant Id']"
   ]
  },
  {
   "cell_type": "code",
   "execution_count": null,
   "id": "40",
   "metadata": {
    "tags": []
   },
   "outputs": [],
   "source": [
    "fast_wais"
   ]
  },
  {
   "cell_type": "code",
   "execution_count": null,
   "id": "41",
   "metadata": {
    "tags": []
   },
   "outputs": [],
   "source": [
    "fast_wais['Participant Id'] = fast_wais['Participant Id'].str.replace('-', \"_\")\n",
    "fast_wais\n"
   ]
  },
  {
   "cell_type": "code",
   "execution_count": null,
   "id": "42",
   "metadata": {
    "tags": []
   },
   "outputs": [],
   "source": [
    "#fast_wais['Datum_WAIS_IV_1']"
   ]
  },
  {
   "cell_type": "code",
   "execution_count": null,
   "id": "43",
   "metadata": {
    "tags": []
   },
   "outputs": [],
   "source": [
    "for f in fast_wais.columns:\n",
    "    print(f)"
   ]
  },
  {
   "cell_type": "code",
   "execution_count": null,
   "id": "44",
   "metadata": {},
   "outputs": [],
   "source": [
    "date_wais.columns"
   ]
  },
  {
   "cell_type": "code",
   "execution_count": null,
   "id": "45",
   "metadata": {},
   "outputs": [],
   "source": [
    "fast_wais.columns"
   ]
  },
  {
   "cell_type": "code",
   "execution_count": null,
   "id": "46",
   "metadata": {},
   "outputs": [],
   "source": [
    "fast_wais[\"Participant Id\"]"
   ]
  },
  {
   "cell_type": "code",
   "execution_count": null,
   "id": "47",
   "metadata": {},
   "outputs": [],
   "source": [
    "date_wais[\"Participant Id\"]"
   ]
  },
  {
   "cell_type": "code",
   "execution_count": null,
   "id": "48",
   "metadata": {},
   "outputs": [],
   "source": []
  },
  {
   "cell_type": "code",
   "execution_count": null,
   "id": "49",
   "metadata": {},
   "outputs": [],
   "source": [
    "upload_waid =fast_wais.merge(date_wais, on='Participant Id')"
   ]
  },
  {
   "cell_type": "code",
   "execution_count": null,
   "id": "50",
   "metadata": {
    "tags": []
   },
   "outputs": [],
   "source": [
    "upload_waid['Datum_WAIS_IV_1'] = upload_waid['Datum_WAIS_IV']"
   ]
  },
  {
   "cell_type": "code",
   "execution_count": null,
   "id": "51",
   "metadata": {
    "tags": []
   },
   "outputs": [],
   "source": [
    "upload_waid['Datum_WAIS_IV_1']"
   ]
  },
  {
   "cell_type": "code",
   "execution_count": null,
   "id": "52",
   "metadata": {
    "tags": []
   },
   "outputs": [],
   "source": [
    "upload_waid = upload_waid.drop(['Afnemer_WAIS_IV_1'], axis=1)\n",
    "upload_waid.columns"
   ]
  },
  {
   "cell_type": "code",
   "execution_count": null,
   "id": "53",
   "metadata": {
    "tags": []
   },
   "outputs": [],
   "source": [
    "upload_wais = upload_waid.merge(names_to_add, on='Participant Id')"
   ]
  },
  {
   "cell_type": "code",
   "execution_count": null,
   "id": "54",
   "metadata": {},
   "outputs": [],
   "source": [
    "upload_wais.to_csv('upload_wais_september13.csv')"
   ]
  },
  {
   "cell_type": "code",
   "execution_count": null,
   "id": "55",
   "metadata": {
    "tags": []
   },
   "outputs": [],
   "source": [
    "sorted(list(upload_waid.columns))"
   ]
  },
  {
   "cell_type": "code",
   "execution_count": null,
   "id": "56",
   "metadata": {
    "tags": []
   },
   "outputs": [],
   "source": [
    "upload_wais['Afnemer_WAIS_IV_1']"
   ]
  },
  {
   "cell_type": "code",
   "execution_count": null,
   "id": "57",
   "metadata": {},
   "outputs": [],
   "source": [
    "\n",
    "# # Convert \"AfnemerWAISIV_SQ000\" to \"AfnemerWAISIV_SQ006\" columns to numeric values\n",
    "# # Convert \"AfnemerWAISIV_SQ000\" to \"AfnemerWAISIV_SQ006\" columns to numeric values\n",
    "# for (i in 0:6) {\n",
    "#   column_name <- paste(\"AfnemerWAISIV_SQ00\", i, sep = \"\")\n",
    "#   WAISIV_gemstracker$Afnemer_WAIS_IV[WAISIV_gemstracker[column_name] == \"Y\"] <- i\n",
    "# }\n"
   ]
  },
  {
   "cell_type": "code",
   "execution_count": null,
   "id": "58",
   "metadata": {},
   "outputs": [],
   "source": [
    "# names(WAISIV_gemstracker)[names(WAISIV_gemstracker) == \"gr2o_patient_nr\"] <- \"Participant Id\"\n",
    "# names(WAISIV_gemstracker)[names(WAISIV_gemstracker) == \"DatumWAISIV\"] <- \"Datum_WAIS_IV\"\n",
    "# names(WAISIV_gemstracker)[names(WAISIV_gemstracker) == \"StartWAISIV\"] <- \"Start_WAIS_IV\"\n",
    "# names(WAISIV_gemstracker)[names(WAISIV_gemstracker) == \"StopWAISIV\"] <- \"Stop_WAIS_IV\"\n",
    "# names(WAISIV_gemstracker)[names(WAISIV_gemstracker) == \"WAISIVVolt\"] <- \"WAIS_IV_voltooid\"\n",
    "# names(WAISIV_gemstracker)[names(WAISIV_gemstracker) == \"VolgordeWAISIV\"] <- \"Volgorde_NPO_5\"\n",
    "# names(WAISIV_gemstracker)[names(WAISIV_gemstracker) == \"AfnemerWAISIV\"] <- \"Afnemer_WAIS_IV\"\n",
    "# names(WAISIV_gemstracker)[names(WAISIV_gemstracker) == \"WAISIVOpm\"] <- \"Opmerkingen_WAIS_IV\"\n",
    "# names(WAISIV_gemstracker)[names(WAISIV_gemstracker) == \"WAISIVOpmUit\"] <- \"Uitleg_Opmerkingen_WAIS_IV\""
   ]
  },
  {
   "cell_type": "code",
   "execution_count": null,
   "id": "59",
   "metadata": {},
   "outputs": [],
   "source": []
  }
 ],
 "metadata": {
  "kernelspec": {
   "display_name": "Python 3 (ipykernel)",
   "language": "python",
   "name": "python3"
  },
  "language_info": {
   "codemirror_mode": {
    "name": "ipython",
    "version": 3
   },
   "file_extension": ".py",
   "mimetype": "text/x-python",
   "name": "python",
   "nbconvert_exporter": "python",
   "pygments_lexer": "ipython3",
   "version": "3.11.8"
  }
 },
 "nbformat": 4,
 "nbformat_minor": 5
}
