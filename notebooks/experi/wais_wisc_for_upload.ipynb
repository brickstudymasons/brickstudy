{
 "cells": [
  {
   "cell_type": "code",
   "execution_count": null,
   "id": "afa3e90a-e261-4643-811b-b06ab21180ba",
   "metadata": {},
   "outputs": [],
   "source": [
    "import pandas as pd \n",
    "import numpy as np"
   ]
  },
  {
   "cell_type": "code",
   "execution_count": null,
   "id": "af043704-ccad-4138-9733-5aca9cb46e40",
   "metadata": {},
   "outputs": [],
   "source": [
    "file = pd.read_csv(\"../../secret_data/WISC_V_BRICK_T0dd08042024.csv\", sep=\";\")\n",
    "our_file = file[['gr2o_patient_nr','DatumWISCV']]"
   ]
  },
  {
   "cell_type": "code",
   "execution_count": null,
   "id": "b4501400-2365-4ed5-8095-11dc90815729",
   "metadata": {},
   "outputs": [],
   "source": [
    "our_file = our_file.rename(columns={'gr2o_patient_nr':'Participant Id'})"
   ]
  },
  {
   "cell_type": "code",
   "execution_count": null,
   "id": "2fab8f41-0b4b-4c6e-9df7-e7117498e850",
   "metadata": {},
   "outputs": [],
   "source": [
    "our_file = our_file.rename(columns={'DatumWISCV':'Datum_WISC_V_1'})"
   ]
  },
  {
   "cell_type": "code",
   "execution_count": null,
   "id": "cd82f63e-cf46-4245-abeb-1925c4191116",
   "metadata": {},
   "outputs": [],
   "source": [
    "our_file"
   ]
  },
  {
   "cell_type": "code",
   "execution_count": null,
   "id": "e86d33ef-0af2-4899-9e4f-4fe8e6592787",
   "metadata": {},
   "outputs": [],
   "source": [
    "\n",
    "our_file.to_csv('test_upload_dates.csv')"
   ]
  },
  {
   "cell_type": "code",
   "execution_count": null,
   "id": "acee619e-0637-48c8-8ab2-ad8d8a09af79",
   "metadata": {},
   "outputs": [],
   "source": [
    "WAISIV_gemstracker = pd.read_csv(\"../../secret_data/WAISIV_BRICK_T0dd08042024.csv\", sep=\";\", encoding='latin1')\n",
    "WAISIV_gemstracker"
   ]
  },
  {
   "cell_type": "code",
   "execution_count": null,
   "id": "81963883-52e1-490e-a8be-0dd04ccc4971",
   "metadata": {},
   "outputs": [],
   "source": [
    "WAISIV_gemstracker = WAISIV_gemstracker.rename(\n",
    "    columns={\n",
    "        \"gr2o_patient_nr\":\"Participant Id\",\n",
    "        \"DatumWAISIV\": \"Datum_WAIS_IV\",\n",
    "        \"StartWAISIV\":\"Start_WAIS_IV\",\n",
    "        \"StopWAISIV\": \"Stop_WAIS_IV\",\n",
    "        \"WAISIVVolt\": \"WAIS_IV_voltooid\",\n",
    "        \"VolgordeWAISIV\" : \"Volgorde_NPO_5\",\n",
    "        \"AfnemerWAISIV\" :\"Afnemer_WAIS_IV\", \n",
    "        \"WAISIVOpm\" : \"Opmerkingen_WAIS_IV\",\n",
    "        \"WAISIVOpmUit\":\"Uitleg_Opmerkingen_WAIS_IV\",}\n",
    "                                              )"
   ]
  },
  {
   "cell_type": "code",
   "execution_count": null,
   "id": "a4deee13-6474-4917-8317-ece3631f83fb",
   "metadata": {},
   "outputs": [],
   "source": [
    "WAISIV_gemstracker['Datum_WAIS_IV'] = pd.to_datetime(WAISIV_gemstracker['Datum_WAIS_IV'],format='mixed')\n",
    "WAISIV_gemstracker['Datum_WAIS_IV'] = WAISIV_gemstracker['Datum_WAIS_IV'].dt.strftime('%d-%m-%Y')\n",
    "date_wais = WAISIV_gemstracker[['Datum_WAIS_IV','Participant Id']] \n",
    "date_wais"
   ]
  },
  {
   "cell_type": "code",
   "execution_count": null,
   "id": "5b0afb1d-3128-4e48-ab83-ca78479fcbf2",
   "metadata": {},
   "outputs": [],
   "source": [
    "WAISIV_gemstracker[['AfnemerWAISIV_SQ000','AfnemerWAISIV_SQ001','AfnemerWAISIV_SQ002','AfnemerWAISIV_SQ003','AfnemerWAISIV_SQ004']]"
   ]
  },
  {
   "cell_type": "code",
   "execution_count": null,
   "id": "77c74ae1-8c96-4131-b478-8ebca1959d5b",
   "metadata": {},
   "outputs": [],
   "source": [
    "fast_wais = pd.read_csv('WAISIV_gemstracker_poging_makeda.csv', encoding='latin1')\n",
    "fast_wais = fast_wais.drop('Datum_WAIS_IV_1', axis=1)\n",
    "fast_wais[\"Particpant Id\"] = fast_wais['Participant Id']"
   ]
  },
  {
   "cell_type": "code",
   "execution_count": null,
   "id": "e6a23276-d6ff-4371-94fe-8461c8a08197",
   "metadata": {},
   "outputs": [],
   "source": [
    "date_wais.columns"
   ]
  },
  {
   "cell_type": "code",
   "execution_count": null,
   "id": "fee061ac-7e00-47b2-af37-ddd00a342f43",
   "metadata": {},
   "outputs": [],
   "source": [
    "fast_wais.columns"
   ]
  },
  {
   "cell_type": "code",
   "execution_count": null,
   "id": "fd649d05-1d9a-4e77-9004-89493fb593cc",
   "metadata": {},
   "outputs": [],
   "source": [
    "fast_wais[\"Participant Id\"]"
   ]
  },
  {
   "cell_type": "code",
   "execution_count": null,
   "id": "d25df567-a497-483f-8fc1-7b315a7786b0",
   "metadata": {},
   "outputs": [],
   "source": [
    "date_wais[\"Participant Id\"]"
   ]
  },
  {
   "cell_type": "code",
   "execution_count": null,
   "id": "4ffefbde-33ef-4803-9afb-d4fcb5b555fb",
   "metadata": {},
   "outputs": [],
   "source": []
  },
  {
   "cell_type": "code",
   "execution_count": null,
   "id": "d8fb7129-151b-4cc0-aee6-51bed7466fe6",
   "metadata": {},
   "outputs": [],
   "source": [
    "upload_waid =fast_wais.merge(date_wais, on='Participant Id')"
   ]
  },
  {
   "cell_type": "code",
   "execution_count": null,
   "id": "927e4ab1-1405-4ca2-935d-65430bec36a3",
   "metadata": {},
   "outputs": [],
   "source": [
    "upload_waid.to_csv('upload_wais_september.csv')"
   ]
  },
  {
   "cell_type": "code",
   "execution_count": null,
   "id": "168318be-05a3-407d-9918-c1242b59ea04",
   "metadata": {},
   "outputs": [],
   "source": [
    "\n",
    "# # Convert \"AfnemerWAISIV_SQ000\" to \"AfnemerWAISIV_SQ006\" columns to numeric values\n",
    "# # Convert \"AfnemerWAISIV_SQ000\" to \"AfnemerWAISIV_SQ006\" columns to numeric values\n",
    "# for (i in 0:6) {\n",
    "#   column_name <- paste(\"AfnemerWAISIV_SQ00\", i, sep = \"\")\n",
    "#   WAISIV_gemstracker$Afnemer_WAIS_IV[WAISIV_gemstracker[column_name] == \"Y\"] <- i\n",
    "# }\n"
   ]
  },
  {
   "cell_type": "code",
   "execution_count": null,
   "id": "9978dee6-d975-4b58-a7ca-1e251519c269",
   "metadata": {},
   "outputs": [],
   "source": [
    "# names(WAISIV_gemstracker)[names(WAISIV_gemstracker) == \"gr2o_patient_nr\"] <- \"Participant Id\"\n",
    "# names(WAISIV_gemstracker)[names(WAISIV_gemstracker) == \"DatumWAISIV\"] <- \"Datum_WAIS_IV\"\n",
    "# names(WAISIV_gemstracker)[names(WAISIV_gemstracker) == \"StartWAISIV\"] <- \"Start_WAIS_IV\"\n",
    "# names(WAISIV_gemstracker)[names(WAISIV_gemstracker) == \"StopWAISIV\"] <- \"Stop_WAIS_IV\"\n",
    "# names(WAISIV_gemstracker)[names(WAISIV_gemstracker) == \"WAISIVVolt\"] <- \"WAIS_IV_voltooid\"\n",
    "# names(WAISIV_gemstracker)[names(WAISIV_gemstracker) == \"VolgordeWAISIV\"] <- \"Volgorde_NPO_5\"\n",
    "# names(WAISIV_gemstracker)[names(WAISIV_gemstracker) == \"AfnemerWAISIV\"] <- \"Afnemer_WAIS_IV\"\n",
    "# names(WAISIV_gemstracker)[names(WAISIV_gemstracker) == \"WAISIVOpm\"] <- \"Opmerkingen_WAIS_IV\"\n",
    "# names(WAISIV_gemstracker)[names(WAISIV_gemstracker) == \"WAISIVOpmUit\"] <- \"Uitleg_Opmerkingen_WAIS_IV\""
   ]
  }
 ],
 "metadata": {
  "kernelspec": {
   "display_name": "Python 3 (ipykernel)",
   "language": "python",
   "name": "python3"
  },
  "language_info": {
   "codemirror_mode": {
    "name": "ipython",
    "version": 3
   },
   "file_extension": ".py",
   "mimetype": "text/x-python",
   "name": "python",
   "nbconvert_exporter": "python",
   "pygments_lexer": "ipython3",
   "version": "3.11.8"
  }
 },
 "nbformat": 4,
 "nbformat_minor": 5
}
