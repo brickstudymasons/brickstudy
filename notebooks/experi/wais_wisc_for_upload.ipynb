{
 "cells": [
  {
   "cell_type": "code",
   "execution_count": null,
   "id": "0",
   "metadata": {},
   "outputs": [],
   "source": [
    "import pandas as pd \n",
    "import numpy as np"
   ]
  },
  {
   "cell_type": "code",
   "execution_count": null,
   "id": "1",
   "metadata": {},
   "outputs": [],
   "source": [
    "file = pd.read_csv(\"../../secret_data/WISC_V_BRICK_T0dd08042024.csv\", sep=\";\")\n",
    "our_file = file[['gr2o_patient_nr','DatumWISCV']]"
   ]
  },
  {
   "cell_type": "code",
   "execution_count": null,
   "id": "2",
   "metadata": {},
   "outputs": [],
   "source": [
    "our_file = our_file.rename(columns={'gr2o_patient_nr':'Participant Id'})"
   ]
  },
  {
   "cell_type": "code",
   "execution_count": null,
   "id": "3",
   "metadata": {},
   "outputs": [],
   "source": [
    "our_file = our_file.rename(columns={'DatumWISCV':'Datum_WISC_V_1'})"
   ]
  },
  {
   "cell_type": "code",
   "execution_count": null,
   "id": "4",
   "metadata": {},
   "outputs": [],
   "source": [
    "our_file"
   ]
  },
  {
   "cell_type": "code",
   "execution_count": null,
   "id": "5",
   "metadata": {},
   "outputs": [],
   "source": [
    "\n",
    "our_file.to_csv('test_upload_dates.csv')"
   ]
  },
  {
   "cell_type": "code",
   "execution_count": null,
   "id": "6",
   "metadata": {},
   "outputs": [],
   "source": [
    "WAISIV_gemstracker = pd.read_csv(\"../../secret_data/WAISIV_BRICK_T0dd08042024.csv\", sep=\";\", encoding='latin1')\n",
    "WAISIV_gemstracker"
   ]
  },
  {
   "cell_type": "code",
   "execution_count": null,
   "id": "7",
   "metadata": {},
   "outputs": [],
   "source": [
    "WAISIV_gemstracker = WAISIV_gemstracker.rename(\n",
    "    columns={\n",
    "        \"gr2o_patient_nr\":\"Participant Id\",\n",
    "        \"DatumWAISIV\": \"Datum_WAIS_IV\",\n",
    "        \"StartWAISIV\":\"Start_WAIS_IV\",\n",
    "        \"StopWAISIV\": \"Stop_WAIS_IV\",\n",
    "        \"WAISIVVolt\": \"WAIS_IV_voltooid\",\n",
    "        \"VolgordeWAISIV\" : \"Volgorde_NPO_5\",\n",
    "        \"AfnemerWAISIV\" :\"Afnemer_WAIS_IV\", \n",
    "        \"WAISIVOpm\" : \"Opmerkingen_WAIS_IV\",\n",
    "        \"WAISIVOpmUit\":\"Uitleg_Opmerkingen_WAIS_IV\",}\n",
    "                                              )"
   ]
  },
  {
   "cell_type": "code",
   "execution_count": null,
   "id": "8",
   "metadata": {},
   "outputs": [],
   "source": [
    "WAISIV_gemstracker['Datum_WAIS_IV'] = pd.to_datetime(WAISIV_gemstracker['Datum_WAIS_IV'],format='mixed')\n",
    "WAISIV_gemstracker['Datum_WAIS_IV'] = WAISIV_gemstracker['Datum_WAIS_IV'].dt.strftime('%d-%m-%Y')\n",
    "date_wais = WAISIV_gemstracker[['Datum_WAIS_IV','Participant Id']] \n",
    "date_wais"
   ]
  },
  {
   "cell_type": "code",
   "execution_count": null,
   "id": "9",
   "metadata": {},
   "outputs": [],
   "source": [
    "WAISIV_gemstracker[['AfnemerWAISIV_SQ000','AfnemerWAISIV_SQ001','AfnemerWAISIV_SQ002','AfnemerWAISIV_SQ003','AfnemerWAISIV_SQ004']]"
   ]
  },
  {
   "cell_type": "code",
   "execution_count": null,
   "id": "10",
   "metadata": {},
   "outputs": [],
   "source": [
    "fast_wais = pd.read_csv('WAISIV_gemstracker_poging_makeda.csv', encoding='latin1')\n",
    "fast_wais = fast_wais.drop('Datum_WAIS_IV_1', axis=1)\n",
    "fast_wais[\"Particpant Id\"] = fast_wais['Participant Id']"
   ]
  },
  {
   "cell_type": "code",
   "execution_count": null,
   "id": "11",
   "metadata": {},
   "outputs": [],
   "source": [
    "date_wais.columns"
   ]
  },
  {
   "cell_type": "code",
   "execution_count": null,
   "id": "12",
   "metadata": {},
   "outputs": [],
   "source": [
    "fast_wais.columns"
   ]
  },
  {
   "cell_type": "code",
   "execution_count": null,
   "id": "13",
   "metadata": {},
   "outputs": [],
   "source": [
    "fast_wais[\"Participant Id\"]"
   ]
  },
  {
   "cell_type": "code",
   "execution_count": null,
   "id": "14",
   "metadata": {},
   "outputs": [],
   "source": [
    "date_wais[\"Participant Id\"]"
   ]
  },
  {
   "cell_type": "code",
   "execution_count": null,
   "id": "15",
   "metadata": {},
   "outputs": [],
   "source": []
  },
  {
   "cell_type": "code",
   "execution_count": null,
   "id": "16",
   "metadata": {},
   "outputs": [],
   "source": [
    "upload_waid =fast_wais.merge(date_wais, on='Participant Id')"
   ]
  },
  {
   "cell_type": "code",
   "execution_count": null,
   "id": "17",
   "metadata": {},
   "outputs": [],
   "source": [
    "upload_waid.to_csv('upload_wais_september.csv')"
   ]
  },
  {
   "cell_type": "code",
   "execution_count": null,
   "id": "18",
   "metadata": {},
   "outputs": [],
   "source": [
    "\n",
    "# # Convert \"AfnemerWAISIV_SQ000\" to \"AfnemerWAISIV_SQ006\" columns to numeric values\n",
    "# # Convert \"AfnemerWAISIV_SQ000\" to \"AfnemerWAISIV_SQ006\" columns to numeric values\n",
    "# for (i in 0:6) {\n",
    "#   column_name <- paste(\"AfnemerWAISIV_SQ00\", i, sep = \"\")\n",
    "#   WAISIV_gemstracker$Afnemer_WAIS_IV[WAISIV_gemstracker[column_name] == \"Y\"] <- i\n",
    "# }\n"
   ]
  },
  {
   "cell_type": "code",
   "execution_count": null,
   "id": "19",
   "metadata": {},
   "outputs": [],
   "source": [
    "# names(WAISIV_gemstracker)[names(WAISIV_gemstracker) == \"gr2o_patient_nr\"] <- \"Participant Id\"\n",
    "# names(WAISIV_gemstracker)[names(WAISIV_gemstracker) == \"DatumWAISIV\"] <- \"Datum_WAIS_IV\"\n",
    "# names(WAISIV_gemstracker)[names(WAISIV_gemstracker) == \"StartWAISIV\"] <- \"Start_WAIS_IV\"\n",
    "# names(WAISIV_gemstracker)[names(WAISIV_gemstracker) == \"StopWAISIV\"] <- \"Stop_WAIS_IV\"\n",
    "# names(WAISIV_gemstracker)[names(WAISIV_gemstracker) == \"WAISIVVolt\"] <- \"WAIS_IV_voltooid\"\n",
    "# names(WAISIV_gemstracker)[names(WAISIV_gemstracker) == \"VolgordeWAISIV\"] <- \"Volgorde_NPO_5\"\n",
    "# names(WAISIV_gemstracker)[names(WAISIV_gemstracker) == \"AfnemerWAISIV\"] <- \"Afnemer_WAIS_IV\"\n",
    "# names(WAISIV_gemstracker)[names(WAISIV_gemstracker) == \"WAISIVOpm\"] <- \"Opmerkingen_WAIS_IV\"\n",
    "# names(WAISIV_gemstracker)[names(WAISIV_gemstracker) == \"WAISIVOpmUit\"] <- \"Uitleg_Opmerkingen_WAIS_IV\""
   ]
  }
 ],
 "metadata": {
  "kernelspec": {
   "display_name": "Python 3 (ipykernel)",
   "language": "python",
   "name": "python3"
  },
  "language_info": {
   "codemirror_mode": {
    "name": "ipython",
    "version": 3
   },
   "file_extension": ".py",
   "mimetype": "text/x-python",
   "name": "python",
   "nbconvert_exporter": "python",
   "pygments_lexer": "ipython3",
   "version": "3.11.8"
  }
 },
 "nbformat": 4,
 "nbformat_minor": 5
}
