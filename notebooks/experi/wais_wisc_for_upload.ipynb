{
 "cells": [
  {
   "cell_type": "markdown",
   "id": "15e507f7-9efa-46b1-9386-b89803e10a7b",
   "metadata": {
    "tags": []
   },
   "source": [
    "# This is the final preparation of WAIS and WISC for upload\n",
    "September 2024"
   ]
  },
  {
   "cell_type": "markdown",
   "id": "a21b7931-99df-44e5-8d00-2400b13b3888",
   "metadata": {
    "tags": []
   },
   "source": [
    "## import libraries"
   ]
  },
  {
   "cell_type": "code",
   "execution_count": null,
   "id": "afa3e90a-e261-4643-811b-b06ab21180ba",
   "metadata": {},
   "outputs": [],
   "source": [
    "import pandas as pd \n",
    "import numpy as np"
   ]
  },
  {
   "cell_type": "markdown",
   "id": "fdb7a859-eb17-4c6c-afa8-90a93f1a600b",
   "metadata": {},
   "source": [
    "### WISC additional fix"
   ]
  },
  {
   "cell_type": "code",
   "execution_count": null,
   "id": "af043704-ccad-4138-9733-5aca9cb46e40",
   "metadata": {},
   "outputs": [],
   "source": [
    "file = pd.read_csv(\"../../secret_data/WISC_V_BRICK_T0dd08042024.csv\", sep=\";\")\n",
    "our_file = file[['gr2o_patient_nr','DatumWISCV']]"
   ]
  },
  {
   "cell_type": "code",
   "execution_count": null,
   "id": "b4501400-2365-4ed5-8095-11dc90815729",
   "metadata": {},
   "outputs": [],
   "source": [
    "our_file = our_file.rename(columns={'gr2o_patient_nr':'Participant Id'})"
   ]
  },
  {
   "cell_type": "code",
   "execution_count": null,
   "id": "2fab8f41-0b4b-4c6e-9df7-e7117498e850",
   "metadata": {},
   "outputs": [],
   "source": [
    "our_file = our_file.rename(columns={'DatumWISCV':'Datum_WISC_V_1'})"
   ]
  },
  {
   "cell_type": "code",
   "execution_count": null,
   "id": "cd82f63e-cf46-4245-abeb-1925c4191116",
   "metadata": {},
   "outputs": [],
   "source": [
    "our_file"
   ]
  },
  {
   "cell_type": "code",
   "execution_count": null,
   "id": "e86d33ef-0af2-4899-9e4f-4fe8e6592787",
   "metadata": {},
   "outputs": [],
   "source": [
    "\n",
    "our_file.to_csv('test_upload_dates.csv')"
   ]
  },
  {
   "cell_type": "markdown",
   "id": "75fffc2c-f589-4eda-82fd-e243d1c823b3",
   "metadata": {},
   "source": [
    "# Now we want to look at a model WAIS file"
   ]
  },
  {
   "cell_type": "code",
   "execution_count": null,
   "id": "79372ad8-33d4-44ce-bdcf-2fdc862ef21f",
   "metadata": {
    "tags": []
   },
   "outputs": [],
   "source": [
    "WAIS_model = pd.read_csv(\"../../secret_data/WAIS_BRICK.csv\", sep=\";\",)\n",
    "WAIS_model"
   ]
  },
  {
   "cell_type": "code",
   "execution_count": null,
   "id": "580e1e55-b631-4c0e-ae81-2f945401a71a",
   "metadata": {
    "tags": []
   },
   "outputs": [],
   "source": [
    "third_set = actual_set = set(sorted(list(fast_wais.columns)))"
   ]
  },
  {
   "cell_type": "code",
   "execution_count": null,
   "id": "04382c56-54f0-47f3-8a5a-d6d2c3b6221b",
   "metadata": {
    "tags": []
   },
   "outputs": [],
   "source": [
    "# Question #1,  let's look at the columns and realize if we need all of them, or even had them\n",
    "WAISIV_gemstracker = pd.read_csv(\"../../secret_data/WAISIV_BRICK_T0dd08042024.csv\", sep=\";\", encoding='latin1')\n",
    "print(\"Our actual data has\", len(WAISIV_gemstracker.columns), \"columns\")\n",
    "print(\"Our model data has\", len(WAIS_model.columns), \"columns\")\n",
    "print(\"Let's look at our model columns\")\n",
    "print(\"\")\n",
    "# for p in WAIS_model.columns:\n",
    "#     print(p)"
   ]
  },
  {
   "cell_type": "code",
   "execution_count": null,
   "id": "f7f3c949-c2fc-4ac9-803c-464fc5843848",
   "metadata": {
    "tags": []
   },
   "outputs": [],
   "source": [
    "#WAISIV_gemstracker"
   ]
  },
  {
   "cell_type": "code",
   "execution_count": null,
   "id": "93ba3e89-d7cd-4bda-8ea0-f8fd373cf0f1",
   "metadata": {
    "tags": []
   },
   "outputs": [],
   "source": [
    "names = WAISIV_gemstracker[['gr2o_patient_nr',\n",
    "                    'AfnemerWAISIV_SQ000',\n",
    "                     'AfnemerWAISIV_SQ001',\n",
    "                     'AfnemerWAISIV_SQ002',\n",
    "                     'AfnemerWAISIV_SQ003',\n",
    "                     'AfnemerWAISIV_SQ004',\n",
    "                     'AfnemerWAISIV_SQ005',\n",
    "                     'AfnemerWAISIV_SQ006',]]\n",
    "names"
   ]
  },
  {
   "cell_type": "code",
   "execution_count": null,
   "id": "e6242f40-a92c-4749-9322-a9f0e305c2a0",
   "metadata": {},
   "outputs": [],
   "source": []
  },
  {
   "cell_type": "code",
   "execution_count": null,
   "id": "0506542b-ddaf-4d39-826d-a678810d0ee9",
   "metadata": {
    "tags": []
   },
   "outputs": [],
   "source": [
    "sorted(list(WAISIV_gemstracker.columns))"
   ]
  },
  {
   "cell_type": "code",
   "execution_count": null,
   "id": "cac86db5-3020-4386-b9ba-10ec2e21ee63",
   "metadata": {
    "tags": []
   },
   "outputs": [],
   "source": [
    "# Now of course the question is how to they compare to the columns we have\n",
    "actual_set = set(sorted(list(WAISIV_gemstracker.columns)))\n",
    "model_set = set(sorted(list(WAIS_model.columns)))\n",
    "u = set.intersection(model_set, third_set)\n",
    "# u = real_set & actual_set\n",
    "len(u)\n",
    "#third_set\n"
   ]
  },
  {
   "cell_type": "code",
   "execution_count": null,
   "id": "1aa760bf-7fc2-45de-a74b-fa80f3657a86",
   "metadata": {
    "tags": []
   },
   "outputs": [],
   "source": [
    "for p in actual_set:\n",
    "    print(p),\n",
    "    if p in real_set:\n",
    "        print(\"Yes\")\n",
    "    else:\n",
    "        print(\"No\")"
   ]
  },
  {
   "cell_type": "code",
   "execution_count": null,
   "id": "83c2b2fb-cdfa-42da-9edd-9ae6123ea4cf",
   "metadata": {
    "tags": []
   },
   "outputs": [],
   "source": [
    "# OH no...lets look at what we have by hand, maybe it's about capitalization or something\n",
    "# for p in WAISIV_gemstracker.columns:\n",
    "#     print(p)"
   ]
  },
  {
   "cell_type": "code",
   "execution_count": null,
   "id": "e900cc17-cf72-4192-b34a-bd5b20eaf131",
   "metadata": {
    "tags": []
   },
   "outputs": [],
   "source": [
    "# let's go through this by alphabet and see if we can understand\n",
    "\n",
    "WAISIV_gemstracker_columns_list = list(WAISIV_gemstracker.columns)\n",
    "print(sorted(WAISIV_gemstracker_columns_list)[:10])"
   ]
  },
  {
   "cell_type": "code",
   "execution_count": null,
   "id": "4a6cafbd-7374-4945-9412-fabe3a095033",
   "metadata": {
    "tags": []
   },
   "outputs": [],
   "source": [
    "WAIS_model.columns\n",
    "WAIS_model_columns_list = list(WAIS_model.columns)\n",
    "print(sorted(WAIS_model_columns_list)[:10])"
   ]
  },
  {
   "cell_type": "markdown",
   "id": "d395495f-1033-4aaf-8b52-79abf00a0857",
   "metadata": {},
   "source": [
    "### OK, the next question is whether the R code would have transformed things to something with more agreement\n"
   ]
  },
  {
   "cell_type": "code",
   "execution_count": null,
   "id": "acee619e-0637-48c8-8ab2-ad8d8a09af79",
   "metadata": {},
   "outputs": [],
   "source": [
    "WAISIV_gemstracker = pd.read_csv(\"../../secret_data/WAISIV_BRICK_T0dd08042024.csv\", sep=\";\", encoding='latin1')\n",
    "WAISIV_gemstracker"
   ]
  },
  {
   "cell_type": "code",
   "execution_count": null,
   "id": "81963883-52e1-490e-a8be-0dd04ccc4971",
   "metadata": {},
   "outputs": [],
   "source": [
    "WAISIV_gemstracker = WAISIV_gemstracker.rename(\n",
    "    columns={\n",
    "        \"gr2o_patient_nr\":\"Participant Id\",\n",
    "        \"DatumWAISIV\": \"Datum_WAIS_IV\",\n",
    "        \"StartWAISIV\":\"Start_WAIS_IV\",\n",
    "        \"StopWAISIV\": \"Stop_WAIS_IV\",\n",
    "        \"WAISIVVolt\": \"WAIS_IV_voltooid\",\n",
    "        \"VolgordeWAISIV\" : \"Volgorde_NPO_5\",\n",
    "        \"AfnemerWAISIV\" :\"Afnemer_WAIS_IV\", \n",
    "        \"WAISIVOpm\" : \"Opmerkingen_WAIS_IV\",\n",
    "        \"WAISIVOpmUit\":\"Uitleg_Opmerkingen_WAIS_IV\",}\n",
    "                                              )"
   ]
  },
  {
   "cell_type": "code",
   "execution_count": null,
   "id": "ae3f393d-0d68-4c07-a146-4f907007c73c",
   "metadata": {
    "tags": []
   },
   "outputs": [],
   "source": [
    "#Let's try making sets again\n",
    "actual_set = set(sorted(list(WAISIV_gemstracker.columns)))\n",
    "real_set = set(sorted(list(WAIS_model.columns)))\n",
    "u = set.intersection(real_set, actual_set)\n",
    "# u = real_set & actual_set\n",
    "u\n",
    "#real_set"
   ]
  },
  {
   "cell_type": "code",
   "execution_count": null,
   "id": "fd913419-723e-40fe-b993-79baea205a86",
   "metadata": {
    "tags": []
   },
   "outputs": [],
   "source": [
    "# example of a drop:\n",
    "\n",
    "WAISIV_gemstracker = WAISIV_gemstracker.drop('organizationid', axis=1)\n",
    "WAISIV_gemstracker = WAISIV_gemstracker.drop('gr2t_track_info', axis=1)\n",
    "WAISIV_gemstracker"
   ]
  },
  {
   "cell_type": "markdown",
   "id": "33debaf0-ecd3-4d2e-9c22-ebeedd4a1582",
   "metadata": {},
   "source": [
    "# This is not promising. It need the attention of the scientists...\n",
    "maybe there is a different file. We can transform the dates, and try to upload"
   ]
  },
  {
   "cell_type": "code",
   "execution_count": null,
   "id": "a4deee13-6474-4917-8317-ece3631f83fb",
   "metadata": {},
   "outputs": [],
   "source": [
    "WAISIV_gemstracker['Datum_WAIS_IV'] = pd.to_datetime(WAISIV_gemstracker['Datum_WAIS_IV'],format='mixed')\n",
    "WAISIV_gemstracker['Datum_WAIS_IV'] = WAISIV_gemstracker['Datum_WAIS_IV'].dt.strftime('%d-%m-%Y')\n",
    "date_wais = WAISIV_gemstracker[['Datum_WAIS_IV','Participant Id']] \n",
    "date_wais"
   ]
  },
  {
   "cell_type": "code",
   "execution_count": null,
   "id": "a2cb3a85-f17c-410b-b39f-abceecbaad2c",
   "metadata": {
    "tags": []
   },
   "outputs": [],
   "source": [
    "date_wais['Participant Id']  = date_wais['Participant Id'].str.replace('-','_')\n",
    "date_wais"
   ]
  },
  {
   "cell_type": "code",
   "execution_count": null,
   "id": "5b0afb1d-3128-4e48-ab83-ca78479fcbf2",
   "metadata": {},
   "outputs": [],
   "source": [
    "WAISIV_gemstracker[['AfnemerWAISIV_SQ000','AfnemerWAISIV_SQ001','AfnemerWAISIV_SQ002','AfnemerWAISIV_SQ003','AfnemerWAISIV_SQ004']]"
   ]
  },
  {
   "cell_type": "code",
   "execution_count": null,
   "id": "77c74ae1-8c96-4131-b478-8ebca1959d5b",
   "metadata": {},
   "outputs": [],
   "source": [
    "fast_wais = pd.read_csv('WAISIV_gemstracker_poging_makeda.csv', encoding='latin1')\n",
    "fast_wais = fast_wais.drop('Datum_WAIS_IV_1', axis=1)\n",
    "fast_wais[\"Particpant Id\"] = fast_wais['Participant Id']"
   ]
  },
  {
   "cell_type": "code",
   "execution_count": null,
   "id": "766f7320-f3a5-4971-a194-95dbec4286b4",
   "metadata": {
    "tags": []
   },
   "outputs": [],
   "source": [
    "fast_wais"
   ]
  },
  {
   "cell_type": "code",
   "execution_count": null,
   "id": "c2e1be7e-5d16-4019-a51a-73df03fcec7e",
   "metadata": {
    "tags": []
   },
   "outputs": [],
   "source": [
    "fast_wais['Participant Id'] = fast_wais['Participant Id'].str.replace('-', \"_\")\n",
    "fast_wais\n"
   ]
  },
  {
   "cell_type": "code",
   "execution_count": null,
   "id": "617d35f9-3275-4f38-8895-1e5ab2c8b3f7",
   "metadata": {
    "tags": []
   },
   "outputs": [],
   "source": [
    "#fast_wais['Datum_WAIS_IV_1']"
   ]
  },
  {
   "cell_type": "code",
   "execution_count": null,
   "id": "cf789a23-273c-4cb4-8361-3ddfb695a110",
   "metadata": {
    "tags": []
   },
   "outputs": [],
   "source": [
    "for f in fast_wais.columns:\n",
    "    print(f)"
   ]
  },
  {
   "cell_type": "code",
   "execution_count": null,
   "id": "e6a23276-d6ff-4371-94fe-8461c8a08197",
   "metadata": {},
   "outputs": [],
   "source": [
    "date_wais.columns"
   ]
  },
  {
   "cell_type": "code",
   "execution_count": null,
   "id": "fee061ac-7e00-47b2-af37-ddd00a342f43",
   "metadata": {},
   "outputs": [],
   "source": [
    "fast_wais.columns"
   ]
  },
  {
   "cell_type": "code",
   "execution_count": null,
   "id": "fd649d05-1d9a-4e77-9004-89493fb593cc",
   "metadata": {},
   "outputs": [],
   "source": [
    "fast_wais[\"Participant Id\"]"
   ]
  },
  {
   "cell_type": "code",
   "execution_count": null,
   "id": "d25df567-a497-483f-8fc1-7b315a7786b0",
   "metadata": {},
   "outputs": [],
   "source": [
    "date_wais[\"Participant Id\"]"
   ]
  },
  {
   "cell_type": "code",
   "execution_count": null,
   "id": "4ffefbde-33ef-4803-9afb-d4fcb5b555fb",
   "metadata": {},
   "outputs": [],
   "source": []
  },
  {
   "cell_type": "code",
   "execution_count": null,
   "id": "d8fb7129-151b-4cc0-aee6-51bed7466fe6",
   "metadata": {},
   "outputs": [],
   "source": [
    "upload_waid =fast_wais.merge(date_wais, on='Participant Id')"
   ]
  },
  {
   "cell_type": "code",
   "execution_count": null,
   "id": "d7b8ad02-6777-4dd5-a9fd-584ed5038574",
   "metadata": {
    "tags": []
   },
   "outputs": [],
   "source": [
    "upload_waid['Datum_WAIS_IV_1'] = upload_waid['Datum_WAIS_IV']"
   ]
  },
  {
   "cell_type": "code",
   "execution_count": null,
   "id": "137993ef-d471-4566-a6a2-3b3671023d67",
   "metadata": {
    "tags": []
   },
   "outputs": [],
   "source": [
    "upload_waid['Datum_WAIS_IV_1']"
   ]
  },
  {
   "cell_type": "code",
   "execution_count": null,
   "id": "927e4ab1-1405-4ca2-935d-65430bec36a3",
   "metadata": {},
   "outputs": [],
   "source": [
    "upload_waid.to_csv('upload_wais_september.csv')"
   ]
  },
  {
   "cell_type": "code",
   "execution_count": null,
   "id": "30c566f7-a487-4566-ac85-b8c7f1a526b6",
   "metadata": {
    "tags": []
   },
   "outputs": [],
   "source": [
    "sorted(list(upload_waid.columns))"
   ]
  },
  {
   "cell_type": "code",
   "execution_count": null,
   "id": "6ee35f89-8515-4bca-92f4-dd0cbf498ed5",
   "metadata": {
    "tags": []
   },
   "outputs": [],
   "source": [
    "upload_waid['Afnemer_WAIS_IV_1']"
   ]
  },
  {
   "cell_type": "code",
   "execution_count": null,
   "id": "168318be-05a3-407d-9918-c1242b59ea04",
   "metadata": {},
   "outputs": [],
   "source": [
    "\n",
    "# # Convert \"AfnemerWAISIV_SQ000\" to \"AfnemerWAISIV_SQ006\" columns to numeric values\n",
    "# # Convert \"AfnemerWAISIV_SQ000\" to \"AfnemerWAISIV_SQ006\" columns to numeric values\n",
    "# for (i in 0:6) {\n",
    "#   column_name <- paste(\"AfnemerWAISIV_SQ00\", i, sep = \"\")\n",
    "#   WAISIV_gemstracker$Afnemer_WAIS_IV[WAISIV_gemstracker[column_name] == \"Y\"] <- i\n",
    "# }\n"
   ]
  },
  {
   "cell_type": "code",
   "execution_count": null,
   "id": "9978dee6-d975-4b58-a7ca-1e251519c269",
   "metadata": {},
   "outputs": [],
   "source": [
    "# names(WAISIV_gemstracker)[names(WAISIV_gemstracker) == \"gr2o_patient_nr\"] <- \"Participant Id\"\n",
    "# names(WAISIV_gemstracker)[names(WAISIV_gemstracker) == \"DatumWAISIV\"] <- \"Datum_WAIS_IV\"\n",
    "# names(WAISIV_gemstracker)[names(WAISIV_gemstracker) == \"StartWAISIV\"] <- \"Start_WAIS_IV\"\n",
    "# names(WAISIV_gemstracker)[names(WAISIV_gemstracker) == \"StopWAISIV\"] <- \"Stop_WAIS_IV\"\n",
    "# names(WAISIV_gemstracker)[names(WAISIV_gemstracker) == \"WAISIVVolt\"] <- \"WAIS_IV_voltooid\"\n",
    "# names(WAISIV_gemstracker)[names(WAISIV_gemstracker) == \"VolgordeWAISIV\"] <- \"Volgorde_NPO_5\"\n",
    "# names(WAISIV_gemstracker)[names(WAISIV_gemstracker) == \"AfnemerWAISIV\"] <- \"Afnemer_WAIS_IV\"\n",
    "# names(WAISIV_gemstracker)[names(WAISIV_gemstracker) == \"WAISIVOpm\"] <- \"Opmerkingen_WAIS_IV\"\n",
    "# names(WAISIV_gemstracker)[names(WAISIV_gemstracker) == \"WAISIVOpmUit\"] <- \"Uitleg_Opmerkingen_WAIS_IV\""
   ]
  }
 ],
 "metadata": {
  "kernelspec": {
   "display_name": "Python 3 (ipykernel)",
   "language": "python",
   "name": "python3"
  },
  "language_info": {
   "codemirror_mode": {
    "name": "ipython",
    "version": 3
   },
   "file_extension": ".py",
   "mimetype": "text/x-python",
   "name": "python",
   "nbconvert_exporter": "python",
   "pygments_lexer": "ipython3",
   "version": "3.11.8"
  }
 },
 "nbformat": 4,
 "nbformat_minor": 5
}
