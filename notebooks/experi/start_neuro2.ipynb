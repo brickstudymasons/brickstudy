{
 "cells": [
  {
   "cell_type": "markdown",
   "id": "0",
   "metadata": {},
   "source": [
    "# Neuropsychological data"
   ]
  },
  {
   "cell_type": "code",
   "execution_count": null,
   "id": "1",
   "metadata": {
    "tags": []
   },
   "outputs": [],
   "source": [
    "#"
   ]
  },
  {
   "cell_type": "code",
   "execution_count": null,
   "id": "2",
   "metadata": {
    "tags": []
   },
   "outputs": [],
   "source": [
    "import os\n",
    "import sys\n",
    "from functools import reduce\n",
    "import pandas as pd\n",
    "import numpy as np\n",
    "import seaborn as sns\n",
    "import matplotlib.pyplot as plt\n",
    "\n",
    "sys.path.insert(0, '../../')\n",
    "from brickstudy import foundation"
   ]
  },
  {
   "cell_type": "code",
   "execution_count": null,
   "id": "3",
   "metadata": {
    "tags": []
   },
   "outputs": [],
   "source": [
    "# WAISIV_BRICK_T0dd08042024 = pd.read_csv(\"../../secret_data/WAISIV_BRICK_T0dd08042024.csv\", sep=\";\")\n",
    "# WAISIV_BRICK_T0dd08042024"
   ]
  },
  {
   "cell_type": "code",
   "execution_count": null,
   "id": "4",
   "metadata": {
    "tags": []
   },
   "outputs": [],
   "source": [
    "WISC_V_BRICK_T0dd08042024 = pd.read_csv(\"../../secret_data/WISCV_export_gemstracker_BRICK_T0_100424.csv\", sep=\",\")"
   ]
  },
  {
   "cell_type": "code",
   "execution_count": null,
   "id": "5",
   "metadata": {
    "tags": []
   },
   "outputs": [],
   "source": [
    "WISC_V_BRICK_T0dd08042024.head()"
   ]
  },
  {
   "cell_type": "code",
   "execution_count": null,
   "id": "6",
   "metadata": {
    "tags": []
   },
   "outputs": [],
   "source": [
    "for f in WISC_V_BRICK_T0dd08042024.columns:\n",
    "    print(f)"
   ]
  },
  {
   "cell_type": "code",
   "execution_count": null,
   "id": "7",
   "metadata": {
    "tags": []
   },
   "outputs": [],
   "source": [
    "WISC_V_BRICK_T0dd08042024_for_castor = WISC_V_BRICK_T0dd08042024.rename(\n",
    "    columns={\"gr2o_patient_nr\": \"Participant Id\",\n",
    "             \"DatumWISCV\": \"Datum_WISC_V\",\n",
    "            \"StartWISCV\": \"Start_WISC_V\",\n",
    "            \"StopWISCV\": \"Stop_WISC_V\",\n",
    "            \"WISCVVolt\": \"WISC_V_voltooid\",\n",
    "            \"VolgordeWISC\":\"Volgorde_NPO_3\",\n",
    "            \"AfnemerWISCV\":\"Afnemer_WISC_V\",\n",
    "            \"WISCVOpm\": \"Opmerkingen_WISC_V\",\n",
    "            \"WISCVOpmUit\":\"Uitleg_Opmerkingen_WISC_V\",} )\n",
    "\n",
    "\n",
    " # colnames(WISCV_gemstracker)[colnames(WISCV_gemstracker) == \"gr2o_patient_nr\"] <- \"Participant Id\"\n",
    " # colnames(WISCV_gemstracker)[colnames(WISCV_gemstracker) == \"DatumWISCV\"] <- \"Datum_WISC_V\"\n",
    " # colnames(WISCV_gemstracker)[colnames(WISCV_gemstracker) == \"StartWISCV\"] <- \"Start_WISC_V\"\n",
    " # colnames(WISCV_gemstracker)[colnames(WISCV_gemstracker) == \"StopWISCV\"] <- \"Stop_WISC_V\"\n",
    " # colnames(WISCV_gemstracker)[colnames(WISCV_gemstracker) == \"WISCVVolt\"] <- \"WISC_V_voltooid\"\n",
    " # colnames(WISCV_gemstracker)[colnames(WISCV_gemstracker) == \"VolgordeWISC\"] <- \"Volgorde_NPO_3\"\n",
    " # colnames(WISCV_gemstracker)[colnames(WISCV_gemstracker) == \"AfnemerWISCV\"] <- \"Afnemer_WISC_V\"\n",
    " # colnames(WISCV_gemstracker)[colnames(WISCV_gemstracker) == \"WISCVOpm\"] <- \"Opmerkingen_WISC_V\"\n",
    " # colnames(WISCV_gemstracker)[colnames(WISCV_gemstracker) == \"WISCVOpmUit\"] <- \"Uitleg_Opmerkingen_WISC_V\""
   ]
  },
  {
   "cell_type": "code",
   "execution_count": null,
   "id": "8",
   "metadata": {
    "tags": []
   },
   "outputs": [],
   "source": [
    "WISC_V_BRICK_T0dd08042024_for_castor['BRICK_of_uitgebreid'] = 1\n",
    "WISC_V_BRICK_T0dd08042024_for_castor.head(3)"
   ]
  },
  {
   "cell_type": "code",
   "execution_count": null,
   "id": "9",
   "metadata": {
    "tags": []
   },
   "outputs": [],
   "source": [
    "# for f in WISC_V_BRICK_T0dd08042024_for_castor.columns:\n",
    "#     print(f)"
   ]
  },
  {
   "cell_type": "code",
   "execution_count": null,
   "id": "10",
   "metadata": {
    "tags": []
   },
   "outputs": [],
   "source": [
    "WISC_V_BRICK_T0dd08042024_for_castor['Datum_WISC_V']"
   ]
  },
  {
   "cell_type": "code",
   "execution_count": null,
   "id": "11",
   "metadata": {
    "tags": []
   },
   "outputs": [],
   "source": [
    "WISC_V_BRICK_T0dd08042024_for_castor['Datum_WISC_V'] = pd.to_datetime(WISC_V_BRICK_T0dd08042024_for_castor['Datum_WISC_V'], format='%Y-%m-%d')\n",
    "\n",
    "#dt.strftime('%d-%m-%Y')\n",
    " #9-2-2023"
   ]
  },
  {
   "cell_type": "code",
   "execution_count": null,
   "id": "12",
   "metadata": {
    "tags": []
   },
   "outputs": [],
   "source": [
    "WISC_V_BRICK_T0dd08042024_for_castor['Datum_WISC_V'] = WISC_V_BRICK_T0dd08042024_for_castor['Datum_WISC_V'].dt.strftime('%d-%m-%Y')\n",
    "WISC_V_BRICK_T0dd08042024_for_castor['Datum_WISC_V']"
   ]
  },
  {
   "cell_type": "code",
   "execution_count": null,
   "id": "13",
   "metadata": {},
   "outputs": [],
   "source": [
    "WISC_V_BRICK_T0dd08042024_for_castor['AfnemerWISCV_SQ001']"
   ]
  },
  {
   "cell_type": "code",
   "execution_count": null,
   "id": "14",
   "metadata": {},
   "outputs": [],
   "source": [
    "# where yes convert to number as last column digit, and NAn should be a zero"
   ]
  },
  {
   "cell_type": "code",
   "execution_count": null,
   "id": "15",
   "metadata": {},
   "outputs": [],
   "source": [
    "StartWISCV_SQ00"
   ]
  },
  {
   "cell_type": "code",
   "execution_count": null,
   "id": "16",
   "metadata": {
    "tags": []
   },
   "outputs": [],
   "source": [
    "WISC_V_BRICK_T0dd08042024_for_castor['StartWISCV_SQ001']  # hour\n",
    "WISC_V_BRICK_T0dd08042024_for_castor['StartWISCV_SQ002'] # minutes , and same for stopping\n",
    "\n",
    "#add _1 to all final"
   ]
  },
  {
   "cell_type": "code",
   "execution_count": null,
   "id": "17",
   "metadata": {
    "tags": []
   },
   "outputs": [],
   "source": [
    "print(type(WISC_V_BRICK_T0dd08042024_for_castor['Datum_WISC_V'][1]))"
   ]
  },
  {
   "cell_type": "code",
   "execution_count": null,
   "id": "18",
   "metadata": {
    "tags": []
   },
   "outputs": [],
   "source": [
    "describe_table = WISC_V_BRICK_T0dd08042024.describe()"
   ]
  },
  {
   "cell_type": "code",
   "execution_count": null,
   "id": "19",
   "metadata": {
    "tags": []
   },
   "outputs": [],
   "source": [
    "describe_table[[\n",
    " 'WgITot',\n",
    "    'VsITot',\n",
    "    'KRITot',\n",
    "    'AWITot',\n",
    "    'NVITot',\n",
    "    'AVITot',\n",
    "    'CCITot',\n",
    "    'Tot',]]"
   ]
  },
  {
   "cell_type": "code",
   "execution_count": null,
   "id": "20",
   "metadata": {
    "tags": []
   },
   "outputs": [],
   "source": [
    "for f in WISC_V_BRICK_T0dd08042024.columns:\n",
    "    print(f)"
   ]
  },
  {
   "cell_type": "code",
   "execution_count": null,
   "id": "21",
   "metadata": {
    "tags": []
   },
   "outputs": [],
   "source": [
    "totals = WISC_V_BRICK_T0dd08042024[[\n",
    "    'WgITot',\n",
    "    'VsITot',\n",
    "    'KRITot',\n",
    "    'AWITot',\n",
    "    'NVITot',\n",
    "    'AVITot',\n",
    "    'CCITot',\n",
    "    'Tot',]]\n",
    "\n",
    "\n"
   ]
  },
  {
   "cell_type": "code",
   "execution_count": null,
   "id": "22",
   "metadata": {
    "tags": []
   },
   "outputs": [],
   "source": [
    "totals.corr()"
   ]
  },
  {
   "cell_type": "code",
   "execution_count": null,
   "id": "23",
   "metadata": {},
   "outputs": [],
   "source": []
  }
 ],
 "metadata": {
  "kernelspec": {
   "display_name": "Python 3 (ipykernel)",
   "language": "python",
   "name": "python3"
  },
  "language_info": {
   "codemirror_mode": {
    "name": "ipython",
    "version": 3
   },
   "file_extension": ".py",
   "mimetype": "text/x-python",
   "name": "python",
   "nbconvert_exporter": "python",
   "pygments_lexer": "ipython3",
   "version": "3.11.8"
  }
 },
 "nbformat": 4,
 "nbformat_minor": 5
}
