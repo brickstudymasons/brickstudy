{
 "cells": [
  {
   "cell_type": "markdown",
   "id": "0",
   "metadata": {},
   "source": [
    "# Instructions for Freesurfer"
   ]
  },
  {
   "cell_type": "code",
   "execution_count": null,
   "id": "1",
   "metadata": {
    "tags": []
   },
   "outputs": [],
   "source": [
    "import os \n",
    "import shutil\n",
    "import glob"
   ]
  },
  {
   "cell_type": "code",
   "execution_count": null,
   "id": "2",
   "metadata": {
    "tags": []
   },
   "outputs": [],
   "source": [
    "import pandas as pd\n",
    "import numpy as np"
   ]
  },
  {
   "cell_type": "code",
   "execution_count": null,
   "id": "3",
   "metadata": {
    "tags": []
   },
   "outputs": [],
   "source": [
    "import matplotlib.pyplot as plt\n",
    "import seaborn as sns"
   ]
  },
  {
   "cell_type": "code",
   "execution_count": null,
   "id": "4",
   "metadata": {
    "tags": []
   },
   "outputs": [],
   "source": [
    "stats1 = pd.read_csv('../../secret_data/aseg_stats.txt', sep ='\\t')\n",
    "stats1"
   ]
  },
  {
   "cell_type": "code",
   "execution_count": null,
   "id": "5",
   "metadata": {
    "tags": []
   },
   "outputs": [],
   "source": [
    "stats2 = pd.read_csv('Z:/rr2/all/aseg_stats.txt', sep ='\\t')\n",
    "stats2"
   ]
  },
  {
   "cell_type": "code",
   "execution_count": null,
   "id": "6",
   "metadata": {
    "tags": []
   },
   "outputs": [],
   "source": [
    "total_stats = pd.concat([stats2, stats1])"
   ]
  },
  {
   "cell_type": "code",
   "execution_count": null,
   "id": "7",
   "metadata": {
    "tags": []
   },
   "outputs": [],
   "source": [
    "#total_stats.to_csv('../../secret_data/brain_volumes_from_freesurfer_no_qc.csv')"
   ]
  },
  {
   "cell_type": "code",
   "execution_count": null,
   "id": "8",
   "metadata": {
    "tags": []
   },
   "outputs": [],
   "source": [
    "total_stats.columns"
   ]
  },
  {
   "cell_type": "code",
   "execution_count": null,
   "id": "9",
   "metadata": {
    "tags": []
   },
   "outputs": [],
   "source": [
    "total_stats = total_stats.rename(columns= {'Measure:volume':'Participant ID'})\n",
    "total_stats['Participant ID'] = total_stats['Participant ID'].str.replace('/', '')"
   ]
  },
  {
   "cell_type": "code",
   "execution_count": null,
   "id": "10",
   "metadata": {
    "tags": []
   },
   "outputs": [],
   "source": [
    "total_stats.head(4)"
   ]
  },
  {
   "cell_type": "code",
   "execution_count": null,
   "id": "11",
   "metadata": {
    "tags": []
   },
   "outputs": [],
   "source": [
    "total_stats.to_csv('../../secret_data/brain_volumes_from_freesurfer_no_qc.csv')"
   ]
  },
  {
   "cell_type": "code",
   "execution_count": null,
   "id": "12",
   "metadata": {},
   "outputs": [],
   "source": [
    "#total"
   ]
  },
  {
   "cell_type": "code",
   "execution_count": null,
   "id": "13",
   "metadata": {
    "tags": []
   },
   "outputs": [],
   "source": [
    "total_stats_numeric = total_stats.drop(['Participant ID'], axis=1)\n",
    "total_stats_numeric.corr() \n",
    "#.corr()"
   ]
  },
  {
   "cell_type": "code",
   "execution_count": null,
   "id": "14",
   "metadata": {
    "tags": []
   },
   "outputs": [],
   "source": [
    "sns.heatmap(total_stats_numeric.corr(method='spearman', numeric_only=False))"
   ]
  },
  {
   "cell_type": "markdown",
   "id": "15",
   "metadata": {},
   "source": [
    "Let's ask if left and right correlate...or other things."
   ]
  },
  {
   "cell_type": "code",
   "execution_count": null,
   "id": "16",
   "metadata": {
    "tags": []
   },
   "outputs": [],
   "source": [
    "left_to_right = total_stats_numeric[['Left-Lateral-Ventricle', 'Left-Inf-Lat-Vent',\n",
    "       'Left-Cerebellum-White-Matter', 'Left-Cerebellum-Cortex',\n",
    "       'Left-Thalamus-Proper', 'Left-Caudate', 'Left-Putamen', 'Left-Pallidum',\n",
    "        'Left-Hippocampus',\n",
    "       'Left-Amygdala', 'Left-Accumbens-area', 'Left-VentralDC',\n",
    "       'Left-vessel', 'Left-choroid-plexus', 'Right-Lateral-Ventricle',\n",
    "       'Right-Inf-Lat-Vent', 'Right-Cerebellum-White-Matter',\n",
    "       'Right-Cerebellum-Cortex', 'Right-Thalamus-Proper', 'Right-Caudate',\n",
    "       'Right-Putamen', 'Right-Pallidum', 'Right-Hippocampus',\n",
    "       'Right-Amygdala', 'Right-Accumbens-area', 'Right-VentralDC',\n",
    "       'Right-vessel', 'Right-choroid-plexus', \n",
    "        'Left-WM-hypointensities',\n",
    "       'Right-WM-hypointensities', \n",
    "       'Left-non-WM-hypointensities', 'Right-non-WM-hypointensities',]]\n",
    "sns.heatmap(left_to_right.corr(method='spearman', numeric_only=False))"
   ]
  },
  {
   "cell_type": "markdown",
   "id": "17",
   "metadata": {},
   "source": [
    "Yes, left and right correlate. Now let's ask whether wmh increase with age...."
   ]
  },
  {
   "cell_type": "code",
   "execution_count": null,
   "id": "18",
   "metadata": {
    "tags": []
   },
   "outputs": [],
   "source": [
    "total_stats_numeric.columns"
   ]
  },
  {
   "cell_type": "code",
   "execution_count": null,
   "id": "19",
   "metadata": {
    "tags": []
   },
   "outputs": [],
   "source": [
    "total_stats"
   ]
  },
  {
   "cell_type": "code",
   "execution_count": null,
   "id": "20",
   "metadata": {
    "tags": []
   },
   "outputs": [],
   "source": [
    "wmh_info = total_stats[[ 'Participant ID','3rd-Ventricle', '4th-Ventricle', 'Brain-Stem', 'Left-Hippocampus',\n",
    "       'Left-Amygdala', 'CSF',  'Right-Lateral-Ventricle',\n",
    "       'Right-Inf-Lat-Vent', 'Right-Cerebellum-White-Matter',\n",
    "       'Right-Cerebellum-Cortex', 'Right-Thalamus-Proper', 'Right-Caudate',\n",
    "       'Right-Putamen',  'Right-Hippocampus',\n",
    "       'Right-Amygdala',  'Right-VentralDC',\n",
    "       'Right-choroid-plexus',\n",
    "       'WM-hypointensities', 'Left-WM-hypointensities',\n",
    "       'Right-WM-hypointensities', 'non-WM-hypointensities',\n",
    "       'Left-non-WM-hypointensities', 'Right-non-WM-hypointensities',]]"
   ]
  },
  {
   "cell_type": "code",
   "execution_count": null,
   "id": "21",
   "metadata": {
    "tags": []
   },
   "outputs": [],
   "source": [
    "wmh_info"
   ]
  },
  {
   "cell_type": "markdown",
   "id": "22",
   "metadata": {
    "tags": []
   },
   "source": [
    "1. first use python to move files a few at a time."
   ]
  },
  {
   "cell_type": "code",
   "execution_count": null,
   "id": "23",
   "metadata": {},
   "outputs": [],
   "source": []
  },
  {
   "cell_type": "code",
   "execution_count": null,
   "id": "24",
   "metadata": {},
   "outputs": [],
   "source": []
  },
  {
   "cell_type": "code",
   "execution_count": null,
   "id": "25",
   "metadata": {},
   "outputs": [],
   "source": []
  },
  {
   "cell_type": "code",
   "execution_count": null,
   "id": "26",
   "metadata": {},
   "outputs": [],
   "source": []
  },
  {
   "cell_type": "code",
   "execution_count": null,
   "id": "27",
   "metadata": {
    "tags": []
   },
   "outputs": [],
   "source": [
    "find /mnt/data/output -iwholename '*Freesurfer*/*.nii.gz' -type f"
   ]
  },
  {
   "cell_type": "code",
   "execution_count": null,
   "id": "28",
   "metadata": {
    "tags": []
   },
   "outputs": [],
   "source": [
    "shutil.copy?"
   ]
  },
  {
   "cell_type": "code",
   "execution_count": null,
   "id": "29",
   "metadata": {
    "tags": []
   },
   "outputs": [],
   "source": [
    "glob.glob?"
   ]
  },
  {
   "cell_type": "code",
   "execution_count": null,
   "id": "30",
   "metadata": {
    "tags": []
   },
   "outputs": [],
   "source": [
    "_files = glob.glob('C:/presentations/**', recursive=True)"
   ]
  },
  {
   "cell_type": "code",
   "execution_count": null,
   "id": "31",
   "metadata": {
    "tags": []
   },
   "outputs": [],
   "source": [
    "#_files"
   ]
  },
  {
   "cell_type": "code",
   "execution_count": null,
   "id": "32",
   "metadata": {
    "tags": []
   },
   "outputs": [],
   "source": [
    "for fileName_relative in glob.glob('C:/experimental', *, recursive=True):       ## first get full file name with directores using for loop\n",
    "\n",
    "    print(\"Full file name with directories: \", fileName_relative)"
   ]
  },
  {
   "cell_type": "code",
   "execution_count": null,
   "id": "33",
   "metadata": {},
   "outputs": [],
   "source": [
    "def find_surf_and_move(src, dst, filestring):\n",
    "    if not os.path.exists(dst):\n",
    "        os.mkdir(dst)\n",
    "    files = glob.glob(os.path.join(src,'**'), recursive=True)\n",
    "\n",
    "    # for path, subdirs, files in os.walk(src):\n",
    "    #     print(files)\n",
    "    #     for name in files:\n",
    "    #         if filestring in name:\n",
    "    #         #if fnmatch(name, pattern):\n",
    "    #             full_name = os.path.join(path, name)\n",
    "    #             #destination_folder = \n",
    "    #             print(name)\n",
    "\n",
    "                #shutil.copytree(real_name, dst)\n",
    "    \n",
    "    \n",
    "    \n",
    "    \n",
    "#     files = os.listdir()\n",
    "    \n",
    "#     if filestring is in file:\n",
    "        \n",
    "#     shutil.copytree(src, dst) "
   ]
  },
  {
   "cell_type": "code",
   "execution_count": null,
   "id": "34",
   "metadata": {
    "tags": []
   },
   "outputs": [],
   "source": [
    "find_surf_and_move(file_path, 'C:/experimental', 'cvasl')"
   ]
  },
  {
   "cell_type": "code",
   "execution_count": null,
   "id": "35",
   "metadata": {
    "tags": []
   },
   "outputs": [],
   "source": [
    "root = file_path\n",
    "#pattern = \"*.\"\n",
    "\n",
    "for path, subdirs, files in os.walk(root):\n",
    "    for name in files:\n",
    "        if 'cvasl' in name:\n",
    "            #if fnmatch(name, pattern):\n",
    "            print(os.path.join(path, name))"
   ]
  },
  {
   "cell_type": "code",
   "execution_count": null,
   "id": "36",
   "metadata": {},
   "outputs": [],
   "source": []
  }
 ],
 "metadata": {
  "kernelspec": {
   "display_name": "Python 3 (ipykernel)",
   "language": "python",
   "name": "python3"
  },
  "language_info": {
   "codemirror_mode": {
    "name": "ipython",
    "version": 3
   },
   "file_extension": ".py",
   "mimetype": "text/x-python",
   "name": "python",
   "nbconvert_exporter": "python",
   "pygments_lexer": "ipython3",
   "version": "3.11.8"
  }
 },
 "nbformat": 4,
 "nbformat_minor": 5
}
