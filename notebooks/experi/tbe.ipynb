{
 "cells": [
  {
   "cell_type": "markdown",
   "id": "0",
   "metadata": {},
   "source": [
    "# Instructions for Freesurfer"
   ]
  },
  {
   "cell_type": "code",
   "execution_count": null,
   "id": "2",
   "metadata": {
    "tags": []
   },
   "outputs": [],
   "source": [
    "import os \n",
    "import shutil\n",
    "import glob"
   ]
  },
  {
   "cell_type": "code",
   "execution_count": null,
   "id": "f4636ad3-773b-4c76-9eb1-2dd6d45877cc",
   "metadata": {
    "tags": []
   },
   "outputs": [],
   "source": [
    "import pandas as pd\n",
    "import numpy as np"
   ]
  },
  {
   "cell_type": "code",
   "execution_count": null,
   "id": "0e72dd35-bd1d-4ba1-9e95-1be3b6b139fd",
   "metadata": {
    "tags": []
   },
   "outputs": [],
   "source": [
    "import matplotlib.pyplot as plt\n",
    "import seaborn as sns"
   ]
  },
  {
   "cell_type": "code",
   "execution_count": null,
   "id": "a7096d2a-302e-4a3f-8eff-044557c6c614",
   "metadata": {
    "tags": []
   },
   "outputs": [],
   "source": [
    "stats1 = pd.read_csv('../../secret_data/aseg_stats.txt', sep ='\\t')\n",
    "stats1"
   ]
  },
  {
   "cell_type": "code",
   "execution_count": null,
   "id": "e59403cb-eb4c-4fb8-b502-0f123545d9da",
   "metadata": {
    "tags": []
   },
   "outputs": [],
   "source": [
    "stats2 = pd.read_csv('../../secret_data/aseg_stats2.txt', sep ='\\t')\n",
    "stats2"
   ]
  },
  {
   "cell_type": "code",
   "execution_count": null,
   "id": "8de3524c-0023-40bd-8734-54f9f94ab461",
   "metadata": {
    "tags": []
   },
   "outputs": [],
   "source": [
    "total_stats = pd.concat([stats2, stats1])"
   ]
  },
  {
   "cell_type": "code",
   "execution_count": null,
   "id": "6e8305e6-6578-4a9e-97f2-6ef148f21882",
   "metadata": {
    "tags": []
   },
   "outputs": [],
   "source": [
    "#total_stats.to_csv('../../secret_data/brain_volumes_from_freesurfer_no_qc.csv')"
   ]
  },
  {
   "cell_type": "code",
   "execution_count": null,
   "id": "3265aaf8-3a7d-49bb-8bc9-671046862f51",
   "metadata": {
    "tags": []
   },
   "outputs": [],
   "source": [
    "total_stats.columns"
   ]
  },
  {
   "cell_type": "code",
   "execution_count": null,
   "id": "e2aa660f-bcca-45d2-ac11-869e45554171",
   "metadata": {
    "tags": []
   },
   "outputs": [],
   "source": [
    "total_stats = total_stats.rename(columns= {'Measure:volume':'Participant ID'})\n",
    "total_stats['Participant ID'] = total_stats['Participant ID'].str.replace('/', '')"
   ]
  },
  {
   "cell_type": "code",
   "execution_count": null,
   "id": "e58bc675-159d-4d2b-94f9-32ace51d6d4e",
   "metadata": {
    "tags": []
   },
   "outputs": [],
   "source": [
    "total_stats.head(4)"
   ]
  },
  {
   "cell_type": "code",
   "execution_count": null,
   "id": "b9a97c11-a970-4a4a-9bb5-024ffe47d540",
   "metadata": {
    "tags": []
   },
   "outputs": [],
   "source": [
    "total_stats.to_csv('../../secret_data/brain_volumes_from_freesurfer_no_qc.csv')"
   ]
  },
  {
   "cell_type": "code",
   "execution_count": null,
   "id": "0f436652-1422-4cee-bfb4-601f3865f392",
   "metadata": {},
   "outputs": [],
   "source": [
    "#total"
   ]
  },
  {
   "cell_type": "code",
   "execution_count": null,
   "id": "0a8f6534-59c8-417c-9f44-7d71350c76fd",
   "metadata": {},
   "outputs": [],
   "source": []
  },
  {
   "cell_type": "code",
   "execution_count": null,
   "id": "fb1f8936-d95f-48b0-a78d-3dbab99f93a3",
   "metadata": {
    "tags": []
   },
   "outputs": [],
   "source": [
    "excel = pd.read_excel(\"../../secret_data/BRICK_datums_scans_clean_17072024.xlsx\")\n",
    "excel.head(3)\n"
   ]
  },
  {
   "cell_type": "code",
   "execution_count": null,
   "id": "0d176915-e6f8-4c90-88f7-a22875ccb581",
   "metadata": {
    "tags": []
   },
   "outputs": [],
   "source": [
    "excel.columns\n"
   ]
  },
  {
   "cell_type": "code",
   "execution_count": null,
   "id": "38f32f47-2b98-4b48-8780-6642b63790fd",
   "metadata": {
    "tags": []
   },
   "outputs": [],
   "source": [
    "total_stats_numeric = total_stats.drop(['Participant ID'], axis=1)\n",
    "total_stats_numeric.corr() \n",
    "#.corr()"
   ]
  },
  {
   "cell_type": "code",
   "execution_count": null,
   "id": "393cb751-d05d-46ea-a6d7-ffca593c46dc",
   "metadata": {
    "tags": []
   },
   "outputs": [],
   "source": [
    "sns.heatmap(total_stats_numeric.corr(method='spearman', numeric_only=False))"
   ]
  },
  {
   "cell_type": "markdown",
   "id": "61cbccff-2a1a-4a85-bbb8-10a74ca493be",
   "metadata": {},
   "source": [
    "Let's ask if left and right correlate...or other things."
   ]
  },
  {
   "cell_type": "code",
   "execution_count": null,
   "id": "320667dc-cd16-47a7-8240-566384ab0a9c",
   "metadata": {
    "tags": []
   },
   "outputs": [],
   "source": [
    "left_to_right = total_stats_numeric[['Left-Lateral-Ventricle', 'Left-Inf-Lat-Vent',\n",
    "       'Left-Cerebellum-White-Matter', 'Left-Cerebellum-Cortex',\n",
    "       'Left-Thalamus-Proper', 'Left-Caudate', 'Left-Putamen', 'Left-Pallidum',\n",
    "        'Left-Hippocampus',\n",
    "       'Left-Amygdala', 'Left-Accumbens-area', 'Left-VentralDC',\n",
    "       'Left-vessel', 'Left-choroid-plexus', 'Right-Lateral-Ventricle',\n",
    "       'Right-Inf-Lat-Vent', 'Right-Cerebellum-White-Matter',\n",
    "       'Right-Cerebellum-Cortex', 'Right-Thalamus-Proper', 'Right-Caudate',\n",
    "       'Right-Putamen', 'Right-Pallidum', 'Right-Hippocampus',\n",
    "       'Right-Amygdala', 'Right-Accumbens-area', 'Right-VentralDC',\n",
    "       'Right-vessel', 'Right-choroid-plexus', \n",
    "        'Left-WM-hypointensities',\n",
    "       'Right-WM-hypointensities', \n",
    "       'Left-non-WM-hypointensities', 'Right-non-WM-hypointensities',]]\n",
    "sns.heatmap(left_to_right.corr(method='spearman', numeric_only=False))"
   ]
  },
  {
   "cell_type": "markdown",
   "id": "9530e548-e8a9-4274-9f86-71ec558c21e1",
   "metadata": {},
   "source": [
    "Yes, left and right correlate. Now let's ask whether wmh increase with age...."
   ]
  },
  {
   "cell_type": "code",
   "execution_count": null,
   "id": "c1f18974-8d4a-4479-8080-e7d133d4d607",
   "metadata": {
    "tags": []
   },
   "outputs": [],
   "source": [
    "total_stats_numeric.columns"
   ]
  },
  {
   "cell_type": "code",
   "execution_count": null,
   "id": "b1e5fe32-2bed-4a9c-a6ee-cf0fd71a16f6",
   "metadata": {
    "tags": []
   },
   "outputs": [],
   "source": [
    "total_stats"
   ]
  },
  {
   "cell_type": "code",
   "execution_count": null,
   "id": "39599499-1409-4c24-ad32-d4ddbdac4b61",
   "metadata": {
    "tags": []
   },
   "outputs": [],
   "source": [
    "wmh_info = total_stats[[ 'Participant ID','3rd-Ventricle', '4th-Ventricle', 'Brain-Stem', 'Left-Hippocampus',\n",
    "       'Left-Amygdala', 'CSF',  'Right-Lateral-Ventricle',\n",
    "       'Right-Inf-Lat-Vent', 'Right-Cerebellum-White-Matter',\n",
    "       'Right-Cerebellum-Cortex', 'Right-Thalamus-Proper', 'Right-Caudate',\n",
    "       'Right-Putamen',  'Right-Hippocampus',\n",
    "       'Right-Amygdala',  'Right-VentralDC',\n",
    "       'Right-choroid-plexus',\n",
    "       'WM-hypointensities', 'Left-WM-hypointensities',\n",
    "       'Right-WM-hypointensities', 'non-WM-hypointensities',\n",
    "       'Left-non-WM-hypointensities', 'Right-non-WM-hypointensities',]]"
   ]
  },
  {
   "cell_type": "code",
   "execution_count": null,
   "id": "bdbc8251-d3b5-47b7-a224-f8559076b977",
   "metadata": {
    "tags": []
   },
   "outputs": [],
   "source": [
    "wmh_info"
   ]
  },
  {
   "cell_type": "markdown",
   "id": "1",
   "metadata": {
    "tags": []
   },
   "source": [
    "1. first use python to move files a few at a time."
   ]
  },
  {
   "cell_type": "code",
   "execution_count": null,
   "id": "64dfc2a1-5dae-4cc3-baa6-ee216e77a725",
   "metadata": {},
   "outputs": [],
   "source": []
  },
  {
   "cell_type": "code",
   "execution_count": null,
   "id": "d9a8a93c-dea4-4c7a-ae5f-f759549b4c0b",
   "metadata": {},
   "outputs": [],
   "source": []
  },
  {
   "cell_type": "code",
   "execution_count": null,
   "id": "4255f5e6-d2f9-401c-9bcc-54439132aa9a",
   "metadata": {},
   "outputs": [],
   "source": []
  },
  {
   "cell_type": "code",
   "execution_count": null,
   "id": "324d3b96-c0b6-438f-9323-670616e6069e",
   "metadata": {},
   "outputs": [],
   "source": []
  },
  {
   "cell_type": "code",
   "execution_count": null,
   "id": "3",
   "metadata": {
    "tags": []
   },
   "outputs": [],
   "source": [
    "find /mnt/data/output -iwholename '*Freesurfer*/*.nii.gz' -type f"
   ]
  },
  {
   "cell_type": "code",
   "execution_count": null,
   "id": "4",
   "metadata": {
    "tags": []
   },
   "outputs": [],
   "source": [
    "shutil.copy?"
   ]
  },
  {
   "cell_type": "code",
   "execution_count": null,
   "id": "5",
   "metadata": {
    "tags": []
   },
   "outputs": [],
   "source": [
    "glob.glob?"
   ]
  },
  {
   "cell_type": "code",
   "execution_count": null,
   "id": "6",
   "metadata": {
    "tags": []
   },
   "outputs": [],
   "source": [
    "_files = glob.glob('C:/presentations/**', recursive=True)"
   ]
  },
  {
   "cell_type": "code",
   "execution_count": null,
   "id": "7",
   "metadata": {
    "tags": []
   },
   "outputs": [],
   "source": [
    "#_files"
   ]
  },
  {
   "cell_type": "code",
   "execution_count": null,
   "id": "8",
   "metadata": {
    "tags": []
   },
   "outputs": [],
   "source": [
    "for fileName_relative in glob.glob('C:/experimental', *, recursive=True):       ## first get full file name with directores using for loop\n",
    "\n",
    "    print(\"Full file name with directories: \", fileName_relative)"
   ]
  },
  {
   "cell_type": "code",
   "execution_count": null,
   "id": "9",
   "metadata": {},
   "outputs": [],
   "source": [
    "def find_surf_and_move(src, dst, filestring):\n",
    "    if not os.path.exists(dst):\n",
    "        os.mkdir(dst)\n",
    "    files = glob.glob(os.path.join(src,'**'), recursive=True)\n",
    "\n",
    "    # for path, subdirs, files in os.walk(src):\n",
    "    #     print(files)\n",
    "    #     for name in files:\n",
    "    #         if filestring in name:\n",
    "    #         #if fnmatch(name, pattern):\n",
    "    #             full_name = os.path.join(path, name)\n",
    "    #             #destination_folder = \n",
    "    #             print(name)\n",
    "\n",
    "                #shutil.copytree(real_name, dst)\n",
    "    \n",
    "    \n",
    "    \n",
    "    \n",
    "#     files = os.listdir()\n",
    "    \n",
    "#     if filestring is in file:\n",
    "        \n",
    "#     shutil.copytree(src, dst) "
   ]
  },
  {
   "cell_type": "code",
   "execution_count": null,
   "id": "10",
   "metadata": {
    "tags": []
   },
   "outputs": [],
   "source": [
    "find_surf_and_move(file_path, 'C:/experimental', 'cvasl')"
   ]
  },
  {
   "cell_type": "code",
   "execution_count": null,
   "id": "11",
   "metadata": {
    "tags": []
   },
   "outputs": [],
   "source": [
    "root = file_path\n",
    "#pattern = \"*.\"\n",
    "\n",
    "for path, subdirs, files in os.walk(root):\n",
    "    for name in files:\n",
    "        if 'cvasl' in name:\n",
    "            #if fnmatch(name, pattern):\n",
    "            print(os.path.join(path, name))"
   ]
  },
  {
   "cell_type": "code",
   "execution_count": null,
   "id": "12",
   "metadata": {},
   "outputs": [],
   "source": []
  }
 ],
 "metadata": {
  "kernelspec": {
   "display_name": "Python 3 (ipykernel)",
   "language": "python",
   "name": "python3"
  },
  "language_info": {
   "codemirror_mode": {
    "name": "ipython",
    "version": 3
   },
   "file_extension": ".py",
   "mimetype": "text/x-python",
   "name": "python",
   "nbconvert_exporter": "python",
   "pygments_lexer": "ipython3",
   "version": "3.11.9"
  }
 },
 "nbformat": 4,
 "nbformat_minor": 5
}
