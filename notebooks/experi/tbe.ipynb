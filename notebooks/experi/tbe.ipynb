{
 "cells": [
  {
   "cell_type": "markdown",
   "id": "3b95e048-ceb1-4c91-8640-a31ebf27cdad",
   "metadata": {},
   "source": [
    "# Instructions for Freesurfer"
   ]
  },
  {
   "cell_type": "markdown",
   "id": "07fa5657-ab79-4bad-93dc-787836bacc19",
   "metadata": {
    "tags": []
   },
   "source": [
    "1. first use python to move files a few at a time."
   ]
  },
  {
   "cell_type": "code",
   "execution_count": 42,
   "id": "6c331398-3a82-4680-bf89-7138ca622c94",
   "metadata": {
    "tags": []
   },
   "outputs": [],
   "source": [
    "import os \n",
    "import shutil\n",
    "import glob"
   ]
  },
  {
   "cell_type": "code",
   "execution_count": 7,
   "id": "db0faf38-d52e-4eb8-826f-6bff37a1a9b6",
   "metadata": {},
   "outputs": [],
   "source": [
    "find /mnt/data/output -iwholename '*Freesurfer*/*.nii.gz' -type f"
   ]
  },
  {
   "cell_type": "code",
   "execution_count": 29,
   "id": "d2566c9b-4e09-4081-87c6-f3d087bd9da2",
   "metadata": {
    "tags": []
   },
   "outputs": [
    {
     "data": {
      "text/plain": [
       "\u001b[1;31mSignature:\u001b[0m \u001b[0mshutil\u001b[0m\u001b[1;33m.\u001b[0m\u001b[0mcopy\u001b[0m\u001b[1;33m(\u001b[0m\u001b[0msrc\u001b[0m\u001b[1;33m,\u001b[0m \u001b[0mdst\u001b[0m\u001b[1;33m,\u001b[0m \u001b[1;33m*\u001b[0m\u001b[1;33m,\u001b[0m \u001b[0mfollow_symlinks\u001b[0m\u001b[1;33m=\u001b[0m\u001b[1;32mTrue\u001b[0m\u001b[1;33m)\u001b[0m\u001b[1;33m\u001b[0m\u001b[1;33m\u001b[0m\u001b[0m\n",
       "\u001b[1;31mDocstring:\u001b[0m\n",
       "Copy data and mode bits (\"cp src dst\"). Return the file's destination.\n",
       "\n",
       "The destination may be a directory.\n",
       "\n",
       "If follow_symlinks is false, symlinks won't be followed. This\n",
       "resembles GNU's \"cp -P src dst\".\n",
       "\n",
       "If source and destination are the same file, a SameFileError will be\n",
       "raised.\n",
       "\u001b[1;31mFile:\u001b[0m      c:\\users\\candacemoore\\miniconda3\\envs\\layer\\lib\\shutil.py\n",
       "\u001b[1;31mType:\u001b[0m      function"
      ]
     },
     "metadata": {},
     "output_type": "display_data"
    }
   ],
   "source": [
    "shutil.copy?"
   ]
  },
  {
   "cell_type": "code",
   "execution_count": 46,
   "id": "3555b771-a8ff-4baf-979e-eb47c72e2a1d",
   "metadata": {
    "tags": []
   },
   "outputs": [
    {
     "data": {
      "text/plain": [
       "\u001b[1;31mSignature:\u001b[0m\n",
       "\u001b[0mglob\u001b[0m\u001b[1;33m.\u001b[0m\u001b[0mglob\u001b[0m\u001b[1;33m(\u001b[0m\u001b[1;33m\n",
       "\u001b[0m    \u001b[0mpathname\u001b[0m\u001b[1;33m,\u001b[0m\u001b[1;33m\n",
       "\u001b[0m    \u001b[1;33m*\u001b[0m\u001b[1;33m,\u001b[0m\u001b[1;33m\n",
       "\u001b[0m    \u001b[0mroot_dir\u001b[0m\u001b[1;33m=\u001b[0m\u001b[1;32mNone\u001b[0m\u001b[1;33m,\u001b[0m\u001b[1;33m\n",
       "\u001b[0m    \u001b[0mdir_fd\u001b[0m\u001b[1;33m=\u001b[0m\u001b[1;32mNone\u001b[0m\u001b[1;33m,\u001b[0m\u001b[1;33m\n",
       "\u001b[0m    \u001b[0mrecursive\u001b[0m\u001b[1;33m=\u001b[0m\u001b[1;32mFalse\u001b[0m\u001b[1;33m,\u001b[0m\u001b[1;33m\n",
       "\u001b[0m    \u001b[0minclude_hidden\u001b[0m\u001b[1;33m=\u001b[0m\u001b[1;32mFalse\u001b[0m\u001b[1;33m,\u001b[0m\u001b[1;33m\n",
       "\u001b[0m\u001b[1;33m)\u001b[0m\u001b[1;33m\u001b[0m\u001b[1;33m\u001b[0m\u001b[0m\n",
       "\u001b[1;31mDocstring:\u001b[0m\n",
       "Return a list of paths matching a pathname pattern.\n",
       "\n",
       "The pattern may contain simple shell-style wildcards a la\n",
       "fnmatch. Unlike fnmatch, filenames starting with a\n",
       "dot are special cases that are not matched by '*' and '?'\n",
       "patterns by default.\n",
       "\n",
       "If `include_hidden` is true, the patterns '*', '?', '**'  will match hidden\n",
       "directories.\n",
       "\n",
       "If `recursive` is true, the pattern '**' will match any files and\n",
       "zero or more directories and subdirectories.\n",
       "\u001b[1;31mFile:\u001b[0m      c:\\users\\candacemoore\\miniconda3\\envs\\layer\\lib\\glob.py\n",
       "\u001b[1;31mType:\u001b[0m      function"
      ]
     },
     "metadata": {},
     "output_type": "display_data"
    }
   ],
   "source": [
    "glob.glob?"
   ]
  },
  {
   "cell_type": "code",
   "execution_count": 58,
   "id": "58549931-50ad-48a1-90f1-320d6ae8725c",
   "metadata": {
    "tags": []
   },
   "outputs": [],
   "source": [
    "_files = glob.glob('C:/presentations/**', recursive=True)"
   ]
  },
  {
   "cell_type": "code",
   "execution_count": 60,
   "id": "ee9334cf-d8aa-479b-951a-7ea3fd0411d1",
   "metadata": {
    "tags": []
   },
   "outputs": [],
   "source": [
    "#_files"
   ]
  },
  {
   "cell_type": "code",
   "execution_count": 44,
   "id": "57e14775-3104-460e-b7b5-354bda4fa004",
   "metadata": {
    "tags": []
   },
   "outputs": [
    {
     "ename": "SyntaxError",
     "evalue": "invalid syntax (2802970114.py, line 1)",
     "output_type": "error",
     "traceback": [
      "\u001b[1;36m  Cell \u001b[1;32mIn[44], line 1\u001b[1;36m\u001b[0m\n\u001b[1;33m    for fileName_relative in glob.glob( 'C:/experimental', *, recursive=True):       ## first get full file name with directores using for loop\u001b[0m\n\u001b[1;37m                                                            ^\u001b[0m\n\u001b[1;31mSyntaxError\u001b[0m\u001b[1;31m:\u001b[0m invalid syntax\n"
     ]
    }
   ],
   "source": [
    "for fileName_relative in glob.glob('C:/experimental', *, recursive=True):       ## first get full file name with directores using for loop\n",
    "\n",
    "    print(\"Full file name with directories: \", fileName_relative)"
   ]
  },
  {
   "cell_type": "code",
   "execution_count": 39,
   "id": "a222ffee-7174-42d1-b291-1742e5f1b671",
   "metadata": {},
   "outputs": [],
   "source": [
    "def find_surf_and_move(src, dst, filestring):\n",
    "    if not os.path.exists(dst):\n",
    "        os.mkdir(dst)\n",
    "    files = glob.glob(os.path.join(src,'**'), recursive=True)\n",
    "\n",
    "    # for path, subdirs, files in os.walk(src):\n",
    "    #     print(files)\n",
    "    #     for name in files:\n",
    "    #         if filestring in name:\n",
    "    #         #if fnmatch(name, pattern):\n",
    "    #             full_name = os.path.join(path, name)\n",
    "    #             #destination_folder = \n",
    "    #             print(name)\n",
    "\n",
    "                #shutil.copytree(real_name, dst)\n",
    "    \n",
    "    \n",
    "    \n",
    "    \n",
    "#     files = os.listdir()\n",
    "    \n",
    "#     if filestring is in file:\n",
    "        \n",
    "#     shutil.copytree(src, dst) "
   ]
  },
  {
   "cell_type": "code",
   "execution_count": 40,
   "id": "981325f8-50d6-4f86-8c60-d361d7cd7e80",
   "metadata": {
    "tags": []
   },
   "outputs": [
    {
     "name": "stdout",
     "output_type": "stream",
     "text": [
      "['cvasl_review.pptx', 'cvasl_review_4_deeplife.pptx', 'cvasl_review_4_partners.pptx', 'diversity_nlesc_ethics [Autosaved].pptx', 'diversity_nlesc_ethics.pptx', 'fosdem_notes.pptx', 'foss_for_docs.pptx', 'foss_for_docs_f.pdf', 'foss_for_docs_f.pptx', 'intro_diagnostic_imaging [Autosaved].pptx', 'intro_diagnostic_imaging.pptx', 'intro_diagnostic_imaging_nf.pptx', 'lightening_ethics.pptx', 'lightening_ethics_vpu.pptx', 'mip_plea.pptx', 'mip_plea2.pptx', 'reproducability_hackathon.pptx', 'talk_repro_may7th.pptx', 'training_intro_slides.pptx', 'training_intro_slides_image_processing_March_2024.pptx']\n",
      "cvasl_review.pptx\n",
      "cvasl_review_4_deeplife.pptx\n",
      "cvasl_review_4_partners.pptx\n",
      "['.gitignore', '.readthedocs.yml', 'LICENSE', 'README.rst', 'requirements.txt', 'setup.py', 'setup_patched.py']\n",
      "['clustering.py', 'neurocombat.py', 'nifti.py', 'utils.py', '__init__.py']\n",
      "['clustering.cpython-37.pyc', 'neurocombat.cpython-37.pyc', 'nifti.cpython-37.pyc', 'utils.cpython-37.pyc', '__init__.cpython-37.pyc']\n",
      "['dependency_links.txt', 'PKG-INFO', 'requires.txt', 'SOURCES.txt', 'top_level.txt']\n",
      "['make.bat', 'Makefile', 'README.md', 'requirements.txt']\n",
      "['ComScan.clustering.rst', 'ComScan.neurocombat.rst', 'ComScan.nifti.rst', 'ComScan.rst', 'ComScan.utils.rst', 'conf.py', 'index.rst', 'introduction.rst', 'modules.rst']\n"
     ]
    }
   ],
   "source": [
    "find_surf_and_move(file_path, 'C:/experimental', 'cvasl')"
   ]
  },
  {
   "cell_type": "code",
   "execution_count": 9,
   "id": "78c2df13-3add-45c3-ab43-ca43426827de",
   "metadata": {
    "tags": []
   },
   "outputs": [
    {
     "name": "stdout",
     "output_type": "stream",
     "text": [
      "C:/presentations\\cvasl_review.pptx\n",
      "C:/presentations\\cvasl_review_4_deeplife.pptx\n",
      "C:/presentations\\cvasl_review_4_partners.pptx\n"
     ]
    }
   ],
   "source": [
    "root = file_path\n",
    "#pattern = \"*.\"\n",
    "\n",
    "for path, subdirs, files in os.walk(root):\n",
    "    for name in files:\n",
    "        if 'cvasl' in name:\n",
    "            #if fnmatch(name, pattern):\n",
    "            print(os.path.join(path, name))"
   ]
  },
  {
   "cell_type": "code",
   "execution_count": null,
   "id": "7ae132e2-e02a-423e-9d1c-7c1ca83240d8",
   "metadata": {},
   "outputs": [],
   "source": []
  }
 ],
 "metadata": {
  "kernelspec": {
   "display_name": "Python 3 (ipykernel)",
   "language": "python",
   "name": "python3"
  },
  "language_info": {
   "codemirror_mode": {
    "name": "ipython",
    "version": 3
   },
   "file_extension": ".py",
   "mimetype": "text/x-python",
   "name": "python",
   "nbconvert_exporter": "python",
   "pygments_lexer": "ipython3",
   "version": "3.11.8"
  }
 },
 "nbformat": 4,
 "nbformat_minor": 5
}
