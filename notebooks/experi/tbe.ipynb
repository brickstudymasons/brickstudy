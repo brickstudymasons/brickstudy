{
 "cells": [
  {
   "cell_type": "markdown",
   "id": "0",
   "metadata": {},
   "source": [
    "# Instructions for Freesurfer"
   ]
  },
  {
   "cell_type": "code",
   "execution_count": null,
   "id": "2",
   "metadata": {
    "tags": []
   },
   "outputs": [],
   "source": [
    "import os \n",
    "import shutil\n",
    "import glob"
   ]
  },
  {
   "cell_type": "code",
   "execution_count": null,
   "id": "f4636ad3-773b-4c76-9eb1-2dd6d45877cc",
   "metadata": {
    "tags": []
   },
   "outputs": [],
   "source": [
    "import pandas as pd\n",
    "import numpy as np"
   ]
  },
  {
   "cell_type": "code",
   "execution_count": null,
   "id": "0e72dd35-bd1d-4ba1-9e95-1be3b6b139fd",
   "metadata": {
    "tags": []
   },
   "outputs": [],
   "source": [
    "import matplotlib.pyplot as plt\n",
    "import seaborn as sns"
   ]
  },
  {
   "cell_type": "code",
   "execution_count": null,
   "id": "a7096d2a-302e-4a3f-8eff-044557c6c614",
   "metadata": {
    "tags": []
   },
   "outputs": [],
   "source": [
    "stats1 = pd.read_csv('/mnt/data/processed_data/freesurfer_stats/aseg_stats_run1.txt', sep ='\\t')\n",
    "stats1\n"
   ]
  },
  {
   "cell_type": "code",
   "execution_count": null,
   "id": "e59403cb-eb4c-4fb8-b502-0f123545d9da",
   "metadata": {
    "tags": []
   },
   "outputs": [],
   "source": [
    "stats2 = pd.read_csv('/mnt/data/processed_data/freesurfer_stats/aseg_stats_run2.txt', sep ='\\t')\n",
    "stats2"
   ]
  },
  {
   "cell_type": "code",
   "execution_count": null,
   "id": "0b8e4de6-0aca-4383-84fd-9c87bbf33b6c",
   "metadata": {
    "tags": []
   },
   "outputs": [],
   "source": [
    "stats3 = pd.read_csv('/mnt/data/processed_data/freesurfer_stats/aseg_stats_run3.txt', sep ='\\t')\n",
    "stats3"
   ]
  },
  {
   "cell_type": "code",
   "execution_count": null,
   "id": "8de3524c-0023-40bd-8734-54f9f94ab461",
   "metadata": {
    "tags": []
   },
   "outputs": [],
   "source": [
    "total_stats = pd.concat([stats3, stats2, stats1])"
   ]
  },
  {
   "cell_type": "code",
   "execution_count": null,
   "id": "6e8305e6-6578-4a9e-97f2-6ef148f21882",
   "metadata": {
    "tags": []
   },
   "outputs": [],
   "source": [
    "#total_stats.to_csv('../../secret_data/brain_volumes_from_freesurfer_no_qc.csv')"
   ]
  },
  {
   "cell_type": "code",
   "execution_count": null,
   "id": "3265aaf8-3a7d-49bb-8bc9-671046862f51",
   "metadata": {
    "tags": []
   },
   "outputs": [],
   "source": [
    "total_stats.columns"
   ]
  },
  {
   "cell_type": "code",
   "execution_count": null,
   "id": "e2aa660f-bcca-45d2-ac11-869e45554171",
   "metadata": {
    "tags": []
   },
   "outputs": [],
   "source": [
    "total_stats = total_stats.rename(columns= {'Measure:volume':'Participant ID'})\n",
    "total_stats['Participant ID'] = total_stats['Participant ID'].str.replace('/', '')"
   ]
  },
  {
   "cell_type": "code",
   "execution_count": null,
   "id": "e58bc675-159d-4d2b-94f9-32ace51d6d4e",
   "metadata": {
    "tags": []
   },
   "outputs": [],
   "source": [
    "total_stats.head(4)"
   ]
  },
  {
   "cell_type": "code",
   "execution_count": null,
   "id": "b9a97c11-a970-4a4a-9bb5-024ffe47d540",
   "metadata": {
    "tags": []
   },
   "outputs": [],
   "source": [
    "total_stats.to_csv('/mnt/data/processed_data/freesurfer_stats/brain_volumes_from_freesurfer_no_qc.csv')"
   ]
  },
  {
   "cell_type": "code",
   "execution_count": null,
   "id": "10986426-4bde-45bc-941e-940024fee58c",
   "metadata": {
    "tags": []
   },
   "outputs": [],
   "source": [
    "total_stats.tail(3)"
   ]
  },
  {
   "cell_type": "code",
   "execution_count": null,
   "id": "0f436652-1422-4cee-bfb4-601f3865f392",
   "metadata": {},
   "outputs": [],
   "source": [
    "#total"
   ]
  },
  {
   "cell_type": "code",
   "execution_count": null,
   "id": "38f32f47-2b98-4b48-8780-6642b63790fd",
   "metadata": {
    "tags": []
   },
   "outputs": [],
   "source": [
    "total_stats_numeric = total_stats.drop(['Participant ID'], axis=1)\n",
    "total_stats_numeric.corr() \n",
    "#.corr()"
   ]
  },
  {
   "cell_type": "code",
   "execution_count": null,
   "id": "393cb751-d05d-46ea-a6d7-ffca593c46dc",
   "metadata": {
    "tags": []
   },
   "outputs": [],
   "source": [
    "sns.heatmap(total_stats_numeric.corr(method='spearman', numeric_only=False))"
   ]
  },
  {
   "cell_type": "markdown",
   "id": "61cbccff-2a1a-4a85-bbb8-10a74ca493be",
   "metadata": {},
   "source": [
    "Let's ask if left and right correlate...or other things."
   ]
  },
  {
   "cell_type": "code",
   "execution_count": null,
   "id": "320667dc-cd16-47a7-8240-566384ab0a9c",
   "metadata": {
    "tags": []
   },
   "outputs": [],
   "source": [
    "left_to_right = total_stats_numeric[['Left-Lateral-Ventricle', 'Left-Inf-Lat-Vent',\n",
    "       'Left-Cerebellum-White-Matter', 'Left-Cerebellum-Cortex',\n",
    "       'Left-Thalamus-Proper', 'Left-Caudate', 'Left-Putamen', 'Left-Pallidum',\n",
    "        'Left-Hippocampus',\n",
    "       'Left-Amygdala', 'Left-Accumbens-area', 'Left-VentralDC',\n",
    "       'Left-vessel', 'Left-choroid-plexus', 'Right-Lateral-Ventricle',\n",
    "       'Right-Inf-Lat-Vent', 'Right-Cerebellum-White-Matter',\n",
    "       'Right-Cerebellum-Cortex', 'Right-Thalamus-Proper', 'Right-Caudate',\n",
    "       'Right-Putamen', 'Right-Pallidum', 'Right-Hippocampus',\n",
    "       'Right-Amygdala', 'Right-Accumbens-area', 'Right-VentralDC',\n",
    "       'Right-vessel', 'Right-choroid-plexus', \n",
    "        'Left-WM-hypointensities',\n",
    "       'Right-WM-hypointensities', \n",
    "       'Left-non-WM-hypointensities', 'Right-non-WM-hypointensities',]]\n",
    "sns.heatmap(left_to_right.corr(method='spearman', numeric_only=False))"
   ]
  },
  {
   "cell_type": "markdown",
   "id": "9530e548-e8a9-4274-9f86-71ec558c21e1",
   "metadata": {},
   "source": [
    "Yes, left and right correlate. Now let's ask whether wmh increase with age...."
   ]
  },
  {
   "cell_type": "code",
   "execution_count": null,
   "id": "c1f18974-8d4a-4479-8080-e7d133d4d607",
   "metadata": {
    "tags": []
   },
   "outputs": [],
   "source": [
    "total_stats_numeric.columns"
   ]
  },
  {
   "cell_type": "code",
   "execution_count": null,
   "id": "b1e5fe32-2bed-4a9c-a6ee-cf0fd71a16f6",
   "metadata": {
    "tags": []
   },
   "outputs": [],
   "source": [
    "total_stats"
   ]
  },
  {
   "cell_type": "code",
   "execution_count": null,
   "id": "39599499-1409-4c24-ad32-d4ddbdac4b61",
   "metadata": {
    "tags": []
   },
   "outputs": [],
   "source": [
    "wmh_info = total_stats[[ 'Participant ID','3rd-Ventricle', '4th-Ventricle', 'Brain-Stem', 'Left-Hippocampus',\n",
    "       'Left-Amygdala', 'CSF',  'Right-Lateral-Ventricle',\n",
    "       'Right-Inf-Lat-Vent', 'Right-Cerebellum-White-Matter',\n",
    "       'Right-Cerebellum-Cortex', 'Right-Thalamus-Proper', 'Right-Caudate',\n",
    "       'Right-Putamen',  'Right-Hippocampus',\n",
    "       'Right-Amygdala',\n",
    "       'Right-choroid-plexus',\n",
    "       'WM-hypointensities', ]]"
   ]
  },
  {
   "cell_type": "code",
   "execution_count": null,
   "id": "bdbc8251-d3b5-47b7-a224-f8559076b977",
   "metadata": {
    "tags": []
   },
   "outputs": [],
   "source": [
    "\n",
    "wmh_info['Participant ID'] = wmh_info['Participant ID'].astype(str)\n",
    "wmh_info['Participant ID'] = wmh_info['Participant ID'].str.replace(\"-\", \"_\")\n",
    "wmh_info"
   ]
  },
  {
   "cell_type": "code",
   "execution_count": null,
   "id": "7bfb076f-8d68-46c6-a946-87cfdfc09d56",
   "metadata": {
    "tags": []
   },
   "outputs": [],
   "source": [
    "for_sheet_names = pd.ExcelFile(\"../../secret_data/BRICK_datums_scans_clean_17072024_versie_2.xlsx\")\n",
    "sheet_names = for_sheet_names.sheet_names\n",
    "print(sheet_names)"
   ]
  },
  {
   "cell_type": "code",
   "execution_count": null,
   "id": "167618c8-bfae-40a3-bf8e-bbb61e87b7f5",
   "metadata": {
    "tags": []
   },
   "outputs": [],
   "source": [
    "demo_kit = '../../secret_data/BRICK_datums_scans_clean_17072024_versie_2.xlsx'\n",
    "demography = pd.read_excel('../../secret_data/BRICK_datums_scans_clean_17072024_versie_2.xlsx', sheet_name='Dag van MRI+NPO overzicht ')\n",
    "demography['Participant ID'] = demography['BRICK-nummer']\n",
    "demography = demography[['Participant ID','Genotype', 'Leeftijd_bij_scan']]\n",
    "demography"
   ]
  },
  {
   "cell_type": "code",
   "execution_count": null,
   "id": "6309fd11-74d1-4e35-8e6f-766b7b6d4d60",
   "metadata": {
    "tags": []
   },
   "outputs": [],
   "source": [
    "fused_demo_wh = demography.merge(wmh_info, on='Participant ID')\n",
    "fused_demo_wh.head(3)"
   ]
  },
  {
   "cell_type": "code",
   "execution_count": null,
   "id": "e12a3a5c-3975-4561-900a-ad5f0f6de889",
   "metadata": {
    "tags": []
   },
   "outputs": [],
   "source": [
    "# Do wm-hypointensities increase with age or genotype?\n",
    "simple_question = fused_demo_wh[['Genotype', 'Leeftijd_bij_scan', 'WM-hypointensities']]\n",
    "# recode genotype to number\n",
    "simple_question['Genotype_code'] = simple_question['Genotype'].astype('category').cat.codes\n",
    "simple_question.to_csv('../../secret_data/forshow1.csv')\n"
   ]
  },
  {
   "cell_type": "code",
   "execution_count": null,
   "id": "ea9db2ee-7a5a-47b1-a1ac-433f09ed27af",
   "metadata": {
    "tags": []
   },
   "outputs": [],
   "source": [
    "simple_question_matrix= simple_question[['Genotype_code', 'Leeftijd_bij_scan', 'WM-hypointensities']]\n",
    "simple_question_matrix.corr(method='spearman').to_csv('../../secret_data/forshow2.csv')\n",
    "#simple_question_matrix.corr(method='spearman')"
   ]
  },
  {
   "cell_type": "code",
   "execution_count": null,
   "id": "d6611e73-f8fe-48d0-967f-85f68ab9ab05",
   "metadata": {},
   "outputs": [],
   "source": [
    "# OK, BUT DID IT matter for neuropsychological stuff?"
   ]
  },
  {
   "cell_type": "code",
   "execution_count": null,
   "id": "4605efa3-89ae-476c-b4a1-d07ce4626913",
   "metadata": {},
   "outputs": [],
   "source": []
  },
  {
   "cell_type": "code",
   "execution_count": null,
   "id": "4bf8fd0e-b484-45f9-a184-dc7a09ac5609",
   "metadata": {
    "tags": []
   },
   "outputs": [],
   "source": [
    "WISC_V_BRICK_T0dd08042024 = pd.read_csv(\"../../secret_data/WISCV_export_gemstracker_BRICK_T0_100424.csv\", sep=\",\")"
   ]
  },
  {
   "cell_type": "code",
   "execution_count": null,
   "id": "27cf1309-b3d5-4543-8bb9-3dae3b109bcd",
   "metadata": {
    "tags": []
   },
   "outputs": [],
   "source": [
    "WISC_V_BRICK_T0dd08042024.head()"
   ]
  },
  {
   "cell_type": "code",
   "execution_count": null,
   "id": "d0b5808e-32ca-4970-b0ab-93552ac46b07",
   "metadata": {
    "tags": []
   },
   "outputs": [],
   "source": [
    "# for f in WISC_V_BRICK_T0dd08042024.columns:\n",
    "#     print(f)"
   ]
  },
  {
   "cell_type": "code",
   "execution_count": null,
   "id": "4a70ab6e-c4fd-40b5-8d17-88ab9866b783",
   "metadata": {
    "tags": []
   },
   "outputs": [],
   "source": [
    "WISC_V_BRICK_T0dd08042024_for_castor = WISC_V_BRICK_T0dd08042024.rename(\n",
    "    columns={\"gr2o_patient_nr\": \"Participant Id\",\n",
    "             \"DatumWISCV\": \"Datum_WISC_V\",\n",
    "            \"StartWISCV\": \"Start_WISC_V\",\n",
    "            \"StopWISCV\": \"Stop_WISC_V\",\n",
    "            \"WISCVVolt\": \"WISC_V_voltooid\",\n",
    "            \"VolgordeWISC\":\"Volgorde_NPO_3\",\n",
    "            \"AfnemerWISCV\":\"Afnemer_WISC_V\",\n",
    "            \"WISCVOpm\": \"Opmerkingen_WISC_V\",\n",
    "            \"WISCVOpmUit\":\"Uitleg_Opmerkingen_WISC_V\",} )\n",
    "\n",
    "\n",
    " # colnames(WISCV_gemstracker)[colnames(WISCV_gemstracker) == \"gr2o_patient_nr\"] <- \"Participant Id\"\n",
    " # colnames(WISCV_gemstracker)[colnames(WISCV_gemstracker) == \"DatumWISCV\"] <- \"Datum_WISC_V\"\n",
    " # colnames(WISCV_gemstracker)[colnames(WISCV_gemstracker) == \"StartWISCV\"] <- \"Start_WISC_V\"\n",
    " # colnames(WISCV_gemstracker)[colnames(WISCV_gemstracker) == \"StopWISCV\"] <- \"Stop_WISC_V\"\n",
    " # colnames(WISCV_gemstracker)[colnames(WISCV_gemstracker) == \"WISCVVolt\"] <- \"WISC_V_voltooid\"\n",
    " # colnames(WISCV_gemstracker)[colnames(WISCV_gemstracker) == \"VolgordeWISC\"] <- \"Volgorde_NPO_3\"\n",
    " # colnames(WISCV_gemstracker)[colnames(WISCV_gemstracker) == \"AfnemerWISCV\"] <- \"Afnemer_WISC_V\"\n",
    " # colnames(WISCV_gemstracker)[colnames(WISCV_gemstracker) == \"WISCVOpm\"] <- \"Opmerkingen_WISC_V\"\n",
    " # colnames(WISCV_gemstracker)[colnames(WISCV_gemstracker) == \"WISCVOpmUit\"] <- \"Uitleg_Opmerkingen_WISC_V\""
   ]
  },
  {
   "cell_type": "code",
   "execution_count": null,
   "id": "8233cfd4-73b7-461f-93fc-5cfbb0cb80a3",
   "metadata": {
    "tags": []
   },
   "outputs": [],
   "source": [
    "WISC_V_BRICK_T0dd08042024_for_castor['BRICK_of_uitgebreid'] = 1\n",
    "WISC_V_BRICK_T0dd08042024_for_castor.head(3)"
   ]
  },
  {
   "cell_type": "code",
   "execution_count": null,
   "id": "a43f2147-a876-4cad-99dc-c88d84373bb6",
   "metadata": {
    "tags": []
   },
   "outputs": [],
   "source": [
    "len(WISC_V_BRICK_T0dd08042024_for_castor)"
   ]
  },
  {
   "cell_type": "code",
   "execution_count": null,
   "id": "72049f6a-a0ec-4f6c-a86d-b8313488760b",
   "metadata": {
    "tags": []
   },
   "outputs": [],
   "source": [
    "len(WISC_V_BRICK_T0dd08042024_for_castor['Participant Id'].unique())"
   ]
  },
  {
   "cell_type": "code",
   "execution_count": null,
   "id": "6487d863-ba5e-46e6-a6a1-259b393bd938",
   "metadata": {
    "tags": []
   },
   "outputs": [],
   "source": [
    "scores_from_wisc = WISC_V_BRICK_T0dd08042024_for_castor[[\n",
    "    'Participant Id',\n",
    " 'WgITot',\n",
    "    'VsITot',\n",
    "    'KRITot',\n",
    "    'AWITot',\n",
    "    'NVITot',\n",
    "    'AVITot',\n",
    "    'CCITot',\n",
    "    'Tot',]]"
   ]
  },
  {
   "cell_type": "code",
   "execution_count": null,
   "id": "637756c0-a2ec-4cee-a3c1-755f7182f0c6",
   "metadata": {
    "tags": []
   },
   "outputs": [],
   "source": [
    "scores_from_wisc = scores_from_wisc.rename(columns={'Participant Id': 'Participant ID'})"
   ]
  },
  {
   "cell_type": "code",
   "execution_count": null,
   "id": "ef7f3337-4993-4a12-92c3-8f766fc0d938",
   "metadata": {
    "tags": []
   },
   "outputs": [],
   "source": [
    "pd.merge?"
   ]
  },
  {
   "cell_type": "code",
   "execution_count": null,
   "id": "a31a2d9f-c941-44bc-9e03-f1f4203fd86a",
   "metadata": {
    "tags": []
   },
   "outputs": [],
   "source": [
    "scores_from_wisc.columns"
   ]
  },
  {
   "cell_type": "code",
   "execution_count": null,
   "id": "ceb02ba6-a9e7-421f-9c50-a8904e1346bc",
   "metadata": {
    "tags": []
   },
   "outputs": [],
   "source": [
    "#big_fuse = fused_demo_wh.merge(scores_from_wisc, on='Participant ID')\n",
    "big_fuse = pd.merge(fused_demo_wh,scores_from_wisc, left_on='Participant ID', right_on='Participant ID', how='outer')\n",
    "big_fuse.head(3)"
   ]
  },
  {
   "cell_type": "code",
   "execution_count": null,
   "id": "70ddf08d-dc63-4b81-b111-43c28fcdf912",
   "metadata": {
    "tags": []
   },
   "outputs": [],
   "source": [
    "big_fuse_matrix = big_fuse[['Genotype','Leeftijd_bij_scan', 'Brain-Stem', 'Right-Hippocampus','Left-Hippocampus', 'Left-Amygdala',\n",
    "        'Right-Lateral-Ventricle', 'Right-Inf-Lat-Vent',\n",
    "       'Right-Cerebellum-White-Matter', 'Right-Cerebellum-Cortex',\n",
    "       'Right-Thalamus-Proper', 'Right-Caudate', 'Right-Putamen',\n",
    "        'Right-Amygdala', 'Right-choroid-plexus',\n",
    "       'WM-hypointensities', 'WgITot', 'VsITot', 'KRITot', 'AWITot', 'NVITot',\n",
    "       'AVITot', 'CCITot', 'Tot']]\n",
    "big_fuse_matrix['Genotype_code'] = big_fuse_matrix['Genotype'].astype('category').cat.codes\n",
    "big_fuse_matrix = big_fuse_matrix.drop(['Genotype'], axis=1)\n",
    "big_fuse_matrix.corr(method='spearman')#.to_csv('../../secret_data/forshow3.csv')"
   ]
  },
  {
   "cell_type": "code",
   "execution_count": null,
   "id": "d21e0255-ee48-4a9c-b160-2a1b90b49de0",
   "metadata": {},
   "outputs": [],
   "source": []
  },
  {
   "cell_type": "code",
   "execution_count": null,
   "id": "1c8d00b5-b2ef-4b7c-aa3e-26f93bc561c6",
   "metadata": {},
   "outputs": [],
   "source": []
  },
  {
   "cell_type": "markdown",
   "id": "1",
   "metadata": {
    "tags": []
   },
   "source": [
    "1. first use python to move files a few at a time."
   ]
  },
  {
   "cell_type": "code",
   "execution_count": null,
   "id": "64dfc2a1-5dae-4cc3-baa6-ee216e77a725",
   "metadata": {},
   "outputs": [],
   "source": []
  },
  {
   "cell_type": "code",
   "execution_count": null,
   "id": "d9a8a93c-dea4-4c7a-ae5f-f759549b4c0b",
   "metadata": {},
   "outputs": [],
   "source": []
  },
  {
   "cell_type": "code",
   "execution_count": null,
   "id": "4255f5e6-d2f9-401c-9bcc-54439132aa9a",
   "metadata": {},
   "outputs": [],
   "source": []
  },
  {
   "cell_type": "code",
   "execution_count": null,
   "id": "324d3b96-c0b6-438f-9323-670616e6069e",
   "metadata": {},
   "outputs": [],
   "source": []
  },
  {
   "cell_type": "code",
   "execution_count": null,
   "id": "3",
   "metadata": {
    "tags": []
   },
   "outputs": [],
   "source": [
    "find /mnt/data/output -iwholename '*Freesurfer*/*.nii.gz' -type f"
   ]
  },
  {
   "cell_type": "code",
   "execution_count": null,
   "id": "4",
   "metadata": {
    "tags": []
   },
   "outputs": [],
   "source": [
    "shutil.copy?"
   ]
  },
  {
   "cell_type": "code",
   "execution_count": null,
   "id": "5",
   "metadata": {
    "tags": []
   },
   "outputs": [],
   "source": [
    "glob.glob?"
   ]
  },
  {
   "cell_type": "code",
   "execution_count": null,
   "id": "6",
   "metadata": {
    "tags": []
   },
   "outputs": [],
   "source": [
    "_files = glob.glob('C:/presentations/**', recursive=True)"
   ]
  },
  {
   "cell_type": "code",
   "execution_count": null,
   "id": "7",
   "metadata": {
    "tags": []
   },
   "outputs": [],
   "source": [
    "#_files"
   ]
  },
  {
   "cell_type": "code",
   "execution_count": null,
   "id": "8",
   "metadata": {
    "tags": []
   },
   "outputs": [],
   "source": [
    "for fileName_relative in glob.glob('C:/experimental', *, recursive=True):       ## first get full file name with directores using for loop\n",
    "\n",
    "    print(\"Full file name with directories: \", fileName_relative)"
   ]
  },
  {
   "cell_type": "code",
   "execution_count": null,
   "id": "9",
   "metadata": {},
   "outputs": [],
   "source": [
    "def find_surf_and_move(src, dst, filestring):\n",
    "    if not os.path.exists(dst):\n",
    "        os.mkdir(dst)\n",
    "    files = glob.glob(os.path.join(src,'**'), recursive=True)\n",
    "\n",
    "    # for path, subdirs, files in os.walk(src):\n",
    "    #     print(files)\n",
    "    #     for name in files:\n",
    "    #         if filestring in name:\n",
    "    #         #if fnmatch(name, pattern):\n",
    "    #             full_name = os.path.join(path, name)\n",
    "    #             #destination_folder = \n",
    "    #             print(name)\n",
    "\n",
    "                #shutil.copytree(real_name, dst)\n",
    "    \n",
    "    \n",
    "    \n",
    "    \n",
    "#     files = os.listdir()\n",
    "    \n",
    "#     if filestring is in file:\n",
    "        \n",
    "#     shutil.copytree(src, dst) "
   ]
  },
  {
   "cell_type": "code",
   "execution_count": null,
   "id": "10",
   "metadata": {
    "tags": []
   },
   "outputs": [],
   "source": [
    "find_surf_and_move(file_path, 'C:/experimental', 'cvasl')"
   ]
  },
  {
   "cell_type": "code",
   "execution_count": null,
   "id": "11",
   "metadata": {
    "tags": []
   },
   "outputs": [],
   "source": [
    "root = file_path\n",
    "#pattern = \"*.\"\n",
    "\n",
    "for path, subdirs, files in os.walk(root):\n",
    "    for name in files:\n",
    "        if 'cvasl' in name:\n",
    "            #if fnmatch(name, pattern):\n",
    "            print(os.path.join(path, name))"
   ]
  },
  {
   "cell_type": "code",
   "execution_count": null,
   "id": "12",
   "metadata": {},
   "outputs": [],
   "source": []
  }
 ],
 "metadata": {
  "kernelspec": {
   "display_name": "Python 3 (ipykernel)",
   "language": "python",
   "name": "python3"
  },
  "language_info": {
   "codemirror_mode": {
    "name": "ipython",
    "version": 3
   },
   "file_extension": ".py",
   "mimetype": "text/x-python",
   "name": "python",
   "nbconvert_exporter": "python",
   "pygments_lexer": "ipython3",
   "version": "3.11.9"
  }
 },
 "nbformat": 4,
 "nbformat_minor": 5
}
