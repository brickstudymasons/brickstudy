{
 "cells": [
  {
   "cell_type": "markdown",
   "id": "0",
   "metadata": {},
   "source": [
    "# Instructions for Freesurfer"
   ]
  },
  {
   "cell_type": "code",
   "execution_count": null,
   "id": "1",
   "metadata": {
    "tags": []
   },
   "outputs": [],
   "source": [
    "import os \n",
    "import shutil\n",
    "import glob"
   ]
  },
  {
   "cell_type": "code",
   "execution_count": null,
   "id": "2",
   "metadata": {
    "tags": []
   },
   "outputs": [],
   "source": [
    "import pandas as pd\n",
    "import numpy as np"
   ]
  },
  {
   "cell_type": "code",
   "execution_count": null,
   "id": "3",
   "metadata": {
    "tags": []
   },
   "outputs": [],
   "source": [
    "import matplotlib.pyplot as plt\n",
    "import seaborn as sns"
   ]
  },
  {
   "cell_type": "code",
   "execution_count": null,
   "id": "4",
   "metadata": {
    "tags": []
   },
   "outputs": [],
   "source": [
    "stats1 = pd.read_csv('../../secret_data/aseg_stats.txt', sep ='\\t')\n",
    "stats1"
   ]
  },
  {
   "cell_type": "code",
   "execution_count": null,
   "id": "5",
   "metadata": {
    "tags": []
   },
   "outputs": [],
   "source": [
    "stats2 = pd.read_csv('Z:/rr2/all/aseg_stats.txt', sep ='\\t')\n",
    "stats2"
   ]
  },
  {
   "cell_type": "code",
   "execution_count": null,
   "id": "6",
   "metadata": {
    "tags": []
   },
   "outputs": [],
   "source": [
    "total_stats = pd.concat([stats2, stats1])"
   ]
  },
  {
   "cell_type": "code",
   "execution_count": null,
   "id": "7",
   "metadata": {
    "tags": []
   },
   "outputs": [],
   "source": [
    "#total_stats.to_csv('../../secret_data/brain_volumes_from_freesurfer_no_qc.csv')"
   ]
  },
  {
   "cell_type": "code",
   "execution_count": null,
   "id": "8",
   "metadata": {
    "tags": []
   },
   "outputs": [],
   "source": [
    "total_stats.columns"
   ]
  },
  {
   "cell_type": "code",
   "execution_count": null,
   "id": "9",
   "metadata": {
    "tags": []
   },
   "outputs": [],
   "source": [
    "total_stats = total_stats.rename(columns= {'Measure:volume':'Participant ID'})\n",
    "total_stats['Participant ID'] = total_stats['Participant ID'].str.replace('/', '')"
   ]
  },
  {
   "cell_type": "code",
   "execution_count": null,
   "id": "10",
   "metadata": {
    "tags": []
   },
   "outputs": [],
   "source": [
    "total_stats.head(4)"
   ]
  },
  {
   "cell_type": "code",
   "execution_count": null,
   "id": "11",
   "metadata": {
    "tags": []
   },
   "outputs": [],
   "source": [
    "total_stats.to_csv('../../secret_data/brain_volumes_from_freesurfer_no_qc.csv')"
   ]
  },
  {
   "cell_type": "code",
   "execution_count": null,
   "id": "12",
   "metadata": {},
   "outputs": [],
   "source": [
    "#total"
   ]
  },
  {
   "cell_type": "code",
   "execution_count": null,
   "id": "13",
   "metadata": {
    "tags": []
   },
   "outputs": [],
   "source": [
    "total_stats_numeric = total_stats.drop(['Participant ID'], axis=1)\n",
    "total_stats_numeric.corr() \n",
    "#.corr()"
   ]
  },
  {
   "cell_type": "code",
   "execution_count": null,
   "id": "14",
   "metadata": {
    "tags": []
   },
   "outputs": [],
   "source": [
    "sns.heatmap(total_stats_numeric.corr(method='spearman', numeric_only=False))"
   ]
  },
  {
   "cell_type": "markdown",
   "id": "15",
   "metadata": {},
   "source": [
    "Let's ask if left and right correlate...or other things."
   ]
  },
  {
   "cell_type": "code",
   "execution_count": null,
   "id": "16",
   "metadata": {
    "tags": []
   },
   "outputs": [],
   "source": [
    "left_to_right = total_stats_numeric[['Left-Lateral-Ventricle', 'Left-Inf-Lat-Vent',\n",
    "       'Left-Cerebellum-White-Matter', 'Left-Cerebellum-Cortex',\n",
    "       'Left-Thalamus-Proper', 'Left-Caudate', 'Left-Putamen', 'Left-Pallidum',\n",
    "        'Left-Hippocampus',\n",
    "       'Left-Amygdala', 'Left-Accumbens-area', 'Left-VentralDC',\n",
    "       'Left-vessel', 'Left-choroid-plexus', 'Right-Lateral-Ventricle',\n",
    "       'Right-Inf-Lat-Vent', 'Right-Cerebellum-White-Matter',\n",
    "       'Right-Cerebellum-Cortex', 'Right-Thalamus-Proper', 'Right-Caudate',\n",
    "       'Right-Putamen', 'Right-Pallidum', 'Right-Hippocampus',\n",
    "       'Right-Amygdala', 'Right-Accumbens-area', 'Right-VentralDC',\n",
    "       'Right-vessel', 'Right-choroid-plexus', \n",
    "        'Left-WM-hypointensities',\n",
    "       'Right-WM-hypointensities', \n",
    "       'Left-non-WM-hypointensities', 'Right-non-WM-hypointensities',]]\n",
    "sns.heatmap(left_to_right.corr(method='spearman', numeric_only=False))"
   ]
  },
  {
   "cell_type": "markdown",
   "id": "17",
   "metadata": {},
   "source": [
    "Yes, left and right correlate. Now let's ask whether wmh increase with age...."
   ]
  },
  {
   "cell_type": "code",
   "execution_count": null,
   "id": "18",
   "metadata": {
    "tags": []
   },
   "outputs": [],
   "source": [
    "total_stats_numeric.columns"
   ]
  },
  {
   "cell_type": "code",
   "execution_count": null,
   "id": "19",
   "metadata": {
    "tags": []
   },
   "outputs": [],
   "source": [
    "total_stats"
   ]
  },
  {
   "cell_type": "code",
   "execution_count": null,
   "id": "20",
   "metadata": {
    "tags": []
   },
   "outputs": [],
   "source": [
    "wmh_info = total_stats[[ 'Participant ID','3rd-Ventricle', '4th-Ventricle', 'Brain-Stem', 'Left-Hippocampus',\n",
    "       'Left-Amygdala', 'CSF',  'Right-Lateral-Ventricle',\n",
    "       'Right-Inf-Lat-Vent', 'Right-Cerebellum-White-Matter',\n",
    "       'Right-Cerebellum-Cortex', 'Right-Thalamus-Proper', 'Right-Caudate',\n",
    "       'Right-Putamen',  'Right-Hippocampus',\n",
    "       'Right-Amygdala',\n",
    "       'Right-choroid-plexus',\n",
    "       'WM-hypointensities', ]]"
   ]
  },
  {
   "cell_type": "code",
   "execution_count": null,
   "id": "21",
   "metadata": {
    "tags": []
   },
   "outputs": [],
   "source": [
    "\n",
    "wmh_info['Participant ID'] = wmh_info['Participant ID'].astype(str)\n",
    "wmh_info['Participant ID'] = wmh_info['Participant ID'].str.replace(\"-\", \"_\")\n",
    "wmh_info"
   ]
  },
  {
   "cell_type": "code",
   "execution_count": null,
   "id": "22",
   "metadata": {
    "tags": []
   },
   "outputs": [],
   "source": [
    "for_sheet_names = pd.ExcelFile(\"../../secret_data/BRICK_datums_scans_clean_17072024_versie_2.xlsx\")\n",
    "sheet_names = for_sheet_names.sheet_names\n",
    "print(sheet_names)"
   ]
  },
  {
   "cell_type": "code",
   "execution_count": null,
   "id": "23",
   "metadata": {
    "tags": []
   },
   "outputs": [],
   "source": [
    "demo_kit = '../../secret_data/BRICK_datums_scans_clean_17072024_versie_2.xlsx'\n",
    "demography = pd.read_excel('../../secret_data/BRICK_datums_scans_clean_17072024_versie_2.xlsx', sheet_name='Dag van MRI+NPO overzicht ')\n",
    "demography['Participant ID'] = demography['BRICK-nummer']\n",
    "demography = demography[['Participant ID','Genotype', 'Leeftijd_bij_scan']]\n",
    "demography"
   ]
  },
  {
   "cell_type": "code",
   "execution_count": null,
   "id": "24",
   "metadata": {
    "tags": []
   },
   "outputs": [],
   "source": [
    "fused_demo_wh = demography.merge(wmh_info, on='Participant ID')\n",
    "fused_demo_wh.head(3)"
   ]
  },
  {
   "cell_type": "code",
   "execution_count": null,
   "id": "25",
   "metadata": {
    "tags": []
   },
   "outputs": [],
   "source": [
    "# Do wm-hypointensities increase with age or genotype?\n",
    "simple_question = fused_demo_wh[['Genotype', 'Leeftijd_bij_scan', 'WM-hypointensities']]\n",
    "# recode genotype to number\n",
    "simple_question['Genotype_code'] = simple_question['Genotype'].astype('category').cat.codes\n",
    "simple_question.to_csv('../../secret_data/forshow1.csv')\n"
   ]
  },
  {
   "cell_type": "code",
   "execution_count": null,
   "id": "26",
   "metadata": {
    "tags": []
   },
   "outputs": [],
   "source": [
    "simple_question_matrix= simple_question[['Genotype_code', 'Leeftijd_bij_scan', 'WM-hypointensities']]\n",
    "simple_question_matrix.corr(method='spearman').to_csv('../../secret_data/forshow2.csv')\n",
    "#simple_question_matrix.corr(method='spearman')"
   ]
  },
  {
   "cell_type": "code",
   "execution_count": null,
   "id": "27",
   "metadata": {},
   "outputs": [],
   "source": [
    "# OK, BUT DID IT matter for neuropsychological stuff?"
   ]
  },
  {
   "cell_type": "code",
   "execution_count": null,
   "id": "28",
   "metadata": {},
   "outputs": [],
   "source": []
  },
  {
   "cell_type": "code",
   "execution_count": null,
   "id": "29",
   "metadata": {
    "tags": []
   },
   "outputs": [],
   "source": [
    "WISC_V_BRICK_T0dd08042024 = pd.read_csv(\"../../secret_data/WISCV_export_gemstracker_BRICK_T0_100424.csv\", sep=\",\")"
   ]
  },
  {
   "cell_type": "code",
   "execution_count": null,
   "id": "30",
   "metadata": {
    "tags": []
   },
   "outputs": [],
   "source": [
    "WISC_V_BRICK_T0dd08042024.head()"
   ]
  },
  {
   "cell_type": "code",
   "execution_count": null,
   "id": "31",
   "metadata": {
    "tags": []
   },
   "outputs": [],
   "source": [
    "# for f in WISC_V_BRICK_T0dd08042024.columns:\n",
    "#     print(f)"
   ]
  },
  {
   "cell_type": "code",
   "execution_count": null,
   "id": "32",
   "metadata": {
    "tags": []
   },
   "outputs": [],
   "source": [
    "WISC_V_BRICK_T0dd08042024_for_castor = WISC_V_BRICK_T0dd08042024.rename(\n",
    "    columns={\"gr2o_patient_nr\": \"Participant Id\",\n",
    "             \"DatumWISCV\": \"Datum_WISC_V\",\n",
    "            \"StartWISCV\": \"Start_WISC_V\",\n",
    "            \"StopWISCV\": \"Stop_WISC_V\",\n",
    "            \"WISCVVolt\": \"WISC_V_voltooid\",\n",
    "            \"VolgordeWISC\":\"Volgorde_NPO_3\",\n",
    "            \"AfnemerWISCV\":\"Afnemer_WISC_V\",\n",
    "            \"WISCVOpm\": \"Opmerkingen_WISC_V\",\n",
    "            \"WISCVOpmUit\":\"Uitleg_Opmerkingen_WISC_V\",} )\n",
    "\n",
    "\n",
    " # colnames(WISCV_gemstracker)[colnames(WISCV_gemstracker) == \"gr2o_patient_nr\"] <- \"Participant Id\"\n",
    " # colnames(WISCV_gemstracker)[colnames(WISCV_gemstracker) == \"DatumWISCV\"] <- \"Datum_WISC_V\"\n",
    " # colnames(WISCV_gemstracker)[colnames(WISCV_gemstracker) == \"StartWISCV\"] <- \"Start_WISC_V\"\n",
    " # colnames(WISCV_gemstracker)[colnames(WISCV_gemstracker) == \"StopWISCV\"] <- \"Stop_WISC_V\"\n",
    " # colnames(WISCV_gemstracker)[colnames(WISCV_gemstracker) == \"WISCVVolt\"] <- \"WISC_V_voltooid\"\n",
    " # colnames(WISCV_gemstracker)[colnames(WISCV_gemstracker) == \"VolgordeWISC\"] <- \"Volgorde_NPO_3\"\n",
    " # colnames(WISCV_gemstracker)[colnames(WISCV_gemstracker) == \"AfnemerWISCV\"] <- \"Afnemer_WISC_V\"\n",
    " # colnames(WISCV_gemstracker)[colnames(WISCV_gemstracker) == \"WISCVOpm\"] <- \"Opmerkingen_WISC_V\"\n",
    " # colnames(WISCV_gemstracker)[colnames(WISCV_gemstracker) == \"WISCVOpmUit\"] <- \"Uitleg_Opmerkingen_WISC_V\""
   ]
  },
  {
   "cell_type": "code",
   "execution_count": null,
   "id": "33",
   "metadata": {
    "tags": []
   },
   "outputs": [],
   "source": [
    "WISC_V_BRICK_T0dd08042024_for_castor['BRICK_of_uitgebreid'] = 1\n",
    "WISC_V_BRICK_T0dd08042024_for_castor.head(3)"
   ]
  },
  {
   "cell_type": "code",
   "execution_count": null,
   "id": "34",
   "metadata": {
    "tags": []
   },
   "outputs": [],
   "source": [
    "len(WISC_V_BRICK_T0dd08042024_for_castor)"
   ]
  },
  {
   "cell_type": "code",
   "execution_count": null,
   "id": "35",
   "metadata": {
    "tags": []
   },
   "outputs": [],
   "source": [
    "len(WISC_V_BRICK_T0dd08042024_for_castor['Participant Id'].unique())"
   ]
  },
  {
   "cell_type": "code",
   "execution_count": null,
   "id": "36",
   "metadata": {
    "tags": []
   },
   "outputs": [],
   "source": [
    "scores_from_wisc = WISC_V_BRICK_T0dd08042024_for_castor[[\n",
    "    'Participant Id',\n",
    " 'WgITot',\n",
    "    'VsITot',\n",
    "    'KRITot',\n",
    "    'AWITot',\n",
    "    'NVITot',\n",
    "    'AVITot',\n",
    "    'CCITot',\n",
    "    'Tot',]]"
   ]
  },
  {
   "cell_type": "code",
   "execution_count": null,
   "id": "37",
   "metadata": {
    "tags": []
   },
   "outputs": [],
   "source": [
    "scores_from_wisc = scores_from_wisc.rename(columns={'Participant Id': 'Participant ID'})"
   ]
  },
  {
   "cell_type": "code",
   "execution_count": null,
   "id": "38",
   "metadata": {
    "tags": []
   },
   "outputs": [],
   "source": [
    "pd.merge?"
   ]
  },
  {
   "cell_type": "code",
   "execution_count": null,
   "id": "39",
   "metadata": {
    "tags": []
   },
   "outputs": [],
   "source": [
    "scores_from_wisc.columns"
   ]
  },
  {
   "cell_type": "code",
   "execution_count": null,
   "id": "40",
   "metadata": {
    "tags": []
   },
   "outputs": [],
   "source": [
    "#big_fuse = fused_demo_wh.merge(scores_from_wisc, on='Participant ID')\n",
    "big_fuse = pd.merge(fused_demo_wh,scores_from_wisc, left_on='Participant ID', right_on='Participant ID', how='outer')\n",
    "big_fuse.head(3)"
   ]
  },
  {
   "cell_type": "code",
   "execution_count": null,
   "id": "41",
   "metadata": {
    "tags": []
   },
   "outputs": [],
   "source": [
    "big_fuse_matrix = big_fuse[['Genotype','Leeftijd_bij_scan', 'Brain-Stem', 'Right-Hippocampus','Left-Hippocampus', 'Left-Amygdala',\n",
    "        'Right-Lateral-Ventricle', 'Right-Inf-Lat-Vent',\n",
    "       'Right-Cerebellum-White-Matter', 'Right-Cerebellum-Cortex',\n",
    "       'Right-Thalamus-Proper', 'Right-Caudate', 'Right-Putamen',\n",
    "        'Right-Amygdala', 'Right-choroid-plexus',\n",
    "       'WM-hypointensities', 'WgITot', 'VsITot', 'KRITot', 'AWITot', 'NVITot',\n",
    "       'AVITot', 'CCITot', 'Tot']]\n",
    "big_fuse_matrix['Genotype_code'] = big_fuse_matrix['Genotype'].astype('category').cat.codes\n",
    "big_fuse_matrix = big_fuse_matrix.drop(['Genotype'], axis=1)\n",
    "big_fuse_matrix.corr(method='spearman')#.to_csv('../../secret_data/forshow3.csv')"
   ]
  },
  {
   "cell_type": "code",
   "execution_count": null,
   "id": "42",
   "metadata": {},
   "outputs": [],
   "source": []
  },
  {
   "cell_type": "code",
   "execution_count": null,
   "id": "43",
   "metadata": {},
   "outputs": [],
   "source": []
  },
  {
   "cell_type": "markdown",
   "id": "44",
   "metadata": {
    "tags": []
   },
   "source": [
    "1. first use python to move files a few at a time."
   ]
  },
  {
   "cell_type": "code",
   "execution_count": null,
   "id": "45",
   "metadata": {},
   "outputs": [],
   "source": []
  },
  {
   "cell_type": "code",
   "execution_count": null,
   "id": "46",
   "metadata": {},
   "outputs": [],
   "source": []
  },
  {
   "cell_type": "code",
   "execution_count": null,
   "id": "47",
   "metadata": {},
   "outputs": [],
   "source": []
  },
  {
   "cell_type": "code",
   "execution_count": null,
   "id": "48",
   "metadata": {},
   "outputs": [],
   "source": []
  },
  {
   "cell_type": "code",
   "execution_count": null,
   "id": "49",
   "metadata": {
    "tags": []
   },
   "outputs": [],
   "source": [
    "find /mnt/data/output -iwholename '*Freesurfer*/*.nii.gz' -type f"
   ]
  },
  {
   "cell_type": "code",
   "execution_count": null,
   "id": "50",
   "metadata": {
    "tags": []
   },
   "outputs": [],
   "source": [
    "shutil.copy?"
   ]
  },
  {
   "cell_type": "code",
   "execution_count": null,
   "id": "51",
   "metadata": {
    "tags": []
   },
   "outputs": [],
   "source": [
    "glob.glob?"
   ]
  },
  {
   "cell_type": "code",
   "execution_count": null,
   "id": "52",
   "metadata": {
    "tags": []
   },
   "outputs": [],
   "source": [
    "_files = glob.glob('C:/presentations/**', recursive=True)"
   ]
  },
  {
   "cell_type": "code",
   "execution_count": null,
   "id": "53",
   "metadata": {
    "tags": []
   },
   "outputs": [],
   "source": [
    "#_files"
   ]
  },
  {
   "cell_type": "code",
   "execution_count": null,
   "id": "54",
   "metadata": {
    "tags": []
   },
   "outputs": [],
   "source": [
    "for fileName_relative in glob.glob('C:/experimental', *, recursive=True):       ## first get full file name with directores using for loop\n",
    "\n",
    "    print(\"Full file name with directories: \", fileName_relative)"
   ]
  },
  {
   "cell_type": "code",
   "execution_count": null,
   "id": "55",
   "metadata": {},
   "outputs": [],
   "source": [
    "def find_surf_and_move(src, dst, filestring):\n",
    "    if not os.path.exists(dst):\n",
    "        os.mkdir(dst)\n",
    "    files = glob.glob(os.path.join(src,'**'), recursive=True)\n",
    "\n",
    "    # for path, subdirs, files in os.walk(src):\n",
    "    #     print(files)\n",
    "    #     for name in files:\n",
    "    #         if filestring in name:\n",
    "    #         #if fnmatch(name, pattern):\n",
    "    #             full_name = os.path.join(path, name)\n",
    "    #             #destination_folder = \n",
    "    #             print(name)\n",
    "\n",
    "                #shutil.copytree(real_name, dst)\n",
    "    \n",
    "    \n",
    "    \n",
    "    \n",
    "#     files = os.listdir()\n",
    "    \n",
    "#     if filestring is in file:\n",
    "        \n",
    "#     shutil.copytree(src, dst) "
   ]
  },
  {
   "cell_type": "code",
   "execution_count": null,
   "id": "56",
   "metadata": {
    "tags": []
   },
   "outputs": [],
   "source": [
    "find_surf_and_move(file_path, 'C:/experimental', 'cvasl')"
   ]
  },
  {
   "cell_type": "code",
   "execution_count": null,
   "id": "57",
   "metadata": {
    "tags": []
   },
   "outputs": [],
   "source": [
    "root = file_path\n",
    "#pattern = \"*.\"\n",
    "\n",
    "for path, subdirs, files in os.walk(root):\n",
    "    for name in files:\n",
    "        if 'cvasl' in name:\n",
    "            #if fnmatch(name, pattern):\n",
    "            print(os.path.join(path, name))"
   ]
  },
  {
   "cell_type": "code",
   "execution_count": null,
   "id": "58",
   "metadata": {},
   "outputs": [],
   "source": []
  }
 ],
 "metadata": {
  "kernelspec": {
   "display_name": "Python 3 (ipykernel)",
   "language": "python",
   "name": "python3"
  },
  "language_info": {
   "codemirror_mode": {
    "name": "ipython",
    "version": 3
   },
   "file_extension": ".py",
   "mimetype": "text/x-python",
   "name": "python",
   "nbconvert_exporter": "python",
   "pygments_lexer": "ipython3",
   "version": "3.11.8"
  }
 },
 "nbformat": 4,
 "nbformat_minor": 5
}
