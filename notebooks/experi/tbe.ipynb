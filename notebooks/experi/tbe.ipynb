{
 "cells": [
  {
   "cell_type": "markdown",
   "id": "0",
   "metadata": {},
   "source": [
    "# Instructions for Freesurfer"
   ]
  },
  {
   "cell_type": "markdown",
   "id": "1",
   "metadata": {
    "tags": []
   },
   "source": [
    "1. first use python to move files a few at a time."
   ]
  },
  {
   "cell_type": "code",
   "execution_count": null,
   "id": "2",
   "metadata": {
    "tags": []
   },
   "outputs": [],
   "source": [
    "import os \n",
    "import shutil\n",
    "import glob"
   ]
  },
  {
   "cell_type": "code",
   "execution_count": null,
   "id": "3",
   "metadata": {},
   "outputs": [],
   "source": [
    "find /mnt/data/output -iwholename '*Freesurfer*/*.nii.gz' -type f"
   ]
  },
  {
   "cell_type": "code",
   "execution_count": null,
   "id": "4",
   "metadata": {
    "tags": []
   },
   "outputs": [],
   "source": [
    "shutil.copy?"
   ]
  },
  {
   "cell_type": "code",
   "execution_count": null,
   "id": "5",
   "metadata": {
    "tags": []
   },
   "outputs": [],
   "source": [
    "glob.glob?"
   ]
  },
  {
   "cell_type": "code",
   "execution_count": null,
   "id": "6",
   "metadata": {
    "tags": []
   },
   "outputs": [],
   "source": [
    "_files = glob.glob('C:/presentations/**', recursive=True)"
   ]
  },
  {
   "cell_type": "code",
   "execution_count": null,
   "id": "7",
   "metadata": {
    "tags": []
   },
   "outputs": [],
   "source": [
    "#_files"
   ]
  },
  {
   "cell_type": "code",
   "execution_count": null,
   "id": "8",
   "metadata": {
    "tags": []
   },
   "outputs": [],
   "source": [
    "for fileName_relative in glob.glob('C:/experimental', *, recursive=True):       ## first get full file name with directores using for loop\n",
    "\n",
    "    print(\"Full file name with directories: \", fileName_relative)"
   ]
  },
  {
   "cell_type": "code",
   "execution_count": null,
   "id": "9",
   "metadata": {},
   "outputs": [],
   "source": [
    "def find_surf_and_move(src, dst, filestring):\n",
    "    if not os.path.exists(dst):\n",
    "        os.mkdir(dst)\n",
    "    files = glob.glob(os.path.join(src,'**'), recursive=True)\n",
    "\n",
    "    # for path, subdirs, files in os.walk(src):\n",
    "    #     print(files)\n",
    "    #     for name in files:\n",
    "    #         if filestring in name:\n",
    "    #         #if fnmatch(name, pattern):\n",
    "    #             full_name = os.path.join(path, name)\n",
    "    #             #destination_folder = \n",
    "    #             print(name)\n",
    "\n",
    "                #shutil.copytree(real_name, dst)\n",
    "    \n",
    "    \n",
    "    \n",
    "    \n",
    "#     files = os.listdir()\n",
    "    \n",
    "#     if filestring is in file:\n",
    "        \n",
    "#     shutil.copytree(src, dst) "
   ]
  },
  {
   "cell_type": "code",
   "execution_count": null,
   "id": "10",
   "metadata": {
    "tags": []
   },
   "outputs": [],
   "source": [
    "find_surf_and_move(file_path, 'C:/experimental', 'cvasl')"
   ]
  },
  {
   "cell_type": "code",
   "execution_count": null,
   "id": "11",
   "metadata": {
    "tags": []
   },
   "outputs": [],
   "source": [
    "root = file_path\n",
    "#pattern = \"*.\"\n",
    "\n",
    "for path, subdirs, files in os.walk(root):\n",
    "    for name in files:\n",
    "        if 'cvasl' in name:\n",
    "            #if fnmatch(name, pattern):\n",
    "            print(os.path.join(path, name))"
   ]
  },
  {
   "cell_type": "code",
   "execution_count": null,
   "id": "12",
   "metadata": {},
   "outputs": [],
   "source": []
  }
 ],
 "metadata": {
  "kernelspec": {
   "display_name": "Python 3 (ipykernel)",
   "language": "python",
   "name": "python3"
  },
  "language_info": {
   "codemirror_mode": {
    "name": "ipython",
    "version": 3
   },
   "file_extension": ".py",
   "mimetype": "text/x-python",
   "name": "python",
   "nbconvert_exporter": "python",
   "pygments_lexer": "ipython3",
   "version": "3.11.8"
  }
 },
 "nbformat": 4,
 "nbformat_minor": 5
}
