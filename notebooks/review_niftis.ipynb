{
 "cells": [
  {
   "cell_type": "markdown",
   "id": "98b0aff5-3d4f-4cd5-af72-539c1f518b4d",
   "metadata": {},
   "source": [
    "# Example Nifti"
   ]
  },
  {
   "cell_type": "code",
   "execution_count": null,
   "id": "6090d269-434c-4f11-9dbb-5af1266921a6",
   "metadata": {
    "tags": []
   },
   "outputs": [],
   "source": [
    "import nibabel as nib\n",
    "import matplotlib.pyplot as plt \n",
    "import sys\n",
    "\n",
    "sys.path.insert(0, '../')\n",
    "from brickstudy import foundation"
   ]
  },
  {
   "cell_type": "code",
   "execution_count": null,
   "id": "c1e4dac6-b317-4a2d-8c69-964e156d6881",
   "metadata": {
    "tags": []
   },
   "outputs": [],
   "source": [
    "!pwd"
   ]
  },
  {
   "cell_type": "code",
   "execution_count": null,
   "id": "11dbb008-b074-48ab-90e7-0dcba75bde7b",
   "metadata": {
    "tags": []
   },
   "outputs": [],
   "source": [
    "image_string = \"Z:/output/transfer_2217763_files_3b695c8d/BRICK-001/BRICK-001/20220620/MR/Sag_CUBE_FLAIR_FS_R1.0x1.2_selRF/006_Sag_CUBE_FLAIR_FS_R1.0x1.2_selRF_Sag_CUBE_FLAIR_FS_R1.0x1.2_selRF_20220620000000.nii.gz\"\n",
    "\n",
    "#Z:\\output\\transfer_2217763_files_3b695c8d\\BRICK-001\\BRICK-001\\20220620\\MR\\Sag_CUBE_FLAIR_FS_R1.0x1.2_selRF"
   ]
  },
  {
   "cell_type": "code",
   "execution_count": null,
   "id": "e7d88fab-d796-4eb7-b104-4d56a71e14c5",
   "metadata": {
    "tags": []
   },
   "outputs": [],
   "source": [
    "foundation.NiftiSliceViewer(image_string)"
   ]
  },
  {
   "cell_type": "code",
   "execution_count": null,
   "id": "872f1e53-6c94-4762-841b-81b5b0041e8b",
   "metadata": {
    "tags": []
   },
   "outputs": [],
   "source": [
    "t1_img = nib.load(image_string)\n"
   ]
  },
  {
   "cell_type": "code",
   "execution_count": null,
   "id": "aff757dd-ef35-4247-9de7-d7052e8d120a",
   "metadata": {
    "tags": []
   },
   "outputs": [],
   "source": [
    "\n",
    "t1_img"
   ]
  },
  {
   "cell_type": "code",
   "execution_count": null,
   "id": "2c0525f9-fbe4-4dbd-a461-2966d788b35a",
   "metadata": {
    "tags": []
   },
   "outputs": [],
   "source": [
    "t1_hdr = t1_img.header\n",
    "print(t1_hdr)"
   ]
  },
  {
   "cell_type": "code",
   "execution_count": null,
   "id": "b70d9cef-ced5-4333-a850-d3aca6ddcbe4",
   "metadata": {
    "tags": []
   },
   "outputs": [],
   "source": [
    "t1_hdr.keys()"
   ]
  },
  {
   "cell_type": "code",
   "execution_count": null,
   "id": "9647d254-3a2f-4b6b-95c2-700b7cc4a92a",
   "metadata": {
    "tags": []
   },
   "outputs": [],
   "source": [
    "t1_hdr['magic']"
   ]
  },
  {
   "cell_type": "code",
   "execution_count": null,
   "id": "7addfb3b-7081-4b83-a233-0454f0817181",
   "metadata": {
    "tags": []
   },
   "outputs": [],
   "source": [
    "t1_data = t1_img.get_fdata()\n",
    "t1_data"
   ]
  },
  {
   "cell_type": "code",
   "execution_count": null,
   "id": "4286aa3b-a4f2-44d4-bf75-72fef73f9e97",
   "metadata": {
    "tags": []
   },
   "outputs": [],
   "source": [
    "t1_data.shape"
   ]
  },
  {
   "cell_type": "code",
   "execution_count": null,
   "id": "bafcf916-9486-4ae5-bcd4-1f658b02b512",
   "metadata": {
    "tags": []
   },
   "outputs": [],
   "source": [
    "x_slice = t1_data[13, :, :]"
   ]
  },
  {
   "cell_type": "code",
   "execution_count": null,
   "id": "1fa3ec5f-53fe-4371-a231-e92363aa5aae",
   "metadata": {
    "tags": []
   },
   "outputs": [],
   "source": [
    "x_slice"
   ]
  },
  {
   "cell_type": "code",
   "execution_count": null,
   "id": "921c8bcc-0aa3-4ee1-92a1-6afb62e59d5c",
   "metadata": {
    "tags": []
   },
   "outputs": [],
   "source": [
    "z_slice = t1_data[:, :, 2]"
   ]
  },
  {
   "cell_type": "code",
   "execution_count": null,
   "id": "02b4119b-6183-419c-8cdb-32a5efb267e0",
   "metadata": {
    "tags": []
   },
   "outputs": [],
   "source": [
    "y_slice  = t1_data[:, 19, :]"
   ]
  },
  {
   "cell_type": "code",
   "execution_count": null,
   "id": "46ac64d5-0bd2-4c01-ad33-36ce8293bd3e",
   "metadata": {
    "tags": []
   },
   "outputs": [],
   "source": [
    "%matplotlib inline\n",
    "\n",
    "slices = [x_slice, y_slice, z_slice]\n",
    "\n",
    "fig, axes = plt.subplots(1, len(slices))\n",
    "for i, slice in enumerate(slices):\n",
    "    axes[i].imshow(slice.T, cmap=\"gray\", origin=\"lower\")"
   ]
  },
  {
   "cell_type": "code",
   "execution_count": null,
   "id": "fd7b2044-bed0-41f2-aa47-12dc35dea2a9",
   "metadata": {},
   "outputs": [],
   "source": []
  }
 ],
 "metadata": {
  "kernelspec": {
   "display_name": "Python 3 (ipykernel)",
   "language": "python",
   "name": "python3"
  },
  "language_info": {
   "codemirror_mode": {
    "name": "ipython",
    "version": 3
   },
   "file_extension": ".py",
   "mimetype": "text/x-python",
   "name": "python",
   "nbconvert_exporter": "python",
   "pygments_lexer": "ipython3",
   "version": "3.11.8"
  }
 },
 "nbformat": 4,
 "nbformat_minor": 5
}
