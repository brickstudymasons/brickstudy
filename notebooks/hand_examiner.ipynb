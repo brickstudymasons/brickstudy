{
 "cells": [
  {
   "cell_type": "markdown",
   "id": "0",
   "metadata": {
    "tags": []
   },
   "source": [
    "# Hand examining images from PCASL- which were sent to analysis"
   ]
  },
  {
   "cell_type": "code",
   "execution_count": null,
   "id": "1",
   "metadata": {
    "tags": []
   },
   "outputs": [],
   "source": [
    "import pandas as pd \n",
    "import matplotlib.pyplot as plt \n",
    "import numpy as np\n",
    "import re"
   ]
  },
  {
   "cell_type": "code",
   "execution_count": null,
   "id": "2",
   "metadata": {
    "tags": []
   },
   "outputs": [],
   "source": [
    "import nibabel as nib"
   ]
  },
  {
   "cell_type": "code",
   "execution_count": null,
   "id": "3",
   "metadata": {
    "tags": []
   },
   "outputs": [],
   "source": [
    "import glob\n",
    "import os"
   ]
  },
  {
   "cell_type": "code",
   "execution_count": null,
   "id": "4",
   "metadata": {
    "tags": []
   },
   "outputs": [],
   "source": [
    "prefix = os.path.dirname(os.getcwd())"
   ]
  },
  {
   "cell_type": "code",
   "execution_count": null,
   "id": "5",
   "metadata": {
    "tags": []
   },
   "outputs": [],
   "source": [
    "file_path =  os.path.join(prefix, \"pcasl_festival/json_holder_1/\")"
   ]
  },
  {
   "cell_type": "code",
   "execution_count": null,
   "id": "6",
   "metadata": {
    "tags": []
   },
   "outputs": [],
   "source": [
    "file1 = os.path.join(file_path, \"001.nii.gz\")\n",
    "file2 = os.path.join(file_path, \"002.nii.gz\")\n",
    "file3 = os.path.join(file_path, \"003.nii.gz\")\n",
    "file4 = os.path.join(file_path, \"004.nii.gz\")"
   ]
  },
  {
   "cell_type": "code",
   "execution_count": null,
   "id": "7",
   "metadata": {
    "tags": []
   },
   "outputs": [],
   "source": [
    "loaded1 = nib.load(file1)\n",
    "loaded_object1 = loaded1.dataobj\n",
    "loaded2 = nib.load(file2)\n",
    "loaded_object2 = loaded2.dataobj\n",
    "loaded3 = nib.load(file3)\n",
    "loaded_object3 = loaded3.dataobj\n",
    "loaded4 = nib.load(file4)\n",
    "loaded_object4 = loaded4.dataobj\n",
    "plt.figure(figsize=(16,16))\n",
    "f, ax =plt.subplots(4,4)\n",
    "ax[0,0].imshow(loaded_object1[:,:,6,0], cmap='grey')\n",
    "ax[0,1].imshow(loaded_object1[:,:,6,1], cmap='grey')\n",
    "ax[0,2].imshow(loaded_object1[:,:,6,2], cmap='grey')\n",
    "ax[0,3].imshow(loaded_object1[:,:,6,3], cmap='grey')\n",
    "ax[0,0].set_title('001')\n",
    "ax[1,0].imshow(loaded_object2[:,:,6,0], cmap='grey')\n",
    "ax[1,1].imshow(loaded_object2[:,:,6,1], cmap='grey')\n",
    "ax[1,2].imshow(loaded_object2[:,:,6,2], cmap='grey')\n",
    "ax[1,3].imshow(loaded_object2[:,:,6,3], cmap='grey')\n",
    "ax[1,0].set_title('002')\n",
    "ax[2,0].imshow(loaded_object3[:,:,6,0], cmap='grey')\n",
    "ax[2,1].imshow(loaded_object3[:,:,6,1], cmap='grey')\n",
    "ax[2,2].imshow(loaded_object3[:,:,6,2], cmap='grey')\n",
    "ax[2,3].imshow(loaded_object3[:,:,6,3], cmap='grey')\n",
    "ax[2,0].set_title('003')\n",
    "ax[3,0].imshow(loaded_object4[:,:,6,0], cmap='grey')\n",
    "ax[3,1].imshow(loaded_object4[:,:,6,1], cmap='grey')\n",
    "ax[3,2].imshow(loaded_object4[:,:,6,2], cmap='grey')\n",
    "ax[3,3].imshow(loaded_object4[:,:,6,3], cmap='grey')\n",
    "ax[3,0].set_title('004')"
   ]
  },
  {
   "cell_type": "code",
   "execution_count": null,
   "id": "8",
   "metadata": {
    "tags": []
   },
   "outputs": [],
   "source": [
    "loaded2 = nib.load(file2)\n",
    "loaded_object2 = loaded2.dataobj\n",
    "plt.figure()\n",
    "f, ax =plt.subplots(1,4)\n",
    "ax[0].imshow(loaded_object2[:,:,0,0], cmap='grey')\n",
    "ax[1].imshow(loaded_object2[:,:,0,1], cmap='grey')\n",
    "ax[2].imshow(loaded_object2[:,:,0,2], cmap='grey')\n",
    "ax[3].imshow(loaded_object2[:,:,0,3], cmap='grey')"
   ]
  },
  {
   "cell_type": "code",
   "execution_count": null,
   "id": "9",
   "metadata": {
    "tags": []
   },
   "outputs": [],
   "source": []
  },
  {
   "cell_type": "code",
   "execution_count": null,
   "id": "10",
   "metadata": {
    "tags": []
   },
   "outputs": [],
   "source": [
    "# now examining which files had just \n"
   ]
  },
  {
   "cell_type": "code",
   "execution_count": null,
   "id": "11",
   "metadata": {
    "tags": []
   },
   "outputs": [],
   "source": [
    "# base_path = \"/mnt/data/MRIs/transfer_2217763_files_3b695c8d\"\n",
    "# folders = glob.glob(os.path.join(base_path, '**', 'MR'), recursive=True)\n",
    "# #print(folders)"
   ]
  },
  {
   "cell_type": "code",
   "execution_count": null,
   "id": "12",
   "metadata": {
    "tags": []
   },
   "outputs": [],
   "source": [
    "#print(os.path.join(base_path, '**', 'MR'))"
   ]
  },
  {
   "cell_type": "code",
   "execution_count": null,
   "id": "13",
   "metadata": {
    "tags": []
   },
   "outputs": [],
   "source": [
    "folder_names = []\n",
    "eASLs = []\n",
    "NOT_DIAGNOSTIC_CBF_eASL_3_delays = []\n",
    "for folder in folders:\n",
    "    if os.path.isdir(os.path.join(folder, 'eASL_3_delays')):\n",
    "        folder_names.append((folder[46:]))\n",
    "        eASLs.append('exists')\n",
    "    else:\n",
    "        folder_names.append(folder)\n",
    "        eASLs.append('NO exists')\n",
    "        \n",
    "    if os.path.isdir(os.path.join(folder, 'NOT_DIAGNOSTIC_(CBF)_eASL_3_delays')): \n",
    "        NOT_DIAGNOSTIC_CBF_eASL_3_delays.append('exists')\n",
    "    else:\n",
    "        NOT_DIAGNOSTIC_CBF_eASL_3_delays.append('NOT exists')\n",
    "data = {'folder':folder_names, 'basic_ASL':eASLs,'NOT_DIAGNOSTIC_CBF_eASL_3_delays': NOT_DIAGNOSTIC_CBF_eASL_3_delays}\n",
    "frame =pd.DataFrame(data)\n",
    "frame"
   ]
  },
  {
   "cell_type": "code",
   "execution_count": null,
   "id": "14",
   "metadata": {
    "tags": []
   },
   "outputs": [],
   "source": [
    "import re\n",
    "\n",
    "def brick_id(col):\n",
    "    return re.sub(r'.*/BRICK-(\\d\\d\\d)/.*', r'\\1', col['asls'])\n",
    "\n",
    "def extra_asl(directory):\n",
    "    def thunk(col):\n",
    "        if os.path.isdir(os.path.join(col['asls'], directory)):\n",
    "            return 'present'\n",
    "        else:\n",
    "            return 'missing'\n",
    "    return thunk\n",
    "\n",
    "extras = {\n",
    "    'base_file':'eASL_3_delays',\n",
    "    'extra1': 'NOT_DIAGNOSTIC_(CBF)_eASL_3_delays',\n",
    "    'extra2': 'NOT_DIAGNOSTIC_(Raw)_eASL_3_delays',\n",
    "    'extra3': 'NOT_DIAGNOSTIC_(Transit_corrected_CBF)_eASL_3_delays',\n",
    "    'extra4': 'NOT_DIAGNOSTIC_(Transit_delay)_eASL_3_delays',\n",
    "    'extra5': 'NOT_DIAGNOSTIC_(color_CBF)_eASL_3_delays',\n",
    "    'extra6': 'NOT_DIAGNOSTIC_(color_Transit_corrected_CBF)_eASL_3_delays',\n",
    "    'extra7': 'NOT_DIAGNOSTIC_(color_Transit_delay)_eASL_3_delays',\n",
    "}\n",
    "\n",
    "asls = pd.DataFrame({'asls': folders})\n",
    "asls['bricks'] = asls.apply(brick_id, axis=1)\n",
    "\n",
    "for k, v in extras.items():\n",
    "    asls[k] = asls.apply(extra_asl(v), axis=1)\n",
    "asls.to_csv('../secret_data/what_is_missing.csv')"
   ]
  },
  {
   "cell_type": "code",
   "execution_count": null,
   "id": "15",
   "metadata": {},
   "outputs": [],
   "source": [
    "Brick 1, 2, 3, 4, 7 -21, 23, 24, 25*, 27,28,31,32,33,35, "
   ]
  },
  {
   "cell_type": "code",
   "execution_count": null,
   "id": "16",
   "metadata": {},
   "outputs": [],
   "source": []
  },
  {
   "cell_type": "code",
   "execution_count": null,
   "id": "17",
   "metadata": {},
   "outputs": [],
   "source": []
  }
 ],
 "metadata": {
  "kernelspec": {
   "display_name": "Python 3 (ipykernel)",
   "language": "python",
   "name": "python3"
  },
  "language_info": {
   "codemirror_mode": {
    "name": "ipython",
    "version": 3
   },
   "file_extension": ".py",
   "mimetype": "text/x-python",
   "name": "python",
   "nbconvert_exporter": "python",
   "pygments_lexer": "ipython3",
   "version": "3.11.9"
  }
 },
 "nbformat": 4,
 "nbformat_minor": 5
}
