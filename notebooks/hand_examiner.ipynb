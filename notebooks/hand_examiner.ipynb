{
 "cells": [
  {
   "cell_type": "markdown",
   "id": "7ef53182-fcb2-47c9-a4f0-e27c50e0501e",
   "metadata": {
    "tags": []
   },
   "source": [
    "# Hand examining images from PCASL- which were sent to analysis"
   ]
  },
  {
   "cell_type": "code",
   "execution_count": null,
   "id": "4ec73eba-3323-4390-89a8-d2b709663360",
   "metadata": {
    "tags": []
   },
   "outputs": [],
   "source": [
    "import pandas as pd \n",
    "import matplotlib.pyplot as plt \n",
    "import numpy as np\n",
    "import re"
   ]
  },
  {
   "cell_type": "code",
   "execution_count": null,
   "id": "317c2416-6b1e-44d0-a4f7-4ea2a84c1118",
   "metadata": {
    "tags": []
   },
   "outputs": [],
   "source": [
    "import nibabel as nib"
   ]
  },
  {
   "cell_type": "code",
   "execution_count": null,
   "id": "03759e4f-0539-4344-9490-c788a4e1ff93",
   "metadata": {
    "tags": []
   },
   "outputs": [],
   "source": [
    "import glob\n",
    "import os"
   ]
  },
  {
   "cell_type": "code",
   "execution_count": null,
   "id": "debf12aa-d5c3-4992-a7ec-6175199a32c6",
   "metadata": {
    "tags": []
   },
   "outputs": [],
   "source": [
    "prefix = os.path.dirname(os.getcwd())"
   ]
  },
  {
   "cell_type": "code",
   "execution_count": null,
   "id": "c74f2552-0cc3-4b10-9b68-17f3d332d777",
   "metadata": {
    "tags": []
   },
   "outputs": [],
   "source": [
    "file_path =  os.path.join(prefix, \"pcasl_festival/json_holder_1/\")"
   ]
  },
  {
   "cell_type": "code",
   "execution_count": null,
   "id": "5ff18970-dd7f-4932-a8a4-15ae2b6fae37",
   "metadata": {
    "tags": []
   },
   "outputs": [],
   "source": [
    "file1 = os.path.join(file_path, \"001.nii.gz\")\n",
    "file2 = os.path.join(file_path, \"002.nii.gz\")\n",
    "file3 = os.path.join(file_path, \"003.nii.gz\")\n",
    "file4 = os.path.join(file_path, \"004.nii.gz\")"
   ]
  },
  {
   "cell_type": "code",
   "execution_count": null,
   "id": "5b0a72b7-9cdb-471e-999c-b99d265f81ab",
   "metadata": {
    "tags": []
   },
   "outputs": [],
   "source": [
    "loaded1 = nib.load(file1)\n",
    "loaded_object1 = loaded1.dataobj\n",
    "loaded2 = nib.load(file2)\n",
    "loaded_object2 = loaded2.dataobj\n",
    "loaded3 = nib.load(file3)\n",
    "loaded_object3 = loaded3.dataobj\n",
    "loaded4 = nib.load(file4)\n",
    "loaded_object4 = loaded4.dataobj\n",
    "plt.figure(figsize=(16,16))\n",
    "f, ax =plt.subplots(4,4)\n",
    "ax[0,0].imshow(loaded_object1[:,:,6,0], cmap='grey')\n",
    "ax[0,1].imshow(loaded_object1[:,:,6,1], cmap='grey')\n",
    "ax[0,2].imshow(loaded_object1[:,:,6,2], cmap='grey')\n",
    "ax[0,3].imshow(loaded_object1[:,:,6,3], cmap='grey')\n",
    "ax[0,0].set_title('001')\n",
    "ax[1,0].imshow(loaded_object2[:,:,6,0], cmap='grey')\n",
    "ax[1,1].imshow(loaded_object2[:,:,6,1], cmap='grey')\n",
    "ax[1,2].imshow(loaded_object2[:,:,6,2], cmap='grey')\n",
    "ax[1,3].imshow(loaded_object2[:,:,6,3], cmap='grey')\n",
    "ax[1,0].set_title('002')\n",
    "ax[2,0].imshow(loaded_object3[:,:,6,0], cmap='grey')\n",
    "ax[2,1].imshow(loaded_object3[:,:,6,1], cmap='grey')\n",
    "ax[2,2].imshow(loaded_object3[:,:,6,2], cmap='grey')\n",
    "ax[2,3].imshow(loaded_object3[:,:,6,3], cmap='grey')\n",
    "ax[2,0].set_title('003')\n",
    "ax[3,0].imshow(loaded_object4[:,:,6,0], cmap='grey')\n",
    "ax[3,1].imshow(loaded_object4[:,:,6,1], cmap='grey')\n",
    "ax[3,2].imshow(loaded_object4[:,:,6,2], cmap='grey')\n",
    "ax[3,3].imshow(loaded_object4[:,:,6,3], cmap='grey')\n",
    "ax[3,0].set_title('004')"
   ]
  },
  {
   "cell_type": "code",
   "execution_count": null,
   "id": "7f7b93f1-63f1-4b20-977a-0e4a35996f54",
   "metadata": {
    "tags": []
   },
   "outputs": [],
   "source": [
    "loaded2 = nib.load(file2)\n",
    "loaded_object2 = loaded2.dataobj\n",
    "plt.figure()\n",
    "f, ax =plt.subplots(1,4)\n",
    "ax[0].imshow(loaded_object2[:,:,0,0], cmap='grey')\n",
    "ax[1].imshow(loaded_object2[:,:,0,1], cmap='grey')\n",
    "ax[2].imshow(loaded_object2[:,:,0,2], cmap='grey')\n",
    "ax[3].imshow(loaded_object2[:,:,0,3], cmap='grey')"
   ]
  },
  {
   "cell_type": "code",
   "execution_count": null,
   "id": "8d3ff31b-2540-4d3c-a36a-6178ef806706",
   "metadata": {
    "tags": []
   },
   "outputs": [],
   "source": []
  },
  {
   "cell_type": "code",
   "execution_count": null,
   "id": "54c25b37-fc22-4dd2-90dc-943042a53ae8",
   "metadata": {
    "tags": []
   },
   "outputs": [],
   "source": [
    "# now examining which files had just \n"
   ]
  },
  {
   "cell_type": "code",
   "execution_count": null,
   "id": "65a33358-fc99-447d-99e2-3d71d7c62aa5",
   "metadata": {
    "tags": []
   },
   "outputs": [],
   "source": [
    "# base_path = \"/mnt/data/MRIs/transfer_2217763_files_3b695c8d\"\n",
    "# folders = glob.glob(os.path.join(base_path, '**', 'MR'), recursive=True)\n",
    "# #print(folders)"
   ]
  },
  {
   "cell_type": "code",
   "execution_count": null,
   "id": "cfd94719-9836-44e3-9975-49db68479c94",
   "metadata": {
    "tags": []
   },
   "outputs": [],
   "source": [
    "#print(os.path.join(base_path, '**', 'MR'))"
   ]
  },
  {
   "cell_type": "code",
   "execution_count": null,
   "id": "0bdc8af4-51f6-41b5-a29d-cda6832b7ffe",
   "metadata": {
    "tags": []
   },
   "outputs": [],
   "source": [
    "folder_names = []\n",
    "eASLs = []\n",
    "NOT_DIAGNOSTIC_CBF_eASL_3_delays = []\n",
    "for folder in folders:\n",
    "    if os.path.isdir(os.path.join(folder, 'eASL_3_delays')):\n",
    "        folder_names.append((folder[46:]))\n",
    "        eASLs.append('exists')\n",
    "    else:\n",
    "        folder_names.append(folder)\n",
    "        eASLs.append('NO exists')\n",
    "        \n",
    "    if os.path.isdir(os.path.join(folder, 'NOT_DIAGNOSTIC_(CBF)_eASL_3_delays')): \n",
    "        NOT_DIAGNOSTIC_CBF_eASL_3_delays.append('exists')\n",
    "    else:\n",
    "        NOT_DIAGNOSTIC_CBF_eASL_3_delays.append('NOT exists')\n",
    "data = {'folder':folder_names, 'basic_ASL':eASLs,'NOT_DIAGNOSTIC_CBF_eASL_3_delays': NOT_DIAGNOSTIC_CBF_eASL_3_delays}\n",
    "frame =pd.DataFrame(data)\n",
    "frame"
   ]
  },
  {
   "cell_type": "code",
   "execution_count": null,
   "id": "370647a2-9f36-4aaf-a1f3-157d1b17e328",
   "metadata": {
    "tags": []
   },
   "outputs": [],
   "source": [
    "import re\n",
    "\n",
    "def brick_id(col):\n",
    "    return re.sub(r'.*/BRICK-(\\d\\d\\d)/.*', r'\\1', col['asls'])\n",
    "\n",
    "def extra_asl(directory):\n",
    "    def thunk(col):\n",
    "        if os.path.isdir(os.path.join(col['asls'], directory)):\n",
    "            return 'present'\n",
    "        else:\n",
    "            return 'missing'\n",
    "    return thunk\n",
    "\n",
    "extras = {\n",
    "    'base_file':'eASL_3_delays',\n",
    "    'extra1': 'NOT_DIAGNOSTIC_(CBF)_eASL_3_delays',\n",
    "    'extra2': 'NOT_DIAGNOSTIC_(Raw)_eASL_3_delays',\n",
    "    'extra3': 'NOT_DIAGNOSTIC_(Transit_corrected_CBF)_eASL_3_delays',\n",
    "    'extra4': 'NOT_DIAGNOSTIC_(Transit_delay)_eASL_3_delays',\n",
    "    'extra5': 'NOT_DIAGNOSTIC_(color_CBF)_eASL_3_delays',\n",
    "    'extra6': 'NOT_DIAGNOSTIC_(color_Transit_corrected_CBF)_eASL_3_delays',\n",
    "    'extra7': 'NOT_DIAGNOSTIC_(color_Transit_delay)_eASL_3_delays',\n",
    "}\n",
    "\n",
    "asls = pd.DataFrame({'asls': folders})\n",
    "asls['bricks'] = asls.apply(brick_id, axis=1)\n",
    "\n",
    "for k, v in extras.items():\n",
    "    asls[k] = asls.apply(extra_asl(v), axis=1)\n",
    "asls.to_csv('../secret_data/what_is_missing.csv')"
   ]
  },
  {
   "cell_type": "code",
   "execution_count": null,
   "id": "d04daffd-179f-4fa3-ad99-ca014a6bf18f",
   "metadata": {},
   "outputs": [],
   "source": [
    "Brick 1, 2, 3, 4, 7 -21, 23, 24, 25*, 27,28,31,32,33,35, "
   ]
  },
  {
   "cell_type": "code",
   "execution_count": null,
   "id": "c314dfc7-0390-4c75-a783-4d4f4141e19b",
   "metadata": {},
   "outputs": [],
   "source": []
  },
  {
   "cell_type": "code",
   "execution_count": null,
   "id": "d6bcfe27-97ee-4108-afbd-6ff9765cafec",
   "metadata": {},
   "outputs": [],
   "source": []
  }
 ],
 "metadata": {
  "kernelspec": {
   "display_name": "Python 3 (ipykernel)",
   "language": "python",
   "name": "python3"
  },
  "language_info": {
   "codemirror_mode": {
    "name": "ipython",
    "version": 3
   },
   "file_extension": ".py",
   "mimetype": "text/x-python",
   "name": "python",
   "nbconvert_exporter": "python",
   "pygments_lexer": "ipython3",
   "version": "3.11.9"
  }
 },
 "nbformat": 4,
 "nbformat_minor": 5
}
