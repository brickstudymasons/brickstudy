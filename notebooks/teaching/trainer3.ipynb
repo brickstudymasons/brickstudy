{
 "cells": [
  {
   "cell_type": "markdown",
   "id": "0",
   "metadata": {},
   "source": [
    "# this is a demo to get you more familiar with how to merge tabular data"
   ]
  },
  {
   "cell_type": "code",
   "execution_count": 2,
   "id": "1",
   "metadata": {
    "tags": []
   },
   "outputs": [],
   "source": [
    "import os\n",
    "import sys\n",
    "from functools import reduce\n",
    "import pandas as pd\n",
    "import numpy as np\n",
    "sys.path.insert(0, '../../')\n",
    "#from brickstudy import foundation"
   ]
  },
  {
   "cell_type": "code",
   "execution_count": 50,
   "id": "2",
   "metadata": {
    "tags": []
   },
   "outputs": [
    {
     "data": {
      "text/html": [
       "<div>\n",
       "<style scoped>\n",
       "    .dataframe tbody tr th:only-of-type {\n",
       "        vertical-align: middle;\n",
       "    }\n",
       "\n",
       "    .dataframe tbody tr th {\n",
       "        vertical-align: top;\n",
       "    }\n",
       "\n",
       "    .dataframe thead th {\n",
       "        text-align: right;\n",
       "    }\n",
       "</style>\n",
       "<table border=\"1\" class=\"dataframe\">\n",
       "  <thead>\n",
       "    <tr style=\"text-align: right;\">\n",
       "      <th></th>\n",
       "      <th>Name</th>\n",
       "      <th>Age</th>\n",
       "      <th>Systolic_BP</th>\n",
       "      <th>Diastolic_BP</th>\n",
       "      <th>some_ratio</th>\n",
       "    </tr>\n",
       "  </thead>\n",
       "  <tbody>\n",
       "    <tr>\n",
       "      <th>0</th>\n",
       "      <td>frank</td>\n",
       "      <td>11</td>\n",
       "      <td>141</td>\n",
       "      <td>90</td>\n",
       "      <td>1.2</td>\n",
       "    </tr>\n",
       "    <tr>\n",
       "      <th>1</th>\n",
       "      <td>sushi</td>\n",
       "      <td>15</td>\n",
       "      <td>123</td>\n",
       "      <td>90</td>\n",
       "      <td>1.5</td>\n",
       "    </tr>\n",
       "    <tr>\n",
       "      <th>2</th>\n",
       "      <td>juliette</td>\n",
       "      <td>14</td>\n",
       "      <td>-156</td>\n",
       "      <td>87</td>\n",
       "      <td>0.5</td>\n",
       "    </tr>\n",
       "    <tr>\n",
       "      <th>3</th>\n",
       "      <td>julie</td>\n",
       "      <td>14</td>\n",
       "      <td>-156</td>\n",
       "      <td>87</td>\n",
       "      <td>3.5</td>\n",
       "    </tr>\n",
       "    <tr>\n",
       "      <th>4</th>\n",
       "      <td>francine</td>\n",
       "      <td>11</td>\n",
       "      <td>141</td>\n",
       "      <td>-90</td>\n",
       "      <td>5.5</td>\n",
       "    </tr>\n",
       "  </tbody>\n",
       "</table>\n",
       "</div>"
      ],
      "text/plain": [
       "       Name  Age  Systolic_BP  Diastolic_BP  some_ratio\n",
       "0     frank   11          141            90         1.2\n",
       "1     sushi   15          123            90         1.5\n",
       "2  juliette   14         -156            87         0.5\n",
       "3     julie   14         -156            87         3.5\n",
       "4  francine   11          141           -90         5.5"
      ]
     },
     "execution_count": 50,
     "metadata": {},
     "output_type": "execute_result"
    }
   ],
   "source": [
    "\n",
    "# initialize list of lists\n",
    "data1 = [['frank', 11, 141,90,1.2], ['sushi', 15,123,90, 1.5],['juliette', 14,-156,87, 0.5], ['julie', 14,-156,87, 3.5], ['francine', 11, 141,-90, 5.5]]\n",
    " \n",
    "# Create the pandas DataFrame\n",
    "df1 = pd.DataFrame(data1, columns=['Name', 'Age', 'Systolic_BP', 'Diastolic_BP', 'some_ratio'])\n",
    "df1"
   ]
  },
  {
   "cell_type": "code",
   "execution_count": 51,
   "id": "33244c3c-f786-4b9b-b663-e91c81c5b5b7",
   "metadata": {
    "tags": []
   },
   "outputs": [],
   "source": [
    "## Filtering away to columns with  see values below zero"
   ]
  },
  {
   "cell_type": "code",
   "execution_count": 59,
   "id": "1a6ada4e-c978-42b3-936d-99e3d956d0a1",
   "metadata": {
    "tags": []
   },
   "outputs": [
    {
     "data": {
      "text/html": [
       "<div>\n",
       "<style scoped>\n",
       "    .dataframe tbody tr th:only-of-type {\n",
       "        vertical-align: middle;\n",
       "    }\n",
       "\n",
       "    .dataframe tbody tr th {\n",
       "        vertical-align: top;\n",
       "    }\n",
       "\n",
       "    .dataframe thead th {\n",
       "        text-align: right;\n",
       "    }\n",
       "</style>\n",
       "<table border=\"1\" class=\"dataframe\">\n",
       "  <thead>\n",
       "    <tr style=\"text-align: right;\">\n",
       "      <th></th>\n",
       "      <th>Name</th>\n",
       "      <th>Age</th>\n",
       "      <th>Systolic_BP</th>\n",
       "      <th>Diastolic_BP</th>\n",
       "      <th>some_ratio</th>\n",
       "    </tr>\n",
       "  </thead>\n",
       "  <tbody>\n",
       "    <tr>\n",
       "      <th>0</th>\n",
       "      <td>frank</td>\n",
       "      <td>11</td>\n",
       "      <td>141</td>\n",
       "      <td>90</td>\n",
       "      <td>1.2</td>\n",
       "    </tr>\n",
       "    <tr>\n",
       "      <th>1</th>\n",
       "      <td>sushi</td>\n",
       "      <td>15</td>\n",
       "      <td>123</td>\n",
       "      <td>90</td>\n",
       "      <td>1.5</td>\n",
       "    </tr>\n",
       "    <tr>\n",
       "      <th>2</th>\n",
       "      <td>juliette</td>\n",
       "      <td>14</td>\n",
       "      <td>-156</td>\n",
       "      <td>87</td>\n",
       "      <td>0.5</td>\n",
       "    </tr>\n",
       "    <tr>\n",
       "      <th>3</th>\n",
       "      <td>julie</td>\n",
       "      <td>14</td>\n",
       "      <td>-156</td>\n",
       "      <td>87</td>\n",
       "      <td>3.5</td>\n",
       "    </tr>\n",
       "    <tr>\n",
       "      <th>4</th>\n",
       "      <td>francine</td>\n",
       "      <td>11</td>\n",
       "      <td>141</td>\n",
       "      <td>-90</td>\n",
       "      <td>5.5</td>\n",
       "    </tr>\n",
       "  </tbody>\n",
       "</table>\n",
       "</div>"
      ],
      "text/plain": [
       "       Name  Age  Systolic_BP  Diastolic_BP  some_ratio\n",
       "0     frank   11          141            90         1.2\n",
       "1     sushi   15          123            90         1.5\n",
       "2  juliette   14         -156            87         0.5\n",
       "3     julie   14         -156            87         3.5\n",
       "4  francine   11          141           -90         5.5"
      ]
     },
     "execution_count": 59,
     "metadata": {},
     "output_type": "execute_result"
    }
   ],
   "source": [
    "df1[(df1.select_dtypes('number') >= -156).all(1)] "
   ]
  },
  {
   "cell_type": "markdown",
   "id": "4",
   "metadata": {},
   "source": [
    "## make a function for that"
   ]
  },
  {
   "cell_type": "code",
   "execution_count": 63,
   "id": "8f2df48e-d337-4859-b3de-f77a6b97df71",
   "metadata": {
    "tags": []
   },
   "outputs": [],
   "source": [
    "def show_neg_value_patients(df, cutoff_number=0):\n",
    "    \"this function returns dataframes below  and including, and above a cutoff\"\n",
    "    below_rows = df[~(df.select_dtypes('number') >= cutoff_number).all(1)] \n",
    "    above_rows = df[(df.select_dtypes('number') >= cutoff_number).all(1)] \n",
    "    return above_rows, below_rows"
   ]
  },
  {
   "cell_type": "code",
   "execution_count": 62,
   "id": "9064b164-da6d-42a3-8947-2699d0084b72",
   "metadata": {
    "tags": []
   },
   "outputs": [
    {
     "data": {
      "text/html": [
       "<div>\n",
       "<style scoped>\n",
       "    .dataframe tbody tr th:only-of-type {\n",
       "        vertical-align: middle;\n",
       "    }\n",
       "\n",
       "    .dataframe tbody tr th {\n",
       "        vertical-align: top;\n",
       "    }\n",
       "\n",
       "    .dataframe thead th {\n",
       "        text-align: right;\n",
       "    }\n",
       "</style>\n",
       "<table border=\"1\" class=\"dataframe\">\n",
       "  <thead>\n",
       "    <tr style=\"text-align: right;\">\n",
       "      <th></th>\n",
       "      <th>Name</th>\n",
       "      <th>Age</th>\n",
       "      <th>Systolic_BP</th>\n",
       "      <th>Diastolic_BP</th>\n",
       "      <th>some_ratio</th>\n",
       "    </tr>\n",
       "  </thead>\n",
       "  <tbody>\n",
       "    <tr>\n",
       "      <th>2</th>\n",
       "      <td>juliette</td>\n",
       "      <td>14</td>\n",
       "      <td>-156</td>\n",
       "      <td>87</td>\n",
       "      <td>0.5</td>\n",
       "    </tr>\n",
       "    <tr>\n",
       "      <th>3</th>\n",
       "      <td>julie</td>\n",
       "      <td>14</td>\n",
       "      <td>-156</td>\n",
       "      <td>87</td>\n",
       "      <td>3.5</td>\n",
       "    </tr>\n",
       "    <tr>\n",
       "      <th>4</th>\n",
       "      <td>francine</td>\n",
       "      <td>11</td>\n",
       "      <td>141</td>\n",
       "      <td>-90</td>\n",
       "      <td>5.5</td>\n",
       "    </tr>\n",
       "  </tbody>\n",
       "</table>\n",
       "</div>"
      ],
      "text/plain": [
       "       Name  Age  Systolic_BP  Diastolic_BP  some_ratio\n",
       "2  juliette   14         -156            87         0.5\n",
       "3     julie   14         -156            87         3.5\n",
       "4  francine   11          141           -90         5.5"
      ]
     },
     "execution_count": 62,
     "metadata": {},
     "output_type": "execute_result"
    }
   ],
   "source": [
    "p = show_neg_value_patients(df1, 0)\n",
    "p[1]"
   ]
  },
  {
   "cell_type": "code",
   "execution_count": null,
   "id": "41",
   "metadata": {},
   "outputs": [],
   "source": []
  }
 ],
 "metadata": {
  "kernelspec": {
   "display_name": "Python 3 (ipykernel)",
   "language": "python",
   "name": "python3"
  },
  "language_info": {
   "codemirror_mode": {
    "name": "ipython",
    "version": 3
   },
   "file_extension": ".py",
   "mimetype": "text/x-python",
   "name": "python",
   "nbconvert_exporter": "python",
   "pygments_lexer": "ipython3",
   "version": "3.11.8"
  }
 },
 "nbformat": 4,
 "nbformat_minor": 5
}
