{
 "cells": [
  {
   "cell_type": "markdown",
   "id": "0",
   "metadata": {},
   "source": [
    "# this is a demo to get you more familiar with how to merge tabular data"
   ]
  },
  {
   "cell_type": "code",
   "execution_count": null,
   "id": "1",
   "metadata": {
    "tags": []
   },
   "outputs": [],
   "source": [
    "import os\n",
    "import sys\n",
    "from functools import reduce\n",
    "import pandas as pd\n",
    "import numpy as np\n",
    "sys.path.insert(0, '../../')\n",
    "from brickstudy import foundation"
   ]
  },
  {
   "cell_type": "code",
   "execution_count": null,
   "id": "2",
   "metadata": {
    "tags": []
   },
   "outputs": [],
   "source": [
    "\n",
    "# initialize list of lists\n",
    "data1 = [['frank', 11, 141,90,1.2], ['sushi', 15,123,90, 1.5],['juliette', 14,-156,87, 0.5], ['julie', 14,-156,87, 3.5], ['francine', 11, 141,-90, 5.5]]\n",
    " \n",
    "# Create the pandas DataFrame\n",
    "df1 = pd.DataFrame(data1, columns=['Name', 'Age', 'Systolic_BP', 'Diastolic_BP', 'some_ratio'])\n",
    "df1"
   ]
  },
  {
   "cell_type": "code",
   "execution_count": null,
   "id": "33244c3c-f786-4b9b-b663-e91c81c5b5b7",
   "metadata": {
    "tags": []
   },
   "outputs": [],
   "source": [
    "## Filtering away to columns with  see values below zero"
   ]
  },
  {
   "cell_type": "code",
   "execution_count": null,
   "id": "1a6ada4e-c978-42b3-936d-99e3d956d0a1",
   "metadata": {
    "tags": []
   },
   "outputs": [],
   "source": [
    "df1[(df1.select_dtypes('number') >= -156).all(1)] "
   ]
  },
  {
   "cell_type": "markdown",
   "id": "4",
   "metadata": {},
   "source": [
    "## make a function for that"
   ]
  },
  {
   "cell_type": "code",
   "execution_count": null,
   "id": "8f2df48e-d337-4859-b3de-f77a6b97df71",
   "metadata": {
    "tags": []
   },
   "outputs": [],
   "source": [
    "def show_neg_value_patients(df, cutoff_number=0):\n",
    "    \"this function returns dataframes below  and including, and above a cutoff\"\n",
    "    below_rows = df[~(df.select_dtypes('number') >= cutoff_number).all(1)] \n",
    "    above_rows = df[(df.select_dtypes('number') >= cutoff_number).all(1)] \n",
    "    return above_rows, below_rows"
   ]
  },
  {
   "cell_type": "code",
   "execution_count": null,
   "id": "9064b164-da6d-42a3-8947-2699d0084b72",
   "metadata": {
    "tags": []
   },
   "outputs": [],
   "source": [
    "p = show_neg_value_patients(df1, 0)\n",
    "p[1]"
   ]
  },
  {
   "cell_type": "code",
   "execution_count": null,
   "id": "41",
   "metadata": {
    "tags": []
   },
   "outputs": [],
   "source": [
    "foundation.show_neg_value_patients(df1, cutoff_number=0)"
   ]
  },
  {
   "cell_type": "code",
   "execution_count": null,
   "id": "c25ac8a6-7ea5-4488-97a1-e8d9df3163e6",
   "metadata": {
    "tags": []
   },
   "outputs": [],
   "source": [
    "df1"
   ]
  },
  {
   "cell_type": "code",
   "execution_count": null,
   "id": "a51e7cd4-5f82-4efd-94d2-87d40ac66cc5",
   "metadata": {
    "tags": []
   },
   "outputs": [],
   "source": []
  },
  {
   "cell_type": "code",
   "execution_count": null,
   "id": "1722e282-dbbc-4efc-a463-8b14126e06f1",
   "metadata": {
    "tags": []
   },
   "outputs": [],
   "source": [
    "## how to replace a specific value in whole dtaframe\n",
    "(this is for your -99 and so forth)"
   ]
  },
  {
   "cell_type": "code",
   "execution_count": null,
   "id": "651a7860-a212-4d83-983f-b0b3aded07a7",
   "metadata": {
    "tags": []
   },
   "outputs": [],
   "source": [
    "df1.replace(14, 0, inplace=True)\n",
    "df1"
   ]
  },
  {
   "cell_type": "code",
   "execution_count": null,
   "id": "a3757603-7f44-41e2-9411-69caee110e77",
   "metadata": {},
   "outputs": [],
   "source": []
  }
 ],
 "metadata": {
  "kernelspec": {
   "display_name": "Python 3 (ipykernel)",
   "language": "python",
   "name": "python3"
  },
  "language_info": {
   "codemirror_mode": {
    "name": "ipython",
    "version": 3
   },
   "file_extension": ".py",
   "mimetype": "text/x-python",
   "name": "python",
   "nbconvert_exporter": "python",
   "pygments_lexer": "ipython3",
   "version": "3.11.9"
  }
 },
 "nbformat": 4,
 "nbformat_minor": 5
}
