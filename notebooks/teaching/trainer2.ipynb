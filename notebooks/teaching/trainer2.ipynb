{
 "cells": [
  {
   "cell_type": "markdown",
   "id": "0",
   "metadata": {},
   "source": [
    "# this is a demo to get you more familiar with certain advanced tabular data \"tricks\" and programming"
   ]
  },
  {
   "cell_type": "markdown",
   "id": "8658665b-b98a-46a5-8725-672214c73e2f",
   "metadata": {},
   "source": [
    "on 4/7/2024 cell outputs were left to demo nbstripout"
   ]
  },
  {
   "cell_type": "code",
   "execution_count": 1,
   "id": "1",
   "metadata": {
    "tags": []
   },
   "outputs": [],
   "source": [
    "import os\n",
    "import sys\n",
    "from functools import reduce\n",
    "import pandas as pd\n",
    "import numpy as np\n",
    "sys.path.insert(0, '../../')\n",
    "from brickstudy import foundation"
   ]
  },
  {
   "cell_type": "markdown",
   "id": "4",
   "metadata": {},
   "source": [
    "# We will read in an excel and look for a common key"
   ]
  },
  {
   "cell_type": "code",
   "execution_count": 2,
   "id": "23",
   "metadata": {
    "tags": []
   },
   "outputs": [
    {
     "name": "stdout",
     "output_type": "stream",
     "text": [
      "['sheet1', 'sheet2', 'Sheet3row']\n"
     ]
    }
   ],
   "source": [
    "# Read Excel file with multiple sheets\n",
    "xls = pd.ExcelFile(\"../../sample_synthetic_data/example_excel.xlsx\")\n",
    "# Get the list of sheet names\n",
    "sheet_names = xls.sheet_names\n",
    "# Print the sheet names\n",
    "print(sheet_names)"
   ]
  },
  {
   "cell_type": "code",
   "execution_count": 3,
   "id": "24",
   "metadata": {
    "tags": []
   },
   "outputs": [],
   "source": [
    "excel_file = pd.read_excel(\"../../sample_synthetic_data/example_excel.xlsx\", sheet_name= sheet_names )"
   ]
  },
  {
   "cell_type": "code",
   "execution_count": 4,
   "id": "25",
   "metadata": {
    "tags": []
   },
   "outputs": [
    {
     "name": "stdout",
     "output_type": "stream",
     "text": [
      "<class 'dict'>\n"
     ]
    }
   ],
   "source": [
    "print(type(excel_file))\n"
   ]
  },
  {
   "cell_type": "code",
   "execution_count": 5,
   "id": "8c166903-2e39-45a3-ac13-6e06485b86b5",
   "metadata": {
    "tags": []
   },
   "outputs": [],
   "source": [
    "excel_file_default_read = pd.read_excel(\"../../sample_synthetic_data/example_excel.xlsx\")"
   ]
  },
  {
   "cell_type": "code",
   "execution_count": 6,
   "id": "333b5bb3-1469-4a10-b493-3ae748f236b9",
   "metadata": {
    "tags": []
   },
   "outputs": [
    {
     "data": {
      "text/html": [
       "<div>\n",
       "<style scoped>\n",
       "    .dataframe tbody tr th:only-of-type {\n",
       "        vertical-align: middle;\n",
       "    }\n",
       "\n",
       "    .dataframe tbody tr th {\n",
       "        vertical-align: top;\n",
       "    }\n",
       "\n",
       "    .dataframe thead th {\n",
       "        text-align: right;\n",
       "    }\n",
       "</style>\n",
       "<table border=\"1\" class=\"dataframe\">\n",
       "  <thead>\n",
       "    <tr style=\"text-align: right;\">\n",
       "      <th></th>\n",
       "      <th>row_key</th>\n",
       "      <th>a</th>\n",
       "      <th>b</th>\n",
       "      <th>c</th>\n",
       "    </tr>\n",
       "  </thead>\n",
       "  <tbody>\n",
       "    <tr>\n",
       "      <th>0</th>\n",
       "      <td>PatientA</td>\n",
       "      <td>alpha</td>\n",
       "      <td>bow</td>\n",
       "      <td>wow</td>\n",
       "    </tr>\n",
       "    <tr>\n",
       "      <th>1</th>\n",
       "      <td>PatientB</td>\n",
       "      <td>b eta</td>\n",
       "      <td>bow</td>\n",
       "      <td>ijn de bauw</td>\n",
       "    </tr>\n",
       "    <tr>\n",
       "      <th>2</th>\n",
       "      <td>PatientC</td>\n",
       "      <td>alpha</td>\n",
       "      <td>bow</td>\n",
       "      <td>bowwow</td>\n",
       "    </tr>\n",
       "    <tr>\n",
       "      <th>3</th>\n",
       "      <td>PatientD</td>\n",
       "      <td>b eta</td>\n",
       "      <td>bow</td>\n",
       "      <td>how</td>\n",
       "    </tr>\n",
       "    <tr>\n",
       "      <th>4</th>\n",
       "      <td>PatientE</td>\n",
       "      <td>theta</td>\n",
       "      <td>bow</td>\n",
       "      <td>now</td>\n",
       "    </tr>\n",
       "  </tbody>\n",
       "</table>\n",
       "</div>"
      ],
      "text/plain": [
       "    row_key      a    b            c\n",
       "0  PatientA  alpha  bow          wow\n",
       "1  PatientB  b eta  bow  ijn de bauw\n",
       "2  PatientC  alpha  bow       bowwow\n",
       "3  PatientD  b eta  bow          how\n",
       "4  PatientE  theta  bow          now"
      ]
     },
     "execution_count": 6,
     "metadata": {},
     "output_type": "execute_result"
    }
   ],
   "source": [
    "excel_file_default_read"
   ]
  },
  {
   "cell_type": "markdown",
   "id": "26",
   "metadata": {
    "tags": []
   },
   "source": [
    "So now we made a dictionary of the excel file when we read all parts of it, however, the default reading is only on the first sheet!. Let's access all parts of it by using the better form of reading, with the sheet_name"
   ]
  },
  {
   "cell_type": "code",
   "execution_count": 7,
   "id": "4e89c1ce-7415-43e0-850c-63151e953fd6",
   "metadata": {
    "tags": []
   },
   "outputs": [
    {
     "data": {
      "text/plain": [
       "{'sheet1':     row_key      a    b            c\n",
       " 0  PatientA  alpha  bow          wow\n",
       " 1  PatientB  b eta  bow  ijn de bauw\n",
       " 2  PatientC  alpha  bow       bowwow\n",
       " 3  PatientD  b eta  bow          how\n",
       " 4  PatientE  theta  bow          now,\n",
       " 'sheet2':     row_key  blank  na  blanky    d      e      f\n",
       " 0  PatientA    NaN NaN     NaN   do  shcmu     do\n",
       " 1  PatientB    NaN NaN     NaN   do     do  schmu\n",
       " 2  PatientC    NaN NaN     NaN   do     do     do\n",
       " 3  PatientD    NaN NaN     NaN  it     it     it \n",
       " 4  PatientE    NaN NaN     NaN  now    now    now,\n",
       " 'Sheet3row':    fg  h   row_key\n",
       " 0   4  2  PatientA\n",
       " 1   5  4  PatientB\n",
       " 2   7  3  PatientC\n",
       " 3   8  3  PatientD\n",
       " 4   9  3  PatientE}"
      ]
     },
     "execution_count": 7,
     "metadata": {},
     "output_type": "execute_result"
    }
   ],
   "source": [
    "excel_file"
   ]
  },
  {
   "cell_type": "code",
   "execution_count": 8,
   "id": "27",
   "metadata": {
    "tags": []
   },
   "outputs": [
    {
     "data": {
      "text/plain": [
       "3"
      ]
     },
     "execution_count": 8,
     "metadata": {},
     "output_type": "execute_result"
    }
   ],
   "source": [
    "len(sheet_names)"
   ]
  },
  {
   "cell_type": "code",
   "execution_count": 9,
   "id": "28",
   "metadata": {
    "tags": []
   },
   "outputs": [
    {
     "data": {
      "text/html": [
       "<div>\n",
       "<style scoped>\n",
       "    .dataframe tbody tr th:only-of-type {\n",
       "        vertical-align: middle;\n",
       "    }\n",
       "\n",
       "    .dataframe tbody tr th {\n",
       "        vertical-align: top;\n",
       "    }\n",
       "\n",
       "    .dataframe thead th {\n",
       "        text-align: right;\n",
       "    }\n",
       "</style>\n",
       "<table border=\"1\" class=\"dataframe\">\n",
       "  <thead>\n",
       "    <tr style=\"text-align: right;\">\n",
       "      <th></th>\n",
       "      <th>row_key</th>\n",
       "      <th>a</th>\n",
       "      <th>b</th>\n",
       "      <th>c</th>\n",
       "    </tr>\n",
       "  </thead>\n",
       "  <tbody>\n",
       "    <tr>\n",
       "      <th>0</th>\n",
       "      <td>PatientA</td>\n",
       "      <td>alpha</td>\n",
       "      <td>bow</td>\n",
       "      <td>wow</td>\n",
       "    </tr>\n",
       "    <tr>\n",
       "      <th>1</th>\n",
       "      <td>PatientB</td>\n",
       "      <td>b eta</td>\n",
       "      <td>bow</td>\n",
       "      <td>ijn de bauw</td>\n",
       "    </tr>\n",
       "    <tr>\n",
       "      <th>2</th>\n",
       "      <td>PatientC</td>\n",
       "      <td>alpha</td>\n",
       "      <td>bow</td>\n",
       "      <td>bowwow</td>\n",
       "    </tr>\n",
       "    <tr>\n",
       "      <th>3</th>\n",
       "      <td>PatientD</td>\n",
       "      <td>b eta</td>\n",
       "      <td>bow</td>\n",
       "      <td>how</td>\n",
       "    </tr>\n",
       "    <tr>\n",
       "      <th>4</th>\n",
       "      <td>PatientE</td>\n",
       "      <td>theta</td>\n",
       "      <td>bow</td>\n",
       "      <td>now</td>\n",
       "    </tr>\n",
       "  </tbody>\n",
       "</table>\n",
       "</div>"
      ],
      "text/plain": [
       "    row_key      a    b            c\n",
       "0  PatientA  alpha  bow          wow\n",
       "1  PatientB  b eta  bow  ijn de bauw\n",
       "2  PatientC  alpha  bow       bowwow\n",
       "3  PatientD  b eta  bow          how\n",
       "4  PatientE  theta  bow          now"
      ]
     },
     "execution_count": 9,
     "metadata": {},
     "output_type": "execute_result"
    }
   ],
   "source": [
    "sheet1 = excel_file[sheet_names[0]]\n",
    "sheet1"
   ]
  },
  {
   "cell_type": "code",
   "execution_count": 10,
   "id": "29",
   "metadata": {
    "tags": []
   },
   "outputs": [],
   "source": [
    "sheet2 = excel_file[sheet_names[1]]\n",
    "sheet3 = excel_file[sheet_names[1]]\n"
   ]
  },
  {
   "cell_type": "code",
   "execution_count": 11,
   "id": "30",
   "metadata": {
    "tags": []
   },
   "outputs": [
    {
     "data": {
      "text/html": [
       "<div>\n",
       "<style scoped>\n",
       "    .dataframe tbody tr th:only-of-type {\n",
       "        vertical-align: middle;\n",
       "    }\n",
       "\n",
       "    .dataframe tbody tr th {\n",
       "        vertical-align: top;\n",
       "    }\n",
       "\n",
       "    .dataframe thead th {\n",
       "        text-align: right;\n",
       "    }\n",
       "</style>\n",
       "<table border=\"1\" class=\"dataframe\">\n",
       "  <thead>\n",
       "    <tr style=\"text-align: right;\">\n",
       "      <th></th>\n",
       "      <th>row_key</th>\n",
       "      <th>a</th>\n",
       "      <th>b</th>\n",
       "      <th>c</th>\n",
       "      <th>blank</th>\n",
       "      <th>na</th>\n",
       "      <th>blanky</th>\n",
       "      <th>d</th>\n",
       "      <th>e</th>\n",
       "      <th>f</th>\n",
       "    </tr>\n",
       "  </thead>\n",
       "  <tbody>\n",
       "    <tr>\n",
       "      <th>0</th>\n",
       "      <td>PatientA</td>\n",
       "      <td>alpha</td>\n",
       "      <td>bow</td>\n",
       "      <td>wow</td>\n",
       "      <td>NaN</td>\n",
       "      <td>NaN</td>\n",
       "      <td>NaN</td>\n",
       "      <td>do</td>\n",
       "      <td>shcmu</td>\n",
       "      <td>do</td>\n",
       "    </tr>\n",
       "    <tr>\n",
       "      <th>1</th>\n",
       "      <td>PatientB</td>\n",
       "      <td>b eta</td>\n",
       "      <td>bow</td>\n",
       "      <td>ijn de bauw</td>\n",
       "      <td>NaN</td>\n",
       "      <td>NaN</td>\n",
       "      <td>NaN</td>\n",
       "      <td>do</td>\n",
       "      <td>do</td>\n",
       "      <td>schmu</td>\n",
       "    </tr>\n",
       "    <tr>\n",
       "      <th>2</th>\n",
       "      <td>PatientC</td>\n",
       "      <td>alpha</td>\n",
       "      <td>bow</td>\n",
       "      <td>bowwow</td>\n",
       "      <td>NaN</td>\n",
       "      <td>NaN</td>\n",
       "      <td>NaN</td>\n",
       "      <td>do</td>\n",
       "      <td>do</td>\n",
       "      <td>do</td>\n",
       "    </tr>\n",
       "    <tr>\n",
       "      <th>3</th>\n",
       "      <td>PatientD</td>\n",
       "      <td>b eta</td>\n",
       "      <td>bow</td>\n",
       "      <td>how</td>\n",
       "      <td>NaN</td>\n",
       "      <td>NaN</td>\n",
       "      <td>NaN</td>\n",
       "      <td>it</td>\n",
       "      <td>it</td>\n",
       "      <td>it</td>\n",
       "    </tr>\n",
       "    <tr>\n",
       "      <th>4</th>\n",
       "      <td>PatientE</td>\n",
       "      <td>theta</td>\n",
       "      <td>bow</td>\n",
       "      <td>now</td>\n",
       "      <td>NaN</td>\n",
       "      <td>NaN</td>\n",
       "      <td>NaN</td>\n",
       "      <td>now</td>\n",
       "      <td>now</td>\n",
       "      <td>now</td>\n",
       "    </tr>\n",
       "  </tbody>\n",
       "</table>\n",
       "</div>"
      ],
      "text/plain": [
       "    row_key      a    b            c  blank  na  blanky    d      e      f\n",
       "0  PatientA  alpha  bow          wow    NaN NaN     NaN   do  shcmu     do\n",
       "1  PatientB  b eta  bow  ijn de bauw    NaN NaN     NaN   do     do  schmu\n",
       "2  PatientC  alpha  bow       bowwow    NaN NaN     NaN   do     do     do\n",
       "3  PatientD  b eta  bow          how    NaN NaN     NaN  it     it     it \n",
       "4  PatientE  theta  bow          now    NaN NaN     NaN  now    now    now"
      ]
     },
     "execution_count": 11,
     "metadata": {},
     "output_type": "execute_result"
    }
   ],
   "source": [
    "sumsheet = sheet1.merge(sheet2, on='row_key')\n",
    "sumsheet"
   ]
  },
  {
   "cell_type": "code",
   "execution_count": 12,
   "id": "31",
   "metadata": {
    "tags": []
   },
   "outputs": [
    {
     "data": {
      "text/html": [
       "<div>\n",
       "<style scoped>\n",
       "    .dataframe tbody tr th:only-of-type {\n",
       "        vertical-align: middle;\n",
       "    }\n",
       "\n",
       "    .dataframe tbody tr th {\n",
       "        vertical-align: top;\n",
       "    }\n",
       "\n",
       "    .dataframe thead th {\n",
       "        text-align: right;\n",
       "    }\n",
       "</style>\n",
       "<table border=\"1\" class=\"dataframe\">\n",
       "  <thead>\n",
       "    <tr style=\"text-align: right;\">\n",
       "      <th></th>\n",
       "      <th>row_key</th>\n",
       "      <th>blank</th>\n",
       "      <th>na</th>\n",
       "      <th>blanky</th>\n",
       "      <th>d</th>\n",
       "      <th>e</th>\n",
       "      <th>f</th>\n",
       "    </tr>\n",
       "  </thead>\n",
       "  <tbody>\n",
       "    <tr>\n",
       "      <th>0</th>\n",
       "      <td>PatientA</td>\n",
       "      <td>NaN</td>\n",
       "      <td>NaN</td>\n",
       "      <td>NaN</td>\n",
       "      <td>do</td>\n",
       "      <td>shcmu</td>\n",
       "      <td>do</td>\n",
       "    </tr>\n",
       "    <tr>\n",
       "      <th>1</th>\n",
       "      <td>PatientB</td>\n",
       "      <td>NaN</td>\n",
       "      <td>NaN</td>\n",
       "      <td>NaN</td>\n",
       "      <td>do</td>\n",
       "      <td>do</td>\n",
       "      <td>schmu</td>\n",
       "    </tr>\n",
       "    <tr>\n",
       "      <th>2</th>\n",
       "      <td>PatientC</td>\n",
       "      <td>NaN</td>\n",
       "      <td>NaN</td>\n",
       "      <td>NaN</td>\n",
       "      <td>do</td>\n",
       "      <td>do</td>\n",
       "      <td>do</td>\n",
       "    </tr>\n",
       "    <tr>\n",
       "      <th>3</th>\n",
       "      <td>PatientD</td>\n",
       "      <td>NaN</td>\n",
       "      <td>NaN</td>\n",
       "      <td>NaN</td>\n",
       "      <td>it</td>\n",
       "      <td>it</td>\n",
       "      <td>it</td>\n",
       "    </tr>\n",
       "    <tr>\n",
       "      <th>4</th>\n",
       "      <td>PatientE</td>\n",
       "      <td>NaN</td>\n",
       "      <td>NaN</td>\n",
       "      <td>NaN</td>\n",
       "      <td>now</td>\n",
       "      <td>now</td>\n",
       "      <td>now</td>\n",
       "    </tr>\n",
       "  </tbody>\n",
       "</table>\n",
       "</div>"
      ],
      "text/plain": [
       "    row_key  blank  na  blanky    d      e      f\n",
       "0  PatientA    NaN NaN     NaN   do  shcmu     do\n",
       "1  PatientB    NaN NaN     NaN   do     do  schmu\n",
       "2  PatientC    NaN NaN     NaN   do     do     do\n",
       "3  PatientD    NaN NaN     NaN  it     it     it \n",
       "4  PatientE    NaN NaN     NaN  now    now    now"
      ]
     },
     "execution_count": 12,
     "metadata": {},
     "output_type": "execute_result"
    }
   ],
   "source": [
    "sheet3"
   ]
  },
  {
   "cell_type": "code",
   "execution_count": 13,
   "id": "5d89b7be-e9c4-44fd-95c6-5b5797986449",
   "metadata": {},
   "outputs": [],
   "source": [
    "# But we can do it programmatically!"
   ]
  },
  {
   "cell_type": "code",
   "execution_count": 14,
   "id": "4ac8f67d-0981-45f5-8d50-3ecdfaf27a73",
   "metadata": {
    "tags": []
   },
   "outputs": [],
   "source": [
    "def find_my_key(excel_book_name):\n",
    "    # Read Excel file with multiple sheets\n",
    "    xls = pd.ExcelFile(excel_book_name)\n",
    "    # Get the list of sheet names\n",
    "    sheet_names = xls.sheet_names\n",
    "    # read in the excel \n",
    "    excel_file = pd.read_excel(excel_book_name, sheet_name= sheet_names)\n",
    "    sheet_list = []\n",
    "    for sheet_name in sheet_names:\n",
    "        sheet = excel_file[sheet_name]\n",
    "        sheet_list.append(sheet)\n",
    "    set_columns = []\n",
    "    for listi in sheet_list:\n",
    "        setcolumns_set = set(listi.columns)\n",
    "        set_columns.append(setcolumns_set)\n",
    "    result_set = set_columns[0]    \n",
    "    for set_specific in set_columns[1:]:\n",
    "        common_columns = result_set.intersection(set_specific)\n",
    "        common_columns = list(common_columns)\n",
    "    \n",
    "    return common_columns"
   ]
  },
  {
   "cell_type": "code",
   "execution_count": 15,
   "id": "f64d11a8-54a6-4979-ba2f-fede41e4acf2",
   "metadata": {
    "tags": []
   },
   "outputs": [],
   "source": [
    "listicle = find_my_key(\"../../sample_synthetic_data/example_excel.xlsx\")"
   ]
  },
  {
   "cell_type": "markdown",
   "id": "39",
   "metadata": {},
   "source": [
    "let's call it from our  budding lirbary"
   ]
  },
  {
   "cell_type": "code",
   "execution_count": 16,
   "id": "8188af55-559f-4f61-838a-9ad717b2a361",
   "metadata": {
    "tags": []
   },
   "outputs": [
    {
     "data": {
      "text/plain": [
       "['row_key']"
      ]
     },
     "execution_count": 16,
     "metadata": {},
     "output_type": "execute_result"
    }
   ],
   "source": [
    "listicle = foundation.find_my_key(\"../../sample_synthetic_data/example_excel.xlsx\")\n",
    "listicle"
   ]
  },
  {
   "cell_type": "markdown",
   "id": "2f5adfe2-24c1-4fe5-b26b-cccb6cb5ba26",
   "metadata": {
    "tags": []
   },
   "source": [
    "## now we need to know something about the shape of each sheet"
   ]
  },
  {
   "cell_type": "code",
   "execution_count": 17,
   "id": "41",
   "metadata": {},
   "outputs": [],
   "source": [
    "def compare_sheets(excel_book_name):\n",
    "    \"\"\"\n",
    "    This function reads a multisheet excel\n",
    "    and prints back some infor you want to know before merging\n",
    "    \"\"\"\n",
    "    # Read Excel file with multiple sheets\n",
    "    xls = pd.ExcelFile(excel_book_name)\n",
    "    # Get the list of sheet names\n",
    "    sheet_names = xls.sheet_names\n",
    "    # read in the excel \n",
    "    excel_file = pd.read_excel(excel_book_name, sheet_name= sheet_names)\n",
    "    sheet_row_numbers = []\n",
    "    sheets = []\n",
    "    for sheet_name in sheet_names:\n",
    "        sheet = excel_file[sheet_name]\n",
    "        sheets.append((sheet_name ,sheet))\n",
    "        sheet_row_numbers.append(sheet.shape[0])\n",
    "    first_one = sheet_row_numbers[0]\n",
    "    counter = 1\n",
    "    for element in sheet_row_numbers[1:]:\n",
    "        if first_one == element:\n",
    "            counter +=1\n",
    "    if counter == len(sheet_row_numbers):\n",
    "        print(\"Your sheets all have the same number of rows\")\n",
    "    else:\n",
    "        print(\"Your sheets doe not all have the same number of rows\")\n",
    "        print(\"Row numbers are\", sheet_row_numbers)\n",
    "    for sheety in sheets:\n",
    "        if sheety[1].isna().sum().sum() > 0:\n",
    "            print(\"You have some nans in\", sheety[0])\n",
    "            print(sheety[1].isna().sum())\n",
    "            \n",
    "    return None"
   ]
  },
  {
   "cell_type": "code",
   "execution_count": 18,
   "id": "a2f1104d-73fc-488c-afe6-73f4005becb2",
   "metadata": {
    "tags": []
   },
   "outputs": [
    {
     "name": "stdout",
     "output_type": "stream",
     "text": [
      "Your sheets doe not all have the same number of rows\n",
      "Row numbers are [6, 5, 5]\n",
      "You have some nans in sheet2\n",
      "row_key    0\n",
      "blank      5\n",
      "na         5\n",
      "blanky     5\n",
      "d          0\n",
      "e          0\n",
      "f          0\n",
      "dtype: int64\n"
     ]
    }
   ],
   "source": [
    "foundation.compare_sheets(\"../../sample_synthetic_data/example_excel_uneven.xlsx\")"
   ]
  },
  {
   "cell_type": "code",
   "execution_count": null,
   "id": "4056c545-9ea1-4237-9a8c-3ebbb35d5f16",
   "metadata": {},
   "outputs": [],
   "source": []
  }
 ],
 "metadata": {
  "kernelspec": {
   "display_name": "Python 3 (ipykernel)",
   "language": "python",
   "name": "python3"
  },
  "language_info": {
   "codemirror_mode": {
    "name": "ipython",
    "version": 3
   },
   "file_extension": ".py",
   "mimetype": "text/x-python",
   "name": "python",
   "nbconvert_exporter": "python",
   "pygments_lexer": "ipython3",
   "version": "3.11.8"
  }
 },
 "nbformat": 4,
 "nbformat_minor": 5
}
