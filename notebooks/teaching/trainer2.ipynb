{
 "cells": [
  {
   "cell_type": "markdown",
   "id": "0",
   "metadata": {},
   "source": [
    "# this is a demo to get you more familiar with certain advanced tabular data \"tricks\" and programming"
   ]
  },
  {
   "cell_type": "code",
   "execution_count": null,
   "id": "1",
   "metadata": {
    "tags": []
   },
   "outputs": [],
   "source": [
    "import os\n",
    "import sys\n",
    "from functools import reduce\n",
    "import pandas as pd\n",
    "import numpy as np\n",
    "sys.path.insert(0, '../../')\n",
    "from brickstudy import foundation"
   ]
  },
  {
   "cell_type": "markdown",
   "id": "4",
   "metadata": {},
   "source": [
    "# We will read in an excel and look for a common key"
   ]
  },
  {
   "cell_type": "code",
   "execution_count": null,
   "id": "23",
   "metadata": {
    "tags": []
   },
   "outputs": [],
   "source": [
    "# Read Excel file with multiple sheets\n",
    "xls = pd.ExcelFile(\"../../sample_synthetic_data/example_excel.xlsx\")\n",
    "# Get the list of sheet names\n",
    "sheet_names = xls.sheet_names\n",
    "# Print the sheet names\n",
    "print(sheet_names)"
   ]
  },
  {
   "cell_type": "code",
   "execution_count": null,
   "id": "24",
   "metadata": {
    "tags": []
   },
   "outputs": [],
   "source": [
    "excel_file = pd.read_excel(\"../../sample_synthetic_data/example_excel.xlsx\", sheet_name= sheet_names )"
   ]
  },
  {
   "cell_type": "code",
   "execution_count": null,
   "id": "25",
   "metadata": {
    "tags": []
   },
   "outputs": [],
   "source": [
    "print(type(excel_file))\n"
   ]
  },
  {
   "cell_type": "markdown",
   "id": "26",
   "metadata": {
    "tags": []
   },
   "source": [
    "So now we made a dictionary of the excel file. Let's access all parts of it"
   ]
  },
  {
   "cell_type": "code",
   "execution_count": null,
   "id": "27",
   "metadata": {
    "tags": []
   },
   "outputs": [],
   "source": [
    "len(sheet_names)"
   ]
  },
  {
   "cell_type": "code",
   "execution_count": null,
   "id": "28",
   "metadata": {
    "tags": []
   },
   "outputs": [],
   "source": [
    "sheet1 = excel_file[sheet_names[0]]\n",
    "sheet1"
   ]
  },
  {
   "cell_type": "code",
   "execution_count": null,
   "id": "29",
   "metadata": {
    "tags": []
   },
   "outputs": [],
   "source": [
    "sheet2 = excel_file[sheet_names[1]]\n",
    "sheet3 = excel_file[sheet_names[1]]\n"
   ]
  },
  {
   "cell_type": "code",
   "execution_count": null,
   "id": "30",
   "metadata": {
    "tags": []
   },
   "outputs": [],
   "source": [
    "sumsheet = sheet1.merge(sheet2, on='row_key')\n",
    "sumsheet"
   ]
  },
  {
   "cell_type": "code",
   "execution_count": null,
   "id": "31",
   "metadata": {
    "tags": []
   },
   "outputs": [],
   "source": [
    "sheet3"
   ]
  },
  {
   "cell_type": "code",
   "execution_count": null,
   "id": "5d89b7be-e9c4-44fd-95c6-5b5797986449",
   "metadata": {},
   "outputs": [],
   "source": [
    "# But we can do it programmatically!"
   ]
  },
  {
   "cell_type": "code",
   "execution_count": null,
   "id": "4ac8f67d-0981-45f5-8d50-3ecdfaf27a73",
   "metadata": {
    "tags": []
   },
   "outputs": [],
   "source": [
    "def find_my_key(excel_book_name):\n",
    "    # Read Excel file with multiple sheets\n",
    "    xls = pd.ExcelFile(excel_book_name)\n",
    "    # Get the list of sheet names\n",
    "    sheet_names = xls.sheet_names\n",
    "    # read in the excel \n",
    "    excel_file = pd.read_excel(excel_book_name, sheet_name= sheet_names)\n",
    "    sheet_list = []\n",
    "    for sheet_name in sheet_names:\n",
    "        sheet = excel_file[sheet_name]\n",
    "        sheet_list.append(sheet)\n",
    "    set_columns = []\n",
    "    for listi in sheet_list:\n",
    "        setcolumns_set = set(listi.columns)\n",
    "        set_columns.append(setcolumns_set)\n",
    "    result_set = set_columns[0]    \n",
    "    for set_specific in set_columns[1:]:\n",
    "        common_columns = result_set.intersection(set_specific)\n",
    "        common_columns = list(common_columns)\n",
    "    \n",
    "    return common_columns"
   ]
  },
  {
   "cell_type": "code",
   "execution_count": null,
   "id": "f64d11a8-54a6-4979-ba2f-fede41e4acf2",
   "metadata": {
    "tags": []
   },
   "outputs": [],
   "source": [
    "listicle = find_my_key(\"../../sample_synthetic_data/example_excel.xlsx\")"
   ]
  },
  {
   "cell_type": "markdown",
   "id": "39",
   "metadata": {},
   "source": [
    "let's call it from our  budding lirbary"
   ]
  },
  {
   "cell_type": "code",
   "execution_count": null,
   "id": "8188af55-559f-4f61-838a-9ad717b2a361",
   "metadata": {
    "tags": []
   },
   "outputs": [],
   "source": [
    "listicle = foundation.find_my_key(\"../../sample_synthetic_data/example_excel.xlsx\")\n",
    "listicle"
   ]
  },
  {
   "cell_type": "markdown",
   "id": "2f5adfe2-24c1-4fe5-b26b-cccb6cb5ba26",
   "metadata": {
    "tags": []
   },
   "source": [
    "## now we need to know something about the shape of each sheet"
   ]
  },
  {
   "cell_type": "code",
   "execution_count": null,
   "id": "41",
   "metadata": {},
   "outputs": [],
   "source": [
    "def compare_sheets(excel_book_name):\n",
    "    \"\"\"\n",
    "    This function reads a multisheet excel\n",
    "    and prints back some infor you want to know before merging\n",
    "    \"\"\"\n",
    "    # Read Excel file with multiple sheets\n",
    "    xls = pd.ExcelFile(excel_book_name)\n",
    "    # Get the list of sheet names\n",
    "    sheet_names = xls.sheet_names\n",
    "    # read in the excel \n",
    "    excel_file = pd.read_excel(excel_book_name, sheet_name= sheet_names)\n",
    "    sheet_row_numbers = []\n",
    "    sheets = []\n",
    "    for sheet_name in sheet_names:\n",
    "        sheet = excel_file[sheet_name]\n",
    "        sheets.append((sheet_name ,sheet))\n",
    "        sheet_row_numbers.append(sheet.shape[0])\n",
    "    first_one = sheet_row_numbers[0]\n",
    "    counter = 1\n",
    "    for element in sheet_row_numbers[1:]:\n",
    "        if first_one == element:\n",
    "            counter +=1\n",
    "    if counter == len(sheet_row_numbers):\n",
    "        print(\"Your sheets all have the same number of rows\")\n",
    "    else:\n",
    "        print(\"Your sheets doe not all have the same number of rows\")\n",
    "        print(\"Row numbers are\", sheet_row_numbers)\n",
    "    for sheety in sheets:\n",
    "        if sheety[1].isna().sum().sum() > 0:\n",
    "            print(\"You have some nans in\", sheety[0])\n",
    "            print(sheety[1].isna().sum())\n",
    "            \n",
    "    return None"
   ]
  },
  {
   "cell_type": "code",
   "execution_count": null,
   "id": "a2f1104d-73fc-488c-afe6-73f4005becb2",
   "metadata": {
    "tags": []
   },
   "outputs": [],
   "source": [
    "foundation.compare_sheets(\"../../sample_synthetic_data/example_excel_uneven.xlsx\")"
   ]
  },
  {
   "cell_type": "code",
   "execution_count": null,
   "id": "4056c545-9ea1-4237-9a8c-3ebbb35d5f16",
   "metadata": {},
   "outputs": [],
   "source": []
  }
 ],
 "metadata": {
  "kernelspec": {
   "display_name": "Python 3 (ipykernel)",
   "language": "python",
   "name": "python3"
  },
  "language_info": {
   "codemirror_mode": {
    "name": "ipython",
    "version": 3
   },
   "file_extension": ".py",
   "mimetype": "text/x-python",
   "name": "python",
   "nbconvert_exporter": "python",
   "pygments_lexer": "ipython3",
   "version": "3.11.8"
  }
 },
 "nbformat": 4,
 "nbformat_minor": 5
}
