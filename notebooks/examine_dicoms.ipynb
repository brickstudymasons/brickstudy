{
 "cells": [
  {
   "cell_type": "markdown",
   "id": "278ed6dd-f4f5-4e22-b24a-e81c55e55f42",
   "metadata": {},
   "source": [
    "# Examining DICOMs"
   ]
  },
  {
   "cell_type": "code",
   "execution_count": null,
   "id": "3580c3cd-9292-4c02-a6bb-020ce9989165",
   "metadata": {
    "tags": []
   },
   "outputs": [],
   "source": [
    "import pydicom \n",
    "from pydicom import dcmread"
   ]
  },
  {
   "cell_type": "code",
   "execution_count": null,
   "id": "524e8fde-bbb9-4844-9a70-de422311f852",
   "metadata": {
    "tags": []
   },
   "outputs": [],
   "source": [
    "file_path1 = \"Z:/raw_data/images/DICOMS/BRICK-001/eASL_3_delays/1.2.826.0.1.3680043.10.104.1011974542938083998350534950284922302\"\n",
    "ds1 = dcmread(file_path1)\n",
    "print(ds1.SeriesNumber)"
   ]
  },
  {
   "cell_type": "code",
   "execution_count": null,
   "id": "03e0b6b9-6bfb-4171-ace0-f4c8b507bb6a",
   "metadata": {
    "tags": []
   },
   "outputs": [],
   "source": [
    "file_path2 = \"Z:/raw_data/images/DICOMS/BRICK-002/eASL_3_delays/1.2.826.0.1.3680043.10.104.1024386158195361342287473997747263974\"\n",
    "ds2 = dcmread(file_path2)\n",
    "print(ds2.SeriesNumber)"
   ]
  },
  {
   "cell_type": "code",
   "execution_count": null,
   "id": "85165387-25f5-42d2-9f6a-cf87ff313d60",
   "metadata": {
    "tags": []
   },
   "outputs": [],
   "source": [
    "# now let's look at an example of the 100 series from this where it exists\n",
    "file_path5e = \"Z:/raw_data/images/DICOMS/BRICK-005/NOT_DIAGNOSTIC_(Raw)_eASL_3_delays/1.2.826.0.1.3680043.10.104.1146009929893426785720445140854380112\"\n",
    "ds5e = dcmread(file_path5e)\n",
    "print(ds5e.SeriesNumber)"
   ]
  },
  {
   "cell_type": "code",
   "execution_count": null,
   "id": "19c2fa5c-560f-4124-a0e7-d25d72043cfc",
   "metadata": {},
   "outputs": [],
   "source": []
  }
 ],
 "metadata": {
  "kernelspec": {
   "display_name": "Python 3 (ipykernel)",
   "language": "python",
   "name": "python3"
  },
  "language_info": {
   "codemirror_mode": {
    "name": "ipython",
    "version": 3
   },
   "file_extension": ".py",
   "mimetype": "text/x-python",
   "name": "python",
   "nbconvert_exporter": "python",
   "pygments_lexer": "ipython3",
   "version": "3.11.8"
  }
 },
 "nbformat": 4,
 "nbformat_minor": 5
}
