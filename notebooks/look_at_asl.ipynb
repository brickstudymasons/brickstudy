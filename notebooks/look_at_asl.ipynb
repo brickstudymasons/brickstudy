{
 "cells": [
  {
   "cell_type": "markdown",
   "id": "615f1b86-b76c-4cb3-8f15-a54cc30a616e",
   "metadata": {
    "tags": []
   },
   "source": [
    "# Looking at our ASL files\n",
    "The following notebooks takes a look at where the files are, and how information on them is recorded.\n",
    "There are several irregularities we will have to code around in later analyses."
   ]
  },
  {
   "cell_type": "code",
   "execution_count": null,
   "id": "cfb81011-7396-4b48-88f2-98cf19f88b5f",
   "metadata": {
    "tags": []
   },
   "outputs": [],
   "source": [
    "import pydicom\n",
    "from pydicom import dcmread\n",
    "import sys\n",
    "import numpy as np\n",
    "import pandas as pd\n",
    "import importlib\n",
    "import ipywidgets as widgets\n",
    "import matplotlib.pyplot as plt\n",
    "import nibabel as nib\n",
    "import glob\n",
    "import os\n",
    "import json\n",
    "import shutil\n",
    "sys.path.insert(0, '../')\n",
    "from brickstudy import foundation\n",
    "\n",
    "\n",
    "#fpath= 'BRICK-001/20231120/141946/MR/eASL_3_delays/1.2.826.0.1.3680043.10.104.1023698459453914814407809680136492834'\n",
    "\n",
    "#ds=dcmread(fpath)"
   ]
  },
  {
   "cell_type": "code",
   "execution_count": null,
   "id": "51752e6d-0a7c-4a9e-b179-64c8a73f506c",
   "metadata": {
    "tags": []
   },
   "outputs": [],
   "source": [
    "\n",
    "json_files_we_want_real = glob.glob(\"/mnt/data/output/transfer_2217763_files_3b695c8d/**/MR/eASL_3_delays/*real.json\", recursive=True)"
   ]
  },
  {
   "cell_type": "code",
   "execution_count": null,
   "id": "b019e757-f3ef-4844-96dc-ac4da8b373e0",
   "metadata": {
    "tags": []
   },
   "outputs": [],
   "source": [
    "\n",
    "json_files_we_want_reala = glob.glob(\"/mnt/data/output/transfer_2217763_files_3b695c8d/**/MR/eASL_3_delays/*reala.json\", recursive=True)"
   ]
  },
  {
   "cell_type": "markdown",
   "id": "780e0dfb-001e-44f8-8a14-33c38ec51d17",
   "metadata": {
    "tags": []
   },
   "source": [
    "The first irregularity is that our files were not at the same level of a folder chain, we use the double wildcard ** to get around this"
   ]
  },
  {
   "cell_type": "code",
   "execution_count": null,
   "id": "8737aa5b-e2fe-4d01-bd70-6995f81b1f5f",
   "metadata": {
    "tags": []
   },
   "outputs": [],
   "source": [
    "json_files_we_want= json_files_we_want_real + json_files_we_want_reala\n",
    "len(json_files_we_want)/2\n",
    "#json_files_we_want"
   ]
  },
  {
   "cell_type": "markdown",
   "id": "2a259870-8b7a-4657-a043-3264a5aee6c9",
   "metadata": {
    "tags": []
   },
   "source": [
    "The second irregulairy is that the PCASL and CASL are not always file a for base file, they switch, so we need to keep track of which is which"
   ]
  },
  {
   "cell_type": "code",
   "execution_count": null,
   "id": "6e624580-7dd5-4d25-bcf1-5e77638ee2f7",
   "metadata": {
    "tags": []
   },
   "outputs": [],
   "source": [
    "\n",
    "short_names = []\n",
    "img_file_names = []\n",
    "types = []\n",
    "labeling_durations = []\n",
    "delays = []\n",
    "for file in json_files_we_want:\n",
    "    #print(file)\n",
    "    short_name = file[48:]\n",
    "    #print(short_name)\n",
    "    short_names.append(short_name)\n",
    "    img_file_name = short_name[:-4] + 'nii.gz'\n",
    "    img_file_names.append(img_file_name)\n",
    "    with open(file) as fileo:\n",
    "        loaded = json.load(fileo)\n",
    "        ArterialSpinLabelingType = loaded['ArterialSpinLabelingType']\n",
    "        delay = loaded['PostLabelingDelay']\n",
    "        label_duration= loaded['LabelingDuration']\n",
    "    types.append(ArterialSpinLabelingType)#ArterialSpinLabelingType\n",
    "    delays.append(delay)\n",
    "    labeling_durations.append(label_duration)\n",
    "zipped = list(zip(short_names,types, img_file_names,delays, labeling_durations))\n",
    "df = pd.DataFrame(zipped, columns= ['short_name_json', 'type', 'img','delay_legnth', 'label_duration'])\n",
    "    #print(short_names)\n",
    "#print(types)\n",
    "pd.set_option('display.max_colwidth', None)\n",
    "df.head(10)"
   ]
  },
  {
   "cell_type": "code",
   "execution_count": null,
   "id": "76c44b1e-d952-41a7-82e5-fb992a1b26a3",
   "metadata": {
    "tags": []
   },
   "outputs": [],
   "source": [
    "PCASL_files = df[df['type'] == 'PCASL']\n",
    "print(\"We have\", len(PCASL_files.delay_legnth.unique()), \"type of label delay here, and the value/s are:\",PCASL_files.delay_legnth.unique())\n",
    "print(\"We have\", len(PCASL_files.label_duration.unique()), \"type of label duration here, and the value/s are:\",PCASL_files.label_duration.unique())"
   ]
  },
  {
   "cell_type": "markdown",
   "id": "2a598aad-a82e-4457-8357-308077140e82",
   "metadata": {},
   "source": [
    "Hallelluyah, at least all the actual PCASLimages are consistently delayed\n",
    "Let's make lists of our PCASL files: "
   ]
  },
  {
   "cell_type": "code",
   "execution_count": null,
   "id": "7c6ec727-12c7-4405-9955-1a8e354ae462",
   "metadata": {
    "tags": []
   },
   "outputs": [],
   "source": [
    "img_file = PCASL_files['img']\n",
    "json_files =  PCASL_files['short_name_json']\n",
    "json_files"
   ]
  },
  {
   "cell_type": "markdown",
   "id": "d5ec32de-1e4f-4427-9779-0762059bdd5a",
   "metadata": {},
   "source": [
    "Now let's make a note of the code that allows us to move just these files into a new folder we will calll"
   ]
  },
  {
   "cell_type": "code",
   "execution_count": null,
   "id": "e0f6e233-19fe-4bba-a199-b0c9f6e0fa47",
   "metadata": {
    "tags": []
   },
   "outputs": [],
   "source": [
    "\n",
    "long_names = []\n",
    "img_file_names = []\n",
    "types = []\n",
    "labeling_durations = []\n",
    "delays = []\n",
    "for file in json_files_we_want:\n",
    "\n",
    "    name = file\n",
    "    long_names.append(name)\n",
    "    img_file_name = name[:-4] + 'nii.gz'\n",
    "    img_file_names.append(img_file_name)\n",
    "    with open(file) as fileo:\n",
    "        loaded = json.load(fileo)\n",
    "        ArterialSpinLabelingType = loaded['ArterialSpinLabelingType']\n",
    "        delay = loaded['PostLabelingDelay']\n",
    "        label_duration= loaded['LabelingDuration']\n",
    "    types.append(ArterialSpinLabelingType)#ArterialSpinLabelingType\n",
    "    delays.append(delay)\n",
    "    labeling_durations.append(label_duration)\n",
    "zipped = list(zip(long_names,types, img_file_names,delays, labeling_durations))\n",
    "df_long = pd.DataFrame(zipped, columns= ['long_name_json', 'type', 'img','delay_legnth', 'label_duration'])\n",
    "    #print(short_names)\n",
    "#print(types)\n",
    "pd.set_option('display.max_colwidth', None)\n",
    "df_long.head(3)"
   ]
  },
  {
   "cell_type": "code",
   "execution_count": null,
   "id": "53841fd8-ab7c-40d4-9b1e-f06d604d3cce",
   "metadata": {
    "tags": []
   },
   "outputs": [],
   "source": [
    "PCASL_files = df_long[df_long['type'] == 'PCASL']\n",
    "img_file = PCASL_files['img']\n",
    "json_files =  PCASL_files['long_name_json']\n",
    "#json_files\n",
    "\n",
    "with open('/home/candace@mydre.org/json_holder_1/file1.txt','w') as outfile:\n",
    "    for file in json_files:\n",
    "        outfile.write(file)\n",
    "        outfile.write('\\n')\n"
   ]
  },
  {
   "cell_type": "markdown",
   "id": "04f6934f-7a95-4d8c-9703-ff50c0fcd7e0",
   "metadata": {
    "tags": []
   },
   "source": [
    "We wrote the files to a text file `/home/candace@mydre.org/json_holder_1/file1.txt`.\n",
    "we will then have to use shell to copy the actual files\n",
    "\n",
    "the command line was:\n",
    "\n",
    "```sh\n",
    "for f in $(< json_holder_1/file1.txt) ; do \\\n",
    "    dst=json_holder_1/$(echo $f | sed -e 's/.\\+BRICK-\\([0-9]\\+\\).\\+/\\1/').nii.gz; \\\n",
    "    src=$(echo $f | sed -e 's/[.]json/.nii.gz/'); \\\n",
    "    cp $src $dst; \\\n",
    "done\n",
    "```\n",
    "\n",
    "Backslashes are added to break lines (to make the command look more structured).\n",
    "If it's difficult to copy and paste this command into the terminal, you can either:\n",
    "\n",
    "1. In your terminal, type `export EDITOR=vi`, then press `C-x C-e`\n",
    "   (While holding \"Ctrl\", press \"x\", release \"x\", press \"e\"). This will open `vi` editor,\n",
    "   where you can edit the command whichever way you want, including removing the backslashes.\n",
    "   Press `ESC :x` when done to close the editor and return to the shell.  Now the shell\n",
    "   should display the command it will run.  Press `RET` to run the command.\n",
    "2. Simply remove all the backslashes but then the enitre command needs to be on the single line."
   ]
  },
  {
   "cell_type": "markdown",
   "id": "63dad061-85b7-4bf0-8aed-a7f630c60e5e",
   "metadata": {},
   "source": [
    "Now we want to copy those over to the fsluser , where we can own everything, not be in root, and therefore run oxford_asl...\n",
    "so again we must do some command line, and we will put them in a folder called pcasl_festival\n",
    "\n",
    "i.e. sudo cp -R json_holder_1/ /home/fsluser/pcasl_festival\n",
    "\n",
    "Then we want to wrie something to apply oxfor_asl in paralell - we have stored scripts for that on fsluser"
   ]
  },
  {
   "cell_type": "markdown",
   "id": "d405f099-c5be-486c-bce6-0f3d52800cbc",
   "metadata": {},
   "source": [
    "Let open a raw data and perfusion map, first we will open the raw data:"
   ]
  },
  {
   "cell_type": "code",
   "execution_count": null,
   "id": "5ae8c0f9-c06f-4b32-a88f-35a1d6dbdb27",
   "metadata": {
    "tags": []
   },
   "outputs": [],
   "source": [
    "\n",
    "loaded = nib.load('/mnt/data/output/transfer_2217763_files_3b695c8d/BRICK-001/BRICK-001/20220620/MR/eASL_3_delays/005_eASL_3_delays_eASL_3_delays_20220620000000_reala.nii.gz')\n",
    "loaded_obj = loaded.dataobj\n",
    "print(loaded_obj.shape)\n",
    "\n",
    "plt.figure()\n",
    "f, axarr = plt.subplots(1,4)\n",
    "\n",
    "axarr[0].imshow(loaded_obj[:,:,20, 0], cmap='gray')\n",
    "axarr[1].imshow(loaded_obj[:,:,20, 1], cmap='gray')\n",
    "axarr[2].imshow(loaded_obj[:,:,20, 2], cmap='gray')\n",
    "axarr[3].imshow(loaded_obj[:,:,20, 3], cmap='gray')"
   ]
  },
  {
   "cell_type": "code",
   "execution_count": null,
   "id": "ada4b65e-3ff9-40a6-a739-af70b7209a25",
   "metadata": {
    "tags": []
   },
   "outputs": [],
   "source": [
    "\n",
    "loaded = nib.load('/mnt/data/festical/001.nii.gz/native_space/arrival.nii.gz')\n",
    "loaded_obj = loaded.dataobj\n",
    "print(loaded_obj.shape)\n",
    "\n",
    "plt.imshow(loaded_obj[:,:,20], cmap='gray')\n",
    "\n"
   ]
  },
  {
   "cell_type": "code",
   "execution_count": null,
   "id": "54654571-886a-49b0-af7b-28f94df8d693",
   "metadata": {
    "tags": []
   },
   "outputs": [],
   "source": [
    "\n",
    "loaded = nib.load('/mnt/data/festical/001.nii.gz/native_space/perfusion.nii.gz')\n",
    "loaded_obj = loaded.dataobj\n",
    "print(loaded_obj.shape)\n",
    "\n",
    "plt.imshow(loaded_obj[:,:,20], cmap='gray')\n",
    "\n"
   ]
  },
  {
   "cell_type": "code",
   "execution_count": null,
   "id": "010fefd6-bf5f-462c-917a-d18934a8112f",
   "metadata": {},
   "outputs": [],
   "source": []
  },
  {
   "cell_type": "code",
   "execution_count": null,
   "id": "7b687981-8df2-4739-8d28-9775fcef08aa",
   "metadata": {
    "tags": []
   },
   "outputs": [],
   "source": [
    "# files_we_want = glob.glob(\"/mnt/data/output/transfer_2217763_files_3b695c8d/*/*/*/MR/eASL_3_delays/*.nii.gz\")\n",
    "# files_we_want\n",
    "files_we_want = glob.glob(\"/mnt/data/output/transfer_2217763_files_3b695c8d/**/MR/eASL_3_delays/*.nii.gz\", recursive=True)"
   ]
  },
  {
   "cell_type": "code",
   "execution_count": null,
   "id": "651c8fc9-a585-4123-ab6b-1d3b5d150106",
   "metadata": {
    "tags": []
   },
   "outputs": [],
   "source": [
    "files_we_want"
   ]
  },
  {
   "cell_type": "code",
   "execution_count": null,
   "id": "bd071f29-c9e3-43bc-9675-06d37d88e89f",
   "metadata": {
    "tags": []
   },
   "outputs": [],
   "source": [
    "len(files_we_want)/2"
   ]
  },
  {
   "cell_type": "code",
   "execution_count": null,
   "id": "c8c1481b-a4dd-405b-abc8-4581922cb728",
   "metadata": {
    "tags": []
   },
   "outputs": [],
   "source": []
  },
  {
   "cell_type": "code",
   "execution_count": null,
   "id": "5234b79d-2436-4c9a-9682-b8a9d6535316",
   "metadata": {
    "tags": []
   },
   "outputs": [],
   "source": [
    "image_string= \"mnt/data/output/transfer_2217763_files_3b695c8d/BRICK-001/BRICK-001/20220620/MR/eASL_3_delays/005_eASL_3_delays_eASL_3_delays_20220620000000_real.nii.gz\"\n",
    "image_stringa = \"/mnt/data/output/transfer_2217763_files_3b695c8d/BRICK-001/BRICK-001/20220620/MR/eASL_3_delays/005_eASL_3_delays_eASL_3_delays_20220620000000_reala.nii.gz\"#"
   ]
  },
  {
   "cell_type": "code",
   "execution_count": null,
   "id": "2aa2f224-c03b-4870-9a41-a7e36b637ad9",
   "metadata": {
    "tags": []
   },
   "outputs": [],
   "source": [
    "list_of_asl = glob.glob('/mnt/data/only_asl_files/*.nii.gz')\n",
    "asl_file =widgets.Dropdown(\n",
    "    options=list_of_asl,\n",
    "    description='ASL file:')#\n",
    "#list_of_asl\n",
    "asl_file"
   ]
  },
  {
   "cell_type": "code",
   "execution_count": null,
   "id": "0b069cfd-f238-4dfe-9607-7c568fd97b68",
   "metadata": {
    "tags": []
   },
   "outputs": [],
   "source": [
    "copied_str = asl_file.value\n",
    "copied_str"
   ]
  },
  {
   "cell_type": "code",
   "execution_count": null,
   "id": "8a9efa04-96dc-4ea1-9b25-60823a58ae65",
   "metadata": {
    "tags": []
   },
   "outputs": [],
   "source": [
    "#iso_str= '/mnt/data/output/transfer_2217763_files_3b695c8d/BRICK-001/BRICK-001/20220620/MR/Isotropic_image/402_Isotropic_image_Isotropic_image_20220620000000.nii.gz'"
   ]
  },
  {
   "cell_type": "code",
   "execution_count": null,
   "id": "b46c8615-3339-4a5a-98ac-0276301c7b6d",
   "metadata": {
    "tags": []
   },
   "outputs": [],
   "source": [
    "#foundation.NiftiSliceViewer(iso_str)"
   ]
  },
  {
   "cell_type": "code",
   "execution_count": null,
   "id": "a28bc492-6528-4e39-be05-13dff79c8520",
   "metadata": {
    "tags": []
   },
   "outputs": [],
   "source": [
    "#iso_img = nib.load(iso_str)"
   ]
  },
  {
   "cell_type": "code",
   "execution_count": null,
   "id": "dcb90906-31d2-4330-99b8-a67ccf6996d4",
   "metadata": {
    "tags": []
   },
   "outputs": [],
   "source": [
    "#iso_img.dataobj.shape"
   ]
  },
  {
   "cell_type": "code",
   "execution_count": null,
   "id": "84ef655f-b214-4790-888d-e57cc764fe14",
   "metadata": {},
   "outputs": [],
   "source": [
    "image = nib.load(image_string)\n",
    "imagea = nib.load(image_stringa)\n",
    "loaded = nib.load('/mnt/data/output/transfer_2217763_files_3b695c8d/BRICK-001/BRICK-001/20220620/MR/eASL_3_delays/005_eASL_3_delays_eASL_3_delays_20220620000000_real.nii.gz')\n",
    "loaded_obj = loaded.dataobj"
   ]
  },
  {
   "cell_type": "code",
   "execution_count": null,
   "id": "866fcb2e-8727-4fe2-8fe5-8522c2f6c3f4",
   "metadata": {
    "tags": []
   },
   "outputs": [],
   "source": [
    "image.dataobj.shape"
   ]
  },
  {
   "cell_type": "code",
   "execution_count": null,
   "id": "2cdd6f27-9f05-4e5f-92da-9ac08368551a",
   "metadata": {
    "tags": []
   },
   "outputs": [],
   "source": [
    "imagea.dataobj.shape"
   ]
  },
  {
   "cell_type": "code",
   "execution_count": null,
   "id": "a2b84fa7-bd6a-4527-9e1e-7c3578ce1d57",
   "metadata": {
    "tags": []
   },
   "outputs": [],
   "source": [
    "#image.header['db_name']"
   ]
  },
  {
   "cell_type": "code",
   "execution_count": null,
   "id": "a5c5671f-3856-49b4-b887-903708be9d92",
   "metadata": {
    "tags": []
   },
   "outputs": [],
   "source": [
    "image"
   ]
  },
  {
   "cell_type": "code",
   "execution_count": null,
   "id": "80be6c1a-f12e-4d09-a057-6cf7dde2bc76",
   "metadata": {
    "tags": []
   },
   "outputs": [],
   "source": [
    "img_arr = image.dataobj\n",
    "img_arra = imagea.dataobj"
   ]
  },
  {
   "cell_type": "code",
   "execution_count": null,
   "id": "869b3c17-733f-468d-a206-e0bf88e0f0d6",
   "metadata": {
    "tags": []
   },
   "outputs": [],
   "source": [
    "img_arra.shape"
   ]
  },
  {
   "cell_type": "code",
   "execution_count": null,
   "id": "e920fe59-64a6-4313-a874-97a7647e10e7",
   "metadata": {
    "tags": []
   },
   "outputs": [],
   "source": [
    "print(type(img_arr))"
   ]
  },
  {
   "cell_type": "code",
   "execution_count": null,
   "id": "02e1bc12-2ed5-4a02-a825-8c22cbcb37e3",
   "metadata": {
    "tags": []
   },
   "outputs": [],
   "source": [
    "real = np.array(img_arr)\n",
    "reala = np.array(img_arra)"
   ]
  },
  {
   "cell_type": "code",
   "execution_count": null,
   "id": "51e6ad65-d01d-4fc9-9acb-36baa10f824b",
   "metadata": {
    "tags": []
   },
   "outputs": [],
   "source": [
    "list_of_asl = glob.glob('/mnt/data/only_asl_files/*.nii.gz')\n",
    "asl_file =widgets.Dropdown(\n",
    "    options=list_of_asl,\n",
    "    description='ASL file:')#\n",
    "#list_of_asl\n",
    "asl_file"
   ]
  },
  {
   "cell_type": "code",
   "execution_count": null,
   "id": "e050e58b-2a72-4c5e-962d-4d3bc71803a3",
   "metadata": {
    "tags": []
   },
   "outputs": [],
   "source": [
    "asl_file.value"
   ]
  },
  {
   "cell_type": "code",
   "execution_count": null,
   "id": "dd482992-a21b-463f-be8a-55bcdfd5e695",
   "metadata": {
    "tags": []
   },
   "outputs": [],
   "source": [
    "loaded.shape"
   ]
  },
  {
   "cell_type": "code",
   "execution_count": null,
   "id": "c277b073-0e52-493a-acaf-806c52faec0d",
   "metadata": {
    "tags": []
   },
   "outputs": [],
   "source": [
    "#plt.imshow(loaded[:,:,20, 3], cmap='gray')"
   ]
  },
  {
   "cell_type": "code",
   "execution_count": null,
   "id": "6a7e4129-c4fb-45a1-8b08-fb069c09f37a",
   "metadata": {
    "tags": []
   },
   "outputs": [],
   "source": [
    "#real\n",
    "first = np.array(img_arr)\n",
    "second = np.array(img_arra) \n",
    "\n",
    "\n",
    "loaded = nib.load('/mnt/data/output/transfer_2217763_files_3b695c8d/BRICK-001/BRICK-001/20220620/MR/eASL_3_delays/005_eASL_3_delays_eASL_3_delays_20220620000000_reala.nii.gz')\n",
    "loaded_obj = loaded.dataobj\n",
    "print(loaded_obj.shape)\n",
    "\n",
    "plt.figure()\n",
    "f, axarr = plt.subplots(1,4)\n",
    "\n",
    "axarr[0].imshow(loaded_obj[:,:,20, 0], cmap='gray')\n",
    "axarr[1].imshow(loaded_obj[:,:,20, 1], cmap='gray')\n",
    "axarr[2].imshow(loaded_obj[:,:,20, 2], cmap='gray')\n",
    "axarr[3].imshow(loaded_obj[:,:,20, 3], cmap='gray')"
   ]
  },
  {
   "cell_type": "code",
   "execution_count": null,
   "id": "caecbab8-2090-44e5-a08d-19cdd4e4c205",
   "metadata": {
    "tags": []
   },
   "outputs": [],
   "source": [
    "\n",
    "loaded2 = nib.load('/mnt/data/output/transfer_2217763_files_3b695c8d/BRICK-001/BRICK-001/20220620/MR/eASL_3_delays/005_eASL_3_delays_eASL_3_delays_20220620000000_real.nii.gz')\n",
    "loaded_obj2 = loaded2.dataobj\n",
    "print(loaded_obj2.shape)\n",
    "\n",
    "\n",
    "plt.figure()\n",
    "f, axarr = plt.subplots(1,4)\n",
    "\n",
    "axarr[0].imshow(loaded_obj2[:,:,20, 0], cmap='gray')\n",
    "axarr[1].imshow(loaded_obj2[:,:,20, 1], cmap='gray')\n",
    "#axarr[2].imshow(loaded_obj[:,:,20, 2], cmap='gray')\n",
    "#axarr[3].imshow(loaded_obj[:,:,20, 3], cmap='gray')"
   ]
  },
  {
   "cell_type": "code",
   "execution_count": null,
   "id": "b0f220c3-412d-4145-8997-628e2797bb8b",
   "metadata": {
    "tags": []
   },
   "outputs": [],
   "source": [
    "plt.imshow(loaded_obj2[:,:,20, 1] - loaded_obj2[:,:,20, 0], cmap='grey')"
   ]
  },
  {
   "cell_type": "code",
   "execution_count": null,
   "id": "6f8260b6-a19a-4d0f-a939-7cb29e8affc0",
   "metadata": {
    "tags": []
   },
   "outputs": [],
   "source": [
    "plt.imshow(second[:,:,20, 0], cmap='grey')"
   ]
  },
  {
   "cell_type": "code",
   "execution_count": null,
   "id": "408a7a86-1db3-4223-b866-6191939c5bc8",
   "metadata": {
    "tags": []
   },
   "outputs": [],
   "source": [
    "new_array = first - second\n",
    "new_array.sum()"
   ]
  },
  {
   "cell_type": "code",
   "execution_count": null,
   "id": "18b68a5e-7fd2-4fd0-b928-c04d7e9d2507",
   "metadata": {
    "tags": []
   },
   "outputs": [],
   "source": [
    "plt.imshow(new_array[:,:,20, 1])\n"
   ]
  },
  {
   "cell_type": "code",
   "execution_count": null,
   "id": "9eae294a-53f4-4d5a-ac1a-be1fafd3750b",
   "metadata": {},
   "outputs": [],
   "source": []
  }
 ],
 "metadata": {
  "kernelspec": {
   "display_name": "Python 3 (ipykernel)",
   "language": "python",
   "name": "python3"
  },
  "language_info": {
   "codemirror_mode": {
    "name": "ipython",
    "version": 3
   },
   "file_extension": ".py",
   "mimetype": "text/x-python",
   "name": "python",
   "nbconvert_exporter": "python",
   "pygments_lexer": "ipython3",
   "version": "3.11.9"
  }
 },
 "nbformat": 4,
 "nbformat_minor": 5
}
