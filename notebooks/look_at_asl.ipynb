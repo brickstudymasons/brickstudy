{
 "cells": [
  {
   "cell_type": "markdown",
   "id": "0",
   "metadata": {
    "tags": []
   },
   "source": [
    "# Looking at our ASL files\n",
    "The following notebooks takes a look at where the files are, and how information on them is recorded.\n",
    "There are several irregularities we will have to code around in later analyses."
   ]
  },
  {
   "cell_type": "code",
   "execution_count": null,
   "id": "1",
   "metadata": {
    "tags": []
   },
   "outputs": [],
   "source": [
    "import pydicom\n",
    "from pydicom import dcmread\n",
    "import sys\n",
    "import numpy as np\n",
    "import pandas as pd\n",
    "import importlib\n",
    "import ipywidgets as widgets\n",
    "import matplotlib.pyplot as plt\n",
    "import nibabel as nib\n",
    "import glob\n",
    "import os\n",
    "import json\n",
    "import shutil\n",
    "sys.path.insert(0, '../')\n",
    "from brickstudy import foundation\n",
    "\n",
    "\n",
    "#fpath= 'BRICK-001/20231120/141946/MR/eASL_3_delays/1.2.826.0.1.3680043.10.104.1023698459453914814407809680136492834'\n",
    "\n",
    "#ds=dcmread(fpath)"
   ]
  },
  {
   "cell_type": "code",
   "execution_count": null,
   "id": "2",
   "metadata": {
    "tags": []
   },
   "outputs": [],
   "source": [
    "# windows adress\n",
    "json_files_we_want_real = glob.glob(\"Z:/output/transfer_2217763_files_3b695c8d/**/MR/eASL_3_delays/*real.json\", recursive=True)\n",
    "\n",
    "## linux adress\n",
    "#json_files_we_want_real = glob.glob(\"/mnt/data/output/transfer_2217763_files_3b695c8d/**/MR/eASL_3_delays/*real.json\", recursive=True)"
   ]
  },
  {
   "cell_type": "code",
   "execution_count": null,
   "id": "3",
   "metadata": {
    "tags": []
   },
   "outputs": [],
   "source": [
    "# windows adress\n",
    "json_files_we_want_reala = glob.glob(\"Z:/output/transfer_2217763_files_3b695c8d/**/MR/eASL_3_delays/*reala.json\", recursive=True)\n",
    "\n",
    "## linux adress\n",
    "#json_files_we_want_real = glob.glob(\"/mnt/data/output/transfer_2217763_files_3b695c8d/**/MR/eASL_3_delays/*reala.json\", recursive=True)"
   ]
  },
  {
   "cell_type": "markdown",
   "id": "4",
   "metadata": {
    "tags": []
   },
   "source": [
    "The first irregularity is that our files were not at the same level of a folder chain, we use the double wildcard ** to get around this"
   ]
  },
  {
   "cell_type": "code",
   "execution_count": null,
   "id": "5",
   "metadata": {
    "tags": []
   },
   "outputs": [],
   "source": [
    "json_files_we_want= json_files_we_want_real + json_files_we_want_reala\n",
    "len(json_files_we_want)/2\n",
    "json_files_we_want"
   ]
  },
  {
   "cell_type": "markdown",
   "id": "6",
   "metadata": {
    "tags": []
   },
   "source": [
    "The second irregulairy is that the PCASL and CASL are not always file a for base file, they switch, so we need to keep track of which is which"
   ]
  },
  {
   "cell_type": "code",
   "execution_count": null,
   "id": "7",
   "metadata": {
    "tags": []
   },
   "outputs": [],
   "source": [
    "\n",
    "short_names = []\n",
    "img_file_names = []\n",
    "types = []\n",
    "labeling_durations = []\n",
    "delays = []\n",
    "for file in json_files_we_want:\n",
    "    #print(file)\n",
    "    short_name = file[48:]\n",
    "    #print(short_name)\n",
    "    short_names.append(short_name)\n",
    "    img_file_name = short_name[:-4] + 'nii.gz'\n",
    "    img_file_names.append(img_file_name)\n",
    "    with open(file) as fileo:\n",
    "        loaded = json.load(fileo)\n",
    "        ArterialSpinLabelingType = loaded['ArterialSpinLabelingType']\n",
    "        delay = loaded['PostLabelingDelay']\n",
    "        label_duration= loaded['LabelingDuration']\n",
    "    types.append(ArterialSpinLabelingType)#ArterialSpinLabelingType\n",
    "    delays.append(delay)\n",
    "    labeling_durations.append(label_duration)\n",
    "zipped = list(zip(short_names,types, img_file_names,delays, labeling_durations))\n",
    "df = pd.DataFrame(zipped, columns= ['short_name_json', 'type', 'img','delay_legnth', 'label_duration'])\n",
    "    #print(short_names)\n",
    "#print(types)\n",
    "pd.set_option('display.max_colwidth', None)\n",
    "df.head(10)"
   ]
  },
  {
   "cell_type": "code",
   "execution_count": null,
   "id": "8",
   "metadata": {
    "tags": []
   },
   "outputs": [],
   "source": [
    "PCASL_files = df[df['type'] == 'PCASL']\n",
    "print(\"We have\", len(PCASL_files.delay_legnth.unique()), \"type of label delay here, and the value/s are:\",PCASL_files.delay_legnth.unique())\n",
    "print(\"We have\", len(PCASL_files.label_duration.unique()), \"type of label duration here, and the value/s are:\",PCASL_files.label_duration.unique())"
   ]
  },
  {
   "cell_type": "markdown",
   "id": "9",
   "metadata": {},
   "source": [
    "Hallelluyah, at least all the actual PCASLimages are consistently delayed\n",
    "Let's make lists of our PCASL files: "
   ]
  },
  {
   "cell_type": "code",
   "execution_count": null,
   "id": "10",
   "metadata": {
    "tags": []
   },
   "outputs": [],
   "source": [
    "img_file = PCASL_files['img']\n",
    "json_files =  PCASL_files['short_name_json']\n",
    "json_files"
   ]
  },
  {
   "cell_type": "markdown",
   "id": "11",
   "metadata": {},
   "source": [
    "Now let's make a note of the code that allows us to move just these files into a new folder we will calll"
   ]
  },
  {
   "cell_type": "code",
   "execution_count": null,
   "id": "12",
   "metadata": {
    "tags": []
   },
   "outputs": [],
   "source": [
    "\n",
    "long_names = []\n",
    "img_file_names = []\n",
    "types = []\n",
    "labeling_durations = []\n",
    "delays = []\n",
    "for file in json_files_we_want:\n",
    "\n",
    "    name = file\n",
    "    long_names.append(name)\n",
    "    img_file_name = name[:-4] + 'nii.gz'\n",
    "    img_file_names.append(img_file_name)\n",
    "    with open(file) as fileo:\n",
    "        loaded = json.load(fileo)\n",
    "        ArterialSpinLabelingType = loaded['ArterialSpinLabelingType']\n",
    "        delay = loaded['PostLabelingDelay']\n",
    "        label_duration= loaded['LabelingDuration']\n",
    "    types.append(ArterialSpinLabelingType)#ArterialSpinLabelingType\n",
    "    delays.append(delay)\n",
    "    labeling_durations.append(label_duration)\n",
    "zipped = list(zip(long_names,types, img_file_names,delays, labeling_durations))\n",
    "df_long = pd.DataFrame(zipped, columns= ['long_name_json', 'type', 'img','delay_legnth', 'label_duration'])\n",
    "    #print(short_names)\n",
    "#print(types)\n",
    "pd.set_option('display.max_colwidth', None)\n",
    "df_long.head(3)"
   ]
  },
  {
   "cell_type": "code",
   "execution_count": null,
   "id": "13",
   "metadata": {
    "tags": []
   },
   "outputs": [],
   "source": [
    "PCASL_files = df_long[df_long['type'] == 'PCASL']\n",
    "img_file = PCASL_files['img']\n",
    "json_files =  PCASL_files['long_name_json']\n",
    "#json_files\n",
    "\n",
    "with open('/home/candace@mydre.org/json_holder_1/file1.txt','w') as outfile:\n",
    "    for file in json_files:\n",
    "        outfile.write(file)\n",
    "        outfile.write('\\n')\n"
   ]
  },
  {
   "cell_type": "markdown",
   "id": "14",
   "metadata": {
    "tags": []
   },
   "source": [
    "We wrote the files to a text file `/home/candace@mydre.org/json_holder_1/file1.txt`.\n",
    "we will then have to use shell to copy the actual files\n",
    "\n",
    "the command line was:\n",
    "\n",
    "```sh\n",
    "for f in $(< json_holder_1/file1.txt) ; do \\\n",
    "    dst=json_holder_1/$(echo $f | sed -e 's/.\\+BRICK-\\([0-9]\\+\\).\\+/\\1/').nii.gz; \\\n",
    "    src=$(echo $f | sed -e 's/[.]json/.nii.gz/'); \\\n",
    "    cp $src $dst; \\\n",
    "done\n",
    "```\n",
    "\n",
    "Backslashes are added to break lines (to make the command look more structured).\n",
    "If it's difficult to copy and paste this command into the terminal, you can either:\n",
    "\n",
    "1. In your terminal, type `export EDITOR=vi`, then press `C-x C-e`\n",
    "   (While holding \"Ctrl\", press \"x\", release \"x\", press \"e\"). This will open `vi` editor,\n",
    "   where you can edit the command whichever way you want, including removing the backslashes.\n",
    "   Press `ESC :x` when done to close the editor and return to the shell.  Now the shell\n",
    "   should display the command it will run.  Press `RET` to run the command.\n",
    "2. Simply remove all the backslashes but then the enitre command needs to be on the single line."
   ]
  },
  {
   "cell_type": "markdown",
   "id": "15",
   "metadata": {},
   "source": [
    "Now we want to copy those over to the fsluser , where we can own everything, not be in root, and therefore run oxford_asl...\n",
    "so again we must do some command line, and we will put them in a folder called pcasl_festival\n",
    "\n",
    "i.e. sudo cp -R json_holder_1/ /home/fsluser/pcasl_festival\n",
    "\n",
    "Then we want to wrie something to apply oxfor_asl in paralell - we have stored scripts for that on fsluser"
   ]
  },
  {
   "cell_type": "markdown",
   "id": "16",
   "metadata": {},
   "source": [
    "Let open a raw data and perfusion map, first we will open the raw data:"
   ]
  },
  {
   "cell_type": "code",
   "execution_count": null,
   "id": "17",
   "metadata": {
    "tags": []
   },
   "outputs": [],
   "source": [
    "\n",
    "loaded = nib.load('Z:/output/transfer_2217763_files_3b695c8d/BRICK-004/BRICK-004/20220704/MR/eASL_3_delays/005_eASL_3_delays_eASL_3_delays_20220704000000_real.nii.gz')\n",
    "loaded_obj = loaded.dataobj\n",
    "print(loaded_obj.shape)\n",
    "\n",
    "plt.figure()\n",
    "f, axarr = plt.subplots(1,4)\n",
    "\n",
    "axarr[0].imshow(loaded_obj[:,:,20, 0], cmap='gray')\n",
    "axarr[1].imshow(loaded_obj[:,:,20, 1], cmap='gray')\n",
    "axarr[2].imshow(loaded_obj[:,:,20, 2], cmap='gray')\n",
    "axarr[3].imshow(loaded_obj[:,:,20, 3], cmap='gray')"
   ]
  },
  {
   "cell_type": "code",
   "execution_count": null,
   "id": "18",
   "metadata": {
    "tags": []
   },
   "outputs": [],
   "source": [
    "our_json = 'Z:/output/transfer_2217763_files_3b695c8d/BRICK-004/BRICK-004/20220704/MR/eASL_3_delays/005_eASL_3_delays_eASL_3_delays_20220704000000_reala.json'\n",
    "with open(our_json) as fileo:\n",
    "        loaded = json.load(fileo)\n",
    "        print(loaded['ImageType'])\n",
    "       "
   ]
  },
  {
   "cell_type": "code",
   "execution_count": null,
   "id": "19",
   "metadata": {
    "tags": []
   },
   "outputs": [],
   "source": [
    "loadedC = nib.load('Z:/output/transfer_2217763_files_3b695c8d/BRICK-004/BRICK-004/20220704/MR/eASL_3_delays/005_eASL_3_delays_eASL_3_delays_20220704000000_reala.nii.gz')\n",
    "\n",
    "loaded_objC = loadedC.dataobj\n",
    "print(loaded_objC.shape)\n",
    "\n",
    "plt.figure()\n",
    "f, axarr = plt.subplots(1,4)\n",
    "\n",
    "axarr[0].imshow(loaded_objC[:,:,20, 0], cmap='gray')\n",
    "axarr[1].imshow(loaded_objC[:,:,20, 1], cmap='gray')\n",
    "# axarr[2].imshow(loaded_obj[:,:,20, 2], cmap='gray')\n",
    "# axarr[3].imshow(loaded_obj[:,:,20, 3], cmap='gray')"
   ]
  },
  {
   "cell_type": "code",
   "execution_count": null,
   "id": "20",
   "metadata": {
    "tags": []
   },
   "outputs": [],
   "source": [
    "qobj1= loaded_obj[:,:,:, 1]\n",
    "qobj2= loaded_obj[:,:,:, 2]\n",
    "qobjc1= loaded_objC[:,:,:, 0]\n",
    "qobjc2= loaded_objC[:,:,:, 1]"
   ]
  },
  {
   "cell_type": "code",
   "execution_count": null,
   "id": "21",
   "metadata": {
    "tags": []
   },
   "outputs": [],
   "source": [
    "print(qobj1.shape)\n",
    "print(qobj2.shape)\n",
    "print(qobjc1.shape)\n",
    "print(qobjc2.shape)"
   ]
  },
  {
   "cell_type": "code",
   "execution_count": null,
   "id": "22",
   "metadata": {
    "tags": []
   },
   "outputs": [],
   "source": [
    "plt.figure()\n",
    "f, axarr = plt.subplots(1,4)\n",
    "\n",
    "axarr[0].imshow(qobjc1[:,:,20], cmap='gray')\n",
    "axarr[1].imshow(qobjc2[:,:,20], cmap='gray')\n",
    "axarr[2].imshow(qobj1[:,:,20], cmap='gray')\n",
    "axarr[3].imshow(qobj2[:,:,20], cmap='gray')"
   ]
  },
  {
   "cell_type": "code",
   "execution_count": null,
   "id": "23",
   "metadata": {
    "tags": []
   },
   "outputs": [],
   "source": [
    "plt.imshow(qobj2[:,:,20] - qobjc1[:,:,20])"
   ]
  },
  {
   "cell_type": "code",
   "execution_count": null,
   "id": "24",
   "metadata": {
    "tags": []
   },
   "outputs": [],
   "source": [
    "\n",
    "loaded = nib.load('Z:/festical/001.nii.gz/native_space/arrival.nii.gz')\n",
    "loaded_obj = loaded.dataobj\n",
    "print(loaded_obj.shape)\n",
    "\n",
    "plt.imshow(loaded_obj[:,:,20], cmap='gray')\n",
    "\n"
   ]
  },
  {
   "cell_type": "code",
   "execution_count": null,
   "id": "25",
   "metadata": {
    "tags": []
   },
   "outputs": [],
   "source": [
    "\n",
    "loaded = nib.load('Z:/festical/001.nii.gz/native_space/perfusion.nii.gz')\n",
    "loaded_obj = loaded.dataobj\n",
    "print(loaded_obj.shape)\n",
    "\n",
    "plt.imshow(loaded_obj[:,:,20], cmap='gray')\n",
    "\n"
   ]
  },
  {
   "cell_type": "code",
   "execution_count": null,
   "id": "26",
   "metadata": {},
   "outputs": [],
   "source": []
  },
  {
   "cell_type": "code",
   "execution_count": null,
   "id": "27",
   "metadata": {
    "tags": []
   },
   "outputs": [],
   "source": [
    "# files_we_want = glob.glob(\"/mnt/data/output/transfer_2217763_files_3b695c8d/*/*/*/MR/eASL_3_delays/*.nii.gz\")\n",
    "# files_we_want\n",
    "files_we_want = glob.glob(\"/mnt/data/output/transfer_2217763_files_3b695c8d/**/MR/eASL_3_delays/*.nii.gz\", recursive=True)"
   ]
  },
  {
   "cell_type": "code",
   "execution_count": null,
   "id": "28",
   "metadata": {
    "tags": []
   },
   "outputs": [],
   "source": [
    "files_we_want"
   ]
  },
  {
   "cell_type": "code",
   "execution_count": null,
   "id": "29",
   "metadata": {
    "tags": []
   },
   "outputs": [],
   "source": [
    "len(files_we_want)/2"
   ]
  },
  {
   "cell_type": "code",
   "execution_count": null,
   "id": "30",
   "metadata": {
    "tags": []
   },
   "outputs": [],
   "source": []
  },
  {
   "cell_type": "code",
   "execution_count": null,
   "id": "31",
   "metadata": {
    "tags": []
   },
   "outputs": [],
   "source": [
    "image_string= \"mnt/data/output/transfer_2217763_files_3b695c8d/BRICK-001/BRICK-001/20220620/MR/eASL_3_delays/005_eASL_3_delays_eASL_3_delays_20220620000000_real.nii.gz\"\n",
    "image_stringa = \"/mnt/data/output/transfer_2217763_files_3b695c8d/BRICK-001/BRICK-001/20220620/MR/eASL_3_delays/005_eASL_3_delays_eASL_3_delays_20220620000000_reala.nii.gz\"#"
   ]
  },
  {
   "cell_type": "code",
   "execution_count": null,
   "id": "32",
   "metadata": {
    "tags": []
   },
   "outputs": [],
   "source": [
    "list_of_asl = glob.glob('/mnt/data/only_asl_files/*.nii.gz')\n",
    "asl_file =widgets.Dropdown(\n",
    "    options=list_of_asl,\n",
    "    description='ASL file:')#\n",
    "#list_of_asl\n",
    "asl_file"
   ]
  },
  {
   "cell_type": "code",
   "execution_count": null,
   "id": "33",
   "metadata": {
    "tags": []
   },
   "outputs": [],
   "source": [
    "copied_str = asl_file.value\n",
    "copied_str"
   ]
  },
  {
   "cell_type": "code",
   "execution_count": null,
   "id": "34",
   "metadata": {
    "tags": []
   },
   "outputs": [],
   "source": [
    "#iso_str= '/mnt/data/output/transfer_2217763_files_3b695c8d/BRICK-001/BRICK-001/20220620/MR/Isotropic_image/402_Isotropic_image_Isotropic_image_20220620000000.nii.gz'"
   ]
  },
  {
   "cell_type": "code",
   "execution_count": null,
   "id": "35",
   "metadata": {
    "tags": []
   },
   "outputs": [],
   "source": [
    "#foundation.NiftiSliceViewer(iso_str)"
   ]
  },
  {
   "cell_type": "code",
   "execution_count": null,
   "id": "36",
   "metadata": {
    "tags": []
   },
   "outputs": [],
   "source": [
    "#iso_img = nib.load(iso_str)"
   ]
  },
  {
   "cell_type": "code",
   "execution_count": null,
   "id": "37",
   "metadata": {
    "tags": []
   },
   "outputs": [],
   "source": [
    "#iso_img.dataobj.shape"
   ]
  },
  {
   "cell_type": "code",
   "execution_count": null,
   "id": "38",
   "metadata": {},
   "outputs": [],
   "source": [
    "image = nib.load(image_string)\n",
    "imagea = nib.load(image_stringa)\n",
    "loaded = nib.load('/mnt/data/output/transfer_2217763_files_3b695c8d/BRICK-001/BRICK-001/20220620/MR/eASL_3_delays/005_eASL_3_delays_eASL_3_delays_20220620000000_real.nii.gz')\n",
    "loaded_obj = loaded.dataobj"
   ]
  },
  {
   "cell_type": "code",
   "execution_count": null,
   "id": "39",
   "metadata": {
    "tags": []
   },
   "outputs": [],
   "source": [
    "image.dataobj.shape"
   ]
  },
  {
   "cell_type": "code",
   "execution_count": null,
   "id": "40",
   "metadata": {
    "tags": []
   },
   "outputs": [],
   "source": [
    "imagea.dataobj.shape"
   ]
  },
  {
   "cell_type": "code",
   "execution_count": null,
   "id": "41",
   "metadata": {
    "tags": []
   },
   "outputs": [],
   "source": [
    "#image.header['db_name']"
   ]
  },
  {
   "cell_type": "code",
   "execution_count": null,
   "id": "42",
   "metadata": {
    "tags": []
   },
   "outputs": [],
   "source": [
    "image"
   ]
  },
  {
   "cell_type": "code",
   "execution_count": null,
   "id": "43",
   "metadata": {
    "tags": []
   },
   "outputs": [],
   "source": [
    "img_arr = image.dataobj\n",
    "img_arra = imagea.dataobj"
   ]
  },
  {
   "cell_type": "code",
   "execution_count": null,
   "id": "44",
   "metadata": {
    "tags": []
   },
   "outputs": [],
   "source": [
    "img_arra.shape"
   ]
  },
  {
   "cell_type": "code",
   "execution_count": null,
   "id": "45",
   "metadata": {
    "tags": []
   },
   "outputs": [],
   "source": [
    "print(type(img_arr))"
   ]
  },
  {
   "cell_type": "code",
   "execution_count": null,
   "id": "46",
   "metadata": {
    "tags": []
   },
   "outputs": [],
   "source": [
    "real = np.array(img_arr)\n",
    "reala = np.array(img_arra)"
   ]
  },
  {
   "cell_type": "code",
   "execution_count": null,
   "id": "47",
   "metadata": {
    "tags": []
   },
   "outputs": [],
   "source": [
    "list_of_asl = glob.glob('/mnt/data/only_asl_files/*.nii.gz')\n",
    "asl_file =widgets.Dropdown(\n",
    "    options=list_of_asl,\n",
    "    description='ASL file:')#\n",
    "#list_of_asl\n",
    "asl_file"
   ]
  },
  {
   "cell_type": "code",
   "execution_count": null,
   "id": "48",
   "metadata": {
    "tags": []
   },
   "outputs": [],
   "source": [
    "asl_file.value"
   ]
  },
  {
   "cell_type": "code",
   "execution_count": null,
   "id": "49",
   "metadata": {
    "tags": []
   },
   "outputs": [],
   "source": [
    "loaded.shape"
   ]
  },
  {
   "cell_type": "code",
   "execution_count": null,
   "id": "50",
   "metadata": {
    "tags": []
   },
   "outputs": [],
   "source": [
    "#plt.imshow(loaded[:,:,20, 3], cmap='gray')"
   ]
  },
  {
   "cell_type": "code",
   "execution_count": null,
   "id": "51",
   "metadata": {
    "tags": []
   },
   "outputs": [],
   "source": [
    "#real\n",
    "first = np.array(img_arr)\n",
    "second = np.array(img_arra) \n",
    "\n",
    "\n",
    "loaded = nib.load('/mnt/data/output/transfer_2217763_files_3b695c8d/BRICK-001/BRICK-001/20220620/MR/eASL_3_delays/005_eASL_3_delays_eASL_3_delays_20220620000000_reala.nii.gz')\n",
    "loaded_obj = loaded.dataobj\n",
    "print(loaded_obj.shape)\n",
    "\n",
    "plt.figure()\n",
    "f, axarr = plt.subplots(1,4)\n",
    "\n",
    "axarr[0].imshow(loaded_obj[:,:,20, 0], cmap='gray')\n",
    "axarr[1].imshow(loaded_obj[:,:,20, 1], cmap='gray')\n",
    "axarr[2].imshow(loaded_obj[:,:,20, 2], cmap='gray')\n",
    "axarr[3].imshow(loaded_obj[:,:,20, 3], cmap='gray')"
   ]
  },
  {
   "cell_type": "code",
   "execution_count": null,
   "id": "52",
   "metadata": {
    "tags": []
   },
   "outputs": [],
   "source": [
    "\n",
    "loaded2 = nib.load('/mnt/data/output/transfer_2217763_files_3b695c8d/BRICK-001/BRICK-001/20220620/MR/eASL_3_delays/005_eASL_3_delays_eASL_3_delays_20220620000000_real.nii.gz')\n",
    "loaded_obj2 = loaded2.dataobj\n",
    "print(loaded_obj2.shape)\n",
    "\n",
    "\n",
    "plt.figure()\n",
    "f, axarr = plt.subplots(1,4)\n",
    "\n",
    "axarr[0].imshow(loaded_obj2[:,:,20, 0], cmap='gray')\n",
    "axarr[1].imshow(loaded_obj2[:,:,20, 1], cmap='gray')\n",
    "#axarr[2].imshow(loaded_obj[:,:,20, 2], cmap='gray')\n",
    "#axarr[3].imshow(loaded_obj[:,:,20, 3], cmap='gray')"
   ]
  },
  {
   "cell_type": "code",
   "execution_count": null,
   "id": "53",
   "metadata": {
    "tags": []
   },
   "outputs": [],
   "source": [
    "plt.imshow(loaded_obj2[:,:,20, 1] - loaded_obj2[:,:,20, 0], cmap='grey')"
   ]
  },
  {
   "cell_type": "code",
   "execution_count": null,
   "id": "54",
   "metadata": {
    "tags": []
   },
   "outputs": [],
   "source": [
    "plt.imshow(second[:,:,20, 0], cmap='grey')"
   ]
  },
  {
   "cell_type": "code",
   "execution_count": null,
   "id": "55",
   "metadata": {
    "tags": []
   },
   "outputs": [],
   "source": [
    "new_array = first - second\n",
    "new_array.sum()"
   ]
  },
  {
   "cell_type": "code",
   "execution_count": null,
   "id": "56",
   "metadata": {
    "tags": []
   },
   "outputs": [],
   "source": [
    "plt.imshow(new_array[:,:,20, 1])\n"
   ]
  },
  {
   "cell_type": "code",
   "execution_count": null,
   "id": "57",
   "metadata": {},
   "outputs": [],
   "source": []
  }
 ],
 "metadata": {
  "kernelspec": {
   "display_name": "Python 3 (ipykernel)",
   "language": "python",
   "name": "python3"
  },
  "language_info": {
   "codemirror_mode": {
    "name": "ipython",
    "version": 3
   },
   "file_extension": ".py",
   "mimetype": "text/x-python",
   "name": "python",
   "nbconvert_exporter": "python",
   "pygments_lexer": "ipython3",
   "version": "3.11.8"
  }
 },
 "nbformat": 4,
 "nbformat_minor": 5
}
