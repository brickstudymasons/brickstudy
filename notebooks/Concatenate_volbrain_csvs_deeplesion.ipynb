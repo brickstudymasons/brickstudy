{
 "cells": [
  {
   "cell_type": "markdown",
   "metadata": {
    "tags": []
   },
   "source": [
    "## Volbrain deeplesion verzamelen"
   ]
  },
  {
   "cell_type": "markdown",
   "metadata": {},
   "source": [
    "This code is for organizing the Volbrain.net output of the DeepLesion Algorythm. It runs over the zip files in a specific folder, and extracts necessary information from the enclosed CSVs and puts themm all together in a table"
   ]
  },
  {
   "cell_type": "code",
   "execution_count": null,
   "metadata": {
    "tags": []
   },
   "outputs": [],
   "source": [
    "#load necessary libraries\n",
    "import pandas as pd\n",
    "import numpy as np \n",
    "import zipfile\n",
    "import os\n",
    "from zipfile import ZipFile\n",
    "import glob"
   ]
  },
  {
   "cell_type": "code",
   "execution_count": null,
   "metadata": {
    "tags": []
   },
   "outputs": [],
   "source": [
    "#navigate to zipfolders and intended folder for output\n",
    "path_volbrain = 'Z:/VolBrain'\n",
    "output_folder = \"Z:/VolBrain/Separate_CSV_Deeplesion\"\n"
   ]
  },
  {
   "cell_type": "code",
   "execution_count": null,
   "metadata": {},
   "outputs": [],
   "source": [
    "#create a list to store the CSV headers in\n",
    "all_data = []"
   ]
  },
  {
   "cell_type": "code",
   "execution_count": null,
   "metadata": {
    "tags": []
   },
   "outputs": [],
   "source": [
    "dataframes = []\n",
    "from io import BytesIO\n",
    "\n",
    "\n",
    "for zip_file in glob.glob(os.path.join(path_volbrain, '*.zip')):\n",
    "    # split by underscores\n",
    "    participant_id = zip_file.split(\"_\")\n",
    "    # concatenate BRICK with 00X\n",
    "    participant_id = participant_id[1] + \"_\" + participant_id[2]\n",
    "    with ZipFile(zip_file, \"r\") as zf:\n",
    "        #get the list of files inside the zip (assumes 1 csv per zip folder)\n",
    "        for entry_name in zf.namelist():\n",
    "            if entry_name.endswith(\".csv\"):\n",
    "                entry = zf.read(entry_name)\n",
    "                df = pd.read_csv(BytesIO(entry), sep=';')\n",
    "                df['Participant Id'] = participant_id\n",
    "                dataframes.append(df)"
   ]
  },
  {
   "cell_type": "code",
   "execution_count": null,
   "metadata": {
    "tags": []
   },
   "outputs": [],
   "source": [
    "concat_df = pd.concat(dataframes)\n",
    "concat_df"
   ]
  },
  {
   "cell_type": "code",
   "execution_count": null,
   "metadata": {
    "tags": []
   },
   "outputs": [],
   "source": [
    "#move the participant id row to the front. Now it's last. This is important for upload in castor.\n",
    "concat_df = concat_df.loc[:, [concat_df.columns[-1]] + list(concat_df.columns[:-1])]\n"
   ]
  },
  {
   "cell_type": "code",
   "execution_count": null,
   "metadata": {},
   "outputs": [],
   "source": [
    "#Now make the column names castor appropriate. Do not change the \"Participant Id\" column of course. dl stands for DeepLesion algorithm\n",
    "concat_df.columns = [\n",
    "    col if col == \"Participant Id\" else \"dl_\" + col.replace(\" \", \"_\") + \"_T0\"\n",
    "    for col in concat_df.columns\n",
    "]\n",
    "\n",
    "#For castor, male is 1 and female is 2. Replace these values\n",
    "concat_df[\"dl_Sex_T0\"] = concat_df[\"dl_Sex_T0\"].replace({\"Female\": 2, \"Male\": 1})\n"
   ]
  },
  {
   "cell_type": "code",
   "execution_count": null,
   "metadata": {
    "tags": []
   },
   "outputs": [],
   "source": [
    "concat_df.to_csv('Z:/castor_proof_files/volbrains_castor.csv')"
   ]
  }
 ],
 "metadata": {
  "kernelspec": {
   "display_name": "Python 3 (ipykernel)",
   "language": "python",
   "name": "python3"
  },
  "language_info": {
   "codemirror_mode": {
    "name": "ipython",
    "version": 3
   },
   "file_extension": ".py",
   "mimetype": "text/x-python",
   "name": "python",
   "nbconvert_exporter": "python",
   "pygments_lexer": "ipython3",
   "version": "3.11.10"
  }
 },
 "nbformat": 4,
 "nbformat_minor": 4
}
