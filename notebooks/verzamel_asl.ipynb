{
 "cells": [
  {
   "cell_type": "markdown",
   "id": "1059a6f5-2c68-47b5-8264-8dd2902be3bc",
   "metadata": {},
   "source": [
    "# Put together ASL outcomes"
   ]
  },
  {
   "cell_type": "markdown",
   "id": "e4d3c53b-5669-4c19-beec-dcb52d7414fb",
   "metadata": {},
   "source": [
    "The folloing notebook takes outcomes of the OxforASL pipeline, and puts them together"
   ]
  },
  {
   "cell_type": "code",
   "execution_count": null,
   "id": "c65654aa-3cc4-4af1-9707-2d9d5bf262fa",
   "metadata": {
    "tags": []
   },
   "outputs": [],
   "source": [
    "import pydicom\n",
    "from pydicom import dcmread\n",
    "import sys\n",
    "import numpy as np\n",
    "import pandas as pd\n",
    "import importlib\n",
    "import ipywidgets as widgets\n",
    "import matplotlib.pyplot as plt\n",
    "import nibabel as nib\n",
    "import glob\n",
    "import os\n",
    "import json\n",
    "import shutil\n",
    "sys.path.insert(0, '../')\n",
    "from brickstudy import foundation\n"
   ]
  },
  {
   "cell_type": "code",
   "execution_count": null,
   "id": "77d63efc-64ed-4774-9975-dd1bc6fcd40e",
   "metadata": {
    "tags": []
   },
   "outputs": [],
   "source": [
    "# outcome_file_cerebral_wm_mean = '../new_example/native_space/perfusion_cerebral_wm_mean.txt'\n",
    "# outcome_file_cortical_gm_mean = '../new_example/native_space/perfusion_coritcal_gm_mean.txt'\n",
    "# outcome_file_perfusion_gm_mean = '../new_example/native_space/perfusion_gm_mean.txt'\n",
    "# outcome_file_cortical_wm_mean = '../new_example/native_space/perfusion_wm_mean.txt'\n",
    "# patient_numbers = []\n",
    "# perfusion_gm_means = [] \n",
    "# cerebral_wm_means= []\n",
    "# cerebral_gm_means= []\n",
    "\n",
    "# with open(outcome_file_cerebral_wm_mean, 'r') as text:\n",
    "#     cerebral_wm_mean= text.read()\n",
    "#     print(cerebral_wm_mean)\n",
    "#     cerebral_wm_means.append(cerebral_wm_mean)\n",
    "# with open(outcome_file_perfusion_gm_mean, 'r') as text:\n",
    "#     perfusion_gm_mean= text.read()\n",
    "#     print(perfusion_gm_mean)\n",
    "#     perfusion_gm_means.append(perfusion_gm_mean)\n",
    "# patient_number = outcome_file.split(\"/\")\n",
    "# patient_numbers.append(patient_number[1])\n",
    "# data = {'number':[patient_numbers], 'gm_perfusion_mean':[perfusion_gm_means], 'cerebral_wm_means':[cerebral_wm_means]}\n",
    "# frame = pd.DataFrame(data)\n",
    "# data"
   ]
  },
  {
   "cell_type": "code",
   "execution_count": null,
   "id": "6fe9ae07-2974-4515-97b0-191838e83cf5",
   "metadata": {
    "tags": []
   },
   "outputs": [],
   "source": [
    "# base_path = '/mnt/data/asl_outputs_friday_30_august/'\n",
    "# number = '001.nii.gzgood3'\n",
    "# outcome_file_cerebral_wm_mean = os.path.join(base_path,number,'native_space/perfusion_cerebral_wm_mean.txt')\n",
    "# outcome_file_cortical_gm_mean = os.path.join(base_path,number,'native_space/perfusion_coritcal_gm_mean.txt')\n",
    "# outcome_file_perfusion_gm_mean =os.path.join(base_path,number,'native_space/perfusion_gm_mean.txt')\n",
    "# outcome_file_cortical_wm_mean = os.path.join(base_path,number,'native_space/perfusion_wm_mean.txt')\n",
    "# patient_numbers = []\n",
    "# perfusion_gm_means = [] \n",
    "# cerebral_wm_means= []\n",
    "# cerebral_gm_means= []\n",
    "# print(number)\n",
    "# with open(outcome_file_cerebral_wm_mean, 'r') as text:\n",
    "#     cerebral_wm_mean= text.read()\n",
    "#     #print(cerebral_wm_mean)\n",
    "#     cerebral_wm_means.append(cerebral_wm_mean)\n",
    "# with open(outcome_file_perfusion_gm_mean, 'r') as text:\n",
    "#     perfusion_gm_mean= text.read()\n",
    "#     #print(perfusion_gm_mean)\n",
    "#     perfusion_gm_means.append(perfusion_gm_mean)\n",
    "# patient_number = os.path.split(number)\n",
    "# patient_numbers.append(patient_number)\n",
    "# data = {'number':[patient_numbers], 'gm_perfusion_mean':[perfusion_gm_means], 'cerebral_wm_means':[cerebral_wm_means]}\n",
    "# frame = pd.DataFrame(data)"
   ]
  },
  {
   "cell_type": "code",
   "execution_count": null,
   "id": "9ac8e632-af6c-47a7-a5c5-f2a90c3d072c",
   "metadata": {
    "tags": []
   },
   "outputs": [],
   "source": [
    "potential_numbers = glob.glob('/mnt/data/asl_outputs_friday_30_august/*')\n",
    "print(potential_numbers)"
   ]
  },
  {
   "cell_type": "code",
   "execution_count": null,
   "id": "a432623b-5099-415a-a445-008d81fcdf25",
   "metadata": {
    "tags": []
   },
   "outputs": [],
   "source": [
    "patient_numbers = []\n",
    "\n",
    "perfusion_gm_means = [] \n",
    "cortical_gm_means =[]\n",
    "perfusion_wm_means= []\n",
    "cerebral_wm_means =[]\n",
    "#perfusion_wm_means= []\n",
    "numbers = potential_numbers\n",
    "for number in numbers:\n",
    "    #base_path = '/mnt/data/asl_outputs_friday_30_august/'\n",
    "    patient_number = number.split('/')\n",
    "    patient_number = patient_number[4]\n",
    "    outcome_file_cerebral_wm_mean = os.path.join(number,'native_space/perfusion_cerebral_wm_mean.txt')\n",
    "    outcome_file_perfusion_wm_mean = os.path.join(number,'native_space/perfusion_wm_mean.txt')\n",
    "    outcome_file_cortical_gm_mean = os.path.join(number,'native_space/perfusion_cortical_gm_mean.txt')\n",
    "    outcome_file_perfusion_gm_mean =os.path.join(number,'native_space/perfusion_gm_mean.txt')\n",
    "    \n",
    "    \n",
    "    #print(number[2])\n",
    "    patient_numbers.append(patient_number)\n",
    "    #cerebral wm\n",
    "    if os.path.exists(outcome_file_cerebral_wm_mean):\n",
    "        with open(outcome_file_cerebral_wm_mean, 'r') as text:\n",
    "            cerebral_wm_mean= text.read()\n",
    "            #print(cerebral_wm_mean)\n",
    "            cerebral_wm_means.append(cerebral_wm_mean)\n",
    "    else:\n",
    "        cerebral_wm_mean= 'Not found'\n",
    "        #print(cerebral_wm_mean)\n",
    "        cerebral_wm_means.append(cerebral_wm_mean)\n",
    "    #perfusion wm    \n",
    "    if os.path.exists(outcome_file_perfusion_wm_mean):\n",
    "        with open( outcome_file_perfusion_wm_mean , 'r') as text:\n",
    "            perfusion_wm_mean= text.read()\n",
    "            perfusion_wm_means.append(perfusion_wm_mean)\n",
    "    else:\n",
    "        perfusion_wm_mean= 'Not found'\n",
    "        perfusion_wm_means.append(cortical_wm_mean)\n",
    "    # cortical gm    \n",
    "    if os.path.exists(outcome_file_cortical_gm_mean):\n",
    "        with open( outcome_file_cortical_gm_mean , 'r') as text:\n",
    "            cortical_gm_mean= text.read()\n",
    "            cortical_gm_means.append(cortical_gm_mean)\n",
    "    else:\n",
    "        cortical_gm_mean= 'Not found'\n",
    "        \n",
    "        cortical_gm_means.append(cortical_gm_mean)\n",
    "    \n",
    "    # perfusion gm    \n",
    "    with open(outcome_file_perfusion_gm_mean, 'r') as text:\n",
    "        perfusion_gm_mean= text.read()\n",
    "        #print(perfusion_gm_mean)\n",
    "        perfusion_gm_means.append(perfusion_gm_mean)\n",
    "\n",
    "#patient_numbers.append(patient_number)\n",
    "#print(patient_numbers)\n",
    "data = {'patient_number':patient_numbers,\n",
    "        'gm_perfusion_mean':perfusion_gm_means,\n",
    "        'cerebral_wm_means':cerebral_wm_means,\n",
    "        'cortical_gm_means':cortical_gm_means,\n",
    "        'perfusion_wm_means':perfusion_wm_means,\n",
    "       }\n",
    "frame = pd.DataFrame(data)\n",
    "print(len(cortical_gm_means))\n",
    "print(len(cerebral_wm_means))\n",
    "print(len(cortical_gm_means))"
   ]
  },
  {
   "cell_type": "code",
   "execution_count": null,
   "id": "d92f1277-b4de-4885-a0d1-e4c94e9138b4",
   "metadata": {
    "tags": []
   },
   "outputs": [],
   "source": [
    "frame"
   ]
  },
  {
   "cell_type": "code",
   "execution_count": null,
   "id": "30f9de14-d2b2-44c1-b25d-61b09997a03c",
   "metadata": {
    "tags": []
   },
   "outputs": [],
   "source": [
    "frame['gm_perfusion_mean'] = frame['gm_perfusion_mean'].str.strip()\n",
    "frame['perfusion_wm_means'] = frame['perfusion_wm_means'].str.strip()\n",
    "frame['cerebral_wm_means'] = frame['cerebral_wm_means'].str.strip()\n",
    "frame['cortical_gm_means'] = frame['cortical_gm_means'].str.strip()\n",
    "frame['gm_perfusion_mean']  = pd.to_numeric(frame['gm_perfusion_mean'], errors='coerce')\n",
    "frame['perfusion_wm_means']= pd.to_numeric(frame['perfusion_wm_means'], errors='coerce')\n",
    "frame['cerebral_wm_means']  = pd.to_numeric(frame['cerebral_wm_means'], errors='coerce')\n",
    "frame['cortical_gm_means']  = pd.to_numeric(frame['cortical_gm_means'], errors='coerce')\n",
    "frame['patient_number'] = frame['patient_number'].str.split('.').str[0]"
   ]
  },
  {
   "cell_type": "code",
   "execution_count": null,
   "id": "c3ad146f-8ada-4167-9777-74a8d00e1c89",
   "metadata": {
    "tags": []
   },
   "outputs": [],
   "source": [
    "frame"
   ]
  },
  {
   "cell_type": "code",
   "execution_count": null,
   "id": "f725c34a-0f19-4659-ba0a-f9475b2c0128",
   "metadata": {},
   "outputs": [],
   "source": [
    "frame.to_csv('../secret_data/current_asl_outputs.csv')"
   ]
  },
  {
   "cell_type": "code",
   "execution_count": null,
   "id": "75e92976-ab9a-4916-a0ca-044690c097a7",
   "metadata": {},
   "outputs": [],
   "source": []
  }
 ],
 "metadata": {
  "kernelspec": {
   "display_name": "Python 3 (ipykernel)",
   "language": "python",
   "name": "python3"
  },
  "language_info": {
   "codemirror_mode": {
    "name": "ipython",
    "version": 3
   },
   "file_extension": ".py",
   "mimetype": "text/x-python",
   "name": "python",
   "nbconvert_exporter": "python",
   "pygments_lexer": "ipython3",
   "version": "3.11.9"
  }
 },
 "nbformat": 4,
 "nbformat_minor": 5
}
