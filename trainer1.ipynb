{
 "cells": [
  {
   "cell_type": "markdown",
   "id": "123ea4cb-5e01-423c-8f27-c519b57e778a",
   "metadata": {},
   "source": [
    "# This is a demo to get you more familiar with how to merge tabular data"
   ]
  },
  {
   "cell_type": "code",
   "execution_count": 1,
   "id": "83448b75-26f4-4b71-8374-5d52d63a8a8f",
   "metadata": {
    "tags": []
   },
   "outputs": [],
   "source": [
    "import os\n",
    "import sys\n",
    "from functools import reduce\n",
    "import pandas as pd\n",
    "import numpy as np\n",
    "\n",
    "from brickstudy import foundation"
   ]
  },
  {
   "cell_type": "markdown",
   "id": "20e9e2aa-5bee-4e34-ba72-af4bb47ebb87",
   "metadata": {},
   "source": [
    "### now we will make some sample just data just as an example"
   ]
  },
  {
   "cell_type": "code",
   "execution_count": 3,
   "id": "2ae35f02-8f2e-435c-b4d4-5d76476cfded",
   "metadata": {
    "tags": []
   },
   "outputs": [
    {
     "data": {
      "text/html": [
       "<div>\n",
       "<style scoped>\n",
       "    .dataframe tbody tr th:only-of-type {\n",
       "        vertical-align: middle;\n",
       "    }\n",
       "\n",
       "    .dataframe tbody tr th {\n",
       "        vertical-align: top;\n",
       "    }\n",
       "\n",
       "    .dataframe thead th {\n",
       "        text-align: right;\n",
       "    }\n",
       "</style>\n",
       "<table border=\"1\" class=\"dataframe\">\n",
       "  <thead>\n",
       "    <tr style=\"text-align: right;\">\n",
       "      <th></th>\n",
       "      <th>Name</th>\n",
       "      <th>Age</th>\n",
       "    </tr>\n",
       "  </thead>\n",
       "  <tbody>\n",
       "    <tr>\n",
       "      <th>0</th>\n",
       "      <td>frank</td>\n",
       "      <td>11</td>\n",
       "    </tr>\n",
       "    <tr>\n",
       "      <th>1</th>\n",
       "      <td>sushi</td>\n",
       "      <td>15</td>\n",
       "    </tr>\n",
       "    <tr>\n",
       "      <th>2</th>\n",
       "      <td>julie</td>\n",
       "      <td>14</td>\n",
       "    </tr>\n",
       "  </tbody>\n",
       "</table>\n",
       "</div>"
      ],
      "text/plain": [
       "    Name  Age\n",
       "0  frank   11\n",
       "1  sushi   15\n",
       "2  julie   14"
      ]
     },
     "execution_count": 3,
     "metadata": {},
     "output_type": "execute_result"
    }
   ],
   "source": [
    "\n",
    "# initialize list of lists\n",
    "data1 = [['frank', 11], ['sushi', 15], ['julie', 14]]\n",
    " \n",
    "# Create the pandas DataFrame\n",
    "df1 = pd.DataFrame(data1, columns=['Name', 'Age'])\n",
    "df1"
   ]
  },
  {
   "cell_type": "code",
   "execution_count": 4,
   "id": "02f10a4b-4283-41fa-81a9-7a58ea2350ff",
   "metadata": {
    "tags": []
   },
   "outputs": [
    {
     "data": {
      "text/html": [
       "<div>\n",
       "<style scoped>\n",
       "    .dataframe tbody tr th:only-of-type {\n",
       "        vertical-align: middle;\n",
       "    }\n",
       "\n",
       "    .dataframe tbody tr th {\n",
       "        vertical-align: top;\n",
       "    }\n",
       "\n",
       "    .dataframe thead th {\n",
       "        text-align: right;\n",
       "    }\n",
       "</style>\n",
       "<table border=\"1\" class=\"dataframe\">\n",
       "  <thead>\n",
       "    <tr style=\"text-align: right;\">\n",
       "      <th></th>\n",
       "      <th>Name</th>\n",
       "      <th>City</th>\n",
       "    </tr>\n",
       "  </thead>\n",
       "  <tbody>\n",
       "    <tr>\n",
       "      <th>0</th>\n",
       "      <td>frank</td>\n",
       "      <td>Zaandam</td>\n",
       "    </tr>\n",
       "    <tr>\n",
       "      <th>1</th>\n",
       "      <td>julie</td>\n",
       "      <td>Rotterdam</td>\n",
       "    </tr>\n",
       "    <tr>\n",
       "      <th>2</th>\n",
       "      <td>sushi</td>\n",
       "      <td>Amstersdam</td>\n",
       "    </tr>\n",
       "  </tbody>\n",
       "</table>\n",
       "</div>"
      ],
      "text/plain": [
       "    Name        City\n",
       "0  frank     Zaandam\n",
       "1  julie   Rotterdam\n",
       "2  sushi  Amstersdam"
      ]
     },
     "execution_count": 4,
     "metadata": {},
     "output_type": "execute_result"
    }
   ],
   "source": [
    "data2 = [['frank', 'Zaandam'], ['julie', 'Rotterdam'], ['sushi', 'Amstersdam']]\n",
    " \n",
    "# Create the pandas DataFrame\n",
    "df2 = pd.DataFrame(data2, columns=['Name', 'City'])\n",
    "df2"
   ]
  },
  {
   "cell_type": "markdown",
   "id": "e3d5e1b1-164a-4e44-b3c7-df861cab249f",
   "metadata": {},
   "source": [
    "# We just made two datasets. Now we will merge them. Just sticking them together randomly will not work. We want to use the names as a key. We mant pandas to reorganize the dataframes, based on that key, so all the right info goes with the right person. "
   ]
  },
  {
   "cell_type": "code",
   "execution_count": 5,
   "id": "4a7248f2-9055-4a49-bb20-ef2f5d9a6d85",
   "metadata": {
    "tags": []
   },
   "outputs": [],
   "source": [
    "merged = df1.merge(df2, left_on='Name', right_on='Name')"
   ]
  },
  {
   "cell_type": "code",
   "execution_count": 6,
   "id": "70802381-ec7d-4e7b-b221-ba0efe671818",
   "metadata": {
    "tags": []
   },
   "outputs": [
    {
     "data": {
      "text/html": [
       "<div>\n",
       "<style scoped>\n",
       "    .dataframe tbody tr th:only-of-type {\n",
       "        vertical-align: middle;\n",
       "    }\n",
       "\n",
       "    .dataframe tbody tr th {\n",
       "        vertical-align: top;\n",
       "    }\n",
       "\n",
       "    .dataframe thead th {\n",
       "        text-align: right;\n",
       "    }\n",
       "</style>\n",
       "<table border=\"1\" class=\"dataframe\">\n",
       "  <thead>\n",
       "    <tr style=\"text-align: right;\">\n",
       "      <th></th>\n",
       "      <th>Name</th>\n",
       "      <th>Age</th>\n",
       "      <th>City</th>\n",
       "    </tr>\n",
       "  </thead>\n",
       "  <tbody>\n",
       "    <tr>\n",
       "      <th>0</th>\n",
       "      <td>frank</td>\n",
       "      <td>11</td>\n",
       "      <td>Zaandam</td>\n",
       "    </tr>\n",
       "    <tr>\n",
       "      <th>1</th>\n",
       "      <td>sushi</td>\n",
       "      <td>15</td>\n",
       "      <td>Amstersdam</td>\n",
       "    </tr>\n",
       "    <tr>\n",
       "      <th>2</th>\n",
       "      <td>julie</td>\n",
       "      <td>14</td>\n",
       "      <td>Rotterdam</td>\n",
       "    </tr>\n",
       "  </tbody>\n",
       "</table>\n",
       "</div>"
      ],
      "text/plain": [
       "    Name  Age        City\n",
       "0  frank   11     Zaandam\n",
       "1  sushi   15  Amstersdam\n",
       "2  julie   14   Rotterdam"
      ]
     },
     "execution_count": 6,
     "metadata": {},
     "output_type": "execute_result"
    }
   ],
   "source": [
    "merged"
   ]
  },
  {
   "cell_type": "markdown",
   "id": "0c69409b-ee04-4aec-b4c0-bcca5e4022fa",
   "metadata": {},
   "source": [
    "## Ok that was easy. Let's move on to what you have...excel spreadsheets with keys named at random, which need to be matched (your computer is not psychic)"
   ]
  },
  {
   "cell_type": "code",
   "execution_count": 7,
   "id": "865c16a8-f6fa-4979-b6dd-e0e5fc29ca7b",
   "metadata": {
    "tags": []
   },
   "outputs": [
    {
     "data": {
      "text/html": [
       "<div>\n",
       "<style scoped>\n",
       "    .dataframe tbody tr th:only-of-type {\n",
       "        vertical-align: middle;\n",
       "    }\n",
       "\n",
       "    .dataframe tbody tr th {\n",
       "        vertical-align: top;\n",
       "    }\n",
       "\n",
       "    .dataframe thead th {\n",
       "        text-align: right;\n",
       "    }\n",
       "</style>\n",
       "<table border=\"1\" class=\"dataframe\">\n",
       "  <thead>\n",
       "    <tr style=\"text-align: right;\">\n",
       "      <th></th>\n",
       "      <th>Not_the_same</th>\n",
       "      <th>Age</th>\n",
       "    </tr>\n",
       "  </thead>\n",
       "  <tbody>\n",
       "    <tr>\n",
       "      <th>0</th>\n",
       "      <td>frank</td>\n",
       "      <td>11</td>\n",
       "    </tr>\n",
       "    <tr>\n",
       "      <th>1</th>\n",
       "      <td>sushi</td>\n",
       "      <td>15</td>\n",
       "    </tr>\n",
       "    <tr>\n",
       "      <th>2</th>\n",
       "      <td>julie</td>\n",
       "      <td>14</td>\n",
       "    </tr>\n",
       "  </tbody>\n",
       "</table>\n",
       "</div>"
      ],
      "text/plain": [
       "  Not_the_same  Age\n",
       "0        frank   11\n",
       "1        sushi   15\n",
       "2        julie   14"
      ]
     },
     "execution_count": 7,
     "metadata": {},
     "output_type": "execute_result"
    }
   ],
   "source": [
    "# Scenario A: different common key\n",
    "\n",
    "# initialize list of lists\n",
    "data3 = [['frank', 11], ['sushi', 15], ['julie', 14]]\n",
    " \n",
    "# Create the pandas DataFrame\n",
    "df3 = pd.DataFrame(data1, columns=['Not_the_same', 'Age'])\n",
    "df3 "
   ]
  },
  {
   "cell_type": "code",
   "execution_count": 8,
   "id": "46b62686-c3ed-4ce1-a474-71fb5424622f",
   "metadata": {
    "tags": []
   },
   "outputs": [
    {
     "data": {
      "text/html": [
       "<div>\n",
       "<style scoped>\n",
       "    .dataframe tbody tr th:only-of-type {\n",
       "        vertical-align: middle;\n",
       "    }\n",
       "\n",
       "    .dataframe tbody tr th {\n",
       "        vertical-align: top;\n",
       "    }\n",
       "\n",
       "    .dataframe thead th {\n",
       "        text-align: right;\n",
       "    }\n",
       "</style>\n",
       "<table border=\"1\" class=\"dataframe\">\n",
       "  <thead>\n",
       "    <tr style=\"text-align: right;\">\n",
       "      <th></th>\n",
       "      <th>Key_is_notCommon</th>\n",
       "      <th>City</th>\n",
       "    </tr>\n",
       "  </thead>\n",
       "  <tbody>\n",
       "    <tr>\n",
       "      <th>0</th>\n",
       "      <td>frank</td>\n",
       "      <td>Zaandam</td>\n",
       "    </tr>\n",
       "    <tr>\n",
       "      <th>1</th>\n",
       "      <td>julie</td>\n",
       "      <td>Rotterdam</td>\n",
       "    </tr>\n",
       "    <tr>\n",
       "      <th>2</th>\n",
       "      <td>sushi</td>\n",
       "      <td>Amstersdam</td>\n",
       "    </tr>\n",
       "  </tbody>\n",
       "</table>\n",
       "</div>"
      ],
      "text/plain": [
       "  Key_is_notCommon        City\n",
       "0            frank     Zaandam\n",
       "1            julie   Rotterdam\n",
       "2            sushi  Amstersdam"
      ]
     },
     "execution_count": 8,
     "metadata": {},
     "output_type": "execute_result"
    }
   ],
   "source": [
    "data4 = [['frank', 'Zaandam'], ['julie', 'Rotterdam'], ['sushi', 'Amstersdam']]\n",
    " \n",
    "# Create the pandas DataFrame\n",
    "df4 = pd.DataFrame(data2, columns=['Key_is_notCommon', 'City'])\n",
    "df4"
   ]
  },
  {
   "cell_type": "code",
   "execution_count": 11,
   "id": "e6f5b6a1-63af-4128-bc17-489a766d0160",
   "metadata": {
    "tags": []
   },
   "outputs": [],
   "source": [
    "merged2 = df3.merge(df4, left_on='Not_the_same', right_on='Key_is_notCommon')"
   ]
  },
  {
   "cell_type": "code",
   "execution_count": 12,
   "id": "deda4b72-be19-4abd-acb7-f27ba3b5c492",
   "metadata": {
    "tags": []
   },
   "outputs": [
    {
     "data": {
      "text/html": [
       "<div>\n",
       "<style scoped>\n",
       "    .dataframe tbody tr th:only-of-type {\n",
       "        vertical-align: middle;\n",
       "    }\n",
       "\n",
       "    .dataframe tbody tr th {\n",
       "        vertical-align: top;\n",
       "    }\n",
       "\n",
       "    .dataframe thead th {\n",
       "        text-align: right;\n",
       "    }\n",
       "</style>\n",
       "<table border=\"1\" class=\"dataframe\">\n",
       "  <thead>\n",
       "    <tr style=\"text-align: right;\">\n",
       "      <th></th>\n",
       "      <th>Not_the_same</th>\n",
       "      <th>Age</th>\n",
       "      <th>Key_is_notCommon</th>\n",
       "      <th>City</th>\n",
       "    </tr>\n",
       "  </thead>\n",
       "  <tbody>\n",
       "    <tr>\n",
       "      <th>0</th>\n",
       "      <td>frank</td>\n",
       "      <td>11</td>\n",
       "      <td>frank</td>\n",
       "      <td>Zaandam</td>\n",
       "    </tr>\n",
       "    <tr>\n",
       "      <th>1</th>\n",
       "      <td>sushi</td>\n",
       "      <td>15</td>\n",
       "      <td>sushi</td>\n",
       "      <td>Amstersdam</td>\n",
       "    </tr>\n",
       "    <tr>\n",
       "      <th>2</th>\n",
       "      <td>julie</td>\n",
       "      <td>14</td>\n",
       "      <td>julie</td>\n",
       "      <td>Rotterdam</td>\n",
       "    </tr>\n",
       "  </tbody>\n",
       "</table>\n",
       "</div>"
      ],
      "text/plain": [
       "  Not_the_same  Age Key_is_notCommon        City\n",
       "0        frank   11            frank     Zaandam\n",
       "1        sushi   15            sushi  Amstersdam\n",
       "2        julie   14            julie   Rotterdam"
      ]
     },
     "execution_count": 12,
     "metadata": {},
     "output_type": "execute_result"
    }
   ],
   "source": [
    "merged2"
   ]
  },
  {
   "cell_type": "markdown",
   "id": "4d0e0b54-47cf-4063-aae6-6bb8334c825f",
   "metadata": {},
   "source": [
    "# So that worked but now we have an extra column we don't need. We can drop it, but better to just name all the keys the same, and never anything else the same as the key"
   ]
  },
  {
   "cell_type": "markdown",
   "id": "42f56dc0-56e0-4c4d-aa19-b4d8d01254ab",
   "metadata": {},
   "source": [
    "# Now about excel spreadsheets. If we have a key for all the sheets, we can write a function to simply read each sheet as a csv, then merge them\n"
   ]
  },
  {
   "cell_type": "markdown",
   "id": "6398c6f4-1091-4f8a-9f5b-ecc4887cd668",
   "metadata": {},
   "source": [
    "But we need to make sure they key columns actually match!\n",
    "Let's see an example when they do not by adding a row to df1"
   ]
  },
  {
   "cell_type": "code",
   "execution_count": 15,
   "id": "9cc8c82e-3428-43b0-a13b-182e20483ab2",
   "metadata": {
    "tags": []
   },
   "outputs": [
    {
     "data": {
      "text/html": [
       "<div>\n",
       "<style scoped>\n",
       "    .dataframe tbody tr th:only-of-type {\n",
       "        vertical-align: middle;\n",
       "    }\n",
       "\n",
       "    .dataframe tbody tr th {\n",
       "        vertical-align: top;\n",
       "    }\n",
       "\n",
       "    .dataframe thead th {\n",
       "        text-align: right;\n",
       "    }\n",
       "</style>\n",
       "<table border=\"1\" class=\"dataframe\">\n",
       "  <thead>\n",
       "    <tr style=\"text-align: right;\">\n",
       "      <th></th>\n",
       "      <th>Name</th>\n",
       "      <th>Age</th>\n",
       "    </tr>\n",
       "  </thead>\n",
       "  <tbody>\n",
       "    <tr>\n",
       "      <th>0</th>\n",
       "      <td>frank</td>\n",
       "      <td>11</td>\n",
       "    </tr>\n",
       "    <tr>\n",
       "      <th>1</th>\n",
       "      <td>sushi</td>\n",
       "      <td>15</td>\n",
       "    </tr>\n",
       "    <tr>\n",
       "      <th>2</th>\n",
       "      <td>julie</td>\n",
       "      <td>14</td>\n",
       "    </tr>\n",
       "    <tr>\n",
       "      <th>3</th>\n",
       "      <td>amy</td>\n",
       "      <td>89</td>\n",
       "    </tr>\n",
       "  </tbody>\n",
       "</table>\n",
       "</div>"
      ],
      "text/plain": [
       "    Name  Age\n",
       "0  frank   11\n",
       "1  sushi   15\n",
       "2  julie   14\n",
       "3    amy   89"
      ]
     },
     "execution_count": 15,
     "metadata": {},
     "output_type": "execute_result"
    }
   ],
   "source": [
    "df1"
   ]
  },
  {
   "cell_type": "code",
   "execution_count": 16,
   "id": "531c1a4f-0922-4e3b-be3c-7b473845286b",
   "metadata": {
    "tags": []
   },
   "outputs": [
    {
     "data": {
      "text/html": [
       "<div>\n",
       "<style scoped>\n",
       "    .dataframe tbody tr th:only-of-type {\n",
       "        vertical-align: middle;\n",
       "    }\n",
       "\n",
       "    .dataframe tbody tr th {\n",
       "        vertical-align: top;\n",
       "    }\n",
       "\n",
       "    .dataframe thead th {\n",
       "        text-align: right;\n",
       "    }\n",
       "</style>\n",
       "<table border=\"1\" class=\"dataframe\">\n",
       "  <thead>\n",
       "    <tr style=\"text-align: right;\">\n",
       "      <th></th>\n",
       "      <th>Name</th>\n",
       "      <th>Age</th>\n",
       "    </tr>\n",
       "  </thead>\n",
       "  <tbody>\n",
       "    <tr>\n",
       "      <th>0</th>\n",
       "      <td>frank</td>\n",
       "      <td>11</td>\n",
       "    </tr>\n",
       "    <tr>\n",
       "      <th>1</th>\n",
       "      <td>sushi</td>\n",
       "      <td>15</td>\n",
       "    </tr>\n",
       "    <tr>\n",
       "      <th>2</th>\n",
       "      <td>julie</td>\n",
       "      <td>14</td>\n",
       "    </tr>\n",
       "    <tr>\n",
       "      <th>3</th>\n",
       "      <td>amy</td>\n",
       "      <td>89</td>\n",
       "    </tr>\n",
       "    <tr>\n",
       "      <th>4</th>\n",
       "      <td>amy</td>\n",
       "      <td>89</td>\n",
       "    </tr>\n",
       "  </tbody>\n",
       "</table>\n",
       "</div>"
      ],
      "text/plain": [
       "    Name  Age\n",
       "0  frank   11\n",
       "1  sushi   15\n",
       "2  julie   14\n",
       "3    amy   89\n",
       "4    amy   89"
      ]
     },
     "execution_count": 16,
     "metadata": {},
     "output_type": "execute_result"
    }
   ],
   "source": [
    "df1.loc[len(df1.index)] = ['amy', 89]\n",
    "df1"
   ]
  },
  {
   "cell_type": "markdown",
   "id": "f8957b74-c358-4bbb-90ee-b4243cb0808b",
   "metadata": {
    "tags": []
   },
   "source": [
    "df2"
   ]
  },
  {
   "cell_type": "code",
   "execution_count": 17,
   "id": "73597692-072a-4a3d-b5d2-0870c46034c2",
   "metadata": {
    "tags": []
   },
   "outputs": [
    {
     "data": {
      "text/html": [
       "<div>\n",
       "<style scoped>\n",
       "    .dataframe tbody tr th:only-of-type {\n",
       "        vertical-align: middle;\n",
       "    }\n",
       "\n",
       "    .dataframe tbody tr th {\n",
       "        vertical-align: top;\n",
       "    }\n",
       "\n",
       "    .dataframe thead th {\n",
       "        text-align: right;\n",
       "    }\n",
       "</style>\n",
       "<table border=\"1\" class=\"dataframe\">\n",
       "  <thead>\n",
       "    <tr style=\"text-align: right;\">\n",
       "      <th></th>\n",
       "      <th>Name</th>\n",
       "      <th>Age</th>\n",
       "      <th>City</th>\n",
       "    </tr>\n",
       "  </thead>\n",
       "  <tbody>\n",
       "    <tr>\n",
       "      <th>0</th>\n",
       "      <td>frank</td>\n",
       "      <td>11</td>\n",
       "      <td>Zaandam</td>\n",
       "    </tr>\n",
       "    <tr>\n",
       "      <th>1</th>\n",
       "      <td>sushi</td>\n",
       "      <td>15</td>\n",
       "      <td>Amstersdam</td>\n",
       "    </tr>\n",
       "    <tr>\n",
       "      <th>2</th>\n",
       "      <td>julie</td>\n",
       "      <td>14</td>\n",
       "      <td>Rotterdam</td>\n",
       "    </tr>\n",
       "  </tbody>\n",
       "</table>\n",
       "</div>"
      ],
      "text/plain": [
       "    Name  Age        City\n",
       "0  frank   11     Zaandam\n",
       "1  sushi   15  Amstersdam\n",
       "2  julie   14   Rotterdam"
      ]
     },
     "execution_count": 17,
     "metadata": {},
     "output_type": "execute_result"
    }
   ],
   "source": [
    "\n",
    "merged5 = df1.merge(df2, left_on='Name', right_on='Name')\n",
    "merged5"
   ]
  },
  {
   "cell_type": "markdown",
   "id": "dca2950c-5d71-4d2b-a132-eddba86dbbfc",
   "metadata": {
    "tags": []
   },
   "source": [
    "# Where did poor Amy go? She was lost because we left the merge pattern on default.\n",
    "Let's try again"
   ]
  },
  {
   "cell_type": "code",
   "execution_count": 18,
   "id": "bb2f575e-39f0-43f8-b2e0-cda8c7909e45",
   "metadata": {
    "tags": []
   },
   "outputs": [
    {
     "data": {
      "text/html": [
       "<div>\n",
       "<style scoped>\n",
       "    .dataframe tbody tr th:only-of-type {\n",
       "        vertical-align: middle;\n",
       "    }\n",
       "\n",
       "    .dataframe tbody tr th {\n",
       "        vertical-align: top;\n",
       "    }\n",
       "\n",
       "    .dataframe thead th {\n",
       "        text-align: right;\n",
       "    }\n",
       "</style>\n",
       "<table border=\"1\" class=\"dataframe\">\n",
       "  <thead>\n",
       "    <tr style=\"text-align: right;\">\n",
       "      <th></th>\n",
       "      <th>Name</th>\n",
       "      <th>Age</th>\n",
       "      <th>City</th>\n",
       "    </tr>\n",
       "  </thead>\n",
       "  <tbody>\n",
       "    <tr>\n",
       "      <th>0</th>\n",
       "      <td>amy</td>\n",
       "      <td>89</td>\n",
       "      <td>NaN</td>\n",
       "    </tr>\n",
       "    <tr>\n",
       "      <th>1</th>\n",
       "      <td>amy</td>\n",
       "      <td>89</td>\n",
       "      <td>NaN</td>\n",
       "    </tr>\n",
       "    <tr>\n",
       "      <th>2</th>\n",
       "      <td>frank</td>\n",
       "      <td>11</td>\n",
       "      <td>Zaandam</td>\n",
       "    </tr>\n",
       "    <tr>\n",
       "      <th>3</th>\n",
       "      <td>julie</td>\n",
       "      <td>14</td>\n",
       "      <td>Rotterdam</td>\n",
       "    </tr>\n",
       "    <tr>\n",
       "      <th>4</th>\n",
       "      <td>sushi</td>\n",
       "      <td>15</td>\n",
       "      <td>Amstersdam</td>\n",
       "    </tr>\n",
       "  </tbody>\n",
       "</table>\n",
       "</div>"
      ],
      "text/plain": [
       "    Name  Age        City\n",
       "0    amy   89         NaN\n",
       "1    amy   89         NaN\n",
       "2  frank   11     Zaandam\n",
       "3  julie   14   Rotterdam\n",
       "4  sushi   15  Amstersdam"
      ]
     },
     "execution_count": 18,
     "metadata": {},
     "output_type": "execute_result"
    }
   ],
   "source": [
    "merged5 = df1.merge(df2, how= 'outer',left_on='Name', right_on='Name')\n",
    "merged5"
   ]
  },
  {
   "cell_type": "markdown",
   "id": "ea4f6a0c-e49a-4c33-8732-477f9d390538",
   "metadata": {
    "tags": []
   },
   "source": [
    "# This is just the basic level you need to know to start attaching more data once I am gone. I will build some functions to automate you tabular dta attachment this weeend."
   ]
  },
  {
   "cell_type": "markdown",
   "id": "69006dd8-c5a8-4ed2-8de0-e67b1875ed23",
   "metadata": {
    "tags": []
   },
   "source": [
    "# part #2: dealing with Excel"
   ]
  },
  {
   "cell_type": "code",
   "execution_count": 19,
   "id": "dff4aa02-dc79-4cc5-ab78-e1d2f24e3d21",
   "metadata": {
    "tags": []
   },
   "outputs": [
    {
     "name": "stdout",
     "output_type": "stream",
     "text": [
      "['sheet1', 'sheet2', 'Sheet3row']\n"
     ]
    }
   ],
   "source": [
    "# Read Excel file with multiple sheets\n",
    "xls = pd.ExcelFile(\"sample_synthetic_data/example_excel.xlsx\")\n",
    "# Get the list of sheet names\n",
    "sheet_names = xls.sheet_names\n",
    "# Print the sheet names\n",
    "print(sheet_names)\n"
   ]
  },
  {
   "cell_type": "code",
   "execution_count": 20,
   "id": "2991a897-3e39-4b94-87de-50a9477e081c",
   "metadata": {
    "tags": []
   },
   "outputs": [],
   "source": [
    "excel_file = pd.read_excel(\"sample_synthetic_data/example_excel.xlsx\", sheet_name= sheet_names )"
   ]
  },
  {
   "cell_type": "code",
   "execution_count": 21,
   "id": "148d83d5-993b-4a3c-865f-312b89027a7a",
   "metadata": {
    "tags": []
   },
   "outputs": [
    {
     "name": "stdout",
     "output_type": "stream",
     "text": [
      "<class 'dict'>\n"
     ]
    }
   ],
   "source": [
    "print(type(excel_file))\n"
   ]
  },
  {
   "cell_type": "markdown",
   "id": "f7decaa6-2633-4dd9-bf38-363214a50236",
   "metadata": {
    "tags": []
   },
   "source": [
    "So now we made a dictionary of the excel file. Let's access all parts of it"
   ]
  },
  {
   "cell_type": "code",
   "execution_count": 22,
   "id": "524fe7f8-9144-4890-b9dc-104ddfcb89f9",
   "metadata": {
    "tags": []
   },
   "outputs": [
    {
     "data": {
      "text/plain": [
       "3"
      ]
     },
     "execution_count": 22,
     "metadata": {},
     "output_type": "execute_result"
    }
   ],
   "source": [
    "len(sheet_names)"
   ]
  },
  {
   "cell_type": "code",
   "execution_count": 23,
   "id": "6aeeff67-0aa6-49cd-81d2-c5f256da0902",
   "metadata": {
    "tags": []
   },
   "outputs": [
    {
     "data": {
      "text/html": [
       "<div>\n",
       "<style scoped>\n",
       "    .dataframe tbody tr th:only-of-type {\n",
       "        vertical-align: middle;\n",
       "    }\n",
       "\n",
       "    .dataframe tbody tr th {\n",
       "        vertical-align: top;\n",
       "    }\n",
       "\n",
       "    .dataframe thead th {\n",
       "        text-align: right;\n",
       "    }\n",
       "</style>\n",
       "<table border=\"1\" class=\"dataframe\">\n",
       "  <thead>\n",
       "    <tr style=\"text-align: right;\">\n",
       "      <th></th>\n",
       "      <th>row_key</th>\n",
       "      <th>a</th>\n",
       "      <th>b</th>\n",
       "      <th>c</th>\n",
       "    </tr>\n",
       "  </thead>\n",
       "  <tbody>\n",
       "    <tr>\n",
       "      <th>0</th>\n",
       "      <td>PatientA</td>\n",
       "      <td>alpha</td>\n",
       "      <td>bow</td>\n",
       "      <td>wow</td>\n",
       "    </tr>\n",
       "    <tr>\n",
       "      <th>1</th>\n",
       "      <td>PatientB</td>\n",
       "      <td>b eta</td>\n",
       "      <td>bow</td>\n",
       "      <td>ijn de bauw</td>\n",
       "    </tr>\n",
       "    <tr>\n",
       "      <th>2</th>\n",
       "      <td>PatientC</td>\n",
       "      <td>alpha</td>\n",
       "      <td>bow</td>\n",
       "      <td>bowwow</td>\n",
       "    </tr>\n",
       "    <tr>\n",
       "      <th>3</th>\n",
       "      <td>PatientD</td>\n",
       "      <td>b eta</td>\n",
       "      <td>bow</td>\n",
       "      <td>how</td>\n",
       "    </tr>\n",
       "    <tr>\n",
       "      <th>4</th>\n",
       "      <td>PatientE</td>\n",
       "      <td>theta</td>\n",
       "      <td>bow</td>\n",
       "      <td>now</td>\n",
       "    </tr>\n",
       "  </tbody>\n",
       "</table>\n",
       "</div>"
      ],
      "text/plain": [
       "    row_key      a    b            c\n",
       "0  PatientA  alpha  bow          wow\n",
       "1  PatientB  b eta  bow  ijn de bauw\n",
       "2  PatientC  alpha  bow       bowwow\n",
       "3  PatientD  b eta  bow          how\n",
       "4  PatientE  theta  bow          now"
      ]
     },
     "execution_count": 23,
     "metadata": {},
     "output_type": "execute_result"
    }
   ],
   "source": [
    "sheet1 = excel_file[sheet_names[0]]\n",
    "sheet1"
   ]
  },
  {
   "cell_type": "code",
   "execution_count": 24,
   "id": "c4294050-ffef-4a10-aa78-992fc04581f0",
   "metadata": {
    "tags": []
   },
   "outputs": [],
   "source": [
    "sheet2 = excel_file[sheet_names[1]]\n",
    "sheet3 = excel_file[sheet_names[1]]\n"
   ]
  },
  {
   "cell_type": "code",
   "execution_count": 25,
   "id": "514680fb-e9e0-4348-af7f-d7badca20ca0",
   "metadata": {
    "tags": []
   },
   "outputs": [
    {
     "data": {
      "text/html": [
       "<div>\n",
       "<style scoped>\n",
       "    .dataframe tbody tr th:only-of-type {\n",
       "        vertical-align: middle;\n",
       "    }\n",
       "\n",
       "    .dataframe tbody tr th {\n",
       "        vertical-align: top;\n",
       "    }\n",
       "\n",
       "    .dataframe thead th {\n",
       "        text-align: right;\n",
       "    }\n",
       "</style>\n",
       "<table border=\"1\" class=\"dataframe\">\n",
       "  <thead>\n",
       "    <tr style=\"text-align: right;\">\n",
       "      <th></th>\n",
       "      <th>row_key</th>\n",
       "      <th>a</th>\n",
       "      <th>b</th>\n",
       "      <th>c</th>\n",
       "      <th>blank</th>\n",
       "      <th>na</th>\n",
       "      <th>blanky</th>\n",
       "      <th>d</th>\n",
       "      <th>e</th>\n",
       "      <th>f</th>\n",
       "    </tr>\n",
       "  </thead>\n",
       "  <tbody>\n",
       "    <tr>\n",
       "      <th>0</th>\n",
       "      <td>PatientA</td>\n",
       "      <td>alpha</td>\n",
       "      <td>bow</td>\n",
       "      <td>wow</td>\n",
       "      <td>NaN</td>\n",
       "      <td>NaN</td>\n",
       "      <td>NaN</td>\n",
       "      <td>do</td>\n",
       "      <td>shcmu</td>\n",
       "      <td>do</td>\n",
       "    </tr>\n",
       "    <tr>\n",
       "      <th>1</th>\n",
       "      <td>PatientB</td>\n",
       "      <td>b eta</td>\n",
       "      <td>bow</td>\n",
       "      <td>ijn de bauw</td>\n",
       "      <td>NaN</td>\n",
       "      <td>NaN</td>\n",
       "      <td>NaN</td>\n",
       "      <td>do</td>\n",
       "      <td>do</td>\n",
       "      <td>schmu</td>\n",
       "    </tr>\n",
       "    <tr>\n",
       "      <th>2</th>\n",
       "      <td>PatientC</td>\n",
       "      <td>alpha</td>\n",
       "      <td>bow</td>\n",
       "      <td>bowwow</td>\n",
       "      <td>NaN</td>\n",
       "      <td>NaN</td>\n",
       "      <td>NaN</td>\n",
       "      <td>do</td>\n",
       "      <td>do</td>\n",
       "      <td>do</td>\n",
       "    </tr>\n",
       "    <tr>\n",
       "      <th>3</th>\n",
       "      <td>PatientD</td>\n",
       "      <td>b eta</td>\n",
       "      <td>bow</td>\n",
       "      <td>how</td>\n",
       "      <td>NaN</td>\n",
       "      <td>NaN</td>\n",
       "      <td>NaN</td>\n",
       "      <td>it</td>\n",
       "      <td>it</td>\n",
       "      <td>it</td>\n",
       "    </tr>\n",
       "    <tr>\n",
       "      <th>4</th>\n",
       "      <td>PatientE</td>\n",
       "      <td>theta</td>\n",
       "      <td>bow</td>\n",
       "      <td>now</td>\n",
       "      <td>NaN</td>\n",
       "      <td>NaN</td>\n",
       "      <td>NaN</td>\n",
       "      <td>now</td>\n",
       "      <td>now</td>\n",
       "      <td>now</td>\n",
       "    </tr>\n",
       "  </tbody>\n",
       "</table>\n",
       "</div>"
      ],
      "text/plain": [
       "    row_key      a    b            c  blank  na  blanky    d      e      f\n",
       "0  PatientA  alpha  bow          wow    NaN NaN     NaN   do  shcmu     do\n",
       "1  PatientB  b eta  bow  ijn de bauw    NaN NaN     NaN   do     do  schmu\n",
       "2  PatientC  alpha  bow       bowwow    NaN NaN     NaN   do     do     do\n",
       "3  PatientD  b eta  bow          how    NaN NaN     NaN  it     it     it \n",
       "4  PatientE  theta  bow          now    NaN NaN     NaN  now    now    now"
      ]
     },
     "execution_count": 25,
     "metadata": {},
     "output_type": "execute_result"
    }
   ],
   "source": [
    "sumsheet = sheet1.merge(sheet2, on='row_key')\n",
    "sumsheet"
   ]
  },
  {
   "cell_type": "code",
   "execution_count": 26,
   "id": "eec11289-0af1-4396-b957-698e499e75ff",
   "metadata": {
    "tags": []
   },
   "outputs": [
    {
     "data": {
      "text/html": [
       "<div>\n",
       "<style scoped>\n",
       "    .dataframe tbody tr th:only-of-type {\n",
       "        vertical-align: middle;\n",
       "    }\n",
       "\n",
       "    .dataframe tbody tr th {\n",
       "        vertical-align: top;\n",
       "    }\n",
       "\n",
       "    .dataframe thead th {\n",
       "        text-align: right;\n",
       "    }\n",
       "</style>\n",
       "<table border=\"1\" class=\"dataframe\">\n",
       "  <thead>\n",
       "    <tr style=\"text-align: right;\">\n",
       "      <th></th>\n",
       "      <th>row_key</th>\n",
       "      <th>blank</th>\n",
       "      <th>na</th>\n",
       "      <th>blanky</th>\n",
       "      <th>d</th>\n",
       "      <th>e</th>\n",
       "      <th>f</th>\n",
       "    </tr>\n",
       "  </thead>\n",
       "  <tbody>\n",
       "    <tr>\n",
       "      <th>0</th>\n",
       "      <td>PatientA</td>\n",
       "      <td>NaN</td>\n",
       "      <td>NaN</td>\n",
       "      <td>NaN</td>\n",
       "      <td>do</td>\n",
       "      <td>shcmu</td>\n",
       "      <td>do</td>\n",
       "    </tr>\n",
       "    <tr>\n",
       "      <th>1</th>\n",
       "      <td>PatientB</td>\n",
       "      <td>NaN</td>\n",
       "      <td>NaN</td>\n",
       "      <td>NaN</td>\n",
       "      <td>do</td>\n",
       "      <td>do</td>\n",
       "      <td>schmu</td>\n",
       "    </tr>\n",
       "    <tr>\n",
       "      <th>2</th>\n",
       "      <td>PatientC</td>\n",
       "      <td>NaN</td>\n",
       "      <td>NaN</td>\n",
       "      <td>NaN</td>\n",
       "      <td>do</td>\n",
       "      <td>do</td>\n",
       "      <td>do</td>\n",
       "    </tr>\n",
       "    <tr>\n",
       "      <th>3</th>\n",
       "      <td>PatientD</td>\n",
       "      <td>NaN</td>\n",
       "      <td>NaN</td>\n",
       "      <td>NaN</td>\n",
       "      <td>it</td>\n",
       "      <td>it</td>\n",
       "      <td>it</td>\n",
       "    </tr>\n",
       "    <tr>\n",
       "      <th>4</th>\n",
       "      <td>PatientE</td>\n",
       "      <td>NaN</td>\n",
       "      <td>NaN</td>\n",
       "      <td>NaN</td>\n",
       "      <td>now</td>\n",
       "      <td>now</td>\n",
       "      <td>now</td>\n",
       "    </tr>\n",
       "  </tbody>\n",
       "</table>\n",
       "</div>"
      ],
      "text/plain": [
       "    row_key  blank  na  blanky    d      e      f\n",
       "0  PatientA    NaN NaN     NaN   do  shcmu     do\n",
       "1  PatientB    NaN NaN     NaN   do     do  schmu\n",
       "2  PatientC    NaN NaN     NaN   do     do     do\n",
       "3  PatientD    NaN NaN     NaN  it     it     it \n",
       "4  PatientE    NaN NaN     NaN  now    now    now"
      ]
     },
     "execution_count": 26,
     "metadata": {},
     "output_type": "execute_result"
    }
   ],
   "source": [
    "sheet3"
   ]
  },
  {
   "cell_type": "code",
   "execution_count": 27,
   "id": "e243ec01-c631-4f7f-aba5-86a0a1400414",
   "metadata": {
    "tags": []
   },
   "outputs": [],
   "source": [
    "sumsheet = sumsheet.merge(sheet3, on='row_key')"
   ]
  },
  {
   "cell_type": "code",
   "execution_count": 28,
   "id": "174aacf3-3d48-4279-9e3f-f1975cb5af4a",
   "metadata": {
    "tags": []
   },
   "outputs": [
    {
     "data": {
      "text/html": [
       "<div>\n",
       "<style scoped>\n",
       "    .dataframe tbody tr th:only-of-type {\n",
       "        vertical-align: middle;\n",
       "    }\n",
       "\n",
       "    .dataframe tbody tr th {\n",
       "        vertical-align: top;\n",
       "    }\n",
       "\n",
       "    .dataframe thead th {\n",
       "        text-align: right;\n",
       "    }\n",
       "</style>\n",
       "<table border=\"1\" class=\"dataframe\">\n",
       "  <thead>\n",
       "    <tr style=\"text-align: right;\">\n",
       "      <th></th>\n",
       "      <th>row_key</th>\n",
       "      <th>a</th>\n",
       "      <th>b</th>\n",
       "      <th>c</th>\n",
       "      <th>blank_x</th>\n",
       "      <th>na_x</th>\n",
       "      <th>blanky_x</th>\n",
       "      <th>d_x</th>\n",
       "      <th>e_x</th>\n",
       "      <th>f_x</th>\n",
       "      <th>blank_y</th>\n",
       "      <th>na_y</th>\n",
       "      <th>blanky_y</th>\n",
       "      <th>d_y</th>\n",
       "      <th>e_y</th>\n",
       "      <th>f_y</th>\n",
       "    </tr>\n",
       "  </thead>\n",
       "  <tbody>\n",
       "    <tr>\n",
       "      <th>0</th>\n",
       "      <td>PatientA</td>\n",
       "      <td>alpha</td>\n",
       "      <td>bow</td>\n",
       "      <td>wow</td>\n",
       "      <td>NaN</td>\n",
       "      <td>NaN</td>\n",
       "      <td>NaN</td>\n",
       "      <td>do</td>\n",
       "      <td>shcmu</td>\n",
       "      <td>do</td>\n",
       "      <td>NaN</td>\n",
       "      <td>NaN</td>\n",
       "      <td>NaN</td>\n",
       "      <td>do</td>\n",
       "      <td>shcmu</td>\n",
       "      <td>do</td>\n",
       "    </tr>\n",
       "    <tr>\n",
       "      <th>1</th>\n",
       "      <td>PatientB</td>\n",
       "      <td>b eta</td>\n",
       "      <td>bow</td>\n",
       "      <td>ijn de bauw</td>\n",
       "      <td>NaN</td>\n",
       "      <td>NaN</td>\n",
       "      <td>NaN</td>\n",
       "      <td>do</td>\n",
       "      <td>do</td>\n",
       "      <td>schmu</td>\n",
       "      <td>NaN</td>\n",
       "      <td>NaN</td>\n",
       "      <td>NaN</td>\n",
       "      <td>do</td>\n",
       "      <td>do</td>\n",
       "      <td>schmu</td>\n",
       "    </tr>\n",
       "    <tr>\n",
       "      <th>2</th>\n",
       "      <td>PatientC</td>\n",
       "      <td>alpha</td>\n",
       "      <td>bow</td>\n",
       "      <td>bowwow</td>\n",
       "      <td>NaN</td>\n",
       "      <td>NaN</td>\n",
       "      <td>NaN</td>\n",
       "      <td>do</td>\n",
       "      <td>do</td>\n",
       "      <td>do</td>\n",
       "      <td>NaN</td>\n",
       "      <td>NaN</td>\n",
       "      <td>NaN</td>\n",
       "      <td>do</td>\n",
       "      <td>do</td>\n",
       "      <td>do</td>\n",
       "    </tr>\n",
       "    <tr>\n",
       "      <th>3</th>\n",
       "      <td>PatientD</td>\n",
       "      <td>b eta</td>\n",
       "      <td>bow</td>\n",
       "      <td>how</td>\n",
       "      <td>NaN</td>\n",
       "      <td>NaN</td>\n",
       "      <td>NaN</td>\n",
       "      <td>it</td>\n",
       "      <td>it</td>\n",
       "      <td>it</td>\n",
       "      <td>NaN</td>\n",
       "      <td>NaN</td>\n",
       "      <td>NaN</td>\n",
       "      <td>it</td>\n",
       "      <td>it</td>\n",
       "      <td>it</td>\n",
       "    </tr>\n",
       "    <tr>\n",
       "      <th>4</th>\n",
       "      <td>PatientE</td>\n",
       "      <td>theta</td>\n",
       "      <td>bow</td>\n",
       "      <td>now</td>\n",
       "      <td>NaN</td>\n",
       "      <td>NaN</td>\n",
       "      <td>NaN</td>\n",
       "      <td>now</td>\n",
       "      <td>now</td>\n",
       "      <td>now</td>\n",
       "      <td>NaN</td>\n",
       "      <td>NaN</td>\n",
       "      <td>NaN</td>\n",
       "      <td>now</td>\n",
       "      <td>now</td>\n",
       "      <td>now</td>\n",
       "    </tr>\n",
       "  </tbody>\n",
       "</table>\n",
       "</div>"
      ],
      "text/plain": [
       "    row_key      a    b            c  blank_x  na_x  blanky_x  d_x    e_x  \\\n",
       "0  PatientA  alpha  bow          wow      NaN   NaN       NaN   do  shcmu   \n",
       "1  PatientB  b eta  bow  ijn de bauw      NaN   NaN       NaN   do     do   \n",
       "2  PatientC  alpha  bow       bowwow      NaN   NaN       NaN   do     do   \n",
       "3  PatientD  b eta  bow          how      NaN   NaN       NaN  it     it    \n",
       "4  PatientE  theta  bow          now      NaN   NaN       NaN  now    now   \n",
       "\n",
       "     f_x  blank_y  na_y  blanky_y  d_y    e_y    f_y  \n",
       "0     do      NaN   NaN       NaN   do  shcmu     do  \n",
       "1  schmu      NaN   NaN       NaN   do     do  schmu  \n",
       "2     do      NaN   NaN       NaN   do     do     do  \n",
       "3    it       NaN   NaN       NaN  it     it     it   \n",
       "4    now      NaN   NaN       NaN  now    now    now  "
      ]
     },
     "execution_count": 28,
     "metadata": {},
     "output_type": "execute_result"
    }
   ],
   "source": [
    "sumsheet"
   ]
  },
  {
   "cell_type": "markdown",
   "id": "247a1560-8b1b-4579-98a3-849b3ff7b177",
   "metadata": {
    "tags": []
   },
   "source": [
    "# SO what was the bad idea here...we merged blank columsn with nothing in them...could we have dropped our empty columns beforehand?"
   ]
  },
  {
   "cell_type": "code",
   "execution_count": 29,
   "id": "d96d9a43-24cc-4d9a-a29d-a3a328dcd366",
   "metadata": {
    "tags": []
   },
   "outputs": [],
   "source": [
    "sumsheet.dropna(how='all', axis=1, inplace=True)"
   ]
  },
  {
   "cell_type": "code",
   "execution_count": 30,
   "id": "9227f153-8cc5-4ac6-a49b-ec0c15e35d17",
   "metadata": {
    "tags": []
   },
   "outputs": [
    {
     "data": {
      "text/html": [
       "<div>\n",
       "<style scoped>\n",
       "    .dataframe tbody tr th:only-of-type {\n",
       "        vertical-align: middle;\n",
       "    }\n",
       "\n",
       "    .dataframe tbody tr th {\n",
       "        vertical-align: top;\n",
       "    }\n",
       "\n",
       "    .dataframe thead th {\n",
       "        text-align: right;\n",
       "    }\n",
       "</style>\n",
       "<table border=\"1\" class=\"dataframe\">\n",
       "  <thead>\n",
       "    <tr style=\"text-align: right;\">\n",
       "      <th></th>\n",
       "      <th>row_key</th>\n",
       "      <th>a</th>\n",
       "      <th>b</th>\n",
       "      <th>c</th>\n",
       "      <th>d_x</th>\n",
       "      <th>e_x</th>\n",
       "      <th>f_x</th>\n",
       "      <th>d_y</th>\n",
       "      <th>e_y</th>\n",
       "      <th>f_y</th>\n",
       "    </tr>\n",
       "  </thead>\n",
       "  <tbody>\n",
       "    <tr>\n",
       "      <th>0</th>\n",
       "      <td>PatientA</td>\n",
       "      <td>alpha</td>\n",
       "      <td>bow</td>\n",
       "      <td>wow</td>\n",
       "      <td>do</td>\n",
       "      <td>shcmu</td>\n",
       "      <td>do</td>\n",
       "      <td>do</td>\n",
       "      <td>shcmu</td>\n",
       "      <td>do</td>\n",
       "    </tr>\n",
       "    <tr>\n",
       "      <th>1</th>\n",
       "      <td>PatientB</td>\n",
       "      <td>b eta</td>\n",
       "      <td>bow</td>\n",
       "      <td>ijn de bauw</td>\n",
       "      <td>do</td>\n",
       "      <td>do</td>\n",
       "      <td>schmu</td>\n",
       "      <td>do</td>\n",
       "      <td>do</td>\n",
       "      <td>schmu</td>\n",
       "    </tr>\n",
       "    <tr>\n",
       "      <th>2</th>\n",
       "      <td>PatientC</td>\n",
       "      <td>alpha</td>\n",
       "      <td>bow</td>\n",
       "      <td>bowwow</td>\n",
       "      <td>do</td>\n",
       "      <td>do</td>\n",
       "      <td>do</td>\n",
       "      <td>do</td>\n",
       "      <td>do</td>\n",
       "      <td>do</td>\n",
       "    </tr>\n",
       "    <tr>\n",
       "      <th>3</th>\n",
       "      <td>PatientD</td>\n",
       "      <td>b eta</td>\n",
       "      <td>bow</td>\n",
       "      <td>how</td>\n",
       "      <td>it</td>\n",
       "      <td>it</td>\n",
       "      <td>it</td>\n",
       "      <td>it</td>\n",
       "      <td>it</td>\n",
       "      <td>it</td>\n",
       "    </tr>\n",
       "    <tr>\n",
       "      <th>4</th>\n",
       "      <td>PatientE</td>\n",
       "      <td>theta</td>\n",
       "      <td>bow</td>\n",
       "      <td>now</td>\n",
       "      <td>now</td>\n",
       "      <td>now</td>\n",
       "      <td>now</td>\n",
       "      <td>now</td>\n",
       "      <td>now</td>\n",
       "      <td>now</td>\n",
       "    </tr>\n",
       "  </tbody>\n",
       "</table>\n",
       "</div>"
      ],
      "text/plain": [
       "    row_key      a    b            c  d_x    e_x    f_x  d_y    e_y    f_y\n",
       "0  PatientA  alpha  bow          wow   do  shcmu     do   do  shcmu     do\n",
       "1  PatientB  b eta  bow  ijn de bauw   do     do  schmu   do     do  schmu\n",
       "2  PatientC  alpha  bow       bowwow   do     do     do   do     do     do\n",
       "3  PatientD  b eta  bow          how  it     it     it   it     it     it \n",
       "4  PatientE  theta  bow          now  now    now    now  now    now    now"
      ]
     },
     "execution_count": 30,
     "metadata": {},
     "output_type": "execute_result"
    }
   ],
   "source": [
    "sumsheet"
   ]
  },
  {
   "cell_type": "code",
   "execution_count": 31,
   "id": "329c8d95-9936-482b-a006-852211724769",
   "metadata": {
    "tags": []
   },
   "outputs": [],
   "source": [
    "# So now, let's put this all togehter in a function:\n",
    "\n",
    "def csv_my_excel(excel_book_name, keyname):\n",
    "    # Read Excel file with multiple sheets\n",
    "    xls = pd.ExcelFile(excel_book_name)\n",
    "    # Get the list of sheet names\n",
    "    sheet_names = xls.sheet_names\n",
    "    sheet_number= len(sheet_names)\n",
    "    excel_file = pd.read_excel(excel_book_name, sheet_name= sheet_names)\n",
    "    sheet_list = []\n",
    "    for sheet_name in sheet_names:\n",
    "        sheet = excel_file[sheet_name]\n",
    "        sheet_list.append(sheet)\n",
    "    df_merged = reduce(lambda  left,right: pd.merge(left,right,on=keyname,\n",
    "                                            how='outer'), sheet_list)\n",
    "    df_merged.dropna(how='all', axis=1, inplace=True)\n",
    "    return df_merged\n",
    "    "
   ]
  },
  {
   "cell_type": "code",
   "execution_count": 32,
   "id": "7bbbd2b0-d14b-4c67-9579-13c78ec5d63d",
   "metadata": {
    "tags": []
   },
   "outputs": [
    {
     "data": {
      "text/html": [
       "<div>\n",
       "<style scoped>\n",
       "    .dataframe tbody tr th:only-of-type {\n",
       "        vertical-align: middle;\n",
       "    }\n",
       "\n",
       "    .dataframe tbody tr th {\n",
       "        vertical-align: top;\n",
       "    }\n",
       "\n",
       "    .dataframe thead th {\n",
       "        text-align: right;\n",
       "    }\n",
       "</style>\n",
       "<table border=\"1\" class=\"dataframe\">\n",
       "  <thead>\n",
       "    <tr style=\"text-align: right;\">\n",
       "      <th></th>\n",
       "      <th>row_key</th>\n",
       "      <th>a</th>\n",
       "      <th>b</th>\n",
       "      <th>c</th>\n",
       "      <th>d</th>\n",
       "      <th>e</th>\n",
       "      <th>f</th>\n",
       "      <th>fg</th>\n",
       "      <th>h</th>\n",
       "    </tr>\n",
       "  </thead>\n",
       "  <tbody>\n",
       "    <tr>\n",
       "      <th>0</th>\n",
       "      <td>PatientA</td>\n",
       "      <td>alpha</td>\n",
       "      <td>bow</td>\n",
       "      <td>wow</td>\n",
       "      <td>do</td>\n",
       "      <td>shcmu</td>\n",
       "      <td>do</td>\n",
       "      <td>4</td>\n",
       "      <td>2</td>\n",
       "    </tr>\n",
       "    <tr>\n",
       "      <th>1</th>\n",
       "      <td>PatientB</td>\n",
       "      <td>b eta</td>\n",
       "      <td>bow</td>\n",
       "      <td>ijn de bauw</td>\n",
       "      <td>do</td>\n",
       "      <td>do</td>\n",
       "      <td>schmu</td>\n",
       "      <td>5</td>\n",
       "      <td>4</td>\n",
       "    </tr>\n",
       "    <tr>\n",
       "      <th>2</th>\n",
       "      <td>PatientC</td>\n",
       "      <td>alpha</td>\n",
       "      <td>bow</td>\n",
       "      <td>bowwow</td>\n",
       "      <td>do</td>\n",
       "      <td>do</td>\n",
       "      <td>do</td>\n",
       "      <td>7</td>\n",
       "      <td>3</td>\n",
       "    </tr>\n",
       "    <tr>\n",
       "      <th>3</th>\n",
       "      <td>PatientD</td>\n",
       "      <td>b eta</td>\n",
       "      <td>bow</td>\n",
       "      <td>how</td>\n",
       "      <td>it</td>\n",
       "      <td>it</td>\n",
       "      <td>it</td>\n",
       "      <td>8</td>\n",
       "      <td>3</td>\n",
       "    </tr>\n",
       "    <tr>\n",
       "      <th>4</th>\n",
       "      <td>PatientE</td>\n",
       "      <td>theta</td>\n",
       "      <td>bow</td>\n",
       "      <td>now</td>\n",
       "      <td>now</td>\n",
       "      <td>now</td>\n",
       "      <td>now</td>\n",
       "      <td>9</td>\n",
       "      <td>3</td>\n",
       "    </tr>\n",
       "  </tbody>\n",
       "</table>\n",
       "</div>"
      ],
      "text/plain": [
       "    row_key      a    b            c    d      e      f  fg  h\n",
       "0  PatientA  alpha  bow          wow   do  shcmu     do   4  2\n",
       "1  PatientB  b eta  bow  ijn de bauw   do     do  schmu   5  4\n",
       "2  PatientC  alpha  bow       bowwow   do     do     do   7  3\n",
       "3  PatientD  b eta  bow          how  it     it     it    8  3\n",
       "4  PatientE  theta  bow          now  now    now    now   9  3"
      ]
     },
     "execution_count": 32,
     "metadata": {},
     "output_type": "execute_result"
    }
   ],
   "source": [
    "csv_my_excel(\"sample_synthetic_data/example_excel.xlsx\", \"row_key\")"
   ]
  },
  {
   "cell_type": "markdown",
   "id": "5e42421d-5490-41a3-94a1-267882d70f98",
   "metadata": {},
   "source": [
    "let's call it from our  budding lirbary"
   ]
  },
  {
   "cell_type": "code",
   "execution_count": 33,
   "id": "dee9fb88-6687-466b-b16e-706803dc24c3",
   "metadata": {
    "tags": []
   },
   "outputs": [
    {
     "data": {
      "text/html": [
       "<div>\n",
       "<style scoped>\n",
       "    .dataframe tbody tr th:only-of-type {\n",
       "        vertical-align: middle;\n",
       "    }\n",
       "\n",
       "    .dataframe tbody tr th {\n",
       "        vertical-align: top;\n",
       "    }\n",
       "\n",
       "    .dataframe thead th {\n",
       "        text-align: right;\n",
       "    }\n",
       "</style>\n",
       "<table border=\"1\" class=\"dataframe\">\n",
       "  <thead>\n",
       "    <tr style=\"text-align: right;\">\n",
       "      <th></th>\n",
       "      <th>row_key</th>\n",
       "      <th>a</th>\n",
       "      <th>b</th>\n",
       "      <th>c</th>\n",
       "      <th>d</th>\n",
       "      <th>e</th>\n",
       "      <th>f</th>\n",
       "      <th>fg</th>\n",
       "      <th>h</th>\n",
       "    </tr>\n",
       "  </thead>\n",
       "  <tbody>\n",
       "    <tr>\n",
       "      <th>0</th>\n",
       "      <td>PatientA</td>\n",
       "      <td>alpha</td>\n",
       "      <td>bow</td>\n",
       "      <td>wow</td>\n",
       "      <td>do</td>\n",
       "      <td>shcmu</td>\n",
       "      <td>do</td>\n",
       "      <td>4</td>\n",
       "      <td>2</td>\n",
       "    </tr>\n",
       "    <tr>\n",
       "      <th>1</th>\n",
       "      <td>PatientB</td>\n",
       "      <td>b eta</td>\n",
       "      <td>bow</td>\n",
       "      <td>ijn de bauw</td>\n",
       "      <td>do</td>\n",
       "      <td>do</td>\n",
       "      <td>schmu</td>\n",
       "      <td>5</td>\n",
       "      <td>4</td>\n",
       "    </tr>\n",
       "    <tr>\n",
       "      <th>2</th>\n",
       "      <td>PatientC</td>\n",
       "      <td>alpha</td>\n",
       "      <td>bow</td>\n",
       "      <td>bowwow</td>\n",
       "      <td>do</td>\n",
       "      <td>do</td>\n",
       "      <td>do</td>\n",
       "      <td>7</td>\n",
       "      <td>3</td>\n",
       "    </tr>\n",
       "    <tr>\n",
       "      <th>3</th>\n",
       "      <td>PatientD</td>\n",
       "      <td>b eta</td>\n",
       "      <td>bow</td>\n",
       "      <td>how</td>\n",
       "      <td>it</td>\n",
       "      <td>it</td>\n",
       "      <td>it</td>\n",
       "      <td>8</td>\n",
       "      <td>3</td>\n",
       "    </tr>\n",
       "    <tr>\n",
       "      <th>4</th>\n",
       "      <td>PatientE</td>\n",
       "      <td>theta</td>\n",
       "      <td>bow</td>\n",
       "      <td>now</td>\n",
       "      <td>now</td>\n",
       "      <td>now</td>\n",
       "      <td>now</td>\n",
       "      <td>9</td>\n",
       "      <td>3</td>\n",
       "    </tr>\n",
       "  </tbody>\n",
       "</table>\n",
       "</div>"
      ],
      "text/plain": [
       "    row_key      a    b            c    d      e      f  fg  h\n",
       "0  PatientA  alpha  bow          wow   do  shcmu     do   4  2\n",
       "1  PatientB  b eta  bow  ijn de bauw   do     do  schmu   5  4\n",
       "2  PatientC  alpha  bow       bowwow   do     do     do   7  3\n",
       "3  PatientD  b eta  bow          how  it     it     it    8  3\n",
       "4  PatientE  theta  bow          now  now    now    now   9  3"
      ]
     },
     "execution_count": 33,
     "metadata": {},
     "output_type": "execute_result"
    }
   ],
   "source": [
    "foundation.csv_my_excel(\"sample_synthetic_data/example_excel.xlsx\", \"row_key\")"
   ]
  },
  {
   "cell_type": "code",
   "execution_count": null,
   "id": "e0f6d633-f2ca-4208-a005-0fe075ceec1b",
   "metadata": {},
   "outputs": [],
   "source": []
  }
 ],
 "metadata": {
  "kernelspec": {
   "display_name": "Python 3 (ipykernel)",
   "language": "python",
   "name": "python3"
  },
  "language_info": {
   "codemirror_mode": {
    "name": "ipython",
    "version": 3
   },
   "file_extension": ".py",
   "mimetype": "text/x-python",
   "name": "python",
   "nbconvert_exporter": "python",
   "pygments_lexer": "ipython3",
   "version": "3.11.8"
  }
 },
 "nbformat": 4,
 "nbformat_minor": 5
}
