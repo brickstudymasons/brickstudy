{
 "cells": [
  {
   "cell_type": "markdown",
   "id": "0",
   "metadata": {},
   "source": [
    "# This is a demo to get you more familiar with how to merge tabular data"
   ]
  },
  {
   "cell_type": "code",
   "execution_count": null,
   "id": "1",
   "metadata": {
    "tags": []
   },
   "outputs": [],
   "source": [
    "import os\n",
    "import sys\n",
    "from functools import reduce\n",
    "import pandas as pd\n",
    "import numpy as np\n",
    "\n",
    "from brickstudy import foundation"
   ]
  },
  {
   "cell_type": "markdown",
   "id": "2",
   "metadata": {},
   "source": [
    "### now we will make some sample just data just as an example"
   ]
  },
  {
   "cell_type": "code",
   "execution_count": null,
   "id": "3",
   "metadata": {
    "tags": []
   },
   "outputs": [],
   "source": [
    "\n",
    "# initialize list of lists\n",
    "data1 = [['frank', 11], ['sushi', 15], ['julie', 14]]\n",
    " \n",
    "# Create the pandas DataFrame\n",
    "df1 = pd.DataFrame(data1, columns=['Name', 'Age'])\n",
    "df1"
   ]
  },
  {
   "cell_type": "code",
   "execution_count": null,
   "id": "4",
   "metadata": {
    "tags": []
   },
   "outputs": [],
   "source": [
    "data2 = [['frank', 'Zaandam'], ['julie', 'Rotterdam'], ['sushi', 'Amstersdam']]\n",
    " \n",
    "# Create the pandas DataFrame\n",
    "df2 = pd.DataFrame(data2, columns=['Name', 'City'])\n",
    "df2"
   ]
  },
  {
   "cell_type": "markdown",
   "id": "5",
   "metadata": {},
   "source": [
    "# We just made two datasets. Now we will merge them. Just sticking them together randomly will not work. We want to use the names as a key. We mant pandas to reorganize the dataframes, based on that key, so all the right info goes with the right person. "
   ]
  },
  {
   "cell_type": "code",
   "execution_count": null,
   "id": "6",
   "metadata": {
    "tags": []
   },
   "outputs": [],
   "source": [
    "merged = df1.merge(df2, left_on='Name', right_on='Name')"
   ]
  },
  {
   "cell_type": "code",
   "execution_count": null,
   "id": "7",
   "metadata": {
    "tags": []
   },
   "outputs": [],
   "source": [
    "merged"
   ]
  },
  {
   "cell_type": "markdown",
   "id": "8",
   "metadata": {},
   "source": [
    "## Ok that was easy. Let's move on to what you have...excel spreadsheets with keys named at random, which need to be matched (your computer is not psychic)"
   ]
  },
  {
   "cell_type": "code",
   "execution_count": null,
   "id": "9",
   "metadata": {
    "tags": []
   },
   "outputs": [],
   "source": [
    "# Scenario A: different common key\n",
    "\n",
    "# initialize list of lists\n",
    "data3 = [['frank', 11], ['sushi', 15], ['julie', 14]]\n",
    " \n",
    "# Create the pandas DataFrame\n",
    "df3 = pd.DataFrame(data1, columns=['Not_the_same', 'Age'])\n",
    "df3 "
   ]
  },
  {
   "cell_type": "code",
   "execution_count": null,
   "id": "10",
   "metadata": {
    "tags": []
   },
   "outputs": [],
   "source": [
    "data4 = [['frank', 'Zaandam'], ['julie', 'Rotterdam'], ['sushi', 'Amstersdam']]\n",
    " \n",
    "# Create the pandas DataFrame\n",
    "df4 = pd.DataFrame(data2, columns=['Key_is_notCommon', 'City'])\n",
    "df4"
   ]
  },
  {
   "cell_type": "code",
   "execution_count": null,
   "id": "11",
   "metadata": {
    "tags": []
   },
   "outputs": [],
   "source": [
    "merged2 = df3.merge(df4, left_on='Not_the_same', right_on='Key_is_notCommon')"
   ]
  },
  {
   "cell_type": "code",
   "execution_count": null,
   "id": "12",
   "metadata": {
    "tags": []
   },
   "outputs": [],
   "source": [
    "merged2"
   ]
  },
  {
   "cell_type": "markdown",
   "id": "13",
   "metadata": {},
   "source": [
    "# So that worked but now we have an extra column we don't need. We can drop it, but better to just name all the keys the same, and never anything else the same as the key"
   ]
  },
  {
   "cell_type": "markdown",
   "id": "14",
   "metadata": {},
   "source": [
    "# Now about excel spreadsheets. If we have a key for all the sheets, we can write a function to simply read each sheet as a csv, then merge them\n"
   ]
  },
  {
   "cell_type": "markdown",
   "id": "15",
   "metadata": {},
   "source": [
    "But we need to make sure they key columns actually match!\n",
    "Let's see an example when they do not by adding a row to df1"
   ]
  },
  {
   "cell_type": "code",
   "execution_count": null,
   "id": "16",
   "metadata": {
    "tags": []
   },
   "outputs": [],
   "source": [
    "df1"
   ]
  },
  {
   "cell_type": "code",
   "execution_count": null,
   "id": "17",
   "metadata": {
    "tags": []
   },
   "outputs": [],
   "source": [
    "df1.loc[len(df1.index)] = ['amy', 89]\n",
    "df1"
   ]
  },
  {
   "cell_type": "markdown",
   "id": "18",
   "metadata": {
    "tags": []
   },
   "source": [
    "df2"
   ]
  },
  {
   "cell_type": "code",
   "execution_count": null,
   "id": "19",
   "metadata": {
    "tags": []
   },
   "outputs": [],
   "source": [
    "\n",
    "merged5 = df1.merge(df2, left_on='Name', right_on='Name')\n",
    "merged5"
   ]
  },
  {
   "cell_type": "markdown",
   "id": "20",
   "metadata": {
    "tags": []
   },
   "source": [
    "# Where did poor Amy go? She was lost because we left the merge pattern on default.\n",
    "Let's try again"
   ]
  },
  {
   "cell_type": "code",
   "execution_count": null,
   "id": "21",
   "metadata": {
    "tags": []
   },
   "outputs": [],
   "source": [
    "merged5 = df1.merge(df2, how= 'outer',left_on='Name', right_on='Name')\n",
    "merged5"
   ]
  },
  {
   "cell_type": "markdown",
   "id": "22",
   "metadata": {
    "tags": []
   },
   "source": [
    "# This is just the basic level you need to know to start attaching more data once I am gone. I will build some functions to automate you tabular dta attachment this weeend."
   ]
  },
  {
   "cell_type": "markdown",
   "id": "23",
   "metadata": {
    "tags": []
   },
   "source": [
    "# part #2: dealing with Excel"
   ]
  },
  {
   "cell_type": "code",
   "execution_count": null,
   "id": "24",
   "metadata": {
    "tags": []
   },
   "outputs": [],
   "source": [
    "# Read Excel file with multiple sheets\n",
    "xls = pd.ExcelFile(\"sample_synthetic_data/example_excel.xlsx\")\n",
    "# Get the list of sheet names\n",
    "sheet_names = xls.sheet_names\n",
    "# Print the sheet names\n",
    "print(sheet_names)\n"
   ]
  },
  {
   "cell_type": "code",
   "execution_count": null,
   "id": "25",
   "metadata": {
    "tags": []
   },
   "outputs": [],
   "source": [
    "excel_file = pd.read_excel(\"sample_synthetic_data/example_excel.xlsx\", sheet_name= sheet_names )"
   ]
  },
  {
   "cell_type": "code",
   "execution_count": null,
   "id": "26",
   "metadata": {
    "tags": []
   },
   "outputs": [],
   "source": [
    "print(type(excel_file))\n"
   ]
  },
  {
   "cell_type": "markdown",
   "id": "27",
   "metadata": {
    "tags": []
   },
   "source": [
    "So now we made a dictionary of the excel file. Let's access all parts of it"
   ]
  },
  {
   "cell_type": "code",
   "execution_count": null,
   "id": "28",
   "metadata": {
    "tags": []
   },
   "outputs": [],
   "source": [
    "len(sheet_names)"
   ]
  },
  {
   "cell_type": "code",
   "execution_count": null,
   "id": "29",
   "metadata": {
    "tags": []
   },
   "outputs": [],
   "source": [
    "sheet1 = excel_file[sheet_names[0]]\n",
    "sheet1"
   ]
  },
  {
   "cell_type": "code",
   "execution_count": null,
   "id": "30",
   "metadata": {
    "tags": []
   },
   "outputs": [],
   "source": [
    "sheet2 = excel_file[sheet_names[1]]\n",
    "sheet3 = excel_file[sheet_names[1]]\n"
   ]
  },
  {
   "cell_type": "code",
   "execution_count": null,
   "id": "31",
   "metadata": {
    "tags": []
   },
   "outputs": [],
   "source": [
    "sumsheet = sheet1.merge(sheet2, on='row_key')\n",
    "sumsheet"
   ]
  },
  {
   "cell_type": "code",
   "execution_count": null,
   "id": "32",
   "metadata": {
    "tags": []
   },
   "outputs": [],
   "source": [
    "sheet3"
   ]
  },
  {
   "cell_type": "code",
   "execution_count": null,
   "id": "33",
   "metadata": {
    "tags": []
   },
   "outputs": [],
   "source": [
    "sumsheet = sumsheet.merge(sheet3, on='row_key')"
   ]
  },
  {
   "cell_type": "code",
   "execution_count": null,
   "id": "34",
   "metadata": {
    "tags": []
   },
   "outputs": [],
   "source": [
    "sumsheet"
   ]
  },
  {
   "cell_type": "markdown",
   "id": "35",
   "metadata": {
    "tags": []
   },
   "source": [
    "# SO what was the bad idea here...we merged blank columsn with nothing in them...could we have dropped our empty columns beforehand?"
   ]
  },
  {
   "cell_type": "code",
   "execution_count": null,
   "id": "36",
   "metadata": {
    "tags": []
   },
   "outputs": [],
   "source": [
    "sumsheet.dropna(how='all', axis=1, inplace=True)"
   ]
  },
  {
   "cell_type": "code",
   "execution_count": null,
   "id": "37",
   "metadata": {
    "tags": []
   },
   "outputs": [],
   "source": [
    "sumsheet"
   ]
  },
  {
   "cell_type": "code",
   "execution_count": null,
   "id": "38",
   "metadata": {
    "tags": []
   },
   "outputs": [],
   "source": [
    "# So now, let's put this all togehter in a function:\n",
    "\n",
    "def csv_my_excel(excel_book_name, keyname):\n",
    "    # Read Excel file with multiple sheets\n",
    "    xls = pd.ExcelFile(excel_book_name)\n",
    "    # Get the list of sheet names\n",
    "    sheet_names = xls.sheet_names\n",
    "    sheet_number= len(sheet_names)\n",
    "    excel_file = pd.read_excel(excel_book_name, sheet_name= sheet_names)\n",
    "    sheet_list = []\n",
    "    for sheet_name in sheet_names:\n",
    "        sheet = excel_file[sheet_name]\n",
    "        sheet_list.append(sheet)\n",
    "    df_merged = reduce(lambda  left,right: pd.merge(left,right,on=keyname,\n",
    "                                            how='outer'), sheet_list)\n",
    "    df_merged.dropna(how='all', axis=1, inplace=True)\n",
    "    return df_merged\n",
    "    "
   ]
  },
  {
   "cell_type": "code",
   "execution_count": null,
   "id": "39",
   "metadata": {
    "tags": []
   },
   "outputs": [],
   "source": [
    "csv_my_excel(\"sample_synthetic_data/example_excel.xlsx\", \"row_key\")"
   ]
  },
  {
   "cell_type": "markdown",
   "id": "40",
   "metadata": {},
   "source": [
    "let's call it from our  budding lirbary"
   ]
  },
  {
   "cell_type": "code",
   "execution_count": null,
   "id": "41",
   "metadata": {
    "tags": []
   },
   "outputs": [],
   "source": [
    "foundation.csv_my_excel(\"sample_synthetic_data/example_excel.xlsx\", \"row_key\")"
   ]
  },
  {
   "cell_type": "code",
   "execution_count": null,
   "id": "42",
   "metadata": {},
   "outputs": [],
   "source": []
  }
 ],
 "metadata": {
  "kernelspec": {
   "display_name": "Python 3 (ipykernel)",
   "language": "python",
   "name": "python3"
  },
  "language_info": {
   "codemirror_mode": {
    "name": "ipython",
    "version": 3
   },
   "file_extension": ".py",
   "mimetype": "text/x-python",
   "name": "python",
   "nbconvert_exporter": "python",
   "pygments_lexer": "ipython3",
   "version": "3.11.8"
  }
 },
 "nbformat": 4,
 "nbformat_minor": 5
}
